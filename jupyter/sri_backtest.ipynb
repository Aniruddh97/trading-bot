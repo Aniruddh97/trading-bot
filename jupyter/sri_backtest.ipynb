{
 "cells": [
  {
   "cell_type": "code",
   "execution_count": 1,
   "id": "1433e742",
   "metadata": {},
   "outputs": [],
   "source": [
    "import os\n",
    "import sys\n",
    "module_path = os.path.abspath(os.path.join('..'))\n",
    "if module_path not in sys.path:\n",
    "    sys.path.append(module_path)"
   ]
  },
  {
   "cell_type": "code",
   "execution_count": 2,
   "id": "b38552a6",
   "metadata": {
    "scrolled": true
   },
   "outputs": [
    {
     "name": "stderr",
     "output_type": "stream",
     "text": [
      "/usr/local/lib/python3.10/site-packages/tqdm/auto.py:21: TqdmWarning: IProgress not found. Please update jupyter and ipywidgets. See https://ipywidgets.readthedocs.io/en/stable/user_install.html\n",
      "  from .autonotebook import tqdm as notebook_tqdm\n",
      "/usr/local/lib/python3.10/site-packages/backtesting/_plotting.py:50: UserWarning: Jupyter Notebook detected. Setting Bokeh output to notebook. This may not work in Jupyter clients without JavaScript support (e.g. PyCharm, Spyder IDE). Reset with `backtesting.set_bokeh_output(notebook=False)`.\n",
      "  warnings.warn('Jupyter Notebook detected. '\n"
     ]
    },
    {
     "data": {
      "text/html": [
       "<style>\n",
       "        .bk-notebook-logo {\n",
       "            display: block;\n",
       "            width: 20px;\n",
       "            height: 20px;\n",
       "            background-image: url(data:image/png;base64,iVBORw0KGgoAAAANSUhEUgAAABQAAAAUCAYAAACNiR0NAAAABHNCSVQICAgIfAhkiAAAAAlwSFlzAAALEgAACxIB0t1+/AAAABx0RVh0U29mdHdhcmUAQWRvYmUgRmlyZXdvcmtzIENTNui8sowAAAOkSURBVDiNjZRtaJVlGMd/1/08zzln5zjP1LWcU9N0NkN8m2CYjpgQYQXqSs0I84OLIC0hkEKoPtiH3gmKoiJDU7QpLgoLjLIQCpEsNJ1vqUOdO7ppbuec5+V+rj4ctwzd8IIbbi6u+8f1539dt3A78eXC7QizUF7gyV1fD1Yqg4JWz84yffhm0qkFqBogB9rM8tZdtwVsPUhWhGcFJngGeWrPzHm5oaMmkfEg1usvLFyc8jLRqDOMru7AyC8saQr7GG7f5fvDeH7Ej8CM66nIF+8yngt6HWaKh7k49Soy9nXurCi1o3qUbS3zWfrYeQDTB/Qj6kX6Ybhw4B+bOYoLKCC9H3Nu/leUTZ1JdRWkkn2ldcCamzrcf47KKXdAJllSlxAOkRgyHsGC/zRday5Qld9DyoM4/q/rUoy/CXh3jzOu3bHUVZeU+DEn8FInkPBFlu3+nW3Nw0mk6vCDiWg8CeJaxEwuHS3+z5RgY+YBR6V1Z1nxSOfoaPa4LASWxxdNp+VWTk7+4vzaou8v8PN+xo+KY2xsw6une2frhw05CTYOmQvsEhjhWjn0bmXPjpE1+kplmmkP3suftwTubK9Vq22qKmrBhpY4jvd5afdRA3wGjFAgcnTK2s4hY0/GPNIb0nErGMCRxWOOX64Z8RAC4oCXdklmEvcL8o0BfkNK4lUg9HTl+oPlQxdNo3Mg4Nv175e/1LDGzZen30MEjRUtmXSfiTVu1kK8W4txyV6BMKlbgk3lMwYCiusNy9fVfvvwMxv8Ynl6vxoByANLTWplvuj/nF9m2+PDtt1eiHPBr1oIfhCChQMBw6Aw0UulqTKZdfVvfG7VcfIqLG9bcldL/+pdWTLxLUy8Qq38heUIjh4XlzZxzQm19lLFlr8vdQ97rjZVOLf8nclzckbcD4wxXMidpX30sFd37Fv/GtwwhzhxGVAprjbg0gCAEeIgwCZyTV2Z1REEW8O4py0wsjeloKoMr6iCY6dP92H6Vw/oTyICIthibxjm/DfN9lVz8IqtqKYLUXfoKVMVQVVJOElGjrnnUt9T9wbgp8AyYKaGlqingHZU/uG2NTZSVqwHQTWkx9hxjkpWDaCg6Ckj5qebgBVbT3V3NNXMSiWSDdGV3hrtzla7J+duwPOToIg42ChPQOQjspnSlp1V+Gjdged7+8UN5CRAV7a5EdFNwCjEaBR27b3W890TE7g24NAP/mMDXRWrGoFPQI9ls/MWO2dWFAar/xcOIImbbpA3zgAAAABJRU5ErkJggg==);\n",
       "        }\n",
       "    </style>\n",
       "    <div>\n",
       "        <a href=\"https://bokeh.org\" target=\"_blank\" class=\"bk-notebook-logo\"></a>\n",
       "        <span id=\"d55ecc51-a061-44ac-b5bb-bd027b0c26d4\">Loading BokehJS ...</span>\n",
       "    </div>\n"
      ]
     },
     "metadata": {},
     "output_type": "display_data"
    },
    {
     "data": {
      "application/javascript": [
       "(function(root) {\n",
       "  function now() {\n",
       "    return new Date();\n",
       "  }\n",
       "\n",
       "  const force = true;\n",
       "\n",
       "  if (typeof root._bokeh_onload_callbacks === \"undefined\" || force === true) {\n",
       "    root._bokeh_onload_callbacks = [];\n",
       "    root._bokeh_is_loading = undefined;\n",
       "  }\n",
       "\n",
       "const JS_MIME_TYPE = 'application/javascript';\n",
       "  const HTML_MIME_TYPE = 'text/html';\n",
       "  const EXEC_MIME_TYPE = 'application/vnd.bokehjs_exec.v0+json';\n",
       "  const CLASS_NAME = 'output_bokeh rendered_html';\n",
       "\n",
       "  /**\n",
       "   * Render data to the DOM node\n",
       "   */\n",
       "  function render(props, node) {\n",
       "    const script = document.createElement(\"script\");\n",
       "    node.appendChild(script);\n",
       "  }\n",
       "\n",
       "  /**\n",
       "   * Handle when an output is cleared or removed\n",
       "   */\n",
       "  function handleClearOutput(event, handle) {\n",
       "    const cell = handle.cell;\n",
       "\n",
       "    const id = cell.output_area._bokeh_element_id;\n",
       "    const server_id = cell.output_area._bokeh_server_id;\n",
       "    // Clean up Bokeh references\n",
       "    if (id != null && id in Bokeh.index) {\n",
       "      Bokeh.index[id].model.document.clear();\n",
       "      delete Bokeh.index[id];\n",
       "    }\n",
       "\n",
       "    if (server_id !== undefined) {\n",
       "      // Clean up Bokeh references\n",
       "      const cmd_clean = \"from bokeh.io.state import curstate; print(curstate().uuid_to_server['\" + server_id + \"'].get_sessions()[0].document.roots[0]._id)\";\n",
       "      cell.notebook.kernel.execute(cmd_clean, {\n",
       "        iopub: {\n",
       "          output: function(msg) {\n",
       "            const id = msg.content.text.trim();\n",
       "            if (id in Bokeh.index) {\n",
       "              Bokeh.index[id].model.document.clear();\n",
       "              delete Bokeh.index[id];\n",
       "            }\n",
       "          }\n",
       "        }\n",
       "      });\n",
       "      // Destroy server and session\n",
       "      const cmd_destroy = \"import bokeh.io.notebook as ion; ion.destroy_server('\" + server_id + \"')\";\n",
       "      cell.notebook.kernel.execute(cmd_destroy);\n",
       "    }\n",
       "  }\n",
       "\n",
       "  /**\n",
       "   * Handle when a new output is added\n",
       "   */\n",
       "  function handleAddOutput(event, handle) {\n",
       "    const output_area = handle.output_area;\n",
       "    const output = handle.output;\n",
       "\n",
       "    // limit handleAddOutput to display_data with EXEC_MIME_TYPE content only\n",
       "    if ((output.output_type != \"display_data\") || (!Object.prototype.hasOwnProperty.call(output.data, EXEC_MIME_TYPE))) {\n",
       "      return\n",
       "    }\n",
       "\n",
       "    const toinsert = output_area.element.find(\".\" + CLASS_NAME.split(' ')[0]);\n",
       "\n",
       "    if (output.metadata[EXEC_MIME_TYPE][\"id\"] !== undefined) {\n",
       "      toinsert[toinsert.length - 1].firstChild.textContent = output.data[JS_MIME_TYPE];\n",
       "      // store reference to embed id on output_area\n",
       "      output_area._bokeh_element_id = output.metadata[EXEC_MIME_TYPE][\"id\"];\n",
       "    }\n",
       "    if (output.metadata[EXEC_MIME_TYPE][\"server_id\"] !== undefined) {\n",
       "      const bk_div = document.createElement(\"div\");\n",
       "      bk_div.innerHTML = output.data[HTML_MIME_TYPE];\n",
       "      const script_attrs = bk_div.children[0].attributes;\n",
       "      for (let i = 0; i < script_attrs.length; i++) {\n",
       "        toinsert[toinsert.length - 1].firstChild.setAttribute(script_attrs[i].name, script_attrs[i].value);\n",
       "        toinsert[toinsert.length - 1].firstChild.textContent = bk_div.children[0].textContent\n",
       "      }\n",
       "      // store reference to server id on output_area\n",
       "      output_area._bokeh_server_id = output.metadata[EXEC_MIME_TYPE][\"server_id\"];\n",
       "    }\n",
       "  }\n",
       "\n",
       "  function register_renderer(events, OutputArea) {\n",
       "\n",
       "    function append_mime(data, metadata, element) {\n",
       "      // create a DOM node to render to\n",
       "      const toinsert = this.create_output_subarea(\n",
       "        metadata,\n",
       "        CLASS_NAME,\n",
       "        EXEC_MIME_TYPE\n",
       "      );\n",
       "      this.keyboard_manager.register_events(toinsert);\n",
       "      // Render to node\n",
       "      const props = {data: data, metadata: metadata[EXEC_MIME_TYPE]};\n",
       "      render(props, toinsert[toinsert.length - 1]);\n",
       "      element.append(toinsert);\n",
       "      return toinsert\n",
       "    }\n",
       "\n",
       "    /* Handle when an output is cleared or removed */\n",
       "    events.on('clear_output.CodeCell', handleClearOutput);\n",
       "    events.on('delete.Cell', handleClearOutput);\n",
       "\n",
       "    /* Handle when a new output is added */\n",
       "    events.on('output_added.OutputArea', handleAddOutput);\n",
       "\n",
       "    /**\n",
       "     * Register the mime type and append_mime function with output_area\n",
       "     */\n",
       "    OutputArea.prototype.register_mime_type(EXEC_MIME_TYPE, append_mime, {\n",
       "      /* Is output safe? */\n",
       "      safe: true,\n",
       "      /* Index of renderer in `output_area.display_order` */\n",
       "      index: 0\n",
       "    });\n",
       "  }\n",
       "\n",
       "  // register the mime type if in Jupyter Notebook environment and previously unregistered\n",
       "  if (root.Jupyter !== undefined) {\n",
       "    const events = require('base/js/events');\n",
       "    const OutputArea = require('notebook/js/outputarea').OutputArea;\n",
       "\n",
       "    if (OutputArea.prototype.mime_types().indexOf(EXEC_MIME_TYPE) == -1) {\n",
       "      register_renderer(events, OutputArea);\n",
       "    }\n",
       "  }\n",
       "  if (typeof (root._bokeh_timeout) === \"undefined\" || force === true) {\n",
       "    root._bokeh_timeout = Date.now() + 5000;\n",
       "    root._bokeh_failed_load = false;\n",
       "  }\n",
       "\n",
       "  const NB_LOAD_WARNING = {'data': {'text/html':\n",
       "     \"<div style='background-color: #fdd'>\\n\"+\n",
       "     \"<p>\\n\"+\n",
       "     \"BokehJS does not appear to have successfully loaded. If loading BokehJS from CDN, this \\n\"+\n",
       "     \"may be due to a slow or bad network connection. Possible fixes:\\n\"+\n",
       "     \"</p>\\n\"+\n",
       "     \"<ul>\\n\"+\n",
       "     \"<li>re-rerun `output_notebook()` to attempt to load from CDN again, or</li>\\n\"+\n",
       "     \"<li>use INLINE resources instead, as so:</li>\\n\"+\n",
       "     \"</ul>\\n\"+\n",
       "     \"<code>\\n\"+\n",
       "     \"from bokeh.resources import INLINE\\n\"+\n",
       "     \"output_notebook(resources=INLINE)\\n\"+\n",
       "     \"</code>\\n\"+\n",
       "     \"</div>\"}};\n",
       "\n",
       "  function display_loaded() {\n",
       "    const el = document.getElementById(\"d55ecc51-a061-44ac-b5bb-bd027b0c26d4\");\n",
       "    if (el != null) {\n",
       "      el.textContent = \"BokehJS is loading...\";\n",
       "    }\n",
       "    if (root.Bokeh !== undefined) {\n",
       "      if (el != null) {\n",
       "        el.textContent = \"BokehJS \" + root.Bokeh.version + \" successfully loaded.\";\n",
       "      }\n",
       "    } else if (Date.now() < root._bokeh_timeout) {\n",
       "      setTimeout(display_loaded, 100)\n",
       "    }\n",
       "  }\n",
       "\n",
       "  function run_callbacks() {\n",
       "    try {\n",
       "      root._bokeh_onload_callbacks.forEach(function(callback) {\n",
       "        if (callback != null)\n",
       "          callback();\n",
       "      });\n",
       "    } finally {\n",
       "      delete root._bokeh_onload_callbacks\n",
       "    }\n",
       "    console.debug(\"Bokeh: all callbacks have finished\");\n",
       "  }\n",
       "\n",
       "  function load_libs(css_urls, js_urls, callback) {\n",
       "    if (css_urls == null) css_urls = [];\n",
       "    if (js_urls == null) js_urls = [];\n",
       "\n",
       "    root._bokeh_onload_callbacks.push(callback);\n",
       "    if (root._bokeh_is_loading > 0) {\n",
       "      console.debug(\"Bokeh: BokehJS is being loaded, scheduling callback at\", now());\n",
       "      return null;\n",
       "    }\n",
       "    if (js_urls == null || js_urls.length === 0) {\n",
       "      run_callbacks();\n",
       "      return null;\n",
       "    }\n",
       "    console.debug(\"Bokeh: BokehJS not loaded, scheduling load and callback at\", now());\n",
       "    root._bokeh_is_loading = css_urls.length + js_urls.length;\n",
       "\n",
       "    function on_load() {\n",
       "      root._bokeh_is_loading--;\n",
       "      if (root._bokeh_is_loading === 0) {\n",
       "        console.debug(\"Bokeh: all BokehJS libraries/stylesheets loaded\");\n",
       "        run_callbacks()\n",
       "      }\n",
       "    }\n",
       "\n",
       "    function on_error(url) {\n",
       "      console.error(\"failed to load \" + url);\n",
       "    }\n",
       "\n",
       "    for (let i = 0; i < css_urls.length; i++) {\n",
       "      const url = css_urls[i];\n",
       "      const element = document.createElement(\"link\");\n",
       "      element.onload = on_load;\n",
       "      element.onerror = on_error.bind(null, url);\n",
       "      element.rel = \"stylesheet\";\n",
       "      element.type = \"text/css\";\n",
       "      element.href = url;\n",
       "      console.debug(\"Bokeh: injecting link tag for BokehJS stylesheet: \", url);\n",
       "      document.body.appendChild(element);\n",
       "    }\n",
       "\n",
       "    for (let i = 0; i < js_urls.length; i++) {\n",
       "      const url = js_urls[i];\n",
       "      const element = document.createElement('script');\n",
       "      element.onload = on_load;\n",
       "      element.onerror = on_error.bind(null, url);\n",
       "      element.async = false;\n",
       "      element.src = url;\n",
       "      console.debug(\"Bokeh: injecting script tag for BokehJS library: \", url);\n",
       "      document.head.appendChild(element);\n",
       "    }\n",
       "  };\n",
       "\n",
       "  function inject_raw_css(css) {\n",
       "    const element = document.createElement(\"style\");\n",
       "    element.appendChild(document.createTextNode(css));\n",
       "    document.body.appendChild(element);\n",
       "  }\n",
       "\n",
       "  const js_urls = [\"https://cdn.bokeh.org/bokeh/release/bokeh-3.2.0.min.js\", \"https://cdn.bokeh.org/bokeh/release/bokeh-gl-3.2.0.min.js\", \"https://cdn.bokeh.org/bokeh/release/bokeh-widgets-3.2.0.min.js\", \"https://cdn.bokeh.org/bokeh/release/bokeh-tables-3.2.0.min.js\", \"https://cdn.bokeh.org/bokeh/release/bokeh-mathjax-3.2.0.min.js\"];\n",
       "  const css_urls = [];\n",
       "\n",
       "  const inline_js = [    function(Bokeh) {\n",
       "      Bokeh.set_log_level(\"info\");\n",
       "    },\n",
       "function(Bokeh) {\n",
       "    }\n",
       "  ];\n",
       "\n",
       "  function run_inline_js() {\n",
       "    if (root.Bokeh !== undefined || force === true) {\n",
       "          for (let i = 0; i < inline_js.length; i++) {\n",
       "      inline_js[i].call(root, root.Bokeh);\n",
       "    }\n",
       "if (force === true) {\n",
       "        display_loaded();\n",
       "      }} else if (Date.now() < root._bokeh_timeout) {\n",
       "      setTimeout(run_inline_js, 100);\n",
       "    } else if (!root._bokeh_failed_load) {\n",
       "      console.log(\"Bokeh: BokehJS failed to load within specified timeout.\");\n",
       "      root._bokeh_failed_load = true;\n",
       "    } else if (force !== true) {\n",
       "      const cell = $(document.getElementById(\"d55ecc51-a061-44ac-b5bb-bd027b0c26d4\")).parents('.cell').data().cell;\n",
       "      cell.output_area.append_execute_result(NB_LOAD_WARNING)\n",
       "    }\n",
       "  }\n",
       "\n",
       "  if (root._bokeh_is_loading === 0) {\n",
       "    console.debug(\"Bokeh: BokehJS loaded, going straight to plotting\");\n",
       "    run_inline_js();\n",
       "  } else {\n",
       "    load_libs(css_urls, js_urls, function() {\n",
       "      console.debug(\"Bokeh: BokehJS plotting callback run at\", now());\n",
       "      run_inline_js();\n",
       "    });\n",
       "  }\n",
       "}(window));"
      ],
      "application/vnd.bokehjs_load.v0+json": "(function(root) {\n  function now() {\n    return new Date();\n  }\n\n  const force = true;\n\n  if (typeof root._bokeh_onload_callbacks === \"undefined\" || force === true) {\n    root._bokeh_onload_callbacks = [];\n    root._bokeh_is_loading = undefined;\n  }\n\n\n  if (typeof (root._bokeh_timeout) === \"undefined\" || force === true) {\n    root._bokeh_timeout = Date.now() + 5000;\n    root._bokeh_failed_load = false;\n  }\n\n  const NB_LOAD_WARNING = {'data': {'text/html':\n     \"<div style='background-color: #fdd'>\\n\"+\n     \"<p>\\n\"+\n     \"BokehJS does not appear to have successfully loaded. If loading BokehJS from CDN, this \\n\"+\n     \"may be due to a slow or bad network connection. Possible fixes:\\n\"+\n     \"</p>\\n\"+\n     \"<ul>\\n\"+\n     \"<li>re-rerun `output_notebook()` to attempt to load from CDN again, or</li>\\n\"+\n     \"<li>use INLINE resources instead, as so:</li>\\n\"+\n     \"</ul>\\n\"+\n     \"<code>\\n\"+\n     \"from bokeh.resources import INLINE\\n\"+\n     \"output_notebook(resources=INLINE)\\n\"+\n     \"</code>\\n\"+\n     \"</div>\"}};\n\n  function display_loaded() {\n    const el = document.getElementById(\"d55ecc51-a061-44ac-b5bb-bd027b0c26d4\");\n    if (el != null) {\n      el.textContent = \"BokehJS is loading...\";\n    }\n    if (root.Bokeh !== undefined) {\n      if (el != null) {\n        el.textContent = \"BokehJS \" + root.Bokeh.version + \" successfully loaded.\";\n      }\n    } else if (Date.now() < root._bokeh_timeout) {\n      setTimeout(display_loaded, 100)\n    }\n  }\n\n  function run_callbacks() {\n    try {\n      root._bokeh_onload_callbacks.forEach(function(callback) {\n        if (callback != null)\n          callback();\n      });\n    } finally {\n      delete root._bokeh_onload_callbacks\n    }\n    console.debug(\"Bokeh: all callbacks have finished\");\n  }\n\n  function load_libs(css_urls, js_urls, callback) {\n    if (css_urls == null) css_urls = [];\n    if (js_urls == null) js_urls = [];\n\n    root._bokeh_onload_callbacks.push(callback);\n    if (root._bokeh_is_loading > 0) {\n      console.debug(\"Bokeh: BokehJS is being loaded, scheduling callback at\", now());\n      return null;\n    }\n    if (js_urls == null || js_urls.length === 0) {\n      run_callbacks();\n      return null;\n    }\n    console.debug(\"Bokeh: BokehJS not loaded, scheduling load and callback at\", now());\n    root._bokeh_is_loading = css_urls.length + js_urls.length;\n\n    function on_load() {\n      root._bokeh_is_loading--;\n      if (root._bokeh_is_loading === 0) {\n        console.debug(\"Bokeh: all BokehJS libraries/stylesheets loaded\");\n        run_callbacks()\n      }\n    }\n\n    function on_error(url) {\n      console.error(\"failed to load \" + url);\n    }\n\n    for (let i = 0; i < css_urls.length; i++) {\n      const url = css_urls[i];\n      const element = document.createElement(\"link\");\n      element.onload = on_load;\n      element.onerror = on_error.bind(null, url);\n      element.rel = \"stylesheet\";\n      element.type = \"text/css\";\n      element.href = url;\n      console.debug(\"Bokeh: injecting link tag for BokehJS stylesheet: \", url);\n      document.body.appendChild(element);\n    }\n\n    for (let i = 0; i < js_urls.length; i++) {\n      const url = js_urls[i];\n      const element = document.createElement('script');\n      element.onload = on_load;\n      element.onerror = on_error.bind(null, url);\n      element.async = false;\n      element.src = url;\n      console.debug(\"Bokeh: injecting script tag for BokehJS library: \", url);\n      document.head.appendChild(element);\n    }\n  };\n\n  function inject_raw_css(css) {\n    const element = document.createElement(\"style\");\n    element.appendChild(document.createTextNode(css));\n    document.body.appendChild(element);\n  }\n\n  const js_urls = [\"https://cdn.bokeh.org/bokeh/release/bokeh-3.2.0.min.js\", \"https://cdn.bokeh.org/bokeh/release/bokeh-gl-3.2.0.min.js\", \"https://cdn.bokeh.org/bokeh/release/bokeh-widgets-3.2.0.min.js\", \"https://cdn.bokeh.org/bokeh/release/bokeh-tables-3.2.0.min.js\", \"https://cdn.bokeh.org/bokeh/release/bokeh-mathjax-3.2.0.min.js\"];\n  const css_urls = [];\n\n  const inline_js = [    function(Bokeh) {\n      Bokeh.set_log_level(\"info\");\n    },\nfunction(Bokeh) {\n    }\n  ];\n\n  function run_inline_js() {\n    if (root.Bokeh !== undefined || force === true) {\n          for (let i = 0; i < inline_js.length; i++) {\n      inline_js[i].call(root, root.Bokeh);\n    }\nif (force === true) {\n        display_loaded();\n      }} else if (Date.now() < root._bokeh_timeout) {\n      setTimeout(run_inline_js, 100);\n    } else if (!root._bokeh_failed_load) {\n      console.log(\"Bokeh: BokehJS failed to load within specified timeout.\");\n      root._bokeh_failed_load = true;\n    } else if (force !== true) {\n      const cell = $(document.getElementById(\"d55ecc51-a061-44ac-b5bb-bd027b0c26d4\")).parents('.cell').data().cell;\n      cell.output_area.append_execute_result(NB_LOAD_WARNING)\n    }\n  }\n\n  if (root._bokeh_is_loading === 0) {\n    console.debug(\"Bokeh: BokehJS loaded, going straight to plotting\");\n    run_inline_js();\n  } else {\n    load_libs(css_urls, js_urls, function() {\n      console.debug(\"Bokeh: BokehJS plotting callback run at\", now());\n      run_inline_js();\n    });\n  }\n}(window));"
     },
     "metadata": {},
     "output_type": "display_data"
    }
   ],
   "source": [
    "from backtesting import Strategy\n",
    "from backtesting import Backtest\n",
    "from indicators import SupportResistanceIndicator\n",
    "from datasource import getFullData\n",
    "from datemodule import getDateRange\n",
    "\n",
    "# import backtesting\n",
    "# backtesting.set_bokeh_output(notebook=True)\n",
    "\n",
    "class SupportResistanceBacktest(Strategy):\n",
    "    mysize = 0.01\n",
    "    \n",
    "    def init(self):\n",
    "        super().init()\n",
    "       \n",
    "        self.indicator = indicator\n",
    "        self.signal = self.I(lambda : indicator.df.Signal)\n",
    "\n",
    "    def next(self):\n",
    "        super().next()\n",
    "        RRR = 1.5\n",
    "\n",
    "        if self.signal==2 and len(self.trades)==0:   \n",
    "            # stoploss = just below support\n",
    "            supportLevel = self.indicator.df['Level'][len(self.data)-1]\n",
    "            sl = supportLevel - self.indicator.proximity\n",
    "            # target = LTP + (stoploss * RRR)\n",
    "            tp = self.data.Close[-1] + abs(self.data.Close[-1]-sl)*RRR\n",
    "            # place BUY order\n",
    "            self.buy(sl=sl, tp=tp, size=self.mysize, limit=None)\n",
    "        \n",
    "        elif self.signal==1 and len(self.trades)==0: \n",
    "            # stoploss = just above resistance\n",
    "            resistanceLevel = self.indicator.df['Level'][len(self.data)-1]\n",
    "            sl = resistanceLevel + self.indicator.proximity\n",
    "            # target = LTP - (stoploss * RRR)\n",
    "            tp = self.data.Close[-1] - abs(self.data.Close[-1]-sl)*RRR\n",
    "            # place SELL order\n",
    "            self.sell(sl=sl, tp=tp, size=self.mysize, limit=None)"
   ]
  },
  {
   "cell_type": "code",
   "execution_count": 3,
   "id": "f845548a",
   "metadata": {},
   "outputs": [],
   "source": [
    "ticker = \"TATAPOWER\"\n",
    "startDate, endDate = getDateRange('2y')\n",
    "data = getFullData(ticker=ticker, start=startDate, end=endDate)"
   ]
  },
  {
   "cell_type": "code",
   "execution_count": 4,
   "id": "df23c425",
   "metadata": {
    "scrolled": false
   },
   "outputs": [
    {
     "name": "stderr",
     "output_type": "stream",
     "text": [
      "/tmp/ipykernel_603/3768875459.py:3: UserWarning: Data index is not datetime. Assuming simple periods, but `pd.DateTimeIndex` is advised.\n",
      "  bt = Backtest(data, SupportResistanceBacktest, cash=300000, margin=1/10, commission=.002)\n"
     ]
    },
    {
     "data": {
      "text/plain": [
       "Start                                     0.0\n",
       "End                                     494.0\n",
       "Duration                                494.0\n",
       "Exposure Time [%]                    7.272727\n",
       "Equity Final [$]                299217.622136\n",
       "Equity Peak [$]                      300000.0\n",
       "Return [%]                          -0.260793\n",
       "Buy & Hold Return [%]               83.206107\n",
       "Return (Ann.) [%]                         0.0\n",
       "Volatility (Ann.) [%]                     NaN\n",
       "Sharpe Ratio                              NaN\n",
       "Sortino Ratio                             NaN\n",
       "Calmar Ratio                              0.0\n",
       "Max. Drawdown [%]                    -0.89131\n",
       "Avg. Drawdown [%]                    -0.89131\n",
       "Max. Drawdown Duration                  473.0\n",
       "Avg. Drawdown Duration                  473.0\n",
       "# Trades                                 18.0\n",
       "Win Rate [%]                        44.444444\n",
       "Best Trade [%]                       3.644963\n",
       "Worst Trade [%]                     -3.998059\n",
       "Avg. Trade [%]                      -0.169652\n",
       "Max. Trade Duration                       7.0\n",
       "Avg. Trade Duration                       1.0\n",
       "Profit Factor                        0.873913\n",
       "Expectancy [%]                      -0.142301\n",
       "SQN                                  -0.25784\n",
       "_strategy                 SupportResistanc...\n",
       "_equity_curve                         Equi...\n",
       "_trades                       Size  EntryB...\n",
       "dtype: object"
      ]
     },
     "execution_count": 4,
     "metadata": {},
     "output_type": "execute_result"
    }
   ],
   "source": [
    "indicator = SupportResistanceIndicator(data=data, window=9, backCandles=5, tickerName=ticker)\n",
    "indicator.calculate()\n",
    "bt = Backtest(data, SupportResistanceBacktest, cash=300000, margin=1/10, commission=.002)\n",
    "bt.run()"
   ]
  },
  {
   "cell_type": "code",
   "execution_count": 5,
   "id": "fd1701ba",
   "metadata": {
    "scrolled": false
   },
   "outputs": [
    {
     "data": {
      "text/html": [
       "\n",
       "  <div id=\"c935b484-f6e0-44ed-bd54-3aec73b5683b\" data-root-id=\"p1307\" style=\"display: contents;\"></div>\n"
      ]
     },
     "metadata": {},
     "output_type": "display_data"
    },
    {
     "data": {
      "application/javascript": [
       "(function(root) {\n",
       "  function embed_document(root) {\n",
       "  const docs_json = {\"df17c158-5aac-43ee-9665-1a297dd82cfb\":{\"version\":\"3.2.0\",\"title\":\"Bokeh Application\",\"roots\":[{\"type\":\"object\",\"name\":\"GridPlot\",\"id\":\"p1307\",\"attributes\":{\"rows\":null,\"cols\":null,\"sizing_mode\":\"stretch_width\",\"toolbar\":{\"type\":\"object\",\"name\":\"Toolbar\",\"id\":\"p1306\",\"attributes\":{\"logo\":null,\"tools\":[{\"type\":\"object\",\"name\":\"ToolProxy\",\"id\":\"p1298\",\"attributes\":{\"tools\":[{\"type\":\"object\",\"name\":\"PanTool\",\"id\":\"p1061\",\"attributes\":{\"dimensions\":\"width\"}},{\"type\":\"object\",\"name\":\"PanTool\",\"id\":\"p1154\",\"attributes\":{\"dimensions\":\"width\"}},{\"type\":\"object\",\"name\":\"PanTool\",\"id\":\"p1023\",\"attributes\":{\"dimensions\":\"width\"}},{\"type\":\"object\",\"name\":\"PanTool\",\"id\":\"p1205\",\"attributes\":{\"dimensions\":\"width\"}},{\"type\":\"object\",\"name\":\"PanTool\",\"id\":\"p1274\",\"attributes\":{\"dimensions\":\"width\"}}]}},{\"type\":\"object\",\"name\":\"ToolProxy\",\"id\":\"p1299\",\"attributes\":{\"tools\":[{\"type\":\"object\",\"name\":\"WheelZoomTool\",\"id\":\"p1062\",\"attributes\":{\"dimensions\":\"width\",\"maintain_focus\":false}},{\"type\":\"object\",\"name\":\"WheelZoomTool\",\"id\":\"p1155\",\"attributes\":{\"dimensions\":\"width\",\"maintain_focus\":false}},{\"type\":\"object\",\"name\":\"WheelZoomTool\",\"id\":\"p1024\",\"attributes\":{\"dimensions\":\"width\",\"maintain_focus\":false}},{\"type\":\"object\",\"name\":\"WheelZoomTool\",\"id\":\"p1206\",\"attributes\":{\"dimensions\":\"width\",\"maintain_focus\":false}},{\"type\":\"object\",\"name\":\"WheelZoomTool\",\"id\":\"p1275\",\"attributes\":{\"dimensions\":\"width\",\"maintain_focus\":false}}]}},{\"type\":\"object\",\"name\":\"ToolProxy\",\"id\":\"p1300\",\"attributes\":{\"tools\":[{\"type\":\"object\",\"name\":\"BoxZoomTool\",\"id\":\"p1063\",\"attributes\":{\"overlay\":{\"type\":\"object\",\"name\":\"BoxAnnotation\",\"id\":\"p1064\",\"attributes\":{\"syncable\":false,\"level\":\"overlay\",\"visible\":false,\"left_units\":\"canvas\",\"right_units\":\"canvas\",\"bottom_units\":\"canvas\",\"top_units\":\"canvas\",\"line_color\":\"black\",\"line_alpha\":1.0,\"line_width\":2,\"line_dash\":[4,4],\"fill_color\":\"lightgrey\",\"fill_alpha\":0.5}}}},{\"type\":\"object\",\"name\":\"BoxZoomTool\",\"id\":\"p1156\",\"attributes\":{\"overlay\":{\"type\":\"object\",\"name\":\"BoxAnnotation\",\"id\":\"p1157\",\"attributes\":{\"syncable\":false,\"level\":\"overlay\",\"visible\":false,\"left_units\":\"canvas\",\"right_units\":\"canvas\",\"bottom_units\":\"canvas\",\"top_units\":\"canvas\",\"line_color\":\"black\",\"line_alpha\":1.0,\"line_width\":2,\"line_dash\":[4,4],\"fill_color\":\"lightgrey\",\"fill_alpha\":0.5}}}},{\"type\":\"object\",\"name\":\"BoxZoomTool\",\"id\":\"p1025\",\"attributes\":{\"overlay\":{\"type\":\"object\",\"name\":\"BoxAnnotation\",\"id\":\"p1026\",\"attributes\":{\"syncable\":false,\"level\":\"overlay\",\"visible\":false,\"left_units\":\"canvas\",\"right_units\":\"canvas\",\"bottom_units\":\"canvas\",\"top_units\":\"canvas\",\"line_color\":\"black\",\"line_alpha\":1.0,\"line_width\":2,\"line_dash\":[4,4],\"fill_color\":\"lightgrey\",\"fill_alpha\":0.5}}}},{\"type\":\"object\",\"name\":\"BoxZoomTool\",\"id\":\"p1207\",\"attributes\":{\"overlay\":{\"type\":\"object\",\"name\":\"BoxAnnotation\",\"id\":\"p1208\",\"attributes\":{\"syncable\":false,\"level\":\"overlay\",\"visible\":false,\"left_units\":\"canvas\",\"right_units\":\"canvas\",\"bottom_units\":\"canvas\",\"top_units\":\"canvas\",\"line_color\":\"black\",\"line_alpha\":1.0,\"line_width\":2,\"line_dash\":[4,4],\"fill_color\":\"lightgrey\",\"fill_alpha\":0.5}}}},{\"type\":\"object\",\"name\":\"BoxZoomTool\",\"id\":\"p1276\",\"attributes\":{\"overlay\":{\"type\":\"object\",\"name\":\"BoxAnnotation\",\"id\":\"p1277\",\"attributes\":{\"syncable\":false,\"level\":\"overlay\",\"visible\":false,\"left_units\":\"canvas\",\"right_units\":\"canvas\",\"bottom_units\":\"canvas\",\"top_units\":\"canvas\",\"line_color\":\"black\",\"line_alpha\":1.0,\"line_width\":2,\"line_dash\":[4,4],\"fill_color\":\"lightgrey\",\"fill_alpha\":0.5}}}}]}},{\"type\":\"object\",\"name\":\"ToolProxy\",\"id\":\"p1301\",\"attributes\":{\"tools\":[{\"type\":\"object\",\"name\":\"UndoTool\",\"id\":\"p1065\"},{\"type\":\"object\",\"name\":\"UndoTool\",\"id\":\"p1158\"},{\"type\":\"object\",\"name\":\"UndoTool\",\"id\":\"p1027\"},{\"type\":\"object\",\"name\":\"UndoTool\",\"id\":\"p1209\"},{\"type\":\"object\",\"name\":\"UndoTool\",\"id\":\"p1278\"}]}},{\"type\":\"object\",\"name\":\"ToolProxy\",\"id\":\"p1302\",\"attributes\":{\"tools\":[{\"type\":\"object\",\"name\":\"RedoTool\",\"id\":\"p1066\"},{\"type\":\"object\",\"name\":\"RedoTool\",\"id\":\"p1159\"},{\"type\":\"object\",\"name\":\"RedoTool\",\"id\":\"p1028\"},{\"type\":\"object\",\"name\":\"RedoTool\",\"id\":\"p1210\"},{\"type\":\"object\",\"name\":\"RedoTool\",\"id\":\"p1279\"}]}},{\"type\":\"object\",\"name\":\"ToolProxy\",\"id\":\"p1303\",\"attributes\":{\"tools\":[{\"type\":\"object\",\"name\":\"ResetTool\",\"id\":\"p1067\"},{\"type\":\"object\",\"name\":\"ResetTool\",\"id\":\"p1160\"},{\"type\":\"object\",\"name\":\"ResetTool\",\"id\":\"p1029\"},{\"type\":\"object\",\"name\":\"ResetTool\",\"id\":\"p1211\"},{\"type\":\"object\",\"name\":\"ResetTool\",\"id\":\"p1280\"}]}},{\"type\":\"object\",\"name\":\"SaveTool\",\"id\":\"p1304\"},{\"type\":\"object\",\"name\":\"HoverTool\",\"id\":\"p1090\",\"attributes\":{\"renderers\":[{\"type\":\"object\",\"name\":\"GlyphRenderer\",\"id\":\"p1087\",\"attributes\":{\"data_source\":{\"type\":\"object\",\"name\":\"ColumnDataSource\",\"id\":\"p1031\",\"attributes\":{\"selected\":{\"type\":\"object\",\"name\":\"Selection\",\"id\":\"p1032\",\"attributes\":{\"indices\":[],\"line_indices\":[]}},\"selection_policy\":{\"type\":\"object\",\"name\":\"UnionRenderers\",\"id\":\"p1033\"},\"data\":{\"type\":\"map\",\"entries\":[[\"index\",{\"type\":\"ndarray\",\"array\":{\"type\":\"bytes\",\"data\":\"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\"},\"shape\":[495],\"dtype\":\"int32\",\"order\":\"little\"}],[\"Open\",{\"type\":\"ndarray\",\"array\":{\"type\":\"bytes\",\"data\":\"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\"},\"shape\":[495],\"dtype\":\"float64\",\"order\":\"little\"}],[\"High\",{\"type\":\"ndarray\",\"array\":{\"type\":\"bytes\",\"data\":\"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\"},\"shape\":[495],\"dtype\":\"float64\",\"order\":\"little\"}],[\"Low\",{\"type\":\"ndarray\",\"array\":{\"type\":\"bytes\",\"data\":\"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\"},\"shape\":[495],\"dtype\":\"float64\",\"order\":\"little\"}],[\"Close\",{\"type\":\"ndarray\",\"array\":{\"type\":\"bytes\",\"data\":\"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\"},\"shape\":[495],\"dtype\":\"float64\",\"order\":\"little\"}],[\"Volume\",{\"type\":\"ndarray\",\"array\":{\"type\":\"bytes\",\"data\":\"0mdvAaXjlwFivyYBKipjAdmqVwE8sM0AUzHpA0/46AJQxT4B2OkXAZds4gDTm/gA680oAYO6+QCWQcwBqdIZBvPrAQNlGwMCnp9hAgWC2AKEbfwD8A3hAaCt6wFrvOYBUN1pAWCcCgGZ9EsBDekTAU0fogF5ZdAB0wxcAVncFAEB6gIB++jBADi5CwGGz3IBMY7bAUixgQE07SEBHEbaANkv3gABgvkAUIvcAMwk0gDfB8sARJcbBJeydQGLi6QBdJlIAaS4VwHgWEUBZXOOAsAfuwHwlxUBWIK9AW4BjgenVqIGFwhiBdUVlwUDjpsJ6q8IBhKuXgQZtZUC2EuHB99pQQamfy4SFOyQBzqtThB/K6YO/AkSDYY46QSkpxwFxq98BZbMvAZo/a4EG8HbAwND2wYow44DY6l1BRSO+gKfwOIAUCU2A1xOMQYSEtoCgo4BA+pzgQIqHPEBKwLZAoh9ggNBBeQEmg+5A44zpQMyRAsEmxAWA/BcxgSpWPUE/ipEDaJHAATC7K4ESKXeAlrjDAKNtCkCFRPPAQTWZgHhRJIBbzBoApLceAE1HzMBGjNsAulAUAK5kdsCZKL3ASxwSgFTfwIB8GkeAWgo8gBF0CIBf1HdADtu2gC2XcIAKeAiAeRz7wHsiQcBbS6kAYnhDwIjo1ABHu+EATtv8gFLxP4Cx6ozAi2lggEE/s8B6sgwAlEsJQJYyx0CMGSUAnb0WQL/GSQCz8oOApeMfAE7+msElfR/AUYMpwFs0FcCcgv0AVkL5ARrRh8CZpJJA8gXJgKFcEgCvB0qAl5CGAJqxWQBdJwdAStAeAElAcABQtlnAYAClQP33BsDL88dAoHHrwFmQFYBJTdWAUeQZgGKN3MCwCWEASmHhAFvJRUBPz64AEdx9gAAo70A0Q77AJyLvAD+QeMAOUDCAQ4M4QHrk3IBR1/iAJMbMgEPVV0BrvPUAO6khwGO5lgC3P6iBSwnkA1nvAIJMvTVA1cC3AJEJ6sCiAvgAV2IWgU5FjAD3lx6AgbHawJsctIBAa93AcAhEgEntegB+xM/AY1PkAEz5pQBOavVAXfccgFd7KsBWimiA4L1zQHnixcCpGS/AXUy+QFao1IBLwcSAtaKfQGKmGkBjSUXAfHy/QBjGw0BBBz3ANt/FQIwkvYA8zYsATGZSAFw6OEAOuPKAM51rgD5XbIAX8vkAFnzyQCMRJwABciSANHRJAGDvPcAY1+0AMYdVwGkAjgBhwW+AutOaAKsbSMBzt0zARYvAAFHrxoBIEbLAPfXuQBtmvYA+TXxAEeI4ADF2hUBHLbGAD8/4gAuwREB8tLkAAAd2gA/OqkA/EWoAARLyQDPY6gAmr51AEETmwBTLKsAGx++AKwtmwDjG7AARdoBAqagWgELBiIBQtlPARu0NAGK2YYBwx1AAZkG+wGD2rQAwtStAFxPjADSnWMBLbceAVKNagHshegANHFgAS/GPwFWvyMB5ZLdAGDM0gC8BygBqB/XAEPBzABBNuAAmme8ACM6oADvCaoDdwHRAUMj5ACKiLsAXYKdAAqo0wBYs3EBZjIlAY+udQN94NUAWFWeAOxb2ADmzisB+lX2AH8kWgHfHNcArKm4AC7kHQHmfMYAa8elAF1/qgAtT6EAXFqpAN81kQB/bIkABgeRACDckQAjWoUAQr2PAIyqnAB7rXUAjGJ4AN1nfAAQKCwA0PGJAA8RwwDZhsgAOlZaAbUQAwFJoJAAZceKANF4hACUCJIA4K/9AAZ9iAAfxm4ACY5vAAUOYgAptKIAzvSiAFjHdQAMBF8AuWxsAJ8JWwB25WQALgd7AOW9cACcE14AHIWGAPKFdwDqN24AkgqkAH9CMgGYLXMAB5ByAC6yxwCdK4cAUdtuAMkRjADKrngARuudAGDxjQCK8WEAW5aUAMju1QBCrT0B2MIVAf7VtAALHYgAc5nqAAqAcACbNXYANXNuABIV2QAmv5wA3oeSADUvZQDn030A975rAO0cXgDahlgAgRRDADecVgCKpkUA9/hLAGIXYQCUxkYAePhjAIa4kwCCUc4A8sudABV1AAHlLiIBByuWAK8HogATQhEB2IV7ACUJfgCCDGAA+ylUAMhvaAAHNk4AGn5gAOowSgCYn1oANLh2AEHs5QCPnuUAwp6jAMOJTwCaBb0AH69nAMo4YwDQ+l8AEmmMALh+tgBa+24AzylyAPMPWwCYo24A/yBvADpZVgAyMXIAXaBhAPEWXQA6nkMAKF9zAObnUQDbTPQA0nlTAYN3twDtvAoBDkzOAF3I4wDRDncAOseHAMdLdgDNo0sA/t58ABZkYgDkk0gAhtZAAOENZwCA3VwAz0U9AB+QTACv51oA9e5KAMyVTwAdVXkA3f9oALHcgwDTTH0A7Un5AEnedQCTaXkAmbNMAGoeiQBMdW8Ar9pmABeoFQFX+YoAE9x9ANFeiQDKGlUANJBMACMeUwAX1oQAkFWBAAOzxQCEurYAaGqsAOSCYACV5UoA5pSEAPCpfgBrwq0AruHZAc2IqADIxmAA211fAORcoAAH9nQA4+VsAMgJcgBSO6sAnaBqAC+haAC6LKYAXmBOAKChRwASV38AIqyXALxkWAAoKUYALrZZAIdG1wFGLf0A\"},\"shape\":[495],\"dtype\":\"int32\",\"order\":\"little\"}],[\"datetime\",{\"type\":\"ndarray\",\"array\":{\"type\":\"bytes\",\"data\":\"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\"},\"shape\":[495],\"dtype\":\"int32\",\"order\":\"little\"}],[\"inc\",{\"type\":\"ndarray\",\"array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shape\":[495],\"dtype\":\"object\",\"order\":\"little\"}],[\"equity\",{\"type\":\"ndarray\",\"array\":{\"type\":\"bytes\",\"data\":\"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\"},\"shape\":[495],\"dtype\":\"float64\",\"order\":\"little\"}],[\"\\u03bb_0_1\",{\"type\":\"ndarray\",\"array\":{\"type\":\"bytes\",\"data\":\"AAAAAAAAAAAAAAAAAAAAAAAAAAAAAAAAAAAAAAAAAAAAAAAAAAAAAAAAAAAAAAAAAAAAAAAAAAAAAAAAAAAAAAAAAAAAAAAAAAAAAAAAAAAAAAAAAgAAAAAAAAAAAAAAAAAAAAAAAAAAAAAAAAAAAAAAAAAAAAAAAAAAAAAAAAAAAAAAAAAAAAAAAAAAAAAAAAAAAAAAAAAAAAAAAAAAAAAAAAAAAAAAAAAAAAAAAAAAAAAAAAAAAAAAAAAAAAAAAAAAAAAAAAAAAAAAAAAAAAAAAAAAAAAAAAAAAAAAAAAAAAAAAAAAAAAAAAAAAAAAAAAAAAAAAAAAAAAAAAAAAAAAAAAAAAAAAAAAAAAAAAAAAAAAAAAAAAAAAAAAAAAAAAAAAAAAAAAAAAAAAAAAAAAAAAAAAAAAAAAAAAAAAAAAAAAAAAAAAAAAAAAAAAAAAAAAAAAAAAAAAAAAAAAAAAAAAAAAAAAAAAAAAAAAAAAAAAAAAAAAAAAAAAAAAAAAAAAAAAAAAAAAAAAAAAAAAAAAAAAAAAAAAAAAAAAAAAAAAAAAAAAAAAAAAAAAAAAAAAAAAAAAAAAAAAAAAAAAAAAAAAAAAAAAAAAAAAAAAAAAAAAAAAAAAAAAAAAAAAAAAAAAAAAAAAAAAAAAAAAAAAAAAAAAAAAAAAAAAAAAAAAAAAAAAAAAAAAAAAAAAAAAAAAAAAAAAAAAAAAAAAAAAAAAAAAAAAAAAAAAAAAAAAAAAAAAAAAAAAAAAAAAAAAAAAAAAAAAAAAAAAAAAAAAAAAAAAAAAAAAAAAAAAAAAAAAAAAAAAAAAAAAAAAAAAAAAAAAAAAAAAAAAAAAAAAAAAAAAAAAAAAAAAAAAAAAAAAAAAAAAAAAAAAAAAAAAAAAAAAAAAAAAAAAAAAAAAAAAAAAAAAAAAAAAAAAAAAAAAAAAAAAAAAAAAAAAAAAAAAAAAAAAAAAAAAAAAAAAAAAAAAAAAAAAAAAAAAAAAAAAAAAAAAAAAAAAAIAAAAAAAAAAAAAAAAAAAAAAAAAAAAAAAAAAAAAAAAAAAAAAAAAAAAAAAAAAAAAAAAAAAAAAAAAAAAAAAAAAAAAAAAAAAAAAAAAAAAAAAAAAQAAAAAAAAAAAAAAAAAAAAAAAAAAAAAAAAAAAAAAAAAAAAAAAAAAAAAAAAAAAAAAAAAAAAAAAAAAAAAAAAAAAAAAAAAAAAAAAAAAAAAAAAAAAAAAAAAAAAAAAAAAAAAAAAAAAAAAAAAAAAAAAAAAAAAAAAAAAAAAAAAAAAAAAAAAAAAAAAAAAAEAAAAAAAAAAAAAAAAAAAAAAAAAAAAAAAAAAAAAAAAAAAAAAAAAAAAAAAAAAAAAAAAAAAAAAAAAAAAAAAAAAAACAAAAAgAAAAAAAAAAAAAAAAAAAAAAAAAAAAAAAAAAAAAAAAAAAAAAAAAAAAAAAAAAAAAAAAAAAAAAAAAAAAAAAAAAAAIAAAAAAAAAAAAAAAAAAAAAAAAAAAAAAAAAAAAAAAAAAAAAAAAAAAAAAAAAAAAAAAAAAAAAAAAAAAAAAAAAAAACAAAAAAAAAAIAAAAAAAAAAAAAAAAAAAAAAAAAAAAAAAAAAAAAAAAAAAAAAAAAAAAAAAAAAAAAAAAAAAABAAAAAAAAAAAAAAAAAAAAAAAAAAAAAAAAAAAAAAAAAAAAAAAAAAAAAAAAAAAAAAAAAAAAAAAAAAAAAAAAAAAAAAAAAAAAAAAAAAAAAAAAAAAAAAAAAAAAAAAAAAAAAAAAAAAAAAAAAAAAAAACAAAAAAAAAAAAAAAAAAAAAAAAAAAAAAAAAAAAAQAAAAAAAAAAAAAAAAAAAAAAAAAAAAAAAAAAAAAAAAAAAAAAAAAAAAAAAAAAAAAAAAAAAAAAAAAAAAAAAAAAAAAAAAAAAAAAAAAAAAAAAAAAAAAAAAAAAAAAAAAAAAAAAAAAAAAAAAABAAAAAAAAAAAAAAAAAAAAAAAAAAAAAAAAAAAAAAAAAAAAAAAAAAAAAAAAAAAAAAAAAAAAAAAAAAAAAAAAAAAAAAAAAAAAAAAAAAAAAAAAAAEAAAAAAAAAAAAAAAAAAAAAAAAAAAAAAAAAAAAAAAAAAAAAAAAAAAAAAAAAAAAAAAAAAAAAAAAAAAAAAAEAAAAAAAAAAAAAAAAAAAAAAAAAAAAAAAAAAAAAAAAAAAAAAAAAAAAAAAAAAAAAAAAAAAAAAAAAAAAAAAAAAAAAAAAAAAAAAAAAAAAAAAAAAAAAAAAAAAAAAAAAAAAAAAAAAAAAAAAAAAAAAAAAAAAAAAAAAQAAAAEAAAAAAAAAAAAAAAAAAAAAAAAAAAAAAAAAAAAAAAAAAAAAAAAAAAAAAAAAAAAAAAAAAAAAAAAAAAAAAAAAAAAAAAAAAAAAAAAAAAAAAAAAAAAAAAAAAAAAAAAAAAAAAAAAAAAAAAAAAgAAAAAAAAAAAAAAAAAAAAAAAAAAAAAAAAAAAAAAAAAAAAAAAAAAAAAAAAAAAAAAAAAAAAAAAAAAAAAAAAAAAAAAAAAAAAAAAAAAAAAAAAAAAAAAAAAAAAAAAAAAAAAAAAAAAAAAAAACAAAAAAAAAAAAAAAAAAAAAAAAAAAAAAAAAAAAAAAAAAAAAAAAAAAA\"},\"shape\":[495],\"dtype\":\"int32\",\"order\":\"little\"}],[\"ohlc_low\",{\"type\":\"ndarray\",\"array\":{\"type\":\"bytes\",\"data\":\"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\"},\"shape\":[495],\"dtype\":\"float64\",\"order\":\"little\"}],[\"ohlc_high\",{\"type\":\"ndarray\",\"array\":{\"type\":\"bytes\",\"data\":\"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\"},\"shape\":[495],\"dtype\":\"float64\",\"order\":\"little\"}]]}}},\"view\":{\"type\":\"object\",\"name\":\"CDSView\",\"id\":\"p1088\",\"attributes\":{\"filter\":{\"type\":\"object\",\"name\":\"AllIndices\",\"id\":\"p1089\"}}},\"glyph\":{\"type\":\"object\",\"name\":\"Line\",\"id\":\"p1084\",\"attributes\":{\"x\":{\"type\":\"field\",\"field\":\"index\"},\"y\":{\"type\":\"field\",\"field\":\"equity\"},\"line_color\":\"#1f77b4\",\"line_width\":1.5}},\"nonselection_glyph\":{\"type\":\"object\",\"name\":\"Line\",\"id\":\"p1085\",\"attributes\":{\"x\":{\"type\":\"field\",\"field\":\"index\"},\"y\":{\"type\":\"field\",\"field\":\"equity\"},\"line_color\":\"#1f77b4\",\"line_alpha\":0.1,\"line_width\":1.5}},\"muted_glyph\":{\"type\":\"object\",\"name\":\"Line\",\"id\":\"p1086\",\"attributes\":{\"x\":{\"type\":\"field\",\"field\":\"index\"},\"y\":{\"type\":\"field\",\"field\":\"equity\"},\"line_color\":\"#1f77b4\",\"line_alpha\":0.2,\"line_width\":1.5}}}}],\"tooltips\":[[\"#\",\"@index\"],[\"Equity\",\"@equity{+0,0.[000]%}\"]],\"mode\":\"vline\",\"point_policy\":\"follow_mouse\"}},{\"type\":\"object\",\"name\":\"HoverTool\",\"id\":\"p1181\",\"attributes\":{\"renderers\":[{\"type\":\"object\",\"name\":\"GlyphRenderer\",\"id\":\"p1169\",\"attributes\":{\"data_source\":{\"type\":\"object\",\"name\":\"ColumnDataSource\",\"id\":\"p1034\",\"attributes\":{\"selected\":{\"type\":\"object\",\"name\":\"Selection\",\"id\":\"p1035\",\"attributes\":{\"indices\":[],\"line_indices\":[]}},\"selection_policy\":{\"type\":\"object\",\"name\":\"UnionRenderers\",\"id\":\"p1036\"},\"data\":{\"type\":\"map\",\"entries\":[[\"index\",{\"type\":\"ndarray\",\"array\":{\"type\":\"bytes\",\"data\":\"FgAAAL8AAADTAAAA9QAAAAUBAAAIAQAAFgEAACcBAAAoAQAANgEAAFEBAABaAQAAcgEAAIUBAACUAQAAswEAAMwBAADtAQAA\"},\"shape\":[18],\"dtype\":\"int32\",\"order\":\"little\"}],[\"datetime\",{\"type\":\"ndarray\",\"array\":{\"type\":\"bytes\",\"data\":\"FgAAAL8AAADTAAAA9QAAAAUBAAAIAQAAFgEAACcBAAAoAQAANgEAAFEBAABaAQAAcgEAAIUBAACUAQAAswEAAMwBAADtAQAA\"},\"shape\":[18],\"dtype\":\"int32\",\"order\":\"little\"}],[\"exit_price\",{\"type\":\"ndarray\",\"array\":{\"type\":\"bytes\",\"data\":\"BHlKkKe4X0DpoosuulJvQCpBnhLkmG1AF1100UXVakDNzMzMzJxrQNa+Ye0b62tA1r5h7RuHbEAc1r5h7V1tQBzWvmHtDW1AKUGeEuQsa0DpoosuuoJrQH7D2jesW2xAKkGeEuQcakAqQZ4S5NRpQJCnBHlKR2lAsfYNa9/GaEC2b1j7hkdpQAAAAAAAIGxA\"},\"shape\":[18],\"dtype\":\"float64\",\"order\":\"little\"}],[\"size\",{\"type\":\"ndarray\",\"array\":{\"type\":\"bytes\",\"data\":\"5QAAAHIAAACG////df///4YAAACHAAAAhQAAAHsAAAB9AAAAev///4QAAAB7////dP///3b///9w////Z////5AAAACIAAAA\"},\"shape\":[18],\"dtype\":\"int32\",\"order\":\"little\"}],[\"returns_positive\",{\"type\":\"ndarray\",\"array\":[\"0\",\"0\",\"1\",\"0\",\"0\",\"1\",\"1\",\"0\",\"0\",\"1\",\"0\",\"0\",\"1\",\"1\",\"1\",\"0\",\"0\",\"1\"],\"shape\":[18],\"dtype\":\"object\",\"order\":\"little\"}],[\"returns_long\",{\"type\":\"ndarray\",\"array\":{\"type\":\"bytes\",\"data\":\"gGL5uYnTnL+glejgVXikvwAAAAAAAPh/AAAAAAAA+H8AdnKg7llgv4BFWWQ7Poc/gHr9vtQPlz8gU3D0zaegv4CfOOhl1pe/AAAAAAAA+H/gaQEURgiXvwAAAAAAAPh/AAAAAAAA+H8AAAAAAAD4fwAAAAAAAPh/AAAAAAAA+H9gA2zKAi6Wv8AqjLlYUp0/\"},\"shape\":[18],\"dtype\":\"float64\",\"order\":\"little\"}],[\"returns_short\",{\"type\":\"ndarray\",\"array\":{\"type\":\"bytes\",\"data\":\"AAAAAAAA+H8AAAAAAAD4f8DVmgeUqJk/AHjc3ei4Zr8AAAAAAAD4fwAAAAAAAPh/AAAAAAAA+H8AAAAAAAD4fwAAAAAAAPh/AGUml9CbkT8AAAAAAAD4f4Bq4HXma42/APCEOh/giT9gr8eThqmiP8CAtcc7Qpg/QBKsadhMkL8AAAAAAAD4fwAAAAAAAPh/\"},\"shape\":[18],\"dtype\":\"float64\",\"order\":\"little\"}],[\"marker_size\",{\"type\":\"ndarray\",\"array\":{\"type\":\"bytes\",\"data\":\"AAAAAAAANEAAAAAAAAAgQBs8R6BoqyFA1Jve9KY3JUBDFrKQhSwkQMb9uqTyYSRAvy6pfBj3I0CeI1C01eAhQKXyYdyvSyJAQxaykIUsJEA8R6Boq8EjQL8uqXwY9yNAV4PnCBRtJUBQtNXgOQIlQGQhC1nIQiZAAkVbDZ4jKEBkIQtZyEImQErlw7hflyRA\"},\"shape\":[18],\"dtype\":\"float64\",\"order\":\"little\"}],[\"position_lines_xs\",[[22,22],[191,191],[211,211],[245,245],[261,261],[262,264],[278,278],[294,295],[296,296],[309,310],[336,337],[343,346],[369,370],[389,389],[404,404],[433,435],[460,460],[486,493]]],[\"position_lines_ys\",[[130.56060000000002,126.88522727272726],[261.021,250.58522727272728],[242.86329999999998,236.7778409090909],[214.071,214.66477272727272],[221.3418,220.9],[220.8408,223.3471590909091],[223.1955,228.2221590909091],[242.8347,234.93522727272727],[237.975,232.43522727272727],[221.2067,217.40284090909088],[225.14939999999999,220.08522727272728],[223.65179999999998,226.86477272727274],[211.576,208.9028409090909],[214.4702,206.6528409090909],[207.13490000000002,202.2278409090909],[195.109,198.21477272727273],[206.7126,202.2352272727273],[218.7366,225.0]]]]}}},\"view\":{\"type\":\"object\",\"name\":\"CDSView\",\"id\":\"p1170\",\"attributes\":{\"filter\":{\"type\":\"object\",\"name\":\"AllIndices\",\"id\":\"p1171\"}}},\"glyph\":{\"type\":\"object\",\"name\":\"Scatter\",\"id\":\"p1166\",\"attributes\":{\"x\":{\"type\":\"field\",\"field\":\"index\"},\"y\":{\"type\":\"field\",\"field\":\"returns_long\"},\"size\":{\"type\":\"field\",\"field\":\"marker_size\"},\"fill_color\":{\"type\":\"field\",\"field\":\"returns_positive\",\"transform\":{\"type\":\"object\",\"name\":\"CategoricalColorMapper\",\"id\":\"p1038\",\"attributes\":{\"palette\":[\"tomato\",\"lime\"],\"factors\":[\"0\",\"1\"]}}},\"marker\":{\"type\":\"value\",\"value\":\"triangle\"}}},\"nonselection_glyph\":{\"type\":\"object\",\"name\":\"Scatter\",\"id\":\"p1167\",\"attributes\":{\"x\":{\"type\":\"field\",\"field\":\"index\"},\"y\":{\"type\":\"field\",\"field\":\"returns_long\"},\"size\":{\"type\":\"field\",\"field\":\"marker_size\"},\"line_alpha\":{\"type\":\"value\",\"value\":0.1},\"fill_color\":{\"type\":\"field\",\"field\":\"returns_positive\",\"transform\":{\"id\":\"p1038\"}},\"fill_alpha\":{\"type\":\"value\",\"value\":0.1},\"hatch_alpha\":{\"type\":\"value\",\"value\":0.1},\"marker\":{\"type\":\"value\",\"value\":\"triangle\"}}},\"muted_glyph\":{\"type\":\"object\",\"name\":\"Scatter\",\"id\":\"p1168\",\"attributes\":{\"x\":{\"type\":\"field\",\"field\":\"index\"},\"y\":{\"type\":\"field\",\"field\":\"returns_long\"},\"size\":{\"type\":\"field\",\"field\":\"marker_size\"},\"line_alpha\":{\"type\":\"value\",\"value\":0.2},\"fill_color\":{\"type\":\"field\",\"field\":\"returns_positive\",\"transform\":{\"id\":\"p1038\"}},\"fill_alpha\":{\"type\":\"value\",\"value\":0.2},\"hatch_alpha\":{\"type\":\"value\",\"value\":0.2},\"marker\":{\"type\":\"value\",\"value\":\"triangle\"}}}}}],\"tooltips\":[[\"#\",\"@index\"],[\"Size\",\"@size{0,0}\"],[\"P/L\",\"@returns_long{+0.[000]%}\"]],\"point_policy\":\"follow_mouse\"}},{\"type\":\"object\",\"name\":\"HoverTool\",\"id\":\"p1182\",\"attributes\":{\"renderers\":[{\"type\":\"object\",\"name\":\"GlyphRenderer\",\"id\":\"p1178\",\"attributes\":{\"data_source\":{\"id\":\"p1034\"},\"view\":{\"type\":\"object\",\"name\":\"CDSView\",\"id\":\"p1179\",\"attributes\":{\"filter\":{\"type\":\"object\",\"name\":\"AllIndices\",\"id\":\"p1180\"}}},\"glyph\":{\"type\":\"object\",\"name\":\"Scatter\",\"id\":\"p1175\",\"attributes\":{\"x\":{\"type\":\"field\",\"field\":\"index\"},\"y\":{\"type\":\"field\",\"field\":\"returns_short\"},\"size\":{\"type\":\"field\",\"field\":\"marker_size\"},\"fill_color\":{\"type\":\"field\",\"field\":\"returns_positive\",\"transform\":{\"id\":\"p1038\"}},\"marker\":{\"type\":\"value\",\"value\":\"inverted_triangle\"}}},\"nonselection_glyph\":{\"type\":\"object\",\"name\":\"Scatter\",\"id\":\"p1176\",\"attributes\":{\"x\":{\"type\":\"field\",\"field\":\"index\"},\"y\":{\"type\":\"field\",\"field\":\"returns_short\"},\"size\":{\"type\":\"field\",\"field\":\"marker_size\"},\"line_alpha\":{\"type\":\"value\",\"value\":0.1},\"fill_color\":{\"type\":\"field\",\"field\":\"returns_positive\",\"transform\":{\"id\":\"p1038\"}},\"fill_alpha\":{\"type\":\"value\",\"value\":0.1},\"hatch_alpha\":{\"type\":\"value\",\"value\":0.1},\"marker\":{\"type\":\"value\",\"value\":\"inverted_triangle\"}}},\"muted_glyph\":{\"type\":\"object\",\"name\":\"Scatter\",\"id\":\"p1177\",\"attributes\":{\"x\":{\"type\":\"field\",\"field\":\"index\"},\"y\":{\"type\":\"field\",\"field\":\"returns_short\"},\"size\":{\"type\":\"field\",\"field\":\"marker_size\"},\"line_alpha\":{\"type\":\"value\",\"value\":0.2},\"fill_color\":{\"type\":\"field\",\"field\":\"returns_positive\",\"transform\":{\"id\":\"p1038\"}},\"fill_alpha\":{\"type\":\"value\",\"value\":0.2},\"hatch_alpha\":{\"type\":\"value\",\"value\":0.2},\"marker\":{\"type\":\"value\",\"value\":\"inverted_triangle\"}}}}}],\"tooltips\":[[\"#\",\"@index\"],[\"Size\",\"@size{0,0}\"],[\"P/L\",\"@returns_short{+0.[000]%}\"]],\"point_policy\":\"follow_mouse\"}},{\"type\":\"object\",\"name\":\"HoverTool\",\"id\":\"p1295\",\"attributes\":{\"renderers\":[{\"type\":\"object\",\"name\":\"GlyphRenderer\",\"id\":\"p1239\",\"attributes\":{\"data_source\":{\"id\":\"p1031\"},\"view\":{\"type\":\"object\",\"name\":\"CDSView\",\"id\":\"p1240\",\"attributes\":{\"filter\":{\"type\":\"object\",\"name\":\"AllIndices\",\"id\":\"p1241\"}}},\"glyph\":{\"type\":\"object\",\"name\":\"VBar\",\"id\":\"p1236\",\"attributes\":{\"x\":{\"type\":\"field\",\"field\":\"index\"},\"width\":{\"type\":\"value\",\"value\":0.8},\"bottom\":{\"type\":\"field\",\"field\":\"Close\"},\"top\":{\"type\":\"field\",\"field\":\"Open\"},\"fill_color\":{\"type\":\"field\",\"field\":\"inc\",\"transform\":{\"type\":\"object\",\"name\":\"CategoricalColorMapper\",\"id\":\"p1037\",\"attributes\":{\"palette\":[\"tomato\",\"lime\"],\"factors\":[\"0\",\"1\"]}}}}},\"nonselection_glyph\":{\"type\":\"object\",\"name\":\"VBar\",\"id\":\"p1237\",\"attributes\":{\"x\":{\"type\":\"field\",\"field\":\"index\"},\"width\":{\"type\":\"value\",\"value\":0.8},\"bottom\":{\"type\":\"field\",\"field\":\"Close\"},\"top\":{\"type\":\"field\",\"field\":\"Open\"},\"line_alpha\":{\"type\":\"value\",\"value\":0.1},\"fill_color\":{\"type\":\"field\",\"field\":\"inc\",\"transform\":{\"id\":\"p1037\"}},\"fill_alpha\":{\"type\":\"value\",\"value\":0.1},\"hatch_alpha\":{\"type\":\"value\",\"value\":0.1}}},\"muted_glyph\":{\"type\":\"object\",\"name\":\"VBar\",\"id\":\"p1238\",\"attributes\":{\"x\":{\"type\":\"field\",\"field\":\"index\"},\"width\":{\"type\":\"value\",\"value\":0.8},\"bottom\":{\"type\":\"field\",\"field\":\"Close\"},\"top\":{\"type\":\"field\",\"field\":\"Open\"},\"line_alpha\":{\"type\":\"value\",\"value\":0.2},\"fill_color\":{\"type\":\"field\",\"field\":\"inc\",\"transform\":{\"id\":\"p1037\"}},\"fill_alpha\":{\"type\":\"value\",\"value\":0.2},\"hatch_alpha\":{\"type\":\"value\",\"value\":0.2}}}}}],\"tooltips\":[[\"#\",\"@index\"],[\"x, y\",\"$index\\u00a0\\u00a0\\u00a0\\u00a0$y{0,0.0[0000]}\"],[\"OHLC\",\"@Open{0,0.0[0000]}\\u00a0\\u00a0\\u00a0\\u00a0@High{0,0.0[0000]}\\u00a0\\u00a0\\u00a0\\u00a0@Low{0,0.0[0000]}\\u00a0\\u00a0\\u00a0\\u00a0@Close{0,0.0[0000]}\"],[\"Volume\",\"@Volume{0,0}\"]],\"mode\":\"vline\",\"point_policy\":\"follow_mouse\"}},{\"type\":\"object\",\"name\":\"HoverTool\",\"id\":\"p1222\",\"attributes\":{\"renderers\":[{\"type\":\"object\",\"name\":\"GlyphRenderer\",\"id\":\"p1219\",\"attributes\":{\"data_source\":{\"id\":\"p1031\"},\"view\":{\"type\":\"object\",\"name\":\"CDSView\",\"id\":\"p1220\",\"attributes\":{\"filter\":{\"type\":\"object\",\"name\":\"AllIndices\",\"id\":\"p1221\"}}},\"glyph\":{\"type\":\"object\",\"name\":\"VBar\",\"id\":\"p1216\",\"attributes\":{\"x\":{\"type\":\"field\",\"field\":\"index\"},\"width\":{\"type\":\"value\",\"value\":0.8},\"top\":{\"type\":\"field\",\"field\":\"Volume\"},\"line_color\":{\"type\":\"field\",\"field\":\"inc\",\"transform\":{\"id\":\"p1037\"}},\"fill_color\":{\"type\":\"field\",\"field\":\"inc\",\"transform\":{\"id\":\"p1037\"}},\"hatch_color\":{\"type\":\"field\",\"field\":\"inc\",\"transform\":{\"id\":\"p1037\"}}}},\"nonselection_glyph\":{\"type\":\"object\",\"name\":\"VBar\",\"id\":\"p1217\",\"attributes\":{\"x\":{\"type\":\"field\",\"field\":\"index\"},\"width\":{\"type\":\"value\",\"value\":0.8},\"top\":{\"type\":\"field\",\"field\":\"Volume\"},\"line_color\":{\"type\":\"field\",\"field\":\"inc\",\"transform\":{\"id\":\"p1037\"}},\"line_alpha\":{\"type\":\"value\",\"value\":0.1},\"fill_color\":{\"type\":\"field\",\"field\":\"inc\",\"transform\":{\"id\":\"p1037\"}},\"fill_alpha\":{\"type\":\"value\",\"value\":0.1},\"hatch_color\":{\"type\":\"field\",\"field\":\"inc\",\"transform\":{\"id\":\"p1037\"}},\"hatch_alpha\":{\"type\":\"value\",\"value\":0.1}}},\"muted_glyph\":{\"type\":\"object\",\"name\":\"VBar\",\"id\":\"p1218\",\"attributes\":{\"x\":{\"type\":\"field\",\"field\":\"index\"},\"width\":{\"type\":\"value\",\"value\":0.8},\"top\":{\"type\":\"field\",\"field\":\"Volume\"},\"line_color\":{\"type\":\"field\",\"field\":\"inc\",\"transform\":{\"id\":\"p1037\"}},\"line_alpha\":{\"type\":\"value\",\"value\":0.2},\"fill_color\":{\"type\":\"field\",\"field\":\"inc\",\"transform\":{\"id\":\"p1037\"}},\"fill_alpha\":{\"type\":\"value\",\"value\":0.2},\"hatch_color\":{\"type\":\"field\",\"field\":\"inc\",\"transform\":{\"id\":\"p1037\"}},\"hatch_alpha\":{\"type\":\"value\",\"value\":0.2}}}}}],\"tooltips\":[[\"#\",\"@index\"],[\"Volume\",\"@Volume{0.00 a}\"]],\"mode\":\"vline\",\"point_policy\":\"follow_mouse\"}},{\"type\":\"object\",\"name\":\"HoverTool\",\"id\":\"p1294\",\"attributes\":{\"renderers\":[{\"type\":\"object\",\"name\":\"GlyphRenderer\",\"id\":\"p1288\",\"attributes\":{\"data_source\":{\"id\":\"p1031\"},\"view\":{\"type\":\"object\",\"name\":\"CDSView\",\"id\":\"p1289\",\"attributes\":{\"filter\":{\"type\":\"object\",\"name\":\"AllIndices\",\"id\":\"p1290\"}}},\"glyph\":{\"type\":\"object\",\"name\":\"Line\",\"id\":\"p1285\",\"attributes\":{\"x\":{\"type\":\"field\",\"field\":\"index\"},\"y\":{\"type\":\"field\",\"field\":\"\\u03bb_0_1\"},\"line_color\":\"#1f77b4\",\"line_width\":1.3}},\"nonselection_glyph\":{\"type\":\"object\",\"name\":\"Line\",\"id\":\"p1286\",\"attributes\":{\"x\":{\"type\":\"field\",\"field\":\"index\"},\"y\":{\"type\":\"field\",\"field\":\"\\u03bb_0_1\"},\"line_color\":\"#1f77b4\",\"line_alpha\":0.1,\"line_width\":1.3}},\"muted_glyph\":{\"type\":\"object\",\"name\":\"Line\",\"id\":\"p1287\",\"attributes\":{\"x\":{\"type\":\"field\",\"field\":\"index\"},\"y\":{\"type\":\"field\",\"field\":\"\\u03bb_0_1\"},\"line_color\":\"#1f77b4\",\"line_alpha\":0.2,\"line_width\":1.3}}}}],\"tooltips\":[[\"#\",\"@index\"],[\"\\u03bb\",\"@{\\u03bb_0_1}{0,0.0[0000]}\"]],\"mode\":\"vline\",\"point_policy\":\"follow_mouse\"}},{\"type\":\"object\",\"name\":\"ToolProxy\",\"id\":\"p1305\",\"attributes\":{\"tools\":[{\"type\":\"object\",\"name\":\"CrosshairTool\",\"id\":\"p1297\"},{\"id\":\"p1297\"},{\"id\":\"p1297\"},{\"id\":\"p1297\"},{\"id\":\"p1297\"}]}}]}},\"toolbar_location\":\"right\",\"children\":[[{\"type\":\"object\",\"name\":\"Figure\",\"id\":\"p1040\",\"attributes\":{\"width\":null,\"height\":110,\"sizing_mode\":\"stretch_width\",\"x_range\":{\"type\":\"object\",\"name\":\"Range1d\",\"id\":\"p1001\",\"attributes\":{\"js_property_callbacks\":{\"type\":\"map\",\"entries\":[[\"change:end\",[{\"type\":\"object\",\"name\":\"CustomJS\",\"id\":\"p1296\",\"attributes\":{\"args\":{\"type\":\"map\",\"entries\":[[\"ohlc_range\",{\"type\":\"object\",\"name\":\"DataRange1d\",\"id\":\"p1004\"}],[\"source\",{\"id\":\"p1031\"}],[\"volume_range\",{\"type\":\"object\",\"name\":\"DataRange1d\",\"id\":\"p1186\"}]]},\"code\":\"if (!window._bt_scale_range) {\\n    window._bt_scale_range = function (range, min, max, pad) {\\n        \\\"use strict\\\";\\n        if (min !== Infinity && max !== -Infinity) {\\n            pad = pad ? (max - min) * .03 : 0;\\n            range.start = min - pad;\\n            range.end = max + pad;\\n        } else console.error('backtesting: scale range error:', min, max, range);\\n    };\\n}\\n\\nclearTimeout(window._bt_autoscale_timeout);\\n\\nwindow._bt_autoscale_timeout = setTimeout(function () {\\n    /**\\n     * @variable cb_obj `fig_ohlc.x_range`.\\n     * @variable source `ColumnDataSource`\\n     * @variable ohlc_range `fig_ohlc.y_range`.\\n     * @variable volume_range `fig_volume.y_range`.\\n     */\\n    \\\"use strict\\\";\\n\\n    let i = Math.max(Math.floor(cb_obj.start), 0),\\n        j = Math.min(Math.ceil(cb_obj.end), source.data['ohlc_high'].length);\\n\\n    let max = Math.max.apply(null, source.data['ohlc_high'].slice(i, j)),\\n        min = Math.min.apply(null, source.data['ohlc_low'].slice(i, j));\\n    _bt_scale_range(ohlc_range, min, max, true);\\n\\n    if (volume_range) {\\n        max = Math.max.apply(null, source.data['Volume'].slice(i, j));\\n        _bt_scale_range(volume_range, 0, max * 1.03, false);\\n    }\\n\\n}, 50);\\n\"}}]]]},\"end\":494,\"bounds\":[-24.7,518.7],\"min_interval\":10}},\"y_range\":{\"type\":\"object\",\"name\":\"DataRange1d\",\"id\":\"p1042\"},\"x_scale\":{\"type\":\"object\",\"name\":\"LinearScale\",\"id\":\"p1049\"},\"y_scale\":{\"type\":\"object\",\"name\":\"LinearScale\",\"id\":\"p1050\"},\"title\":{\"type\":\"object\",\"name\":\"Title\",\"id\":\"p1047\"},\"outline_line_color\":\"#666666\",\"renderers\":[{\"type\":\"object\",\"name\":\"GlyphRenderer\",\"id\":\"p1078\",\"attributes\":{\"data_source\":{\"type\":\"object\",\"name\":\"ColumnDataSource\",\"id\":\"p1069\",\"attributes\":{\"selected\":{\"type\":\"object\",\"name\":\"Selection\",\"id\":\"p1070\",\"attributes\":{\"indices\":[],\"line_indices\":[]}},\"selection_policy\":{\"type\":\"object\",\"name\":\"UnionRenderers\",\"id\":\"p1071\"},\"data\":{\"type\":\"map\",\"entries\":[[\"index\",{\"type\":\"ndarray\",\"array\":{\"type\":\"bytes\",\"data\":\"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\"},\"shape\":[990],\"dtype\":\"int32\",\"order\":\"little\"}],[\"equity_dd\",{\"type\":\"ndarray\",\"array\":{\"type\":\"bytes\",\"data\":\"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\"},\"shape\":[990],\"dtype\":\"float64\",\"order\":\"little\"}]]}}},\"view\":{\"type\":\"object\",\"name\":\"CDSView\",\"id\":\"p1079\",\"attributes\":{\"filter\":{\"type\":\"object\",\"name\":\"AllIndices\",\"id\":\"p1080\"}}},\"glyph\":{\"type\":\"object\",\"name\":\"Patch\",\"id\":\"p1075\",\"attributes\":{\"x\":{\"type\":\"field\",\"field\":\"index\"},\"y\":{\"type\":\"field\",\"field\":\"equity_dd\"},\"line_color\":\"#ffcb66\",\"fill_color\":\"#ffffea\"}},\"nonselection_glyph\":{\"type\":\"object\",\"name\":\"Patch\",\"id\":\"p1076\",\"attributes\":{\"x\":{\"type\":\"field\",\"field\":\"index\"},\"y\":{\"type\":\"field\",\"field\":\"equity_dd\"},\"line_color\":\"#ffcb66\",\"line_alpha\":0.1,\"fill_color\":\"#ffffea\",\"fill_alpha\":0.1,\"hatch_alpha\":0.1}},\"muted_glyph\":{\"type\":\"object\",\"name\":\"Patch\",\"id\":\"p1077\",\"attributes\":{\"x\":{\"type\":\"field\",\"field\":\"index\"},\"y\":{\"type\":\"field\",\"field\":\"equity_dd\"},\"line_color\":\"#ffcb66\",\"line_alpha\":0.2,\"fill_color\":\"#ffffea\",\"fill_alpha\":0.2,\"hatch_alpha\":0.2}}}},{\"id\":\"p1087\"},{\"type\":\"object\",\"name\":\"GlyphRenderer\",\"id\":\"p1098\",\"attributes\":{\"data_source\":{\"type\":\"object\",\"name\":\"ColumnDataSource\",\"id\":\"p1092\",\"attributes\":{\"selected\":{\"type\":\"object\",\"name\":\"Selection\",\"id\":\"p1093\",\"attributes\":{\"indices\":[],\"line_indices\":[]}},\"selection_policy\":{\"type\":\"object\",\"name\":\"UnionRenderers\",\"id\":\"p1094\"},\"data\":{\"type\":\"map\"}}},\"view\":{\"type\":\"object\",\"name\":\"CDSView\",\"id\":\"p1099\",\"attributes\":{\"filter\":{\"type\":\"object\",\"name\":\"AllIndices\",\"id\":\"p1100\"}}},\"glyph\":{\"type\":\"object\",\"name\":\"Scatter\",\"id\":\"p1095\",\"attributes\":{\"x\":{\"type\":\"value\",\"value\":0},\"y\":{\"type\":\"value\",\"value\":1.0},\"size\":{\"type\":\"value\",\"value\":8},\"line_color\":{\"type\":\"value\",\"value\":\"cyan\"},\"fill_color\":{\"type\":\"value\",\"value\":\"cyan\"},\"hatch_color\":{\"type\":\"value\",\"value\":\"cyan\"}}},\"nonselection_glyph\":{\"type\":\"object\",\"name\":\"Scatter\",\"id\":\"p1096\",\"attributes\":{\"x\":{\"type\":\"value\",\"value\":0},\"y\":{\"type\":\"value\",\"value\":1.0},\"size\":{\"type\":\"value\",\"value\":8},\"line_color\":{\"type\":\"value\",\"value\":\"cyan\"},\"line_alpha\":{\"type\":\"value\",\"value\":0.1},\"fill_color\":{\"type\":\"value\",\"value\":\"cyan\"},\"fill_alpha\":{\"type\":\"value\",\"value\":0.1},\"hatch_color\":{\"type\":\"value\",\"value\":\"cyan\"},\"hatch_alpha\":{\"type\":\"value\",\"value\":0.1}}},\"muted_glyph\":{\"type\":\"object\",\"name\":\"Scatter\",\"id\":\"p1097\",\"attributes\":{\"x\":{\"type\":\"value\",\"value\":0},\"y\":{\"type\":\"value\",\"value\":1.0},\"size\":{\"type\":\"value\",\"value\":8},\"line_color\":{\"type\":\"value\",\"value\":\"cyan\"},\"line_alpha\":{\"type\":\"value\",\"value\":0.2},\"fill_color\":{\"type\":\"value\",\"value\":\"cyan\"},\"fill_alpha\":{\"type\":\"value\",\"value\":0.2},\"hatch_color\":{\"type\":\"value\",\"value\":\"cyan\"},\"hatch_alpha\":{\"type\":\"value\",\"value\":0.2}}}}},{\"type\":\"object\",\"name\":\"GlyphRenderer\",\"id\":\"p1109\",\"attributes\":{\"data_source\":{\"type\":\"object\",\"name\":\"ColumnDataSource\",\"id\":\"p1103\",\"attributes\":{\"selected\":{\"type\":\"object\",\"name\":\"Selection\",\"id\":\"p1104\",\"attributes\":{\"indices\":[],\"line_indices\":[]}},\"selection_policy\":{\"type\":\"object\",\"name\":\"UnionRenderers\",\"id\":\"p1105\"},\"data\":{\"type\":\"map\"}}},\"view\":{\"type\":\"object\",\"name\":\"CDSView\",\"id\":\"p1110\",\"attributes\":{\"filter\":{\"type\":\"object\",\"name\":\"AllIndices\",\"id\":\"p1111\"}}},\"glyph\":{\"type\":\"object\",\"name\":\"Scatter\",\"id\":\"p1106\",\"attributes\":{\"x\":{\"type\":\"value\",\"value\":494},\"y\":{\"type\":\"value\",\"value\":0.9973920737878786},\"size\":{\"type\":\"value\",\"value\":8},\"line_color\":{\"type\":\"value\",\"value\":\"blue\"},\"fill_color\":{\"type\":\"value\",\"value\":\"blue\"},\"hatch_color\":{\"type\":\"value\",\"value\":\"blue\"}}},\"nonselection_glyph\":{\"type\":\"object\",\"name\":\"Scatter\",\"id\":\"p1107\",\"attributes\":{\"x\":{\"type\":\"value\",\"value\":494},\"y\":{\"type\":\"value\",\"value\":0.9973920737878786},\"size\":{\"type\":\"value\",\"value\":8},\"line_color\":{\"type\":\"value\",\"value\":\"blue\"},\"line_alpha\":{\"type\":\"value\",\"value\":0.1},\"fill_color\":{\"type\":\"value\",\"value\":\"blue\"},\"fill_alpha\":{\"type\":\"value\",\"value\":0.1},\"hatch_color\":{\"type\":\"value\",\"value\":\"blue\"},\"hatch_alpha\":{\"type\":\"value\",\"value\":0.1}}},\"muted_glyph\":{\"type\":\"object\",\"name\":\"Scatter\",\"id\":\"p1108\",\"attributes\":{\"x\":{\"type\":\"value\",\"value\":494},\"y\":{\"type\":\"value\",\"value\":0.9973920737878786},\"size\":{\"type\":\"value\",\"value\":8},\"line_color\":{\"type\":\"value\",\"value\":\"blue\"},\"line_alpha\":{\"type\":\"value\",\"value\":0.2},\"fill_color\":{\"type\":\"value\",\"value\":\"blue\"},\"fill_alpha\":{\"type\":\"value\",\"value\":0.2},\"hatch_color\":{\"type\":\"value\",\"value\":\"blue\"},\"hatch_alpha\":{\"type\":\"value\",\"value\":0.2}}}}},{\"type\":\"object\",\"name\":\"GlyphRenderer\",\"id\":\"p1119\",\"attributes\":{\"data_source\":{\"type\":\"object\",\"name\":\"ColumnDataSource\",\"id\":\"p1113\",\"attributes\":{\"selected\":{\"type\":\"object\",\"name\":\"Selection\",\"id\":\"p1114\",\"attributes\":{\"indices\":[],\"line_indices\":[]}},\"selection_policy\":{\"type\":\"object\",\"name\":\"UnionRenderers\",\"id\":\"p1115\"},\"data\":{\"type\":\"map\"}}},\"view\":{\"type\":\"object\",\"name\":\"CDSView\",\"id\":\"p1120\",\"attributes\":{\"filter\":{\"type\":\"object\",\"name\":\"AllIndices\",\"id\":\"p1121\"}}},\"glyph\":{\"type\":\"object\",\"name\":\"Scatter\",\"id\":\"p1116\",\"attributes\":{\"x\":{\"type\":\"value\",\"value\":346},\"y\":{\"type\":\"value\",\"value\":0.9910869009999996},\"size\":{\"type\":\"value\",\"value\":8},\"line_color\":{\"type\":\"value\",\"value\":\"red\"},\"fill_color\":{\"type\":\"value\",\"value\":\"red\"},\"hatch_color\":{\"type\":\"value\",\"value\":\"red\"}}},\"nonselection_glyph\":{\"type\":\"object\",\"name\":\"Scatter\",\"id\":\"p1117\",\"attributes\":{\"x\":{\"type\":\"value\",\"value\":346},\"y\":{\"type\":\"value\",\"value\":0.9910869009999996},\"size\":{\"type\":\"value\",\"value\":8},\"line_color\":{\"type\":\"value\",\"value\":\"red\"},\"line_alpha\":{\"type\":\"value\",\"value\":0.1},\"fill_color\":{\"type\":\"value\",\"value\":\"red\"},\"fill_alpha\":{\"type\":\"value\",\"value\":0.1},\"hatch_color\":{\"type\":\"value\",\"value\":\"red\"},\"hatch_alpha\":{\"type\":\"value\",\"value\":0.1}}},\"muted_glyph\":{\"type\":\"object\",\"name\":\"Scatter\",\"id\":\"p1118\",\"attributes\":{\"x\":{\"type\":\"value\",\"value\":346},\"y\":{\"type\":\"value\",\"value\":0.9910869009999996},\"size\":{\"type\":\"value\",\"value\":8},\"line_color\":{\"type\":\"value\",\"value\":\"red\"},\"line_alpha\":{\"type\":\"value\",\"value\":0.2},\"fill_color\":{\"type\":\"value\",\"value\":\"red\"},\"fill_alpha\":{\"type\":\"value\",\"value\":0.2},\"hatch_color\":{\"type\":\"value\",\"value\":\"red\"},\"hatch_alpha\":{\"type\":\"value\",\"value\":0.2}}}}},{\"type\":\"object\",\"name\":\"GlyphRenderer\",\"id\":\"p1129\",\"attributes\":{\"data_source\":{\"type\":\"object\",\"name\":\"ColumnDataSource\",\"id\":\"p1123\",\"attributes\":{\"selected\":{\"type\":\"object\",\"name\":\"Selection\",\"id\":\"p1124\",\"attributes\":{\"indices\":[],\"line_indices\":[]}},\"selection_policy\":{\"type\":\"object\",\"name\":\"UnionRenderers\",\"id\":\"p1125\"},\"data\":{\"type\":\"map\",\"entries\":[[\"x\",[0,494]]]}}},\"view\":{\"type\":\"object\",\"name\":\"CDSView\",\"id\":\"p1130\",\"attributes\":{\"filter\":{\"type\":\"object\",\"name\":\"AllIndices\",\"id\":\"p1131\"}}},\"glyph\":{\"type\":\"object\",\"name\":\"Line\",\"id\":\"p1126\",\"attributes\":{\"x\":{\"type\":\"field\",\"field\":\"x\"},\"y\":{\"type\":\"value\",\"value\":1.0},\"line_color\":\"red\",\"line_width\":2}},\"nonselection_glyph\":{\"type\":\"object\",\"name\":\"Line\",\"id\":\"p1127\",\"attributes\":{\"x\":{\"type\":\"field\",\"field\":\"x\"},\"y\":{\"type\":\"value\",\"value\":1.0},\"line_color\":\"red\",\"line_alpha\":0.1,\"line_width\":2}},\"muted_glyph\":{\"type\":\"object\",\"name\":\"Line\",\"id\":\"p1128\",\"attributes\":{\"x\":{\"type\":\"field\",\"field\":\"x\"},\"y\":{\"type\":\"value\",\"value\":1.0},\"line_color\":\"red\",\"line_alpha\":0.2,\"line_width\":2}}}}],\"toolbar\":{\"type\":\"object\",\"name\":\"Toolbar\",\"id\":\"p1048\",\"attributes\":{\"tools\":[{\"id\":\"p1061\"},{\"id\":\"p1062\"},{\"id\":\"p1063\"},{\"id\":\"p1065\"},{\"id\":\"p1066\"},{\"id\":\"p1067\"},{\"type\":\"object\",\"name\":\"SaveTool\",\"id\":\"p1068\"},{\"id\":\"p1090\"},{\"id\":\"p1297\"}],\"active_drag\":{\"id\":\"p1061\"},\"active_scroll\":{\"id\":\"p1062\"}}},\"toolbar_location\":null,\"left\":[{\"type\":\"object\",\"name\":\"LinearAxis\",\"id\":\"p1056\",\"attributes\":{\"ticker\":{\"type\":\"object\",\"name\":\"BasicTicker\",\"id\":\"p1057\",\"attributes\":{\"mantissas\":[1,2,5]}},\"formatter\":{\"type\":\"object\",\"name\":\"NumeralTickFormatter\",\"id\":\"p1091\",\"attributes\":{\"format\":\"0,0.[00]%\"}},\"axis_label\":\"Equity\",\"major_label_policy\":{\"type\":\"object\",\"name\":\"AllLabels\",\"id\":\"p1059\"},\"minor_tick_line_color\":null}}],\"below\":[{\"type\":\"object\",\"name\":\"LinearAxis\",\"id\":\"p1051\",\"attributes\":{\"visible\":false,\"ticker\":{\"type\":\"object\",\"name\":\"BasicTicker\",\"id\":\"p1052\",\"attributes\":{\"mantissas\":[1,2,5]}},\"formatter\":{\"type\":\"object\",\"name\":\"BasicTickFormatter\",\"id\":\"p1053\"},\"major_label_policy\":{\"type\":\"object\",\"name\":\"AllLabels\",\"id\":\"p1054\"}}}],\"center\":[{\"type\":\"object\",\"name\":\"Grid\",\"id\":\"p1055\",\"attributes\":{\"axis\":{\"id\":\"p1051\"}}},{\"type\":\"object\",\"name\":\"Grid\",\"id\":\"p1060\",\"attributes\":{\"dimension\":1,\"axis\":{\"id\":\"p1056\"}}},{\"type\":\"object\",\"name\":\"Legend\",\"id\":\"p1101\",\"attributes\":{\"location\":\"top_left\",\"border_line_color\":\"#333333\",\"click_policy\":\"hide\",\"label_text_font_size\":\"8pt\",\"margin\":0,\"padding\":5,\"spacing\":0,\"items\":[{\"type\":\"object\",\"name\":\"LegendItem\",\"id\":\"p1102\",\"attributes\":{\"label\":{\"type\":\"value\",\"value\":\"Peak (100%)\"},\"renderers\":[{\"id\":\"p1098\"}]}},{\"type\":\"object\",\"name\":\"LegendItem\",\"id\":\"p1112\",\"attributes\":{\"label\":{\"type\":\"value\",\"value\":\"Final (100%)\"},\"renderers\":[{\"id\":\"p1109\"}]}},{\"type\":\"object\",\"name\":\"LegendItem\",\"id\":\"p1122\",\"attributes\":{\"label\":{\"type\":\"value\",\"value\":\"Max Drawdown (-0.9%)\"},\"renderers\":[{\"id\":\"p1119\"}]}},{\"type\":\"object\",\"name\":\"LegendItem\",\"id\":\"p1132\",\"attributes\":{\"label\":{\"type\":\"value\",\"value\":\"Max Dd Dur. (494)\"},\"renderers\":[{\"id\":\"p1129\"}]}}]}}],\"min_border_top\":3,\"min_border_bottom\":6,\"min_border_left\":0,\"min_border_right\":10}},0,0],[{\"type\":\"object\",\"name\":\"Figure\",\"id\":\"p1133\",\"attributes\":{\"width\":null,\"height\":90,\"sizing_mode\":\"stretch_width\",\"x_range\":{\"id\":\"p1001\"},\"y_range\":{\"type\":\"object\",\"name\":\"DataRange1d\",\"id\":\"p1135\"},\"x_scale\":{\"type\":\"object\",\"name\":\"LinearScale\",\"id\":\"p1142\"},\"y_scale\":{\"type\":\"object\",\"name\":\"LinearScale\",\"id\":\"p1143\"},\"title\":{\"type\":\"object\",\"name\":\"Title\",\"id\":\"p1140\"},\"outline_line_color\":\"#666666\",\"renderers\":[{\"id\":\"p1169\"},{\"id\":\"p1178\"}],\"toolbar\":{\"type\":\"object\",\"name\":\"Toolbar\",\"id\":\"p1141\",\"attributes\":{\"tools\":[{\"id\":\"p1154\"},{\"id\":\"p1155\"},{\"id\":\"p1156\"},{\"id\":\"p1158\"},{\"id\":\"p1159\"},{\"id\":\"p1160\"},{\"type\":\"object\",\"name\":\"SaveTool\",\"id\":\"p1161\"},{\"id\":\"p1181\"},{\"id\":\"p1182\"},{\"id\":\"p1297\"}],\"active_drag\":{\"id\":\"p1154\"},\"active_scroll\":{\"id\":\"p1155\"}}},\"toolbar_location\":null,\"left\":[{\"type\":\"object\",\"name\":\"LinearAxis\",\"id\":\"p1149\",\"attributes\":{\"ticker\":{\"type\":\"object\",\"name\":\"BasicTicker\",\"id\":\"p1150\",\"attributes\":{\"mantissas\":[1,2,5]}},\"formatter\":{\"type\":\"object\",\"name\":\"NumeralTickFormatter\",\"id\":\"p1183\",\"attributes\":{\"format\":\"0.[00]%\"}},\"axis_label\":\"Profit / Loss\",\"major_label_policy\":{\"type\":\"object\",\"name\":\"AllLabels\",\"id\":\"p1152\"},\"minor_tick_line_color\":null}}],\"below\":[{\"type\":\"object\",\"name\":\"LinearAxis\",\"id\":\"p1144\",\"attributes\":{\"visible\":false,\"ticker\":{\"type\":\"object\",\"name\":\"BasicTicker\",\"id\":\"p1145\",\"attributes\":{\"mantissas\":[1,2,5]}},\"formatter\":{\"type\":\"object\",\"name\":\"BasicTickFormatter\",\"id\":\"p1146\"},\"major_label_policy\":{\"type\":\"object\",\"name\":\"AllLabels\",\"id\":\"p1147\"}}}],\"center\":[{\"type\":\"object\",\"name\":\"Grid\",\"id\":\"p1148\",\"attributes\":{\"axis\":{\"id\":\"p1144\"}}},{\"type\":\"object\",\"name\":\"Grid\",\"id\":\"p1153\",\"attributes\":{\"dimension\":1,\"axis\":{\"id\":\"p1149\"}}},{\"type\":\"object\",\"name\":\"Span\",\"id\":\"p1162\",\"attributes\":{\"location\":0,\"line_color\":\"#666666\",\"line_dash\":[6]}}],\"min_border_top\":3,\"min_border_bottom\":6,\"min_border_left\":0,\"min_border_right\":10}},1,0],[{\"type\":\"object\",\"name\":\"Figure\",\"id\":\"p1002\",\"attributes\":{\"width\":null,\"height\":400,\"sizing_mode\":\"stretch_width\",\"x_range\":{\"id\":\"p1001\"},\"y_range\":{\"id\":\"p1004\"},\"x_scale\":{\"type\":\"object\",\"name\":\"LinearScale\",\"id\":\"p1011\"},\"y_scale\":{\"type\":\"object\",\"name\":\"LinearScale\",\"id\":\"p1012\"},\"title\":{\"type\":\"object\",\"name\":\"Title\",\"id\":\"p1009\"},\"outline_line_color\":\"#666666\",\"renderers\":[{\"type\":\"object\",\"name\":\"GlyphRenderer\",\"id\":\"p1230\",\"attributes\":{\"data_source\":{\"id\":\"p1031\"},\"view\":{\"type\":\"object\",\"name\":\"CDSView\",\"id\":\"p1231\",\"attributes\":{\"filter\":{\"type\":\"object\",\"name\":\"AllIndices\",\"id\":\"p1232\"}}},\"glyph\":{\"type\":\"object\",\"name\":\"Segment\",\"id\":\"p1227\",\"attributes\":{\"x0\":{\"type\":\"field\",\"field\":\"index\"},\"y0\":{\"type\":\"field\",\"field\":\"High\"},\"x1\":{\"type\":\"field\",\"field\":\"index\"},\"y1\":{\"type\":\"field\",\"field\":\"Low\"}}},\"nonselection_glyph\":{\"type\":\"object\",\"name\":\"Segment\",\"id\":\"p1228\",\"attributes\":{\"x0\":{\"type\":\"field\",\"field\":\"index\"},\"y0\":{\"type\":\"field\",\"field\":\"High\"},\"x1\":{\"type\":\"field\",\"field\":\"index\"},\"y1\":{\"type\":\"field\",\"field\":\"Low\"},\"line_alpha\":{\"type\":\"value\",\"value\":0.1}}},\"muted_glyph\":{\"type\":\"object\",\"name\":\"Segment\",\"id\":\"p1229\",\"attributes\":{\"x0\":{\"type\":\"field\",\"field\":\"index\"},\"y0\":{\"type\":\"field\",\"field\":\"High\"},\"x1\":{\"type\":\"field\",\"field\":\"index\"},\"y1\":{\"type\":\"field\",\"field\":\"Low\"},\"line_alpha\":{\"type\":\"value\",\"value\":0.2}}}}},{\"id\":\"p1239\"},{\"type\":\"object\",\"name\":\"GlyphRenderer\",\"id\":\"p1248\",\"attributes\":{\"data_source\":{\"id\":\"p1034\"},\"view\":{\"type\":\"object\",\"name\":\"CDSView\",\"id\":\"p1249\",\"attributes\":{\"filter\":{\"type\":\"object\",\"name\":\"AllIndices\",\"id\":\"p1250\"}}},\"glyph\":{\"type\":\"object\",\"name\":\"MultiLine\",\"id\":\"p1245\",\"attributes\":{\"xs\":{\"type\":\"field\",\"field\":\"position_lines_xs\"},\"ys\":{\"type\":\"field\",\"field\":\"position_lines_ys\"},\"line_color\":{\"type\":\"field\",\"field\":\"returns_positive\",\"transform\":{\"type\":\"object\",\"name\":\"CategoricalColorMapper\",\"id\":\"p1039\",\"attributes\":{\"palette\":[\"rgb(178.5, 27.163043478260846, 0.0)\",\"rgb(0.0, 178.5, 0.0)\"],\"factors\":[\"0\",\"1\"]}}},\"line_width\":{\"type\":\"value\",\"value\":8},\"line_dash\":{\"type\":\"value\",\"value\":\"dotted\"}}},\"nonselection_glyph\":{\"type\":\"object\",\"name\":\"MultiLine\",\"id\":\"p1246\",\"attributes\":{\"xs\":{\"type\":\"field\",\"field\":\"position_lines_xs\"},\"ys\":{\"type\":\"field\",\"field\":\"position_lines_ys\"},\"line_color\":{\"type\":\"field\",\"field\":\"returns_positive\",\"transform\":{\"id\":\"p1039\"}},\"line_alpha\":{\"type\":\"value\",\"value\":0.1},\"line_width\":{\"type\":\"value\",\"value\":8},\"line_dash\":{\"type\":\"value\",\"value\":\"dotted\"}}},\"muted_glyph\":{\"type\":\"object\",\"name\":\"MultiLine\",\"id\":\"p1247\",\"attributes\":{\"xs\":{\"type\":\"field\",\"field\":\"position_lines_xs\"},\"ys\":{\"type\":\"field\",\"field\":\"position_lines_ys\"},\"line_color\":{\"type\":\"field\",\"field\":\"returns_positive\",\"transform\":{\"id\":\"p1039\"}},\"line_alpha\":{\"type\":\"value\",\"value\":0.2},\"line_width\":{\"type\":\"value\",\"value\":8},\"line_dash\":{\"type\":\"value\",\"value\":\"dotted\"}}}}}],\"toolbar\":{\"type\":\"object\",\"name\":\"Toolbar\",\"id\":\"p1010\",\"attributes\":{\"tools\":[{\"id\":\"p1023\"},{\"id\":\"p1024\"},{\"id\":\"p1025\"},{\"id\":\"p1027\"},{\"id\":\"p1028\"},{\"id\":\"p1029\"},{\"type\":\"object\",\"name\":\"SaveTool\",\"id\":\"p1030\"},{\"id\":\"p1295\"},{\"id\":\"p1297\"}],\"active_drag\":{\"id\":\"p1023\"},\"active_scroll\":{\"id\":\"p1024\"}}},\"toolbar_location\":null,\"left\":[{\"type\":\"object\",\"name\":\"LinearAxis\",\"id\":\"p1018\",\"attributes\":{\"ticker\":{\"type\":\"object\",\"name\":\"BasicTicker\",\"id\":\"p1019\",\"attributes\":{\"mantissas\":[1,2,5]}},\"formatter\":{\"type\":\"object\",\"name\":\"BasicTickFormatter\",\"id\":\"p1020\"},\"major_label_policy\":{\"type\":\"object\",\"name\":\"AllLabels\",\"id\":\"p1021\"}}}],\"below\":[{\"type\":\"object\",\"name\":\"LinearAxis\",\"id\":\"p1013\",\"attributes\":{\"visible\":false,\"ticker\":{\"type\":\"object\",\"name\":\"BasicTicker\",\"id\":\"p1014\",\"attributes\":{\"mantissas\":[1,2,5]}},\"formatter\":{\"type\":\"object\",\"name\":\"BasicTickFormatter\",\"id\":\"p1015\"},\"major_label_policy\":{\"type\":\"object\",\"name\":\"AllLabels\",\"id\":\"p1016\"}}}],\"center\":[{\"type\":\"object\",\"name\":\"Grid\",\"id\":\"p1017\",\"attributes\":{\"axis\":{\"id\":\"p1013\"}}},{\"type\":\"object\",\"name\":\"Grid\",\"id\":\"p1022\",\"attributes\":{\"dimension\":1,\"axis\":{\"id\":\"p1018\"}}},{\"type\":\"object\",\"name\":\"Legend\",\"id\":\"p1251\",\"attributes\":{\"location\":\"top_left\",\"border_line_color\":\"#333333\",\"click_policy\":\"hide\",\"label_text_font_size\":\"8pt\",\"margin\":0,\"padding\":5,\"spacing\":0,\"items\":[{\"type\":\"object\",\"name\":\"LegendItem\",\"id\":\"p1252\",\"attributes\":{\"label\":{\"type\":\"value\",\"value\":\"Trades (18)\"},\"renderers\":[{\"id\":\"p1248\"}]}}]}}],\"min_border_top\":3,\"min_border_bottom\":6,\"min_border_left\":0,\"min_border_right\":10}},2,0],[{\"type\":\"object\",\"name\":\"Figure\",\"id\":\"p1184\",\"attributes\":{\"width\":null,\"height\":90,\"sizing_mode\":\"stretch_width\",\"x_range\":{\"id\":\"p1001\"},\"y_range\":{\"id\":\"p1186\"},\"x_scale\":{\"type\":\"object\",\"name\":\"LinearScale\",\"id\":\"p1193\"},\"y_scale\":{\"type\":\"object\",\"name\":\"LinearScale\",\"id\":\"p1194\"},\"title\":{\"type\":\"object\",\"name\":\"Title\",\"id\":\"p1191\"},\"outline_line_color\":\"#666666\",\"renderers\":[{\"id\":\"p1219\"}],\"toolbar\":{\"type\":\"object\",\"name\":\"Toolbar\",\"id\":\"p1192\",\"attributes\":{\"tools\":[{\"id\":\"p1205\"},{\"id\":\"p1206\"},{\"id\":\"p1207\"},{\"id\":\"p1209\"},{\"id\":\"p1210\"},{\"id\":\"p1211\"},{\"type\":\"object\",\"name\":\"SaveTool\",\"id\":\"p1212\"},{\"id\":\"p1222\"},{\"id\":\"p1297\"}],\"active_drag\":{\"id\":\"p1205\"},\"active_scroll\":{\"id\":\"p1206\"}}},\"toolbar_location\":null,\"left\":[{\"type\":\"object\",\"name\":\"LinearAxis\",\"id\":\"p1200\",\"attributes\":{\"ticker\":{\"type\":\"object\",\"name\":\"BasicTicker\",\"id\":\"p1201\",\"attributes\":{\"mantissas\":[1,2,5]}},\"formatter\":{\"type\":\"object\",\"name\":\"NumeralTickFormatter\",\"id\":\"p1223\",\"attributes\":{\"format\":\"0 a\"}},\"axis_label\":\"Volume\",\"major_label_policy\":{\"type\":\"object\",\"name\":\"AllLabels\",\"id\":\"p1203\"},\"minor_tick_line_color\":null}}],\"below\":[{\"type\":\"object\",\"name\":\"LinearAxis\",\"id\":\"p1195\",\"attributes\":{\"visible\":true,\"ticker\":{\"type\":\"object\",\"name\":\"BasicTicker\",\"id\":\"p1196\",\"attributes\":{\"mantissas\":[1,2,5]}},\"formatter\":{\"id\":\"p1015\"},\"major_label_policy\":{\"type\":\"object\",\"name\":\"AllLabels\",\"id\":\"p1198\"}}}],\"center\":[{\"type\":\"object\",\"name\":\"Grid\",\"id\":\"p1199\",\"attributes\":{\"axis\":{\"id\":\"p1195\"}}},{\"type\":\"object\",\"name\":\"Grid\",\"id\":\"p1204\",\"attributes\":{\"dimension\":1,\"axis\":{\"id\":\"p1200\"}}}],\"min_border_top\":3,\"min_border_bottom\":6,\"min_border_left\":0,\"min_border_right\":10}},3,0],[{\"type\":\"object\",\"name\":\"Figure\",\"id\":\"p1253\",\"attributes\":{\"width\":null,\"height\":90,\"sizing_mode\":\"stretch_width\",\"x_range\":{\"id\":\"p1001\"},\"y_range\":{\"type\":\"object\",\"name\":\"DataRange1d\",\"id\":\"p1255\"},\"x_scale\":{\"type\":\"object\",\"name\":\"LinearScale\",\"id\":\"p1262\"},\"y_scale\":{\"type\":\"object\",\"name\":\"LinearScale\",\"id\":\"p1263\"},\"title\":{\"type\":\"object\",\"name\":\"Title\",\"id\":\"p1260\"},\"outline_line_color\":\"#666666\",\"renderers\":[{\"id\":\"p1288\"}],\"toolbar\":{\"type\":\"object\",\"name\":\"Toolbar\",\"id\":\"p1261\",\"attributes\":{\"tools\":[{\"id\":\"p1274\"},{\"id\":\"p1275\"},{\"id\":\"p1276\"},{\"id\":\"p1278\"},{\"id\":\"p1279\"},{\"id\":\"p1280\"},{\"type\":\"object\",\"name\":\"SaveTool\",\"id\":\"p1281\"},{\"id\":\"p1294\"},{\"id\":\"p1297\"}],\"active_drag\":{\"id\":\"p1274\"},\"active_scroll\":{\"id\":\"p1275\"}}},\"toolbar_location\":null,\"left\":[{\"type\":\"object\",\"name\":\"LinearAxis\",\"id\":\"p1269\",\"attributes\":{\"ticker\":{\"type\":\"object\",\"name\":\"BasicTicker\",\"id\":\"p1270\",\"attributes\":{\"mantissas\":[1,2,5]}},\"formatter\":{\"type\":\"object\",\"name\":\"BasicTickFormatter\",\"id\":\"p1271\"},\"major_label_policy\":{\"type\":\"object\",\"name\":\"AllLabels\",\"id\":\"p1272\"},\"minor_tick_line_color\":null}}],\"below\":[{\"type\":\"object\",\"name\":\"LinearAxis\",\"id\":\"p1264\",\"attributes\":{\"visible\":false,\"ticker\":{\"type\":\"object\",\"name\":\"BasicTicker\",\"id\":\"p1265\",\"attributes\":{\"mantissas\":[1,2,5]}},\"formatter\":{\"type\":\"object\",\"name\":\"BasicTickFormatter\",\"id\":\"p1266\"},\"major_label_policy\":{\"type\":\"object\",\"name\":\"AllLabels\",\"id\":\"p1267\"}}}],\"center\":[{\"type\":\"object\",\"name\":\"Grid\",\"id\":\"p1268\",\"attributes\":{\"axis\":{\"id\":\"p1264\"}}},{\"type\":\"object\",\"name\":\"Grid\",\"id\":\"p1273\",\"attributes\":{\"dimension\":1,\"axis\":{\"id\":\"p1269\"}}},{\"type\":\"object\",\"name\":\"Legend\",\"id\":\"p1291\",\"attributes\":{\"location\":\"top_left\",\"border_line_color\":\"#333333\",\"click_policy\":\"hide\",\"label_text_font_size\":\"8pt\",\"glyph_width\":0,\"margin\":0,\"padding\":5,\"spacing\":0,\"items\":[{\"type\":\"object\",\"name\":\"LegendItem\",\"id\":\"p1292\",\"attributes\":{\"label\":{\"type\":\"value\",\"value\":\"\\u03bb\"},\"renderers\":[{\"id\":\"p1288\"}]}}]}},{\"type\":\"object\",\"name\":\"Span\",\"id\":\"p1293\",\"attributes\":{\"location\":0.05858585858585859,\"line_color\":\"#666666\",\"line_width\":0.5,\"line_dash\":[6]}}],\"min_border_top\":3,\"min_border_bottom\":6,\"min_border_left\":0,\"min_border_right\":10}},4,0]]}}]}};\n",
       "  const render_items = [{\"docid\":\"df17c158-5aac-43ee-9665-1a297dd82cfb\",\"roots\":{\"p1307\":\"c935b484-f6e0-44ed-bd54-3aec73b5683b\"},\"root_ids\":[\"p1307\"]}];\n",
       "  root.Bokeh.embed.embed_items_notebook(docs_json, render_items);\n",
       "  }\n",
       "  if (root.Bokeh !== undefined) {\n",
       "    embed_document(root);\n",
       "  } else {\n",
       "    let attempts = 0;\n",
       "    const timer = setInterval(function(root) {\n",
       "      if (root.Bokeh !== undefined) {\n",
       "        clearInterval(timer);\n",
       "        embed_document(root);\n",
       "      } else {\n",
       "        attempts++;\n",
       "        if (attempts > 100) {\n",
       "          clearInterval(timer);\n",
       "          console.log(\"Bokeh: ERROR: Unable to run BokehJS code because BokehJS library is missing\");\n",
       "        }\n",
       "      }\n",
       "    }, 10, root)\n",
       "  }\n",
       "})(window);"
      ],
      "application/vnd.bokehjs_exec.v0+json": ""
     },
     "metadata": {
      "application/vnd.bokehjs_exec.v0+json": {
       "id": "p1307"
      }
     },
     "output_type": "display_data"
    },
    {
     "data": {
      "text/html": [
       "<div style=\"display: table;\"><div style=\"display: table-row;\"><div style=\"display: table-cell;\"><b title=\"bokeh.models.plots.GridPlot\">GridPlot</b>(</div><div style=\"display: table-cell;\">id&nbsp;=&nbsp;'p1307', <span id=\"p1330\" style=\"cursor: pointer;\">&hellip;)</span></div></div><div class=\"p1329\" style=\"display: none;\"><div style=\"display: table-cell;\"></div><div style=\"display: table-cell;\">align&nbsp;=&nbsp;'auto',</div></div><div class=\"p1329\" style=\"display: none;\"><div style=\"display: table-cell;\"></div><div style=\"display: table-cell;\">aspect_ratio&nbsp;=&nbsp;None,</div></div><div class=\"p1329\" style=\"display: none;\"><div style=\"display: table-cell;\"></div><div style=\"display: table-cell;\">children&nbsp;=&nbsp;[(figure(id='p1040', ...), 0, 0), (figure(id='p1133', ...), 1, 0), (figure(id='p1002', ...), 2, 0), (figure(id='p1184', ...), 3, 0), (figure(id='p1253', ...), 4, 0)],</div></div><div class=\"p1329\" style=\"display: none;\"><div style=\"display: table-cell;\"></div><div style=\"display: table-cell;\">cols&nbsp;=&nbsp;None,</div></div><div class=\"p1329\" style=\"display: none;\"><div style=\"display: table-cell;\"></div><div style=\"display: table-cell;\">context_menu&nbsp;=&nbsp;None,</div></div><div class=\"p1329\" style=\"display: none;\"><div style=\"display: table-cell;\"></div><div style=\"display: table-cell;\">css_classes&nbsp;=&nbsp;[],</div></div><div class=\"p1329\" style=\"display: none;\"><div style=\"display: table-cell;\"></div><div style=\"display: table-cell;\">disabled&nbsp;=&nbsp;False,</div></div><div class=\"p1329\" style=\"display: none;\"><div style=\"display: table-cell;\"></div><div style=\"display: table-cell;\">flow_mode&nbsp;=&nbsp;'block',</div></div><div class=\"p1329\" style=\"display: none;\"><div style=\"display: table-cell;\"></div><div style=\"display: table-cell;\">height&nbsp;=&nbsp;None,</div></div><div class=\"p1329\" style=\"display: none;\"><div style=\"display: table-cell;\"></div><div style=\"display: table-cell;\">height_policy&nbsp;=&nbsp;'auto',</div></div><div class=\"p1329\" style=\"display: none;\"><div style=\"display: table-cell;\"></div><div style=\"display: table-cell;\">js_event_callbacks&nbsp;=&nbsp;{},</div></div><div class=\"p1329\" style=\"display: none;\"><div style=\"display: table-cell;\"></div><div style=\"display: table-cell;\">js_property_callbacks&nbsp;=&nbsp;{},</div></div><div class=\"p1329\" style=\"display: none;\"><div style=\"display: table-cell;\"></div><div style=\"display: table-cell;\">margin&nbsp;=&nbsp;None,</div></div><div class=\"p1329\" style=\"display: none;\"><div style=\"display: table-cell;\"></div><div style=\"display: table-cell;\">max_height&nbsp;=&nbsp;None,</div></div><div class=\"p1329\" style=\"display: none;\"><div style=\"display: table-cell;\"></div><div style=\"display: table-cell;\">max_width&nbsp;=&nbsp;None,</div></div><div class=\"p1329\" style=\"display: none;\"><div style=\"display: table-cell;\"></div><div style=\"display: table-cell;\">min_height&nbsp;=&nbsp;None,</div></div><div class=\"p1329\" style=\"display: none;\"><div style=\"display: table-cell;\"></div><div style=\"display: table-cell;\">min_width&nbsp;=&nbsp;None,</div></div><div class=\"p1329\" style=\"display: none;\"><div style=\"display: table-cell;\"></div><div style=\"display: table-cell;\">name&nbsp;=&nbsp;None,</div></div><div class=\"p1329\" style=\"display: none;\"><div style=\"display: table-cell;\"></div><div style=\"display: table-cell;\">resizable&nbsp;=&nbsp;False,</div></div><div class=\"p1329\" style=\"display: none;\"><div style=\"display: table-cell;\"></div><div style=\"display: table-cell;\">rows&nbsp;=&nbsp;None,</div></div><div class=\"p1329\" style=\"display: none;\"><div style=\"display: table-cell;\"></div><div style=\"display: table-cell;\">sizing_mode&nbsp;=&nbsp;'stretch_width',</div></div><div class=\"p1329\" style=\"display: none;\"><div style=\"display: table-cell;\"></div><div style=\"display: table-cell;\">spacing&nbsp;=&nbsp;0,</div></div><div class=\"p1329\" style=\"display: none;\"><div style=\"display: table-cell;\"></div><div style=\"display: table-cell;\">styles&nbsp;=&nbsp;{},</div></div><div class=\"p1329\" style=\"display: none;\"><div style=\"display: table-cell;\"></div><div style=\"display: table-cell;\">stylesheets&nbsp;=&nbsp;[],</div></div><div class=\"p1329\" style=\"display: none;\"><div style=\"display: table-cell;\"></div><div style=\"display: table-cell;\">subscribed_events&nbsp;=&nbsp;PropertyValueSet(),</div></div><div class=\"p1329\" style=\"display: none;\"><div style=\"display: table-cell;\"></div><div style=\"display: table-cell;\">syncable&nbsp;=&nbsp;True,</div></div><div class=\"p1329\" style=\"display: none;\"><div style=\"display: table-cell;\"></div><div style=\"display: table-cell;\">tags&nbsp;=&nbsp;[],</div></div><div class=\"p1329\" style=\"display: none;\"><div style=\"display: table-cell;\"></div><div style=\"display: table-cell;\">toolbar&nbsp;=&nbsp;Toolbar(id='p1306', ...),</div></div><div class=\"p1329\" style=\"display: none;\"><div style=\"display: table-cell;\"></div><div style=\"display: table-cell;\">toolbar_location&nbsp;=&nbsp;'right',</div></div><div class=\"p1329\" style=\"display: none;\"><div style=\"display: table-cell;\"></div><div style=\"display: table-cell;\">visible&nbsp;=&nbsp;True,</div></div><div class=\"p1329\" style=\"display: none;\"><div style=\"display: table-cell;\"></div><div style=\"display: table-cell;\">width&nbsp;=&nbsp;None,</div></div><div class=\"p1329\" style=\"display: none;\"><div style=\"display: table-cell;\"></div><div style=\"display: table-cell;\">width_policy&nbsp;=&nbsp;'auto')</div></div></div>\n",
       "<script>\n",
       "(function() {\n",
       "  let expanded = false;\n",
       "  const ellipsis = document.getElementById(\"p1330\");\n",
       "  ellipsis.addEventListener(\"click\", function() {\n",
       "    const rows = document.getElementsByClassName(\"p1329\");\n",
       "    for (let i = 0; i < rows.length; i++) {\n",
       "      const el = rows[i];\n",
       "      el.style.display = expanded ? \"none\" : \"table-row\";\n",
       "    }\n",
       "    ellipsis.innerHTML = expanded ? \"&hellip;)\" : \"&lsaquo;&lsaquo;&lsaquo;\";\n",
       "    expanded = !expanded;\n",
       "  });\n",
       "})();\n",
       "</script>\n"
      ],
      "text/plain": [
       "GridPlot(id='p1307', ...)"
      ]
     },
     "execution_count": 5,
     "metadata": {},
     "output_type": "execute_result"
    }
   ],
   "source": [
    "bt.plot()"
   ]
  },
  {
   "cell_type": "code",
   "execution_count": 7,
   "id": "89feff6e",
   "metadata": {},
   "outputs": [
    {
     "data": {
      "application/vnd.plotly.v1+json": {
       "config": {
        "plotlyServerURL": "https://plot.ly"
       },
       "data": [
        {
         "close": [
          2604,
          2572.5,
          2631.8,
          2619.05,
          2607.3,
          2592.35,
          2599.05,
          2597.65,
          2550.9,
          2565.05,
          2557.05,
          2579.1,
          2617.6,
          2707.55,
          2712.2,
          2731.35,
          2723.3,
          2722.15,
          2682.45,
          2690.2,
          2650.5,
          2649.25,
          2609.1,
          2613.1,
          2625,
          2615.5,
          2578.35,
          2565.6,
          2599.3,
          2621.8,
          2584.5,
          2577.8,
          2502.2,
          2524.05,
          2544.7,
          2544.45,
          2543.3,
          2547.2,
          2575.9,
          2557.05,
          2518.55,
          2514.05,
          2536.9,
          2596.8,
          2558.4,
          2526.15,
          2471.6,
          2467.6,
          2444.1,
          2478.8,
          2474.7,
          2472.05,
          2442.65,
          2430.3,
          2415.95,
          2382.55,
          2337.35,
          2359.75,
          2353.85,
          2339.9,
          2326.95,
          2329,
          2311.45,
          2305.9,
          2351.95,
          2356.05,
          2336.65,
          2323.35,
          2378.1,
          2431.95,
          2430.05,
          2440.2,
          2414.4,
          2434.1,
          2378.9,
          2367.5,
          2383.7,
          2367.85,
          2322.55,
          2343.9,
          2326.05,
          2385.4,
          2408.7,
          2417.35,
          2359.25,
          2322.7,
          2284.5,
          2275.95,
          2237.05,
          2225.9,
          2223.1,
          2201.25,
          2269.7,
          2276.6,
          2247.8,
          2203.3,
          2237.55,
          2248,
          2234.7,
          2331.05,
          2331.45
         ],
         "high": [
          2621.95,
          2596.55,
          2636,
          2642,
          2626.4,
          2615.95,
          2613,
          2609,
          2588,
          2568.5,
          2577.9,
          2594,
          2624.9,
          2721.05,
          2731.65,
          2745.45,
          2755,
          2748,
          2716.75,
          2697,
          2695,
          2665,
          2660,
          2623,
          2633,
          2638.95,
          2615,
          2618.8,
          2604,
          2626,
          2633,
          2604.65,
          2590.5,
          2542,
          2548.8,
          2549.8,
          2548.9,
          2577,
          2579,
          2573,
          2561.05,
          2536.4,
          2547.95,
          2602,
          2606,
          2558,
          2532.5,
          2472.9,
          2479.65,
          2483,
          2491.1,
          2481.15,
          2475,
          2466.2,
          2443.65,
          2414.7,
          2387.35,
          2371.9,
          2387.65,
          2379.95,
          2348,
          2349,
          2321,
          2327.4,
          2359.9,
          2370.85,
          2354.9,
          2350,
          2381.9,
          2437.2,
          2463.8,
          2447.5,
          2449.75,
          2446.8,
          2430,
          2394.75,
          2396.15,
          2389.65,
          2367,
          2345.5,
          2351.65,
          2393.45,
          2424.6,
          2419,
          2416.9,
          2344,
          2344,
          2304.95,
          2298.3,
          2254,
          2251.95,
          2220,
          2274,
          2291.45,
          2269.9,
          2250,
          2254,
          2256.5,
          2244.8,
          2343.45,
          2349
         ],
         "low": [
          2590.05,
          2563,
          2588,
          2605.15,
          2590,
          2581.35,
          2580,
          2571.1,
          2543.1,
          2536.5,
          2552.25,
          2548.2,
          2582.1,
          2502,
          2694,
          2698.2,
          2716,
          2700.6,
          2678,
          2661,
          2642.15,
          2640.1,
          2601.85,
          2585,
          2606.7,
          2611,
          2571,
          2558.15,
          2566.7,
          2566,
          2576.1,
          2566.75,
          2492.25,
          2492.4,
          2515.25,
          2521.5,
          2525.5,
          2541.1,
          2548.2,
          2547.8,
          2514,
          2504,
          2518.3,
          2543.35,
          2546,
          2521.1,
          2465,
          2434.6,
          2427,
          2450.6,
          2460.35,
          2456.65,
          2437.25,
          2425,
          2387.35,
          2380,
          2311.65,
          2301,
          2341,
          2305,
          2311,
          2293,
          2305.8,
          2293,
          2307,
          2334,
          2321.3,
          2313.55,
          2323.65,
          2373,
          2425.05,
          2410.6,
          2410.1,
          2412.35,
          2375.05,
          2361.35,
          2368,
          2351.7,
          2313.65,
          2323.25,
          2321.6,
          2341.55,
          2400,
          2385,
          2355.1,
          2315.05,
          2275,
          2269.05,
          2227.4,
          2202.2,
          2212.7,
          2180,
          2217,
          2270,
          2243.05,
          2198,
          2200.2,
          2237,
          2211.1,
          2254.7,
          2315
         ],
         "open": [
          2610.3,
          2590,
          2600,
          2630.75,
          2622.3,
          2610,
          2584.95,
          2606.75,
          2588,
          2545,
          2575,
          2566,
          2589,
          2608.9,
          2703.95,
          2712.5,
          2741.8,
          2730,
          2712,
          2665.1,
          2685,
          2660,
          2646,
          2585.5,
          2613.1,
          2637.65,
          2602.5,
          2571,
          2581,
          2583.9,
          2621,
          2598,
          2563.3,
          2514.75,
          2530,
          2538,
          2527,
          2545.1,
          2550,
          2565.05,
          2557,
          2523.5,
          2526.65,
          2545.3,
          2606,
          2552.5,
          2524.85,
          2458.4,
          2472.7,
          2458,
          2473.5,
          2472.9,
          2475,
          2449,
          2440,
          2412.45,
          2384.4,
          2331.7,
          2382,
          2379.95,
          2318,
          2349,
          2315,
          2312,
          2313,
          2353.45,
          2354.9,
          2340.2,
          2329.95,
          2376,
          2449.45,
          2420,
          2445,
          2424,
          2425.95,
          2378,
          2372,
          2382,
          2356.1,
          2344,
          2337,
          2349.15,
          2400,
          2408.7,
          2416,
          2341.5,
          2329,
          2280,
          2284.1,
          2243,
          2244.75,
          2215,
          2218.95,
          2285,
          2268,
          2245.25,
          2217.5,
          2245,
          2239,
          2255,
          2345
         ],
         "type": "candlestick",
         "x": [
          330,
          331,
          332,
          333,
          334,
          335,
          336,
          337,
          338,
          339,
          340,
          341,
          342,
          343,
          344,
          345,
          346,
          347,
          348,
          349,
          350,
          351,
          352,
          353,
          354,
          355,
          356,
          357,
          358,
          359,
          360,
          361,
          362,
          363,
          364,
          365,
          366,
          367,
          368,
          369,
          370,
          371,
          372,
          373,
          374,
          375,
          376,
          377,
          378,
          379,
          380,
          381,
          382,
          383,
          384,
          385,
          386,
          387,
          388,
          389,
          390,
          391,
          392,
          393,
          394,
          395,
          396,
          397,
          398,
          399,
          400,
          401,
          402,
          403,
          404,
          405,
          406,
          407,
          408,
          409,
          410,
          411,
          412,
          413,
          414,
          415,
          416,
          417,
          418,
          419,
          420,
          421,
          422,
          423,
          424,
          425,
          426,
          427,
          428,
          429,
          430
         ]
        },
        {
         "marker": {
          "color": "Black",
          "size": 7,
          "symbol": "hexagram"
         },
         "mode": "markers",
         "name": "signal",
         "type": "scatter",
         "x": [
          330,
          331,
          332,
          333,
          334,
          335,
          336,
          337,
          338,
          339,
          340,
          341,
          342,
          343,
          344,
          345,
          346,
          347,
          348,
          349,
          350,
          351,
          352,
          353,
          354,
          355,
          356,
          357,
          358,
          359,
          360,
          361,
          362,
          363,
          364,
          365,
          366,
          367,
          368,
          369,
          370,
          371,
          372,
          373,
          374,
          375,
          376,
          377,
          378,
          379,
          380,
          381,
          382,
          383,
          384,
          385,
          386,
          387,
          388,
          389,
          390,
          391,
          392,
          393,
          394,
          395,
          396,
          397,
          398,
          399,
          400,
          401,
          402,
          403,
          404,
          405,
          406,
          407,
          408,
          409,
          410,
          411,
          412,
          413,
          414,
          415,
          416,
          417,
          418,
          419,
          420,
          421,
          422,
          423,
          424,
          425,
          426,
          427,
          428,
          429,
          430
         ],
         "y": [
          null,
          null,
          null,
          null,
          null,
          null,
          null,
          null,
          2538.6099999999997,
          null,
          null,
          null,
          null,
          null,
          null,
          null,
          null,
          null,
          null,
          null,
          2636.8650000000002,
          null,
          null,
          null,
          null,
          null,
          null,
          null,
          null,
          null,
          null,
          null,
          null,
          null,
          null,
          null,
          null,
          null,
          null,
          null,
          null,
          null,
          null,
          2607.865,
          null,
          null,
          null,
          null,
          null,
          null,
          null,
          null,
          null,
          null,
          null,
          null,
          null,
          null,
          null,
          null,
          null,
          null,
          null,
          null,
          null,
          2374.535,
          null,
          null,
          null,
          null,
          null,
          null,
          null,
          null,
          null,
          null,
          null,
          null,
          null,
          null,
          null,
          null,
          null,
          null,
          null,
          null,
          null,
          null,
          null,
          null,
          null,
          null,
          null,
          null,
          null,
          null,
          null,
          null,
          null,
          2352.325,
          null
         ]
        }
       ],
       "layout": {
        "shapes": [
         {
          "layer": "below",
          "line": {
           "color": "blue"
          },
          "type": "line",
          "x0": 328,
          "x1": 433,
          "xref": "x",
          "y0": 2366,
          "y1": 2366,
          "yref": "y"
         },
         {
          "layer": "below",
          "line": {
           "color": "blue"
          },
          "type": "line",
          "x0": 328,
          "x1": 433,
          "xref": "x",
          "y0": 2456.4,
          "y1": 2456.4,
          "yref": "y"
         },
         {
          "layer": "below",
          "line": {
           "color": "blue"
          },
          "type": "line",
          "x0": 328,
          "x1": 433,
          "xref": "x",
          "y0": 2309,
          "y1": 2309,
          "yref": "y"
         },
         {
          "layer": "below",
          "line": {
           "color": "blue"
          },
          "type": "line",
          "x0": 328,
          "x1": 433,
          "xref": "x",
          "y0": 2357.15,
          "y1": 2357.15,
          "yref": "y"
         },
         {
          "layer": "below",
          "line": {
           "color": "blue"
          },
          "type": "line",
          "x0": 328,
          "x1": 433,
          "xref": "x",
          "y0": 2247.1,
          "y1": 2247.1,
          "yref": "y"
         },
         {
          "layer": "below",
          "line": {
           "color": "blue"
          },
          "type": "line",
          "x0": 328,
          "x1": 433,
          "xref": "x",
          "y0": 2305,
          "y1": 2305,
          "yref": "y"
         },
         {
          "layer": "below",
          "line": {
           "color": "blue"
          },
          "type": "line",
          "x0": 328,
          "x1": 433,
          "xref": "x",
          "y0": 2180,
          "y1": 2180,
          "yref": "y"
         },
         {
          "layer": "below",
          "line": {
           "color": "blue"
          },
          "type": "line",
          "x0": 328,
          "x1": 433,
          "xref": "x",
          "y0": 2521.8,
          "y1": 2521.8,
          "yref": "y"
         },
         {
          "layer": "below",
          "line": {
           "color": "blue"
          },
          "type": "line",
          "x0": 328,
          "x1": 433,
          "xref": "x",
          "y0": 2370,
          "y1": 2370,
          "yref": "y"
         },
         {
          "layer": "below",
          "line": {
           "color": "blue"
          },
          "type": "line",
          "x0": 328,
          "x1": 433,
          "xref": "x",
          "y0": 2540.1,
          "y1": 2540.1,
          "yref": "y"
         },
         {
          "layer": "below",
          "line": {
           "color": "blue"
          },
          "type": "line",
          "x0": 328,
          "x1": 433,
          "xref": "x",
          "y0": 2445,
          "y1": 2445,
          "yref": "y"
         },
         {
          "layer": "below",
          "line": {
           "color": "blue"
          },
          "type": "line",
          "x0": 328,
          "x1": 433,
          "xref": "x",
          "y0": 2365,
          "y1": 2365,
          "yref": "y"
         },
         {
          "layer": "below",
          "line": {
           "color": "blue"
          },
          "type": "line",
          "x0": 328,
          "x1": 433,
          "xref": "x",
          "y0": 2402,
          "y1": 2402,
          "yref": "y"
         },
         {
          "layer": "below",
          "line": {
           "color": "blue"
          },
          "type": "line",
          "x0": 328,
          "x1": 433,
          "xref": "x",
          "y0": 2586,
          "y1": 2586,
          "yref": "y"
         },
         {
          "layer": "below",
          "line": {
           "color": "blue"
          },
          "type": "line",
          "x0": 328,
          "x1": 433,
          "xref": "x",
          "y0": 2525.7,
          "y1": 2525.7,
          "yref": "y"
         },
         {
          "layer": "below",
          "line": {
           "color": "blue"
          },
          "type": "line",
          "x0": 328,
          "x1": 433,
          "xref": "x",
          "y0": 2311,
          "y1": 2311,
          "yref": "y"
         },
         {
          "layer": "below",
          "line": {
           "color": "blue"
          },
          "type": "line",
          "x0": 328,
          "x1": 433,
          "xref": "x",
          "y0": 2343.1,
          "y1": 2343.1,
          "yref": "y"
         },
         {
          "layer": "below",
          "line": {
           "color": "blue"
          },
          "type": "line",
          "x0": 328,
          "x1": 433,
          "xref": "x",
          "y0": 2432.8,
          "y1": 2432.8,
          "yref": "y"
         },
         {
          "layer": "below",
          "line": {
           "color": "blue"
          },
          "type": "line",
          "x0": 328,
          "x1": 433,
          "xref": "x",
          "y0": 2502,
          "y1": 2502,
          "yref": "y"
         },
         {
          "layer": "below",
          "line": {
           "color": "blue"
          },
          "type": "line",
          "x0": 328,
          "x1": 433,
          "xref": "x",
          "y0": 2558.15,
          "y1": 2558.15,
          "yref": "y"
         },
         {
          "layer": "below",
          "line": {
           "color": "blue"
          },
          "type": "line",
          "x0": 328,
          "x1": 433,
          "xref": "x",
          "y0": 2492.25,
          "y1": 2492.25,
          "yref": "y"
         },
         {
          "layer": "below",
          "line": {
           "color": "blue"
          },
          "type": "line",
          "x0": 328,
          "x1": 433,
          "xref": "x",
          "y0": 2427,
          "y1": 2427,
          "yref": "y"
         },
         {
          "layer": "below",
          "line": {
           "color": "blue"
          },
          "type": "line",
          "x0": 328,
          "x1": 433,
          "xref": "x",
          "y0": 2293,
          "y1": 2293,
          "yref": "y"
         },
         {
          "layer": "below",
          "line": {
           "color": "blue"
          },
          "type": "line",
          "x0": 328,
          "x1": 433,
          "xref": "x",
          "y0": 2180,
          "y1": 2180,
          "yref": "y"
         },
         {
          "layer": "below",
          "line": {
           "color": "blue"
          },
          "type": "line",
          "x0": 328,
          "x1": 433,
          "xref": "x",
          "y0": 2203,
          "y1": 2203,
          "yref": "y"
         },
         {
          "layer": "below",
          "line": {
           "color": "blue"
          },
          "type": "line",
          "x0": 328,
          "x1": 433,
          "xref": "x",
          "y0": 2480,
          "y1": 2480,
          "yref": "y"
         },
         {
          "layer": "below",
          "line": {
           "color": "blue"
          },
          "type": "line",
          "x0": 328,
          "x1": 433,
          "xref": "x",
          "y0": 2751.35,
          "y1": 2751.35,
          "yref": "y"
         },
         {
          "layer": "below",
          "line": {
           "color": "blue"
          },
          "type": "line",
          "x0": 328,
          "x1": 433,
          "xref": "x",
          "y0": 2602.2,
          "y1": 2602.2,
          "yref": "y"
         },
         {
          "layer": "below",
          "line": {
           "color": "blue"
          },
          "type": "line",
          "x0": 328,
          "x1": 433,
          "xref": "x",
          "y0": 2502,
          "y1": 2502,
          "yref": "y"
         },
         {
          "layer": "below",
          "line": {
           "color": "blue"
          },
          "type": "line",
          "x0": 328,
          "x1": 433,
          "xref": "x",
          "y0": 2567.3,
          "y1": 2567.3,
          "yref": "y"
         },
         {
          "layer": "below",
          "line": {
           "color": "blue"
          },
          "type": "line",
          "x0": 328,
          "x1": 433,
          "xref": "x",
          "y0": 2420.6,
          "y1": 2420.6,
          "yref": "y"
         },
         {
          "layer": "below",
          "line": {
           "color": "blue"
          },
          "type": "line",
          "x0": 328,
          "x1": 433,
          "xref": "x",
          "y0": 2456.4,
          "y1": 2456.4,
          "yref": "y"
         },
         {
          "layer": "below",
          "line": {
           "color": "blue"
          },
          "type": "line",
          "x0": 328,
          "x1": 433,
          "xref": "x",
          "y0": 2414.85,
          "y1": 2414.85,
          "yref": "y"
         },
         {
          "layer": "below",
          "line": {
           "color": "blue"
          },
          "type": "line",
          "x0": 328,
          "x1": 433,
          "xref": "x",
          "y0": 2688,
          "y1": 2688,
          "yref": "y"
         },
         {
          "layer": "below",
          "line": {
           "color": "blue"
          },
          "type": "line",
          "x0": 328,
          "x1": 433,
          "xref": "x",
          "y0": 2615.9,
          "y1": 2615.9,
          "yref": "y"
         },
         {
          "layer": "below",
          "line": {
           "color": "blue"
          },
          "type": "line",
          "x0": 328,
          "x1": 433,
          "xref": "x",
          "y0": 2542.5,
          "y1": 2542.5,
          "yref": "y"
         },
         {
          "layer": "below",
          "line": {
           "color": "blue"
          },
          "type": "line",
          "x0": 328,
          "x1": 433,
          "xref": "x",
          "y0": 2617.75,
          "y1": 2617.75,
          "yref": "y"
         },
         {
          "layer": "below",
          "line": {
           "color": "blue"
          },
          "type": "line",
          "x0": 328,
          "x1": 433,
          "xref": "x",
          "y0": 2676.9,
          "y1": 2676.9,
          "yref": "y"
         },
         {
          "layer": "below",
          "line": {
           "color": "blue"
          },
          "type": "line",
          "x0": 328,
          "x1": 433,
          "xref": "x",
          "y0": 2629.7,
          "y1": 2629.7,
          "yref": "y"
         },
         {
          "layer": "below",
          "line": {
           "color": "blue"
          },
          "type": "line",
          "x0": 328,
          "x1": 433,
          "xref": "x",
          "y0": 2450,
          "y1": 2450,
          "yref": "y"
         },
         {
          "layer": "below",
          "line": {
           "color": "blue"
          },
          "type": "line",
          "x0": 328,
          "x1": 433,
          "xref": "x",
          "y0": 2527.85,
          "y1": 2527.85,
          "yref": "y"
         },
         {
          "layer": "below",
          "line": {
           "color": "blue"
          },
          "type": "line",
          "x0": 328,
          "x1": 433,
          "xref": "x",
          "y0": 2642,
          "y1": 2642,
          "yref": "y"
         },
         {
          "layer": "below",
          "line": {
           "color": "blue"
          },
          "type": "line",
          "x0": 328,
          "x1": 433,
          "xref": "x",
          "y0": 2755,
          "y1": 2755,
          "yref": "y"
         },
         {
          "layer": "below",
          "line": {
           "color": "blue"
          },
          "type": "line",
          "x0": 328,
          "x1": 433,
          "xref": "x",
          "y0": 2633,
          "y1": 2633,
          "yref": "y"
         },
         {
          "layer": "below",
          "line": {
           "color": "blue"
          },
          "type": "line",
          "x0": 328,
          "x1": 433,
          "xref": "x",
          "y0": 2579,
          "y1": 2579,
          "yref": "y"
         },
         {
          "layer": "below",
          "line": {
           "color": "blue"
          },
          "type": "line",
          "x0": 328,
          "x1": 433,
          "xref": "x",
          "y0": 2463.8,
          "y1": 2463.8,
          "yref": "y"
         },
         {
          "layer": "below",
          "line": {
           "color": "blue"
          },
          "type": "line",
          "x0": 328,
          "x1": 433,
          "xref": "x",
          "y0": 2424.6,
          "y1": 2424.6,
          "yref": "y"
         },
         {
          "layer": "below",
          "line": {
           "color": "blue"
          },
          "type": "line",
          "x0": 328,
          "x1": 433,
          "xref": "x",
          "y0": 2291.45,
          "y1": 2291.45,
          "yref": "y"
         }
        ],
        "template": {
         "data": {
          "bar": [
           {
            "error_x": {
             "color": "#2a3f5f"
            },
            "error_y": {
             "color": "#2a3f5f"
            },
            "marker": {
             "line": {
              "color": "#E5ECF6",
              "width": 0.5
             },
             "pattern": {
              "fillmode": "overlay",
              "size": 10,
              "solidity": 0.2
             }
            },
            "type": "bar"
           }
          ],
          "barpolar": [
           {
            "marker": {
             "line": {
              "color": "#E5ECF6",
              "width": 0.5
             },
             "pattern": {
              "fillmode": "overlay",
              "size": 10,
              "solidity": 0.2
             }
            },
            "type": "barpolar"
           }
          ],
          "carpet": [
           {
            "aaxis": {
             "endlinecolor": "#2a3f5f",
             "gridcolor": "white",
             "linecolor": "white",
             "minorgridcolor": "white",
             "startlinecolor": "#2a3f5f"
            },
            "baxis": {
             "endlinecolor": "#2a3f5f",
             "gridcolor": "white",
             "linecolor": "white",
             "minorgridcolor": "white",
             "startlinecolor": "#2a3f5f"
            },
            "type": "carpet"
           }
          ],
          "choropleth": [
           {
            "colorbar": {
             "outlinewidth": 0,
             "ticks": ""
            },
            "type": "choropleth"
           }
          ],
          "contour": [
           {
            "colorbar": {
             "outlinewidth": 0,
             "ticks": ""
            },
            "colorscale": [
             [
              0,
              "#0d0887"
             ],
             [
              0.1111111111111111,
              "#46039f"
             ],
             [
              0.2222222222222222,
              "#7201a8"
             ],
             [
              0.3333333333333333,
              "#9c179e"
             ],
             [
              0.4444444444444444,
              "#bd3786"
             ],
             [
              0.5555555555555556,
              "#d8576b"
             ],
             [
              0.6666666666666666,
              "#ed7953"
             ],
             [
              0.7777777777777778,
              "#fb9f3a"
             ],
             [
              0.8888888888888888,
              "#fdca26"
             ],
             [
              1,
              "#f0f921"
             ]
            ],
            "type": "contour"
           }
          ],
          "contourcarpet": [
           {
            "colorbar": {
             "outlinewidth": 0,
             "ticks": ""
            },
            "type": "contourcarpet"
           }
          ],
          "heatmap": [
           {
            "colorbar": {
             "outlinewidth": 0,
             "ticks": ""
            },
            "colorscale": [
             [
              0,
              "#0d0887"
             ],
             [
              0.1111111111111111,
              "#46039f"
             ],
             [
              0.2222222222222222,
              "#7201a8"
             ],
             [
              0.3333333333333333,
              "#9c179e"
             ],
             [
              0.4444444444444444,
              "#bd3786"
             ],
             [
              0.5555555555555556,
              "#d8576b"
             ],
             [
              0.6666666666666666,
              "#ed7953"
             ],
             [
              0.7777777777777778,
              "#fb9f3a"
             ],
             [
              0.8888888888888888,
              "#fdca26"
             ],
             [
              1,
              "#f0f921"
             ]
            ],
            "type": "heatmap"
           }
          ],
          "heatmapgl": [
           {
            "colorbar": {
             "outlinewidth": 0,
             "ticks": ""
            },
            "colorscale": [
             [
              0,
              "#0d0887"
             ],
             [
              0.1111111111111111,
              "#46039f"
             ],
             [
              0.2222222222222222,
              "#7201a8"
             ],
             [
              0.3333333333333333,
              "#9c179e"
             ],
             [
              0.4444444444444444,
              "#bd3786"
             ],
             [
              0.5555555555555556,
              "#d8576b"
             ],
             [
              0.6666666666666666,
              "#ed7953"
             ],
             [
              0.7777777777777778,
              "#fb9f3a"
             ],
             [
              0.8888888888888888,
              "#fdca26"
             ],
             [
              1,
              "#f0f921"
             ]
            ],
            "type": "heatmapgl"
           }
          ],
          "histogram": [
           {
            "marker": {
             "pattern": {
              "fillmode": "overlay",
              "size": 10,
              "solidity": 0.2
             }
            },
            "type": "histogram"
           }
          ],
          "histogram2d": [
           {
            "colorbar": {
             "outlinewidth": 0,
             "ticks": ""
            },
            "colorscale": [
             [
              0,
              "#0d0887"
             ],
             [
              0.1111111111111111,
              "#46039f"
             ],
             [
              0.2222222222222222,
              "#7201a8"
             ],
             [
              0.3333333333333333,
              "#9c179e"
             ],
             [
              0.4444444444444444,
              "#bd3786"
             ],
             [
              0.5555555555555556,
              "#d8576b"
             ],
             [
              0.6666666666666666,
              "#ed7953"
             ],
             [
              0.7777777777777778,
              "#fb9f3a"
             ],
             [
              0.8888888888888888,
              "#fdca26"
             ],
             [
              1,
              "#f0f921"
             ]
            ],
            "type": "histogram2d"
           }
          ],
          "histogram2dcontour": [
           {
            "colorbar": {
             "outlinewidth": 0,
             "ticks": ""
            },
            "colorscale": [
             [
              0,
              "#0d0887"
             ],
             [
              0.1111111111111111,
              "#46039f"
             ],
             [
              0.2222222222222222,
              "#7201a8"
             ],
             [
              0.3333333333333333,
              "#9c179e"
             ],
             [
              0.4444444444444444,
              "#bd3786"
             ],
             [
              0.5555555555555556,
              "#d8576b"
             ],
             [
              0.6666666666666666,
              "#ed7953"
             ],
             [
              0.7777777777777778,
              "#fb9f3a"
             ],
             [
              0.8888888888888888,
              "#fdca26"
             ],
             [
              1,
              "#f0f921"
             ]
            ],
            "type": "histogram2dcontour"
           }
          ],
          "mesh3d": [
           {
            "colorbar": {
             "outlinewidth": 0,
             "ticks": ""
            },
            "type": "mesh3d"
           }
          ],
          "parcoords": [
           {
            "line": {
             "colorbar": {
              "outlinewidth": 0,
              "ticks": ""
             }
            },
            "type": "parcoords"
           }
          ],
          "pie": [
           {
            "automargin": true,
            "type": "pie"
           }
          ],
          "scatter": [
           {
            "fillpattern": {
             "fillmode": "overlay",
             "size": 10,
             "solidity": 0.2
            },
            "type": "scatter"
           }
          ],
          "scatter3d": [
           {
            "line": {
             "colorbar": {
              "outlinewidth": 0,
              "ticks": ""
             }
            },
            "marker": {
             "colorbar": {
              "outlinewidth": 0,
              "ticks": ""
             }
            },
            "type": "scatter3d"
           }
          ],
          "scattercarpet": [
           {
            "marker": {
             "colorbar": {
              "outlinewidth": 0,
              "ticks": ""
             }
            },
            "type": "scattercarpet"
           }
          ],
          "scattergeo": [
           {
            "marker": {
             "colorbar": {
              "outlinewidth": 0,
              "ticks": ""
             }
            },
            "type": "scattergeo"
           }
          ],
          "scattergl": [
           {
            "marker": {
             "colorbar": {
              "outlinewidth": 0,
              "ticks": ""
             }
            },
            "type": "scattergl"
           }
          ],
          "scattermapbox": [
           {
            "marker": {
             "colorbar": {
              "outlinewidth": 0,
              "ticks": ""
             }
            },
            "type": "scattermapbox"
           }
          ],
          "scatterpolar": [
           {
            "marker": {
             "colorbar": {
              "outlinewidth": 0,
              "ticks": ""
             }
            },
            "type": "scatterpolar"
           }
          ],
          "scatterpolargl": [
           {
            "marker": {
             "colorbar": {
              "outlinewidth": 0,
              "ticks": ""
             }
            },
            "type": "scatterpolargl"
           }
          ],
          "scatterternary": [
           {
            "marker": {
             "colorbar": {
              "outlinewidth": 0,
              "ticks": ""
             }
            },
            "type": "scatterternary"
           }
          ],
          "surface": [
           {
            "colorbar": {
             "outlinewidth": 0,
             "ticks": ""
            },
            "colorscale": [
             [
              0,
              "#0d0887"
             ],
             [
              0.1111111111111111,
              "#46039f"
             ],
             [
              0.2222222222222222,
              "#7201a8"
             ],
             [
              0.3333333333333333,
              "#9c179e"
             ],
             [
              0.4444444444444444,
              "#bd3786"
             ],
             [
              0.5555555555555556,
              "#d8576b"
             ],
             [
              0.6666666666666666,
              "#ed7953"
             ],
             [
              0.7777777777777778,
              "#fb9f3a"
             ],
             [
              0.8888888888888888,
              "#fdca26"
             ],
             [
              1,
              "#f0f921"
             ]
            ],
            "type": "surface"
           }
          ],
          "table": [
           {
            "cells": {
             "fill": {
              "color": "#EBF0F8"
             },
             "line": {
              "color": "white"
             }
            },
            "header": {
             "fill": {
              "color": "#C8D4E3"
             },
             "line": {
              "color": "white"
             }
            },
            "type": "table"
           }
          ]
         },
         "layout": {
          "annotationdefaults": {
           "arrowcolor": "#2a3f5f",
           "arrowhead": 0,
           "arrowwidth": 1
          },
          "autotypenumbers": "strict",
          "coloraxis": {
           "colorbar": {
            "outlinewidth": 0,
            "ticks": ""
           }
          },
          "colorscale": {
           "diverging": [
            [
             0,
             "#8e0152"
            ],
            [
             0.1,
             "#c51b7d"
            ],
            [
             0.2,
             "#de77ae"
            ],
            [
             0.3,
             "#f1b6da"
            ],
            [
             0.4,
             "#fde0ef"
            ],
            [
             0.5,
             "#f7f7f7"
            ],
            [
             0.6,
             "#e6f5d0"
            ],
            [
             0.7,
             "#b8e186"
            ],
            [
             0.8,
             "#7fbc41"
            ],
            [
             0.9,
             "#4d9221"
            ],
            [
             1,
             "#276419"
            ]
           ],
           "sequential": [
            [
             0,
             "#0d0887"
            ],
            [
             0.1111111111111111,
             "#46039f"
            ],
            [
             0.2222222222222222,
             "#7201a8"
            ],
            [
             0.3333333333333333,
             "#9c179e"
            ],
            [
             0.4444444444444444,
             "#bd3786"
            ],
            [
             0.5555555555555556,
             "#d8576b"
            ],
            [
             0.6666666666666666,
             "#ed7953"
            ],
            [
             0.7777777777777778,
             "#fb9f3a"
            ],
            [
             0.8888888888888888,
             "#fdca26"
            ],
            [
             1,
             "#f0f921"
            ]
           ],
           "sequentialminus": [
            [
             0,
             "#0d0887"
            ],
            [
             0.1111111111111111,
             "#46039f"
            ],
            [
             0.2222222222222222,
             "#7201a8"
            ],
            [
             0.3333333333333333,
             "#9c179e"
            ],
            [
             0.4444444444444444,
             "#bd3786"
            ],
            [
             0.5555555555555556,
             "#d8576b"
            ],
            [
             0.6666666666666666,
             "#ed7953"
            ],
            [
             0.7777777777777778,
             "#fb9f3a"
            ],
            [
             0.8888888888888888,
             "#fdca26"
            ],
            [
             1,
             "#f0f921"
            ]
           ]
          },
          "colorway": [
           "#636efa",
           "#EF553B",
           "#00cc96",
           "#ab63fa",
           "#FFA15A",
           "#19d3f3",
           "#FF6692",
           "#B6E880",
           "#FF97FF",
           "#FECB52"
          ],
          "font": {
           "color": "#2a3f5f"
          },
          "geo": {
           "bgcolor": "white",
           "lakecolor": "white",
           "landcolor": "#E5ECF6",
           "showlakes": true,
           "showland": true,
           "subunitcolor": "white"
          },
          "hoverlabel": {
           "align": "left"
          },
          "hovermode": "closest",
          "mapbox": {
           "style": "light"
          },
          "paper_bgcolor": "white",
          "plot_bgcolor": "#E5ECF6",
          "polar": {
           "angularaxis": {
            "gridcolor": "white",
            "linecolor": "white",
            "ticks": ""
           },
           "bgcolor": "#E5ECF6",
           "radialaxis": {
            "gridcolor": "white",
            "linecolor": "white",
            "ticks": ""
           }
          },
          "scene": {
           "xaxis": {
            "backgroundcolor": "#E5ECF6",
            "gridcolor": "white",
            "gridwidth": 2,
            "linecolor": "white",
            "showbackground": true,
            "ticks": "",
            "zerolinecolor": "white"
           },
           "yaxis": {
            "backgroundcolor": "#E5ECF6",
            "gridcolor": "white",
            "gridwidth": 2,
            "linecolor": "white",
            "showbackground": true,
            "ticks": "",
            "zerolinecolor": "white"
           },
           "zaxis": {
            "backgroundcolor": "#E5ECF6",
            "gridcolor": "white",
            "gridwidth": 2,
            "linecolor": "white",
            "showbackground": true,
            "ticks": "",
            "zerolinecolor": "white"
           }
          },
          "shapedefaults": {
           "line": {
            "color": "#2a3f5f"
           }
          },
          "ternary": {
           "aaxis": {
            "gridcolor": "white",
            "linecolor": "white",
            "ticks": ""
           },
           "baxis": {
            "gridcolor": "white",
            "linecolor": "white",
            "ticks": ""
           },
           "bgcolor": "#E5ECF6",
           "caxis": {
            "gridcolor": "white",
            "linecolor": "white",
            "ticks": ""
           }
          },
          "title": {
           "x": 0.05
          },
          "xaxis": {
           "automargin": true,
           "gridcolor": "white",
           "linecolor": "white",
           "ticks": "",
           "title": {
            "standoff": 15
           },
           "zerolinecolor": "white",
           "zerolinewidth": 2
          },
          "yaxis": {
           "automargin": true,
           "gridcolor": "white",
           "linecolor": "white",
           "ticks": "",
           "title": {
            "standoff": 15
           },
           "zerolinecolor": "white",
           "zerolinewidth": 2
          }
         }
        },
        "title": {
         "font": {
          "size": 18
         },
         "text": "RELIANCE"
        }
       }
      },
      "text/html": [
       "<div>                            <div id=\"48ca1d28-c99a-47ef-bb18-9e360594ebe5\" class=\"plotly-graph-div\" style=\"height:525px; width:100%;\"></div>            <script type=\"text/javascript\">                require([\"plotly\"], function(Plotly) {                    window.PLOTLYENV=window.PLOTLYENV || {};                                    if (document.getElementById(\"48ca1d28-c99a-47ef-bb18-9e360594ebe5\")) {                    Plotly.newPlot(                        \"48ca1d28-c99a-47ef-bb18-9e360594ebe5\",                        [{\"close\":[2604.0,2572.5,2631.8,2619.05,2607.3,2592.35,2599.05,2597.65,2550.9,2565.05,2557.05,2579.1,2617.6,2707.55,2712.2,2731.35,2723.3,2722.15,2682.45,2690.2,2650.5,2649.25,2609.1,2613.1,2625.0,2615.5,2578.35,2565.6,2599.3,2621.8,2584.5,2577.8,2502.2,2524.05,2544.7,2544.45,2543.3,2547.2,2575.9,2557.05,2518.55,2514.05,2536.9,2596.8,2558.4,2526.15,2471.6,2467.6,2444.1,2478.8,2474.7,2472.05,2442.65,2430.3,2415.95,2382.55,2337.35,2359.75,2353.85,2339.9,2326.95,2329.0,2311.45,2305.9,2351.95,2356.05,2336.65,2323.35,2378.1,2431.95,2430.05,2440.2,2414.4,2434.1,2378.9,2367.5,2383.7,2367.85,2322.55,2343.9,2326.05,2385.4,2408.7,2417.35,2359.25,2322.7,2284.5,2275.95,2237.05,2225.9,2223.1,2201.25,2269.7,2276.6,2247.8,2203.3,2237.55,2248.0,2234.7,2331.05,2331.45],\"high\":[2621.95,2596.55,2636.0,2642.0,2626.4,2615.95,2613.0,2609.0,2588.0,2568.5,2577.9,2594.0,2624.9,2721.05,2731.65,2745.45,2755.0,2748.0,2716.75,2697.0,2695.0,2665.0,2660.0,2623.0,2633.0,2638.95,2615.0,2618.8,2604.0,2626.0,2633.0,2604.65,2590.5,2542.0,2548.8,2549.8,2548.9,2577.0,2579.0,2573.0,2561.05,2536.4,2547.95,2602.0,2606.0,2558.0,2532.5,2472.9,2479.65,2483.0,2491.1,2481.15,2475.0,2466.2,2443.65,2414.7,2387.35,2371.9,2387.65,2379.95,2348.0,2349.0,2321.0,2327.4,2359.9,2370.85,2354.9,2350.0,2381.9,2437.2,2463.8,2447.5,2449.75,2446.8,2430.0,2394.75,2396.15,2389.65,2367.0,2345.5,2351.65,2393.45,2424.6,2419.0,2416.9,2344.0,2344.0,2304.95,2298.3,2254.0,2251.95,2220.0,2274.0,2291.45,2269.9,2250.0,2254.0,2256.5,2244.8,2343.45,2349.0],\"low\":[2590.05,2563.0,2588.0,2605.15,2590.0,2581.35,2580.0,2571.1,2543.1,2536.5,2552.25,2548.2,2582.1,2502.0,2694.0,2698.2,2716.0,2700.6,2678.0,2661.0,2642.15,2640.1,2601.85,2585.0,2606.7,2611.0,2571.0,2558.15,2566.7,2566.0,2576.1,2566.75,2492.25,2492.4,2515.25,2521.5,2525.5,2541.1,2548.2,2547.8,2514.0,2504.0,2518.3,2543.35,2546.0,2521.1,2465.0,2434.6,2427.0,2450.6,2460.35,2456.65,2437.25,2425.0,2387.35,2380.0,2311.65,2301.0,2341.0,2305.0,2311.0,2293.0,2305.8,2293.0,2307.0,2334.0,2321.3,2313.55,2323.65,2373.0,2425.05,2410.6,2410.1,2412.35,2375.05,2361.35,2368.0,2351.7,2313.65,2323.25,2321.6,2341.55,2400.0,2385.0,2355.1,2315.05,2275.0,2269.05,2227.4,2202.2,2212.7,2180.0,2217.0,2270.0,2243.05,2198.0,2200.2,2237.0,2211.1,2254.7,2315.0],\"open\":[2610.3,2590.0,2600.0,2630.75,2622.3,2610.0,2584.95,2606.75,2588.0,2545.0,2575.0,2566.0,2589.0,2608.9,2703.95,2712.5,2741.8,2730.0,2712.0,2665.1,2685.0,2660.0,2646.0,2585.5,2613.1,2637.65,2602.5,2571.0,2581.0,2583.9,2621.0,2598.0,2563.3,2514.75,2530.0,2538.0,2527.0,2545.1,2550.0,2565.05,2557.0,2523.5,2526.65,2545.3,2606.0,2552.5,2524.85,2458.4,2472.7,2458.0,2473.5,2472.9,2475.0,2449.0,2440.0,2412.45,2384.4,2331.7,2382.0,2379.95,2318.0,2349.0,2315.0,2312.0,2313.0,2353.45,2354.9,2340.2,2329.95,2376.0,2449.45,2420.0,2445.0,2424.0,2425.95,2378.0,2372.0,2382.0,2356.1,2344.0,2337.0,2349.15,2400.0,2408.7,2416.0,2341.5,2329.0,2280.0,2284.1,2243.0,2244.75,2215.0,2218.95,2285.0,2268.0,2245.25,2217.5,2245.0,2239.0,2255.0,2345.0],\"x\":[330,331,332,333,334,335,336,337,338,339,340,341,342,343,344,345,346,347,348,349,350,351,352,353,354,355,356,357,358,359,360,361,362,363,364,365,366,367,368,369,370,371,372,373,374,375,376,377,378,379,380,381,382,383,384,385,386,387,388,389,390,391,392,393,394,395,396,397,398,399,400,401,402,403,404,405,406,407,408,409,410,411,412,413,414,415,416,417,418,419,420,421,422,423,424,425,426,427,428,429,430],\"type\":\"candlestick\"},{\"marker\":{\"color\":\"Black\",\"size\":7,\"symbol\":\"hexagram\"},\"mode\":\"markers\",\"name\":\"signal\",\"x\":[330,331,332,333,334,335,336,337,338,339,340,341,342,343,344,345,346,347,348,349,350,351,352,353,354,355,356,357,358,359,360,361,362,363,364,365,366,367,368,369,370,371,372,373,374,375,376,377,378,379,380,381,382,383,384,385,386,387,388,389,390,391,392,393,394,395,396,397,398,399,400,401,402,403,404,405,406,407,408,409,410,411,412,413,414,415,416,417,418,419,420,421,422,423,424,425,426,427,428,429,430],\"y\":[null,null,null,null,null,null,null,null,2538.6099999999997,null,null,null,null,null,null,null,null,null,null,null,2636.8650000000002,null,null,null,null,null,null,null,null,null,null,null,null,null,null,null,null,null,null,null,null,null,null,2607.865,null,null,null,null,null,null,null,null,null,null,null,null,null,null,null,null,null,null,null,null,null,2374.535,null,null,null,null,null,null,null,null,null,null,null,null,null,null,null,null,null,null,null,null,null,null,null,null,null,null,null,null,null,null,null,null,null,2352.325,null],\"type\":\"scatter\"}],                        {\"template\":{\"data\":{\"histogram2dcontour\":[{\"type\":\"histogram2dcontour\",\"colorbar\":{\"outlinewidth\":0,\"ticks\":\"\"},\"colorscale\":[[0.0,\"#0d0887\"],[0.1111111111111111,\"#46039f\"],[0.2222222222222222,\"#7201a8\"],[0.3333333333333333,\"#9c179e\"],[0.4444444444444444,\"#bd3786\"],[0.5555555555555556,\"#d8576b\"],[0.6666666666666666,\"#ed7953\"],[0.7777777777777778,\"#fb9f3a\"],[0.8888888888888888,\"#fdca26\"],[1.0,\"#f0f921\"]]}],\"choropleth\":[{\"type\":\"choropleth\",\"colorbar\":{\"outlinewidth\":0,\"ticks\":\"\"}}],\"histogram2d\":[{\"type\":\"histogram2d\",\"colorbar\":{\"outlinewidth\":0,\"ticks\":\"\"},\"colorscale\":[[0.0,\"#0d0887\"],[0.1111111111111111,\"#46039f\"],[0.2222222222222222,\"#7201a8\"],[0.3333333333333333,\"#9c179e\"],[0.4444444444444444,\"#bd3786\"],[0.5555555555555556,\"#d8576b\"],[0.6666666666666666,\"#ed7953\"],[0.7777777777777778,\"#fb9f3a\"],[0.8888888888888888,\"#fdca26\"],[1.0,\"#f0f921\"]]}],\"heatmap\":[{\"type\":\"heatmap\",\"colorbar\":{\"outlinewidth\":0,\"ticks\":\"\"},\"colorscale\":[[0.0,\"#0d0887\"],[0.1111111111111111,\"#46039f\"],[0.2222222222222222,\"#7201a8\"],[0.3333333333333333,\"#9c179e\"],[0.4444444444444444,\"#bd3786\"],[0.5555555555555556,\"#d8576b\"],[0.6666666666666666,\"#ed7953\"],[0.7777777777777778,\"#fb9f3a\"],[0.8888888888888888,\"#fdca26\"],[1.0,\"#f0f921\"]]}],\"heatmapgl\":[{\"type\":\"heatmapgl\",\"colorbar\":{\"outlinewidth\":0,\"ticks\":\"\"},\"colorscale\":[[0.0,\"#0d0887\"],[0.1111111111111111,\"#46039f\"],[0.2222222222222222,\"#7201a8\"],[0.3333333333333333,\"#9c179e\"],[0.4444444444444444,\"#bd3786\"],[0.5555555555555556,\"#d8576b\"],[0.6666666666666666,\"#ed7953\"],[0.7777777777777778,\"#fb9f3a\"],[0.8888888888888888,\"#fdca26\"],[1.0,\"#f0f921\"]]}],\"contourcarpet\":[{\"type\":\"contourcarpet\",\"colorbar\":{\"outlinewidth\":0,\"ticks\":\"\"}}],\"contour\":[{\"type\":\"contour\",\"colorbar\":{\"outlinewidth\":0,\"ticks\":\"\"},\"colorscale\":[[0.0,\"#0d0887\"],[0.1111111111111111,\"#46039f\"],[0.2222222222222222,\"#7201a8\"],[0.3333333333333333,\"#9c179e\"],[0.4444444444444444,\"#bd3786\"],[0.5555555555555556,\"#d8576b\"],[0.6666666666666666,\"#ed7953\"],[0.7777777777777778,\"#fb9f3a\"],[0.8888888888888888,\"#fdca26\"],[1.0,\"#f0f921\"]]}],\"surface\":[{\"type\":\"surface\",\"colorbar\":{\"outlinewidth\":0,\"ticks\":\"\"},\"colorscale\":[[0.0,\"#0d0887\"],[0.1111111111111111,\"#46039f\"],[0.2222222222222222,\"#7201a8\"],[0.3333333333333333,\"#9c179e\"],[0.4444444444444444,\"#bd3786\"],[0.5555555555555556,\"#d8576b\"],[0.6666666666666666,\"#ed7953\"],[0.7777777777777778,\"#fb9f3a\"],[0.8888888888888888,\"#fdca26\"],[1.0,\"#f0f921\"]]}],\"mesh3d\":[{\"type\":\"mesh3d\",\"colorbar\":{\"outlinewidth\":0,\"ticks\":\"\"}}],\"scatter\":[{\"fillpattern\":{\"fillmode\":\"overlay\",\"size\":10,\"solidity\":0.2},\"type\":\"scatter\"}],\"parcoords\":[{\"type\":\"parcoords\",\"line\":{\"colorbar\":{\"outlinewidth\":0,\"ticks\":\"\"}}}],\"scatterpolargl\":[{\"type\":\"scatterpolargl\",\"marker\":{\"colorbar\":{\"outlinewidth\":0,\"ticks\":\"\"}}}],\"bar\":[{\"error_x\":{\"color\":\"#2a3f5f\"},\"error_y\":{\"color\":\"#2a3f5f\"},\"marker\":{\"line\":{\"color\":\"#E5ECF6\",\"width\":0.5},\"pattern\":{\"fillmode\":\"overlay\",\"size\":10,\"solidity\":0.2}},\"type\":\"bar\"}],\"scattergeo\":[{\"type\":\"scattergeo\",\"marker\":{\"colorbar\":{\"outlinewidth\":0,\"ticks\":\"\"}}}],\"scatterpolar\":[{\"type\":\"scatterpolar\",\"marker\":{\"colorbar\":{\"outlinewidth\":0,\"ticks\":\"\"}}}],\"histogram\":[{\"marker\":{\"pattern\":{\"fillmode\":\"overlay\",\"size\":10,\"solidity\":0.2}},\"type\":\"histogram\"}],\"scattergl\":[{\"type\":\"scattergl\",\"marker\":{\"colorbar\":{\"outlinewidth\":0,\"ticks\":\"\"}}}],\"scatter3d\":[{\"type\":\"scatter3d\",\"line\":{\"colorbar\":{\"outlinewidth\":0,\"ticks\":\"\"}},\"marker\":{\"colorbar\":{\"outlinewidth\":0,\"ticks\":\"\"}}}],\"scattermapbox\":[{\"type\":\"scattermapbox\",\"marker\":{\"colorbar\":{\"outlinewidth\":0,\"ticks\":\"\"}}}],\"scatterternary\":[{\"type\":\"scatterternary\",\"marker\":{\"colorbar\":{\"outlinewidth\":0,\"ticks\":\"\"}}}],\"scattercarpet\":[{\"type\":\"scattercarpet\",\"marker\":{\"colorbar\":{\"outlinewidth\":0,\"ticks\":\"\"}}}],\"carpet\":[{\"aaxis\":{\"endlinecolor\":\"#2a3f5f\",\"gridcolor\":\"white\",\"linecolor\":\"white\",\"minorgridcolor\":\"white\",\"startlinecolor\":\"#2a3f5f\"},\"baxis\":{\"endlinecolor\":\"#2a3f5f\",\"gridcolor\":\"white\",\"linecolor\":\"white\",\"minorgridcolor\":\"white\",\"startlinecolor\":\"#2a3f5f\"},\"type\":\"carpet\"}],\"table\":[{\"cells\":{\"fill\":{\"color\":\"#EBF0F8\"},\"line\":{\"color\":\"white\"}},\"header\":{\"fill\":{\"color\":\"#C8D4E3\"},\"line\":{\"color\":\"white\"}},\"type\":\"table\"}],\"barpolar\":[{\"marker\":{\"line\":{\"color\":\"#E5ECF6\",\"width\":0.5},\"pattern\":{\"fillmode\":\"overlay\",\"size\":10,\"solidity\":0.2}},\"type\":\"barpolar\"}],\"pie\":[{\"automargin\":true,\"type\":\"pie\"}]},\"layout\":{\"autotypenumbers\":\"strict\",\"colorway\":[\"#636efa\",\"#EF553B\",\"#00cc96\",\"#ab63fa\",\"#FFA15A\",\"#19d3f3\",\"#FF6692\",\"#B6E880\",\"#FF97FF\",\"#FECB52\"],\"font\":{\"color\":\"#2a3f5f\"},\"hovermode\":\"closest\",\"hoverlabel\":{\"align\":\"left\"},\"paper_bgcolor\":\"white\",\"plot_bgcolor\":\"#E5ECF6\",\"polar\":{\"bgcolor\":\"#E5ECF6\",\"angularaxis\":{\"gridcolor\":\"white\",\"linecolor\":\"white\",\"ticks\":\"\"},\"radialaxis\":{\"gridcolor\":\"white\",\"linecolor\":\"white\",\"ticks\":\"\"}},\"ternary\":{\"bgcolor\":\"#E5ECF6\",\"aaxis\":{\"gridcolor\":\"white\",\"linecolor\":\"white\",\"ticks\":\"\"},\"baxis\":{\"gridcolor\":\"white\",\"linecolor\":\"white\",\"ticks\":\"\"},\"caxis\":{\"gridcolor\":\"white\",\"linecolor\":\"white\",\"ticks\":\"\"}},\"coloraxis\":{\"colorbar\":{\"outlinewidth\":0,\"ticks\":\"\"}},\"colorscale\":{\"sequential\":[[0.0,\"#0d0887\"],[0.1111111111111111,\"#46039f\"],[0.2222222222222222,\"#7201a8\"],[0.3333333333333333,\"#9c179e\"],[0.4444444444444444,\"#bd3786\"],[0.5555555555555556,\"#d8576b\"],[0.6666666666666666,\"#ed7953\"],[0.7777777777777778,\"#fb9f3a\"],[0.8888888888888888,\"#fdca26\"],[1.0,\"#f0f921\"]],\"sequentialminus\":[[0.0,\"#0d0887\"],[0.1111111111111111,\"#46039f\"],[0.2222222222222222,\"#7201a8\"],[0.3333333333333333,\"#9c179e\"],[0.4444444444444444,\"#bd3786\"],[0.5555555555555556,\"#d8576b\"],[0.6666666666666666,\"#ed7953\"],[0.7777777777777778,\"#fb9f3a\"],[0.8888888888888888,\"#fdca26\"],[1.0,\"#f0f921\"]],\"diverging\":[[0,\"#8e0152\"],[0.1,\"#c51b7d\"],[0.2,\"#de77ae\"],[0.3,\"#f1b6da\"],[0.4,\"#fde0ef\"],[0.5,\"#f7f7f7\"],[0.6,\"#e6f5d0\"],[0.7,\"#b8e186\"],[0.8,\"#7fbc41\"],[0.9,\"#4d9221\"],[1,\"#276419\"]]},\"xaxis\":{\"gridcolor\":\"white\",\"linecolor\":\"white\",\"ticks\":\"\",\"title\":{\"standoff\":15},\"zerolinecolor\":\"white\",\"automargin\":true,\"zerolinewidth\":2},\"yaxis\":{\"gridcolor\":\"white\",\"linecolor\":\"white\",\"ticks\":\"\",\"title\":{\"standoff\":15},\"zerolinecolor\":\"white\",\"automargin\":true,\"zerolinewidth\":2},\"scene\":{\"xaxis\":{\"backgroundcolor\":\"#E5ECF6\",\"gridcolor\":\"white\",\"linecolor\":\"white\",\"showbackground\":true,\"ticks\":\"\",\"zerolinecolor\":\"white\",\"gridwidth\":2},\"yaxis\":{\"backgroundcolor\":\"#E5ECF6\",\"gridcolor\":\"white\",\"linecolor\":\"white\",\"showbackground\":true,\"ticks\":\"\",\"zerolinecolor\":\"white\",\"gridwidth\":2},\"zaxis\":{\"backgroundcolor\":\"#E5ECF6\",\"gridcolor\":\"white\",\"linecolor\":\"white\",\"showbackground\":true,\"ticks\":\"\",\"zerolinecolor\":\"white\",\"gridwidth\":2}},\"shapedefaults\":{\"line\":{\"color\":\"#2a3f5f\"}},\"annotationdefaults\":{\"arrowcolor\":\"#2a3f5f\",\"arrowhead\":0,\"arrowwidth\":1},\"geo\":{\"bgcolor\":\"white\",\"landcolor\":\"#E5ECF6\",\"subunitcolor\":\"white\",\"showland\":true,\"showlakes\":true,\"lakecolor\":\"white\"},\"title\":{\"x\":0.05},\"mapbox\":{\"style\":\"light\"}}},\"shapes\":[{\"layer\":\"below\",\"line\":{\"color\":\"blue\"},\"type\":\"line\",\"x0\":328,\"x1\":433,\"xref\":\"x\",\"y0\":2366.0,\"y1\":2366.0,\"yref\":\"y\"},{\"layer\":\"below\",\"line\":{\"color\":\"blue\"},\"type\":\"line\",\"x0\":328,\"x1\":433,\"xref\":\"x\",\"y0\":2456.4,\"y1\":2456.4,\"yref\":\"y\"},{\"layer\":\"below\",\"line\":{\"color\":\"blue\"},\"type\":\"line\",\"x0\":328,\"x1\":433,\"xref\":\"x\",\"y0\":2309.0,\"y1\":2309.0,\"yref\":\"y\"},{\"layer\":\"below\",\"line\":{\"color\":\"blue\"},\"type\":\"line\",\"x0\":328,\"x1\":433,\"xref\":\"x\",\"y0\":2357.15,\"y1\":2357.15,\"yref\":\"y\"},{\"layer\":\"below\",\"line\":{\"color\":\"blue\"},\"type\":\"line\",\"x0\":328,\"x1\":433,\"xref\":\"x\",\"y0\":2247.1,\"y1\":2247.1,\"yref\":\"y\"},{\"layer\":\"below\",\"line\":{\"color\":\"blue\"},\"type\":\"line\",\"x0\":328,\"x1\":433,\"xref\":\"x\",\"y0\":2305.0,\"y1\":2305.0,\"yref\":\"y\"},{\"layer\":\"below\",\"line\":{\"color\":\"blue\"},\"type\":\"line\",\"x0\":328,\"x1\":433,\"xref\":\"x\",\"y0\":2180.0,\"y1\":2180.0,\"yref\":\"y\"},{\"layer\":\"below\",\"line\":{\"color\":\"blue\"},\"type\":\"line\",\"x0\":328,\"x1\":433,\"xref\":\"x\",\"y0\":2521.8,\"y1\":2521.8,\"yref\":\"y\"},{\"layer\":\"below\",\"line\":{\"color\":\"blue\"},\"type\":\"line\",\"x0\":328,\"x1\":433,\"xref\":\"x\",\"y0\":2370.0,\"y1\":2370.0,\"yref\":\"y\"},{\"layer\":\"below\",\"line\":{\"color\":\"blue\"},\"type\":\"line\",\"x0\":328,\"x1\":433,\"xref\":\"x\",\"y0\":2540.1,\"y1\":2540.1,\"yref\":\"y\"},{\"layer\":\"below\",\"line\":{\"color\":\"blue\"},\"type\":\"line\",\"x0\":328,\"x1\":433,\"xref\":\"x\",\"y0\":2445.0,\"y1\":2445.0,\"yref\":\"y\"},{\"layer\":\"below\",\"line\":{\"color\":\"blue\"},\"type\":\"line\",\"x0\":328,\"x1\":433,\"xref\":\"x\",\"y0\":2365.0,\"y1\":2365.0,\"yref\":\"y\"},{\"layer\":\"below\",\"line\":{\"color\":\"blue\"},\"type\":\"line\",\"x0\":328,\"x1\":433,\"xref\":\"x\",\"y0\":2402.0,\"y1\":2402.0,\"yref\":\"y\"},{\"layer\":\"below\",\"line\":{\"color\":\"blue\"},\"type\":\"line\",\"x0\":328,\"x1\":433,\"xref\":\"x\",\"y0\":2586.0,\"y1\":2586.0,\"yref\":\"y\"},{\"layer\":\"below\",\"line\":{\"color\":\"blue\"},\"type\":\"line\",\"x0\":328,\"x1\":433,\"xref\":\"x\",\"y0\":2525.7,\"y1\":2525.7,\"yref\":\"y\"},{\"layer\":\"below\",\"line\":{\"color\":\"blue\"},\"type\":\"line\",\"x0\":328,\"x1\":433,\"xref\":\"x\",\"y0\":2311.0,\"y1\":2311.0,\"yref\":\"y\"},{\"layer\":\"below\",\"line\":{\"color\":\"blue\"},\"type\":\"line\",\"x0\":328,\"x1\":433,\"xref\":\"x\",\"y0\":2343.1,\"y1\":2343.1,\"yref\":\"y\"},{\"layer\":\"below\",\"line\":{\"color\":\"blue\"},\"type\":\"line\",\"x0\":328,\"x1\":433,\"xref\":\"x\",\"y0\":2432.8,\"y1\":2432.8,\"yref\":\"y\"},{\"layer\":\"below\",\"line\":{\"color\":\"blue\"},\"type\":\"line\",\"x0\":328,\"x1\":433,\"xref\":\"x\",\"y0\":2502.0,\"y1\":2502.0,\"yref\":\"y\"},{\"layer\":\"below\",\"line\":{\"color\":\"blue\"},\"type\":\"line\",\"x0\":328,\"x1\":433,\"xref\":\"x\",\"y0\":2558.15,\"y1\":2558.15,\"yref\":\"y\"},{\"layer\":\"below\",\"line\":{\"color\":\"blue\"},\"type\":\"line\",\"x0\":328,\"x1\":433,\"xref\":\"x\",\"y0\":2492.25,\"y1\":2492.25,\"yref\":\"y\"},{\"layer\":\"below\",\"line\":{\"color\":\"blue\"},\"type\":\"line\",\"x0\":328,\"x1\":433,\"xref\":\"x\",\"y0\":2427.0,\"y1\":2427.0,\"yref\":\"y\"},{\"layer\":\"below\",\"line\":{\"color\":\"blue\"},\"type\":\"line\",\"x0\":328,\"x1\":433,\"xref\":\"x\",\"y0\":2293.0,\"y1\":2293.0,\"yref\":\"y\"},{\"layer\":\"below\",\"line\":{\"color\":\"blue\"},\"type\":\"line\",\"x0\":328,\"x1\":433,\"xref\":\"x\",\"y0\":2180.0,\"y1\":2180.0,\"yref\":\"y\"},{\"layer\":\"below\",\"line\":{\"color\":\"blue\"},\"type\":\"line\",\"x0\":328,\"x1\":433,\"xref\":\"x\",\"y0\":2203.0,\"y1\":2203.0,\"yref\":\"y\"},{\"layer\":\"below\",\"line\":{\"color\":\"blue\"},\"type\":\"line\",\"x0\":328,\"x1\":433,\"xref\":\"x\",\"y0\":2480.0,\"y1\":2480.0,\"yref\":\"y\"},{\"layer\":\"below\",\"line\":{\"color\":\"blue\"},\"type\":\"line\",\"x0\":328,\"x1\":433,\"xref\":\"x\",\"y0\":2751.35,\"y1\":2751.35,\"yref\":\"y\"},{\"layer\":\"below\",\"line\":{\"color\":\"blue\"},\"type\":\"line\",\"x0\":328,\"x1\":433,\"xref\":\"x\",\"y0\":2602.2,\"y1\":2602.2,\"yref\":\"y\"},{\"layer\":\"below\",\"line\":{\"color\":\"blue\"},\"type\":\"line\",\"x0\":328,\"x1\":433,\"xref\":\"x\",\"y0\":2502.0,\"y1\":2502.0,\"yref\":\"y\"},{\"layer\":\"below\",\"line\":{\"color\":\"blue\"},\"type\":\"line\",\"x0\":328,\"x1\":433,\"xref\":\"x\",\"y0\":2567.3,\"y1\":2567.3,\"yref\":\"y\"},{\"layer\":\"below\",\"line\":{\"color\":\"blue\"},\"type\":\"line\",\"x0\":328,\"x1\":433,\"xref\":\"x\",\"y0\":2420.6,\"y1\":2420.6,\"yref\":\"y\"},{\"layer\":\"below\",\"line\":{\"color\":\"blue\"},\"type\":\"line\",\"x0\":328,\"x1\":433,\"xref\":\"x\",\"y0\":2456.4,\"y1\":2456.4,\"yref\":\"y\"},{\"layer\":\"below\",\"line\":{\"color\":\"blue\"},\"type\":\"line\",\"x0\":328,\"x1\":433,\"xref\":\"x\",\"y0\":2414.85,\"y1\":2414.85,\"yref\":\"y\"},{\"layer\":\"below\",\"line\":{\"color\":\"blue\"},\"type\":\"line\",\"x0\":328,\"x1\":433,\"xref\":\"x\",\"y0\":2688.0,\"y1\":2688.0,\"yref\":\"y\"},{\"layer\":\"below\",\"line\":{\"color\":\"blue\"},\"type\":\"line\",\"x0\":328,\"x1\":433,\"xref\":\"x\",\"y0\":2615.9,\"y1\":2615.9,\"yref\":\"y\"},{\"layer\":\"below\",\"line\":{\"color\":\"blue\"},\"type\":\"line\",\"x0\":328,\"x1\":433,\"xref\":\"x\",\"y0\":2542.5,\"y1\":2542.5,\"yref\":\"y\"},{\"layer\":\"below\",\"line\":{\"color\":\"blue\"},\"type\":\"line\",\"x0\":328,\"x1\":433,\"xref\":\"x\",\"y0\":2617.75,\"y1\":2617.75,\"yref\":\"y\"},{\"layer\":\"below\",\"line\":{\"color\":\"blue\"},\"type\":\"line\",\"x0\":328,\"x1\":433,\"xref\":\"x\",\"y0\":2676.9,\"y1\":2676.9,\"yref\":\"y\"},{\"layer\":\"below\",\"line\":{\"color\":\"blue\"},\"type\":\"line\",\"x0\":328,\"x1\":433,\"xref\":\"x\",\"y0\":2629.7,\"y1\":2629.7,\"yref\":\"y\"},{\"layer\":\"below\",\"line\":{\"color\":\"blue\"},\"type\":\"line\",\"x0\":328,\"x1\":433,\"xref\":\"x\",\"y0\":2450.0,\"y1\":2450.0,\"yref\":\"y\"},{\"layer\":\"below\",\"line\":{\"color\":\"blue\"},\"type\":\"line\",\"x0\":328,\"x1\":433,\"xref\":\"x\",\"y0\":2527.85,\"y1\":2527.85,\"yref\":\"y\"},{\"layer\":\"below\",\"line\":{\"color\":\"blue\"},\"type\":\"line\",\"x0\":328,\"x1\":433,\"xref\":\"x\",\"y0\":2642.0,\"y1\":2642.0,\"yref\":\"y\"},{\"layer\":\"below\",\"line\":{\"color\":\"blue\"},\"type\":\"line\",\"x0\":328,\"x1\":433,\"xref\":\"x\",\"y0\":2755.0,\"y1\":2755.0,\"yref\":\"y\"},{\"layer\":\"below\",\"line\":{\"color\":\"blue\"},\"type\":\"line\",\"x0\":328,\"x1\":433,\"xref\":\"x\",\"y0\":2633.0,\"y1\":2633.0,\"yref\":\"y\"},{\"layer\":\"below\",\"line\":{\"color\":\"blue\"},\"type\":\"line\",\"x0\":328,\"x1\":433,\"xref\":\"x\",\"y0\":2579.0,\"y1\":2579.0,\"yref\":\"y\"},{\"layer\":\"below\",\"line\":{\"color\":\"blue\"},\"type\":\"line\",\"x0\":328,\"x1\":433,\"xref\":\"x\",\"y0\":2463.8,\"y1\":2463.8,\"yref\":\"y\"},{\"layer\":\"below\",\"line\":{\"color\":\"blue\"},\"type\":\"line\",\"x0\":328,\"x1\":433,\"xref\":\"x\",\"y0\":2424.6,\"y1\":2424.6,\"yref\":\"y\"},{\"layer\":\"below\",\"line\":{\"color\":\"blue\"},\"type\":\"line\",\"x0\":328,\"x1\":433,\"xref\":\"x\",\"y0\":2291.45,\"y1\":2291.45,\"yref\":\"y\"}],\"title\":{\"font\":{\"size\":18},\"text\":\"RELIANCE\"}},                        {\"responsive\": true}                    ).then(function(){\n",
       "                            \n",
       "var gd = document.getElementById('48ca1d28-c99a-47ef-bb18-9e360594ebe5');\n",
       "var x = new MutationObserver(function (mutations, observer) {{\n",
       "        var display = window.getComputedStyle(gd).display;\n",
       "        if (!display || display === 'none') {{\n",
       "            console.log([gd, 'removed!']);\n",
       "            Plotly.purge(gd);\n",
       "            observer.disconnect();\n",
       "        }}\n",
       "}});\n",
       "\n",
       "// Listen for the removal of the full notebook cells\n",
       "var notebookContainer = gd.closest('#notebook-container');\n",
       "if (notebookContainer) {{\n",
       "    x.observe(notebookContainer, {childList: true});\n",
       "}}\n",
       "\n",
       "// Listen for the clearing of the current output cell\n",
       "var outputEl = gd.closest('.output');\n",
       "if (outputEl) {{\n",
       "    x.observe(outputEl, {childList: true});\n",
       "}}\n",
       "\n",
       "                        })                };                });            </script>        </div>"
      ]
     },
     "metadata": {},
     "output_type": "display_data"
    }
   ],
   "source": [
    "indicator.showIndicator(430)"
   ]
  }
 ],
 "metadata": {
  "kernelspec": {
   "display_name": "Python 3 (ipykernel)",
   "language": "python",
   "name": "python3"
  },
  "language_info": {
   "codemirror_mode": {
    "name": "ipython",
    "version": 3
   },
   "file_extension": ".py",
   "mimetype": "text/x-python",
   "name": "python",
   "nbconvert_exporter": "python",
   "pygments_lexer": "ipython3",
   "version": "3.10.10"
  }
 },
 "nbformat": 4,
 "nbformat_minor": 5
}
