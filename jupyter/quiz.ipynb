{
 "cells": [
  {
   "cell_type": "code",
   "execution_count": 2,
   "id": "e06b81ca",
   "metadata": {
    "vscode": {
     "languageId": "plaintext"
    }
   },
   "outputs": [],
   "source": [
    "import os\n",
    "import sys\n",
    "module_path = os.path.abspath(os.path.join('..'))\n",
    "if module_path not in sys.path:\n",
    "    sys.path.append(module_path)\n",
    "    \n",
    "from main import TradingBot\n",
    "from quiz import PaperTrading\n",
    "\n",
    "tb = TradingBot()\n",
    "pt = PaperTrading(tb)"
   ]
  },
  {
   "cell_type": "code",
   "execution_count": 5,
   "id": "a560dac6",
   "metadata": {},
   "outputs": [
    {
     "name": "stderr",
     "output_type": "stream",
     "text": [
      "100%|██████████| 100/100 [00:02<00:00, 36.76it/s]\n",
      "100%|██████████| 2/2 [00:00<00:00, 40.27it/s]\n",
      "100%|██████████| 102/102 [01:44<00:00,  1.03s/it]\n"
     ]
    }
   ],
   "source": [
    "tb.loadData(timePeriod='2y', label='NIFTY 100', forceUpdate=True)\n",
    "tb.computeSignal()"
   ]
  },
  {
   "cell_type": "code",
   "execution_count": 7,
   "id": "c483581e",
   "metadata": {
    "scrolled": false
   },
   "outputs": [
    {
     "data": {
      "application/vnd.plotly.v1+json": {
       "config": {
        "plotlyServerURL": "https://plot.ly"
       },
       "data": [
        {
         "close": [
          601.95,
          597.05,
          598.9,
          596,
          596.4,
          604.45,
          618.3,
          630.35,
          636.05,
          641.75,
          624.95,
          615.9,
          616.8,
          620,
          632.25,
          629.05,
          625.9,
          626.75,
          627.9,
          622.6,
          618.55,
          621.8,
          620.45,
          615.7,
          618.7,
          620.9,
          620.7,
          620.35,
          628.5
         ],
         "high": [
          607,
          601.5,
          600.75,
          601.9,
          604.95,
          606.7,
          620.95,
          632.5,
          639.75,
          654,
          646.9,
          625.8,
          620.5,
          622.75,
          633.5,
          637.85,
          632.75,
          629.5,
          631.35,
          630.7,
          623.7,
          629.9,
          624,
          624.4,
          620,
          625,
          625.95,
          623.4,
          629.45
         ],
         "low": [
          600.35,
          595.05,
          597.7,
          595.25,
          595.05,
          596.4,
          603.55,
          619.05,
          633.05,
          636.65,
          622.75,
          613.7,
          611.75,
          615,
          620.2,
          628,
          624.3,
          625,
          624,
          621.25,
          617,
          620.6,
          618,
          614.25,
          615.8,
          617.5,
          618,
          619.5,
          619.05
         ],
         "open": [
          605,
          598.8,
          597.7,
          599.9,
          596,
          596.4,
          605,
          620,
          636.6,
          637.9,
          643,
          624.95,
          616.3,
          618,
          622.1,
          635,
          630.75,
          626,
          625.1,
          626.5,
          623,
          623,
          623.1,
          621,
          616.85,
          617.5,
          624,
          621.9,
          621.5
         ],
         "type": "candlestick",
         "x": [
          265,
          266,
          267,
          268,
          269,
          270,
          271,
          272,
          273,
          274,
          275,
          276,
          277,
          278,
          279,
          280,
          281,
          282,
          283,
          284,
          285,
          286,
          287,
          288,
          289,
          290,
          291,
          292,
          293
         ],
         "xaxis": "x",
         "yaxis": "y"
        },
        {
         "showlegend": false,
         "type": "bar",
         "x": [
          265,
          266,
          267,
          268,
          269,
          270,
          271,
          272,
          273,
          274,
          275,
          276,
          277,
          278,
          279,
          280,
          281,
          282,
          283,
          284,
          285,
          286,
          287,
          288,
          289,
          290,
          291,
          292,
          293
         ],
         "xaxis": "x2",
         "y": [
          660925,
          803879,
          400863,
          644399,
          847451,
          1405526,
          2500627,
          3041047,
          1580109,
          3120722,
          1538801,
          946727,
          975533,
          1156188,
          1371193,
          888170,
          625593,
          569014,
          624168,
          711064,
          791576,
          608461,
          523272,
          802085,
          534996,
          711158,
          701393,
          501945,
          1166529
         ],
         "yaxis": "y2"
        },
        {
         "line": {
          "color": "blue",
          "width": 1
         },
         "name": "EMA14",
         "type": "scatter",
         "x": [
          265,
          266,
          267,
          268,
          269,
          270,
          271,
          272,
          273,
          274,
          275,
          276,
          277,
          278,
          279,
          280,
          281,
          282,
          283,
          284,
          285,
          286,
          287,
          288,
          289,
          290,
          291,
          292,
          293
         ],
         "xaxis": "x",
         "y": [
          594.9864762199121,
          595.2616127239238,
          595.7467310274006,
          595.7805002237473,
          595.8631001939143,
          597.008020168059,
          599.8469508123178,
          603.9140240373421,
          608.1988208323631,
          612.672311388048,
          614.3093365363083,
          614.5214249981339,
          614.8252349983827,
          615.5152036652651,
          617.7465098432298,
          619.2536418641324,
          620.1398229489148,
          621.0211798890595,
          621.9383559038515,
          622.0265751166713,
          621.5630317677818,
          621.5946275320775,
          621.4420105278006,
          620.6764091240939,
          620.412887907548,
          620.4778361865416,
          620.507458028336,
          620.4864636245579,
          621.5549351412835
         ],
         "yaxis": "y"
        },
        {
         "line": {
          "color": "maroon",
          "width": 1
         },
         "name": "EMA26",
         "type": "scatter",
         "x": [
          265,
          266,
          267,
          268,
          269,
          270,
          271,
          272,
          273,
          274,
          275,
          276,
          277,
          278,
          279,
          280,
          281,
          282,
          283,
          284,
          285,
          286,
          287,
          288,
          289,
          290,
          291,
          292,
          293
         ],
         "xaxis": "x",
         "y": [
          586.6107989821832,
          587.3840731316511,
          588.2371047515288,
          588.8121340291933,
          589.374198175179,
          590.4909242362769,
          592.5508557743304,
          595.3507923836393,
          598.3655485033697,
          601.5792115771942,
          603.3103810899946,
          604.2429454536987,
          605.1730976423136,
          606.2713867058459,
          608.1957284313388,
          609.7404892882766,
          610.9374900817377,
          612.10878711272,
          613.2785065858519,
          613.9689875794925,
          614.3083218328634,
          614.863260956355,
          615.2770934781065,
          615.3084198871356,
          615.5596480436441,
          615.9552296700408,
          616.3066941389267,
          616.606198276784,
          617.4872206266518
         ],
         "yaxis": "y"
        }
       ],
       "layout": {
        "annotations": [
         {
          "font": {
           "size": 16
          },
          "showarrow": false,
          "text": "LICI",
          "x": 0.5,
          "xanchor": "center",
          "xref": "paper",
          "y": 1,
          "yanchor": "bottom",
          "yref": "paper"
         }
        ],
        "shapes": [
         {
          "layer": "below",
          "line": {
           "color": "darkgrey"
          },
          "type": "line",
          "x0": 263,
          "x1": 296,
          "xref": "x",
          "y0": 650,
          "y1": 650,
          "yref": "y"
         },
         {
          "layer": "below",
          "line": {
           "color": "darkgrey"
          },
          "type": "line",
          "x0": 263,
          "x1": 296,
          "xref": "x",
          "y0": 657.8,
          "y1": 657.8,
          "yref": "y"
         },
         {
          "layer": "below",
          "line": {
           "color": "darkgrey"
          },
          "type": "line",
          "x0": 263,
          "x1": 296,
          "xref": "x",
          "y0": 651,
          "y1": 651,
          "yref": "y"
         },
         {
          "layer": "below",
          "line": {
           "color": "darkgrey"
          },
          "type": "line",
          "x0": 263,
          "x1": 296,
          "xref": "x",
          "y0": 651,
          "y1": 651,
          "yref": "y"
         },
         {
          "layer": "below",
          "line": {
           "color": "darkgrey"
          },
          "type": "line",
          "x0": 263,
          "x1": 296,
          "xref": "x",
          "y0": 617,
          "y1": 617,
          "yref": "y"
         },
         {
          "layer": "below",
          "line": {
           "color": "darkgrey"
          },
          "type": "line",
          "x0": 263,
          "x1": 296,
          "xref": "x",
          "y0": 588,
          "y1": 588,
          "yref": "y"
         },
         {
          "layer": "below",
          "line": {
           "color": "darkgrey"
          },
          "type": "line",
          "x0": 263,
          "x1": 296,
          "xref": "x",
          "y0": 620.05,
          "y1": 620.05,
          "yref": "y"
         },
         {
          "layer": "below",
          "line": {
           "color": "darkgrey"
          },
          "type": "line",
          "x0": 263,
          "x1": 296,
          "xref": "x",
          "y0": 655.1,
          "y1": 655.1,
          "yref": "y"
         },
         {
          "layer": "below",
          "line": {
           "color": "darkgrey"
          },
          "type": "line",
          "x0": 263,
          "x1": 296,
          "xref": "x",
          "y0": 595.05,
          "y1": 595.05,
          "yref": "y"
         },
         {
          "layer": "below",
          "line": {
           "color": "darkgrey"
          },
          "type": "line",
          "x0": 263,
          "x1": 296,
          "xref": "x",
          "y0": 595.05,
          "y1": 595.05,
          "yref": "y"
         },
         {
          "layer": "below",
          "line": {
           "color": "darkgrey"
          },
          "type": "line",
          "x0": 263,
          "x1": 296,
          "xref": "x",
          "y0": 611.75,
          "y1": 611.75,
          "yref": "y"
         },
         {
          "layer": "below",
          "line": {
           "color": "darkgrey"
          },
          "type": "line",
          "x0": 263,
          "x1": 296,
          "xref": "x",
          "y0": 614.25,
          "y1": 614.25,
          "yref": "y"
         },
         {
          "layer": "below",
          "line": {
           "color": "darkgrey"
          },
          "type": "line",
          "x0": 263,
          "x1": 296,
          "xref": "x",
          "y0": 635.8,
          "y1": 635.8,
          "yref": "y"
         },
         {
          "layer": "below",
          "line": {
           "color": "darkgrey"
          },
          "type": "line",
          "x0": 263,
          "x1": 296,
          "xref": "x",
          "y0": 640,
          "y1": 640,
          "yref": "y"
         },
         {
          "layer": "below",
          "line": {
           "color": "darkgrey"
          },
          "type": "line",
          "x0": 263,
          "x1": 296,
          "xref": "x",
          "y0": 625,
          "y1": 625,
          "yref": "y"
         },
         {
          "layer": "below",
          "line": {
           "color": "darkgrey"
          },
          "type": "line",
          "x0": 263,
          "x1": 296,
          "xref": "x",
          "y0": 615.5,
          "y1": 615.5,
          "yref": "y"
         },
         {
          "layer": "below",
          "line": {
           "color": "darkgrey"
          },
          "type": "line",
          "x0": 263,
          "x1": 296,
          "xref": "x",
          "y0": 610.4,
          "y1": 610.4,
          "yref": "y"
         },
         {
          "layer": "below",
          "line": {
           "color": "darkgrey"
          },
          "type": "line",
          "x0": 263,
          "x1": 296,
          "xref": "x",
          "y0": 654,
          "y1": 654,
          "yref": "y"
         }
        ],
        "template": {
         "data": {
          "bar": [
           {
            "error_x": {
             "color": "#2a3f5f"
            },
            "error_y": {
             "color": "#2a3f5f"
            },
            "marker": {
             "line": {
              "color": "#E5ECF6",
              "width": 0.5
             },
             "pattern": {
              "fillmode": "overlay",
              "size": 10,
              "solidity": 0.2
             }
            },
            "type": "bar"
           }
          ],
          "barpolar": [
           {
            "marker": {
             "line": {
              "color": "#E5ECF6",
              "width": 0.5
             },
             "pattern": {
              "fillmode": "overlay",
              "size": 10,
              "solidity": 0.2
             }
            },
            "type": "barpolar"
           }
          ],
          "carpet": [
           {
            "aaxis": {
             "endlinecolor": "#2a3f5f",
             "gridcolor": "white",
             "linecolor": "white",
             "minorgridcolor": "white",
             "startlinecolor": "#2a3f5f"
            },
            "baxis": {
             "endlinecolor": "#2a3f5f",
             "gridcolor": "white",
             "linecolor": "white",
             "minorgridcolor": "white",
             "startlinecolor": "#2a3f5f"
            },
            "type": "carpet"
           }
          ],
          "choropleth": [
           {
            "colorbar": {
             "outlinewidth": 0,
             "ticks": ""
            },
            "type": "choropleth"
           }
          ],
          "contour": [
           {
            "colorbar": {
             "outlinewidth": 0,
             "ticks": ""
            },
            "colorscale": [
             [
              0,
              "#0d0887"
             ],
             [
              0.1111111111111111,
              "#46039f"
             ],
             [
              0.2222222222222222,
              "#7201a8"
             ],
             [
              0.3333333333333333,
              "#9c179e"
             ],
             [
              0.4444444444444444,
              "#bd3786"
             ],
             [
              0.5555555555555556,
              "#d8576b"
             ],
             [
              0.6666666666666666,
              "#ed7953"
             ],
             [
              0.7777777777777778,
              "#fb9f3a"
             ],
             [
              0.8888888888888888,
              "#fdca26"
             ],
             [
              1,
              "#f0f921"
             ]
            ],
            "type": "contour"
           }
          ],
          "contourcarpet": [
           {
            "colorbar": {
             "outlinewidth": 0,
             "ticks": ""
            },
            "type": "contourcarpet"
           }
          ],
          "heatmap": [
           {
            "colorbar": {
             "outlinewidth": 0,
             "ticks": ""
            },
            "colorscale": [
             [
              0,
              "#0d0887"
             ],
             [
              0.1111111111111111,
              "#46039f"
             ],
             [
              0.2222222222222222,
              "#7201a8"
             ],
             [
              0.3333333333333333,
              "#9c179e"
             ],
             [
              0.4444444444444444,
              "#bd3786"
             ],
             [
              0.5555555555555556,
              "#d8576b"
             ],
             [
              0.6666666666666666,
              "#ed7953"
             ],
             [
              0.7777777777777778,
              "#fb9f3a"
             ],
             [
              0.8888888888888888,
              "#fdca26"
             ],
             [
              1,
              "#f0f921"
             ]
            ],
            "type": "heatmap"
           }
          ],
          "heatmapgl": [
           {
            "colorbar": {
             "outlinewidth": 0,
             "ticks": ""
            },
            "colorscale": [
             [
              0,
              "#0d0887"
             ],
             [
              0.1111111111111111,
              "#46039f"
             ],
             [
              0.2222222222222222,
              "#7201a8"
             ],
             [
              0.3333333333333333,
              "#9c179e"
             ],
             [
              0.4444444444444444,
              "#bd3786"
             ],
             [
              0.5555555555555556,
              "#d8576b"
             ],
             [
              0.6666666666666666,
              "#ed7953"
             ],
             [
              0.7777777777777778,
              "#fb9f3a"
             ],
             [
              0.8888888888888888,
              "#fdca26"
             ],
             [
              1,
              "#f0f921"
             ]
            ],
            "type": "heatmapgl"
           }
          ],
          "histogram": [
           {
            "marker": {
             "pattern": {
              "fillmode": "overlay",
              "size": 10,
              "solidity": 0.2
             }
            },
            "type": "histogram"
           }
          ],
          "histogram2d": [
           {
            "colorbar": {
             "outlinewidth": 0,
             "ticks": ""
            },
            "colorscale": [
             [
              0,
              "#0d0887"
             ],
             [
              0.1111111111111111,
              "#46039f"
             ],
             [
              0.2222222222222222,
              "#7201a8"
             ],
             [
              0.3333333333333333,
              "#9c179e"
             ],
             [
              0.4444444444444444,
              "#bd3786"
             ],
             [
              0.5555555555555556,
              "#d8576b"
             ],
             [
              0.6666666666666666,
              "#ed7953"
             ],
             [
              0.7777777777777778,
              "#fb9f3a"
             ],
             [
              0.8888888888888888,
              "#fdca26"
             ],
             [
              1,
              "#f0f921"
             ]
            ],
            "type": "histogram2d"
           }
          ],
          "histogram2dcontour": [
           {
            "colorbar": {
             "outlinewidth": 0,
             "ticks": ""
            },
            "colorscale": [
             [
              0,
              "#0d0887"
             ],
             [
              0.1111111111111111,
              "#46039f"
             ],
             [
              0.2222222222222222,
              "#7201a8"
             ],
             [
              0.3333333333333333,
              "#9c179e"
             ],
             [
              0.4444444444444444,
              "#bd3786"
             ],
             [
              0.5555555555555556,
              "#d8576b"
             ],
             [
              0.6666666666666666,
              "#ed7953"
             ],
             [
              0.7777777777777778,
              "#fb9f3a"
             ],
             [
              0.8888888888888888,
              "#fdca26"
             ],
             [
              1,
              "#f0f921"
             ]
            ],
            "type": "histogram2dcontour"
           }
          ],
          "mesh3d": [
           {
            "colorbar": {
             "outlinewidth": 0,
             "ticks": ""
            },
            "type": "mesh3d"
           }
          ],
          "parcoords": [
           {
            "line": {
             "colorbar": {
              "outlinewidth": 0,
              "ticks": ""
             }
            },
            "type": "parcoords"
           }
          ],
          "pie": [
           {
            "automargin": true,
            "type": "pie"
           }
          ],
          "scatter": [
           {
            "fillpattern": {
             "fillmode": "overlay",
             "size": 10,
             "solidity": 0.2
            },
            "type": "scatter"
           }
          ],
          "scatter3d": [
           {
            "line": {
             "colorbar": {
              "outlinewidth": 0,
              "ticks": ""
             }
            },
            "marker": {
             "colorbar": {
              "outlinewidth": 0,
              "ticks": ""
             }
            },
            "type": "scatter3d"
           }
          ],
          "scattercarpet": [
           {
            "marker": {
             "colorbar": {
              "outlinewidth": 0,
              "ticks": ""
             }
            },
            "type": "scattercarpet"
           }
          ],
          "scattergeo": [
           {
            "marker": {
             "colorbar": {
              "outlinewidth": 0,
              "ticks": ""
             }
            },
            "type": "scattergeo"
           }
          ],
          "scattergl": [
           {
            "marker": {
             "colorbar": {
              "outlinewidth": 0,
              "ticks": ""
             }
            },
            "type": "scattergl"
           }
          ],
          "scattermapbox": [
           {
            "marker": {
             "colorbar": {
              "outlinewidth": 0,
              "ticks": ""
             }
            },
            "type": "scattermapbox"
           }
          ],
          "scatterpolar": [
           {
            "marker": {
             "colorbar": {
              "outlinewidth": 0,
              "ticks": ""
             }
            },
            "type": "scatterpolar"
           }
          ],
          "scatterpolargl": [
           {
            "marker": {
             "colorbar": {
              "outlinewidth": 0,
              "ticks": ""
             }
            },
            "type": "scatterpolargl"
           }
          ],
          "scatterternary": [
           {
            "marker": {
             "colorbar": {
              "outlinewidth": 0,
              "ticks": ""
             }
            },
            "type": "scatterternary"
           }
          ],
          "surface": [
           {
            "colorbar": {
             "outlinewidth": 0,
             "ticks": ""
            },
            "colorscale": [
             [
              0,
              "#0d0887"
             ],
             [
              0.1111111111111111,
              "#46039f"
             ],
             [
              0.2222222222222222,
              "#7201a8"
             ],
             [
              0.3333333333333333,
              "#9c179e"
             ],
             [
              0.4444444444444444,
              "#bd3786"
             ],
             [
              0.5555555555555556,
              "#d8576b"
             ],
             [
              0.6666666666666666,
              "#ed7953"
             ],
             [
              0.7777777777777778,
              "#fb9f3a"
             ],
             [
              0.8888888888888888,
              "#fdca26"
             ],
             [
              1,
              "#f0f921"
             ]
            ],
            "type": "surface"
           }
          ],
          "table": [
           {
            "cells": {
             "fill": {
              "color": "#EBF0F8"
             },
             "line": {
              "color": "white"
             }
            },
            "header": {
             "fill": {
              "color": "#C8D4E3"
             },
             "line": {
              "color": "white"
             }
            },
            "type": "table"
           }
          ]
         },
         "layout": {
          "annotationdefaults": {
           "arrowcolor": "#2a3f5f",
           "arrowhead": 0,
           "arrowwidth": 1
          },
          "autotypenumbers": "strict",
          "coloraxis": {
           "colorbar": {
            "outlinewidth": 0,
            "ticks": ""
           }
          },
          "colorscale": {
           "diverging": [
            [
             0,
             "#8e0152"
            ],
            [
             0.1,
             "#c51b7d"
            ],
            [
             0.2,
             "#de77ae"
            ],
            [
             0.3,
             "#f1b6da"
            ],
            [
             0.4,
             "#fde0ef"
            ],
            [
             0.5,
             "#f7f7f7"
            ],
            [
             0.6,
             "#e6f5d0"
            ],
            [
             0.7,
             "#b8e186"
            ],
            [
             0.8,
             "#7fbc41"
            ],
            [
             0.9,
             "#4d9221"
            ],
            [
             1,
             "#276419"
            ]
           ],
           "sequential": [
            [
             0,
             "#0d0887"
            ],
            [
             0.1111111111111111,
             "#46039f"
            ],
            [
             0.2222222222222222,
             "#7201a8"
            ],
            [
             0.3333333333333333,
             "#9c179e"
            ],
            [
             0.4444444444444444,
             "#bd3786"
            ],
            [
             0.5555555555555556,
             "#d8576b"
            ],
            [
             0.6666666666666666,
             "#ed7953"
            ],
            [
             0.7777777777777778,
             "#fb9f3a"
            ],
            [
             0.8888888888888888,
             "#fdca26"
            ],
            [
             1,
             "#f0f921"
            ]
           ],
           "sequentialminus": [
            [
             0,
             "#0d0887"
            ],
            [
             0.1111111111111111,
             "#46039f"
            ],
            [
             0.2222222222222222,
             "#7201a8"
            ],
            [
             0.3333333333333333,
             "#9c179e"
            ],
            [
             0.4444444444444444,
             "#bd3786"
            ],
            [
             0.5555555555555556,
             "#d8576b"
            ],
            [
             0.6666666666666666,
             "#ed7953"
            ],
            [
             0.7777777777777778,
             "#fb9f3a"
            ],
            [
             0.8888888888888888,
             "#fdca26"
            ],
            [
             1,
             "#f0f921"
            ]
           ]
          },
          "colorway": [
           "#636efa",
           "#EF553B",
           "#00cc96",
           "#ab63fa",
           "#FFA15A",
           "#19d3f3",
           "#FF6692",
           "#B6E880",
           "#FF97FF",
           "#FECB52"
          ],
          "font": {
           "color": "#2a3f5f"
          },
          "geo": {
           "bgcolor": "white",
           "lakecolor": "white",
           "landcolor": "#E5ECF6",
           "showlakes": true,
           "showland": true,
           "subunitcolor": "white"
          },
          "hoverlabel": {
           "align": "left"
          },
          "hovermode": "closest",
          "mapbox": {
           "style": "light"
          },
          "paper_bgcolor": "white",
          "plot_bgcolor": "#E5ECF6",
          "polar": {
           "angularaxis": {
            "gridcolor": "white",
            "linecolor": "white",
            "ticks": ""
           },
           "bgcolor": "#E5ECF6",
           "radialaxis": {
            "gridcolor": "white",
            "linecolor": "white",
            "ticks": ""
           }
          },
          "scene": {
           "xaxis": {
            "backgroundcolor": "#E5ECF6",
            "gridcolor": "white",
            "gridwidth": 2,
            "linecolor": "white",
            "showbackground": true,
            "ticks": "",
            "zerolinecolor": "white"
           },
           "yaxis": {
            "backgroundcolor": "#E5ECF6",
            "gridcolor": "white",
            "gridwidth": 2,
            "linecolor": "white",
            "showbackground": true,
            "ticks": "",
            "zerolinecolor": "white"
           },
           "zaxis": {
            "backgroundcolor": "#E5ECF6",
            "gridcolor": "white",
            "gridwidth": 2,
            "linecolor": "white",
            "showbackground": true,
            "ticks": "",
            "zerolinecolor": "white"
           }
          },
          "shapedefaults": {
           "line": {
            "color": "#2a3f5f"
           }
          },
          "ternary": {
           "aaxis": {
            "gridcolor": "white",
            "linecolor": "white",
            "ticks": ""
           },
           "baxis": {
            "gridcolor": "white",
            "linecolor": "white",
            "ticks": ""
           },
           "bgcolor": "#E5ECF6",
           "caxis": {
            "gridcolor": "white",
            "linecolor": "white",
            "ticks": ""
           }
          },
          "title": {
           "x": 0.05
          },
          "xaxis": {
           "automargin": true,
           "gridcolor": "white",
           "linecolor": "white",
           "ticks": "",
           "title": {
            "standoff": 15
           },
           "zerolinecolor": "white",
           "zerolinewidth": 2
          },
          "yaxis": {
           "automargin": true,
           "gridcolor": "white",
           "linecolor": "white",
           "ticks": "",
           "title": {
            "standoff": 15
           },
           "zerolinecolor": "white",
           "zerolinewidth": 2
          }
         }
        },
        "xaxis": {
         "anchor": "y",
         "domain": [
          0,
          1
         ],
         "matches": "x2",
         "rangeslider": {
          "visible": false
         },
         "showticklabels": false
        },
        "xaxis2": {
         "anchor": "y2",
         "domain": [
          0,
          1
         ]
        },
        "yaxis": {
         "anchor": "x",
         "domain": [
          0.2611111111111111,
          1
         ]
        },
        "yaxis2": {
         "anchor": "x2",
         "domain": [
          0,
          0.21111111111111114
         ]
        }
       }
      },
      "text/html": [
       "<div>                            <div id=\"727a319a-2ddb-4013-a559-880585c01afb\" class=\"plotly-graph-div\" style=\"height:525px; width:100%;\"></div>            <script type=\"text/javascript\">                require([\"plotly\"], function(Plotly) {                    window.PLOTLYENV=window.PLOTLYENV || {};                                    if (document.getElementById(\"727a319a-2ddb-4013-a559-880585c01afb\")) {                    Plotly.newPlot(                        \"727a319a-2ddb-4013-a559-880585c01afb\",                        [{\"close\":[601.95,597.05,598.9,596.0,596.4,604.45,618.3,630.35,636.05,641.75,624.95,615.9,616.8,620.0,632.25,629.05,625.9,626.75,627.9,622.6,618.55,621.8,620.45,615.7,618.7,620.9,620.7,620.35,628.5],\"high\":[607.0,601.5,600.75,601.9,604.95,606.7,620.95,632.5,639.75,654.0,646.9,625.8,620.5,622.75,633.5,637.85,632.75,629.5,631.35,630.7,623.7,629.9,624.0,624.4,620.0,625.0,625.95,623.4,629.45],\"low\":[600.35,595.05,597.7,595.25,595.05,596.4,603.55,619.05,633.05,636.65,622.75,613.7,611.75,615.0,620.2,628.0,624.3,625.0,624.0,621.25,617.0,620.6,618.0,614.25,615.8,617.5,618.0,619.5,619.05],\"open\":[605.0,598.8,597.7,599.9,596.0,596.4,605.0,620.0,636.6,637.9,643.0,624.95,616.3,618.0,622.1,635.0,630.75,626.0,625.1,626.5,623.0,623.0,623.1,621.0,616.85,617.5,624.0,621.9,621.5],\"x\":[265,266,267,268,269,270,271,272,273,274,275,276,277,278,279,280,281,282,283,284,285,286,287,288,289,290,291,292,293],\"type\":\"candlestick\",\"xaxis\":\"x\",\"yaxis\":\"y\"},{\"showlegend\":false,\"x\":[265,266,267,268,269,270,271,272,273,274,275,276,277,278,279,280,281,282,283,284,285,286,287,288,289,290,291,292,293],\"y\":[660925,803879,400863,644399,847451,1405526,2500627,3041047,1580109,3120722,1538801,946727,975533,1156188,1371193,888170,625593,569014,624168,711064,791576,608461,523272,802085,534996,711158,701393,501945,1166529],\"type\":\"bar\",\"xaxis\":\"x2\",\"yaxis\":\"y2\"},{\"line\":{\"color\":\"blue\",\"width\":1},\"name\":\"EMA14\",\"x\":[265,266,267,268,269,270,271,272,273,274,275,276,277,278,279,280,281,282,283,284,285,286,287,288,289,290,291,292,293],\"y\":[594.9864762199121,595.2616127239238,595.7467310274006,595.7805002237473,595.8631001939143,597.008020168059,599.8469508123178,603.9140240373421,608.1988208323631,612.672311388048,614.3093365363083,614.5214249981339,614.8252349983827,615.5152036652651,617.7465098432298,619.2536418641324,620.1398229489148,621.0211798890595,621.9383559038515,622.0265751166713,621.5630317677818,621.5946275320775,621.4420105278006,620.6764091240939,620.412887907548,620.4778361865416,620.507458028336,620.4864636245579,621.5549351412835],\"type\":\"scatter\",\"xaxis\":\"x\",\"yaxis\":\"y\"},{\"line\":{\"color\":\"maroon\",\"width\":1},\"name\":\"EMA26\",\"x\":[265,266,267,268,269,270,271,272,273,274,275,276,277,278,279,280,281,282,283,284,285,286,287,288,289,290,291,292,293],\"y\":[586.6107989821832,587.3840731316511,588.2371047515288,588.8121340291933,589.374198175179,590.4909242362769,592.5508557743304,595.3507923836393,598.3655485033697,601.5792115771942,603.3103810899946,604.2429454536987,605.1730976423136,606.2713867058459,608.1957284313388,609.7404892882766,610.9374900817377,612.10878711272,613.2785065858519,613.9689875794925,614.3083218328634,614.863260956355,615.2770934781065,615.3084198871356,615.5596480436441,615.9552296700408,616.3066941389267,616.606198276784,617.4872206266518],\"type\":\"scatter\",\"xaxis\":\"x\",\"yaxis\":\"y\"}],                        {\"template\":{\"data\":{\"histogram2dcontour\":[{\"type\":\"histogram2dcontour\",\"colorbar\":{\"outlinewidth\":0,\"ticks\":\"\"},\"colorscale\":[[0.0,\"#0d0887\"],[0.1111111111111111,\"#46039f\"],[0.2222222222222222,\"#7201a8\"],[0.3333333333333333,\"#9c179e\"],[0.4444444444444444,\"#bd3786\"],[0.5555555555555556,\"#d8576b\"],[0.6666666666666666,\"#ed7953\"],[0.7777777777777778,\"#fb9f3a\"],[0.8888888888888888,\"#fdca26\"],[1.0,\"#f0f921\"]]}],\"choropleth\":[{\"type\":\"choropleth\",\"colorbar\":{\"outlinewidth\":0,\"ticks\":\"\"}}],\"histogram2d\":[{\"type\":\"histogram2d\",\"colorbar\":{\"outlinewidth\":0,\"ticks\":\"\"},\"colorscale\":[[0.0,\"#0d0887\"],[0.1111111111111111,\"#46039f\"],[0.2222222222222222,\"#7201a8\"],[0.3333333333333333,\"#9c179e\"],[0.4444444444444444,\"#bd3786\"],[0.5555555555555556,\"#d8576b\"],[0.6666666666666666,\"#ed7953\"],[0.7777777777777778,\"#fb9f3a\"],[0.8888888888888888,\"#fdca26\"],[1.0,\"#f0f921\"]]}],\"heatmap\":[{\"type\":\"heatmap\",\"colorbar\":{\"outlinewidth\":0,\"ticks\":\"\"},\"colorscale\":[[0.0,\"#0d0887\"],[0.1111111111111111,\"#46039f\"],[0.2222222222222222,\"#7201a8\"],[0.3333333333333333,\"#9c179e\"],[0.4444444444444444,\"#bd3786\"],[0.5555555555555556,\"#d8576b\"],[0.6666666666666666,\"#ed7953\"],[0.7777777777777778,\"#fb9f3a\"],[0.8888888888888888,\"#fdca26\"],[1.0,\"#f0f921\"]]}],\"heatmapgl\":[{\"type\":\"heatmapgl\",\"colorbar\":{\"outlinewidth\":0,\"ticks\":\"\"},\"colorscale\":[[0.0,\"#0d0887\"],[0.1111111111111111,\"#46039f\"],[0.2222222222222222,\"#7201a8\"],[0.3333333333333333,\"#9c179e\"],[0.4444444444444444,\"#bd3786\"],[0.5555555555555556,\"#d8576b\"],[0.6666666666666666,\"#ed7953\"],[0.7777777777777778,\"#fb9f3a\"],[0.8888888888888888,\"#fdca26\"],[1.0,\"#f0f921\"]]}],\"contourcarpet\":[{\"type\":\"contourcarpet\",\"colorbar\":{\"outlinewidth\":0,\"ticks\":\"\"}}],\"contour\":[{\"type\":\"contour\",\"colorbar\":{\"outlinewidth\":0,\"ticks\":\"\"},\"colorscale\":[[0.0,\"#0d0887\"],[0.1111111111111111,\"#46039f\"],[0.2222222222222222,\"#7201a8\"],[0.3333333333333333,\"#9c179e\"],[0.4444444444444444,\"#bd3786\"],[0.5555555555555556,\"#d8576b\"],[0.6666666666666666,\"#ed7953\"],[0.7777777777777778,\"#fb9f3a\"],[0.8888888888888888,\"#fdca26\"],[1.0,\"#f0f921\"]]}],\"surface\":[{\"type\":\"surface\",\"colorbar\":{\"outlinewidth\":0,\"ticks\":\"\"},\"colorscale\":[[0.0,\"#0d0887\"],[0.1111111111111111,\"#46039f\"],[0.2222222222222222,\"#7201a8\"],[0.3333333333333333,\"#9c179e\"],[0.4444444444444444,\"#bd3786\"],[0.5555555555555556,\"#d8576b\"],[0.6666666666666666,\"#ed7953\"],[0.7777777777777778,\"#fb9f3a\"],[0.8888888888888888,\"#fdca26\"],[1.0,\"#f0f921\"]]}],\"mesh3d\":[{\"type\":\"mesh3d\",\"colorbar\":{\"outlinewidth\":0,\"ticks\":\"\"}}],\"scatter\":[{\"fillpattern\":{\"fillmode\":\"overlay\",\"size\":10,\"solidity\":0.2},\"type\":\"scatter\"}],\"parcoords\":[{\"type\":\"parcoords\",\"line\":{\"colorbar\":{\"outlinewidth\":0,\"ticks\":\"\"}}}],\"scatterpolargl\":[{\"type\":\"scatterpolargl\",\"marker\":{\"colorbar\":{\"outlinewidth\":0,\"ticks\":\"\"}}}],\"bar\":[{\"error_x\":{\"color\":\"#2a3f5f\"},\"error_y\":{\"color\":\"#2a3f5f\"},\"marker\":{\"line\":{\"color\":\"#E5ECF6\",\"width\":0.5},\"pattern\":{\"fillmode\":\"overlay\",\"size\":10,\"solidity\":0.2}},\"type\":\"bar\"}],\"scattergeo\":[{\"type\":\"scattergeo\",\"marker\":{\"colorbar\":{\"outlinewidth\":0,\"ticks\":\"\"}}}],\"scatterpolar\":[{\"type\":\"scatterpolar\",\"marker\":{\"colorbar\":{\"outlinewidth\":0,\"ticks\":\"\"}}}],\"histogram\":[{\"marker\":{\"pattern\":{\"fillmode\":\"overlay\",\"size\":10,\"solidity\":0.2}},\"type\":\"histogram\"}],\"scattergl\":[{\"type\":\"scattergl\",\"marker\":{\"colorbar\":{\"outlinewidth\":0,\"ticks\":\"\"}}}],\"scatter3d\":[{\"type\":\"scatter3d\",\"line\":{\"colorbar\":{\"outlinewidth\":0,\"ticks\":\"\"}},\"marker\":{\"colorbar\":{\"outlinewidth\":0,\"ticks\":\"\"}}}],\"scattermapbox\":[{\"type\":\"scattermapbox\",\"marker\":{\"colorbar\":{\"outlinewidth\":0,\"ticks\":\"\"}}}],\"scatterternary\":[{\"type\":\"scatterternary\",\"marker\":{\"colorbar\":{\"outlinewidth\":0,\"ticks\":\"\"}}}],\"scattercarpet\":[{\"type\":\"scattercarpet\",\"marker\":{\"colorbar\":{\"outlinewidth\":0,\"ticks\":\"\"}}}],\"carpet\":[{\"aaxis\":{\"endlinecolor\":\"#2a3f5f\",\"gridcolor\":\"white\",\"linecolor\":\"white\",\"minorgridcolor\":\"white\",\"startlinecolor\":\"#2a3f5f\"},\"baxis\":{\"endlinecolor\":\"#2a3f5f\",\"gridcolor\":\"white\",\"linecolor\":\"white\",\"minorgridcolor\":\"white\",\"startlinecolor\":\"#2a3f5f\"},\"type\":\"carpet\"}],\"table\":[{\"cells\":{\"fill\":{\"color\":\"#EBF0F8\"},\"line\":{\"color\":\"white\"}},\"header\":{\"fill\":{\"color\":\"#C8D4E3\"},\"line\":{\"color\":\"white\"}},\"type\":\"table\"}],\"barpolar\":[{\"marker\":{\"line\":{\"color\":\"#E5ECF6\",\"width\":0.5},\"pattern\":{\"fillmode\":\"overlay\",\"size\":10,\"solidity\":0.2}},\"type\":\"barpolar\"}],\"pie\":[{\"automargin\":true,\"type\":\"pie\"}]},\"layout\":{\"autotypenumbers\":\"strict\",\"colorway\":[\"#636efa\",\"#EF553B\",\"#00cc96\",\"#ab63fa\",\"#FFA15A\",\"#19d3f3\",\"#FF6692\",\"#B6E880\",\"#FF97FF\",\"#FECB52\"],\"font\":{\"color\":\"#2a3f5f\"},\"hovermode\":\"closest\",\"hoverlabel\":{\"align\":\"left\"},\"paper_bgcolor\":\"white\",\"plot_bgcolor\":\"#E5ECF6\",\"polar\":{\"bgcolor\":\"#E5ECF6\",\"angularaxis\":{\"gridcolor\":\"white\",\"linecolor\":\"white\",\"ticks\":\"\"},\"radialaxis\":{\"gridcolor\":\"white\",\"linecolor\":\"white\",\"ticks\":\"\"}},\"ternary\":{\"bgcolor\":\"#E5ECF6\",\"aaxis\":{\"gridcolor\":\"white\",\"linecolor\":\"white\",\"ticks\":\"\"},\"baxis\":{\"gridcolor\":\"white\",\"linecolor\":\"white\",\"ticks\":\"\"},\"caxis\":{\"gridcolor\":\"white\",\"linecolor\":\"white\",\"ticks\":\"\"}},\"coloraxis\":{\"colorbar\":{\"outlinewidth\":0,\"ticks\":\"\"}},\"colorscale\":{\"sequential\":[[0.0,\"#0d0887\"],[0.1111111111111111,\"#46039f\"],[0.2222222222222222,\"#7201a8\"],[0.3333333333333333,\"#9c179e\"],[0.4444444444444444,\"#bd3786\"],[0.5555555555555556,\"#d8576b\"],[0.6666666666666666,\"#ed7953\"],[0.7777777777777778,\"#fb9f3a\"],[0.8888888888888888,\"#fdca26\"],[1.0,\"#f0f921\"]],\"sequentialminus\":[[0.0,\"#0d0887\"],[0.1111111111111111,\"#46039f\"],[0.2222222222222222,\"#7201a8\"],[0.3333333333333333,\"#9c179e\"],[0.4444444444444444,\"#bd3786\"],[0.5555555555555556,\"#d8576b\"],[0.6666666666666666,\"#ed7953\"],[0.7777777777777778,\"#fb9f3a\"],[0.8888888888888888,\"#fdca26\"],[1.0,\"#f0f921\"]],\"diverging\":[[0,\"#8e0152\"],[0.1,\"#c51b7d\"],[0.2,\"#de77ae\"],[0.3,\"#f1b6da\"],[0.4,\"#fde0ef\"],[0.5,\"#f7f7f7\"],[0.6,\"#e6f5d0\"],[0.7,\"#b8e186\"],[0.8,\"#7fbc41\"],[0.9,\"#4d9221\"],[1,\"#276419\"]]},\"xaxis\":{\"gridcolor\":\"white\",\"linecolor\":\"white\",\"ticks\":\"\",\"title\":{\"standoff\":15},\"zerolinecolor\":\"white\",\"automargin\":true,\"zerolinewidth\":2},\"yaxis\":{\"gridcolor\":\"white\",\"linecolor\":\"white\",\"ticks\":\"\",\"title\":{\"standoff\":15},\"zerolinecolor\":\"white\",\"automargin\":true,\"zerolinewidth\":2},\"scene\":{\"xaxis\":{\"backgroundcolor\":\"#E5ECF6\",\"gridcolor\":\"white\",\"linecolor\":\"white\",\"showbackground\":true,\"ticks\":\"\",\"zerolinecolor\":\"white\",\"gridwidth\":2},\"yaxis\":{\"backgroundcolor\":\"#E5ECF6\",\"gridcolor\":\"white\",\"linecolor\":\"white\",\"showbackground\":true,\"ticks\":\"\",\"zerolinecolor\":\"white\",\"gridwidth\":2},\"zaxis\":{\"backgroundcolor\":\"#E5ECF6\",\"gridcolor\":\"white\",\"linecolor\":\"white\",\"showbackground\":true,\"ticks\":\"\",\"zerolinecolor\":\"white\",\"gridwidth\":2}},\"shapedefaults\":{\"line\":{\"color\":\"#2a3f5f\"}},\"annotationdefaults\":{\"arrowcolor\":\"#2a3f5f\",\"arrowhead\":0,\"arrowwidth\":1},\"geo\":{\"bgcolor\":\"white\",\"landcolor\":\"#E5ECF6\",\"subunitcolor\":\"white\",\"showland\":true,\"showlakes\":true,\"lakecolor\":\"white\"},\"title\":{\"x\":0.05},\"mapbox\":{\"style\":\"light\"}}},\"xaxis\":{\"anchor\":\"y\",\"domain\":[0.0,1.0],\"matches\":\"x2\",\"showticklabels\":false,\"rangeslider\":{\"visible\":false}},\"yaxis\":{\"anchor\":\"x\",\"domain\":[0.2611111111111111,1.0]},\"xaxis2\":{\"anchor\":\"y2\",\"domain\":[0.0,1.0]},\"yaxis2\":{\"anchor\":\"x2\",\"domain\":[0.0,0.21111111111111114]},\"annotations\":[{\"font\":{\"size\":16},\"showarrow\":false,\"text\":\"LICI\",\"x\":0.5,\"xanchor\":\"center\",\"xref\":\"paper\",\"y\":1.0,\"yanchor\":\"bottom\",\"yref\":\"paper\"}],\"shapes\":[{\"layer\":\"below\",\"line\":{\"color\":\"darkgrey\"},\"type\":\"line\",\"x0\":263,\"x1\":296,\"xref\":\"x\",\"y0\":650.0,\"y1\":650.0,\"yref\":\"y\"},{\"layer\":\"below\",\"line\":{\"color\":\"darkgrey\"},\"type\":\"line\",\"x0\":263,\"x1\":296,\"xref\":\"x\",\"y0\":657.8,\"y1\":657.8,\"yref\":\"y\"},{\"layer\":\"below\",\"line\":{\"color\":\"darkgrey\"},\"type\":\"line\",\"x0\":263,\"x1\":296,\"xref\":\"x\",\"y0\":651.0,\"y1\":651.0,\"yref\":\"y\"},{\"layer\":\"below\",\"line\":{\"color\":\"darkgrey\"},\"type\":\"line\",\"x0\":263,\"x1\":296,\"xref\":\"x\",\"y0\":651.0,\"y1\":651.0,\"yref\":\"y\"},{\"layer\":\"below\",\"line\":{\"color\":\"darkgrey\"},\"type\":\"line\",\"x0\":263,\"x1\":296,\"xref\":\"x\",\"y0\":617.0,\"y1\":617.0,\"yref\":\"y\"},{\"layer\":\"below\",\"line\":{\"color\":\"darkgrey\"},\"type\":\"line\",\"x0\":263,\"x1\":296,\"xref\":\"x\",\"y0\":588.0,\"y1\":588.0,\"yref\":\"y\"},{\"layer\":\"below\",\"line\":{\"color\":\"darkgrey\"},\"type\":\"line\",\"x0\":263,\"x1\":296,\"xref\":\"x\",\"y0\":620.05,\"y1\":620.05,\"yref\":\"y\"},{\"layer\":\"below\",\"line\":{\"color\":\"darkgrey\"},\"type\":\"line\",\"x0\":263,\"x1\":296,\"xref\":\"x\",\"y0\":655.1,\"y1\":655.1,\"yref\":\"y\"},{\"layer\":\"below\",\"line\":{\"color\":\"darkgrey\"},\"type\":\"line\",\"x0\":263,\"x1\":296,\"xref\":\"x\",\"y0\":595.05,\"y1\":595.05,\"yref\":\"y\"},{\"layer\":\"below\",\"line\":{\"color\":\"darkgrey\"},\"type\":\"line\",\"x0\":263,\"x1\":296,\"xref\":\"x\",\"y0\":595.05,\"y1\":595.05,\"yref\":\"y\"},{\"layer\":\"below\",\"line\":{\"color\":\"darkgrey\"},\"type\":\"line\",\"x0\":263,\"x1\":296,\"xref\":\"x\",\"y0\":611.75,\"y1\":611.75,\"yref\":\"y\"},{\"layer\":\"below\",\"line\":{\"color\":\"darkgrey\"},\"type\":\"line\",\"x0\":263,\"x1\":296,\"xref\":\"x\",\"y0\":614.25,\"y1\":614.25,\"yref\":\"y\"},{\"layer\":\"below\",\"line\":{\"color\":\"darkgrey\"},\"type\":\"line\",\"x0\":263,\"x1\":296,\"xref\":\"x\",\"y0\":635.8,\"y1\":635.8,\"yref\":\"y\"},{\"layer\":\"below\",\"line\":{\"color\":\"darkgrey\"},\"type\":\"line\",\"x0\":263,\"x1\":296,\"xref\":\"x\",\"y0\":640.0,\"y1\":640.0,\"yref\":\"y\"},{\"layer\":\"below\",\"line\":{\"color\":\"darkgrey\"},\"type\":\"line\",\"x0\":263,\"x1\":296,\"xref\":\"x\",\"y0\":625.0,\"y1\":625.0,\"yref\":\"y\"},{\"layer\":\"below\",\"line\":{\"color\":\"darkgrey\"},\"type\":\"line\",\"x0\":263,\"x1\":296,\"xref\":\"x\",\"y0\":615.5,\"y1\":615.5,\"yref\":\"y\"},{\"layer\":\"below\",\"line\":{\"color\":\"darkgrey\"},\"type\":\"line\",\"x0\":263,\"x1\":296,\"xref\":\"x\",\"y0\":610.4,\"y1\":610.4,\"yref\":\"y\"},{\"layer\":\"below\",\"line\":{\"color\":\"darkgrey\"},\"type\":\"line\",\"x0\":263,\"x1\":296,\"xref\":\"x\",\"y0\":654.0,\"y1\":654.0,\"yref\":\"y\"}]},                        {\"responsive\": true}                    ).then(function(){\n",
       "                            \n",
       "var gd = document.getElementById('727a319a-2ddb-4013-a559-880585c01afb');\n",
       "var x = new MutationObserver(function (mutations, observer) {{\n",
       "        var display = window.getComputedStyle(gd).display;\n",
       "        if (!display || display === 'none') {{\n",
       "            console.log([gd, 'removed!']);\n",
       "            Plotly.purge(gd);\n",
       "            observer.disconnect();\n",
       "        }}\n",
       "}});\n",
       "\n",
       "// Listen for the removal of the full notebook cells\n",
       "var notebookContainer = gd.closest('#notebook-container');\n",
       "if (notebookContainer) {{\n",
       "    x.observe(notebookContainer, {childList: true});\n",
       "}}\n",
       "\n",
       "// Listen for the clearing of the current output cell\n",
       "var outputEl = gd.closest('.output');\n",
       "if (outputEl) {{\n",
       "    x.observe(outputEl, {childList: true});\n",
       "}}\n",
       "\n",
       "                        })                };                });            </script>        </div>"
      ]
     },
     "metadata": {},
     "output_type": "display_data"
    },
    {
     "name": "stdout",
     "output_type": "stream",
     "text": [
      "trade? (1/0): 1\n",
      "stoploss : 620\n",
      "target : 637\n"
     ]
    },
    {
     "ename": "KeyError",
     "evalue": "315",
     "output_type": "error",
     "traceback": [
      "\u001b[0;31m---------------------------------------------------------------------------\u001b[0m",
      "\u001b[0;31mValueError\u001b[0m                                Traceback (most recent call last)",
      "File \u001b[0;32m/usr/local/lib/python3.10/site-packages/pandas/core/indexes/range.py:345\u001b[0m, in \u001b[0;36mRangeIndex.get_loc\u001b[0;34m(self, key)\u001b[0m\n\u001b[1;32m    344\u001b[0m \u001b[38;5;28;01mtry\u001b[39;00m:\n\u001b[0;32m--> 345\u001b[0m     \u001b[38;5;28;01mreturn\u001b[39;00m \u001b[38;5;28;43mself\u001b[39;49m\u001b[38;5;241;43m.\u001b[39;49m\u001b[43m_range\u001b[49m\u001b[38;5;241;43m.\u001b[39;49m\u001b[43mindex\u001b[49m\u001b[43m(\u001b[49m\u001b[43mnew_key\u001b[49m\u001b[43m)\u001b[49m\n\u001b[1;32m    346\u001b[0m \u001b[38;5;28;01mexcept\u001b[39;00m \u001b[38;5;167;01mValueError\u001b[39;00m \u001b[38;5;28;01mas\u001b[39;00m err:\n",
      "\u001b[0;31mValueError\u001b[0m: 315 is not in range",
      "\nThe above exception was the direct cause of the following exception:\n",
      "\u001b[0;31mKeyError\u001b[0m                                  Traceback (most recent call last)",
      "Cell \u001b[0;32mIn[7], line 1\u001b[0m\n\u001b[0;32m----> 1\u001b[0m \u001b[43mquiz\u001b[49m\u001b[38;5;241;43m.\u001b[39;49m\u001b[43mrandom\u001b[49m\u001b[43m(\u001b[49m\u001b[43mrounds\u001b[49m\u001b[38;5;241;43m=\u001b[39;49m\u001b[38;5;241;43m5\u001b[39;49m\u001b[43m)\u001b[49m\n",
      "File \u001b[0;32m/app/quiz.py:22\u001b[0m, in \u001b[0;36mQuiz.random\u001b[0;34m(self, rounds)\u001b[0m\n\u001b[1;32m     20\u001b[0m firstTicker \u001b[38;5;241m=\u001b[39m \u001b[38;5;28mlist\u001b[39m(\u001b[38;5;28mself\u001b[39m\u001b[38;5;241m.\u001b[39mtb\u001b[38;5;241m.\u001b[39mdata\u001b[38;5;241m.\u001b[39mkeys())[\u001b[38;5;241m0\u001b[39m]\n\u001b[1;32m     21\u001b[0m candleIndex \u001b[38;5;241m=\u001b[39m random\u001b[38;5;241m.\u001b[39mrandint(\u001b[38;5;241m50\u001b[39m, \u001b[38;5;28mlen\u001b[39m(\u001b[38;5;28mself\u001b[39m\u001b[38;5;241m.\u001b[39mtb\u001b[38;5;241m.\u001b[39mdata[firstTicker]\u001b[38;5;241m.\u001b[39mindex)\u001b[38;5;241m-\u001b[39m\u001b[38;5;241m51\u001b[39m)\n\u001b[0;32m---> 22\u001b[0m \u001b[38;5;28;43mself\u001b[39;49m\u001b[38;5;241;43m.\u001b[39;49m\u001b[43mrunEngine\u001b[49m\u001b[43m(\u001b[49m\u001b[43mrounds\u001b[49m\u001b[43m,\u001b[49m\u001b[43m \u001b[49m\u001b[43mcandleIndex\u001b[49m\u001b[43m)\u001b[49m\n",
      "File \u001b[0;32m/app/quiz.py:52\u001b[0m, in \u001b[0;36mQuiz.runEngine\u001b[0;34m(self, rounds, candleIndex)\u001b[0m\n\u001b[1;32m     50\u001b[0m stoploss \u001b[38;5;241m=\u001b[39m \u001b[38;5;28mfloat\u001b[39m(\u001b[38;5;28minput\u001b[39m(\u001b[38;5;124m\"\u001b[39m\u001b[38;5;124mstoploss : \u001b[39m\u001b[38;5;124m\"\u001b[39m))\n\u001b[1;32m     51\u001b[0m target \u001b[38;5;241m=\u001b[39m \u001b[38;5;28mfloat\u001b[39m(\u001b[38;5;28minput\u001b[39m(\u001b[38;5;124m\"\u001b[39m\u001b[38;5;124mtarget : \u001b[39m\u001b[38;5;124m\"\u001b[39m))\n\u001b[0;32m---> 52\u001b[0m currentPrice \u001b[38;5;241m=\u001b[39m \u001b[43mindicator\u001b[49m\u001b[38;5;241;43m.\u001b[39;49m\u001b[43mdf\u001b[49m\u001b[38;5;241;43m.\u001b[39;49m\u001b[43mClose\u001b[49m\u001b[43m[\u001b[49m\u001b[43mrandomCandleIndex\u001b[49m\u001b[43m]\u001b[49m\n\u001b[1;32m     53\u001b[0m RRR \u001b[38;5;241m=\u001b[39m \u001b[38;5;28mabs\u001b[39m(target \u001b[38;5;241m-\u001b[39m currentPrice)\u001b[38;5;241m/\u001b[39m\u001b[38;5;28mabs\u001b[39m(stoploss \u001b[38;5;241m-\u001b[39m currentPrice)\n\u001b[1;32m     54\u001b[0m \u001b[38;5;28mprint\u001b[39m(\u001b[38;5;124mf\u001b[39m\u001b[38;5;124m'\u001b[39m\u001b[38;5;124mRRR = \u001b[39m\u001b[38;5;132;01m{\u001b[39;00mRRR\u001b[38;5;132;01m}\u001b[39;00m\u001b[38;5;124m'\u001b[39m)\n",
      "File \u001b[0;32m/usr/local/lib/python3.10/site-packages/pandas/core/series.py:1007\u001b[0m, in \u001b[0;36mSeries.__getitem__\u001b[0;34m(self, key)\u001b[0m\n\u001b[1;32m   1004\u001b[0m     \u001b[38;5;28;01mreturn\u001b[39;00m \u001b[38;5;28mself\u001b[39m\u001b[38;5;241m.\u001b[39m_values[key]\n\u001b[1;32m   1006\u001b[0m \u001b[38;5;28;01melif\u001b[39;00m key_is_scalar:\n\u001b[0;32m-> 1007\u001b[0m     \u001b[38;5;28;01mreturn\u001b[39;00m \u001b[38;5;28;43mself\u001b[39;49m\u001b[38;5;241;43m.\u001b[39;49m\u001b[43m_get_value\u001b[49m\u001b[43m(\u001b[49m\u001b[43mkey\u001b[49m\u001b[43m)\u001b[49m\n\u001b[1;32m   1009\u001b[0m \u001b[38;5;28;01mif\u001b[39;00m is_hashable(key):\n\u001b[1;32m   1010\u001b[0m     \u001b[38;5;66;03m# Otherwise index.get_value will raise InvalidIndexError\u001b[39;00m\n\u001b[1;32m   1011\u001b[0m     \u001b[38;5;28;01mtry\u001b[39;00m:\n\u001b[1;32m   1012\u001b[0m         \u001b[38;5;66;03m# For labels that don't resolve as scalars like tuples and frozensets\u001b[39;00m\n",
      "File \u001b[0;32m/usr/local/lib/python3.10/site-packages/pandas/core/series.py:1116\u001b[0m, in \u001b[0;36mSeries._get_value\u001b[0;34m(self, label, takeable)\u001b[0m\n\u001b[1;32m   1113\u001b[0m     \u001b[38;5;28;01mreturn\u001b[39;00m \u001b[38;5;28mself\u001b[39m\u001b[38;5;241m.\u001b[39m_values[label]\n\u001b[1;32m   1115\u001b[0m \u001b[38;5;66;03m# Similar to Index.get_value, but we do not fall back to positional\u001b[39;00m\n\u001b[0;32m-> 1116\u001b[0m loc \u001b[38;5;241m=\u001b[39m \u001b[38;5;28;43mself\u001b[39;49m\u001b[38;5;241;43m.\u001b[39;49m\u001b[43mindex\u001b[49m\u001b[38;5;241;43m.\u001b[39;49m\u001b[43mget_loc\u001b[49m\u001b[43m(\u001b[49m\u001b[43mlabel\u001b[49m\u001b[43m)\u001b[49m\n\u001b[1;32m   1118\u001b[0m \u001b[38;5;28;01mif\u001b[39;00m is_integer(loc):\n\u001b[1;32m   1119\u001b[0m     \u001b[38;5;28;01mreturn\u001b[39;00m \u001b[38;5;28mself\u001b[39m\u001b[38;5;241m.\u001b[39m_values[loc]\n",
      "File \u001b[0;32m/usr/local/lib/python3.10/site-packages/pandas/core/indexes/range.py:347\u001b[0m, in \u001b[0;36mRangeIndex.get_loc\u001b[0;34m(self, key)\u001b[0m\n\u001b[1;32m    345\u001b[0m         \u001b[38;5;28;01mreturn\u001b[39;00m \u001b[38;5;28mself\u001b[39m\u001b[38;5;241m.\u001b[39m_range\u001b[38;5;241m.\u001b[39mindex(new_key)\n\u001b[1;32m    346\u001b[0m     \u001b[38;5;28;01mexcept\u001b[39;00m \u001b[38;5;167;01mValueError\u001b[39;00m \u001b[38;5;28;01mas\u001b[39;00m err:\n\u001b[0;32m--> 347\u001b[0m         \u001b[38;5;28;01mraise\u001b[39;00m \u001b[38;5;167;01mKeyError\u001b[39;00m(key) \u001b[38;5;28;01mfrom\u001b[39;00m \u001b[38;5;21;01merr\u001b[39;00m\n\u001b[1;32m    348\u001b[0m \u001b[38;5;28;01mif\u001b[39;00m \u001b[38;5;28misinstance\u001b[39m(key, Hashable):\n\u001b[1;32m    349\u001b[0m     \u001b[38;5;28;01mraise\u001b[39;00m \u001b[38;5;167;01mKeyError\u001b[39;00m(key)\n",
      "\u001b[0;31mKeyError\u001b[0m: 315"
     ]
    }
   ],
   "source": [
    "pt.random(rounds=5)"
   ]
  },
  {
   "cell_type": "code",
   "execution_count": 11,
   "id": "f011edbd",
   "metadata": {},
   "outputs": [
    {
     "data": {
      "text/plain": [
       "RangeIndex(start=0, stop=294, step=1)"
      ]
     },
     "execution_count": 11,
     "metadata": {},
     "output_type": "execute_result"
    }
   ],
   "source": [
    "tb.data['LICI'].index"
   ]
  },
  {
   "cell_type": "code",
   "execution_count": 1,
   "id": "d31e6930",
   "metadata": {},
   "outputs": [
    {
     "name": "stdout",
     "output_type": "stream",
     "text": [
      "candlestick_patterns.ipynb  cb_indicator.ipynb\tmain.ipynb  sr_indicator.ipynb\r\n",
      "cb_backtest.ipynb\t    draft.ipynb\t\tquiz.ipynb  sri_backtest.ipynb\r\n"
     ]
    }
   ],
   "source": [
    "!dir"
   ]
  }
 ],
 "metadata": {
  "kernelspec": {
   "display_name": "Python 3 (ipykernel)",
   "language": "python",
   "name": "python3"
  },
  "language_info": {
   "codemirror_mode": {
    "name": "ipython",
    "version": 3
   },
   "file_extension": ".py",
   "mimetype": "text/x-python",
   "name": "python",
   "nbconvert_exporter": "python",
   "pygments_lexer": "ipython3",
   "version": "3.10.10"
  }
 },
 "nbformat": 4,
 "nbformat_minor": 5
}
