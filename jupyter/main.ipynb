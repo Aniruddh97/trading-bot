{
 "cells": [
  {
   "cell_type": "code",
   "execution_count": 33,
   "id": "b58151fd",
   "metadata": {},
   "outputs": [],
   "source": [
    "import numpy as np\n",
    "import plotly.graph_objects as go\n",
    "from scipy import stats\n",
    "\n",
    "class ChannelBreakoutIndicator:\n",
    "\n",
    "    def __init__(self, data, tickerName=''):\n",
    "        self.window = 4\n",
    "        self.df = data\n",
    "        self.tickerName = tickerName\n",
    "\n",
    "\n",
    "    def isPivot(self, candleIndex):\n",
    "        \"\"\"\n",
    "        function that detects if a candle is a pivot/fractal point\n",
    "        args: candle index, window before and after candle to test if pivot\n",
    "        returns: 1 if pivot high, 2 if pivot low, 3 if both and 0 default\n",
    "        \"\"\"\n",
    "        if candleIndex-self.window < 0 or candleIndex+self.window >= len(self.df):\n",
    "            return 0\n",
    "        \n",
    "        pivotHigh = 1\n",
    "        pivotLow = 2\n",
    "        for i in range(candleIndex-self.window, candleIndex+self.window+1):\n",
    "            if self.df.iloc[candleIndex].Low > self.df.iloc[i].Low:\n",
    "                pivotLow=0\n",
    "            if self.df.iloc[candleIndex].High < self.df.iloc[i].High:\n",
    "                pivotHigh=0\n",
    "        if (pivotHigh and pivotLow):\n",
    "            return 3\n",
    "        elif pivotHigh:\n",
    "            return pivotHigh\n",
    "        elif pivotLow:\n",
    "            return pivotLow\n",
    "        else:\n",
    "            return 0\n",
    "    \n",
    "\n",
    "    def setPivotPoint(self):\n",
    "        self.df[\"isPivot\"] = [self.isPivot(candleIndex) for candleIndex in self.df.index]\n",
    "\n",
    "\n",
    "    def getPivotMarker(self, x):\n",
    "        markerDistance = (x[\"High\"]-x[\"Low\"])/10\n",
    "        if x[\"isPivot\"]==2:\n",
    "            return x[\"Low\"] - markerDistance\n",
    "        elif x[\"isPivot\"]==1:\n",
    "            return x[\"High\"] + markerDistance\n",
    "        else:\n",
    "            return np.nan\n",
    "    \n",
    "\n",
    "    def setPivotMarker(self):\n",
    "        self.df[\"pivotMarker\"] = [self.getPivotMarker(row) for index, row in self.df.iterrows()]\n",
    "        \n",
    "    \n",
    "    def showPivotMarkers(self, startIndex=0, endIndex=0):\n",
    "        if (endIndex<=startIndex or startIndex<0 or endIndex>=len(self.df)):\n",
    "            print(\"\\n Invalid startIndex or endIndex\")\n",
    "            \n",
    "        dfSlice = self.df[startIndex:endIndex]\n",
    "        fig = go.Figure(data=[go.Candlestick(x=dfSlice.index,\n",
    "                        open=dfSlice[\"Open\"],\n",
    "                        high=dfSlice[\"High\"],\n",
    "                        low=dfSlice[\"Low\"],\n",
    "                        close=dfSlice[\"Close\"])])\n",
    "\n",
    "        fig.add_scatter(x=dfSlice.index, y=dfSlice[\"pivotMarker\"], mode=\"markers\",\n",
    "                        marker=dict(size=7, color=\"MediumPurple\"),\n",
    "                        name=\"pivotMarker\")\n",
    "        #fig.update_layout(xaxis_rangeslider_visible=False)\n",
    "        fig.show()\n",
    "\n",
    "\n",
    "    def getChannel(self, candleIndex, backCandles):\n",
    "        localdf = self.df[candleIndex-backCandles-self.window:candleIndex-self.window]\n",
    "        \n",
    "        highs = localdf[localdf[\"isPivot\"]==1].High.values\n",
    "        idxhighs = localdf[localdf[\"isPivot\"]==1].High.index\n",
    "        lows = localdf[localdf[\"isPivot\"]==2].Low.values\n",
    "        idxlows = localdf[localdf[\"isPivot\"]==2].Low.index\n",
    "        \n",
    "        if len(lows)>=2 and len(highs)>=2:\n",
    "            slopeLow, interceptLow, rValueLow, _, _ = stats.linregress(idxlows,lows)\n",
    "            slopeHigh, interceptHigh, rValueHigh, _, _ = stats.linregress(idxhighs,highs)\n",
    "        \n",
    "            return(slopeLow, interceptLow, slopeHigh, interceptHigh, rValueLow**2, rValueHigh**2)\n",
    "        else:\n",
    "            return(0,0,0,0,0,0)\n",
    "        \n",
    "\n",
    "    def showChannel(self, candleIndex, backCandles):\n",
    "\n",
    "        if (candleIndex-backCandles<0 or candleIndex>len(self.df)):\n",
    "            print(\"\\n Invalid candleIndex & backCandles combination\")\n",
    "            return\n",
    "\n",
    "        startIndex = candleIndex-backCandles\n",
    "        endIndex = candleIndex\n",
    "\n",
    "        # below code for better visualization\n",
    "        for _ in range(3):\n",
    "            if (startIndex-10>0):\n",
    "                startIndex -= 10\n",
    "            if (endIndex+10<=len(self.df)):\n",
    "                endIndex += 10\n",
    "        # above code for better visualization\n",
    "\n",
    "        dfSlice = self.df[startIndex:endIndex+1]\n",
    "        \n",
    "        fig = go.Figure(data=[go.Candlestick(x=dfSlice.index,\n",
    "                        open=dfSlice[\"Open\"],\n",
    "                        high=dfSlice[\"High\"],\n",
    "                        low=dfSlice[\"Low\"],\n",
    "                        close=dfSlice[\"Close\"])])\n",
    "\n",
    "        fig.add_scatter(x=dfSlice.index, y=dfSlice[\"pivotMarker\"], mode=\"markers\",\n",
    "                        marker=dict(size=5, color=\"MediumPurple\"),\n",
    "                        name=\"pivotMarker\")\n",
    "\n",
    "        slopeLow, interceptLow, slopeHigh, interceptHigh, rSqLow, rSqHigh = self.getChannel(candleIndex, backCandles)\n",
    "        print(rSqLow, rSqHigh)\n",
    "        x = np.array(range(candleIndex-backCandles-self.window, candleIndex+1))\n",
    "        fig.add_trace(go.Scatter(x=x, y=slopeLow*x + interceptLow, mode=\"lines\", name=\"lower slope\"))\n",
    "        fig.add_trace(go.Scatter(x=x, y=slopeHigh*x + interceptHigh, mode=\"lines\", name=\"max slope\"))\n",
    "        #fig.update_layout(xaxis_rangeslider_visible=False)\n",
    "        fig.show()\n",
    "\n",
    "        \n",
    "    def isBreakOut(self, candleIndex, backCandles):\n",
    "        if (candleIndex-backCandles-self.window)<0:\n",
    "            return 0\n",
    "        \n",
    "        slopeLow, interceptLow, slopeHigh, interceptHigh, rSqLow, rSqHigh = self.getChannel(candleIndex,backCandles)\n",
    "        \n",
    "        prev_idx = candleIndex-1\n",
    "        prev_high = self.df.iloc[candleIndex-1].High\n",
    "        prev_low = self.df.iloc[candleIndex-1].Low\n",
    "        prev_close = self.df.iloc[candleIndex-1].Close\n",
    "        \n",
    "        curr_idx = candleIndex\n",
    "        curr_high = self.df.iloc[candleIndex].High\n",
    "        curr_low = self.df.iloc[candleIndex].Low\n",
    "        curr_close = self.df.iloc[candleIndex].Close\n",
    "        curr_open = self.df.iloc[candleIndex].Open\n",
    "\n",
    "        # downward channel breakout\n",
    "        if ( prev_high > (slopeLow*prev_idx + interceptLow) and\n",
    "            prev_close < (slopeLow*prev_idx + interceptLow) and\n",
    "            curr_open < (slopeLow*curr_idx + interceptLow) and\n",
    "            curr_close < (slopeLow*prev_idx + interceptLow)): #and rSqLow > 0.9\n",
    "            return 1\n",
    "        \n",
    "        # upward channel breakout\n",
    "        elif ( prev_low < (slopeHigh*prev_idx + interceptHigh) and\n",
    "            prev_close > (slopeHigh*prev_idx + interceptHigh) and\n",
    "            curr_open > (slopeHigh*curr_idx + interceptHigh) and\n",
    "            curr_close > (slopeHigh*prev_idx + interceptHigh)): #and rSqHigh > 0.9\n",
    "            return 2\n",
    "        \n",
    "        else:\n",
    "            return 0\n",
    "\n",
    "\n",
    "    def getBreakoutMarker(self, x):\n",
    "        markerDistance = (x[\"High\"]-x[\"Low\"])/10\n",
    "        if x[\"isBreakout\"]==2:\n",
    "            return x[\"Low\"]-markerDistance\n",
    "        elif x[\"isBreakout\"]==1:\n",
    "            return x[\"High\"]+markerDistance\n",
    "        else:\n",
    "            return np.nan\n",
    "        \n",
    "\n",
    "    def setBreakoutPoint(self, backCandles):\n",
    "        self.df[\"isBreakout\"] = [self.isBreakOut(candle, backCandles) for candle in self.df.index]\n",
    "\n",
    "\n",
    "    def setBreakoutMarker(self):\n",
    "        self.df[\"breakoutMarker\"] = [self.getBreakoutMarker(row) for index, row in self.df.iterrows()]\n",
    "\n",
    "\n",
    "    def showIndicator(self, candleIndex, backCandles):\n",
    "        if (candleIndex-backCandles<0 or candleIndex>len(self.df)):\n",
    "            print(\"\\nInvalid candleIndex & backCandles combination\")\n",
    "            return\n",
    "\n",
    "        startIndex = candleIndex-backCandles\n",
    "        endIndex = candleIndex\n",
    "\n",
    "        # below code for better visualization\n",
    "        for _ in range(3):\n",
    "            if (startIndex-5>0):\n",
    "                startIndex -= 5\n",
    "            if (endIndex+5<len(self.df)):\n",
    "                endIndex += 5\n",
    "        # above code for better visualization\n",
    "\n",
    "        dfSlice = self.df[startIndex:endIndex+1]\n",
    "\n",
    "        fig = go.Figure(data=[go.Candlestick(x=dfSlice.index,\n",
    "                        open=dfSlice[\"Open\"],\n",
    "                        high=dfSlice[\"High\"],\n",
    "                        low=dfSlice[\"Low\"],\n",
    "                        close=dfSlice[\"Close\"])])\n",
    "\n",
    "        fig.add_scatter(x=dfSlice.index, y=dfSlice[\"pivotMarker\"], mode=\"markers\",\n",
    "                        marker=dict(size=7, color=\"MediumPurple\"),\n",
    "                        name=\"pivot\")\n",
    "\n",
    "        fig.add_scatter(x=dfSlice.index, y=dfSlice[\"breakoutMarker\"], mode=\"markers\",\n",
    "                        marker=dict(size=7, color=\"Black\"), marker_symbol=\"hexagram\",\n",
    "                        name=\"breakout\")\n",
    "\n",
    "        slopeLow, interceptLow, slopeHigh, interceptHigh, rSqLow, rSqHigh = self.getChannel(candleIndex, backCandles)\n",
    "        print(rSqLow, rSqHigh)\n",
    "        x = np.array(range(candleIndex-backCandles-self.window, candleIndex+1))\n",
    "        fig.add_trace(go.Scatter(x=x, y=slopeLow*x + interceptLow, mode=\"lines\", name=\"lower slope\"))\n",
    "        fig.add_trace(go.Scatter(x=x, y=slopeHigh*x + interceptHigh, mode=\"lines\", name=\"max slope\"))\n",
    "        #fig.update_layout(xaxis_rangeslider_visible=False)\n",
    "        #fig.update_layout(title_text=self.tickerName, title_font_color='MediumBlue', title_font_size=21)\n",
    "        fig.update_layout(title_text=self.tickerName, title_font_size=18)\n",
    "        fig.show()\n",
    "\n",
    "\n",
    "    def calculate(self, backCandles=40):\n",
    "        self.setPivotPoint()\n",
    "        self.setPivotMarker()\n",
    "        self.setBreakoutPoint(backCandles)\n",
    "        self.setBreakoutMarker()\n",
    "\n",
    "\n",
    "    def setSignal(self, backCandles=40):\n",
    "        self.df[\"Signal\"] = self.getSignal()\n",
    "\n",
    "\n",
    "    def getSignal(self):\n",
    "        self.df.isBreakout\n",
    "        \n",
    "\n",
    "    def getBuySell(self):\n",
    "        return [\"SELL\" if row.isBreakout == 1 else \"BUY\" if row.isBreakout == 2 else \"\" for index, row in self.df.iterrows()]\n",
    "    "
   ]
  },
  {
   "cell_type": "code",
   "execution_count": 34,
   "id": "4db2f4f0",
   "metadata": {},
   "outputs": [],
   "source": [
    "tickers = ['AARTIIND.NS', 'ABB.NS', 'ABBOTINDIA.NS', 'ACC.NS', 'ADANIENT.NS', 'ADANIPORTS.NS', 'ABCAPITAL.NS', 'ABFRL.NS', 'ALKEM.NS', 'AMBUJACEM.NS', 'APOLLOHOSP.NS', 'APOLLOTYRE.NS', 'ASHOKLEY.NS', 'ASIANPAINT.NS', 'ASTRAL.NS', 'ATUL.NS', 'AUBANK.NS', 'AUROPHARMA.NS', 'AXISBANK.NS', 'BAJAJ-AUTO.NS', 'BAJFINANCE.NS', 'BAJAJFINSV.NS', 'BALKRISIND.NS', 'BALRAMCHIN.NS', 'BANDHANBNK.NS', 'BANKBARODA.NS', 'BATAINDIA.NS', 'BERGEPAINT.NS', 'BEL.NS', 'BHARATFORG.NS', 'BPCL.NS', 'BHARTIARTL.NS', 'BHEL.NS', 'BIOCON.NS', 'BSOFT.NS', 'BOSCHLTD.NS', 'BRITANNIA.NS', 'CANFINHOME.NS', 'CANBK.NS', 'CHAMBLFERT.NS', 'CHOLAFIN.NS', 'CIPLA.NS', 'CUB.NS', 'COALINDIA.NS', 'COFORGE.NS', 'COLPAL.NS', 'CONCOR.NS', 'COROMANDEL.NS', 'CROMPTON.NS', 'CUMMINSIND.NS', 'DABUR.NS', 'DALBHARAT.NS', 'DEEPAKNTR.NS', 'DELTACORP.NS', 'DIVISLAB.NS', 'DIXON.NS', 'DLF.NS', 'LALPATHLAB.NS', 'DRREDDY.NS', 'EICHERMOT.NS', 'ESCORTS.NS', 'EXIDEIND.NS', 'FEDERALBNK.NS', 'GAIL.NS', 'GLENMARK.NS', 'GMRINFRA.NS', 'GODREJCP.NS', 'GODREJPROP.NS', 'GRANULES.NS', 'GRASIM.NS', 'GNFC.NS', 'GUJGASLTD.NS', 'HAVELLS.NS', 'HCLTECH.NS', 'HDFCAMC.NS', 'HDFCBANK.NS', 'HDFCLIFE.NS', 'HDFC.NS', 'HEROMOTOCO.NS', 'HINDALCO.NS', 'HAL.NS', 'HINDCOPPER.NS', 'HINDPETRO.NS', 'HINDUNILVR.NS', 'ICICIBANK.NS', 'ICICIGI.NS', 'ICICIPRULI.NS', 'IDFCFIRSTB.NS', 'IDFC.NS', 'IBULHSGFIN.NS', 'INDIAMART.NS', 'IEX.NS', 'IOC.NS', 'IRCTC.NS', 'IGL.NS', 'INDUSTOWER.NS', 'INDUSINDBK.NS', 'NAUKRI.NS', 'INFY.NS', 'INTELLECT.NS', 'INDIGO.NS', 'IPCALAB.NS', 'ITC.NS', 'JINDALSTEL.NS', 'JKCEMENT.NS', 'JSWSTEEL.NS', 'JUBLFOOD.NS', 'KOTAKBANK.NS', 'L&TFH.NS', 'LTTS.NS', 'LT.NS', 'LAURUSLABS.NS', 'LICHSGFIN.NS', 'LTIM.NS', 'LUPIN.NS', 'M&MFIN.NS', 'MGL.NS', 'M&M.NS', 'MANAPPURAM.NS', 'MARICO.NS', 'MARUTI.NS', 'MFSL.NS', 'METROPOLIS.NS', 'MPHASIS.NS', 'MRF.NS', 'MCX.NS', 'MUTHOOTFIN.NS', 'NATIONALUM.NS', 'NAVINFLUOR.NS', 'NESTLEIND.NS', 'NMDC.NS', 'NTPC.NS', 'OBEROIRLTY.NS', 'ONGC.NS', 'OFSS.NS', 'PAGEIND.NS', 'PERSISTENT.NS', 'PETRONET.NS', 'PIIND.NS', 'PIDILITIND.NS', 'PEL.NS', 'POLYCAB.NS', 'PFC.NS', 'POWERGRID.NS', 'PNB.NS', 'PVR.NS', 'RAIN.NS', 'RBLBANK.NS', 'RECLTD.NS', 'RELIANCE.NS', 'MOTHERSON.NS', 'SBICARD.NS', 'SBILIFE.NS', 'SHREECEM.NS', 'SHRIRAMFIN.NS', 'SIEMENS.NS', 'SRF.NS', 'SBIN.NS', 'SAIL.NS', 'SUNPHARMA.NS', 'SUNTV.NS', 'SYNGENE.NS', 'TATACHEM.NS', 'TATACOMM.NS', 'TCS.NS', 'TATACONSUM.NS', 'TATAMOTORS.NS', 'TATAPOWER.NS', 'TATASTEEL.NS', 'TECHM.NS', 'INDIACEM.NS', 'INDHOTEL.NS', 'RAMCOCEM.NS', 'TITAN.NS', 'TORNTPHARM.NS', 'TRENT.NS', 'TVSMOTOR.NS', 'ULTRACEMCO.NS', 'UBL.NS', 'MCDOWELL-N.NS', 'UPL.NS', 'VEDL.NS', 'IDEA.NS', 'VOLTAS.NS', 'WHIRLPOOL.NS', 'WIPRO.NS', 'ZEEL.NS', 'ZYDUSLIFE.NS']\n",
    "patterns = ['CDLDARKCLOUDCOVER', 'CDLDOJI', 'CDLENGULFING', 'CDLEVENINGDOJISTAR', 'CDLEVENINGSTAR', 'CDLHAMMER', 'CDLHANGINGMAN', 'CDLHARAMI', 'CDLMARUBOZU', 'CDLMORNINGDOJISTAR', 'CDLMORNINGSTAR', 'CDLPIERCING', 'CDLSHOOTINGSTAR', 'CDLSPINNINGTOP']\n",
    "tickers = [\"AARTIIND.NS\",\"ALKEM.NS\",\"AUROPHARMA.NS\",\"BHARATFORG.NS\",\"ESCORTS.NS\",\"GAIL.NS\",\"GMRINFRA.NS\",\"HEROMOTOCO.NS\",\"MARICO.NS\",\"MFSL.NS\",\"SRF.NS\",\"INDIACEM.NS\",\"UPL.NS\"]"
   ]
  },
  {
   "cell_type": "code",
   "execution_count": 35,
   "id": "cdd15ac1",
   "metadata": {
    "scrolled": true
   },
   "outputs": [
    {
     "name": "stderr",
     "output_type": "stream",
     "text": [
      "100%|██████████| 13/13 [00:13<00:00,  1.00s/it]\n"
     ]
    },
    {
     "data": {
      "text/plain": [
       "{'AARTIIND.NS': {'ChannelBreakoutIndicator': 'SELL', 'RSI': 42.45035357549604},\n",
       " 'ALKEM.NS': {'ChannelBreakoutIndicator': 'BUY', 'RSI': 65.61396091892125},\n",
       " 'AUROPHARMA.NS': {'ChannelBreakoutIndicator': 'BUY',\n",
       "  'RSI': 73.57855545390574},\n",
       " 'BHARATFORG.NS': {'CDLENGULFING': 100, 'RSI': 64.01258525732214},\n",
       " 'ESCORTS.NS': {'CDLENGULFING': 100, 'RSI': 65.57178835387178},\n",
       " 'GAIL.NS': {'CDLENGULFING': 100, 'RSI': 44.67525118129145},\n",
       " 'GMRINFRA.NS': {'ChannelBreakoutIndicator': 'BUY', 'RSI': 56.40707448199541},\n",
       " 'HEROMOTOCO.NS': {'CDLENGULFING': 100, 'RSI': 60.5751531095024},\n",
       " 'MARICO.NS': {'CDLENGULFING': 100, 'RSI': 49.14441151685835},\n",
       " 'MFSL.NS': {'ChannelBreakoutIndicator': 'BUY', 'RSI': 78.04357871895103},\n",
       " 'SRF.NS': {'ChannelBreakoutIndicator': 'SELL', 'RSI': 32.26180468344028},\n",
       " 'INDIACEM.NS': {'CDLENGULFING': -100, 'RSI': 48.91574373469729},\n",
       " 'UPL.NS': {'ChannelBreakoutIndicator': 'BUY', 'RSI': 51.589225341539056}}"
      ]
     },
     "execution_count": 35,
     "metadata": {},
     "output_type": "execute_result"
    }
   ],
   "source": [
    "import copy\n",
    "import talib\n",
    "import yfinance as yf\n",
    "import pandas_ta as ta\n",
    "from tqdm import tqdm\n",
    "\n",
    "tickerShortlist = {}\n",
    "tickerShortlistData = {}\n",
    "\n",
    "for i in tqdm(range(len(tickers))):\n",
    "    ticker = tickers[i]\n",
    "    resultDict = {}\n",
    "\n",
    "    # Fetch Data\n",
    "    data = yf.download(ticker, period='6mo', interval='1d', group_by='columns', progress=False, ignore_tz=False)\n",
    "    data.insert(loc=0, column='Date', value=data.index)\n",
    "    data.insert(loc=0, column='Index', value=list(range(0,len(data.index))))\n",
    "    df = data.set_index('Index')\n",
    "    \n",
    "    candleIndex = len(df)-1\n",
    "    \n",
    "    # RSI\n",
    "    df['RSI'] = ta.rsi(df.Close, length=14)\n",
    "\n",
    "    # Candlestick Pattern Recognition\n",
    "    dfp = df[-5:]\n",
    "    op = dfp['Open']\n",
    "    hi = dfp['High']\n",
    "    lo = dfp['Low']\n",
    "    cl = dfp['Close']\n",
    "    for pattern in patterns:\n",
    "        sig = getattr(talib, pattern)(op, hi, lo, cl)[candleIndex]\n",
    "        if sig != 0:\n",
    "            resultDict[pattern] = sig\n",
    "    \n",
    "    # Channel Breakout Indicator Signal\n",
    "    cbIndicator = ChannelBreakoutIndicator(df, ticker)\n",
    "    cbIndicator.calculate(40)\n",
    "    cbSignal = cbIndicator.getBuySell()[-1]\n",
    "    if (cbSignal != ''):\n",
    "        resultDict[\"ChannelBreakoutIndicator\"] = cbSignal\n",
    "        tickerShortlistData[ticker] = cbIndicator\n",
    "\n",
    "    # Collect Signals\n",
    "    if (len(resultDict) != 0):\n",
    "        resultDict[\"RSI\"] = df['RSI'][candleIndex]\n",
    "        tickerShortlist[ticker] = resultDict\n",
    "        \n",
    "    \n",
    "\n",
    "tickerShortlist"
   ]
  },
  {
   "cell_type": "code",
   "execution_count": 31,
   "id": "e7d7f93b",
   "metadata": {},
   "outputs": [
    {
     "name": "stdout",
     "output_type": "stream",
     "text": [
      "1.0 0.4975989202810104\n"
     ]
    },
    {
     "data": {
      "application/vnd.plotly.v1+json": {
       "config": {
        "plotlyServerURL": "https://plot.ly"
       },
       "data": [
        {
         "close": [
          538.5999755859375,
          546.0499877929688,
          547.25,
          557.3499755859375,
          551.0499877929688,
          544.8499755859375,
          544.0999755859375,
          555.3499755859375,
          550.5,
          552.3499755859375,
          552.7999877929688,
          553.9500122070312,
          562.25,
          556.0999755859375,
          551.7000122070312,
          552.25,
          544.5,
          555.0499877929688,
          557.2000122070312,
          507.25,
          508.70001220703125,
          502.5,
          504.8500061035156,
          505.75,
          502.8999938964844,
          495.6499938964844,
          494.70001220703125,
          505.3999938964844,
          507.1499938964844,
          511.75,
          506.1000061035156,
          511.20001220703125,
          514.5999755859375,
          512.7999877929688,
          512.2999877929688,
          514.5999755859375,
          513.6500244140625,
          516.5999755859375,
          511.8500061035156,
          521.5499877929688,
          513.0499877929688,
          506.5,
          504.95001220703125,
          512.5999755859375,
          518.2999877929688,
          520.4000244140625,
          519.2999877929688,
          520.1500244140625,
          518.3499755859375,
          532.1500244140625,
          524.2999877929688,
          502.79998779296875,
          508.1000061035156,
          507.45001220703125,
          504
         ],
         "high": [
          543.4500122070312,
          548.9500122070312,
          552.4500122070312,
          560.9000244140625,
          561.7000122070312,
          554,
          549.1500244140625,
          558.4000244140625,
          559.1500244140625,
          556.9000244140625,
          555.4000244140625,
          555.9000244140625,
          571.6500244140625,
          566.5499877929688,
          558.25,
          554.3499755859375,
          556.5999755859375,
          557.5499877929688,
          567.7999877929688,
          554.5,
          519.4000244140625,
          514.7000122070312,
          509.45001220703125,
          514.4000244140625,
          509.95001220703125,
          505.54998779296875,
          498.75,
          506.5,
          513.8499755859375,
          520.5,
          514.0499877929688,
          512,
          516.9000244140625,
          516.5999755859375,
          517.5999755859375,
          519.7999877929688,
          520.5499877929688,
          519.5,
          523,
          523,
          524.4000244140625,
          515.7999877929688,
          507.6499938964844,
          514.5,
          522.9000244140625,
          526,
          525.9000244140625,
          522.2999877929688,
          522,
          535,
          539.25,
          524.25,
          509.8999938964844,
          515.7000122070312,
          509.70001220703125
         ],
         "low": [
          534.2999877929688,
          537.7999877929688,
          544.3499755859375,
          538.9000244140625,
          545.2000122070312,
          542.9500122070312,
          542.6500244140625,
          538.2000122070312,
          548,
          546.2000122070312,
          544.4500122070312,
          548.5,
          554.3499755859375,
          555,
          550,
          547.1500244140625,
          542,
          537.1500244140625,
          535.4500122070312,
          501.54998779296875,
          506.5,
          500.70001220703125,
          498.75,
          504,
          496.70001220703125,
          495,
          489.04998779296875,
          491,
          506.25,
          505.8999938964844,
          504.3500061035156,
          505.20001220703125,
          510.25,
          509.1000061035156,
          509,
          511.95001220703125,
          512.3499755859375,
          514,
          510.70001220703125,
          511.70001220703125,
          512,
          505.1499938964844,
          501.20001220703125,
          506.1000061035156,
          511.6499938964844,
          518.8499755859375,
          516.5,
          516,
          514.5499877929688,
          518,
          523,
          501,
          501.1499938964844,
          506,
          502.29998779296875
         ],
         "open": [
          538,
          541.9500122070312,
          547.8499755859375,
          542.9500122070312,
          558,
          549.9500122070312,
          547.4000244140625,
          547.5499877929688,
          555.5499877929688,
          550.4000244140625,
          550,
          551.2999877929688,
          555,
          565.7000122070312,
          556,
          552,
          552.25,
          549.4500122070312,
          549.75,
          554.5,
          507.6000061035156,
          511.79998779296875,
          502.5,
          504.5,
          507.79998779296875,
          503,
          496.1499938964844,
          497,
          508.8999938964844,
          507.79998779296875,
          513,
          507.45001220703125,
          512,
          514.5999755859375,
          512.75,
          513.2000122070312,
          519,
          514,
          516.5999755859375,
          514,
          523.4000244140625,
          514.2000122070312,
          506.70001220703125,
          508.25,
          514.5,
          521.4500122070312,
          521.5,
          520.0999755859375,
          520.5,
          520.8499755859375,
          536.0499877929688,
          524.25,
          503,
          508.25,
          508
         ],
         "type": "candlestick",
         "x": [
          67,
          68,
          69,
          70,
          71,
          72,
          73,
          74,
          75,
          76,
          77,
          78,
          79,
          80,
          81,
          82,
          83,
          84,
          85,
          86,
          87,
          88,
          89,
          90,
          91,
          92,
          93,
          94,
          95,
          96,
          97,
          98,
          99,
          100,
          101,
          102,
          103,
          104,
          105,
          106,
          107,
          108,
          109,
          110,
          111,
          112,
          113,
          114,
          115,
          116,
          117,
          118,
          119,
          120,
          121
         ]
        },
        {
         "marker": {
          "color": "MediumPurple",
          "size": 7
         },
         "mode": "markers",
         "name": "pivot",
         "type": "scatter",
         "x": [
          67,
          68,
          69,
          70,
          71,
          72,
          73,
          74,
          75,
          76,
          77,
          78,
          79,
          80,
          81,
          82,
          83,
          84,
          85,
          86,
          87,
          88,
          89,
          90,
          91,
          92,
          93,
          94,
          95,
          96,
          97,
          98,
          99,
          100,
          101,
          102,
          103,
          104,
          105,
          106,
          107,
          108,
          109,
          110,
          111,
          112,
          113,
          114,
          115,
          116,
          117,
          118,
          119,
          120,
          121
         ],
         "y": [
          null,
          null,
          null,
          null,
          563.3500122070312,
          null,
          null,
          536.1800109863282,
          null,
          null,
          null,
          null,
          573.380029296875,
          null,
          null,
          null,
          null,
          null,
          571.0349853515625,
          null,
          null,
          null,
          null,
          null,
          null,
          null,
          488.0799865722656,
          null,
          null,
          521.9600006103516,
          null,
          null,
          null,
          null,
          null,
          null,
          null,
          null,
          null,
          null,
          525.6400268554687,
          null,
          500.5550140380859,
          null,
          null,
          null,
          null,
          null,
          null,
          null,
          540.875,
          null,
          null,
          null,
          null
         ]
        },
        {
         "marker": {
          "color": "Black",
          "size": 7,
          "symbol": "hexagram"
         },
         "mode": "markers",
         "name": "breakout",
         "type": "scatter",
         "x": [
          67,
          68,
          69,
          70,
          71,
          72,
          73,
          74,
          75,
          76,
          77,
          78,
          79,
          80,
          81,
          82,
          83,
          84,
          85,
          86,
          87,
          88,
          89,
          90,
          91,
          92,
          93,
          94,
          95,
          96,
          97,
          98,
          99,
          100,
          101,
          102,
          103,
          104,
          105,
          106,
          107,
          108,
          109,
          110,
          111,
          112,
          113,
          114,
          115,
          116,
          117,
          118,
          119,
          120,
          121
         ],
         "y": [
          null,
          null,
          null,
          null,
          null,
          null,
          null,
          null,
          null,
          null,
          null,
          null,
          null,
          null,
          null,
          null,
          null,
          null,
          null,
          null,
          520.6900268554688,
          null,
          null,
          null,
          null,
          null,
          null,
          null,
          null,
          null,
          null,
          null,
          null,
          null,
          null,
          null,
          null,
          null,
          null,
          null,
          null,
          null,
          null,
          null,
          510.5249908447266,
          518.1349731445313,
          null,
          null,
          null,
          null,
          null,
          null,
          null,
          516.6700134277344,
          510.4400146484375
         ]
        },
        {
         "mode": "lines",
         "name": "lower slope",
         "type": "scatter",
         "x": [
          78,
          79,
          80,
          81,
          82,
          83,
          84,
          85,
          86,
          87,
          88,
          89,
          90,
          91,
          92,
          93,
          94,
          95,
          96,
          97,
          98,
          99,
          100,
          101,
          102,
          103,
          104,
          105,
          106,
          107,
          108,
          109,
          110,
          111,
          112,
          113,
          114,
          115,
          116,
          117,
          118,
          119,
          120,
          121,
          122
         ],
         "y": [
          477.65933990478516,
          478.41871643066406,
          479.17809295654297,
          479.9374694824219,
          480.6968460083008,
          481.4562225341797,
          482.2155990600586,
          482.9749755859375,
          483.7343521118164,
          484.4937286376953,
          485.2531051635742,
          486.0124816894531,
          486.77185821533203,
          487.53123474121094,
          488.29061126708984,
          489.04998779296875,
          489.80936431884766,
          490.56874084472656,
          491.32811737060547,
          492.0874938964844,
          492.8468704223633,
          493.6062469482422,
          494.3656234741211,
          495.125,
          495.8843765258789,
          496.6437530517578,
          497.4031295776367,
          498.1625061035156,
          498.92188262939453,
          499.68125915527344,
          500.44063568115234,
          501.20001220703125,
          501.95938873291016,
          502.71876525878906,
          503.47814178466797,
          504.2375183105469,
          504.9968948364258,
          505.7562713623047,
          506.5156478881836,
          507.2750244140625,
          508.0344009399414,
          508.7937774658203,
          509.5531539916992,
          510.3125305175781,
          511.07190704345703
         ]
        },
        {
         "mode": "lines",
         "name": "max slope",
         "type": "scatter",
         "x": [
          78,
          79,
          80,
          81,
          82,
          83,
          84,
          85,
          86,
          87,
          88,
          89,
          90,
          91,
          92,
          93,
          94,
          95,
          96,
          97,
          98,
          99,
          100,
          101,
          102,
          103,
          104,
          105,
          106,
          107,
          108,
          109,
          110,
          111,
          112,
          113,
          114,
          115,
          116,
          117,
          118,
          119,
          120,
          121,
          122
         ],
         "y": [
          565.0972831089766,
          564.0133854608512,
          562.9294878127258,
          561.8455901646004,
          560.7616925164749,
          559.6777948683496,
          558.5938972202241,
          557.5099995720986,
          556.4261019239733,
          555.3422042758478,
          554.2583066277224,
          553.174408979597,
          552.0905113314716,
          551.0066136833461,
          549.9227160352208,
          548.8388183870953,
          547.7549207389699,
          546.6710230908445,
          545.5871254427191,
          544.5032277945936,
          543.4193301464683,
          542.3354324983428,
          541.2515348502174,
          540.167637202092,
          539.0837395539666,
          537.9998419058411,
          536.9159442577158,
          535.8320466095903,
          534.7481489614648,
          533.6642513133395,
          532.580353665214,
          531.4964560170886,
          530.4125583689632,
          529.3286607208378,
          528.2447630727123,
          527.160865424587,
          526.0769677764615,
          524.9930701283361,
          523.9091724802107,
          522.8252748320853,
          521.7413771839598,
          520.6574795358345,
          519.573581887709,
          518.4896842395835,
          517.4057865914582
         ]
        }
       ],
       "layout": {
        "template": {
         "data": {
          "bar": [
           {
            "error_x": {
             "color": "#2a3f5f"
            },
            "error_y": {
             "color": "#2a3f5f"
            },
            "marker": {
             "line": {
              "color": "#E5ECF6",
              "width": 0.5
             },
             "pattern": {
              "fillmode": "overlay",
              "size": 10,
              "solidity": 0.2
             }
            },
            "type": "bar"
           }
          ],
          "barpolar": [
           {
            "marker": {
             "line": {
              "color": "#E5ECF6",
              "width": 0.5
             },
             "pattern": {
              "fillmode": "overlay",
              "size": 10,
              "solidity": 0.2
             }
            },
            "type": "barpolar"
           }
          ],
          "carpet": [
           {
            "aaxis": {
             "endlinecolor": "#2a3f5f",
             "gridcolor": "white",
             "linecolor": "white",
             "minorgridcolor": "white",
             "startlinecolor": "#2a3f5f"
            },
            "baxis": {
             "endlinecolor": "#2a3f5f",
             "gridcolor": "white",
             "linecolor": "white",
             "minorgridcolor": "white",
             "startlinecolor": "#2a3f5f"
            },
            "type": "carpet"
           }
          ],
          "choropleth": [
           {
            "colorbar": {
             "outlinewidth": 0,
             "ticks": ""
            },
            "type": "choropleth"
           }
          ],
          "contour": [
           {
            "colorbar": {
             "outlinewidth": 0,
             "ticks": ""
            },
            "colorscale": [
             [
              0,
              "#0d0887"
             ],
             [
              0.1111111111111111,
              "#46039f"
             ],
             [
              0.2222222222222222,
              "#7201a8"
             ],
             [
              0.3333333333333333,
              "#9c179e"
             ],
             [
              0.4444444444444444,
              "#bd3786"
             ],
             [
              0.5555555555555556,
              "#d8576b"
             ],
             [
              0.6666666666666666,
              "#ed7953"
             ],
             [
              0.7777777777777778,
              "#fb9f3a"
             ],
             [
              0.8888888888888888,
              "#fdca26"
             ],
             [
              1,
              "#f0f921"
             ]
            ],
            "type": "contour"
           }
          ],
          "contourcarpet": [
           {
            "colorbar": {
             "outlinewidth": 0,
             "ticks": ""
            },
            "type": "contourcarpet"
           }
          ],
          "heatmap": [
           {
            "colorbar": {
             "outlinewidth": 0,
             "ticks": ""
            },
            "colorscale": [
             [
              0,
              "#0d0887"
             ],
             [
              0.1111111111111111,
              "#46039f"
             ],
             [
              0.2222222222222222,
              "#7201a8"
             ],
             [
              0.3333333333333333,
              "#9c179e"
             ],
             [
              0.4444444444444444,
              "#bd3786"
             ],
             [
              0.5555555555555556,
              "#d8576b"
             ],
             [
              0.6666666666666666,
              "#ed7953"
             ],
             [
              0.7777777777777778,
              "#fb9f3a"
             ],
             [
              0.8888888888888888,
              "#fdca26"
             ],
             [
              1,
              "#f0f921"
             ]
            ],
            "type": "heatmap"
           }
          ],
          "heatmapgl": [
           {
            "colorbar": {
             "outlinewidth": 0,
             "ticks": ""
            },
            "colorscale": [
             [
              0,
              "#0d0887"
             ],
             [
              0.1111111111111111,
              "#46039f"
             ],
             [
              0.2222222222222222,
              "#7201a8"
             ],
             [
              0.3333333333333333,
              "#9c179e"
             ],
             [
              0.4444444444444444,
              "#bd3786"
             ],
             [
              0.5555555555555556,
              "#d8576b"
             ],
             [
              0.6666666666666666,
              "#ed7953"
             ],
             [
              0.7777777777777778,
              "#fb9f3a"
             ],
             [
              0.8888888888888888,
              "#fdca26"
             ],
             [
              1,
              "#f0f921"
             ]
            ],
            "type": "heatmapgl"
           }
          ],
          "histogram": [
           {
            "marker": {
             "pattern": {
              "fillmode": "overlay",
              "size": 10,
              "solidity": 0.2
             }
            },
            "type": "histogram"
           }
          ],
          "histogram2d": [
           {
            "colorbar": {
             "outlinewidth": 0,
             "ticks": ""
            },
            "colorscale": [
             [
              0,
              "#0d0887"
             ],
             [
              0.1111111111111111,
              "#46039f"
             ],
             [
              0.2222222222222222,
              "#7201a8"
             ],
             [
              0.3333333333333333,
              "#9c179e"
             ],
             [
              0.4444444444444444,
              "#bd3786"
             ],
             [
              0.5555555555555556,
              "#d8576b"
             ],
             [
              0.6666666666666666,
              "#ed7953"
             ],
             [
              0.7777777777777778,
              "#fb9f3a"
             ],
             [
              0.8888888888888888,
              "#fdca26"
             ],
             [
              1,
              "#f0f921"
             ]
            ],
            "type": "histogram2d"
           }
          ],
          "histogram2dcontour": [
           {
            "colorbar": {
             "outlinewidth": 0,
             "ticks": ""
            },
            "colorscale": [
             [
              0,
              "#0d0887"
             ],
             [
              0.1111111111111111,
              "#46039f"
             ],
             [
              0.2222222222222222,
              "#7201a8"
             ],
             [
              0.3333333333333333,
              "#9c179e"
             ],
             [
              0.4444444444444444,
              "#bd3786"
             ],
             [
              0.5555555555555556,
              "#d8576b"
             ],
             [
              0.6666666666666666,
              "#ed7953"
             ],
             [
              0.7777777777777778,
              "#fb9f3a"
             ],
             [
              0.8888888888888888,
              "#fdca26"
             ],
             [
              1,
              "#f0f921"
             ]
            ],
            "type": "histogram2dcontour"
           }
          ],
          "mesh3d": [
           {
            "colorbar": {
             "outlinewidth": 0,
             "ticks": ""
            },
            "type": "mesh3d"
           }
          ],
          "parcoords": [
           {
            "line": {
             "colorbar": {
              "outlinewidth": 0,
              "ticks": ""
             }
            },
            "type": "parcoords"
           }
          ],
          "pie": [
           {
            "automargin": true,
            "type": "pie"
           }
          ],
          "scatter": [
           {
            "fillpattern": {
             "fillmode": "overlay",
             "size": 10,
             "solidity": 0.2
            },
            "type": "scatter"
           }
          ],
          "scatter3d": [
           {
            "line": {
             "colorbar": {
              "outlinewidth": 0,
              "ticks": ""
             }
            },
            "marker": {
             "colorbar": {
              "outlinewidth": 0,
              "ticks": ""
             }
            },
            "type": "scatter3d"
           }
          ],
          "scattercarpet": [
           {
            "marker": {
             "colorbar": {
              "outlinewidth": 0,
              "ticks": ""
             }
            },
            "type": "scattercarpet"
           }
          ],
          "scattergeo": [
           {
            "marker": {
             "colorbar": {
              "outlinewidth": 0,
              "ticks": ""
             }
            },
            "type": "scattergeo"
           }
          ],
          "scattergl": [
           {
            "marker": {
             "colorbar": {
              "outlinewidth": 0,
              "ticks": ""
             }
            },
            "type": "scattergl"
           }
          ],
          "scattermapbox": [
           {
            "marker": {
             "colorbar": {
              "outlinewidth": 0,
              "ticks": ""
             }
            },
            "type": "scattermapbox"
           }
          ],
          "scatterpolar": [
           {
            "marker": {
             "colorbar": {
              "outlinewidth": 0,
              "ticks": ""
             }
            },
            "type": "scatterpolar"
           }
          ],
          "scatterpolargl": [
           {
            "marker": {
             "colorbar": {
              "outlinewidth": 0,
              "ticks": ""
             }
            },
            "type": "scatterpolargl"
           }
          ],
          "scatterternary": [
           {
            "marker": {
             "colorbar": {
              "outlinewidth": 0,
              "ticks": ""
             }
            },
            "type": "scatterternary"
           }
          ],
          "surface": [
           {
            "colorbar": {
             "outlinewidth": 0,
             "ticks": ""
            },
            "colorscale": [
             [
              0,
              "#0d0887"
             ],
             [
              0.1111111111111111,
              "#46039f"
             ],
             [
              0.2222222222222222,
              "#7201a8"
             ],
             [
              0.3333333333333333,
              "#9c179e"
             ],
             [
              0.4444444444444444,
              "#bd3786"
             ],
             [
              0.5555555555555556,
              "#d8576b"
             ],
             [
              0.6666666666666666,
              "#ed7953"
             ],
             [
              0.7777777777777778,
              "#fb9f3a"
             ],
             [
              0.8888888888888888,
              "#fdca26"
             ],
             [
              1,
              "#f0f921"
             ]
            ],
            "type": "surface"
           }
          ],
          "table": [
           {
            "cells": {
             "fill": {
              "color": "#EBF0F8"
             },
             "line": {
              "color": "white"
             }
            },
            "header": {
             "fill": {
              "color": "#C8D4E3"
             },
             "line": {
              "color": "white"
             }
            },
            "type": "table"
           }
          ]
         },
         "layout": {
          "annotationdefaults": {
           "arrowcolor": "#2a3f5f",
           "arrowhead": 0,
           "arrowwidth": 1
          },
          "autotypenumbers": "strict",
          "coloraxis": {
           "colorbar": {
            "outlinewidth": 0,
            "ticks": ""
           }
          },
          "colorscale": {
           "diverging": [
            [
             0,
             "#8e0152"
            ],
            [
             0.1,
             "#c51b7d"
            ],
            [
             0.2,
             "#de77ae"
            ],
            [
             0.3,
             "#f1b6da"
            ],
            [
             0.4,
             "#fde0ef"
            ],
            [
             0.5,
             "#f7f7f7"
            ],
            [
             0.6,
             "#e6f5d0"
            ],
            [
             0.7,
             "#b8e186"
            ],
            [
             0.8,
             "#7fbc41"
            ],
            [
             0.9,
             "#4d9221"
            ],
            [
             1,
             "#276419"
            ]
           ],
           "sequential": [
            [
             0,
             "#0d0887"
            ],
            [
             0.1111111111111111,
             "#46039f"
            ],
            [
             0.2222222222222222,
             "#7201a8"
            ],
            [
             0.3333333333333333,
             "#9c179e"
            ],
            [
             0.4444444444444444,
             "#bd3786"
            ],
            [
             0.5555555555555556,
             "#d8576b"
            ],
            [
             0.6666666666666666,
             "#ed7953"
            ],
            [
             0.7777777777777778,
             "#fb9f3a"
            ],
            [
             0.8888888888888888,
             "#fdca26"
            ],
            [
             1,
             "#f0f921"
            ]
           ],
           "sequentialminus": [
            [
             0,
             "#0d0887"
            ],
            [
             0.1111111111111111,
             "#46039f"
            ],
            [
             0.2222222222222222,
             "#7201a8"
            ],
            [
             0.3333333333333333,
             "#9c179e"
            ],
            [
             0.4444444444444444,
             "#bd3786"
            ],
            [
             0.5555555555555556,
             "#d8576b"
            ],
            [
             0.6666666666666666,
             "#ed7953"
            ],
            [
             0.7777777777777778,
             "#fb9f3a"
            ],
            [
             0.8888888888888888,
             "#fdca26"
            ],
            [
             1,
             "#f0f921"
            ]
           ]
          },
          "colorway": [
           "#636efa",
           "#EF553B",
           "#00cc96",
           "#ab63fa",
           "#FFA15A",
           "#19d3f3",
           "#FF6692",
           "#B6E880",
           "#FF97FF",
           "#FECB52"
          ],
          "font": {
           "color": "#2a3f5f"
          },
          "geo": {
           "bgcolor": "white",
           "lakecolor": "white",
           "landcolor": "#E5ECF6",
           "showlakes": true,
           "showland": true,
           "subunitcolor": "white"
          },
          "hoverlabel": {
           "align": "left"
          },
          "hovermode": "closest",
          "mapbox": {
           "style": "light"
          },
          "paper_bgcolor": "white",
          "plot_bgcolor": "#E5ECF6",
          "polar": {
           "angularaxis": {
            "gridcolor": "white",
            "linecolor": "white",
            "ticks": ""
           },
           "bgcolor": "#E5ECF6",
           "radialaxis": {
            "gridcolor": "white",
            "linecolor": "white",
            "ticks": ""
           }
          },
          "scene": {
           "xaxis": {
            "backgroundcolor": "#E5ECF6",
            "gridcolor": "white",
            "gridwidth": 2,
            "linecolor": "white",
            "showbackground": true,
            "ticks": "",
            "zerolinecolor": "white"
           },
           "yaxis": {
            "backgroundcolor": "#E5ECF6",
            "gridcolor": "white",
            "gridwidth": 2,
            "linecolor": "white",
            "showbackground": true,
            "ticks": "",
            "zerolinecolor": "white"
           },
           "zaxis": {
            "backgroundcolor": "#E5ECF6",
            "gridcolor": "white",
            "gridwidth": 2,
            "linecolor": "white",
            "showbackground": true,
            "ticks": "",
            "zerolinecolor": "white"
           }
          },
          "shapedefaults": {
           "line": {
            "color": "#2a3f5f"
           }
          },
          "ternary": {
           "aaxis": {
            "gridcolor": "white",
            "linecolor": "white",
            "ticks": ""
           },
           "baxis": {
            "gridcolor": "white",
            "linecolor": "white",
            "ticks": ""
           },
           "bgcolor": "#E5ECF6",
           "caxis": {
            "gridcolor": "white",
            "linecolor": "white",
            "ticks": ""
           }
          },
          "title": {
           "x": 0.05
          },
          "xaxis": {
           "automargin": true,
           "gridcolor": "white",
           "linecolor": "white",
           "ticks": "",
           "title": {
            "standoff": 15
           },
           "zerolinecolor": "white",
           "zerolinewidth": 2
          },
          "yaxis": {
           "automargin": true,
           "gridcolor": "white",
           "linecolor": "white",
           "ticks": "",
           "title": {
            "standoff": 15
           },
           "zerolinecolor": "white",
           "zerolinewidth": 2
          }
         }
        },
        "title": {
         "font": {
          "color": "MediumBlue",
          "size": 21
         },
         "text": "AARTIIND.NS"
        }
       }
      },
      "text/html": [
       "<div>                            <div id=\"90772e29-bcef-4bd2-bb7f-66a9f87ab5c9\" class=\"plotly-graph-div\" style=\"height:525px; width:100%;\"></div>            <script type=\"text/javascript\">                require([\"plotly\"], function(Plotly) {                    window.PLOTLYENV=window.PLOTLYENV || {};                                    if (document.getElementById(\"90772e29-bcef-4bd2-bb7f-66a9f87ab5c9\")) {                    Plotly.newPlot(                        \"90772e29-bcef-4bd2-bb7f-66a9f87ab5c9\",                        [{\"close\":[538.5999755859375,546.0499877929688,547.25,557.3499755859375,551.0499877929688,544.8499755859375,544.0999755859375,555.3499755859375,550.5,552.3499755859375,552.7999877929688,553.9500122070312,562.25,556.0999755859375,551.7000122070312,552.25,544.5,555.0499877929688,557.2000122070312,507.25,508.70001220703125,502.5,504.8500061035156,505.75,502.8999938964844,495.6499938964844,494.70001220703125,505.3999938964844,507.1499938964844,511.75,506.1000061035156,511.20001220703125,514.5999755859375,512.7999877929688,512.2999877929688,514.5999755859375,513.6500244140625,516.5999755859375,511.8500061035156,521.5499877929688,513.0499877929688,506.5,504.95001220703125,512.5999755859375,518.2999877929688,520.4000244140625,519.2999877929688,520.1500244140625,518.3499755859375,532.1500244140625,524.2999877929688,502.79998779296875,508.1000061035156,507.45001220703125,504.0],\"high\":[543.4500122070312,548.9500122070312,552.4500122070312,560.9000244140625,561.7000122070312,554.0,549.1500244140625,558.4000244140625,559.1500244140625,556.9000244140625,555.4000244140625,555.9000244140625,571.6500244140625,566.5499877929688,558.25,554.3499755859375,556.5999755859375,557.5499877929688,567.7999877929688,554.5,519.4000244140625,514.7000122070312,509.45001220703125,514.4000244140625,509.95001220703125,505.54998779296875,498.75,506.5,513.8499755859375,520.5,514.0499877929688,512.0,516.9000244140625,516.5999755859375,517.5999755859375,519.7999877929688,520.5499877929688,519.5,523.0,523.0,524.4000244140625,515.7999877929688,507.6499938964844,514.5,522.9000244140625,526.0,525.9000244140625,522.2999877929688,522.0,535.0,539.25,524.25,509.8999938964844,515.7000122070312,509.70001220703125],\"low\":[534.2999877929688,537.7999877929688,544.3499755859375,538.9000244140625,545.2000122070312,542.9500122070312,542.6500244140625,538.2000122070312,548.0,546.2000122070312,544.4500122070312,548.5,554.3499755859375,555.0,550.0,547.1500244140625,542.0,537.1500244140625,535.4500122070312,501.54998779296875,506.5,500.70001220703125,498.75,504.0,496.70001220703125,495.0,489.04998779296875,491.0,506.25,505.8999938964844,504.3500061035156,505.20001220703125,510.25,509.1000061035156,509.0,511.95001220703125,512.3499755859375,514.0,510.70001220703125,511.70001220703125,512.0,505.1499938964844,501.20001220703125,506.1000061035156,511.6499938964844,518.8499755859375,516.5,516.0,514.5499877929688,518.0,523.0,501.0,501.1499938964844,506.0,502.29998779296875],\"open\":[538.0,541.9500122070312,547.8499755859375,542.9500122070312,558.0,549.9500122070312,547.4000244140625,547.5499877929688,555.5499877929688,550.4000244140625,550.0,551.2999877929688,555.0,565.7000122070312,556.0,552.0,552.25,549.4500122070312,549.75,554.5,507.6000061035156,511.79998779296875,502.5,504.5,507.79998779296875,503.0,496.1499938964844,497.0,508.8999938964844,507.79998779296875,513.0,507.45001220703125,512.0,514.5999755859375,512.75,513.2000122070312,519.0,514.0,516.5999755859375,514.0,523.4000244140625,514.2000122070312,506.70001220703125,508.25,514.5,521.4500122070312,521.5,520.0999755859375,520.5,520.8499755859375,536.0499877929688,524.25,503.0,508.25,508.0],\"x\":[67,68,69,70,71,72,73,74,75,76,77,78,79,80,81,82,83,84,85,86,87,88,89,90,91,92,93,94,95,96,97,98,99,100,101,102,103,104,105,106,107,108,109,110,111,112,113,114,115,116,117,118,119,120,121],\"type\":\"candlestick\"},{\"marker\":{\"color\":\"MediumPurple\",\"size\":7},\"mode\":\"markers\",\"name\":\"pivot\",\"x\":[67,68,69,70,71,72,73,74,75,76,77,78,79,80,81,82,83,84,85,86,87,88,89,90,91,92,93,94,95,96,97,98,99,100,101,102,103,104,105,106,107,108,109,110,111,112,113,114,115,116,117,118,119,120,121],\"y\":[null,null,null,null,563.3500122070312,null,null,536.1800109863282,null,null,null,null,573.380029296875,null,null,null,null,null,571.0349853515625,null,null,null,null,null,null,null,488.0799865722656,null,null,521.9600006103516,null,null,null,null,null,null,null,null,null,null,525.6400268554687,null,500.5550140380859,null,null,null,null,null,null,null,540.875,null,null,null,null],\"type\":\"scatter\"},{\"marker\":{\"color\":\"Black\",\"size\":7,\"symbol\":\"hexagram\"},\"mode\":\"markers\",\"name\":\"breakout\",\"x\":[67,68,69,70,71,72,73,74,75,76,77,78,79,80,81,82,83,84,85,86,87,88,89,90,91,92,93,94,95,96,97,98,99,100,101,102,103,104,105,106,107,108,109,110,111,112,113,114,115,116,117,118,119,120,121],\"y\":[null,null,null,null,null,null,null,null,null,null,null,null,null,null,null,null,null,null,null,null,520.6900268554688,null,null,null,null,null,null,null,null,null,null,null,null,null,null,null,null,null,null,null,null,null,null,null,510.5249908447266,518.1349731445313,null,null,null,null,null,null,null,516.6700134277344,510.4400146484375],\"type\":\"scatter\"},{\"mode\":\"lines\",\"name\":\"lower slope\",\"x\":[78,79,80,81,82,83,84,85,86,87,88,89,90,91,92,93,94,95,96,97,98,99,100,101,102,103,104,105,106,107,108,109,110,111,112,113,114,115,116,117,118,119,120,121,122],\"y\":[477.65933990478516,478.41871643066406,479.17809295654297,479.9374694824219,480.6968460083008,481.4562225341797,482.2155990600586,482.9749755859375,483.7343521118164,484.4937286376953,485.2531051635742,486.0124816894531,486.77185821533203,487.53123474121094,488.29061126708984,489.04998779296875,489.80936431884766,490.56874084472656,491.32811737060547,492.0874938964844,492.8468704223633,493.6062469482422,494.3656234741211,495.125,495.8843765258789,496.6437530517578,497.4031295776367,498.1625061035156,498.92188262939453,499.68125915527344,500.44063568115234,501.20001220703125,501.95938873291016,502.71876525878906,503.47814178466797,504.2375183105469,504.9968948364258,505.7562713623047,506.5156478881836,507.2750244140625,508.0344009399414,508.7937774658203,509.5531539916992,510.3125305175781,511.07190704345703],\"type\":\"scatter\"},{\"mode\":\"lines\",\"name\":\"max slope\",\"x\":[78,79,80,81,82,83,84,85,86,87,88,89,90,91,92,93,94,95,96,97,98,99,100,101,102,103,104,105,106,107,108,109,110,111,112,113,114,115,116,117,118,119,120,121,122],\"y\":[565.0972831089766,564.0133854608512,562.9294878127258,561.8455901646004,560.7616925164749,559.6777948683496,558.5938972202241,557.5099995720986,556.4261019239733,555.3422042758478,554.2583066277224,553.174408979597,552.0905113314716,551.0066136833461,549.9227160352208,548.8388183870953,547.7549207389699,546.6710230908445,545.5871254427191,544.5032277945936,543.4193301464683,542.3354324983428,541.2515348502174,540.167637202092,539.0837395539666,537.9998419058411,536.9159442577158,535.8320466095903,534.7481489614648,533.6642513133395,532.580353665214,531.4964560170886,530.4125583689632,529.3286607208378,528.2447630727123,527.160865424587,526.0769677764615,524.9930701283361,523.9091724802107,522.8252748320853,521.7413771839598,520.6574795358345,519.573581887709,518.4896842395835,517.4057865914582],\"type\":\"scatter\"}],                        {\"template\":{\"data\":{\"histogram2dcontour\":[{\"type\":\"histogram2dcontour\",\"colorbar\":{\"outlinewidth\":0,\"ticks\":\"\"},\"colorscale\":[[0.0,\"#0d0887\"],[0.1111111111111111,\"#46039f\"],[0.2222222222222222,\"#7201a8\"],[0.3333333333333333,\"#9c179e\"],[0.4444444444444444,\"#bd3786\"],[0.5555555555555556,\"#d8576b\"],[0.6666666666666666,\"#ed7953\"],[0.7777777777777778,\"#fb9f3a\"],[0.8888888888888888,\"#fdca26\"],[1.0,\"#f0f921\"]]}],\"choropleth\":[{\"type\":\"choropleth\",\"colorbar\":{\"outlinewidth\":0,\"ticks\":\"\"}}],\"histogram2d\":[{\"type\":\"histogram2d\",\"colorbar\":{\"outlinewidth\":0,\"ticks\":\"\"},\"colorscale\":[[0.0,\"#0d0887\"],[0.1111111111111111,\"#46039f\"],[0.2222222222222222,\"#7201a8\"],[0.3333333333333333,\"#9c179e\"],[0.4444444444444444,\"#bd3786\"],[0.5555555555555556,\"#d8576b\"],[0.6666666666666666,\"#ed7953\"],[0.7777777777777778,\"#fb9f3a\"],[0.8888888888888888,\"#fdca26\"],[1.0,\"#f0f921\"]]}],\"heatmap\":[{\"type\":\"heatmap\",\"colorbar\":{\"outlinewidth\":0,\"ticks\":\"\"},\"colorscale\":[[0.0,\"#0d0887\"],[0.1111111111111111,\"#46039f\"],[0.2222222222222222,\"#7201a8\"],[0.3333333333333333,\"#9c179e\"],[0.4444444444444444,\"#bd3786\"],[0.5555555555555556,\"#d8576b\"],[0.6666666666666666,\"#ed7953\"],[0.7777777777777778,\"#fb9f3a\"],[0.8888888888888888,\"#fdca26\"],[1.0,\"#f0f921\"]]}],\"heatmapgl\":[{\"type\":\"heatmapgl\",\"colorbar\":{\"outlinewidth\":0,\"ticks\":\"\"},\"colorscale\":[[0.0,\"#0d0887\"],[0.1111111111111111,\"#46039f\"],[0.2222222222222222,\"#7201a8\"],[0.3333333333333333,\"#9c179e\"],[0.4444444444444444,\"#bd3786\"],[0.5555555555555556,\"#d8576b\"],[0.6666666666666666,\"#ed7953\"],[0.7777777777777778,\"#fb9f3a\"],[0.8888888888888888,\"#fdca26\"],[1.0,\"#f0f921\"]]}],\"contourcarpet\":[{\"type\":\"contourcarpet\",\"colorbar\":{\"outlinewidth\":0,\"ticks\":\"\"}}],\"contour\":[{\"type\":\"contour\",\"colorbar\":{\"outlinewidth\":0,\"ticks\":\"\"},\"colorscale\":[[0.0,\"#0d0887\"],[0.1111111111111111,\"#46039f\"],[0.2222222222222222,\"#7201a8\"],[0.3333333333333333,\"#9c179e\"],[0.4444444444444444,\"#bd3786\"],[0.5555555555555556,\"#d8576b\"],[0.6666666666666666,\"#ed7953\"],[0.7777777777777778,\"#fb9f3a\"],[0.8888888888888888,\"#fdca26\"],[1.0,\"#f0f921\"]]}],\"surface\":[{\"type\":\"surface\",\"colorbar\":{\"outlinewidth\":0,\"ticks\":\"\"},\"colorscale\":[[0.0,\"#0d0887\"],[0.1111111111111111,\"#46039f\"],[0.2222222222222222,\"#7201a8\"],[0.3333333333333333,\"#9c179e\"],[0.4444444444444444,\"#bd3786\"],[0.5555555555555556,\"#d8576b\"],[0.6666666666666666,\"#ed7953\"],[0.7777777777777778,\"#fb9f3a\"],[0.8888888888888888,\"#fdca26\"],[1.0,\"#f0f921\"]]}],\"mesh3d\":[{\"type\":\"mesh3d\",\"colorbar\":{\"outlinewidth\":0,\"ticks\":\"\"}}],\"scatter\":[{\"fillpattern\":{\"fillmode\":\"overlay\",\"size\":10,\"solidity\":0.2},\"type\":\"scatter\"}],\"parcoords\":[{\"type\":\"parcoords\",\"line\":{\"colorbar\":{\"outlinewidth\":0,\"ticks\":\"\"}}}],\"scatterpolargl\":[{\"type\":\"scatterpolargl\",\"marker\":{\"colorbar\":{\"outlinewidth\":0,\"ticks\":\"\"}}}],\"bar\":[{\"error_x\":{\"color\":\"#2a3f5f\"},\"error_y\":{\"color\":\"#2a3f5f\"},\"marker\":{\"line\":{\"color\":\"#E5ECF6\",\"width\":0.5},\"pattern\":{\"fillmode\":\"overlay\",\"size\":10,\"solidity\":0.2}},\"type\":\"bar\"}],\"scattergeo\":[{\"type\":\"scattergeo\",\"marker\":{\"colorbar\":{\"outlinewidth\":0,\"ticks\":\"\"}}}],\"scatterpolar\":[{\"type\":\"scatterpolar\",\"marker\":{\"colorbar\":{\"outlinewidth\":0,\"ticks\":\"\"}}}],\"histogram\":[{\"marker\":{\"pattern\":{\"fillmode\":\"overlay\",\"size\":10,\"solidity\":0.2}},\"type\":\"histogram\"}],\"scattergl\":[{\"type\":\"scattergl\",\"marker\":{\"colorbar\":{\"outlinewidth\":0,\"ticks\":\"\"}}}],\"scatter3d\":[{\"type\":\"scatter3d\",\"line\":{\"colorbar\":{\"outlinewidth\":0,\"ticks\":\"\"}},\"marker\":{\"colorbar\":{\"outlinewidth\":0,\"ticks\":\"\"}}}],\"scattermapbox\":[{\"type\":\"scattermapbox\",\"marker\":{\"colorbar\":{\"outlinewidth\":0,\"ticks\":\"\"}}}],\"scatterternary\":[{\"type\":\"scatterternary\",\"marker\":{\"colorbar\":{\"outlinewidth\":0,\"ticks\":\"\"}}}],\"scattercarpet\":[{\"type\":\"scattercarpet\",\"marker\":{\"colorbar\":{\"outlinewidth\":0,\"ticks\":\"\"}}}],\"carpet\":[{\"aaxis\":{\"endlinecolor\":\"#2a3f5f\",\"gridcolor\":\"white\",\"linecolor\":\"white\",\"minorgridcolor\":\"white\",\"startlinecolor\":\"#2a3f5f\"},\"baxis\":{\"endlinecolor\":\"#2a3f5f\",\"gridcolor\":\"white\",\"linecolor\":\"white\",\"minorgridcolor\":\"white\",\"startlinecolor\":\"#2a3f5f\"},\"type\":\"carpet\"}],\"table\":[{\"cells\":{\"fill\":{\"color\":\"#EBF0F8\"},\"line\":{\"color\":\"white\"}},\"header\":{\"fill\":{\"color\":\"#C8D4E3\"},\"line\":{\"color\":\"white\"}},\"type\":\"table\"}],\"barpolar\":[{\"marker\":{\"line\":{\"color\":\"#E5ECF6\",\"width\":0.5},\"pattern\":{\"fillmode\":\"overlay\",\"size\":10,\"solidity\":0.2}},\"type\":\"barpolar\"}],\"pie\":[{\"automargin\":true,\"type\":\"pie\"}]},\"layout\":{\"autotypenumbers\":\"strict\",\"colorway\":[\"#636efa\",\"#EF553B\",\"#00cc96\",\"#ab63fa\",\"#FFA15A\",\"#19d3f3\",\"#FF6692\",\"#B6E880\",\"#FF97FF\",\"#FECB52\"],\"font\":{\"color\":\"#2a3f5f\"},\"hovermode\":\"closest\",\"hoverlabel\":{\"align\":\"left\"},\"paper_bgcolor\":\"white\",\"plot_bgcolor\":\"#E5ECF6\",\"polar\":{\"bgcolor\":\"#E5ECF6\",\"angularaxis\":{\"gridcolor\":\"white\",\"linecolor\":\"white\",\"ticks\":\"\"},\"radialaxis\":{\"gridcolor\":\"white\",\"linecolor\":\"white\",\"ticks\":\"\"}},\"ternary\":{\"bgcolor\":\"#E5ECF6\",\"aaxis\":{\"gridcolor\":\"white\",\"linecolor\":\"white\",\"ticks\":\"\"},\"baxis\":{\"gridcolor\":\"white\",\"linecolor\":\"white\",\"ticks\":\"\"},\"caxis\":{\"gridcolor\":\"white\",\"linecolor\":\"white\",\"ticks\":\"\"}},\"coloraxis\":{\"colorbar\":{\"outlinewidth\":0,\"ticks\":\"\"}},\"colorscale\":{\"sequential\":[[0.0,\"#0d0887\"],[0.1111111111111111,\"#46039f\"],[0.2222222222222222,\"#7201a8\"],[0.3333333333333333,\"#9c179e\"],[0.4444444444444444,\"#bd3786\"],[0.5555555555555556,\"#d8576b\"],[0.6666666666666666,\"#ed7953\"],[0.7777777777777778,\"#fb9f3a\"],[0.8888888888888888,\"#fdca26\"],[1.0,\"#f0f921\"]],\"sequentialminus\":[[0.0,\"#0d0887\"],[0.1111111111111111,\"#46039f\"],[0.2222222222222222,\"#7201a8\"],[0.3333333333333333,\"#9c179e\"],[0.4444444444444444,\"#bd3786\"],[0.5555555555555556,\"#d8576b\"],[0.6666666666666666,\"#ed7953\"],[0.7777777777777778,\"#fb9f3a\"],[0.8888888888888888,\"#fdca26\"],[1.0,\"#f0f921\"]],\"diverging\":[[0,\"#8e0152\"],[0.1,\"#c51b7d\"],[0.2,\"#de77ae\"],[0.3,\"#f1b6da\"],[0.4,\"#fde0ef\"],[0.5,\"#f7f7f7\"],[0.6,\"#e6f5d0\"],[0.7,\"#b8e186\"],[0.8,\"#7fbc41\"],[0.9,\"#4d9221\"],[1,\"#276419\"]]},\"xaxis\":{\"gridcolor\":\"white\",\"linecolor\":\"white\",\"ticks\":\"\",\"title\":{\"standoff\":15},\"zerolinecolor\":\"white\",\"automargin\":true,\"zerolinewidth\":2},\"yaxis\":{\"gridcolor\":\"white\",\"linecolor\":\"white\",\"ticks\":\"\",\"title\":{\"standoff\":15},\"zerolinecolor\":\"white\",\"automargin\":true,\"zerolinewidth\":2},\"scene\":{\"xaxis\":{\"backgroundcolor\":\"#E5ECF6\",\"gridcolor\":\"white\",\"linecolor\":\"white\",\"showbackground\":true,\"ticks\":\"\",\"zerolinecolor\":\"white\",\"gridwidth\":2},\"yaxis\":{\"backgroundcolor\":\"#E5ECF6\",\"gridcolor\":\"white\",\"linecolor\":\"white\",\"showbackground\":true,\"ticks\":\"\",\"zerolinecolor\":\"white\",\"gridwidth\":2},\"zaxis\":{\"backgroundcolor\":\"#E5ECF6\",\"gridcolor\":\"white\",\"linecolor\":\"white\",\"showbackground\":true,\"ticks\":\"\",\"zerolinecolor\":\"white\",\"gridwidth\":2}},\"shapedefaults\":{\"line\":{\"color\":\"#2a3f5f\"}},\"annotationdefaults\":{\"arrowcolor\":\"#2a3f5f\",\"arrowhead\":0,\"arrowwidth\":1},\"geo\":{\"bgcolor\":\"white\",\"landcolor\":\"#E5ECF6\",\"subunitcolor\":\"white\",\"showland\":true,\"showlakes\":true,\"lakecolor\":\"white\"},\"title\":{\"x\":0.05},\"mapbox\":{\"style\":\"light\"}}},\"title\":{\"font\":{\"color\":\"MediumBlue\",\"size\":21},\"text\":\"AARTIIND.NS\"}},                        {\"responsive\": true}                    ).then(function(){\n",
       "                            \n",
       "var gd = document.getElementById('90772e29-bcef-4bd2-bb7f-66a9f87ab5c9');\n",
       "var x = new MutationObserver(function (mutations, observer) {{\n",
       "        var display = window.getComputedStyle(gd).display;\n",
       "        if (!display || display === 'none') {{\n",
       "            console.log([gd, 'removed!']);\n",
       "            Plotly.purge(gd);\n",
       "            observer.disconnect();\n",
       "        }}\n",
       "}});\n",
       "\n",
       "// Listen for the removal of the full notebook cells\n",
       "var notebookContainer = gd.closest('#notebook-container');\n",
       "if (notebookContainer) {{\n",
       "    x.observe(notebookContainer, {childList: true});\n",
       "}}\n",
       "\n",
       "// Listen for the clearing of the current output cell\n",
       "var outputEl = gd.closest('.output');\n",
       "if (outputEl) {{\n",
       "    x.observe(outputEl, {childList: true});\n",
       "}}\n",
       "\n",
       "                        })                };                });            </script>        </div>"
      ]
     },
     "metadata": {},
     "output_type": "display_data"
    },
    {
     "name": "stdout",
     "output_type": "stream",
     "text": [
      "1.0 0.434527775962239\n"
     ]
    },
    {
     "data": {
      "application/vnd.plotly.v1+json": {
       "config": {
        "plotlyServerURL": "https://plot.ly"
       },
       "data": [
        {
         "close": [
          3331.550048828125,
          3340.60009765625,
          3345.050048828125,
          3332.35009765625,
          3366.85009765625,
          3341.699951171875,
          3355.89990234375,
          3409,
          3428.800048828125,
          3421.449951171875,
          3426.85009765625,
          3435.5,
          3509.89990234375,
          3518.449951171875,
          3517.14990234375,
          3480.25,
          3465.800048828125,
          3513.300048828125,
          3618.050048828125,
          3585.85009765625,
          3497.64990234375,
          3408.800048828125,
          3425.64990234375,
          3413.64990234375,
          3383.949951171875,
          3326.300048828125,
          3302.10009765625,
          3252.25,
          3257.89990234375,
          3310.10009765625,
          3324.39990234375,
          3345.85009765625,
          3348.449951171875,
          3358.699951171875,
          3359.60009765625,
          3380.35009765625,
          3363.75,
          3395.699951171875,
          3388.800048828125,
          3407.60009765625,
          3442.050048828125,
          3414.5,
          3347.5,
          3389.449951171875,
          3372.85009765625,
          3394.39990234375,
          3398.949951171875,
          3402.60009765625,
          3383.89990234375,
          3389.89990234375,
          3349.39990234375,
          3349.949951171875,
          3401.5,
          3395.449951171875,
          3514.75
         ],
         "high": [
          3428.550048828125,
          3395.25,
          3420,
          3369.949951171875,
          3400,
          3379.949951171875,
          3398.949951171875,
          3462.35009765625,
          3445,
          3450,
          3438,
          3444.89990234375,
          3520,
          3544.10009765625,
          3539.949951171875,
          3540,
          3499.949951171875,
          3531.300048828125,
          3625,
          3622.949951171875,
          3604.699951171875,
          3507.800048828125,
          3434.949951171875,
          3475,
          3429.800048828125,
          3392.050048828125,
          3389,
          3280.35009765625,
          3349.89990234375,
          3400.800048828125,
          3360,
          3368.5,
          3380,
          3390,
          3396.60009765625,
          3418.75,
          3397.10009765625,
          3410,
          3409.89990234375,
          3417.949951171875,
          3458.64990234375,
          3460,
          3419.85009765625,
          3450.949951171875,
          3420,
          3438.89990234375,
          3445.949951171875,
          3456.85009765625,
          3455.89990234375,
          3414,
          3404,
          3373.39990234375,
          3415,
          3427.949951171875,
          3517.5
         ],
         "low": [
          3320.449951171875,
          3316.75,
          3337.550048828125,
          3300.85009765625,
          3334.75,
          3327.199951171875,
          3340,
          3355.85009765625,
          3404,
          3385,
          3400.800048828125,
          3419.60009765625,
          3442.800048828125,
          3495.60009765625,
          3495.199951171875,
          3467.89990234375,
          3452.60009765625,
          3464.050048828125,
          3515.5,
          3567.89990234375,
          3485,
          3405,
          3376.85009765625,
          3401.75,
          3365.050048828125,
          3313.14990234375,
          3275,
          3225.60009765625,
          3186.300048828125,
          3252,
          3282.39990234375,
          3309.949951171875,
          3327.64990234375,
          3341.800048828125,
          3345.050048828125,
          3366.449951171875,
          3341.10009765625,
          3354,
          3370.050048828125,
          3385.35009765625,
          3401.800048828125,
          3386.050048828125,
          3337,
          3350,
          3363,
          3360,
          3391.25,
          3372.10009765625,
          3375,
          3375.300048828125,
          3330.050048828125,
          3307.199951171875,
          3335.800048828125,
          3387,
          3449.050048828125
         ],
         "open": [
          3370,
          3339.85009765625,
          3357.35009765625,
          3362.699951171875,
          3345.550048828125,
          3367,
          3340.699951171875,
          3355.89990234375,
          3409,
          3428.85009765625,
          3415,
          3426.85009765625,
          3445,
          3525.14990234375,
          3500,
          3517.14990234375,
          3484.10009765625,
          3475.800048828125,
          3531.800048828125,
          3622.550048828125,
          3604.699951171875,
          3507.800048828125,
          3420,
          3443.699951171875,
          3413.64990234375,
          3390.25,
          3325,
          3225.60009765625,
          3260,
          3258,
          3310.10009765625,
          3329.10009765625,
          3349.89990234375,
          3351.89990234375,
          3368,
          3383.949951171875,
          3380.35009765625,
          3400,
          3409.89990234375,
          3396.699951171875,
          3401.800048828125,
          3460,
          3417.10009765625,
          3367.60009765625,
          3393,
          3388.89990234375,
          3402.5,
          3402.949951171875,
          3430,
          3391.199951171875,
          3400,
          3348.39990234375,
          3347,
          3419,
          3469.35009765625
         ],
         "type": "candlestick",
         "x": [
          67,
          68,
          69,
          70,
          71,
          72,
          73,
          74,
          75,
          76,
          77,
          78,
          79,
          80,
          81,
          82,
          83,
          84,
          85,
          86,
          87,
          88,
          89,
          90,
          91,
          92,
          93,
          94,
          95,
          96,
          97,
          98,
          99,
          100,
          101,
          102,
          103,
          104,
          105,
          106,
          107,
          108,
          109,
          110,
          111,
          112,
          113,
          114,
          115,
          116,
          117,
          118,
          119,
          120,
          121
         ]
        },
        {
         "marker": {
          "color": "MediumPurple",
          "size": 7
         },
         "mode": "markers",
         "name": "pivot",
         "type": "scatter",
         "x": [
          67,
          68,
          69,
          70,
          71,
          72,
          73,
          74,
          75,
          76,
          77,
          78,
          79,
          80,
          81,
          82,
          83,
          84,
          85,
          86,
          87,
          88,
          89,
          90,
          91,
          92,
          93,
          94,
          95,
          96,
          97,
          98,
          99,
          100,
          101,
          102,
          103,
          104,
          105,
          106,
          107,
          108,
          109,
          110,
          111,
          112,
          113,
          114,
          115,
          116,
          117,
          118,
          119,
          120,
          121
         ],
         "y": [
          null,
          null,
          null,
          3293.9401123046873,
          null,
          null,
          null,
          3473.00009765625,
          null,
          null,
          null,
          null,
          null,
          3548.95009765625,
          null,
          null,
          null,
          null,
          3635.95,
          null,
          null,
          null,
          null,
          null,
          null,
          null,
          null,
          null,
          3169.9400634765625,
          3415.6800537109375,
          null,
          null,
          null,
          null,
          null,
          3423.9800048828124,
          null,
          null,
          null,
          null,
          null,
          3467.3949951171876,
          3328.714990234375,
          null,
          null,
          null,
          null,
          3465.32509765625,
          null,
          null,
          null,
          null,
          null,
          null,
          null
         ]
        },
        {
         "marker": {
          "color": "Black",
          "size": 7,
          "symbol": "hexagram"
         },
         "mode": "markers",
         "name": "breakout",
         "type": "scatter",
         "x": [
          67,
          68,
          69,
          70,
          71,
          72,
          73,
          74,
          75,
          76,
          77,
          78,
          79,
          80,
          81,
          82,
          83,
          84,
          85,
          86,
          87,
          88,
          89,
          90,
          91,
          92,
          93,
          94,
          95,
          96,
          97,
          98,
          99,
          100,
          101,
          102,
          103,
          104,
          105,
          106,
          107,
          108,
          109,
          110,
          111,
          112,
          113,
          114,
          115,
          116,
          117,
          118,
          119,
          120,
          121
         ],
         "y": [
          null,
          null,
          null,
          null,
          null,
          null,
          null,
          null,
          null,
          null,
          null,
          null,
          null,
          3490.75009765625,
          null,
          null,
          null,
          null,
          null,
          3562.3948974609375,
          null,
          3518.0800537109376,
          null,
          null,
          null,
          null,
          null,
          null,
          null,
          null,
          null,
          null,
          null,
          null,
          null,
          null,
          null,
          null,
          null,
          null,
          null,
          null,
          null,
          null,
          null,
          null,
          null,
          null,
          null,
          3417.8699951171875,
          3411.3949951171876,
          null,
          null,
          3382.9050048828126,
          3442.2050537109376
         ]
        },
        {
         "mode": "lines",
         "name": "lower slope",
         "type": "scatter",
         "x": [
          78,
          79,
          80,
          81,
          82,
          83,
          84,
          85,
          86,
          87,
          88,
          89,
          90,
          91,
          92,
          93,
          94,
          95,
          96,
          97,
          98,
          99,
          100,
          101,
          102,
          103,
          104,
          105,
          106,
          107,
          108,
          109,
          110,
          111,
          112,
          113,
          114,
          115,
          116,
          117,
          118,
          119,
          120,
          121,
          122
         ],
         "y": [
          3003.3072509765625,
          3014.071533203125,
          3024.8358154296875,
          3035.60009765625,
          3046.3643798828125,
          3057.128662109375,
          3067.8929443359375,
          3078.6572265625,
          3089.4215087890625,
          3100.185791015625,
          3110.9500732421875,
          3121.71435546875,
          3132.4786376953125,
          3143.242919921875,
          3154.0072021484375,
          3164.771484375,
          3175.5357666015625,
          3186.300048828125,
          3197.0643310546875,
          3207.82861328125,
          3218.5928955078125,
          3229.357177734375,
          3240.1214599609375,
          3250.8857421875,
          3261.6500244140625,
          3272.414306640625,
          3283.1785888671875,
          3293.94287109375,
          3304.7071533203125,
          3315.471435546875,
          3326.2357177734375,
          3337,
          3347.7642822265625,
          3358.528564453125,
          3369.2928466796875,
          3380.05712890625,
          3390.8214111328125,
          3401.585693359375,
          3412.3499755859375,
          3423.1142578125,
          3433.8785400390625,
          3444.642822265625,
          3455.4071044921875,
          3466.17138671875,
          3476.9356689453125
         ]
        },
        {
         "mode": "lines",
         "name": "max slope",
         "type": "scatter",
         "x": [
          78,
          79,
          80,
          81,
          82,
          83,
          84,
          85,
          86,
          87,
          88,
          89,
          90,
          91,
          92,
          93,
          94,
          95,
          96,
          97,
          98,
          99,
          100,
          101,
          102,
          103,
          104,
          105,
          106,
          107,
          108,
          109,
          110,
          111,
          112,
          113,
          114,
          115,
          116,
          117,
          118,
          119,
          120,
          121,
          122
         ],
         "y": [
          3567.039064704536,
          3562.7934737294368,
          3558.5478827543375,
          3554.3022917792387,
          3550.05670080414,
          3545.8111098290406,
          3541.5655188539413,
          3537.3199278788425,
          3533.074336903743,
          3528.8287459286444,
          3524.583154953545,
          3520.3375639784463,
          3516.091973003347,
          3511.846382028248,
          3507.600791053149,
          3503.35520007805,
          3499.109609102951,
          3494.8640181278515,
          3490.6184271527527,
          3486.372836177654,
          3482.1272452025546,
          3477.8816542274553,
          3473.6360632523565,
          3469.3904722772572,
          3465.1448813021584,
          3460.899290327059,
          3456.6536993519603,
          3452.408108376861,
          3448.162517401762,
          3443.916926426663,
          3439.671335451564,
          3435.425744476465,
          3431.1801535013656,
          3426.9345625262667,
          3422.688971551168,
          3418.4433805760686,
          3414.1977896009694,
          3409.9521986258706,
          3405.7066076507713,
          3401.4610166756725,
          3397.215425700573,
          3392.9698347254744,
          3388.724243750375,
          3384.4786527752763,
          3380.233061800177
         ]
        }
       ],
       "layout": {
        "template": {
         "data": {
          "bar": [
           {
            "error_x": {
             "color": "#2a3f5f"
            },
            "error_y": {
             "color": "#2a3f5f"
            },
            "marker": {
             "line": {
              "color": "#E5ECF6",
              "width": 0.5
             },
             "pattern": {
              "fillmode": "overlay",
              "size": 10,
              "solidity": 0.2
             }
            },
            "type": "bar"
           }
          ],
          "barpolar": [
           {
            "marker": {
             "line": {
              "color": "#E5ECF6",
              "width": 0.5
             },
             "pattern": {
              "fillmode": "overlay",
              "size": 10,
              "solidity": 0.2
             }
            },
            "type": "barpolar"
           }
          ],
          "carpet": [
           {
            "aaxis": {
             "endlinecolor": "#2a3f5f",
             "gridcolor": "white",
             "linecolor": "white",
             "minorgridcolor": "white",
             "startlinecolor": "#2a3f5f"
            },
            "baxis": {
             "endlinecolor": "#2a3f5f",
             "gridcolor": "white",
             "linecolor": "white",
             "minorgridcolor": "white",
             "startlinecolor": "#2a3f5f"
            },
            "type": "carpet"
           }
          ],
          "choropleth": [
           {
            "colorbar": {
             "outlinewidth": 0,
             "ticks": ""
            },
            "type": "choropleth"
           }
          ],
          "contour": [
           {
            "colorbar": {
             "outlinewidth": 0,
             "ticks": ""
            },
            "colorscale": [
             [
              0,
              "#0d0887"
             ],
             [
              0.1111111111111111,
              "#46039f"
             ],
             [
              0.2222222222222222,
              "#7201a8"
             ],
             [
              0.3333333333333333,
              "#9c179e"
             ],
             [
              0.4444444444444444,
              "#bd3786"
             ],
             [
              0.5555555555555556,
              "#d8576b"
             ],
             [
              0.6666666666666666,
              "#ed7953"
             ],
             [
              0.7777777777777778,
              "#fb9f3a"
             ],
             [
              0.8888888888888888,
              "#fdca26"
             ],
             [
              1,
              "#f0f921"
             ]
            ],
            "type": "contour"
           }
          ],
          "contourcarpet": [
           {
            "colorbar": {
             "outlinewidth": 0,
             "ticks": ""
            },
            "type": "contourcarpet"
           }
          ],
          "heatmap": [
           {
            "colorbar": {
             "outlinewidth": 0,
             "ticks": ""
            },
            "colorscale": [
             [
              0,
              "#0d0887"
             ],
             [
              0.1111111111111111,
              "#46039f"
             ],
             [
              0.2222222222222222,
              "#7201a8"
             ],
             [
              0.3333333333333333,
              "#9c179e"
             ],
             [
              0.4444444444444444,
              "#bd3786"
             ],
             [
              0.5555555555555556,
              "#d8576b"
             ],
             [
              0.6666666666666666,
              "#ed7953"
             ],
             [
              0.7777777777777778,
              "#fb9f3a"
             ],
             [
              0.8888888888888888,
              "#fdca26"
             ],
             [
              1,
              "#f0f921"
             ]
            ],
            "type": "heatmap"
           }
          ],
          "heatmapgl": [
           {
            "colorbar": {
             "outlinewidth": 0,
             "ticks": ""
            },
            "colorscale": [
             [
              0,
              "#0d0887"
             ],
             [
              0.1111111111111111,
              "#46039f"
             ],
             [
              0.2222222222222222,
              "#7201a8"
             ],
             [
              0.3333333333333333,
              "#9c179e"
             ],
             [
              0.4444444444444444,
              "#bd3786"
             ],
             [
              0.5555555555555556,
              "#d8576b"
             ],
             [
              0.6666666666666666,
              "#ed7953"
             ],
             [
              0.7777777777777778,
              "#fb9f3a"
             ],
             [
              0.8888888888888888,
              "#fdca26"
             ],
             [
              1,
              "#f0f921"
             ]
            ],
            "type": "heatmapgl"
           }
          ],
          "histogram": [
           {
            "marker": {
             "pattern": {
              "fillmode": "overlay",
              "size": 10,
              "solidity": 0.2
             }
            },
            "type": "histogram"
           }
          ],
          "histogram2d": [
           {
            "colorbar": {
             "outlinewidth": 0,
             "ticks": ""
            },
            "colorscale": [
             [
              0,
              "#0d0887"
             ],
             [
              0.1111111111111111,
              "#46039f"
             ],
             [
              0.2222222222222222,
              "#7201a8"
             ],
             [
              0.3333333333333333,
              "#9c179e"
             ],
             [
              0.4444444444444444,
              "#bd3786"
             ],
             [
              0.5555555555555556,
              "#d8576b"
             ],
             [
              0.6666666666666666,
              "#ed7953"
             ],
             [
              0.7777777777777778,
              "#fb9f3a"
             ],
             [
              0.8888888888888888,
              "#fdca26"
             ],
             [
              1,
              "#f0f921"
             ]
            ],
            "type": "histogram2d"
           }
          ],
          "histogram2dcontour": [
           {
            "colorbar": {
             "outlinewidth": 0,
             "ticks": ""
            },
            "colorscale": [
             [
              0,
              "#0d0887"
             ],
             [
              0.1111111111111111,
              "#46039f"
             ],
             [
              0.2222222222222222,
              "#7201a8"
             ],
             [
              0.3333333333333333,
              "#9c179e"
             ],
             [
              0.4444444444444444,
              "#bd3786"
             ],
             [
              0.5555555555555556,
              "#d8576b"
             ],
             [
              0.6666666666666666,
              "#ed7953"
             ],
             [
              0.7777777777777778,
              "#fb9f3a"
             ],
             [
              0.8888888888888888,
              "#fdca26"
             ],
             [
              1,
              "#f0f921"
             ]
            ],
            "type": "histogram2dcontour"
           }
          ],
          "mesh3d": [
           {
            "colorbar": {
             "outlinewidth": 0,
             "ticks": ""
            },
            "type": "mesh3d"
           }
          ],
          "parcoords": [
           {
            "line": {
             "colorbar": {
              "outlinewidth": 0,
              "ticks": ""
             }
            },
            "type": "parcoords"
           }
          ],
          "pie": [
           {
            "automargin": true,
            "type": "pie"
           }
          ],
          "scatter": [
           {
            "fillpattern": {
             "fillmode": "overlay",
             "size": 10,
             "solidity": 0.2
            },
            "type": "scatter"
           }
          ],
          "scatter3d": [
           {
            "line": {
             "colorbar": {
              "outlinewidth": 0,
              "ticks": ""
             }
            },
            "marker": {
             "colorbar": {
              "outlinewidth": 0,
              "ticks": ""
             }
            },
            "type": "scatter3d"
           }
          ],
          "scattercarpet": [
           {
            "marker": {
             "colorbar": {
              "outlinewidth": 0,
              "ticks": ""
             }
            },
            "type": "scattercarpet"
           }
          ],
          "scattergeo": [
           {
            "marker": {
             "colorbar": {
              "outlinewidth": 0,
              "ticks": ""
             }
            },
            "type": "scattergeo"
           }
          ],
          "scattergl": [
           {
            "marker": {
             "colorbar": {
              "outlinewidth": 0,
              "ticks": ""
             }
            },
            "type": "scattergl"
           }
          ],
          "scattermapbox": [
           {
            "marker": {
             "colorbar": {
              "outlinewidth": 0,
              "ticks": ""
             }
            },
            "type": "scattermapbox"
           }
          ],
          "scatterpolar": [
           {
            "marker": {
             "colorbar": {
              "outlinewidth": 0,
              "ticks": ""
             }
            },
            "type": "scatterpolar"
           }
          ],
          "scatterpolargl": [
           {
            "marker": {
             "colorbar": {
              "outlinewidth": 0,
              "ticks": ""
             }
            },
            "type": "scatterpolargl"
           }
          ],
          "scatterternary": [
           {
            "marker": {
             "colorbar": {
              "outlinewidth": 0,
              "ticks": ""
             }
            },
            "type": "scatterternary"
           }
          ],
          "surface": [
           {
            "colorbar": {
             "outlinewidth": 0,
             "ticks": ""
            },
            "colorscale": [
             [
              0,
              "#0d0887"
             ],
             [
              0.1111111111111111,
              "#46039f"
             ],
             [
              0.2222222222222222,
              "#7201a8"
             ],
             [
              0.3333333333333333,
              "#9c179e"
             ],
             [
              0.4444444444444444,
              "#bd3786"
             ],
             [
              0.5555555555555556,
              "#d8576b"
             ],
             [
              0.6666666666666666,
              "#ed7953"
             ],
             [
              0.7777777777777778,
              "#fb9f3a"
             ],
             [
              0.8888888888888888,
              "#fdca26"
             ],
             [
              1,
              "#f0f921"
             ]
            ],
            "type": "surface"
           }
          ],
          "table": [
           {
            "cells": {
             "fill": {
              "color": "#EBF0F8"
             },
             "line": {
              "color": "white"
             }
            },
            "header": {
             "fill": {
              "color": "#C8D4E3"
             },
             "line": {
              "color": "white"
             }
            },
            "type": "table"
           }
          ]
         },
         "layout": {
          "annotationdefaults": {
           "arrowcolor": "#2a3f5f",
           "arrowhead": 0,
           "arrowwidth": 1
          },
          "autotypenumbers": "strict",
          "coloraxis": {
           "colorbar": {
            "outlinewidth": 0,
            "ticks": ""
           }
          },
          "colorscale": {
           "diverging": [
            [
             0,
             "#8e0152"
            ],
            [
             0.1,
             "#c51b7d"
            ],
            [
             0.2,
             "#de77ae"
            ],
            [
             0.3,
             "#f1b6da"
            ],
            [
             0.4,
             "#fde0ef"
            ],
            [
             0.5,
             "#f7f7f7"
            ],
            [
             0.6,
             "#e6f5d0"
            ],
            [
             0.7,
             "#b8e186"
            ],
            [
             0.8,
             "#7fbc41"
            ],
            [
             0.9,
             "#4d9221"
            ],
            [
             1,
             "#276419"
            ]
           ],
           "sequential": [
            [
             0,
             "#0d0887"
            ],
            [
             0.1111111111111111,
             "#46039f"
            ],
            [
             0.2222222222222222,
             "#7201a8"
            ],
            [
             0.3333333333333333,
             "#9c179e"
            ],
            [
             0.4444444444444444,
             "#bd3786"
            ],
            [
             0.5555555555555556,
             "#d8576b"
            ],
            [
             0.6666666666666666,
             "#ed7953"
            ],
            [
             0.7777777777777778,
             "#fb9f3a"
            ],
            [
             0.8888888888888888,
             "#fdca26"
            ],
            [
             1,
             "#f0f921"
            ]
           ],
           "sequentialminus": [
            [
             0,
             "#0d0887"
            ],
            [
             0.1111111111111111,
             "#46039f"
            ],
            [
             0.2222222222222222,
             "#7201a8"
            ],
            [
             0.3333333333333333,
             "#9c179e"
            ],
            [
             0.4444444444444444,
             "#bd3786"
            ],
            [
             0.5555555555555556,
             "#d8576b"
            ],
            [
             0.6666666666666666,
             "#ed7953"
            ],
            [
             0.7777777777777778,
             "#fb9f3a"
            ],
            [
             0.8888888888888888,
             "#fdca26"
            ],
            [
             1,
             "#f0f921"
            ]
           ]
          },
          "colorway": [
           "#636efa",
           "#EF553B",
           "#00cc96",
           "#ab63fa",
           "#FFA15A",
           "#19d3f3",
           "#FF6692",
           "#B6E880",
           "#FF97FF",
           "#FECB52"
          ],
          "font": {
           "color": "#2a3f5f"
          },
          "geo": {
           "bgcolor": "white",
           "lakecolor": "white",
           "landcolor": "#E5ECF6",
           "showlakes": true,
           "showland": true,
           "subunitcolor": "white"
          },
          "hoverlabel": {
           "align": "left"
          },
          "hovermode": "closest",
          "mapbox": {
           "style": "light"
          },
          "paper_bgcolor": "white",
          "plot_bgcolor": "#E5ECF6",
          "polar": {
           "angularaxis": {
            "gridcolor": "white",
            "linecolor": "white",
            "ticks": ""
           },
           "bgcolor": "#E5ECF6",
           "radialaxis": {
            "gridcolor": "white",
            "linecolor": "white",
            "ticks": ""
           }
          },
          "scene": {
           "xaxis": {
            "backgroundcolor": "#E5ECF6",
            "gridcolor": "white",
            "gridwidth": 2,
            "linecolor": "white",
            "showbackground": true,
            "ticks": "",
            "zerolinecolor": "white"
           },
           "yaxis": {
            "backgroundcolor": "#E5ECF6",
            "gridcolor": "white",
            "gridwidth": 2,
            "linecolor": "white",
            "showbackground": true,
            "ticks": "",
            "zerolinecolor": "white"
           },
           "zaxis": {
            "backgroundcolor": "#E5ECF6",
            "gridcolor": "white",
            "gridwidth": 2,
            "linecolor": "white",
            "showbackground": true,
            "ticks": "",
            "zerolinecolor": "white"
           }
          },
          "shapedefaults": {
           "line": {
            "color": "#2a3f5f"
           }
          },
          "ternary": {
           "aaxis": {
            "gridcolor": "white",
            "linecolor": "white",
            "ticks": ""
           },
           "baxis": {
            "gridcolor": "white",
            "linecolor": "white",
            "ticks": ""
           },
           "bgcolor": "#E5ECF6",
           "caxis": {
            "gridcolor": "white",
            "linecolor": "white",
            "ticks": ""
           }
          },
          "title": {
           "x": 0.05
          },
          "xaxis": {
           "automargin": true,
           "gridcolor": "white",
           "linecolor": "white",
           "ticks": "",
           "title": {
            "standoff": 15
           },
           "zerolinecolor": "white",
           "zerolinewidth": 2
          },
          "yaxis": {
           "automargin": true,
           "gridcolor": "white",
           "linecolor": "white",
           "ticks": "",
           "title": {
            "standoff": 15
           },
           "zerolinecolor": "white",
           "zerolinewidth": 2
          }
         }
        },
        "title": {
         "font": {
          "color": "MediumBlue",
          "size": 21
         },
         "text": "ALKEM.NS"
        }
       }
      },
      "text/html": [
       "<div>                            <div id=\"bf1868c6-833d-466b-bfc3-10b6cee6bc30\" class=\"plotly-graph-div\" style=\"height:525px; width:100%;\"></div>            <script type=\"text/javascript\">                require([\"plotly\"], function(Plotly) {                    window.PLOTLYENV=window.PLOTLYENV || {};                                    if (document.getElementById(\"bf1868c6-833d-466b-bfc3-10b6cee6bc30\")) {                    Plotly.newPlot(                        \"bf1868c6-833d-466b-bfc3-10b6cee6bc30\",                        [{\"close\":[3331.550048828125,3340.60009765625,3345.050048828125,3332.35009765625,3366.85009765625,3341.699951171875,3355.89990234375,3409.0,3428.800048828125,3421.449951171875,3426.85009765625,3435.5,3509.89990234375,3518.449951171875,3517.14990234375,3480.25,3465.800048828125,3513.300048828125,3618.050048828125,3585.85009765625,3497.64990234375,3408.800048828125,3425.64990234375,3413.64990234375,3383.949951171875,3326.300048828125,3302.10009765625,3252.25,3257.89990234375,3310.10009765625,3324.39990234375,3345.85009765625,3348.449951171875,3358.699951171875,3359.60009765625,3380.35009765625,3363.75,3395.699951171875,3388.800048828125,3407.60009765625,3442.050048828125,3414.5,3347.5,3389.449951171875,3372.85009765625,3394.39990234375,3398.949951171875,3402.60009765625,3383.89990234375,3389.89990234375,3349.39990234375,3349.949951171875,3401.5,3395.449951171875,3514.75],\"high\":[3428.550048828125,3395.25,3420.0,3369.949951171875,3400.0,3379.949951171875,3398.949951171875,3462.35009765625,3445.0,3450.0,3438.0,3444.89990234375,3520.0,3544.10009765625,3539.949951171875,3540.0,3499.949951171875,3531.300048828125,3625.0,3622.949951171875,3604.699951171875,3507.800048828125,3434.949951171875,3475.0,3429.800048828125,3392.050048828125,3389.0,3280.35009765625,3349.89990234375,3400.800048828125,3360.0,3368.5,3380.0,3390.0,3396.60009765625,3418.75,3397.10009765625,3410.0,3409.89990234375,3417.949951171875,3458.64990234375,3460.0,3419.85009765625,3450.949951171875,3420.0,3438.89990234375,3445.949951171875,3456.85009765625,3455.89990234375,3414.0,3404.0,3373.39990234375,3415.0,3427.949951171875,3517.5],\"low\":[3320.449951171875,3316.75,3337.550048828125,3300.85009765625,3334.75,3327.199951171875,3340.0,3355.85009765625,3404.0,3385.0,3400.800048828125,3419.60009765625,3442.800048828125,3495.60009765625,3495.199951171875,3467.89990234375,3452.60009765625,3464.050048828125,3515.5,3567.89990234375,3485.0,3405.0,3376.85009765625,3401.75,3365.050048828125,3313.14990234375,3275.0,3225.60009765625,3186.300048828125,3252.0,3282.39990234375,3309.949951171875,3327.64990234375,3341.800048828125,3345.050048828125,3366.449951171875,3341.10009765625,3354.0,3370.050048828125,3385.35009765625,3401.800048828125,3386.050048828125,3337.0,3350.0,3363.0,3360.0,3391.25,3372.10009765625,3375.0,3375.300048828125,3330.050048828125,3307.199951171875,3335.800048828125,3387.0,3449.050048828125],\"open\":[3370.0,3339.85009765625,3357.35009765625,3362.699951171875,3345.550048828125,3367.0,3340.699951171875,3355.89990234375,3409.0,3428.85009765625,3415.0,3426.85009765625,3445.0,3525.14990234375,3500.0,3517.14990234375,3484.10009765625,3475.800048828125,3531.800048828125,3622.550048828125,3604.699951171875,3507.800048828125,3420.0,3443.699951171875,3413.64990234375,3390.25,3325.0,3225.60009765625,3260.0,3258.0,3310.10009765625,3329.10009765625,3349.89990234375,3351.89990234375,3368.0,3383.949951171875,3380.35009765625,3400.0,3409.89990234375,3396.699951171875,3401.800048828125,3460.0,3417.10009765625,3367.60009765625,3393.0,3388.89990234375,3402.5,3402.949951171875,3430.0,3391.199951171875,3400.0,3348.39990234375,3347.0,3419.0,3469.35009765625],\"x\":[67,68,69,70,71,72,73,74,75,76,77,78,79,80,81,82,83,84,85,86,87,88,89,90,91,92,93,94,95,96,97,98,99,100,101,102,103,104,105,106,107,108,109,110,111,112,113,114,115,116,117,118,119,120,121],\"type\":\"candlestick\"},{\"marker\":{\"color\":\"MediumPurple\",\"size\":7},\"mode\":\"markers\",\"name\":\"pivot\",\"x\":[67,68,69,70,71,72,73,74,75,76,77,78,79,80,81,82,83,84,85,86,87,88,89,90,91,92,93,94,95,96,97,98,99,100,101,102,103,104,105,106,107,108,109,110,111,112,113,114,115,116,117,118,119,120,121],\"y\":[null,null,null,3293.9401123046873,null,null,null,3473.00009765625,null,null,null,null,null,3548.95009765625,null,null,null,null,3635.95,null,null,null,null,null,null,null,null,null,3169.9400634765625,3415.6800537109375,null,null,null,null,null,3423.9800048828124,null,null,null,null,null,3467.3949951171876,3328.714990234375,null,null,null,null,3465.32509765625,null,null,null,null,null,null,null],\"type\":\"scatter\"},{\"marker\":{\"color\":\"Black\",\"size\":7,\"symbol\":\"hexagram\"},\"mode\":\"markers\",\"name\":\"breakout\",\"x\":[67,68,69,70,71,72,73,74,75,76,77,78,79,80,81,82,83,84,85,86,87,88,89,90,91,92,93,94,95,96,97,98,99,100,101,102,103,104,105,106,107,108,109,110,111,112,113,114,115,116,117,118,119,120,121],\"y\":[null,null,null,null,null,null,null,null,null,null,null,null,null,3490.75009765625,null,null,null,null,null,3562.3948974609375,null,3518.0800537109376,null,null,null,null,null,null,null,null,null,null,null,null,null,null,null,null,null,null,null,null,null,null,null,null,null,null,null,3417.8699951171875,3411.3949951171876,null,null,3382.9050048828126,3442.2050537109376],\"type\":\"scatter\"},{\"mode\":\"lines\",\"name\":\"lower slope\",\"x\":[78,79,80,81,82,83,84,85,86,87,88,89,90,91,92,93,94,95,96,97,98,99,100,101,102,103,104,105,106,107,108,109,110,111,112,113,114,115,116,117,118,119,120,121,122],\"y\":[3003.3072509765625,3014.071533203125,3024.8358154296875,3035.60009765625,3046.3643798828125,3057.128662109375,3067.8929443359375,3078.6572265625,3089.4215087890625,3100.185791015625,3110.9500732421875,3121.71435546875,3132.4786376953125,3143.242919921875,3154.0072021484375,3164.771484375,3175.5357666015625,3186.300048828125,3197.0643310546875,3207.82861328125,3218.5928955078125,3229.357177734375,3240.1214599609375,3250.8857421875,3261.6500244140625,3272.414306640625,3283.1785888671875,3293.94287109375,3304.7071533203125,3315.471435546875,3326.2357177734375,3337.0,3347.7642822265625,3358.528564453125,3369.2928466796875,3380.05712890625,3390.8214111328125,3401.585693359375,3412.3499755859375,3423.1142578125,3433.8785400390625,3444.642822265625,3455.4071044921875,3466.17138671875,3476.9356689453125],\"type\":\"scatter\"},{\"mode\":\"lines\",\"name\":\"max slope\",\"x\":[78,79,80,81,82,83,84,85,86,87,88,89,90,91,92,93,94,95,96,97,98,99,100,101,102,103,104,105,106,107,108,109,110,111,112,113,114,115,116,117,118,119,120,121,122],\"y\":[3567.039064704536,3562.7934737294368,3558.5478827543375,3554.3022917792387,3550.05670080414,3545.8111098290406,3541.5655188539413,3537.3199278788425,3533.074336903743,3528.8287459286444,3524.583154953545,3520.3375639784463,3516.091973003347,3511.846382028248,3507.600791053149,3503.35520007805,3499.109609102951,3494.8640181278515,3490.6184271527527,3486.372836177654,3482.1272452025546,3477.8816542274553,3473.6360632523565,3469.3904722772572,3465.1448813021584,3460.899290327059,3456.6536993519603,3452.408108376861,3448.162517401762,3443.916926426663,3439.671335451564,3435.425744476465,3431.1801535013656,3426.9345625262667,3422.688971551168,3418.4433805760686,3414.1977896009694,3409.9521986258706,3405.7066076507713,3401.4610166756725,3397.215425700573,3392.9698347254744,3388.724243750375,3384.4786527752763,3380.233061800177],\"type\":\"scatter\"}],                        {\"template\":{\"data\":{\"histogram2dcontour\":[{\"type\":\"histogram2dcontour\",\"colorbar\":{\"outlinewidth\":0,\"ticks\":\"\"},\"colorscale\":[[0.0,\"#0d0887\"],[0.1111111111111111,\"#46039f\"],[0.2222222222222222,\"#7201a8\"],[0.3333333333333333,\"#9c179e\"],[0.4444444444444444,\"#bd3786\"],[0.5555555555555556,\"#d8576b\"],[0.6666666666666666,\"#ed7953\"],[0.7777777777777778,\"#fb9f3a\"],[0.8888888888888888,\"#fdca26\"],[1.0,\"#f0f921\"]]}],\"choropleth\":[{\"type\":\"choropleth\",\"colorbar\":{\"outlinewidth\":0,\"ticks\":\"\"}}],\"histogram2d\":[{\"type\":\"histogram2d\",\"colorbar\":{\"outlinewidth\":0,\"ticks\":\"\"},\"colorscale\":[[0.0,\"#0d0887\"],[0.1111111111111111,\"#46039f\"],[0.2222222222222222,\"#7201a8\"],[0.3333333333333333,\"#9c179e\"],[0.4444444444444444,\"#bd3786\"],[0.5555555555555556,\"#d8576b\"],[0.6666666666666666,\"#ed7953\"],[0.7777777777777778,\"#fb9f3a\"],[0.8888888888888888,\"#fdca26\"],[1.0,\"#f0f921\"]]}],\"heatmap\":[{\"type\":\"heatmap\",\"colorbar\":{\"outlinewidth\":0,\"ticks\":\"\"},\"colorscale\":[[0.0,\"#0d0887\"],[0.1111111111111111,\"#46039f\"],[0.2222222222222222,\"#7201a8\"],[0.3333333333333333,\"#9c179e\"],[0.4444444444444444,\"#bd3786\"],[0.5555555555555556,\"#d8576b\"],[0.6666666666666666,\"#ed7953\"],[0.7777777777777778,\"#fb9f3a\"],[0.8888888888888888,\"#fdca26\"],[1.0,\"#f0f921\"]]}],\"heatmapgl\":[{\"type\":\"heatmapgl\",\"colorbar\":{\"outlinewidth\":0,\"ticks\":\"\"},\"colorscale\":[[0.0,\"#0d0887\"],[0.1111111111111111,\"#46039f\"],[0.2222222222222222,\"#7201a8\"],[0.3333333333333333,\"#9c179e\"],[0.4444444444444444,\"#bd3786\"],[0.5555555555555556,\"#d8576b\"],[0.6666666666666666,\"#ed7953\"],[0.7777777777777778,\"#fb9f3a\"],[0.8888888888888888,\"#fdca26\"],[1.0,\"#f0f921\"]]}],\"contourcarpet\":[{\"type\":\"contourcarpet\",\"colorbar\":{\"outlinewidth\":0,\"ticks\":\"\"}}],\"contour\":[{\"type\":\"contour\",\"colorbar\":{\"outlinewidth\":0,\"ticks\":\"\"},\"colorscale\":[[0.0,\"#0d0887\"],[0.1111111111111111,\"#46039f\"],[0.2222222222222222,\"#7201a8\"],[0.3333333333333333,\"#9c179e\"],[0.4444444444444444,\"#bd3786\"],[0.5555555555555556,\"#d8576b\"],[0.6666666666666666,\"#ed7953\"],[0.7777777777777778,\"#fb9f3a\"],[0.8888888888888888,\"#fdca26\"],[1.0,\"#f0f921\"]]}],\"surface\":[{\"type\":\"surface\",\"colorbar\":{\"outlinewidth\":0,\"ticks\":\"\"},\"colorscale\":[[0.0,\"#0d0887\"],[0.1111111111111111,\"#46039f\"],[0.2222222222222222,\"#7201a8\"],[0.3333333333333333,\"#9c179e\"],[0.4444444444444444,\"#bd3786\"],[0.5555555555555556,\"#d8576b\"],[0.6666666666666666,\"#ed7953\"],[0.7777777777777778,\"#fb9f3a\"],[0.8888888888888888,\"#fdca26\"],[1.0,\"#f0f921\"]]}],\"mesh3d\":[{\"type\":\"mesh3d\",\"colorbar\":{\"outlinewidth\":0,\"ticks\":\"\"}}],\"scatter\":[{\"fillpattern\":{\"fillmode\":\"overlay\",\"size\":10,\"solidity\":0.2},\"type\":\"scatter\"}],\"parcoords\":[{\"type\":\"parcoords\",\"line\":{\"colorbar\":{\"outlinewidth\":0,\"ticks\":\"\"}}}],\"scatterpolargl\":[{\"type\":\"scatterpolargl\",\"marker\":{\"colorbar\":{\"outlinewidth\":0,\"ticks\":\"\"}}}],\"bar\":[{\"error_x\":{\"color\":\"#2a3f5f\"},\"error_y\":{\"color\":\"#2a3f5f\"},\"marker\":{\"line\":{\"color\":\"#E5ECF6\",\"width\":0.5},\"pattern\":{\"fillmode\":\"overlay\",\"size\":10,\"solidity\":0.2}},\"type\":\"bar\"}],\"scattergeo\":[{\"type\":\"scattergeo\",\"marker\":{\"colorbar\":{\"outlinewidth\":0,\"ticks\":\"\"}}}],\"scatterpolar\":[{\"type\":\"scatterpolar\",\"marker\":{\"colorbar\":{\"outlinewidth\":0,\"ticks\":\"\"}}}],\"histogram\":[{\"marker\":{\"pattern\":{\"fillmode\":\"overlay\",\"size\":10,\"solidity\":0.2}},\"type\":\"histogram\"}],\"scattergl\":[{\"type\":\"scattergl\",\"marker\":{\"colorbar\":{\"outlinewidth\":0,\"ticks\":\"\"}}}],\"scatter3d\":[{\"type\":\"scatter3d\",\"line\":{\"colorbar\":{\"outlinewidth\":0,\"ticks\":\"\"}},\"marker\":{\"colorbar\":{\"outlinewidth\":0,\"ticks\":\"\"}}}],\"scattermapbox\":[{\"type\":\"scattermapbox\",\"marker\":{\"colorbar\":{\"outlinewidth\":0,\"ticks\":\"\"}}}],\"scatterternary\":[{\"type\":\"scatterternary\",\"marker\":{\"colorbar\":{\"outlinewidth\":0,\"ticks\":\"\"}}}],\"scattercarpet\":[{\"type\":\"scattercarpet\",\"marker\":{\"colorbar\":{\"outlinewidth\":0,\"ticks\":\"\"}}}],\"carpet\":[{\"aaxis\":{\"endlinecolor\":\"#2a3f5f\",\"gridcolor\":\"white\",\"linecolor\":\"white\",\"minorgridcolor\":\"white\",\"startlinecolor\":\"#2a3f5f\"},\"baxis\":{\"endlinecolor\":\"#2a3f5f\",\"gridcolor\":\"white\",\"linecolor\":\"white\",\"minorgridcolor\":\"white\",\"startlinecolor\":\"#2a3f5f\"},\"type\":\"carpet\"}],\"table\":[{\"cells\":{\"fill\":{\"color\":\"#EBF0F8\"},\"line\":{\"color\":\"white\"}},\"header\":{\"fill\":{\"color\":\"#C8D4E3\"},\"line\":{\"color\":\"white\"}},\"type\":\"table\"}],\"barpolar\":[{\"marker\":{\"line\":{\"color\":\"#E5ECF6\",\"width\":0.5},\"pattern\":{\"fillmode\":\"overlay\",\"size\":10,\"solidity\":0.2}},\"type\":\"barpolar\"}],\"pie\":[{\"automargin\":true,\"type\":\"pie\"}]},\"layout\":{\"autotypenumbers\":\"strict\",\"colorway\":[\"#636efa\",\"#EF553B\",\"#00cc96\",\"#ab63fa\",\"#FFA15A\",\"#19d3f3\",\"#FF6692\",\"#B6E880\",\"#FF97FF\",\"#FECB52\"],\"font\":{\"color\":\"#2a3f5f\"},\"hovermode\":\"closest\",\"hoverlabel\":{\"align\":\"left\"},\"paper_bgcolor\":\"white\",\"plot_bgcolor\":\"#E5ECF6\",\"polar\":{\"bgcolor\":\"#E5ECF6\",\"angularaxis\":{\"gridcolor\":\"white\",\"linecolor\":\"white\",\"ticks\":\"\"},\"radialaxis\":{\"gridcolor\":\"white\",\"linecolor\":\"white\",\"ticks\":\"\"}},\"ternary\":{\"bgcolor\":\"#E5ECF6\",\"aaxis\":{\"gridcolor\":\"white\",\"linecolor\":\"white\",\"ticks\":\"\"},\"baxis\":{\"gridcolor\":\"white\",\"linecolor\":\"white\",\"ticks\":\"\"},\"caxis\":{\"gridcolor\":\"white\",\"linecolor\":\"white\",\"ticks\":\"\"}},\"coloraxis\":{\"colorbar\":{\"outlinewidth\":0,\"ticks\":\"\"}},\"colorscale\":{\"sequential\":[[0.0,\"#0d0887\"],[0.1111111111111111,\"#46039f\"],[0.2222222222222222,\"#7201a8\"],[0.3333333333333333,\"#9c179e\"],[0.4444444444444444,\"#bd3786\"],[0.5555555555555556,\"#d8576b\"],[0.6666666666666666,\"#ed7953\"],[0.7777777777777778,\"#fb9f3a\"],[0.8888888888888888,\"#fdca26\"],[1.0,\"#f0f921\"]],\"sequentialminus\":[[0.0,\"#0d0887\"],[0.1111111111111111,\"#46039f\"],[0.2222222222222222,\"#7201a8\"],[0.3333333333333333,\"#9c179e\"],[0.4444444444444444,\"#bd3786\"],[0.5555555555555556,\"#d8576b\"],[0.6666666666666666,\"#ed7953\"],[0.7777777777777778,\"#fb9f3a\"],[0.8888888888888888,\"#fdca26\"],[1.0,\"#f0f921\"]],\"diverging\":[[0,\"#8e0152\"],[0.1,\"#c51b7d\"],[0.2,\"#de77ae\"],[0.3,\"#f1b6da\"],[0.4,\"#fde0ef\"],[0.5,\"#f7f7f7\"],[0.6,\"#e6f5d0\"],[0.7,\"#b8e186\"],[0.8,\"#7fbc41\"],[0.9,\"#4d9221\"],[1,\"#276419\"]]},\"xaxis\":{\"gridcolor\":\"white\",\"linecolor\":\"white\",\"ticks\":\"\",\"title\":{\"standoff\":15},\"zerolinecolor\":\"white\",\"automargin\":true,\"zerolinewidth\":2},\"yaxis\":{\"gridcolor\":\"white\",\"linecolor\":\"white\",\"ticks\":\"\",\"title\":{\"standoff\":15},\"zerolinecolor\":\"white\",\"automargin\":true,\"zerolinewidth\":2},\"scene\":{\"xaxis\":{\"backgroundcolor\":\"#E5ECF6\",\"gridcolor\":\"white\",\"linecolor\":\"white\",\"showbackground\":true,\"ticks\":\"\",\"zerolinecolor\":\"white\",\"gridwidth\":2},\"yaxis\":{\"backgroundcolor\":\"#E5ECF6\",\"gridcolor\":\"white\",\"linecolor\":\"white\",\"showbackground\":true,\"ticks\":\"\",\"zerolinecolor\":\"white\",\"gridwidth\":2},\"zaxis\":{\"backgroundcolor\":\"#E5ECF6\",\"gridcolor\":\"white\",\"linecolor\":\"white\",\"showbackground\":true,\"ticks\":\"\",\"zerolinecolor\":\"white\",\"gridwidth\":2}},\"shapedefaults\":{\"line\":{\"color\":\"#2a3f5f\"}},\"annotationdefaults\":{\"arrowcolor\":\"#2a3f5f\",\"arrowhead\":0,\"arrowwidth\":1},\"geo\":{\"bgcolor\":\"white\",\"landcolor\":\"#E5ECF6\",\"subunitcolor\":\"white\",\"showland\":true,\"showlakes\":true,\"lakecolor\":\"white\"},\"title\":{\"x\":0.05},\"mapbox\":{\"style\":\"light\"}}},\"title\":{\"font\":{\"color\":\"MediumBlue\",\"size\":21},\"text\":\"ALKEM.NS\"}},                        {\"responsive\": true}                    ).then(function(){\n",
       "                            \n",
       "var gd = document.getElementById('bf1868c6-833d-466b-bfc3-10b6cee6bc30');\n",
       "var x = new MutationObserver(function (mutations, observer) {{\n",
       "        var display = window.getComputedStyle(gd).display;\n",
       "        if (!display || display === 'none') {{\n",
       "            console.log([gd, 'removed!']);\n",
       "            Plotly.purge(gd);\n",
       "            observer.disconnect();\n",
       "        }}\n",
       "}});\n",
       "\n",
       "// Listen for the removal of the full notebook cells\n",
       "var notebookContainer = gd.closest('#notebook-container');\n",
       "if (notebookContainer) {{\n",
       "    x.observe(notebookContainer, {childList: true});\n",
       "}}\n",
       "\n",
       "// Listen for the clearing of the current output cell\n",
       "var outputEl = gd.closest('.output');\n",
       "if (outputEl) {{\n",
       "    x.observe(outputEl, {childList: true});\n",
       "}}\n",
       "\n",
       "                        })                };                });            </script>        </div>"
      ]
     },
     "metadata": {},
     "output_type": "display_data"
    }
   ],
   "source": [
    "candleIndex = len(tickerShortlistData['AARTIIND.NS'].df)\n",
    "\n",
    "tickerShortlistData['AARTIIND.NS'].showIndicator(candleIndex, 40)\n",
    "tickerShortlistData['ALKEM.NS'].showIndicator(candleIndex, 40)"
   ]
  },
  {
   "cell_type": "code",
   "execution_count": null,
   "id": "84396bf0",
   "metadata": {},
   "outputs": [],
   "source": []
  }
 ],
 "metadata": {
  "kernelspec": {
   "display_name": "Python 3 (ipykernel)",
   "language": "python",
   "name": "python3"
  },
  "language_info": {
   "codemirror_mode": {
    "name": "ipython",
    "version": 3
   },
   "file_extension": ".py",
   "mimetype": "text/x-python",
   "name": "python",
   "nbconvert_exporter": "python",
   "pygments_lexer": "ipython3",
   "version": "3.10.10"
  }
 },
 "nbformat": 4,
 "nbformat_minor": 5
}
