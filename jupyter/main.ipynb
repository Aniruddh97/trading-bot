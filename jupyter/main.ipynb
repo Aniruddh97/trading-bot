{
 "cells": [
  {
   "cell_type": "code",
   "execution_count": 1,
   "id": "dea2f292",
   "metadata": {},
   "outputs": [],
   "source": [
    "import os\n",
    "import sys\n",
    "module_path = os.path.abspath(os.path.join('..'))\n",
    "if module_path not in sys.path:\n",
    "    sys.path.append(module_path)\n",
    "    \n",
    "from tickers import getTickerList, getCandlePatternList\n",
    "from datemodule import getDateRange\n",
    "from indicators import ChannelBreakoutIndicator, SupportResistanceIndicator\n",
    "from datasource import getFullData\n",
    "import pandas"
   ]
  },
  {
   "cell_type": "code",
   "execution_count": 2,
   "id": "cdd15ac1",
   "metadata": {
    "scrolled": true
   },
   "outputs": [
    {
     "name": "stderr",
     "output_type": "stream",
     "text": [
      "  0%|          | 0/3 [00:00<?, ?it/s]/app/indicators/sr_indicator.py:76: SettingWithCopyWarning: \n",
      "A value is trying to be set on a copy of a slice from a DataFrame\n",
      "\n",
      "See the caveats in the documentation: https://pandas.pydata.org/pandas-docs/stable/user_guide/indexing.html#returning-a-view-versus-a-copy\n",
      "  self.df['Level'][candleIndex] = cS\n",
      " 33%|███▎      | 1/3 [00:03<00:07,  3.89s/it]/app/indicators/sr_indicator.py:76: SettingWithCopyWarning: \n",
      "A value is trying to be set on a copy of a slice from a DataFrame\n",
      "\n",
      "See the caveats in the documentation: https://pandas.pydata.org/pandas-docs/stable/user_guide/indexing.html#returning-a-view-versus-a-copy\n",
      "  self.df['Level'][candleIndex] = cS\n",
      " 67%|██████▋   | 2/3 [00:07<00:03,  3.60s/it]/app/indicators/sr_indicator.py:76: SettingWithCopyWarning: \n",
      "A value is trying to be set on a copy of a slice from a DataFrame\n",
      "\n",
      "See the caveats in the documentation: https://pandas.pydata.org/pandas-docs/stable/user_guide/indexing.html#returning-a-view-versus-a-copy\n",
      "  self.df['Level'][candleIndex] = cS\n",
      "100%|██████████| 3/3 [00:09<00:00,  3.12s/it]\n"
     ]
    }
   ],
   "source": [
    "import talib\n",
    "import pandas_ta as ta\n",
    "from tqdm import tqdm\n",
    "\n",
    "tickers = getTickerList(all=False)\n",
    "tickerShortlist = {}\n",
    "tickerShortlistData = {}\n",
    "\n",
    "for i in tqdm(range(len(tickers))):\n",
    "    ticker = tickers[i]\n",
    "    resultDict = {}\n",
    "    tickerShortlistData[ticker] = {}\n",
    "\n",
    "    # Fetch Data\n",
    "    startDate, endDate = getDateRange('1y')\n",
    "    df = getFullData(ticker, startDate, endDate)\n",
    "    \n",
    "    candleIndex = len(df)-1\n",
    "    \n",
    "    # RSI\n",
    "    df['RSI'] = ta.rsi(df.Close, length=14)\n",
    "\n",
    "    # Candlestick Pattern Recognition\n",
    "    op = df['Open']\n",
    "    hi = df['High']\n",
    "    lo = df['Low']\n",
    "    cl = df['Close']\n",
    "    for pattern in getCandlePatternList(all=False):\n",
    "        sig = getattr(talib, pattern)(op, hi, lo, cl)[candleIndex]\n",
    "        if sig != 0:\n",
    "            resultDict[pattern] = sig\n",
    "    \n",
    "    # Channel Breakout Indicator Signal\n",
    "    cbi = ChannelBreakoutIndicator(df, ticker)\n",
    "    cbi.calculate(40)\n",
    "    cbSignal = cbi.getBuySell()[-1]\n",
    "    if (cbSignal != ''):\n",
    "        resultDict[\"ChannelBreakoutIndicator\"] = cbSignal\n",
    "        \n",
    "    # Support Resistance Indicator Signal\n",
    "    sri = SupportResistanceIndicator(df, 11, 5, ticker)\n",
    "    sri.calculate()\n",
    "    srSignal = sri.getBuySell()[-1]\n",
    "    if (srSignal != ''):\n",
    "        resultDict[\"SupportResistanceIndicator\"] = srSignal\n",
    "\n",
    "    # Collect Signals\n",
    "    if (len(resultDict) != 0):\n",
    "        resultDict[\"RSI\"] = df['RSI'][candleIndex]\n",
    "        tickerShortlistData[ticker][\"CBI\"] = cbi\n",
    "        tickerShortlistData[ticker][\"SRI\"] = sri\n",
    "        tickerShortlist[ticker] = resultDict"
   ]
  },
  {
   "cell_type": "code",
   "execution_count": 3,
   "id": "48fb670f",
   "metadata": {},
   "outputs": [
    {
     "data": {
      "text/html": [
       "<div>\n",
       "<style scoped>\n",
       "    .dataframe tbody tr th:only-of-type {\n",
       "        vertical-align: middle;\n",
       "    }\n",
       "\n",
       "    .dataframe tbody tr th {\n",
       "        vertical-align: top;\n",
       "    }\n",
       "\n",
       "    .dataframe thead th {\n",
       "        text-align: right;\n",
       "    }\n",
       "</style>\n",
       "<table border=\"1\" class=\"dataframe\">\n",
       "  <thead>\n",
       "    <tr style=\"text-align: right;\">\n",
       "      <th></th>\n",
       "      <th>CDLHARAMI</th>\n",
       "      <th>ChannelBreakoutIndicator</th>\n",
       "      <th>RSI</th>\n",
       "    </tr>\n",
       "  </thead>\n",
       "  <tbody>\n",
       "    <tr>\n",
       "      <th>RELIANCE</th>\n",
       "      <td>-100</td>\n",
       "      <td>BUY</td>\n",
       "      <td>66.858998</td>\n",
       "    </tr>\n",
       "  </tbody>\n",
       "</table>\n",
       "</div>"
      ],
      "text/plain": [
       "         CDLHARAMI ChannelBreakoutIndicator        RSI\n",
       "RELIANCE      -100                      BUY  66.858998"
      ]
     },
     "execution_count": 3,
     "metadata": {},
     "output_type": "execute_result"
    }
   ],
   "source": [
    "shortlisted = pandas.DataFrame(tickerShortlist).transpose()\n",
    "shortlisted[\"signalCount\"] = [row.count() for index, row in shortlisted.iterrows()]\n",
    "shortlisted = shortlisted.sort_values(by='signalCount', ascending=False).drop(['signalCount'], axis=1)\n",
    "shortlisted"
   ]
  },
  {
   "cell_type": "code",
   "execution_count": null,
   "id": "e7d7f93b",
   "metadata": {},
   "outputs": [
    {
     "name": "stdout",
     "output_type": "stream",
     "text": [
      "{'CDLHARAMI': -100, 'ChannelBreakoutIndicator': 'BUY', 'RSI': 66.85899844556249}\n",
      "0.9320660390764998 0.9861452597409583\n"
     ]
    }
   ],
   "source": [
    "for ticker in shortlisted.index:\n",
    "    print(tickerShortlist[ticker])\n",
    "    i = tickerShortlistData[ticker][\"CBI\"]\n",
    "    i.showIndicator(len(i.df.index)-1, 40)"
   ]
  },
  {
   "cell_type": "code",
   "execution_count": 5,
   "id": "70c233bd",
   "metadata": {},
   "outputs": [
    {
     "name": "stdout",
     "output_type": "stream",
     "text": [
      "{'CDLHARAMI': -100, 'ChannelBreakoutIndicator': 'BUY', 'RSI': 66.85899844556249}\n"
     ]
    },
    {
     "data": {
      "application/vnd.plotly.v1+json": {
       "config": {
        "plotlyServerURL": "https://plot.ly"
       },
       "data": [
        {
         "close": [
          2351.95,
          2356.05,
          2336.65,
          2323.35,
          2378.1,
          2431.95,
          2430.05,
          2440.2,
          2414.4,
          2434.1,
          2378.9,
          2367.5,
          2383.7,
          2367.85,
          2322.55,
          2343.9,
          2326.05,
          2385.4,
          2408.7,
          2417.35,
          2359.25,
          2322.7,
          2284.5,
          2275.95,
          2237.05,
          2225.9,
          2223.1,
          2201.25,
          2269.7,
          2276.6,
          2247.8,
          2203.3,
          2237.55,
          2248,
          2234.7,
          2331.05,
          2331.45,
          2325.85,
          2341.45,
          2324.85,
          2336.35,
          2346.65,
          2355.5,
          2367.45,
          2340.35,
          2352,
          2346.05,
          2349,
          2358,
          2376.05,
          2362.1,
          2377.05,
          2420.5,
          2441.05,
          2420.1,
          2448,
          2441.75,
          2471.9,
          2479.55,
          2496.6,
          2480.3,
          2484.35,
          2489.25,
          2453.8,
          2439.3,
          2434.05,
          2441.95,
          2455,
          2454.55,
          2440.25,
          2439.95,
          2506.5,
          2520.6,
          2519.95,
          2469.9,
          2463.25,
          2455.2,
          2477.25,
          2479.35,
          2498.15,
          2499.65,
          2481.95,
          2484.15,
          2520.85,
          2551.85,
          2552.55,
          2577.4,
          2551.8,
          2557.1,
          2564.3,
          2535.5,
          2514.75,
          2495.55,
          2496.45,
          2529.5,
          2550.25,
          2615.7,
          2588.75,
          2584.5,
          2638.75,
          2633.6
         ],
         "high": [
          2359.9,
          2370.85,
          2354.9,
          2350,
          2381.9,
          2437.2,
          2463.8,
          2447.5,
          2449.75,
          2446.8,
          2430,
          2394.75,
          2396.15,
          2389.65,
          2367,
          2345.5,
          2351.65,
          2393.45,
          2424.6,
          2419,
          2416.9,
          2344,
          2344,
          2304.95,
          2298.3,
          2254,
          2251.95,
          2220,
          2274,
          2291.45,
          2269.9,
          2250,
          2254,
          2256.5,
          2244.8,
          2343.45,
          2349,
          2348,
          2354,
          2350.4,
          2341,
          2367.8,
          2365.8,
          2424.95,
          2377,
          2357.9,
          2359,
          2361,
          2380.9,
          2380.6,
          2386.1,
          2384,
          2423.9,
          2445.8,
          2445,
          2452.85,
          2461.35,
          2483.65,
          2486.8,
          2499.85,
          2509.5,
          2487.4,
          2504.55,
          2499.6,
          2465,
          2457,
          2445.95,
          2466,
          2468,
          2464,
          2449,
          2509,
          2530,
          2537.7,
          2509.85,
          2484.9,
          2482.85,
          2483.75,
          2487.7,
          2500,
          2516.85,
          2508.55,
          2489.2,
          2523.45,
          2555,
          2562.55,
          2582.4,
          2584,
          2564,
          2569.85,
          2573.3,
          2533.4,
          2515.4,
          2509.5,
          2537.85,
          2556.65,
          2622,
          2625,
          2609,
          2644.45,
          2664.95
         ],
         "low": [
          2307,
          2334,
          2321.3,
          2313.55,
          2323.65,
          2373,
          2425.05,
          2410.6,
          2410.1,
          2412.35,
          2375.05,
          2361.35,
          2368,
          2351.7,
          2313.65,
          2323.25,
          2321.6,
          2341.55,
          2400,
          2385,
          2355.1,
          2315.05,
          2275,
          2269.05,
          2227.4,
          2202.2,
          2212.7,
          2180,
          2217,
          2270,
          2243.05,
          2198,
          2200.2,
          2237,
          2211.1,
          2254.7,
          2315,
          2308.55,
          2318.15,
          2321.55,
          2324.05,
          2330.05,
          2342,
          2349.05,
          2326,
          2332.2,
          2332.1,
          2336.4,
          2348,
          2350.5,
          2354.05,
          2364,
          2381.75,
          2428.1,
          2413.05,
          2414.6,
          2436,
          2444.15,
          2463.25,
          2481.2,
          2476.55,
          2456.5,
          2473.15,
          2450.15,
          2429,
          2427.15,
          2418.85,
          2432.35,
          2451.45,
          2433.45,
          2416.05,
          2450.75,
          2507.2,
          2514.35,
          2461,
          2458,
          2451,
          2458.45,
          2462,
          2472.6,
          2491,
          2478,
          2465,
          2486.25,
          2517,
          2535.5,
          2560.2,
          2542.65,
          2535,
          2548,
          2532,
          2512,
          2488.7,
          2486.65,
          2497.85,
          2533.45,
          2555.35,
          2573.25,
          2575.8,
          2576.05,
          2628
         ],
         "open": [
          2313,
          2353.45,
          2354.9,
          2340.2,
          2329.95,
          2376,
          2449.45,
          2420,
          2445,
          2424,
          2425.95,
          2378,
          2372,
          2382,
          2356.1,
          2344,
          2337,
          2349.15,
          2400,
          2408.7,
          2416,
          2341.5,
          2329,
          2280,
          2284.1,
          2243,
          2244.75,
          2215,
          2218.95,
          2285,
          2268,
          2245.25,
          2217.5,
          2245,
          2239,
          2255,
          2345,
          2348,
          2318.15,
          2350,
          2334,
          2336.35,
          2353,
          2424.95,
          2377,
          2339.05,
          2354.1,
          2350.65,
          2375,
          2366,
          2379,
          2375,
          2382,
          2436.2,
          2445,
          2421.15,
          2441,
          2450,
          2475,
          2490,
          2498.95,
          2469.8,
          2489.9,
          2494,
          2463,
          2449.55,
          2434.05,
          2435,
          2460.65,
          2445.9,
          2433.9,
          2458,
          2521,
          2520.6,
          2500,
          2480.15,
          2471,
          2467.2,
          2483.45,
          2487,
          2506,
          2507,
          2475.5,
          2495,
          2521,
          2551.8,
          2560.2,
          2584,
          2547.55,
          2557,
          2556,
          2528.9,
          2507,
          2496.55,
          2513,
          2546.4,
          2558.05,
          2625,
          2609,
          2576.05,
          2635
         ],
         "type": "candlestick",
         "x": [
          145,
          146,
          147,
          148,
          149,
          150,
          151,
          152,
          153,
          154,
          155,
          156,
          157,
          158,
          159,
          160,
          161,
          162,
          163,
          164,
          165,
          166,
          167,
          168,
          169,
          170,
          171,
          172,
          173,
          174,
          175,
          176,
          177,
          178,
          179,
          180,
          181,
          182,
          183,
          184,
          185,
          186,
          187,
          188,
          189,
          190,
          191,
          192,
          193,
          194,
          195,
          196,
          197,
          198,
          199,
          200,
          201,
          202,
          203,
          204,
          205,
          206,
          207,
          208,
          209,
          210,
          211,
          212,
          213,
          214,
          215,
          216,
          217,
          218,
          219,
          220,
          221,
          222,
          223,
          224,
          225,
          226,
          227,
          228,
          229,
          230,
          231,
          232,
          233,
          234,
          235,
          236,
          237,
          238,
          239,
          240,
          241,
          242,
          243,
          244,
          245
         ]
        },
        {
         "marker": {
          "color": "Black",
          "size": 7,
          "symbol": "hexagram"
         },
         "mode": "markers",
         "name": "signal",
         "type": "scatter",
         "x": [
          145,
          146,
          147,
          148,
          149,
          150,
          151,
          152,
          153,
          154,
          155,
          156,
          157,
          158,
          159,
          160,
          161,
          162,
          163,
          164,
          165,
          166,
          167,
          168,
          169,
          170,
          171,
          172,
          173,
          174,
          175,
          176,
          177,
          178,
          179,
          180,
          181,
          182,
          183,
          184,
          185,
          186,
          187,
          188,
          189,
          190,
          191,
          192,
          193,
          194,
          195,
          196,
          197,
          198,
          199,
          200,
          201,
          202,
          203,
          204,
          205,
          206,
          207,
          208,
          209,
          210,
          211,
          212,
          213,
          214,
          215,
          216,
          217,
          218,
          219,
          220,
          221,
          222,
          223,
          224,
          225,
          226,
          227,
          228,
          229,
          230,
          231,
          232,
          233,
          234,
          235,
          236,
          237,
          238,
          239,
          240,
          241,
          242,
          243,
          244,
          245
         ],
         "y": [
          null,
          null,
          null,
          null,
          null,
          null,
          null,
          null,
          null,
          null,
          null,
          null,
          null,
          null,
          null,
          null,
          null,
          null,
          null,
          null,
          null,
          null,
          null,
          null,
          null,
          null,
          null,
          null,
          null,
          null,
          null,
          null,
          null,
          null,
          null,
          2352.325,
          null,
          null,
          null,
          null,
          null,
          null,
          null,
          null,
          null,
          null,
          null,
          null,
          null,
          null,
          null,
          null,
          null,
          null,
          null,
          null,
          null,
          null,
          null,
          null,
          null,
          null,
          null,
          2445.205,
          null,
          null,
          null,
          null,
          null,
          null,
          null,
          null,
          null,
          null,
          null,
          null,
          null,
          null,
          null,
          null,
          null,
          null,
          null,
          null,
          null,
          null,
          null,
          null,
          null,
          null,
          null,
          null,
          null,
          null,
          null,
          null,
          null,
          null,
          null,
          null,
          null
         ]
        }
       ],
       "layout": {
        "shapes": [
         {
          "layer": "below",
          "line": {
           "color": "blue"
          },
          "type": "line",
          "x0": 143,
          "x1": 248,
          "xref": "x",
          "y0": 2525.7,
          "y1": 2525.7,
          "yref": "y"
         },
         {
          "layer": "below",
          "line": {
           "color": "blue"
          },
          "type": "line",
          "x0": 143,
          "x1": 248,
          "xref": "x",
          "y0": 2311,
          "y1": 2311,
          "yref": "y"
         },
         {
          "layer": "below",
          "line": {
           "color": "blue"
          },
          "type": "line",
          "x0": 143,
          "x1": 248,
          "xref": "x",
          "y0": 2343.1,
          "y1": 2343.1,
          "yref": "y"
         },
         {
          "layer": "below",
          "line": {
           "color": "blue"
          },
          "type": "line",
          "x0": 143,
          "x1": 248,
          "xref": "x",
          "y0": 2432.8,
          "y1": 2432.8,
          "yref": "y"
         },
         {
          "layer": "below",
          "line": {
           "color": "blue"
          },
          "type": "line",
          "x0": 143,
          "x1": 248,
          "xref": "x",
          "y0": 2502,
          "y1": 2502,
          "yref": "y"
         },
         {
          "layer": "below",
          "line": {
           "color": "blue"
          },
          "type": "line",
          "x0": 143,
          "x1": 248,
          "xref": "x",
          "y0": 2293,
          "y1": 2293,
          "yref": "y"
         },
         {
          "layer": "below",
          "line": {
           "color": "blue"
          },
          "type": "line",
          "x0": 143,
          "x1": 248,
          "xref": "x",
          "y0": 2180,
          "y1": 2180,
          "yref": "y"
         },
         {
          "layer": "below",
          "line": {
           "color": "blue"
          },
          "type": "line",
          "x0": 143,
          "x1": 248,
          "xref": "x",
          "y0": 2416.05,
          "y1": 2416.05,
          "yref": "y"
         },
         {
          "layer": "below",
          "line": {
           "color": "blue"
          },
          "type": "line",
          "x0": 143,
          "x1": 248,
          "xref": "x",
          "y0": 2486.65,
          "y1": 2486.65,
          "yref": "y"
         },
         {
          "layer": "below",
          "line": {
           "color": "blue"
          },
          "type": "line",
          "x0": 143,
          "x1": 248,
          "xref": "x",
          "y0": 2542.5,
          "y1": 2542.5,
          "yref": "y"
         },
         {
          "layer": "below",
          "line": {
           "color": "blue"
          },
          "type": "line",
          "x0": 143,
          "x1": 248,
          "xref": "x",
          "y0": 2676.9,
          "y1": 2676.9,
          "yref": "y"
         },
         {
          "layer": "below",
          "line": {
           "color": "blue"
          },
          "type": "line",
          "x0": 143,
          "x1": 248,
          "xref": "x",
          "y0": 2629.7,
          "y1": 2629.7,
          "yref": "y"
         },
         {
          "layer": "below",
          "line": {
           "color": "blue"
          },
          "type": "line",
          "x0": 143,
          "x1": 248,
          "xref": "x",
          "y0": 2450,
          "y1": 2450,
          "yref": "y"
         },
         {
          "layer": "below",
          "line": {
           "color": "blue"
          },
          "type": "line",
          "x0": 143,
          "x1": 248,
          "xref": "x",
          "y0": 2527.85,
          "y1": 2527.85,
          "yref": "y"
         },
         {
          "layer": "below",
          "line": {
           "color": "blue"
          },
          "type": "line",
          "x0": 143,
          "x1": 248,
          "xref": "x",
          "y0": 2642,
          "y1": 2642,
          "yref": "y"
         },
         {
          "layer": "below",
          "line": {
           "color": "blue"
          },
          "type": "line",
          "x0": 143,
          "x1": 248,
          "xref": "x",
          "y0": 2606,
          "y1": 2606,
          "yref": "y"
         },
         {
          "layer": "below",
          "line": {
           "color": "blue"
          },
          "type": "line",
          "x0": 143,
          "x1": 248,
          "xref": "x",
          "y0": 2463.8,
          "y1": 2463.8,
          "yref": "y"
         },
         {
          "layer": "below",
          "line": {
           "color": "blue"
          },
          "type": "line",
          "x0": 143,
          "x1": 248,
          "xref": "x",
          "y0": 2424.6,
          "y1": 2424.6,
          "yref": "y"
         },
         {
          "layer": "below",
          "line": {
           "color": "blue"
          },
          "type": "line",
          "x0": 143,
          "x1": 248,
          "xref": "x",
          "y0": 2509.5,
          "y1": 2509.5,
          "yref": "y"
         },
         {
          "layer": "below",
          "line": {
           "color": "blue"
          },
          "type": "line",
          "x0": 143,
          "x1": 248,
          "xref": "x",
          "y0": 2537.7,
          "y1": 2537.7,
          "yref": "y"
         },
         {
          "layer": "below",
          "line": {
           "color": "blue"
          },
          "type": "line",
          "x0": 143,
          "x1": 248,
          "xref": "x",
          "y0": 2584,
          "y1": 2584,
          "yref": "y"
         }
        ],
        "template": {
         "data": {
          "bar": [
           {
            "error_x": {
             "color": "#2a3f5f"
            },
            "error_y": {
             "color": "#2a3f5f"
            },
            "marker": {
             "line": {
              "color": "#E5ECF6",
              "width": 0.5
             },
             "pattern": {
              "fillmode": "overlay",
              "size": 10,
              "solidity": 0.2
             }
            },
            "type": "bar"
           }
          ],
          "barpolar": [
           {
            "marker": {
             "line": {
              "color": "#E5ECF6",
              "width": 0.5
             },
             "pattern": {
              "fillmode": "overlay",
              "size": 10,
              "solidity": 0.2
             }
            },
            "type": "barpolar"
           }
          ],
          "carpet": [
           {
            "aaxis": {
             "endlinecolor": "#2a3f5f",
             "gridcolor": "white",
             "linecolor": "white",
             "minorgridcolor": "white",
             "startlinecolor": "#2a3f5f"
            },
            "baxis": {
             "endlinecolor": "#2a3f5f",
             "gridcolor": "white",
             "linecolor": "white",
             "minorgridcolor": "white",
             "startlinecolor": "#2a3f5f"
            },
            "type": "carpet"
           }
          ],
          "choropleth": [
           {
            "colorbar": {
             "outlinewidth": 0,
             "ticks": ""
            },
            "type": "choropleth"
           }
          ],
          "contour": [
           {
            "colorbar": {
             "outlinewidth": 0,
             "ticks": ""
            },
            "colorscale": [
             [
              0,
              "#0d0887"
             ],
             [
              0.1111111111111111,
              "#46039f"
             ],
             [
              0.2222222222222222,
              "#7201a8"
             ],
             [
              0.3333333333333333,
              "#9c179e"
             ],
             [
              0.4444444444444444,
              "#bd3786"
             ],
             [
              0.5555555555555556,
              "#d8576b"
             ],
             [
              0.6666666666666666,
              "#ed7953"
             ],
             [
              0.7777777777777778,
              "#fb9f3a"
             ],
             [
              0.8888888888888888,
              "#fdca26"
             ],
             [
              1,
              "#f0f921"
             ]
            ],
            "type": "contour"
           }
          ],
          "contourcarpet": [
           {
            "colorbar": {
             "outlinewidth": 0,
             "ticks": ""
            },
            "type": "contourcarpet"
           }
          ],
          "heatmap": [
           {
            "colorbar": {
             "outlinewidth": 0,
             "ticks": ""
            },
            "colorscale": [
             [
              0,
              "#0d0887"
             ],
             [
              0.1111111111111111,
              "#46039f"
             ],
             [
              0.2222222222222222,
              "#7201a8"
             ],
             [
              0.3333333333333333,
              "#9c179e"
             ],
             [
              0.4444444444444444,
              "#bd3786"
             ],
             [
              0.5555555555555556,
              "#d8576b"
             ],
             [
              0.6666666666666666,
              "#ed7953"
             ],
             [
              0.7777777777777778,
              "#fb9f3a"
             ],
             [
              0.8888888888888888,
              "#fdca26"
             ],
             [
              1,
              "#f0f921"
             ]
            ],
            "type": "heatmap"
           }
          ],
          "heatmapgl": [
           {
            "colorbar": {
             "outlinewidth": 0,
             "ticks": ""
            },
            "colorscale": [
             [
              0,
              "#0d0887"
             ],
             [
              0.1111111111111111,
              "#46039f"
             ],
             [
              0.2222222222222222,
              "#7201a8"
             ],
             [
              0.3333333333333333,
              "#9c179e"
             ],
             [
              0.4444444444444444,
              "#bd3786"
             ],
             [
              0.5555555555555556,
              "#d8576b"
             ],
             [
              0.6666666666666666,
              "#ed7953"
             ],
             [
              0.7777777777777778,
              "#fb9f3a"
             ],
             [
              0.8888888888888888,
              "#fdca26"
             ],
             [
              1,
              "#f0f921"
             ]
            ],
            "type": "heatmapgl"
           }
          ],
          "histogram": [
           {
            "marker": {
             "pattern": {
              "fillmode": "overlay",
              "size": 10,
              "solidity": 0.2
             }
            },
            "type": "histogram"
           }
          ],
          "histogram2d": [
           {
            "colorbar": {
             "outlinewidth": 0,
             "ticks": ""
            },
            "colorscale": [
             [
              0,
              "#0d0887"
             ],
             [
              0.1111111111111111,
              "#46039f"
             ],
             [
              0.2222222222222222,
              "#7201a8"
             ],
             [
              0.3333333333333333,
              "#9c179e"
             ],
             [
              0.4444444444444444,
              "#bd3786"
             ],
             [
              0.5555555555555556,
              "#d8576b"
             ],
             [
              0.6666666666666666,
              "#ed7953"
             ],
             [
              0.7777777777777778,
              "#fb9f3a"
             ],
             [
              0.8888888888888888,
              "#fdca26"
             ],
             [
              1,
              "#f0f921"
             ]
            ],
            "type": "histogram2d"
           }
          ],
          "histogram2dcontour": [
           {
            "colorbar": {
             "outlinewidth": 0,
             "ticks": ""
            },
            "colorscale": [
             [
              0,
              "#0d0887"
             ],
             [
              0.1111111111111111,
              "#46039f"
             ],
             [
              0.2222222222222222,
              "#7201a8"
             ],
             [
              0.3333333333333333,
              "#9c179e"
             ],
             [
              0.4444444444444444,
              "#bd3786"
             ],
             [
              0.5555555555555556,
              "#d8576b"
             ],
             [
              0.6666666666666666,
              "#ed7953"
             ],
             [
              0.7777777777777778,
              "#fb9f3a"
             ],
             [
              0.8888888888888888,
              "#fdca26"
             ],
             [
              1,
              "#f0f921"
             ]
            ],
            "type": "histogram2dcontour"
           }
          ],
          "mesh3d": [
           {
            "colorbar": {
             "outlinewidth": 0,
             "ticks": ""
            },
            "type": "mesh3d"
           }
          ],
          "parcoords": [
           {
            "line": {
             "colorbar": {
              "outlinewidth": 0,
              "ticks": ""
             }
            },
            "type": "parcoords"
           }
          ],
          "pie": [
           {
            "automargin": true,
            "type": "pie"
           }
          ],
          "scatter": [
           {
            "fillpattern": {
             "fillmode": "overlay",
             "size": 10,
             "solidity": 0.2
            },
            "type": "scatter"
           }
          ],
          "scatter3d": [
           {
            "line": {
             "colorbar": {
              "outlinewidth": 0,
              "ticks": ""
             }
            },
            "marker": {
             "colorbar": {
              "outlinewidth": 0,
              "ticks": ""
             }
            },
            "type": "scatter3d"
           }
          ],
          "scattercarpet": [
           {
            "marker": {
             "colorbar": {
              "outlinewidth": 0,
              "ticks": ""
             }
            },
            "type": "scattercarpet"
           }
          ],
          "scattergeo": [
           {
            "marker": {
             "colorbar": {
              "outlinewidth": 0,
              "ticks": ""
             }
            },
            "type": "scattergeo"
           }
          ],
          "scattergl": [
           {
            "marker": {
             "colorbar": {
              "outlinewidth": 0,
              "ticks": ""
             }
            },
            "type": "scattergl"
           }
          ],
          "scattermapbox": [
           {
            "marker": {
             "colorbar": {
              "outlinewidth": 0,
              "ticks": ""
             }
            },
            "type": "scattermapbox"
           }
          ],
          "scatterpolar": [
           {
            "marker": {
             "colorbar": {
              "outlinewidth": 0,
              "ticks": ""
             }
            },
            "type": "scatterpolar"
           }
          ],
          "scatterpolargl": [
           {
            "marker": {
             "colorbar": {
              "outlinewidth": 0,
              "ticks": ""
             }
            },
            "type": "scatterpolargl"
           }
          ],
          "scatterternary": [
           {
            "marker": {
             "colorbar": {
              "outlinewidth": 0,
              "ticks": ""
             }
            },
            "type": "scatterternary"
           }
          ],
          "surface": [
           {
            "colorbar": {
             "outlinewidth": 0,
             "ticks": ""
            },
            "colorscale": [
             [
              0,
              "#0d0887"
             ],
             [
              0.1111111111111111,
              "#46039f"
             ],
             [
              0.2222222222222222,
              "#7201a8"
             ],
             [
              0.3333333333333333,
              "#9c179e"
             ],
             [
              0.4444444444444444,
              "#bd3786"
             ],
             [
              0.5555555555555556,
              "#d8576b"
             ],
             [
              0.6666666666666666,
              "#ed7953"
             ],
             [
              0.7777777777777778,
              "#fb9f3a"
             ],
             [
              0.8888888888888888,
              "#fdca26"
             ],
             [
              1,
              "#f0f921"
             ]
            ],
            "type": "surface"
           }
          ],
          "table": [
           {
            "cells": {
             "fill": {
              "color": "#EBF0F8"
             },
             "line": {
              "color": "white"
             }
            },
            "header": {
             "fill": {
              "color": "#C8D4E3"
             },
             "line": {
              "color": "white"
             }
            },
            "type": "table"
           }
          ]
         },
         "layout": {
          "annotationdefaults": {
           "arrowcolor": "#2a3f5f",
           "arrowhead": 0,
           "arrowwidth": 1
          },
          "autotypenumbers": "strict",
          "coloraxis": {
           "colorbar": {
            "outlinewidth": 0,
            "ticks": ""
           }
          },
          "colorscale": {
           "diverging": [
            [
             0,
             "#8e0152"
            ],
            [
             0.1,
             "#c51b7d"
            ],
            [
             0.2,
             "#de77ae"
            ],
            [
             0.3,
             "#f1b6da"
            ],
            [
             0.4,
             "#fde0ef"
            ],
            [
             0.5,
             "#f7f7f7"
            ],
            [
             0.6,
             "#e6f5d0"
            ],
            [
             0.7,
             "#b8e186"
            ],
            [
             0.8,
             "#7fbc41"
            ],
            [
             0.9,
             "#4d9221"
            ],
            [
             1,
             "#276419"
            ]
           ],
           "sequential": [
            [
             0,
             "#0d0887"
            ],
            [
             0.1111111111111111,
             "#46039f"
            ],
            [
             0.2222222222222222,
             "#7201a8"
            ],
            [
             0.3333333333333333,
             "#9c179e"
            ],
            [
             0.4444444444444444,
             "#bd3786"
            ],
            [
             0.5555555555555556,
             "#d8576b"
            ],
            [
             0.6666666666666666,
             "#ed7953"
            ],
            [
             0.7777777777777778,
             "#fb9f3a"
            ],
            [
             0.8888888888888888,
             "#fdca26"
            ],
            [
             1,
             "#f0f921"
            ]
           ],
           "sequentialminus": [
            [
             0,
             "#0d0887"
            ],
            [
             0.1111111111111111,
             "#46039f"
            ],
            [
             0.2222222222222222,
             "#7201a8"
            ],
            [
             0.3333333333333333,
             "#9c179e"
            ],
            [
             0.4444444444444444,
             "#bd3786"
            ],
            [
             0.5555555555555556,
             "#d8576b"
            ],
            [
             0.6666666666666666,
             "#ed7953"
            ],
            [
             0.7777777777777778,
             "#fb9f3a"
            ],
            [
             0.8888888888888888,
             "#fdca26"
            ],
            [
             1,
             "#f0f921"
            ]
           ]
          },
          "colorway": [
           "#636efa",
           "#EF553B",
           "#00cc96",
           "#ab63fa",
           "#FFA15A",
           "#19d3f3",
           "#FF6692",
           "#B6E880",
           "#FF97FF",
           "#FECB52"
          ],
          "font": {
           "color": "#2a3f5f"
          },
          "geo": {
           "bgcolor": "white",
           "lakecolor": "white",
           "landcolor": "#E5ECF6",
           "showlakes": true,
           "showland": true,
           "subunitcolor": "white"
          },
          "hoverlabel": {
           "align": "left"
          },
          "hovermode": "closest",
          "mapbox": {
           "style": "light"
          },
          "paper_bgcolor": "white",
          "plot_bgcolor": "#E5ECF6",
          "polar": {
           "angularaxis": {
            "gridcolor": "white",
            "linecolor": "white",
            "ticks": ""
           },
           "bgcolor": "#E5ECF6",
           "radialaxis": {
            "gridcolor": "white",
            "linecolor": "white",
            "ticks": ""
           }
          },
          "scene": {
           "xaxis": {
            "backgroundcolor": "#E5ECF6",
            "gridcolor": "white",
            "gridwidth": 2,
            "linecolor": "white",
            "showbackground": true,
            "ticks": "",
            "zerolinecolor": "white"
           },
           "yaxis": {
            "backgroundcolor": "#E5ECF6",
            "gridcolor": "white",
            "gridwidth": 2,
            "linecolor": "white",
            "showbackground": true,
            "ticks": "",
            "zerolinecolor": "white"
           },
           "zaxis": {
            "backgroundcolor": "#E5ECF6",
            "gridcolor": "white",
            "gridwidth": 2,
            "linecolor": "white",
            "showbackground": true,
            "ticks": "",
            "zerolinecolor": "white"
           }
          },
          "shapedefaults": {
           "line": {
            "color": "#2a3f5f"
           }
          },
          "ternary": {
           "aaxis": {
            "gridcolor": "white",
            "linecolor": "white",
            "ticks": ""
           },
           "baxis": {
            "gridcolor": "white",
            "linecolor": "white",
            "ticks": ""
           },
           "bgcolor": "#E5ECF6",
           "caxis": {
            "gridcolor": "white",
            "linecolor": "white",
            "ticks": ""
           }
          },
          "title": {
           "x": 0.05
          },
          "xaxis": {
           "automargin": true,
           "gridcolor": "white",
           "linecolor": "white",
           "ticks": "",
           "title": {
            "standoff": 15
           },
           "zerolinecolor": "white",
           "zerolinewidth": 2
          },
          "yaxis": {
           "automargin": true,
           "gridcolor": "white",
           "linecolor": "white",
           "ticks": "",
           "title": {
            "standoff": 15
           },
           "zerolinecolor": "white",
           "zerolinewidth": 2
          }
         }
        },
        "title": {
         "font": {
          "size": 18
         },
         "text": "RELIANCE"
        }
       }
      },
      "text/html": [
       "<div>                            <div id=\"877aafe0-60ee-4bb3-80ae-8361882743a5\" class=\"plotly-graph-div\" style=\"height:525px; width:100%;\"></div>            <script type=\"text/javascript\">                require([\"plotly\"], function(Plotly) {                    window.PLOTLYENV=window.PLOTLYENV || {};                                    if (document.getElementById(\"877aafe0-60ee-4bb3-80ae-8361882743a5\")) {                    Plotly.newPlot(                        \"877aafe0-60ee-4bb3-80ae-8361882743a5\",                        [{\"close\":[2351.95,2356.05,2336.65,2323.35,2378.1,2431.95,2430.05,2440.2,2414.4,2434.1,2378.9,2367.5,2383.7,2367.85,2322.55,2343.9,2326.05,2385.4,2408.7,2417.35,2359.25,2322.7,2284.5,2275.95,2237.05,2225.9,2223.1,2201.25,2269.7,2276.6,2247.8,2203.3,2237.55,2248.0,2234.7,2331.05,2331.45,2325.85,2341.45,2324.85,2336.35,2346.65,2355.5,2367.45,2340.35,2352.0,2346.05,2349.0,2358.0,2376.05,2362.1,2377.05,2420.5,2441.05,2420.1,2448.0,2441.75,2471.9,2479.55,2496.6,2480.3,2484.35,2489.25,2453.8,2439.3,2434.05,2441.95,2455.0,2454.55,2440.25,2439.95,2506.5,2520.6,2519.95,2469.9,2463.25,2455.2,2477.25,2479.35,2498.15,2499.65,2481.95,2484.15,2520.85,2551.85,2552.55,2577.4,2551.8,2557.1,2564.3,2535.5,2514.75,2495.55,2496.45,2529.5,2550.25,2615.7,2588.75,2584.5,2638.75,2633.6],\"high\":[2359.9,2370.85,2354.9,2350.0,2381.9,2437.2,2463.8,2447.5,2449.75,2446.8,2430.0,2394.75,2396.15,2389.65,2367.0,2345.5,2351.65,2393.45,2424.6,2419.0,2416.9,2344.0,2344.0,2304.95,2298.3,2254.0,2251.95,2220.0,2274.0,2291.45,2269.9,2250.0,2254.0,2256.5,2244.8,2343.45,2349.0,2348.0,2354.0,2350.4,2341.0,2367.8,2365.8,2424.95,2377.0,2357.9,2359.0,2361.0,2380.9,2380.6,2386.1,2384.0,2423.9,2445.8,2445.0,2452.85,2461.35,2483.65,2486.8,2499.85,2509.5,2487.4,2504.55,2499.6,2465.0,2457.0,2445.95,2466.0,2468.0,2464.0,2449.0,2509.0,2530.0,2537.7,2509.85,2484.9,2482.85,2483.75,2487.7,2500.0,2516.85,2508.55,2489.2,2523.45,2555.0,2562.55,2582.4,2584.0,2564.0,2569.85,2573.3,2533.4,2515.4,2509.5,2537.85,2556.65,2622.0,2625.0,2609.0,2644.45,2664.95],\"low\":[2307.0,2334.0,2321.3,2313.55,2323.65,2373.0,2425.05,2410.6,2410.1,2412.35,2375.05,2361.35,2368.0,2351.7,2313.65,2323.25,2321.6,2341.55,2400.0,2385.0,2355.1,2315.05,2275.0,2269.05,2227.4,2202.2,2212.7,2180.0,2217.0,2270.0,2243.05,2198.0,2200.2,2237.0,2211.1,2254.7,2315.0,2308.55,2318.15,2321.55,2324.05,2330.05,2342.0,2349.05,2326.0,2332.2,2332.1,2336.4,2348.0,2350.5,2354.05,2364.0,2381.75,2428.1,2413.05,2414.6,2436.0,2444.15,2463.25,2481.2,2476.55,2456.5,2473.15,2450.15,2429.0,2427.15,2418.85,2432.35,2451.45,2433.45,2416.05,2450.75,2507.2,2514.35,2461.0,2458.0,2451.0,2458.45,2462.0,2472.6,2491.0,2478.0,2465.0,2486.25,2517.0,2535.5,2560.2,2542.65,2535.0,2548.0,2532.0,2512.0,2488.7,2486.65,2497.85,2533.45,2555.35,2573.25,2575.8,2576.05,2628.0],\"open\":[2313.0,2353.45,2354.9,2340.2,2329.95,2376.0,2449.45,2420.0,2445.0,2424.0,2425.95,2378.0,2372.0,2382.0,2356.1,2344.0,2337.0,2349.15,2400.0,2408.7,2416.0,2341.5,2329.0,2280.0,2284.1,2243.0,2244.75,2215.0,2218.95,2285.0,2268.0,2245.25,2217.5,2245.0,2239.0,2255.0,2345.0,2348.0,2318.15,2350.0,2334.0,2336.35,2353.0,2424.95,2377.0,2339.05,2354.1,2350.65,2375.0,2366.0,2379.0,2375.0,2382.0,2436.2,2445.0,2421.15,2441.0,2450.0,2475.0,2490.0,2498.95,2469.8,2489.9,2494.0,2463.0,2449.55,2434.05,2435.0,2460.65,2445.9,2433.9,2458.0,2521.0,2520.6,2500.0,2480.15,2471.0,2467.2,2483.45,2487.0,2506.0,2507.0,2475.5,2495.0,2521.0,2551.8,2560.2,2584.0,2547.55,2557.0,2556.0,2528.9,2507.0,2496.55,2513.0,2546.4,2558.05,2625.0,2609.0,2576.05,2635.0],\"x\":[145,146,147,148,149,150,151,152,153,154,155,156,157,158,159,160,161,162,163,164,165,166,167,168,169,170,171,172,173,174,175,176,177,178,179,180,181,182,183,184,185,186,187,188,189,190,191,192,193,194,195,196,197,198,199,200,201,202,203,204,205,206,207,208,209,210,211,212,213,214,215,216,217,218,219,220,221,222,223,224,225,226,227,228,229,230,231,232,233,234,235,236,237,238,239,240,241,242,243,244,245],\"type\":\"candlestick\"},{\"marker\":{\"color\":\"Black\",\"size\":7,\"symbol\":\"hexagram\"},\"mode\":\"markers\",\"name\":\"signal\",\"x\":[145,146,147,148,149,150,151,152,153,154,155,156,157,158,159,160,161,162,163,164,165,166,167,168,169,170,171,172,173,174,175,176,177,178,179,180,181,182,183,184,185,186,187,188,189,190,191,192,193,194,195,196,197,198,199,200,201,202,203,204,205,206,207,208,209,210,211,212,213,214,215,216,217,218,219,220,221,222,223,224,225,226,227,228,229,230,231,232,233,234,235,236,237,238,239,240,241,242,243,244,245],\"y\":[null,null,null,null,null,null,null,null,null,null,null,null,null,null,null,null,null,null,null,null,null,null,null,null,null,null,null,null,null,null,null,null,null,null,null,2352.325,null,null,null,null,null,null,null,null,null,null,null,null,null,null,null,null,null,null,null,null,null,null,null,null,null,null,null,2445.205,null,null,null,null,null,null,null,null,null,null,null,null,null,null,null,null,null,null,null,null,null,null,null,null,null,null,null,null,null,null,null,null,null,null,null,null,null],\"type\":\"scatter\"}],                        {\"template\":{\"data\":{\"histogram2dcontour\":[{\"type\":\"histogram2dcontour\",\"colorbar\":{\"outlinewidth\":0,\"ticks\":\"\"},\"colorscale\":[[0.0,\"#0d0887\"],[0.1111111111111111,\"#46039f\"],[0.2222222222222222,\"#7201a8\"],[0.3333333333333333,\"#9c179e\"],[0.4444444444444444,\"#bd3786\"],[0.5555555555555556,\"#d8576b\"],[0.6666666666666666,\"#ed7953\"],[0.7777777777777778,\"#fb9f3a\"],[0.8888888888888888,\"#fdca26\"],[1.0,\"#f0f921\"]]}],\"choropleth\":[{\"type\":\"choropleth\",\"colorbar\":{\"outlinewidth\":0,\"ticks\":\"\"}}],\"histogram2d\":[{\"type\":\"histogram2d\",\"colorbar\":{\"outlinewidth\":0,\"ticks\":\"\"},\"colorscale\":[[0.0,\"#0d0887\"],[0.1111111111111111,\"#46039f\"],[0.2222222222222222,\"#7201a8\"],[0.3333333333333333,\"#9c179e\"],[0.4444444444444444,\"#bd3786\"],[0.5555555555555556,\"#d8576b\"],[0.6666666666666666,\"#ed7953\"],[0.7777777777777778,\"#fb9f3a\"],[0.8888888888888888,\"#fdca26\"],[1.0,\"#f0f921\"]]}],\"heatmap\":[{\"type\":\"heatmap\",\"colorbar\":{\"outlinewidth\":0,\"ticks\":\"\"},\"colorscale\":[[0.0,\"#0d0887\"],[0.1111111111111111,\"#46039f\"],[0.2222222222222222,\"#7201a8\"],[0.3333333333333333,\"#9c179e\"],[0.4444444444444444,\"#bd3786\"],[0.5555555555555556,\"#d8576b\"],[0.6666666666666666,\"#ed7953\"],[0.7777777777777778,\"#fb9f3a\"],[0.8888888888888888,\"#fdca26\"],[1.0,\"#f0f921\"]]}],\"heatmapgl\":[{\"type\":\"heatmapgl\",\"colorbar\":{\"outlinewidth\":0,\"ticks\":\"\"},\"colorscale\":[[0.0,\"#0d0887\"],[0.1111111111111111,\"#46039f\"],[0.2222222222222222,\"#7201a8\"],[0.3333333333333333,\"#9c179e\"],[0.4444444444444444,\"#bd3786\"],[0.5555555555555556,\"#d8576b\"],[0.6666666666666666,\"#ed7953\"],[0.7777777777777778,\"#fb9f3a\"],[0.8888888888888888,\"#fdca26\"],[1.0,\"#f0f921\"]]}],\"contourcarpet\":[{\"type\":\"contourcarpet\",\"colorbar\":{\"outlinewidth\":0,\"ticks\":\"\"}}],\"contour\":[{\"type\":\"contour\",\"colorbar\":{\"outlinewidth\":0,\"ticks\":\"\"},\"colorscale\":[[0.0,\"#0d0887\"],[0.1111111111111111,\"#46039f\"],[0.2222222222222222,\"#7201a8\"],[0.3333333333333333,\"#9c179e\"],[0.4444444444444444,\"#bd3786\"],[0.5555555555555556,\"#d8576b\"],[0.6666666666666666,\"#ed7953\"],[0.7777777777777778,\"#fb9f3a\"],[0.8888888888888888,\"#fdca26\"],[1.0,\"#f0f921\"]]}],\"surface\":[{\"type\":\"surface\",\"colorbar\":{\"outlinewidth\":0,\"ticks\":\"\"},\"colorscale\":[[0.0,\"#0d0887\"],[0.1111111111111111,\"#46039f\"],[0.2222222222222222,\"#7201a8\"],[0.3333333333333333,\"#9c179e\"],[0.4444444444444444,\"#bd3786\"],[0.5555555555555556,\"#d8576b\"],[0.6666666666666666,\"#ed7953\"],[0.7777777777777778,\"#fb9f3a\"],[0.8888888888888888,\"#fdca26\"],[1.0,\"#f0f921\"]]}],\"mesh3d\":[{\"type\":\"mesh3d\",\"colorbar\":{\"outlinewidth\":0,\"ticks\":\"\"}}],\"scatter\":[{\"fillpattern\":{\"fillmode\":\"overlay\",\"size\":10,\"solidity\":0.2},\"type\":\"scatter\"}],\"parcoords\":[{\"type\":\"parcoords\",\"line\":{\"colorbar\":{\"outlinewidth\":0,\"ticks\":\"\"}}}],\"scatterpolargl\":[{\"type\":\"scatterpolargl\",\"marker\":{\"colorbar\":{\"outlinewidth\":0,\"ticks\":\"\"}}}],\"bar\":[{\"error_x\":{\"color\":\"#2a3f5f\"},\"error_y\":{\"color\":\"#2a3f5f\"},\"marker\":{\"line\":{\"color\":\"#E5ECF6\",\"width\":0.5},\"pattern\":{\"fillmode\":\"overlay\",\"size\":10,\"solidity\":0.2}},\"type\":\"bar\"}],\"scattergeo\":[{\"type\":\"scattergeo\",\"marker\":{\"colorbar\":{\"outlinewidth\":0,\"ticks\":\"\"}}}],\"scatterpolar\":[{\"type\":\"scatterpolar\",\"marker\":{\"colorbar\":{\"outlinewidth\":0,\"ticks\":\"\"}}}],\"histogram\":[{\"marker\":{\"pattern\":{\"fillmode\":\"overlay\",\"size\":10,\"solidity\":0.2}},\"type\":\"histogram\"}],\"scattergl\":[{\"type\":\"scattergl\",\"marker\":{\"colorbar\":{\"outlinewidth\":0,\"ticks\":\"\"}}}],\"scatter3d\":[{\"type\":\"scatter3d\",\"line\":{\"colorbar\":{\"outlinewidth\":0,\"ticks\":\"\"}},\"marker\":{\"colorbar\":{\"outlinewidth\":0,\"ticks\":\"\"}}}],\"scattermapbox\":[{\"type\":\"scattermapbox\",\"marker\":{\"colorbar\":{\"outlinewidth\":0,\"ticks\":\"\"}}}],\"scatterternary\":[{\"type\":\"scatterternary\",\"marker\":{\"colorbar\":{\"outlinewidth\":0,\"ticks\":\"\"}}}],\"scattercarpet\":[{\"type\":\"scattercarpet\",\"marker\":{\"colorbar\":{\"outlinewidth\":0,\"ticks\":\"\"}}}],\"carpet\":[{\"aaxis\":{\"endlinecolor\":\"#2a3f5f\",\"gridcolor\":\"white\",\"linecolor\":\"white\",\"minorgridcolor\":\"white\",\"startlinecolor\":\"#2a3f5f\"},\"baxis\":{\"endlinecolor\":\"#2a3f5f\",\"gridcolor\":\"white\",\"linecolor\":\"white\",\"minorgridcolor\":\"white\",\"startlinecolor\":\"#2a3f5f\"},\"type\":\"carpet\"}],\"table\":[{\"cells\":{\"fill\":{\"color\":\"#EBF0F8\"},\"line\":{\"color\":\"white\"}},\"header\":{\"fill\":{\"color\":\"#C8D4E3\"},\"line\":{\"color\":\"white\"}},\"type\":\"table\"}],\"barpolar\":[{\"marker\":{\"line\":{\"color\":\"#E5ECF6\",\"width\":0.5},\"pattern\":{\"fillmode\":\"overlay\",\"size\":10,\"solidity\":0.2}},\"type\":\"barpolar\"}],\"pie\":[{\"automargin\":true,\"type\":\"pie\"}]},\"layout\":{\"autotypenumbers\":\"strict\",\"colorway\":[\"#636efa\",\"#EF553B\",\"#00cc96\",\"#ab63fa\",\"#FFA15A\",\"#19d3f3\",\"#FF6692\",\"#B6E880\",\"#FF97FF\",\"#FECB52\"],\"font\":{\"color\":\"#2a3f5f\"},\"hovermode\":\"closest\",\"hoverlabel\":{\"align\":\"left\"},\"paper_bgcolor\":\"white\",\"plot_bgcolor\":\"#E5ECF6\",\"polar\":{\"bgcolor\":\"#E5ECF6\",\"angularaxis\":{\"gridcolor\":\"white\",\"linecolor\":\"white\",\"ticks\":\"\"},\"radialaxis\":{\"gridcolor\":\"white\",\"linecolor\":\"white\",\"ticks\":\"\"}},\"ternary\":{\"bgcolor\":\"#E5ECF6\",\"aaxis\":{\"gridcolor\":\"white\",\"linecolor\":\"white\",\"ticks\":\"\"},\"baxis\":{\"gridcolor\":\"white\",\"linecolor\":\"white\",\"ticks\":\"\"},\"caxis\":{\"gridcolor\":\"white\",\"linecolor\":\"white\",\"ticks\":\"\"}},\"coloraxis\":{\"colorbar\":{\"outlinewidth\":0,\"ticks\":\"\"}},\"colorscale\":{\"sequential\":[[0.0,\"#0d0887\"],[0.1111111111111111,\"#46039f\"],[0.2222222222222222,\"#7201a8\"],[0.3333333333333333,\"#9c179e\"],[0.4444444444444444,\"#bd3786\"],[0.5555555555555556,\"#d8576b\"],[0.6666666666666666,\"#ed7953\"],[0.7777777777777778,\"#fb9f3a\"],[0.8888888888888888,\"#fdca26\"],[1.0,\"#f0f921\"]],\"sequentialminus\":[[0.0,\"#0d0887\"],[0.1111111111111111,\"#46039f\"],[0.2222222222222222,\"#7201a8\"],[0.3333333333333333,\"#9c179e\"],[0.4444444444444444,\"#bd3786\"],[0.5555555555555556,\"#d8576b\"],[0.6666666666666666,\"#ed7953\"],[0.7777777777777778,\"#fb9f3a\"],[0.8888888888888888,\"#fdca26\"],[1.0,\"#f0f921\"]],\"diverging\":[[0,\"#8e0152\"],[0.1,\"#c51b7d\"],[0.2,\"#de77ae\"],[0.3,\"#f1b6da\"],[0.4,\"#fde0ef\"],[0.5,\"#f7f7f7\"],[0.6,\"#e6f5d0\"],[0.7,\"#b8e186\"],[0.8,\"#7fbc41\"],[0.9,\"#4d9221\"],[1,\"#276419\"]]},\"xaxis\":{\"gridcolor\":\"white\",\"linecolor\":\"white\",\"ticks\":\"\",\"title\":{\"standoff\":15},\"zerolinecolor\":\"white\",\"automargin\":true,\"zerolinewidth\":2},\"yaxis\":{\"gridcolor\":\"white\",\"linecolor\":\"white\",\"ticks\":\"\",\"title\":{\"standoff\":15},\"zerolinecolor\":\"white\",\"automargin\":true,\"zerolinewidth\":2},\"scene\":{\"xaxis\":{\"backgroundcolor\":\"#E5ECF6\",\"gridcolor\":\"white\",\"linecolor\":\"white\",\"showbackground\":true,\"ticks\":\"\",\"zerolinecolor\":\"white\",\"gridwidth\":2},\"yaxis\":{\"backgroundcolor\":\"#E5ECF6\",\"gridcolor\":\"white\",\"linecolor\":\"white\",\"showbackground\":true,\"ticks\":\"\",\"zerolinecolor\":\"white\",\"gridwidth\":2},\"zaxis\":{\"backgroundcolor\":\"#E5ECF6\",\"gridcolor\":\"white\",\"linecolor\":\"white\",\"showbackground\":true,\"ticks\":\"\",\"zerolinecolor\":\"white\",\"gridwidth\":2}},\"shapedefaults\":{\"line\":{\"color\":\"#2a3f5f\"}},\"annotationdefaults\":{\"arrowcolor\":\"#2a3f5f\",\"arrowhead\":0,\"arrowwidth\":1},\"geo\":{\"bgcolor\":\"white\",\"landcolor\":\"#E5ECF6\",\"subunitcolor\":\"white\",\"showland\":true,\"showlakes\":true,\"lakecolor\":\"white\"},\"title\":{\"x\":0.05},\"mapbox\":{\"style\":\"light\"}}},\"shapes\":[{\"layer\":\"below\",\"line\":{\"color\":\"blue\"},\"type\":\"line\",\"x0\":143,\"x1\":248,\"xref\":\"x\",\"y0\":2525.7,\"y1\":2525.7,\"yref\":\"y\"},{\"layer\":\"below\",\"line\":{\"color\":\"blue\"},\"type\":\"line\",\"x0\":143,\"x1\":248,\"xref\":\"x\",\"y0\":2311.0,\"y1\":2311.0,\"yref\":\"y\"},{\"layer\":\"below\",\"line\":{\"color\":\"blue\"},\"type\":\"line\",\"x0\":143,\"x1\":248,\"xref\":\"x\",\"y0\":2343.1,\"y1\":2343.1,\"yref\":\"y\"},{\"layer\":\"below\",\"line\":{\"color\":\"blue\"},\"type\":\"line\",\"x0\":143,\"x1\":248,\"xref\":\"x\",\"y0\":2432.8,\"y1\":2432.8,\"yref\":\"y\"},{\"layer\":\"below\",\"line\":{\"color\":\"blue\"},\"type\":\"line\",\"x0\":143,\"x1\":248,\"xref\":\"x\",\"y0\":2502.0,\"y1\":2502.0,\"yref\":\"y\"},{\"layer\":\"below\",\"line\":{\"color\":\"blue\"},\"type\":\"line\",\"x0\":143,\"x1\":248,\"xref\":\"x\",\"y0\":2293.0,\"y1\":2293.0,\"yref\":\"y\"},{\"layer\":\"below\",\"line\":{\"color\":\"blue\"},\"type\":\"line\",\"x0\":143,\"x1\":248,\"xref\":\"x\",\"y0\":2180.0,\"y1\":2180.0,\"yref\":\"y\"},{\"layer\":\"below\",\"line\":{\"color\":\"blue\"},\"type\":\"line\",\"x0\":143,\"x1\":248,\"xref\":\"x\",\"y0\":2416.05,\"y1\":2416.05,\"yref\":\"y\"},{\"layer\":\"below\",\"line\":{\"color\":\"blue\"},\"type\":\"line\",\"x0\":143,\"x1\":248,\"xref\":\"x\",\"y0\":2486.65,\"y1\":2486.65,\"yref\":\"y\"},{\"layer\":\"below\",\"line\":{\"color\":\"blue\"},\"type\":\"line\",\"x0\":143,\"x1\":248,\"xref\":\"x\",\"y0\":2542.5,\"y1\":2542.5,\"yref\":\"y\"},{\"layer\":\"below\",\"line\":{\"color\":\"blue\"},\"type\":\"line\",\"x0\":143,\"x1\":248,\"xref\":\"x\",\"y0\":2676.9,\"y1\":2676.9,\"yref\":\"y\"},{\"layer\":\"below\",\"line\":{\"color\":\"blue\"},\"type\":\"line\",\"x0\":143,\"x1\":248,\"xref\":\"x\",\"y0\":2629.7,\"y1\":2629.7,\"yref\":\"y\"},{\"layer\":\"below\",\"line\":{\"color\":\"blue\"},\"type\":\"line\",\"x0\":143,\"x1\":248,\"xref\":\"x\",\"y0\":2450.0,\"y1\":2450.0,\"yref\":\"y\"},{\"layer\":\"below\",\"line\":{\"color\":\"blue\"},\"type\":\"line\",\"x0\":143,\"x1\":248,\"xref\":\"x\",\"y0\":2527.85,\"y1\":2527.85,\"yref\":\"y\"},{\"layer\":\"below\",\"line\":{\"color\":\"blue\"},\"type\":\"line\",\"x0\":143,\"x1\":248,\"xref\":\"x\",\"y0\":2642.0,\"y1\":2642.0,\"yref\":\"y\"},{\"layer\":\"below\",\"line\":{\"color\":\"blue\"},\"type\":\"line\",\"x0\":143,\"x1\":248,\"xref\":\"x\",\"y0\":2606.0,\"y1\":2606.0,\"yref\":\"y\"},{\"layer\":\"below\",\"line\":{\"color\":\"blue\"},\"type\":\"line\",\"x0\":143,\"x1\":248,\"xref\":\"x\",\"y0\":2463.8,\"y1\":2463.8,\"yref\":\"y\"},{\"layer\":\"below\",\"line\":{\"color\":\"blue\"},\"type\":\"line\",\"x0\":143,\"x1\":248,\"xref\":\"x\",\"y0\":2424.6,\"y1\":2424.6,\"yref\":\"y\"},{\"layer\":\"below\",\"line\":{\"color\":\"blue\"},\"type\":\"line\",\"x0\":143,\"x1\":248,\"xref\":\"x\",\"y0\":2509.5,\"y1\":2509.5,\"yref\":\"y\"},{\"layer\":\"below\",\"line\":{\"color\":\"blue\"},\"type\":\"line\",\"x0\":143,\"x1\":248,\"xref\":\"x\",\"y0\":2537.7,\"y1\":2537.7,\"yref\":\"y\"},{\"layer\":\"below\",\"line\":{\"color\":\"blue\"},\"type\":\"line\",\"x0\":143,\"x1\":248,\"xref\":\"x\",\"y0\":2584.0,\"y1\":2584.0,\"yref\":\"y\"}],\"title\":{\"font\":{\"size\":18},\"text\":\"RELIANCE\"}},                        {\"responsive\": true}                    ).then(function(){\n",
       "                            \n",
       "var gd = document.getElementById('877aafe0-60ee-4bb3-80ae-8361882743a5');\n",
       "var x = new MutationObserver(function (mutations, observer) {{\n",
       "        var display = window.getComputedStyle(gd).display;\n",
       "        if (!display || display === 'none') {{\n",
       "            console.log([gd, 'removed!']);\n",
       "            Plotly.purge(gd);\n",
       "            observer.disconnect();\n",
       "        }}\n",
       "}});\n",
       "\n",
       "// Listen for the removal of the full notebook cells\n",
       "var notebookContainer = gd.closest('#notebook-container');\n",
       "if (notebookContainer) {{\n",
       "    x.observe(notebookContainer, {childList: true});\n",
       "}}\n",
       "\n",
       "// Listen for the clearing of the current output cell\n",
       "var outputEl = gd.closest('.output');\n",
       "if (outputEl) {{\n",
       "    x.observe(outputEl, {childList: true});\n",
       "}}\n",
       "\n",
       "                        })                };                });            </script>        </div>"
      ]
     },
     "metadata": {},
     "output_type": "display_data"
    }
   ],
   "source": [
    "for ticker in shortlisted.index:\n",
    "    print(tickerShortlist[ticker])\n",
    "    i = tickerShortlistData[ticker][\"SRI\"]\n",
    "    i.showIndicator(len(i.df.index)-1)"
   ]
  }
 ],
 "metadata": {
  "kernelspec": {
   "display_name": "Python 3 (ipykernel)",
   "language": "python",
   "name": "python3"
  },
  "language_info": {
   "codemirror_mode": {
    "name": "ipython",
    "version": 3
   },
   "file_extension": ".py",
   "mimetype": "text/x-python",
   "name": "python",
   "nbconvert_exporter": "python",
   "pygments_lexer": "ipython3",
   "version": "3.10.10"
  }
 },
 "nbformat": 4,
 "nbformat_minor": 5
}
