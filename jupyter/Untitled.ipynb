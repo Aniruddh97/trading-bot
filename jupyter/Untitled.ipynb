{
 "cells": [
  {
   "cell_type": "code",
   "execution_count": 139,
   "id": "bb1aca66",
   "metadata": {},
   "outputs": [],
   "source": [
    "import yfinance as yf\n",
    "import pandas as pd\n",
    "import numpy as np\n",
    "import plotly.graph_objects as go\n",
    "from scipy import stats\n",
    "\n",
    "\n",
    "data = yf.download(\"ITC.NS\", period=\"5y\", interval=\"1d\", group_by=\"columns\", progress=False, ignore_tz=False)\n",
    "data.insert(loc=0, column=\"Date\", value=data.index)\n",
    "data.insert(loc=0, column=\"Index\", value=list(range(0,len(data[\"Open\"]))))\n",
    "df = data.set_index(\"Index\")"
   ]
  },
  {
   "cell_type": "code",
   "execution_count": 141,
   "id": "a1957d83",
   "metadata": {},
   "outputs": [],
   "source": [
    "class ChannelBreakoutIndicator:\n",
    "\n",
    "    def __init__(self, data):\n",
    "        self.window = 4\n",
    "        self.df = data\n",
    "\n",
    "\n",
    "    def isPivot(self, candleIndex):\n",
    "        \"\"\"\n",
    "        function that detects if a candle is a pivot/fractal point\n",
    "        args: candle index, window before and after candle to test if pivot\n",
    "        returns: 1 if pivot high, 2 if pivot low, 3 if both and 0 default\n",
    "        \"\"\"\n",
    "        if candleIndex-self.window < 0 or candleIndex+self.window >= len(self.df):\n",
    "            return 0\n",
    "        \n",
    "        pivotHigh = 1\n",
    "        pivotLow = 2\n",
    "        for i in range(candleIndex-self.window, candleIndex+self.window+1):\n",
    "            if self.df.iloc[candleIndex].Low > self.df.iloc[i].Low:\n",
    "                pivotLow=0\n",
    "            if self.df.iloc[candleIndex].High < self.df.iloc[i].High:\n",
    "                pivotHigh=0\n",
    "        if (pivotHigh and pivotLow):\n",
    "            return 3\n",
    "        elif pivotHigh:\n",
    "            return pivotHigh\n",
    "        elif pivotLow:\n",
    "            return pivotLow\n",
    "        else:\n",
    "            return 0\n",
    "    \n",
    "\n",
    "    def setPivotPoint(self):\n",
    "        self.df[\"isPivot\"] = [self.isPivot(candleIndex) for candleIndex in self.df.index]\n",
    "\n",
    "\n",
    "    def getPivotMarker(self, x):\n",
    "        markerDistance = (x[\"High\"]-x[\"Low\"])/10\n",
    "        if x[\"isPivot\"]==2:\n",
    "            return x[\"Low\"] - markerDistance\n",
    "        elif x[\"isPivot\"]==1:\n",
    "            return x[\"High\"] + markerDistance\n",
    "        else:\n",
    "            return np.nan\n",
    "    \n",
    "\n",
    "    def setPivotMarker(self):\n",
    "        self.df[\"pivotMarker\"] = [self.getPivotMarker(row) for index, row in self.df.iterrows()]\n",
    "        \n",
    "    \n",
    "    def showPivotMarkers(self, startIndex=0, endIndex=0):\n",
    "        if (endIndex<=startIndex or startIndex<0 or endIndex>=len(self.df)):\n",
    "            print(\"\\n Invalid startIndex or endIndex\")\n",
    "            \n",
    "        self.setPivotPoint()\n",
    "        self.setPivotMarker()\n",
    "        \n",
    "        dfSlice = self.df[startIndex:endIndex]\n",
    "        fig = go.Figure(data=[go.Candlestick(x=dfSlice.index,\n",
    "                        open=dfSlice[\"Open\"],\n",
    "                        high=dfSlice[\"High\"],\n",
    "                        low=dfSlice[\"Low\"],\n",
    "                        close=dfSlice[\"Close\"])])\n",
    "\n",
    "        fig.add_scatter(x=dfSlice.index, y=dfSlice[\"pivotMarker\"], mode=\"markers\",\n",
    "                        marker=dict(size=7, color=\"MediumPurple\"),\n",
    "                        name=\"pivotMarker\")\n",
    "        #fig.update_layout(xaxis_rangeslider_visible=False)\n",
    "        fig.show()\n",
    "\n",
    "\n",
    "    def getChannel(self, candleIndex, backCandles):\n",
    "        localdf = self.df[candleIndex-backCandles-self.window:candleIndex-self.window]\n",
    "        \n",
    "        highs = localdf[localdf[\"isPivot\"]==1].High.values\n",
    "        idxhighs = localdf[localdf[\"isPivot\"]==1].High.index\n",
    "        lows = localdf[localdf[\"isPivot\"]==2].Low.values\n",
    "        idxlows = localdf[localdf[\"isPivot\"]==2].Low.index\n",
    "        \n",
    "        if len(lows)>=2 and len(highs)>=2:\n",
    "            slopeLow, interceptLow, rValueLow, _, _ = stats.linregress(idxlows,lows)\n",
    "            slopeHigh, interceptHigh, rValueHigh, _, _ = stats.linregress(idxhighs,highs)\n",
    "        \n",
    "            return(slopeLow, interceptLow, slopeHigh, interceptHigh, rValueLow**2, rValueHigh**2)\n",
    "        else:\n",
    "            return(0,0,0,0,0,0)\n",
    "        \n",
    "\n",
    "    def showChannel(self, candleIndex, backCandles):\n",
    "\n",
    "        if (candleIndex-backCandles<0 or candleIndex>len(self.df)):\n",
    "            print(\"\\n Invalid candleIndex & backCandles combination\")\n",
    "            return\n",
    "\n",
    "        self.setPivotPoint()\n",
    "        self.setPivotMarker()\n",
    "\n",
    "        startIndex = candleIndex-backCandles\n",
    "        endIndex = candleIndex\n",
    "\n",
    "        # below code for better visualization\n",
    "        for _ in range(3):\n",
    "            if (startIndex-10>0):\n",
    "                startIndex -= 10\n",
    "            if (endIndex+10<=len(self.df)):\n",
    "                endIndex += 10\n",
    "        # above code for better visualization\n",
    "\n",
    "        dfSlice = self.df[startIndex:endIndex+1]\n",
    "        \n",
    "        fig = go.Figure(data=[go.Candlestick(x=dfSlice.index,\n",
    "                        open=dfSlice[\"Open\"],\n",
    "                        high=dfSlice[\"High\"],\n",
    "                        low=dfSlice[\"Low\"],\n",
    "                        close=dfSlice[\"Close\"])])\n",
    "\n",
    "        fig.add_scatter(x=dfSlice.index, y=dfSlice[\"pivotMarker\"], mode=\"markers\",\n",
    "                        marker=dict(size=5, color=\"MediumPurple\"),\n",
    "                        name=\"pivotMarker\")\n",
    "\n",
    "        slopeLow, interceptLow, slopeHigh, interceptHigh, rSqLow, rSqHigh = self.getChannel(candleIndex, backCandles)\n",
    "        print(rSqLow, rSqHigh)\n",
    "        x = np.array(range(candleIndex-backCandles-self.window, candleIndex+1))\n",
    "        fig.add_trace(go.Scatter(x=x, y=slopeLow*x + interceptLow, mode=\"lines\", name=\"lower slope\"))\n",
    "        fig.add_trace(go.Scatter(x=x, y=slopeHigh*x + interceptHigh, mode=\"lines\", name=\"max slope\"))\n",
    "        #fig.update_layout(xaxis_rangeslider_visible=False)\n",
    "        fig.show()\n",
    "\n",
    "        \n",
    "    def isBreakOut(self, candleIndex, backCandles):\n",
    "        if (candleIndex-backCandles-self.window)<0:\n",
    "            return 0\n",
    "        \n",
    "        slopeLow, interceptLow, slopeHigh, interceptHigh, rSqLow, rSqHigh = self.getChannel(candleIndex,backCandles)\n",
    "        \n",
    "        prev_idx = candleIndex-1\n",
    "        prev_high = self.df.iloc[candleIndex-1].High\n",
    "        prev_low = self.df.iloc[candleIndex-1].Low\n",
    "        prev_close = self.df.iloc[candleIndex-1].Close\n",
    "        \n",
    "        curr_idx = candleIndex\n",
    "        curr_high = self.df.iloc[candleIndex].High\n",
    "        curr_low = self.df.iloc[candleIndex].Low\n",
    "        curr_close = self.df.iloc[candleIndex].Close\n",
    "        curr_open = self.df.iloc[candleIndex].Open\n",
    "\n",
    "        # downward channel breakout\n",
    "        if ( prev_high > (slopeLow*prev_idx + interceptLow) and\n",
    "            prev_close < (slopeLow*prev_idx + interceptLow) and\n",
    "            curr_open < (slopeLow*curr_idx + interceptLow) and\n",
    "            curr_close < (slopeLow*prev_idx + interceptLow)): #and rSqLow > 0.9\n",
    "            return 1\n",
    "        \n",
    "        # upward channel breakout\n",
    "        elif ( prev_low < (slopeHigh*prev_idx + interceptHigh) and\n",
    "            prev_close > (slopeHigh*prev_idx + interceptHigh) and\n",
    "            curr_open > (slopeHigh*curr_idx + interceptHigh) and\n",
    "            curr_close > (slopeHigh*prev_idx + interceptHigh)): #and rSqHigh > 0.9\n",
    "            return 2\n",
    "        \n",
    "        else:\n",
    "            return 0\n",
    "\n",
    "\n",
    "    def getBreakoutMarker(self, x):\n",
    "        markerDistance = (x[\"High\"]-x[\"Low\"])/10\n",
    "        if x[\"isBreakout\"]==2:\n",
    "            return x[\"Low\"]-markerDistance\n",
    "        elif x[\"isBreakout\"]==1:\n",
    "            return x[\"High\"]+markerDistance\n",
    "        else:\n",
    "            return np.nan\n",
    "        \n",
    "\n",
    "    def setBreakoutPoint(self, backCandles):\n",
    "        self.df[\"isBreakout\"] = [self.isBreakOut(candle, backCandles) for candle in self.df.index]\n",
    "\n",
    "\n",
    "    def setBreakoutMarker(self):\n",
    "        self.df[\"breakoutMarker\"] = [self.getBreakoutMarker(row) for index, row in self.df.iterrows()]\n",
    "\n",
    "\n",
    "    def showIndicator(self, candleIndex, backCandles):\n",
    "        if (candleIndex-backCandles<0 or candleIndex>len(self.df)):\n",
    "            print(\"\\nInvalid candleIndex & backCandles combination\")\n",
    "            return\n",
    "\n",
    "        self.setPivotPoint()\n",
    "        self.setPivotMarker()\n",
    "        self.setBreakoutPoint(backCandles)\n",
    "        self.setBreakoutMarker()\n",
    "\n",
    "        startIndex = candleIndex-backCandles\n",
    "        endIndex = candleIndex\n",
    "\n",
    "        # below code for better visualization\n",
    "        for _ in range(3):\n",
    "            if (startIndex-5>0):\n",
    "                startIndex -= 5\n",
    "            if (endIndex+5<len(self.df)):\n",
    "                endIndex += 5\n",
    "        # above code for better visualization\n",
    "\n",
    "        dfSlice = self.df[startIndex:endIndex+1]\n",
    "\n",
    "        fig = go.Figure(data=[go.Candlestick(x=dfSlice.index,\n",
    "                        open=dfSlice[\"Open\"],\n",
    "                        high=dfSlice[\"High\"],\n",
    "                        low=dfSlice[\"Low\"],\n",
    "                        close=dfSlice[\"Close\"])])\n",
    "\n",
    "        fig.add_scatter(x=dfSlice.index, y=dfSlice[\"pivotMarker\"], mode=\"markers\",\n",
    "                        marker=dict(size=7, color=\"MediumPurple\"),\n",
    "                        name=\"pivot\")\n",
    "\n",
    "        fig.add_scatter(x=dfSlice.index, y=dfSlice[\"breakoutMarker\"], mode=\"markers\",\n",
    "                        marker=dict(size=7, color=\"Black\"), marker_symbol=\"hexagram\",\n",
    "                        name=\"breakout\")\n",
    "\n",
    "        slopeLow, interceptLow, slopeHigh, interceptHigh, rSqLow, rSqHigh = self.getChannel(candleIndex, backCandles)\n",
    "        print(rSqLow, rSqHigh)\n",
    "        x = np.array(range(candleIndex-backCandles-self.window, candleIndex+1))\n",
    "        fig.add_trace(go.Scatter(x=x, y=slopeLow*x + interceptLow, mode=\"lines\", name=\"lower slope\"))\n",
    "        fig.add_trace(go.Scatter(x=x, y=slopeHigh*x + interceptHigh, mode=\"lines\", name=\"max slope\"))\n",
    "        #fig.update_layout(xaxis_rangeslider_visible=False)\n",
    "        fig.show()"
   ]
  },
  {
   "cell_type": "code",
   "execution_count": 143,
   "id": "23a7f139",
   "metadata": {},
   "outputs": [
    {
     "name": "stdout",
     "output_type": "stream",
     "text": [
      "0.6831515758212614 1.0\n"
     ]
    },
    {
     "data": {
      "application/vnd.plotly.v1+json": {
       "config": {
        "plotlyServerURL": "https://plot.ly"
       },
       "data": [
        {
         "close": [
          412.25,
          416,
          425.54998779296875,
          424.45001220703125,
          427.1499938964844,
          424.6000061035156,
          428.75,
          431.45001220703125,
          423.79998779296875,
          425.3500061035156,
          420.3999938964844,
          420.45001220703125,
          427.79998779296875,
          423.95001220703125,
          427.6000061035156,
          419.70001220703125,
          419.8500061035156,
          424.75,
          429.1499938964844,
          433.5,
          441.1499938964844,
          443.6000061035156,
          449.1000061035156,
          449.8999938964844,
          445.5,
          439.70001220703125,
          443.3999938964844,
          440.6499938964844,
          442.79998779296875,
          443.95001220703125,
          442.8999938964844,
          438.45001220703125,
          436.95001220703125,
          445.3999938964844,
          444.5,
          448.1000061035156,
          453.1000061035156,
          453.6000061035156,
          452.8500061035156,
          447.04998779296875,
          447.6499938964844,
          444.75,
          445.70001220703125,
          445.1000061035156,
          451.6000061035156
         ],
         "high": [
          413,
          417.3999938964844,
          428.25,
          427,
          428.5,
          427,
          431.8999938964844,
          433.45001220703125,
          433.1499938964844,
          426.3500061035156,
          427.3999938964844,
          422.70001220703125,
          428.70001220703125,
          430,
          428.95001220703125,
          432.45001220703125,
          423.1000061035156,
          425.75,
          431.20001220703125,
          434.75,
          442.45001220703125,
          444.75,
          451.79998779296875,
          451.45001220703125,
          452,
          447,
          444.8999938964844,
          446.8500061035156,
          443.6000061035156,
          445.6499938964844,
          445.75,
          444.70001220703125,
          440.95001220703125,
          446.3999938964844,
          447.75,
          448.75,
          455.6000061035156,
          455.8999938964844,
          454.79998779296875,
          454.20001220703125,
          449.6499938964844,
          447.6499938964844,
          451.3999938964844,
          447.20001220703125,
          451.95001220703125
         ],
         "low": [
          409.04998779296875,
          411,
          413.70001220703125,
          421.20001220703125,
          422.04998779296875,
          424,
          424.3500061035156,
          429.3500061035156,
          421.5,
          422.20001220703125,
          418.8999938964844,
          416.04998779296875,
          419.04998779296875,
          423.5,
          422.6000061035156,
          418.1000061035156,
          411.3500061035156,
          419.1000061035156,
          424.20001220703125,
          427,
          434.79998779296875,
          439.5,
          444.1000061035156,
          441,
          442.45001220703125,
          439,
          439.79998779296875,
          440.1000061035156,
          440.3999938964844,
          442.75,
          441.8999938964844,
          435.1499938964844,
          433.8500061035156,
          438.29998779296875,
          443.75,
          444.75,
          447.8999938964844,
          452.25,
          450.1499938964844,
          445.04998779296875,
          445.8500061035156,
          442.70001220703125,
          444,
          443.1499938964844,
          446.6000061035156
         ],
         "open": [
          412,
          412.20001220703125,
          418,
          426,
          424,
          425.29998779296875,
          425.95001220703125,
          431,
          432.79998779296875,
          423.95001220703125,
          427.25,
          420.3999938964844,
          420,
          430,
          424.1499938964844,
          430,
          420.95001220703125,
          421.95001220703125,
          426,
          428.29998779296875,
          436.95001220703125,
          443.3999938964844,
          445,
          441,
          449.29998779296875,
          447,
          440,
          445,
          440.79998779296875,
          444,
          445.70001220703125,
          435.1499938964844,
          440,
          441,
          446.25,
          445,
          449,
          454.75,
          454.79998779296875,
          452,
          448,
          447.5,
          446.8999938964844,
          446.1000061035156,
          450
         ],
         "type": "candlestick",
         "x": [
          1188,
          1189,
          1190,
          1191,
          1192,
          1193,
          1194,
          1195,
          1196,
          1197,
          1198,
          1199,
          1200,
          1201,
          1202,
          1203,
          1204,
          1205,
          1206,
          1207,
          1208,
          1209,
          1210,
          1211,
          1212,
          1213,
          1214,
          1215,
          1216,
          1217,
          1218,
          1219,
          1220,
          1221,
          1222,
          1223,
          1224,
          1225,
          1226,
          1227,
          1228,
          1229,
          1230,
          1231,
          1232
         ]
        },
        {
         "marker": {
          "color": "MediumPurple",
          "size": 7
         },
         "mode": "markers",
         "name": "pivot",
         "type": "scatter",
         "x": [
          1188,
          1189,
          1190,
          1191,
          1192,
          1193,
          1194,
          1195,
          1196,
          1197,
          1198,
          1199,
          1200,
          1201,
          1202,
          1203,
          1204,
          1205,
          1206,
          1207,
          1208,
          1209,
          1210,
          1211,
          1212,
          1213,
          1214,
          1215,
          1216,
          1217,
          1218,
          1219,
          1220,
          1221,
          1222,
          1223,
          1224,
          1225,
          1226,
          1227,
          1228,
          1229,
          1230,
          1231,
          1232
         ],
         "y": [
          null,
          null,
          null,
          null,
          null,
          null,
          null,
          433.8600128173828,
          null,
          null,
          null,
          415.3849853515625,
          null,
          null,
          null,
          null,
          410.1750061035156,
          null,
          null,
          null,
          null,
          null,
          null,
          null,
          452.9549987792969,
          438.2,
          null,
          null,
          null,
          null,
          null,
          null,
          433.14000549316404,
          null,
          null,
          null,
          null,
          456.26499328613284,
          null,
          null,
          null,
          null,
          null,
          null,
          null
         ]
        },
        {
         "marker": {
          "color": "Black",
          "size": 7,
          "symbol": "hexagram"
         },
         "mode": "markers",
         "name": "breakout",
         "type": "scatter",
         "x": [
          1188,
          1189,
          1190,
          1191,
          1192,
          1193,
          1194,
          1195,
          1196,
          1197,
          1198,
          1199,
          1200,
          1201,
          1202,
          1203,
          1204,
          1205,
          1206,
          1207,
          1208,
          1209,
          1210,
          1211,
          1212,
          1213,
          1214,
          1215,
          1216,
          1217,
          1218,
          1219,
          1220,
          1221,
          1222,
          1223,
          1224,
          1225,
          1226,
          1227,
          1228,
          1229,
          1230,
          1231,
          1232
         ],
         "y": [
          null,
          null,
          null,
          null,
          null,
          null,
          null,
          null,
          null,
          null,
          null,
          null,
          null,
          null,
          null,
          null,
          null,
          null,
          null,
          null,
          null,
          null,
          null,
          null,
          null,
          null,
          null,
          null,
          null,
          null,
          null,
          445.65501403808594,
          null,
          null,
          null,
          null,
          null,
          null,
          null,
          null,
          null,
          null,
          null,
          447.6050140380859,
          null
         ]
        },
        {
         "mode": "lines",
         "name": "lower slope",
         "type": "scatter",
         "x": [
          1199,
          1200,
          1201,
          1202,
          1203,
          1204,
          1205,
          1206,
          1207,
          1208,
          1209,
          1210,
          1211,
          1212,
          1213,
          1214,
          1215,
          1216,
          1217,
          1218,
          1219,
          1220,
          1221,
          1222,
          1223,
          1224,
          1225,
          1226,
          1227,
          1228,
          1229,
          1230,
          1231,
          1232,
          1233
         ],
         "y": [
          413.18844814154954,
          414.37585332739445,
          415.5632585132396,
          416.7506636990847,
          417.93806888492963,
          419.12547407077477,
          420.3128792566199,
          421.5002844424648,
          422.68768962830995,
          423.8750948141551,
          425.0625,
          426.24990518584514,
          427.4373103716903,
          428.6247155575352,
          429.8121207433803,
          430.99952592922546,
          432.18693111507037,
          433.3743363009155,
          434.56174148676064,
          435.74914667260555,
          436.9365518584507,
          438.1239570442958,
          439.31136223014073,
          440.49876741598587,
          441.686172601831,
          442.8735777876759,
          444.06098297352105,
          445.2483881593662,
          446.4357933452111,
          447.62319853105623,
          448.81060371690137,
          449.9980089027463,
          451.1854140885914,
          452.37281927443655,
          453.56022446028146
         ]
        },
        {
         "mode": "lines",
         "name": "max slope",
         "type": "scatter",
         "x": [
          1199,
          1200,
          1201,
          1202,
          1203,
          1204,
          1205,
          1206,
          1207,
          1208,
          1209,
          1210,
          1211,
          1212,
          1213,
          1214,
          1215,
          1216,
          1217,
          1218,
          1219,
          1220,
          1221,
          1222,
          1223,
          1224,
          1225,
          1226,
          1227,
          1228,
          1229,
          1230,
          1231,
          1232,
          1233
         ],
         "y": [
          448.1000061035156,
          448.4000056340144,
          448.7000051645132,
          449.000004695012,
          449.3000042255108,
          449.6000037560096,
          449.9000032865084,
          450.2000028170072,
          450.500002347506,
          450.8000018780048,
          451.1000014085036,
          451.4000009390024,
          451.7000004695012,
          452,
          452.2999995304988,
          452.59999906099756,
          452.8999985914964,
          453.1999981219952,
          453.49999765249396,
          453.7999971829928,
          454.0999967134916,
          454.39999624399036,
          454.6999957744892,
          454.999995304988,
          455.29999483548676,
          455.5999943659856,
          455.8999938964844,
          456.19999342698316,
          456.49999295748194,
          456.7999924879808,
          457.09999201847955,
          457.39999154897833,
          457.6999910794772,
          457.99999060997595,
          458.29999014047473
         ]
        }
       ],
       "layout": {
        "template": {
         "data": {
          "bar": [
           {
            "error_x": {
             "color": "#2a3f5f"
            },
            "error_y": {
             "color": "#2a3f5f"
            },
            "marker": {
             "line": {
              "color": "#E5ECF6",
              "width": 0.5
             },
             "pattern": {
              "fillmode": "overlay",
              "size": 10,
              "solidity": 0.2
             }
            },
            "type": "bar"
           }
          ],
          "barpolar": [
           {
            "marker": {
             "line": {
              "color": "#E5ECF6",
              "width": 0.5
             },
             "pattern": {
              "fillmode": "overlay",
              "size": 10,
              "solidity": 0.2
             }
            },
            "type": "barpolar"
           }
          ],
          "carpet": [
           {
            "aaxis": {
             "endlinecolor": "#2a3f5f",
             "gridcolor": "white",
             "linecolor": "white",
             "minorgridcolor": "white",
             "startlinecolor": "#2a3f5f"
            },
            "baxis": {
             "endlinecolor": "#2a3f5f",
             "gridcolor": "white",
             "linecolor": "white",
             "minorgridcolor": "white",
             "startlinecolor": "#2a3f5f"
            },
            "type": "carpet"
           }
          ],
          "choropleth": [
           {
            "colorbar": {
             "outlinewidth": 0,
             "ticks": ""
            },
            "type": "choropleth"
           }
          ],
          "contour": [
           {
            "colorbar": {
             "outlinewidth": 0,
             "ticks": ""
            },
            "colorscale": [
             [
              0,
              "#0d0887"
             ],
             [
              0.1111111111111111,
              "#46039f"
             ],
             [
              0.2222222222222222,
              "#7201a8"
             ],
             [
              0.3333333333333333,
              "#9c179e"
             ],
             [
              0.4444444444444444,
              "#bd3786"
             ],
             [
              0.5555555555555556,
              "#d8576b"
             ],
             [
              0.6666666666666666,
              "#ed7953"
             ],
             [
              0.7777777777777778,
              "#fb9f3a"
             ],
             [
              0.8888888888888888,
              "#fdca26"
             ],
             [
              1,
              "#f0f921"
             ]
            ],
            "type": "contour"
           }
          ],
          "contourcarpet": [
           {
            "colorbar": {
             "outlinewidth": 0,
             "ticks": ""
            },
            "type": "contourcarpet"
           }
          ],
          "heatmap": [
           {
            "colorbar": {
             "outlinewidth": 0,
             "ticks": ""
            },
            "colorscale": [
             [
              0,
              "#0d0887"
             ],
             [
              0.1111111111111111,
              "#46039f"
             ],
             [
              0.2222222222222222,
              "#7201a8"
             ],
             [
              0.3333333333333333,
              "#9c179e"
             ],
             [
              0.4444444444444444,
              "#bd3786"
             ],
             [
              0.5555555555555556,
              "#d8576b"
             ],
             [
              0.6666666666666666,
              "#ed7953"
             ],
             [
              0.7777777777777778,
              "#fb9f3a"
             ],
             [
              0.8888888888888888,
              "#fdca26"
             ],
             [
              1,
              "#f0f921"
             ]
            ],
            "type": "heatmap"
           }
          ],
          "heatmapgl": [
           {
            "colorbar": {
             "outlinewidth": 0,
             "ticks": ""
            },
            "colorscale": [
             [
              0,
              "#0d0887"
             ],
             [
              0.1111111111111111,
              "#46039f"
             ],
             [
              0.2222222222222222,
              "#7201a8"
             ],
             [
              0.3333333333333333,
              "#9c179e"
             ],
             [
              0.4444444444444444,
              "#bd3786"
             ],
             [
              0.5555555555555556,
              "#d8576b"
             ],
             [
              0.6666666666666666,
              "#ed7953"
             ],
             [
              0.7777777777777778,
              "#fb9f3a"
             ],
             [
              0.8888888888888888,
              "#fdca26"
             ],
             [
              1,
              "#f0f921"
             ]
            ],
            "type": "heatmapgl"
           }
          ],
          "histogram": [
           {
            "marker": {
             "pattern": {
              "fillmode": "overlay",
              "size": 10,
              "solidity": 0.2
             }
            },
            "type": "histogram"
           }
          ],
          "histogram2d": [
           {
            "colorbar": {
             "outlinewidth": 0,
             "ticks": ""
            },
            "colorscale": [
             [
              0,
              "#0d0887"
             ],
             [
              0.1111111111111111,
              "#46039f"
             ],
             [
              0.2222222222222222,
              "#7201a8"
             ],
             [
              0.3333333333333333,
              "#9c179e"
             ],
             [
              0.4444444444444444,
              "#bd3786"
             ],
             [
              0.5555555555555556,
              "#d8576b"
             ],
             [
              0.6666666666666666,
              "#ed7953"
             ],
             [
              0.7777777777777778,
              "#fb9f3a"
             ],
             [
              0.8888888888888888,
              "#fdca26"
             ],
             [
              1,
              "#f0f921"
             ]
            ],
            "type": "histogram2d"
           }
          ],
          "histogram2dcontour": [
           {
            "colorbar": {
             "outlinewidth": 0,
             "ticks": ""
            },
            "colorscale": [
             [
              0,
              "#0d0887"
             ],
             [
              0.1111111111111111,
              "#46039f"
             ],
             [
              0.2222222222222222,
              "#7201a8"
             ],
             [
              0.3333333333333333,
              "#9c179e"
             ],
             [
              0.4444444444444444,
              "#bd3786"
             ],
             [
              0.5555555555555556,
              "#d8576b"
             ],
             [
              0.6666666666666666,
              "#ed7953"
             ],
             [
              0.7777777777777778,
              "#fb9f3a"
             ],
             [
              0.8888888888888888,
              "#fdca26"
             ],
             [
              1,
              "#f0f921"
             ]
            ],
            "type": "histogram2dcontour"
           }
          ],
          "mesh3d": [
           {
            "colorbar": {
             "outlinewidth": 0,
             "ticks": ""
            },
            "type": "mesh3d"
           }
          ],
          "parcoords": [
           {
            "line": {
             "colorbar": {
              "outlinewidth": 0,
              "ticks": ""
             }
            },
            "type": "parcoords"
           }
          ],
          "pie": [
           {
            "automargin": true,
            "type": "pie"
           }
          ],
          "scatter": [
           {
            "fillpattern": {
             "fillmode": "overlay",
             "size": 10,
             "solidity": 0.2
            },
            "type": "scatter"
           }
          ],
          "scatter3d": [
           {
            "line": {
             "colorbar": {
              "outlinewidth": 0,
              "ticks": ""
             }
            },
            "marker": {
             "colorbar": {
              "outlinewidth": 0,
              "ticks": ""
             }
            },
            "type": "scatter3d"
           }
          ],
          "scattercarpet": [
           {
            "marker": {
             "colorbar": {
              "outlinewidth": 0,
              "ticks": ""
             }
            },
            "type": "scattercarpet"
           }
          ],
          "scattergeo": [
           {
            "marker": {
             "colorbar": {
              "outlinewidth": 0,
              "ticks": ""
             }
            },
            "type": "scattergeo"
           }
          ],
          "scattergl": [
           {
            "marker": {
             "colorbar": {
              "outlinewidth": 0,
              "ticks": ""
             }
            },
            "type": "scattergl"
           }
          ],
          "scattermapbox": [
           {
            "marker": {
             "colorbar": {
              "outlinewidth": 0,
              "ticks": ""
             }
            },
            "type": "scattermapbox"
           }
          ],
          "scatterpolar": [
           {
            "marker": {
             "colorbar": {
              "outlinewidth": 0,
              "ticks": ""
             }
            },
            "type": "scatterpolar"
           }
          ],
          "scatterpolargl": [
           {
            "marker": {
             "colorbar": {
              "outlinewidth": 0,
              "ticks": ""
             }
            },
            "type": "scatterpolargl"
           }
          ],
          "scatterternary": [
           {
            "marker": {
             "colorbar": {
              "outlinewidth": 0,
              "ticks": ""
             }
            },
            "type": "scatterternary"
           }
          ],
          "surface": [
           {
            "colorbar": {
             "outlinewidth": 0,
             "ticks": ""
            },
            "colorscale": [
             [
              0,
              "#0d0887"
             ],
             [
              0.1111111111111111,
              "#46039f"
             ],
             [
              0.2222222222222222,
              "#7201a8"
             ],
             [
              0.3333333333333333,
              "#9c179e"
             ],
             [
              0.4444444444444444,
              "#bd3786"
             ],
             [
              0.5555555555555556,
              "#d8576b"
             ],
             [
              0.6666666666666666,
              "#ed7953"
             ],
             [
              0.7777777777777778,
              "#fb9f3a"
             ],
             [
              0.8888888888888888,
              "#fdca26"
             ],
             [
              1,
              "#f0f921"
             ]
            ],
            "type": "surface"
           }
          ],
          "table": [
           {
            "cells": {
             "fill": {
              "color": "#EBF0F8"
             },
             "line": {
              "color": "white"
             }
            },
            "header": {
             "fill": {
              "color": "#C8D4E3"
             },
             "line": {
              "color": "white"
             }
            },
            "type": "table"
           }
          ]
         },
         "layout": {
          "annotationdefaults": {
           "arrowcolor": "#2a3f5f",
           "arrowhead": 0,
           "arrowwidth": 1
          },
          "autotypenumbers": "strict",
          "coloraxis": {
           "colorbar": {
            "outlinewidth": 0,
            "ticks": ""
           }
          },
          "colorscale": {
           "diverging": [
            [
             0,
             "#8e0152"
            ],
            [
             0.1,
             "#c51b7d"
            ],
            [
             0.2,
             "#de77ae"
            ],
            [
             0.3,
             "#f1b6da"
            ],
            [
             0.4,
             "#fde0ef"
            ],
            [
             0.5,
             "#f7f7f7"
            ],
            [
             0.6,
             "#e6f5d0"
            ],
            [
             0.7,
             "#b8e186"
            ],
            [
             0.8,
             "#7fbc41"
            ],
            [
             0.9,
             "#4d9221"
            ],
            [
             1,
             "#276419"
            ]
           ],
           "sequential": [
            [
             0,
             "#0d0887"
            ],
            [
             0.1111111111111111,
             "#46039f"
            ],
            [
             0.2222222222222222,
             "#7201a8"
            ],
            [
             0.3333333333333333,
             "#9c179e"
            ],
            [
             0.4444444444444444,
             "#bd3786"
            ],
            [
             0.5555555555555556,
             "#d8576b"
            ],
            [
             0.6666666666666666,
             "#ed7953"
            ],
            [
             0.7777777777777778,
             "#fb9f3a"
            ],
            [
             0.8888888888888888,
             "#fdca26"
            ],
            [
             1,
             "#f0f921"
            ]
           ],
           "sequentialminus": [
            [
             0,
             "#0d0887"
            ],
            [
             0.1111111111111111,
             "#46039f"
            ],
            [
             0.2222222222222222,
             "#7201a8"
            ],
            [
             0.3333333333333333,
             "#9c179e"
            ],
            [
             0.4444444444444444,
             "#bd3786"
            ],
            [
             0.5555555555555556,
             "#d8576b"
            ],
            [
             0.6666666666666666,
             "#ed7953"
            ],
            [
             0.7777777777777778,
             "#fb9f3a"
            ],
            [
             0.8888888888888888,
             "#fdca26"
            ],
            [
             1,
             "#f0f921"
            ]
           ]
          },
          "colorway": [
           "#636efa",
           "#EF553B",
           "#00cc96",
           "#ab63fa",
           "#FFA15A",
           "#19d3f3",
           "#FF6692",
           "#B6E880",
           "#FF97FF",
           "#FECB52"
          ],
          "font": {
           "color": "#2a3f5f"
          },
          "geo": {
           "bgcolor": "white",
           "lakecolor": "white",
           "landcolor": "#E5ECF6",
           "showlakes": true,
           "showland": true,
           "subunitcolor": "white"
          },
          "hoverlabel": {
           "align": "left"
          },
          "hovermode": "closest",
          "mapbox": {
           "style": "light"
          },
          "paper_bgcolor": "white",
          "plot_bgcolor": "#E5ECF6",
          "polar": {
           "angularaxis": {
            "gridcolor": "white",
            "linecolor": "white",
            "ticks": ""
           },
           "bgcolor": "#E5ECF6",
           "radialaxis": {
            "gridcolor": "white",
            "linecolor": "white",
            "ticks": ""
           }
          },
          "scene": {
           "xaxis": {
            "backgroundcolor": "#E5ECF6",
            "gridcolor": "white",
            "gridwidth": 2,
            "linecolor": "white",
            "showbackground": true,
            "ticks": "",
            "zerolinecolor": "white"
           },
           "yaxis": {
            "backgroundcolor": "#E5ECF6",
            "gridcolor": "white",
            "gridwidth": 2,
            "linecolor": "white",
            "showbackground": true,
            "ticks": "",
            "zerolinecolor": "white"
           },
           "zaxis": {
            "backgroundcolor": "#E5ECF6",
            "gridcolor": "white",
            "gridwidth": 2,
            "linecolor": "white",
            "showbackground": true,
            "ticks": "",
            "zerolinecolor": "white"
           }
          },
          "shapedefaults": {
           "line": {
            "color": "#2a3f5f"
           }
          },
          "ternary": {
           "aaxis": {
            "gridcolor": "white",
            "linecolor": "white",
            "ticks": ""
           },
           "baxis": {
            "gridcolor": "white",
            "linecolor": "white",
            "ticks": ""
           },
           "bgcolor": "#E5ECF6",
           "caxis": {
            "gridcolor": "white",
            "linecolor": "white",
            "ticks": ""
           }
          },
          "title": {
           "x": 0.05
          },
          "xaxis": {
           "automargin": true,
           "gridcolor": "white",
           "linecolor": "white",
           "ticks": "",
           "title": {
            "standoff": 15
           },
           "zerolinecolor": "white",
           "zerolinewidth": 2
          },
          "yaxis": {
           "automargin": true,
           "gridcolor": "white",
           "linecolor": "white",
           "ticks": "",
           "title": {
            "standoff": 15
           },
           "zerolinecolor": "white",
           "zerolinewidth": 2
          }
         }
        }
       }
      },
      "text/html": [
       "<div>                            <div id=\"5b46147e-a35d-4603-9115-763e17e62731\" class=\"plotly-graph-div\" style=\"height:525px; width:100%;\"></div>            <script type=\"text/javascript\">                require([\"plotly\"], function(Plotly) {                    window.PLOTLYENV=window.PLOTLYENV || {};                                    if (document.getElementById(\"5b46147e-a35d-4603-9115-763e17e62731\")) {                    Plotly.newPlot(                        \"5b46147e-a35d-4603-9115-763e17e62731\",                        [{\"close\":[412.25,416.0,425.54998779296875,424.45001220703125,427.1499938964844,424.6000061035156,428.75,431.45001220703125,423.79998779296875,425.3500061035156,420.3999938964844,420.45001220703125,427.79998779296875,423.95001220703125,427.6000061035156,419.70001220703125,419.8500061035156,424.75,429.1499938964844,433.5,441.1499938964844,443.6000061035156,449.1000061035156,449.8999938964844,445.5,439.70001220703125,443.3999938964844,440.6499938964844,442.79998779296875,443.95001220703125,442.8999938964844,438.45001220703125,436.95001220703125,445.3999938964844,444.5,448.1000061035156,453.1000061035156,453.6000061035156,452.8500061035156,447.04998779296875,447.6499938964844,444.75,445.70001220703125,445.1000061035156,451.6000061035156],\"high\":[413.0,417.3999938964844,428.25,427.0,428.5,427.0,431.8999938964844,433.45001220703125,433.1499938964844,426.3500061035156,427.3999938964844,422.70001220703125,428.70001220703125,430.0,428.95001220703125,432.45001220703125,423.1000061035156,425.75,431.20001220703125,434.75,442.45001220703125,444.75,451.79998779296875,451.45001220703125,452.0,447.0,444.8999938964844,446.8500061035156,443.6000061035156,445.6499938964844,445.75,444.70001220703125,440.95001220703125,446.3999938964844,447.75,448.75,455.6000061035156,455.8999938964844,454.79998779296875,454.20001220703125,449.6499938964844,447.6499938964844,451.3999938964844,447.20001220703125,451.95001220703125],\"low\":[409.04998779296875,411.0,413.70001220703125,421.20001220703125,422.04998779296875,424.0,424.3500061035156,429.3500061035156,421.5,422.20001220703125,418.8999938964844,416.04998779296875,419.04998779296875,423.5,422.6000061035156,418.1000061035156,411.3500061035156,419.1000061035156,424.20001220703125,427.0,434.79998779296875,439.5,444.1000061035156,441.0,442.45001220703125,439.0,439.79998779296875,440.1000061035156,440.3999938964844,442.75,441.8999938964844,435.1499938964844,433.8500061035156,438.29998779296875,443.75,444.75,447.8999938964844,452.25,450.1499938964844,445.04998779296875,445.8500061035156,442.70001220703125,444.0,443.1499938964844,446.6000061035156],\"open\":[412.0,412.20001220703125,418.0,426.0,424.0,425.29998779296875,425.95001220703125,431.0,432.79998779296875,423.95001220703125,427.25,420.3999938964844,420.0,430.0,424.1499938964844,430.0,420.95001220703125,421.95001220703125,426.0,428.29998779296875,436.95001220703125,443.3999938964844,445.0,441.0,449.29998779296875,447.0,440.0,445.0,440.79998779296875,444.0,445.70001220703125,435.1499938964844,440.0,441.0,446.25,445.0,449.0,454.75,454.79998779296875,452.0,448.0,447.5,446.8999938964844,446.1000061035156,450.0],\"x\":[1188,1189,1190,1191,1192,1193,1194,1195,1196,1197,1198,1199,1200,1201,1202,1203,1204,1205,1206,1207,1208,1209,1210,1211,1212,1213,1214,1215,1216,1217,1218,1219,1220,1221,1222,1223,1224,1225,1226,1227,1228,1229,1230,1231,1232],\"type\":\"candlestick\"},{\"marker\":{\"color\":\"MediumPurple\",\"size\":7},\"mode\":\"markers\",\"name\":\"pivot\",\"x\":[1188,1189,1190,1191,1192,1193,1194,1195,1196,1197,1198,1199,1200,1201,1202,1203,1204,1205,1206,1207,1208,1209,1210,1211,1212,1213,1214,1215,1216,1217,1218,1219,1220,1221,1222,1223,1224,1225,1226,1227,1228,1229,1230,1231,1232],\"y\":[null,null,null,null,null,null,null,433.8600128173828,null,null,null,415.3849853515625,null,null,null,null,410.1750061035156,null,null,null,null,null,null,null,452.9549987792969,438.2,null,null,null,null,null,null,433.14000549316404,null,null,null,null,456.26499328613284,null,null,null,null,null,null,null],\"type\":\"scatter\"},{\"marker\":{\"color\":\"Black\",\"size\":7,\"symbol\":\"hexagram\"},\"mode\":\"markers\",\"name\":\"breakout\",\"x\":[1188,1189,1190,1191,1192,1193,1194,1195,1196,1197,1198,1199,1200,1201,1202,1203,1204,1205,1206,1207,1208,1209,1210,1211,1212,1213,1214,1215,1216,1217,1218,1219,1220,1221,1222,1223,1224,1225,1226,1227,1228,1229,1230,1231,1232],\"y\":[null,null,null,null,null,null,null,null,null,null,null,null,null,null,null,null,null,null,null,null,null,null,null,null,null,null,null,null,null,null,null,445.65501403808594,null,null,null,null,null,null,null,null,null,null,null,447.6050140380859,null],\"type\":\"scatter\"},{\"mode\":\"lines\",\"name\":\"lower slope\",\"x\":[1199,1200,1201,1202,1203,1204,1205,1206,1207,1208,1209,1210,1211,1212,1213,1214,1215,1216,1217,1218,1219,1220,1221,1222,1223,1224,1225,1226,1227,1228,1229,1230,1231,1232,1233],\"y\":[413.18844814154954,414.37585332739445,415.5632585132396,416.7506636990847,417.93806888492963,419.12547407077477,420.3128792566199,421.5002844424648,422.68768962830995,423.8750948141551,425.0625,426.24990518584514,427.4373103716903,428.6247155575352,429.8121207433803,430.99952592922546,432.18693111507037,433.3743363009155,434.56174148676064,435.74914667260555,436.9365518584507,438.1239570442958,439.31136223014073,440.49876741598587,441.686172601831,442.8735777876759,444.06098297352105,445.2483881593662,446.4357933452111,447.62319853105623,448.81060371690137,449.9980089027463,451.1854140885914,452.37281927443655,453.56022446028146],\"type\":\"scatter\"},{\"mode\":\"lines\",\"name\":\"max slope\",\"x\":[1199,1200,1201,1202,1203,1204,1205,1206,1207,1208,1209,1210,1211,1212,1213,1214,1215,1216,1217,1218,1219,1220,1221,1222,1223,1224,1225,1226,1227,1228,1229,1230,1231,1232,1233],\"y\":[448.1000061035156,448.4000056340144,448.7000051645132,449.000004695012,449.3000042255108,449.6000037560096,449.9000032865084,450.2000028170072,450.500002347506,450.8000018780048,451.1000014085036,451.4000009390024,451.7000004695012,452.0,452.2999995304988,452.59999906099756,452.8999985914964,453.1999981219952,453.49999765249396,453.7999971829928,454.0999967134916,454.39999624399036,454.6999957744892,454.999995304988,455.29999483548676,455.5999943659856,455.8999938964844,456.19999342698316,456.49999295748194,456.7999924879808,457.09999201847955,457.39999154897833,457.6999910794772,457.99999060997595,458.29999014047473],\"type\":\"scatter\"}],                        {\"template\":{\"data\":{\"histogram2dcontour\":[{\"type\":\"histogram2dcontour\",\"colorbar\":{\"outlinewidth\":0,\"ticks\":\"\"},\"colorscale\":[[0.0,\"#0d0887\"],[0.1111111111111111,\"#46039f\"],[0.2222222222222222,\"#7201a8\"],[0.3333333333333333,\"#9c179e\"],[0.4444444444444444,\"#bd3786\"],[0.5555555555555556,\"#d8576b\"],[0.6666666666666666,\"#ed7953\"],[0.7777777777777778,\"#fb9f3a\"],[0.8888888888888888,\"#fdca26\"],[1.0,\"#f0f921\"]]}],\"choropleth\":[{\"type\":\"choropleth\",\"colorbar\":{\"outlinewidth\":0,\"ticks\":\"\"}}],\"histogram2d\":[{\"type\":\"histogram2d\",\"colorbar\":{\"outlinewidth\":0,\"ticks\":\"\"},\"colorscale\":[[0.0,\"#0d0887\"],[0.1111111111111111,\"#46039f\"],[0.2222222222222222,\"#7201a8\"],[0.3333333333333333,\"#9c179e\"],[0.4444444444444444,\"#bd3786\"],[0.5555555555555556,\"#d8576b\"],[0.6666666666666666,\"#ed7953\"],[0.7777777777777778,\"#fb9f3a\"],[0.8888888888888888,\"#fdca26\"],[1.0,\"#f0f921\"]]}],\"heatmap\":[{\"type\":\"heatmap\",\"colorbar\":{\"outlinewidth\":0,\"ticks\":\"\"},\"colorscale\":[[0.0,\"#0d0887\"],[0.1111111111111111,\"#46039f\"],[0.2222222222222222,\"#7201a8\"],[0.3333333333333333,\"#9c179e\"],[0.4444444444444444,\"#bd3786\"],[0.5555555555555556,\"#d8576b\"],[0.6666666666666666,\"#ed7953\"],[0.7777777777777778,\"#fb9f3a\"],[0.8888888888888888,\"#fdca26\"],[1.0,\"#f0f921\"]]}],\"heatmapgl\":[{\"type\":\"heatmapgl\",\"colorbar\":{\"outlinewidth\":0,\"ticks\":\"\"},\"colorscale\":[[0.0,\"#0d0887\"],[0.1111111111111111,\"#46039f\"],[0.2222222222222222,\"#7201a8\"],[0.3333333333333333,\"#9c179e\"],[0.4444444444444444,\"#bd3786\"],[0.5555555555555556,\"#d8576b\"],[0.6666666666666666,\"#ed7953\"],[0.7777777777777778,\"#fb9f3a\"],[0.8888888888888888,\"#fdca26\"],[1.0,\"#f0f921\"]]}],\"contourcarpet\":[{\"type\":\"contourcarpet\",\"colorbar\":{\"outlinewidth\":0,\"ticks\":\"\"}}],\"contour\":[{\"type\":\"contour\",\"colorbar\":{\"outlinewidth\":0,\"ticks\":\"\"},\"colorscale\":[[0.0,\"#0d0887\"],[0.1111111111111111,\"#46039f\"],[0.2222222222222222,\"#7201a8\"],[0.3333333333333333,\"#9c179e\"],[0.4444444444444444,\"#bd3786\"],[0.5555555555555556,\"#d8576b\"],[0.6666666666666666,\"#ed7953\"],[0.7777777777777778,\"#fb9f3a\"],[0.8888888888888888,\"#fdca26\"],[1.0,\"#f0f921\"]]}],\"surface\":[{\"type\":\"surface\",\"colorbar\":{\"outlinewidth\":0,\"ticks\":\"\"},\"colorscale\":[[0.0,\"#0d0887\"],[0.1111111111111111,\"#46039f\"],[0.2222222222222222,\"#7201a8\"],[0.3333333333333333,\"#9c179e\"],[0.4444444444444444,\"#bd3786\"],[0.5555555555555556,\"#d8576b\"],[0.6666666666666666,\"#ed7953\"],[0.7777777777777778,\"#fb9f3a\"],[0.8888888888888888,\"#fdca26\"],[1.0,\"#f0f921\"]]}],\"mesh3d\":[{\"type\":\"mesh3d\",\"colorbar\":{\"outlinewidth\":0,\"ticks\":\"\"}}],\"scatter\":[{\"fillpattern\":{\"fillmode\":\"overlay\",\"size\":10,\"solidity\":0.2},\"type\":\"scatter\"}],\"parcoords\":[{\"type\":\"parcoords\",\"line\":{\"colorbar\":{\"outlinewidth\":0,\"ticks\":\"\"}}}],\"scatterpolargl\":[{\"type\":\"scatterpolargl\",\"marker\":{\"colorbar\":{\"outlinewidth\":0,\"ticks\":\"\"}}}],\"bar\":[{\"error_x\":{\"color\":\"#2a3f5f\"},\"error_y\":{\"color\":\"#2a3f5f\"},\"marker\":{\"line\":{\"color\":\"#E5ECF6\",\"width\":0.5},\"pattern\":{\"fillmode\":\"overlay\",\"size\":10,\"solidity\":0.2}},\"type\":\"bar\"}],\"scattergeo\":[{\"type\":\"scattergeo\",\"marker\":{\"colorbar\":{\"outlinewidth\":0,\"ticks\":\"\"}}}],\"scatterpolar\":[{\"type\":\"scatterpolar\",\"marker\":{\"colorbar\":{\"outlinewidth\":0,\"ticks\":\"\"}}}],\"histogram\":[{\"marker\":{\"pattern\":{\"fillmode\":\"overlay\",\"size\":10,\"solidity\":0.2}},\"type\":\"histogram\"}],\"scattergl\":[{\"type\":\"scattergl\",\"marker\":{\"colorbar\":{\"outlinewidth\":0,\"ticks\":\"\"}}}],\"scatter3d\":[{\"type\":\"scatter3d\",\"line\":{\"colorbar\":{\"outlinewidth\":0,\"ticks\":\"\"}},\"marker\":{\"colorbar\":{\"outlinewidth\":0,\"ticks\":\"\"}}}],\"scattermapbox\":[{\"type\":\"scattermapbox\",\"marker\":{\"colorbar\":{\"outlinewidth\":0,\"ticks\":\"\"}}}],\"scatterternary\":[{\"type\":\"scatterternary\",\"marker\":{\"colorbar\":{\"outlinewidth\":0,\"ticks\":\"\"}}}],\"scattercarpet\":[{\"type\":\"scattercarpet\",\"marker\":{\"colorbar\":{\"outlinewidth\":0,\"ticks\":\"\"}}}],\"carpet\":[{\"aaxis\":{\"endlinecolor\":\"#2a3f5f\",\"gridcolor\":\"white\",\"linecolor\":\"white\",\"minorgridcolor\":\"white\",\"startlinecolor\":\"#2a3f5f\"},\"baxis\":{\"endlinecolor\":\"#2a3f5f\",\"gridcolor\":\"white\",\"linecolor\":\"white\",\"minorgridcolor\":\"white\",\"startlinecolor\":\"#2a3f5f\"},\"type\":\"carpet\"}],\"table\":[{\"cells\":{\"fill\":{\"color\":\"#EBF0F8\"},\"line\":{\"color\":\"white\"}},\"header\":{\"fill\":{\"color\":\"#C8D4E3\"},\"line\":{\"color\":\"white\"}},\"type\":\"table\"}],\"barpolar\":[{\"marker\":{\"line\":{\"color\":\"#E5ECF6\",\"width\":0.5},\"pattern\":{\"fillmode\":\"overlay\",\"size\":10,\"solidity\":0.2}},\"type\":\"barpolar\"}],\"pie\":[{\"automargin\":true,\"type\":\"pie\"}]},\"layout\":{\"autotypenumbers\":\"strict\",\"colorway\":[\"#636efa\",\"#EF553B\",\"#00cc96\",\"#ab63fa\",\"#FFA15A\",\"#19d3f3\",\"#FF6692\",\"#B6E880\",\"#FF97FF\",\"#FECB52\"],\"font\":{\"color\":\"#2a3f5f\"},\"hovermode\":\"closest\",\"hoverlabel\":{\"align\":\"left\"},\"paper_bgcolor\":\"white\",\"plot_bgcolor\":\"#E5ECF6\",\"polar\":{\"bgcolor\":\"#E5ECF6\",\"angularaxis\":{\"gridcolor\":\"white\",\"linecolor\":\"white\",\"ticks\":\"\"},\"radialaxis\":{\"gridcolor\":\"white\",\"linecolor\":\"white\",\"ticks\":\"\"}},\"ternary\":{\"bgcolor\":\"#E5ECF6\",\"aaxis\":{\"gridcolor\":\"white\",\"linecolor\":\"white\",\"ticks\":\"\"},\"baxis\":{\"gridcolor\":\"white\",\"linecolor\":\"white\",\"ticks\":\"\"},\"caxis\":{\"gridcolor\":\"white\",\"linecolor\":\"white\",\"ticks\":\"\"}},\"coloraxis\":{\"colorbar\":{\"outlinewidth\":0,\"ticks\":\"\"}},\"colorscale\":{\"sequential\":[[0.0,\"#0d0887\"],[0.1111111111111111,\"#46039f\"],[0.2222222222222222,\"#7201a8\"],[0.3333333333333333,\"#9c179e\"],[0.4444444444444444,\"#bd3786\"],[0.5555555555555556,\"#d8576b\"],[0.6666666666666666,\"#ed7953\"],[0.7777777777777778,\"#fb9f3a\"],[0.8888888888888888,\"#fdca26\"],[1.0,\"#f0f921\"]],\"sequentialminus\":[[0.0,\"#0d0887\"],[0.1111111111111111,\"#46039f\"],[0.2222222222222222,\"#7201a8\"],[0.3333333333333333,\"#9c179e\"],[0.4444444444444444,\"#bd3786\"],[0.5555555555555556,\"#d8576b\"],[0.6666666666666666,\"#ed7953\"],[0.7777777777777778,\"#fb9f3a\"],[0.8888888888888888,\"#fdca26\"],[1.0,\"#f0f921\"]],\"diverging\":[[0,\"#8e0152\"],[0.1,\"#c51b7d\"],[0.2,\"#de77ae\"],[0.3,\"#f1b6da\"],[0.4,\"#fde0ef\"],[0.5,\"#f7f7f7\"],[0.6,\"#e6f5d0\"],[0.7,\"#b8e186\"],[0.8,\"#7fbc41\"],[0.9,\"#4d9221\"],[1,\"#276419\"]]},\"xaxis\":{\"gridcolor\":\"white\",\"linecolor\":\"white\",\"ticks\":\"\",\"title\":{\"standoff\":15},\"zerolinecolor\":\"white\",\"automargin\":true,\"zerolinewidth\":2},\"yaxis\":{\"gridcolor\":\"white\",\"linecolor\":\"white\",\"ticks\":\"\",\"title\":{\"standoff\":15},\"zerolinecolor\":\"white\",\"automargin\":true,\"zerolinewidth\":2},\"scene\":{\"xaxis\":{\"backgroundcolor\":\"#E5ECF6\",\"gridcolor\":\"white\",\"linecolor\":\"white\",\"showbackground\":true,\"ticks\":\"\",\"zerolinecolor\":\"white\",\"gridwidth\":2},\"yaxis\":{\"backgroundcolor\":\"#E5ECF6\",\"gridcolor\":\"white\",\"linecolor\":\"white\",\"showbackground\":true,\"ticks\":\"\",\"zerolinecolor\":\"white\",\"gridwidth\":2},\"zaxis\":{\"backgroundcolor\":\"#E5ECF6\",\"gridcolor\":\"white\",\"linecolor\":\"white\",\"showbackground\":true,\"ticks\":\"\",\"zerolinecolor\":\"white\",\"gridwidth\":2}},\"shapedefaults\":{\"line\":{\"color\":\"#2a3f5f\"}},\"annotationdefaults\":{\"arrowcolor\":\"#2a3f5f\",\"arrowhead\":0,\"arrowwidth\":1},\"geo\":{\"bgcolor\":\"white\",\"landcolor\":\"#E5ECF6\",\"subunitcolor\":\"white\",\"showland\":true,\"showlakes\":true,\"lakecolor\":\"white\"},\"title\":{\"x\":0.05},\"mapbox\":{\"style\":\"light\"}}}},                        {\"responsive\": true}                    ).then(function(){\n",
       "                            \n",
       "var gd = document.getElementById('5b46147e-a35d-4603-9115-763e17e62731');\n",
       "var x = new MutationObserver(function (mutations, observer) {{\n",
       "        var display = window.getComputedStyle(gd).display;\n",
       "        if (!display || display === 'none') {{\n",
       "            console.log([gd, 'removed!']);\n",
       "            Plotly.purge(gd);\n",
       "            observer.disconnect();\n",
       "        }}\n",
       "}});\n",
       "\n",
       "// Listen for the removal of the full notebook cells\n",
       "var notebookContainer = gd.closest('#notebook-container');\n",
       "if (notebookContainer) {{\n",
       "    x.observe(notebookContainer, {childList: true});\n",
       "}}\n",
       "\n",
       "// Listen for the clearing of the current output cell\n",
       "var outputEl = gd.closest('.output');\n",
       "if (outputEl) {{\n",
       "    x.observe(outputEl, {childList: true});\n",
       "}}\n",
       "\n",
       "                        })                };                });            </script>        </div>"
      ]
     },
     "metadata": {},
     "output_type": "display_data"
    }
   ],
   "source": [
    "cbInd = ChannelBreakoutIndicator(df)\n",
    "cbInd.showIndicator(len(df), 30)"
   ]
  }
 ],
 "metadata": {
  "kernelspec": {
   "display_name": "Python 3 (ipykernel)",
   "language": "python",
   "name": "python3"
  },
  "language_info": {
   "codemirror_mode": {
    "name": "ipython",
    "version": 3
   },
   "file_extension": ".py",
   "mimetype": "text/x-python",
   "name": "python",
   "nbconvert_exporter": "python",
   "pygments_lexer": "ipython3",
   "version": "3.10.10"
  }
 },
 "nbformat": 4,
 "nbformat_minor": 5
}
