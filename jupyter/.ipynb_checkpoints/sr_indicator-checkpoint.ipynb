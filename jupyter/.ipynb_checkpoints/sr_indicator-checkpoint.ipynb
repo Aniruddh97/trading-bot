{
 "cells": [
  {
   "cell_type": "code",
   "execution_count": 9,
   "metadata": {},
   "outputs": [],
   "source": [
    "import os\n",
    "import sys\n",
    "module_path = os.path.abspath(os.path.join('..'))\n",
    "if module_path not in sys.path:\n",
    "    sys.path.append(module_path)"
   ]
  },
  {
   "cell_type": "code",
   "execution_count": 10,
   "metadata": {},
   "outputs": [],
   "source": [
    "from datasource import getFullData\n",
    "from datemodule import getDateRange\n",
    "from indicators import SupportResistanceIndicator"
   ]
  },
  {
   "cell_type": "code",
   "execution_count": 11,
   "metadata": {},
   "outputs": [],
   "source": [
    "ticker = \"RELIANCE\"\n",
    "startDate, endDate = getDateRange('2y')\n",
    "data = getFullData(ticker=ticker, start=startDate, end=endDate)"
   ]
  },
  {
   "cell_type": "code",
   "execution_count": 12,
   "metadata": {
    "scrolled": true
   },
   "outputs": [
    {
     "name": "stderr",
     "output_type": "stream",
     "text": [
      "/app/indicators/sr_indicator.py:76: SettingWithCopyWarning:\n",
      "\n",
      "\n",
      "A value is trying to be set on a copy of a slice from a DataFrame\n",
      "\n",
      "See the caveats in the documentation: https://pandas.pydata.org/pandas-docs/stable/user_guide/indexing.html#returning-a-view-versus-a-copy\n",
      "\n"
     ]
    }
   ],
   "source": [
    "indicator = SupportResistanceIndicator(data=data, window=9, backCandles=5, tickerName=ticker)\n",
    "indicator.calculate()"
   ]
  },
  {
   "cell_type": "code",
   "execution_count": 13,
   "metadata": {
    "scrolled": true
   },
   "outputs": [
    {
     "data": {
      "text/html": [
       "<div>\n",
       "<style scoped>\n",
       "    .dataframe tbody tr th:only-of-type {\n",
       "        vertical-align: middle;\n",
       "    }\n",
       "\n",
       "    .dataframe tbody tr th {\n",
       "        vertical-align: top;\n",
       "    }\n",
       "\n",
       "    .dataframe thead th {\n",
       "        text-align: right;\n",
       "    }\n",
       "</style>\n",
       "<table border=\"1\" class=\"dataframe\">\n",
       "  <thead>\n",
       "    <tr style=\"text-align: right;\">\n",
       "      <th></th>\n",
       "      <th>Date</th>\n",
       "      <th>Open</th>\n",
       "      <th>High</th>\n",
       "      <th>Low</th>\n",
       "      <th>Close</th>\n",
       "      <th>Volume</th>\n",
       "      <th>RSI</th>\n",
       "      <th>Level</th>\n",
       "      <th>Signal</th>\n",
       "      <th>SignalMarker</th>\n",
       "    </tr>\n",
       "  </thead>\n",
       "  <tbody>\n",
       "    <tr>\n",
       "      <th>185</th>\n",
       "      <td>2022-04-07</td>\n",
       "      <td>2595.10</td>\n",
       "      <td>2606.00</td>\n",
       "      <td>2567.00</td>\n",
       "      <td>2572.85</td>\n",
       "      <td>7151632</td>\n",
       "      <td>55.480354</td>\n",
       "      <td>2567.3</td>\n",
       "      <td>2</td>\n",
       "      <td>2563.100</td>\n",
       "    </tr>\n",
       "    <tr>\n",
       "      <th>256</th>\n",
       "      <td>2022-07-20</td>\n",
       "      <td>2540.00</td>\n",
       "      <td>2542.50</td>\n",
       "      <td>2486.25</td>\n",
       "      <td>2503.00</td>\n",
       "      <td>11041036</td>\n",
       "      <td>52.572988</td>\n",
       "      <td>2540.1</td>\n",
       "      <td>1</td>\n",
       "      <td>2548.125</td>\n",
       "    </tr>\n",
       "    <tr>\n",
       "      <th>338</th>\n",
       "      <td>2022-11-21</td>\n",
       "      <td>2588.00</td>\n",
       "      <td>2588.00</td>\n",
       "      <td>2543.10</td>\n",
       "      <td>2550.90</td>\n",
       "      <td>2949108</td>\n",
       "      <td>51.111596</td>\n",
       "      <td>2542.5</td>\n",
       "      <td>2</td>\n",
       "      <td>2538.610</td>\n",
       "    </tr>\n",
       "    <tr>\n",
       "      <th>343</th>\n",
       "      <td>2022-11-28</td>\n",
       "      <td>2608.90</td>\n",
       "      <td>2721.05</td>\n",
       "      <td>2502.00</td>\n",
       "      <td>2707.55</td>\n",
       "      <td>14549929</td>\n",
       "      <td>69.889980</td>\n",
       "      <td>2502.0</td>\n",
       "      <td>2</td>\n",
       "      <td>2480.095</td>\n",
       "    </tr>\n",
       "    <tr>\n",
       "      <th>350</th>\n",
       "      <td>2022-12-07</td>\n",
       "      <td>2685.00</td>\n",
       "      <td>2695.00</td>\n",
       "      <td>2642.15</td>\n",
       "      <td>2650.50</td>\n",
       "      <td>3905263</td>\n",
       "      <td>55.102867</td>\n",
       "      <td>2642.0</td>\n",
       "      <td>2</td>\n",
       "      <td>2636.865</td>\n",
       "    </tr>\n",
       "    <tr>\n",
       "      <th>373</th>\n",
       "      <td>2023-01-09</td>\n",
       "      <td>2545.30</td>\n",
       "      <td>2602.00</td>\n",
       "      <td>2543.35</td>\n",
       "      <td>2596.80</td>\n",
       "      <td>4948549</td>\n",
       "      <td>54.178479</td>\n",
       "      <td>2602.2</td>\n",
       "      <td>1</td>\n",
       "      <td>2607.865</td>\n",
       "    </tr>\n",
       "    <tr>\n",
       "      <th>395</th>\n",
       "      <td>2023-02-09</td>\n",
       "      <td>2353.45</td>\n",
       "      <td>2370.85</td>\n",
       "      <td>2334.00</td>\n",
       "      <td>2356.05</td>\n",
       "      <td>6079228</td>\n",
       "      <td>38.479688</td>\n",
       "      <td>2370.0</td>\n",
       "      <td>1</td>\n",
       "      <td>2374.535</td>\n",
       "    </tr>\n",
       "    <tr>\n",
       "      <th>429</th>\n",
       "      <td>2023-03-31</td>\n",
       "      <td>2255.00</td>\n",
       "      <td>2343.45</td>\n",
       "      <td>2254.70</td>\n",
       "      <td>2331.05</td>\n",
       "      <td>13001005</td>\n",
       "      <td>54.054215</td>\n",
       "      <td>2343.1</td>\n",
       "      <td>1</td>\n",
       "      <td>2352.325</td>\n",
       "    </tr>\n",
       "    <tr>\n",
       "      <th>457</th>\n",
       "      <td>2023-05-16</td>\n",
       "      <td>2494.00</td>\n",
       "      <td>2499.60</td>\n",
       "      <td>2450.15</td>\n",
       "      <td>2453.80</td>\n",
       "      <td>4023000</td>\n",
       "      <td>58.742833</td>\n",
       "      <td>2450.0</td>\n",
       "      <td>2</td>\n",
       "      <td>2445.205</td>\n",
       "    </tr>\n",
       "    <tr>\n",
       "      <th>459</th>\n",
       "      <td>2023-05-18</td>\n",
       "      <td>2449.55</td>\n",
       "      <td>2457.00</td>\n",
       "      <td>2427.15</td>\n",
       "      <td>2434.05</td>\n",
       "      <td>4857531</td>\n",
       "      <td>54.138188</td>\n",
       "      <td>2427.0</td>\n",
       "      <td>2</td>\n",
       "      <td>2424.165</td>\n",
       "    </tr>\n",
       "  </tbody>\n",
       "</table>\n",
       "</div>"
      ],
      "text/plain": [
       "          Date     Open     High      Low    Close    Volume        RSI  \\\n",
       "185 2022-04-07  2595.10  2606.00  2567.00  2572.85   7151632  55.480354   \n",
       "256 2022-07-20  2540.00  2542.50  2486.25  2503.00  11041036  52.572988   \n",
       "338 2022-11-21  2588.00  2588.00  2543.10  2550.90   2949108  51.111596   \n",
       "343 2022-11-28  2608.90  2721.05  2502.00  2707.55  14549929  69.889980   \n",
       "350 2022-12-07  2685.00  2695.00  2642.15  2650.50   3905263  55.102867   \n",
       "373 2023-01-09  2545.30  2602.00  2543.35  2596.80   4948549  54.178479   \n",
       "395 2023-02-09  2353.45  2370.85  2334.00  2356.05   6079228  38.479688   \n",
       "429 2023-03-31  2255.00  2343.45  2254.70  2331.05  13001005  54.054215   \n",
       "457 2023-05-16  2494.00  2499.60  2450.15  2453.80   4023000  58.742833   \n",
       "459 2023-05-18  2449.55  2457.00  2427.15  2434.05   4857531  54.138188   \n",
       "\n",
       "      Level  Signal  SignalMarker  \n",
       "185  2567.3       2      2563.100  \n",
       "256  2540.1       1      2548.125  \n",
       "338  2542.5       2      2538.610  \n",
       "343  2502.0       2      2480.095  \n",
       "350  2642.0       2      2636.865  \n",
       "373  2602.2       1      2607.865  \n",
       "395  2370.0       1      2374.535  \n",
       "429  2343.1       1      2352.325  \n",
       "457  2450.0       2      2445.205  \n",
       "459  2427.0       2      2424.165  "
      ]
     },
     "execution_count": 13,
     "metadata": {},
     "output_type": "execute_result"
    }
   ],
   "source": [
    "indicator.df[indicator.df.Signal != 0]"
   ]
  },
  {
   "cell_type": "code",
   "execution_count": 14,
   "metadata": {},
   "outputs": [
    {
     "data": {
      "application/vnd.plotly.v1+json": {
       "config": {
        "plotlyServerURL": "https://plot.ly"
       },
       "data": [
        {
         "close": [
          2408.7,
          2413.7,
          2433.25,
          2411.85,
          2388.1,
          2391.4,
          2423.9,
          2420.45,
          2377.55,
          2397.15,
          2401.8,
          2422.25,
          2437.1,
          2503,
          2486.3,
          2503.1,
          2420.4,
          2421.5,
          2419.2,
          2457.1,
          2509.45,
          2574.85,
          2584.65,
          2606.35,
          2571.9,
          2534,
          2567.15,
          2582.5,
          2591.1,
          2633,
          2651.3,
          2665.15,
          2661.3,
          2613.85,
          2606.6,
          2646.8,
          2639.75,
          2632.05,
          2618,
          2597.65,
          2637.95,
          2560.4,
          2530.5,
          2569.8,
          2596.85,
          2581.75,
          2585.4,
          2569.3,
          2598.05,
          2619.75,
          2588.35,
          2562.7,
          2499.2,
          2502.45,
          2502.85,
          2509.75,
          2486.1,
          2439.5,
          2377.35,
          2396.25,
          2332.45,
          2325.3,
          2377.75,
          2369.5,
          2413.2,
          2422.1,
          2432.35,
          2405.8,
          2357.9,
          2375.25,
          2382.8,
          2370.7,
          2408.75,
          2451.25,
          2493.9,
          2500.6,
          2471.6,
          2479.85,
          2441.55,
          2451.15,
          2526.15,
          2549.6,
          2529.85,
          2545.65,
          2555.15,
          2592.75,
          2606.6,
          2604,
          2572.5,
          2631.8,
          2619.05,
          2607.3,
          2592.35,
          2599.05,
          2597.65,
          2550.9,
          2565.05,
          2557.05,
          2579.1,
          2617.6,
          2707.55
         ],
         "high": [
          2592,
          2442,
          2464.9,
          2441.95,
          2433.25,
          2418,
          2428.8,
          2439.7,
          2434,
          2433.95,
          2415,
          2425,
          2447,
          2542.5,
          2500,
          2516.3,
          2467.45,
          2443.9,
          2427,
          2467.95,
          2517.1,
          2587.75,
          2607.8,
          2610,
          2617.75,
          2578.8,
          2583.55,
          2589.9,
          2609.9,
          2641.35,
          2657.3,
          2676.9,
          2669,
          2661.7,
          2631.3,
          2653.2,
          2670,
          2662.9,
          2650,
          2655,
          2645.25,
          2604.95,
          2575.35,
          2581.5,
          2606,
          2594.9,
          2598,
          2610,
          2612,
          2629.7,
          2610,
          2603.55,
          2553,
          2522.7,
          2537.7,
          2533,
          2503,
          2495.95,
          2417.8,
          2426,
          2378,
          2367.5,
          2402,
          2416.95,
          2418,
          2450,
          2443.9,
          2417.6,
          2414,
          2381.7,
          2394,
          2416.35,
          2414,
          2463,
          2527.85,
          2519,
          2516.8,
          2502.5,
          2499,
          2468.45,
          2535,
          2560.95,
          2600,
          2550.2,
          2559.55,
          2600,
          2610.3,
          2621.95,
          2596.55,
          2636,
          2642,
          2626.4,
          2615.95,
          2613,
          2609,
          2588,
          2568.5,
          2577.9,
          2594,
          2624.9,
          2721.05
         ],
         "low": [
          2365,
          2366.1,
          2417.1,
          2388,
          2375,
          2382.55,
          2370,
          2404,
          2373,
          2376.95,
          2383.1,
          2392.3,
          2400.3,
          2486.25,
          2467.3,
          2495,
          2403,
          2411.35,
          2402,
          2421,
          2464,
          2507.6,
          2561.55,
          2567.45,
          2535,
          2526.95,
          2531,
          2557.05,
          2580.2,
          2582.2,
          2627.3,
          2655.55,
          2640.2,
          2604.95,
          2586,
          2591.35,
          2635.35,
          2622.6,
          2607,
          2578.05,
          2576.6,
          2550.7,
          2525.7,
          2531,
          2572,
          2570,
          2571,
          2564,
          2570.55,
          2601,
          2572.75,
          2556.75,
          2491,
          2481.35,
          2494.7,
          2495,
          2472.1,
          2436.1,
          2375.15,
          2360.1,
          2327.1,
          2313,
          2311,
          2363,
          2390.15,
          2418.15,
          2414.65,
          2388,
          2351.1,
          2343.1,
          2360.1,
          2369.1,
          2343.6,
          2420.15,
          2441.7,
          2485,
          2467,
          2455.3,
          2438,
          2432.8,
          2459.45,
          2532.2,
          2508,
          2515,
          2525.05,
          2551.1,
          2574,
          2590.05,
          2563,
          2588,
          2605.15,
          2590,
          2581.35,
          2580,
          2571.1,
          2543.1,
          2536.5,
          2552.25,
          2548.2,
          2582.1,
          2502
         ],
         "open": [
          2574.9,
          2378.95,
          2423,
          2420.1,
          2425.9,
          2418,
          2376.5,
          2404,
          2427.3,
          2388,
          2415,
          2421,
          2400.3,
          2540,
          2494,
          2500,
          2467.45,
          2421.1,
          2419.95,
          2436,
          2474.7,
          2519.15,
          2572.5,
          2600,
          2610,
          2576,
          2531,
          2576.9,
          2603.1,
          2590.3,
          2646.2,
          2665,
          2660,
          2650,
          2617,
          2594,
          2640.1,
          2648.95,
          2633,
          2585,
          2614,
          2582.65,
          2560.4,
          2531,
          2573,
          2575,
          2588.25,
          2610,
          2570.55,
          2618,
          2575,
          2583,
          2543.75,
          2499.2,
          2522.45,
          2496.75,
          2486,
          2485,
          2394.05,
          2394,
          2360.35,
          2360,
          2311,
          2391.5,
          2397.8,
          2429,
          2414.65,
          2405,
          2414,
          2352,
          2371.4,
          2415,
          2355,
          2422,
          2454.5,
          2485,
          2507.7,
          2460,
          2499,
          2458,
          2465,
          2541,
          2600,
          2532.3,
          2529.85,
          2553.9,
          2591,
          2610.3,
          2590,
          2600,
          2630.75,
          2622.3,
          2610,
          2584.95,
          2606.75,
          2588,
          2545,
          2575,
          2566,
          2589,
          2608.9
         ],
         "type": "candlestick",
         "x": [
          243,
          244,
          245,
          246,
          247,
          248,
          249,
          250,
          251,
          252,
          253,
          254,
          255,
          256,
          257,
          258,
          259,
          260,
          261,
          262,
          263,
          264,
          265,
          266,
          267,
          268,
          269,
          270,
          271,
          272,
          273,
          274,
          275,
          276,
          277,
          278,
          279,
          280,
          281,
          282,
          283,
          284,
          285,
          286,
          287,
          288,
          289,
          290,
          291,
          292,
          293,
          294,
          295,
          296,
          297,
          298,
          299,
          300,
          301,
          302,
          303,
          304,
          305,
          306,
          307,
          308,
          309,
          310,
          311,
          312,
          313,
          314,
          315,
          316,
          317,
          318,
          319,
          320,
          321,
          322,
          323,
          324,
          325,
          326,
          327,
          328,
          329,
          330,
          331,
          332,
          333,
          334,
          335,
          336,
          337,
          338,
          339,
          340,
          341,
          342,
          343
         ]
        },
        {
         "marker": {
          "color": "Black",
          "size": 7,
          "symbol": "hexagram"
         },
         "mode": "markers",
         "name": "signal",
         "type": "scatter",
         "x": [
          243,
          244,
          245,
          246,
          247,
          248,
          249,
          250,
          251,
          252,
          253,
          254,
          255,
          256,
          257,
          258,
          259,
          260,
          261,
          262,
          263,
          264,
          265,
          266,
          267,
          268,
          269,
          270,
          271,
          272,
          273,
          274,
          275,
          276,
          277,
          278,
          279,
          280,
          281,
          282,
          283,
          284,
          285,
          286,
          287,
          288,
          289,
          290,
          291,
          292,
          293,
          294,
          295,
          296,
          297,
          298,
          299,
          300,
          301,
          302,
          303,
          304,
          305,
          306,
          307,
          308,
          309,
          310,
          311,
          312,
          313,
          314,
          315,
          316,
          317,
          318,
          319,
          320,
          321,
          322,
          323,
          324,
          325,
          326,
          327,
          328,
          329,
          330,
          331,
          332,
          333,
          334,
          335,
          336,
          337,
          338,
          339,
          340,
          341,
          342,
          343
         ],
         "y": [
          null,
          null,
          null,
          null,
          null,
          null,
          null,
          null,
          null,
          null,
          null,
          null,
          null,
          2548.125,
          null,
          null,
          null,
          null,
          null,
          null,
          null,
          null,
          null,
          null,
          null,
          null,
          null,
          null,
          null,
          null,
          null,
          null,
          null,
          null,
          null,
          null,
          null,
          null,
          null,
          null,
          null,
          null,
          null,
          null,
          null,
          null,
          null,
          null,
          null,
          null,
          null,
          null,
          null,
          null,
          null,
          null,
          null,
          null,
          null,
          null,
          null,
          null,
          null,
          null,
          null,
          null,
          null,
          null,
          null,
          null,
          null,
          null,
          null,
          null,
          null,
          null,
          null,
          null,
          null,
          null,
          null,
          null,
          null,
          null,
          null,
          null,
          null,
          null,
          null,
          null,
          null,
          null,
          null,
          null,
          null,
          2538.6099999999997,
          null,
          null,
          null,
          null,
          2480.095
         ]
        }
       ],
       "layout": {
        "shapes": [
         {
          "layer": "below",
          "line": {
           "color": "blue"
          },
          "type": "line",
          "x0": 241,
          "x1": 346,
          "xref": "x",
          "y0": 2366,
          "y1": 2366,
          "yref": "y"
         },
         {
          "layer": "below",
          "line": {
           "color": "blue"
          },
          "type": "line",
          "x0": 241,
          "x1": 346,
          "xref": "x",
          "y0": 2456.4,
          "y1": 2456.4,
          "yref": "y"
         },
         {
          "layer": "below",
          "line": {
           "color": "blue"
          },
          "type": "line",
          "x0": 241,
          "x1": 346,
          "xref": "x",
          "y0": 2309,
          "y1": 2309,
          "yref": "y"
         },
         {
          "layer": "below",
          "line": {
           "color": "blue"
          },
          "type": "line",
          "x0": 241,
          "x1": 346,
          "xref": "x",
          "y0": 2357.15,
          "y1": 2357.15,
          "yref": "y"
         },
         {
          "layer": "below",
          "line": {
           "color": "blue"
          },
          "type": "line",
          "x0": 241,
          "x1": 346,
          "xref": "x",
          "y0": 2305,
          "y1": 2305,
          "yref": "y"
         },
         {
          "layer": "below",
          "line": {
           "color": "blue"
          },
          "type": "line",
          "x0": 241,
          "x1": 346,
          "xref": "x",
          "y0": 2521.8,
          "y1": 2521.8,
          "yref": "y"
         },
         {
          "layer": "below",
          "line": {
           "color": "blue"
          },
          "type": "line",
          "x0": 241,
          "x1": 346,
          "xref": "x",
          "y0": 2370,
          "y1": 2370,
          "yref": "y"
         },
         {
          "layer": "below",
          "line": {
           "color": "blue"
          },
          "type": "line",
          "x0": 241,
          "x1": 346,
          "xref": "x",
          "y0": 2540.1,
          "y1": 2540.1,
          "yref": "y"
         },
         {
          "layer": "below",
          "line": {
           "color": "blue"
          },
          "type": "line",
          "x0": 241,
          "x1": 346,
          "xref": "x",
          "y0": 2445,
          "y1": 2445,
          "yref": "y"
         },
         {
          "layer": "below",
          "line": {
           "color": "blue"
          },
          "type": "line",
          "x0": 241,
          "x1": 346,
          "xref": "x",
          "y0": 2365,
          "y1": 2365,
          "yref": "y"
         },
         {
          "layer": "below",
          "line": {
           "color": "blue"
          },
          "type": "line",
          "x0": 241,
          "x1": 346,
          "xref": "x",
          "y0": 2402,
          "y1": 2402,
          "yref": "y"
         },
         {
          "layer": "below",
          "line": {
           "color": "blue"
          },
          "type": "line",
          "x0": 241,
          "x1": 346,
          "xref": "x",
          "y0": 2586,
          "y1": 2586,
          "yref": "y"
         },
         {
          "layer": "below",
          "line": {
           "color": "blue"
          },
          "type": "line",
          "x0": 241,
          "x1": 346,
          "xref": "x",
          "y0": 2525.7,
          "y1": 2525.7,
          "yref": "y"
         },
         {
          "layer": "below",
          "line": {
           "color": "blue"
          },
          "type": "line",
          "x0": 241,
          "x1": 346,
          "xref": "x",
          "y0": 2311,
          "y1": 2311,
          "yref": "y"
         },
         {
          "layer": "below",
          "line": {
           "color": "blue"
          },
          "type": "line",
          "x0": 241,
          "x1": 346,
          "xref": "x",
          "y0": 2343.1,
          "y1": 2343.1,
          "yref": "y"
         },
         {
          "layer": "below",
          "line": {
           "color": "blue"
          },
          "type": "line",
          "x0": 241,
          "x1": 346,
          "xref": "x",
          "y0": 2432.8,
          "y1": 2432.8,
          "yref": "y"
         },
         {
          "layer": "below",
          "line": {
           "color": "blue"
          },
          "type": "line",
          "x0": 241,
          "x1": 346,
          "xref": "x",
          "y0": 2480,
          "y1": 2480,
          "yref": "y"
         },
         {
          "layer": "below",
          "line": {
           "color": "blue"
          },
          "type": "line",
          "x0": 241,
          "x1": 346,
          "xref": "x",
          "y0": 2602.2,
          "y1": 2602.2,
          "yref": "y"
         },
         {
          "layer": "below",
          "line": {
           "color": "blue"
          },
          "type": "line",
          "x0": 241,
          "x1": 346,
          "xref": "x",
          "y0": 2502,
          "y1": 2502,
          "yref": "y"
         },
         {
          "layer": "below",
          "line": {
           "color": "blue"
          },
          "type": "line",
          "x0": 241,
          "x1": 346,
          "xref": "x",
          "y0": 2567.3,
          "y1": 2567.3,
          "yref": "y"
         },
         {
          "layer": "below",
          "line": {
           "color": "blue"
          },
          "type": "line",
          "x0": 241,
          "x1": 346,
          "xref": "x",
          "y0": 2420.6,
          "y1": 2420.6,
          "yref": "y"
         },
         {
          "layer": "below",
          "line": {
           "color": "blue"
          },
          "type": "line",
          "x0": 241,
          "x1": 346,
          "xref": "x",
          "y0": 2456.4,
          "y1": 2456.4,
          "yref": "y"
         },
         {
          "layer": "below",
          "line": {
           "color": "blue"
          },
          "type": "line",
          "x0": 241,
          "x1": 346,
          "xref": "x",
          "y0": 2414.85,
          "y1": 2414.85,
          "yref": "y"
         },
         {
          "layer": "below",
          "line": {
           "color": "blue"
          },
          "type": "line",
          "x0": 241,
          "x1": 346,
          "xref": "x",
          "y0": 2688,
          "y1": 2688,
          "yref": "y"
         },
         {
          "layer": "below",
          "line": {
           "color": "blue"
          },
          "type": "line",
          "x0": 241,
          "x1": 346,
          "xref": "x",
          "y0": 2615.9,
          "y1": 2615.9,
          "yref": "y"
         },
         {
          "layer": "below",
          "line": {
           "color": "blue"
          },
          "type": "line",
          "x0": 241,
          "x1": 346,
          "xref": "x",
          "y0": 2542.5,
          "y1": 2542.5,
          "yref": "y"
         },
         {
          "layer": "below",
          "line": {
           "color": "blue"
          },
          "type": "line",
          "x0": 241,
          "x1": 346,
          "xref": "x",
          "y0": 2617.75,
          "y1": 2617.75,
          "yref": "y"
         },
         {
          "layer": "below",
          "line": {
           "color": "blue"
          },
          "type": "line",
          "x0": 241,
          "x1": 346,
          "xref": "x",
          "y0": 2676.9,
          "y1": 2676.9,
          "yref": "y"
         },
         {
          "layer": "below",
          "line": {
           "color": "blue"
          },
          "type": "line",
          "x0": 241,
          "x1": 346,
          "xref": "x",
          "y0": 2629.7,
          "y1": 2629.7,
          "yref": "y"
         },
         {
          "layer": "below",
          "line": {
           "color": "blue"
          },
          "type": "line",
          "x0": 241,
          "x1": 346,
          "xref": "x",
          "y0": 2450,
          "y1": 2450,
          "yref": "y"
         },
         {
          "layer": "below",
          "line": {
           "color": "blue"
          },
          "type": "line",
          "x0": 241,
          "x1": 346,
          "xref": "x",
          "y0": 2527.85,
          "y1": 2527.85,
          "yref": "y"
         },
         {
          "layer": "below",
          "line": {
           "color": "blue"
          },
          "type": "line",
          "x0": 241,
          "x1": 346,
          "xref": "x",
          "y0": 2642,
          "y1": 2642,
          "yref": "y"
         }
        ],
        "template": {
         "data": {
          "bar": [
           {
            "error_x": {
             "color": "#2a3f5f"
            },
            "error_y": {
             "color": "#2a3f5f"
            },
            "marker": {
             "line": {
              "color": "#E5ECF6",
              "width": 0.5
             },
             "pattern": {
              "fillmode": "overlay",
              "size": 10,
              "solidity": 0.2
             }
            },
            "type": "bar"
           }
          ],
          "barpolar": [
           {
            "marker": {
             "line": {
              "color": "#E5ECF6",
              "width": 0.5
             },
             "pattern": {
              "fillmode": "overlay",
              "size": 10,
              "solidity": 0.2
             }
            },
            "type": "barpolar"
           }
          ],
          "carpet": [
           {
            "aaxis": {
             "endlinecolor": "#2a3f5f",
             "gridcolor": "white",
             "linecolor": "white",
             "minorgridcolor": "white",
             "startlinecolor": "#2a3f5f"
            },
            "baxis": {
             "endlinecolor": "#2a3f5f",
             "gridcolor": "white",
             "linecolor": "white",
             "minorgridcolor": "white",
             "startlinecolor": "#2a3f5f"
            },
            "type": "carpet"
           }
          ],
          "choropleth": [
           {
            "colorbar": {
             "outlinewidth": 0,
             "ticks": ""
            },
            "type": "choropleth"
           }
          ],
          "contour": [
           {
            "colorbar": {
             "outlinewidth": 0,
             "ticks": ""
            },
            "colorscale": [
             [
              0,
              "#0d0887"
             ],
             [
              0.1111111111111111,
              "#46039f"
             ],
             [
              0.2222222222222222,
              "#7201a8"
             ],
             [
              0.3333333333333333,
              "#9c179e"
             ],
             [
              0.4444444444444444,
              "#bd3786"
             ],
             [
              0.5555555555555556,
              "#d8576b"
             ],
             [
              0.6666666666666666,
              "#ed7953"
             ],
             [
              0.7777777777777778,
              "#fb9f3a"
             ],
             [
              0.8888888888888888,
              "#fdca26"
             ],
             [
              1,
              "#f0f921"
             ]
            ],
            "type": "contour"
           }
          ],
          "contourcarpet": [
           {
            "colorbar": {
             "outlinewidth": 0,
             "ticks": ""
            },
            "type": "contourcarpet"
           }
          ],
          "heatmap": [
           {
            "colorbar": {
             "outlinewidth": 0,
             "ticks": ""
            },
            "colorscale": [
             [
              0,
              "#0d0887"
             ],
             [
              0.1111111111111111,
              "#46039f"
             ],
             [
              0.2222222222222222,
              "#7201a8"
             ],
             [
              0.3333333333333333,
              "#9c179e"
             ],
             [
              0.4444444444444444,
              "#bd3786"
             ],
             [
              0.5555555555555556,
              "#d8576b"
             ],
             [
              0.6666666666666666,
              "#ed7953"
             ],
             [
              0.7777777777777778,
              "#fb9f3a"
             ],
             [
              0.8888888888888888,
              "#fdca26"
             ],
             [
              1,
              "#f0f921"
             ]
            ],
            "type": "heatmap"
           }
          ],
          "heatmapgl": [
           {
            "colorbar": {
             "outlinewidth": 0,
             "ticks": ""
            },
            "colorscale": [
             [
              0,
              "#0d0887"
             ],
             [
              0.1111111111111111,
              "#46039f"
             ],
             [
              0.2222222222222222,
              "#7201a8"
             ],
             [
              0.3333333333333333,
              "#9c179e"
             ],
             [
              0.4444444444444444,
              "#bd3786"
             ],
             [
              0.5555555555555556,
              "#d8576b"
             ],
             [
              0.6666666666666666,
              "#ed7953"
             ],
             [
              0.7777777777777778,
              "#fb9f3a"
             ],
             [
              0.8888888888888888,
              "#fdca26"
             ],
             [
              1,
              "#f0f921"
             ]
            ],
            "type": "heatmapgl"
           }
          ],
          "histogram": [
           {
            "marker": {
             "pattern": {
              "fillmode": "overlay",
              "size": 10,
              "solidity": 0.2
             }
            },
            "type": "histogram"
           }
          ],
          "histogram2d": [
           {
            "colorbar": {
             "outlinewidth": 0,
             "ticks": ""
            },
            "colorscale": [
             [
              0,
              "#0d0887"
             ],
             [
              0.1111111111111111,
              "#46039f"
             ],
             [
              0.2222222222222222,
              "#7201a8"
             ],
             [
              0.3333333333333333,
              "#9c179e"
             ],
             [
              0.4444444444444444,
              "#bd3786"
             ],
             [
              0.5555555555555556,
              "#d8576b"
             ],
             [
              0.6666666666666666,
              "#ed7953"
             ],
             [
              0.7777777777777778,
              "#fb9f3a"
             ],
             [
              0.8888888888888888,
              "#fdca26"
             ],
             [
              1,
              "#f0f921"
             ]
            ],
            "type": "histogram2d"
           }
          ],
          "histogram2dcontour": [
           {
            "colorbar": {
             "outlinewidth": 0,
             "ticks": ""
            },
            "colorscale": [
             [
              0,
              "#0d0887"
             ],
             [
              0.1111111111111111,
              "#46039f"
             ],
             [
              0.2222222222222222,
              "#7201a8"
             ],
             [
              0.3333333333333333,
              "#9c179e"
             ],
             [
              0.4444444444444444,
              "#bd3786"
             ],
             [
              0.5555555555555556,
              "#d8576b"
             ],
             [
              0.6666666666666666,
              "#ed7953"
             ],
             [
              0.7777777777777778,
              "#fb9f3a"
             ],
             [
              0.8888888888888888,
              "#fdca26"
             ],
             [
              1,
              "#f0f921"
             ]
            ],
            "type": "histogram2dcontour"
           }
          ],
          "mesh3d": [
           {
            "colorbar": {
             "outlinewidth": 0,
             "ticks": ""
            },
            "type": "mesh3d"
           }
          ],
          "parcoords": [
           {
            "line": {
             "colorbar": {
              "outlinewidth": 0,
              "ticks": ""
             }
            },
            "type": "parcoords"
           }
          ],
          "pie": [
           {
            "automargin": true,
            "type": "pie"
           }
          ],
          "scatter": [
           {
            "fillpattern": {
             "fillmode": "overlay",
             "size": 10,
             "solidity": 0.2
            },
            "type": "scatter"
           }
          ],
          "scatter3d": [
           {
            "line": {
             "colorbar": {
              "outlinewidth": 0,
              "ticks": ""
             }
            },
            "marker": {
             "colorbar": {
              "outlinewidth": 0,
              "ticks": ""
             }
            },
            "type": "scatter3d"
           }
          ],
          "scattercarpet": [
           {
            "marker": {
             "colorbar": {
              "outlinewidth": 0,
              "ticks": ""
             }
            },
            "type": "scattercarpet"
           }
          ],
          "scattergeo": [
           {
            "marker": {
             "colorbar": {
              "outlinewidth": 0,
              "ticks": ""
             }
            },
            "type": "scattergeo"
           }
          ],
          "scattergl": [
           {
            "marker": {
             "colorbar": {
              "outlinewidth": 0,
              "ticks": ""
             }
            },
            "type": "scattergl"
           }
          ],
          "scattermapbox": [
           {
            "marker": {
             "colorbar": {
              "outlinewidth": 0,
              "ticks": ""
             }
            },
            "type": "scattermapbox"
           }
          ],
          "scatterpolar": [
           {
            "marker": {
             "colorbar": {
              "outlinewidth": 0,
              "ticks": ""
             }
            },
            "type": "scatterpolar"
           }
          ],
          "scatterpolargl": [
           {
            "marker": {
             "colorbar": {
              "outlinewidth": 0,
              "ticks": ""
             }
            },
            "type": "scatterpolargl"
           }
          ],
          "scatterternary": [
           {
            "marker": {
             "colorbar": {
              "outlinewidth": 0,
              "ticks": ""
             }
            },
            "type": "scatterternary"
           }
          ],
          "surface": [
           {
            "colorbar": {
             "outlinewidth": 0,
             "ticks": ""
            },
            "colorscale": [
             [
              0,
              "#0d0887"
             ],
             [
              0.1111111111111111,
              "#46039f"
             ],
             [
              0.2222222222222222,
              "#7201a8"
             ],
             [
              0.3333333333333333,
              "#9c179e"
             ],
             [
              0.4444444444444444,
              "#bd3786"
             ],
             [
              0.5555555555555556,
              "#d8576b"
             ],
             [
              0.6666666666666666,
              "#ed7953"
             ],
             [
              0.7777777777777778,
              "#fb9f3a"
             ],
             [
              0.8888888888888888,
              "#fdca26"
             ],
             [
              1,
              "#f0f921"
             ]
            ],
            "type": "surface"
           }
          ],
          "table": [
           {
            "cells": {
             "fill": {
              "color": "#EBF0F8"
             },
             "line": {
              "color": "white"
             }
            },
            "header": {
             "fill": {
              "color": "#C8D4E3"
             },
             "line": {
              "color": "white"
             }
            },
            "type": "table"
           }
          ]
         },
         "layout": {
          "annotationdefaults": {
           "arrowcolor": "#2a3f5f",
           "arrowhead": 0,
           "arrowwidth": 1
          },
          "autotypenumbers": "strict",
          "coloraxis": {
           "colorbar": {
            "outlinewidth": 0,
            "ticks": ""
           }
          },
          "colorscale": {
           "diverging": [
            [
             0,
             "#8e0152"
            ],
            [
             0.1,
             "#c51b7d"
            ],
            [
             0.2,
             "#de77ae"
            ],
            [
             0.3,
             "#f1b6da"
            ],
            [
             0.4,
             "#fde0ef"
            ],
            [
             0.5,
             "#f7f7f7"
            ],
            [
             0.6,
             "#e6f5d0"
            ],
            [
             0.7,
             "#b8e186"
            ],
            [
             0.8,
             "#7fbc41"
            ],
            [
             0.9,
             "#4d9221"
            ],
            [
             1,
             "#276419"
            ]
           ],
           "sequential": [
            [
             0,
             "#0d0887"
            ],
            [
             0.1111111111111111,
             "#46039f"
            ],
            [
             0.2222222222222222,
             "#7201a8"
            ],
            [
             0.3333333333333333,
             "#9c179e"
            ],
            [
             0.4444444444444444,
             "#bd3786"
            ],
            [
             0.5555555555555556,
             "#d8576b"
            ],
            [
             0.6666666666666666,
             "#ed7953"
            ],
            [
             0.7777777777777778,
             "#fb9f3a"
            ],
            [
             0.8888888888888888,
             "#fdca26"
            ],
            [
             1,
             "#f0f921"
            ]
           ],
           "sequentialminus": [
            [
             0,
             "#0d0887"
            ],
            [
             0.1111111111111111,
             "#46039f"
            ],
            [
             0.2222222222222222,
             "#7201a8"
            ],
            [
             0.3333333333333333,
             "#9c179e"
            ],
            [
             0.4444444444444444,
             "#bd3786"
            ],
            [
             0.5555555555555556,
             "#d8576b"
            ],
            [
             0.6666666666666666,
             "#ed7953"
            ],
            [
             0.7777777777777778,
             "#fb9f3a"
            ],
            [
             0.8888888888888888,
             "#fdca26"
            ],
            [
             1,
             "#f0f921"
            ]
           ]
          },
          "colorway": [
           "#636efa",
           "#EF553B",
           "#00cc96",
           "#ab63fa",
           "#FFA15A",
           "#19d3f3",
           "#FF6692",
           "#B6E880",
           "#FF97FF",
           "#FECB52"
          ],
          "font": {
           "color": "#2a3f5f"
          },
          "geo": {
           "bgcolor": "white",
           "lakecolor": "white",
           "landcolor": "#E5ECF6",
           "showlakes": true,
           "showland": true,
           "subunitcolor": "white"
          },
          "hoverlabel": {
           "align": "left"
          },
          "hovermode": "closest",
          "mapbox": {
           "style": "light"
          },
          "paper_bgcolor": "white",
          "plot_bgcolor": "#E5ECF6",
          "polar": {
           "angularaxis": {
            "gridcolor": "white",
            "linecolor": "white",
            "ticks": ""
           },
           "bgcolor": "#E5ECF6",
           "radialaxis": {
            "gridcolor": "white",
            "linecolor": "white",
            "ticks": ""
           }
          },
          "scene": {
           "xaxis": {
            "backgroundcolor": "#E5ECF6",
            "gridcolor": "white",
            "gridwidth": 2,
            "linecolor": "white",
            "showbackground": true,
            "ticks": "",
            "zerolinecolor": "white"
           },
           "yaxis": {
            "backgroundcolor": "#E5ECF6",
            "gridcolor": "white",
            "gridwidth": 2,
            "linecolor": "white",
            "showbackground": true,
            "ticks": "",
            "zerolinecolor": "white"
           },
           "zaxis": {
            "backgroundcolor": "#E5ECF6",
            "gridcolor": "white",
            "gridwidth": 2,
            "linecolor": "white",
            "showbackground": true,
            "ticks": "",
            "zerolinecolor": "white"
           }
          },
          "shapedefaults": {
           "line": {
            "color": "#2a3f5f"
           }
          },
          "ternary": {
           "aaxis": {
            "gridcolor": "white",
            "linecolor": "white",
            "ticks": ""
           },
           "baxis": {
            "gridcolor": "white",
            "linecolor": "white",
            "ticks": ""
           },
           "bgcolor": "#E5ECF6",
           "caxis": {
            "gridcolor": "white",
            "linecolor": "white",
            "ticks": ""
           }
          },
          "title": {
           "x": 0.05
          },
          "xaxis": {
           "automargin": true,
           "gridcolor": "white",
           "linecolor": "white",
           "ticks": "",
           "title": {
            "standoff": 15
           },
           "zerolinecolor": "white",
           "zerolinewidth": 2
          },
          "yaxis": {
           "automargin": true,
           "gridcolor": "white",
           "linecolor": "white",
           "ticks": "",
           "title": {
            "standoff": 15
           },
           "zerolinecolor": "white",
           "zerolinewidth": 2
          }
         }
        },
        "title": {
         "font": {
          "size": 18
         },
         "text": "RELIANCE"
        }
       }
      },
      "text/html": [
       "<div>                            <div id=\"69215736-6cc1-4f47-97f0-45e20b9825d7\" class=\"plotly-graph-div\" style=\"height:525px; width:100%;\"></div>            <script type=\"text/javascript\">                require([\"plotly\"], function(Plotly) {                    window.PLOTLYENV=window.PLOTLYENV || {};                                    if (document.getElementById(\"69215736-6cc1-4f47-97f0-45e20b9825d7\")) {                    Plotly.newPlot(                        \"69215736-6cc1-4f47-97f0-45e20b9825d7\",                        [{\"close\":[2408.7,2413.7,2433.25,2411.85,2388.1,2391.4,2423.9,2420.45,2377.55,2397.15,2401.8,2422.25,2437.1,2503.0,2486.3,2503.1,2420.4,2421.5,2419.2,2457.1,2509.45,2574.85,2584.65,2606.35,2571.9,2534.0,2567.15,2582.5,2591.1,2633.0,2651.3,2665.15,2661.3,2613.85,2606.6,2646.8,2639.75,2632.05,2618.0,2597.65,2637.95,2560.4,2530.5,2569.8,2596.85,2581.75,2585.4,2569.3,2598.05,2619.75,2588.35,2562.7,2499.2,2502.45,2502.85,2509.75,2486.1,2439.5,2377.35,2396.25,2332.45,2325.3,2377.75,2369.5,2413.2,2422.1,2432.35,2405.8,2357.9,2375.25,2382.8,2370.7,2408.75,2451.25,2493.9,2500.6,2471.6,2479.85,2441.55,2451.15,2526.15,2549.6,2529.85,2545.65,2555.15,2592.75,2606.6,2604.0,2572.5,2631.8,2619.05,2607.3,2592.35,2599.05,2597.65,2550.9,2565.05,2557.05,2579.1,2617.6,2707.55],\"high\":[2592.0,2442.0,2464.9,2441.95,2433.25,2418.0,2428.8,2439.7,2434.0,2433.95,2415.0,2425.0,2447.0,2542.5,2500.0,2516.3,2467.45,2443.9,2427.0,2467.95,2517.1,2587.75,2607.8,2610.0,2617.75,2578.8,2583.55,2589.9,2609.9,2641.35,2657.3,2676.9,2669.0,2661.7,2631.3,2653.2,2670.0,2662.9,2650.0,2655.0,2645.25,2604.95,2575.35,2581.5,2606.0,2594.9,2598.0,2610.0,2612.0,2629.7,2610.0,2603.55,2553.0,2522.7,2537.7,2533.0,2503.0,2495.95,2417.8,2426.0,2378.0,2367.5,2402.0,2416.95,2418.0,2450.0,2443.9,2417.6,2414.0,2381.7,2394.0,2416.35,2414.0,2463.0,2527.85,2519.0,2516.8,2502.5,2499.0,2468.45,2535.0,2560.95,2600.0,2550.2,2559.55,2600.0,2610.3,2621.95,2596.55,2636.0,2642.0,2626.4,2615.95,2613.0,2609.0,2588.0,2568.5,2577.9,2594.0,2624.9,2721.05],\"low\":[2365.0,2366.1,2417.1,2388.0,2375.0,2382.55,2370.0,2404.0,2373.0,2376.95,2383.1,2392.3,2400.3,2486.25,2467.3,2495.0,2403.0,2411.35,2402.0,2421.0,2464.0,2507.6,2561.55,2567.45,2535.0,2526.95,2531.0,2557.05,2580.2,2582.2,2627.3,2655.55,2640.2,2604.95,2586.0,2591.35,2635.35,2622.6,2607.0,2578.05,2576.6,2550.7,2525.7,2531.0,2572.0,2570.0,2571.0,2564.0,2570.55,2601.0,2572.75,2556.75,2491.0,2481.35,2494.7,2495.0,2472.1,2436.1,2375.15,2360.1,2327.1,2313.0,2311.0,2363.0,2390.15,2418.15,2414.65,2388.0,2351.1,2343.1,2360.1,2369.1,2343.6,2420.15,2441.7,2485.0,2467.0,2455.3,2438.0,2432.8,2459.45,2532.2,2508.0,2515.0,2525.05,2551.1,2574.0,2590.05,2563.0,2588.0,2605.15,2590.0,2581.35,2580.0,2571.1,2543.1,2536.5,2552.25,2548.2,2582.1,2502.0],\"open\":[2574.9,2378.95,2423.0,2420.1,2425.9,2418.0,2376.5,2404.0,2427.3,2388.0,2415.0,2421.0,2400.3,2540.0,2494.0,2500.0,2467.45,2421.1,2419.95,2436.0,2474.7,2519.15,2572.5,2600.0,2610.0,2576.0,2531.0,2576.9,2603.1,2590.3,2646.2,2665.0,2660.0,2650.0,2617.0,2594.0,2640.1,2648.95,2633.0,2585.0,2614.0,2582.65,2560.4,2531.0,2573.0,2575.0,2588.25,2610.0,2570.55,2618.0,2575.0,2583.0,2543.75,2499.2,2522.45,2496.75,2486.0,2485.0,2394.05,2394.0,2360.35,2360.0,2311.0,2391.5,2397.8,2429.0,2414.65,2405.0,2414.0,2352.0,2371.4,2415.0,2355.0,2422.0,2454.5,2485.0,2507.7,2460.0,2499.0,2458.0,2465.0,2541.0,2600.0,2532.3,2529.85,2553.9,2591.0,2610.3,2590.0,2600.0,2630.75,2622.3,2610.0,2584.95,2606.75,2588.0,2545.0,2575.0,2566.0,2589.0,2608.9],\"x\":[243,244,245,246,247,248,249,250,251,252,253,254,255,256,257,258,259,260,261,262,263,264,265,266,267,268,269,270,271,272,273,274,275,276,277,278,279,280,281,282,283,284,285,286,287,288,289,290,291,292,293,294,295,296,297,298,299,300,301,302,303,304,305,306,307,308,309,310,311,312,313,314,315,316,317,318,319,320,321,322,323,324,325,326,327,328,329,330,331,332,333,334,335,336,337,338,339,340,341,342,343],\"type\":\"candlestick\"},{\"marker\":{\"color\":\"Black\",\"size\":7,\"symbol\":\"hexagram\"},\"mode\":\"markers\",\"name\":\"signal\",\"x\":[243,244,245,246,247,248,249,250,251,252,253,254,255,256,257,258,259,260,261,262,263,264,265,266,267,268,269,270,271,272,273,274,275,276,277,278,279,280,281,282,283,284,285,286,287,288,289,290,291,292,293,294,295,296,297,298,299,300,301,302,303,304,305,306,307,308,309,310,311,312,313,314,315,316,317,318,319,320,321,322,323,324,325,326,327,328,329,330,331,332,333,334,335,336,337,338,339,340,341,342,343],\"y\":[null,null,null,null,null,null,null,null,null,null,null,null,null,2548.125,null,null,null,null,null,null,null,null,null,null,null,null,null,null,null,null,null,null,null,null,null,null,null,null,null,null,null,null,null,null,null,null,null,null,null,null,null,null,null,null,null,null,null,null,null,null,null,null,null,null,null,null,null,null,null,null,null,null,null,null,null,null,null,null,null,null,null,null,null,null,null,null,null,null,null,null,null,null,null,null,null,2538.6099999999997,null,null,null,null,2480.095],\"type\":\"scatter\"}],                        {\"template\":{\"data\":{\"histogram2dcontour\":[{\"type\":\"histogram2dcontour\",\"colorbar\":{\"outlinewidth\":0,\"ticks\":\"\"},\"colorscale\":[[0.0,\"#0d0887\"],[0.1111111111111111,\"#46039f\"],[0.2222222222222222,\"#7201a8\"],[0.3333333333333333,\"#9c179e\"],[0.4444444444444444,\"#bd3786\"],[0.5555555555555556,\"#d8576b\"],[0.6666666666666666,\"#ed7953\"],[0.7777777777777778,\"#fb9f3a\"],[0.8888888888888888,\"#fdca26\"],[1.0,\"#f0f921\"]]}],\"choropleth\":[{\"type\":\"choropleth\",\"colorbar\":{\"outlinewidth\":0,\"ticks\":\"\"}}],\"histogram2d\":[{\"type\":\"histogram2d\",\"colorbar\":{\"outlinewidth\":0,\"ticks\":\"\"},\"colorscale\":[[0.0,\"#0d0887\"],[0.1111111111111111,\"#46039f\"],[0.2222222222222222,\"#7201a8\"],[0.3333333333333333,\"#9c179e\"],[0.4444444444444444,\"#bd3786\"],[0.5555555555555556,\"#d8576b\"],[0.6666666666666666,\"#ed7953\"],[0.7777777777777778,\"#fb9f3a\"],[0.8888888888888888,\"#fdca26\"],[1.0,\"#f0f921\"]]}],\"heatmap\":[{\"type\":\"heatmap\",\"colorbar\":{\"outlinewidth\":0,\"ticks\":\"\"},\"colorscale\":[[0.0,\"#0d0887\"],[0.1111111111111111,\"#46039f\"],[0.2222222222222222,\"#7201a8\"],[0.3333333333333333,\"#9c179e\"],[0.4444444444444444,\"#bd3786\"],[0.5555555555555556,\"#d8576b\"],[0.6666666666666666,\"#ed7953\"],[0.7777777777777778,\"#fb9f3a\"],[0.8888888888888888,\"#fdca26\"],[1.0,\"#f0f921\"]]}],\"heatmapgl\":[{\"type\":\"heatmapgl\",\"colorbar\":{\"outlinewidth\":0,\"ticks\":\"\"},\"colorscale\":[[0.0,\"#0d0887\"],[0.1111111111111111,\"#46039f\"],[0.2222222222222222,\"#7201a8\"],[0.3333333333333333,\"#9c179e\"],[0.4444444444444444,\"#bd3786\"],[0.5555555555555556,\"#d8576b\"],[0.6666666666666666,\"#ed7953\"],[0.7777777777777778,\"#fb9f3a\"],[0.8888888888888888,\"#fdca26\"],[1.0,\"#f0f921\"]]}],\"contourcarpet\":[{\"type\":\"contourcarpet\",\"colorbar\":{\"outlinewidth\":0,\"ticks\":\"\"}}],\"contour\":[{\"type\":\"contour\",\"colorbar\":{\"outlinewidth\":0,\"ticks\":\"\"},\"colorscale\":[[0.0,\"#0d0887\"],[0.1111111111111111,\"#46039f\"],[0.2222222222222222,\"#7201a8\"],[0.3333333333333333,\"#9c179e\"],[0.4444444444444444,\"#bd3786\"],[0.5555555555555556,\"#d8576b\"],[0.6666666666666666,\"#ed7953\"],[0.7777777777777778,\"#fb9f3a\"],[0.8888888888888888,\"#fdca26\"],[1.0,\"#f0f921\"]]}],\"surface\":[{\"type\":\"surface\",\"colorbar\":{\"outlinewidth\":0,\"ticks\":\"\"},\"colorscale\":[[0.0,\"#0d0887\"],[0.1111111111111111,\"#46039f\"],[0.2222222222222222,\"#7201a8\"],[0.3333333333333333,\"#9c179e\"],[0.4444444444444444,\"#bd3786\"],[0.5555555555555556,\"#d8576b\"],[0.6666666666666666,\"#ed7953\"],[0.7777777777777778,\"#fb9f3a\"],[0.8888888888888888,\"#fdca26\"],[1.0,\"#f0f921\"]]}],\"mesh3d\":[{\"type\":\"mesh3d\",\"colorbar\":{\"outlinewidth\":0,\"ticks\":\"\"}}],\"scatter\":[{\"fillpattern\":{\"fillmode\":\"overlay\",\"size\":10,\"solidity\":0.2},\"type\":\"scatter\"}],\"parcoords\":[{\"type\":\"parcoords\",\"line\":{\"colorbar\":{\"outlinewidth\":0,\"ticks\":\"\"}}}],\"scatterpolargl\":[{\"type\":\"scatterpolargl\",\"marker\":{\"colorbar\":{\"outlinewidth\":0,\"ticks\":\"\"}}}],\"bar\":[{\"error_x\":{\"color\":\"#2a3f5f\"},\"error_y\":{\"color\":\"#2a3f5f\"},\"marker\":{\"line\":{\"color\":\"#E5ECF6\",\"width\":0.5},\"pattern\":{\"fillmode\":\"overlay\",\"size\":10,\"solidity\":0.2}},\"type\":\"bar\"}],\"scattergeo\":[{\"type\":\"scattergeo\",\"marker\":{\"colorbar\":{\"outlinewidth\":0,\"ticks\":\"\"}}}],\"scatterpolar\":[{\"type\":\"scatterpolar\",\"marker\":{\"colorbar\":{\"outlinewidth\":0,\"ticks\":\"\"}}}],\"histogram\":[{\"marker\":{\"pattern\":{\"fillmode\":\"overlay\",\"size\":10,\"solidity\":0.2}},\"type\":\"histogram\"}],\"scattergl\":[{\"type\":\"scattergl\",\"marker\":{\"colorbar\":{\"outlinewidth\":0,\"ticks\":\"\"}}}],\"scatter3d\":[{\"type\":\"scatter3d\",\"line\":{\"colorbar\":{\"outlinewidth\":0,\"ticks\":\"\"}},\"marker\":{\"colorbar\":{\"outlinewidth\":0,\"ticks\":\"\"}}}],\"scattermapbox\":[{\"type\":\"scattermapbox\",\"marker\":{\"colorbar\":{\"outlinewidth\":0,\"ticks\":\"\"}}}],\"scatterternary\":[{\"type\":\"scatterternary\",\"marker\":{\"colorbar\":{\"outlinewidth\":0,\"ticks\":\"\"}}}],\"scattercarpet\":[{\"type\":\"scattercarpet\",\"marker\":{\"colorbar\":{\"outlinewidth\":0,\"ticks\":\"\"}}}],\"carpet\":[{\"aaxis\":{\"endlinecolor\":\"#2a3f5f\",\"gridcolor\":\"white\",\"linecolor\":\"white\",\"minorgridcolor\":\"white\",\"startlinecolor\":\"#2a3f5f\"},\"baxis\":{\"endlinecolor\":\"#2a3f5f\",\"gridcolor\":\"white\",\"linecolor\":\"white\",\"minorgridcolor\":\"white\",\"startlinecolor\":\"#2a3f5f\"},\"type\":\"carpet\"}],\"table\":[{\"cells\":{\"fill\":{\"color\":\"#EBF0F8\"},\"line\":{\"color\":\"white\"}},\"header\":{\"fill\":{\"color\":\"#C8D4E3\"},\"line\":{\"color\":\"white\"}},\"type\":\"table\"}],\"barpolar\":[{\"marker\":{\"line\":{\"color\":\"#E5ECF6\",\"width\":0.5},\"pattern\":{\"fillmode\":\"overlay\",\"size\":10,\"solidity\":0.2}},\"type\":\"barpolar\"}],\"pie\":[{\"automargin\":true,\"type\":\"pie\"}]},\"layout\":{\"autotypenumbers\":\"strict\",\"colorway\":[\"#636efa\",\"#EF553B\",\"#00cc96\",\"#ab63fa\",\"#FFA15A\",\"#19d3f3\",\"#FF6692\",\"#B6E880\",\"#FF97FF\",\"#FECB52\"],\"font\":{\"color\":\"#2a3f5f\"},\"hovermode\":\"closest\",\"hoverlabel\":{\"align\":\"left\"},\"paper_bgcolor\":\"white\",\"plot_bgcolor\":\"#E5ECF6\",\"polar\":{\"bgcolor\":\"#E5ECF6\",\"angularaxis\":{\"gridcolor\":\"white\",\"linecolor\":\"white\",\"ticks\":\"\"},\"radialaxis\":{\"gridcolor\":\"white\",\"linecolor\":\"white\",\"ticks\":\"\"}},\"ternary\":{\"bgcolor\":\"#E5ECF6\",\"aaxis\":{\"gridcolor\":\"white\",\"linecolor\":\"white\",\"ticks\":\"\"},\"baxis\":{\"gridcolor\":\"white\",\"linecolor\":\"white\",\"ticks\":\"\"},\"caxis\":{\"gridcolor\":\"white\",\"linecolor\":\"white\",\"ticks\":\"\"}},\"coloraxis\":{\"colorbar\":{\"outlinewidth\":0,\"ticks\":\"\"}},\"colorscale\":{\"sequential\":[[0.0,\"#0d0887\"],[0.1111111111111111,\"#46039f\"],[0.2222222222222222,\"#7201a8\"],[0.3333333333333333,\"#9c179e\"],[0.4444444444444444,\"#bd3786\"],[0.5555555555555556,\"#d8576b\"],[0.6666666666666666,\"#ed7953\"],[0.7777777777777778,\"#fb9f3a\"],[0.8888888888888888,\"#fdca26\"],[1.0,\"#f0f921\"]],\"sequentialminus\":[[0.0,\"#0d0887\"],[0.1111111111111111,\"#46039f\"],[0.2222222222222222,\"#7201a8\"],[0.3333333333333333,\"#9c179e\"],[0.4444444444444444,\"#bd3786\"],[0.5555555555555556,\"#d8576b\"],[0.6666666666666666,\"#ed7953\"],[0.7777777777777778,\"#fb9f3a\"],[0.8888888888888888,\"#fdca26\"],[1.0,\"#f0f921\"]],\"diverging\":[[0,\"#8e0152\"],[0.1,\"#c51b7d\"],[0.2,\"#de77ae\"],[0.3,\"#f1b6da\"],[0.4,\"#fde0ef\"],[0.5,\"#f7f7f7\"],[0.6,\"#e6f5d0\"],[0.7,\"#b8e186\"],[0.8,\"#7fbc41\"],[0.9,\"#4d9221\"],[1,\"#276419\"]]},\"xaxis\":{\"gridcolor\":\"white\",\"linecolor\":\"white\",\"ticks\":\"\",\"title\":{\"standoff\":15},\"zerolinecolor\":\"white\",\"automargin\":true,\"zerolinewidth\":2},\"yaxis\":{\"gridcolor\":\"white\",\"linecolor\":\"white\",\"ticks\":\"\",\"title\":{\"standoff\":15},\"zerolinecolor\":\"white\",\"automargin\":true,\"zerolinewidth\":2},\"scene\":{\"xaxis\":{\"backgroundcolor\":\"#E5ECF6\",\"gridcolor\":\"white\",\"linecolor\":\"white\",\"showbackground\":true,\"ticks\":\"\",\"zerolinecolor\":\"white\",\"gridwidth\":2},\"yaxis\":{\"backgroundcolor\":\"#E5ECF6\",\"gridcolor\":\"white\",\"linecolor\":\"white\",\"showbackground\":true,\"ticks\":\"\",\"zerolinecolor\":\"white\",\"gridwidth\":2},\"zaxis\":{\"backgroundcolor\":\"#E5ECF6\",\"gridcolor\":\"white\",\"linecolor\":\"white\",\"showbackground\":true,\"ticks\":\"\",\"zerolinecolor\":\"white\",\"gridwidth\":2}},\"shapedefaults\":{\"line\":{\"color\":\"#2a3f5f\"}},\"annotationdefaults\":{\"arrowcolor\":\"#2a3f5f\",\"arrowhead\":0,\"arrowwidth\":1},\"geo\":{\"bgcolor\":\"white\",\"landcolor\":\"#E5ECF6\",\"subunitcolor\":\"white\",\"showland\":true,\"showlakes\":true,\"lakecolor\":\"white\"},\"title\":{\"x\":0.05},\"mapbox\":{\"style\":\"light\"}}},\"shapes\":[{\"layer\":\"below\",\"line\":{\"color\":\"blue\"},\"type\":\"line\",\"x0\":241,\"x1\":346,\"xref\":\"x\",\"y0\":2366.0,\"y1\":2366.0,\"yref\":\"y\"},{\"layer\":\"below\",\"line\":{\"color\":\"blue\"},\"type\":\"line\",\"x0\":241,\"x1\":346,\"xref\":\"x\",\"y0\":2456.4,\"y1\":2456.4,\"yref\":\"y\"},{\"layer\":\"below\",\"line\":{\"color\":\"blue\"},\"type\":\"line\",\"x0\":241,\"x1\":346,\"xref\":\"x\",\"y0\":2309.0,\"y1\":2309.0,\"yref\":\"y\"},{\"layer\":\"below\",\"line\":{\"color\":\"blue\"},\"type\":\"line\",\"x0\":241,\"x1\":346,\"xref\":\"x\",\"y0\":2357.15,\"y1\":2357.15,\"yref\":\"y\"},{\"layer\":\"below\",\"line\":{\"color\":\"blue\"},\"type\":\"line\",\"x0\":241,\"x1\":346,\"xref\":\"x\",\"y0\":2305.0,\"y1\":2305.0,\"yref\":\"y\"},{\"layer\":\"below\",\"line\":{\"color\":\"blue\"},\"type\":\"line\",\"x0\":241,\"x1\":346,\"xref\":\"x\",\"y0\":2521.8,\"y1\":2521.8,\"yref\":\"y\"},{\"layer\":\"below\",\"line\":{\"color\":\"blue\"},\"type\":\"line\",\"x0\":241,\"x1\":346,\"xref\":\"x\",\"y0\":2370.0,\"y1\":2370.0,\"yref\":\"y\"},{\"layer\":\"below\",\"line\":{\"color\":\"blue\"},\"type\":\"line\",\"x0\":241,\"x1\":346,\"xref\":\"x\",\"y0\":2540.1,\"y1\":2540.1,\"yref\":\"y\"},{\"layer\":\"below\",\"line\":{\"color\":\"blue\"},\"type\":\"line\",\"x0\":241,\"x1\":346,\"xref\":\"x\",\"y0\":2445.0,\"y1\":2445.0,\"yref\":\"y\"},{\"layer\":\"below\",\"line\":{\"color\":\"blue\"},\"type\":\"line\",\"x0\":241,\"x1\":346,\"xref\":\"x\",\"y0\":2365.0,\"y1\":2365.0,\"yref\":\"y\"},{\"layer\":\"below\",\"line\":{\"color\":\"blue\"},\"type\":\"line\",\"x0\":241,\"x1\":346,\"xref\":\"x\",\"y0\":2402.0,\"y1\":2402.0,\"yref\":\"y\"},{\"layer\":\"below\",\"line\":{\"color\":\"blue\"},\"type\":\"line\",\"x0\":241,\"x1\":346,\"xref\":\"x\",\"y0\":2586.0,\"y1\":2586.0,\"yref\":\"y\"},{\"layer\":\"below\",\"line\":{\"color\":\"blue\"},\"type\":\"line\",\"x0\":241,\"x1\":346,\"xref\":\"x\",\"y0\":2525.7,\"y1\":2525.7,\"yref\":\"y\"},{\"layer\":\"below\",\"line\":{\"color\":\"blue\"},\"type\":\"line\",\"x0\":241,\"x1\":346,\"xref\":\"x\",\"y0\":2311.0,\"y1\":2311.0,\"yref\":\"y\"},{\"layer\":\"below\",\"line\":{\"color\":\"blue\"},\"type\":\"line\",\"x0\":241,\"x1\":346,\"xref\":\"x\",\"y0\":2343.1,\"y1\":2343.1,\"yref\":\"y\"},{\"layer\":\"below\",\"line\":{\"color\":\"blue\"},\"type\":\"line\",\"x0\":241,\"x1\":346,\"xref\":\"x\",\"y0\":2432.8,\"y1\":2432.8,\"yref\":\"y\"},{\"layer\":\"below\",\"line\":{\"color\":\"blue\"},\"type\":\"line\",\"x0\":241,\"x1\":346,\"xref\":\"x\",\"y0\":2480.0,\"y1\":2480.0,\"yref\":\"y\"},{\"layer\":\"below\",\"line\":{\"color\":\"blue\"},\"type\":\"line\",\"x0\":241,\"x1\":346,\"xref\":\"x\",\"y0\":2602.2,\"y1\":2602.2,\"yref\":\"y\"},{\"layer\":\"below\",\"line\":{\"color\":\"blue\"},\"type\":\"line\",\"x0\":241,\"x1\":346,\"xref\":\"x\",\"y0\":2502.0,\"y1\":2502.0,\"yref\":\"y\"},{\"layer\":\"below\",\"line\":{\"color\":\"blue\"},\"type\":\"line\",\"x0\":241,\"x1\":346,\"xref\":\"x\",\"y0\":2567.3,\"y1\":2567.3,\"yref\":\"y\"},{\"layer\":\"below\",\"line\":{\"color\":\"blue\"},\"type\":\"line\",\"x0\":241,\"x1\":346,\"xref\":\"x\",\"y0\":2420.6,\"y1\":2420.6,\"yref\":\"y\"},{\"layer\":\"below\",\"line\":{\"color\":\"blue\"},\"type\":\"line\",\"x0\":241,\"x1\":346,\"xref\":\"x\",\"y0\":2456.4,\"y1\":2456.4,\"yref\":\"y\"},{\"layer\":\"below\",\"line\":{\"color\":\"blue\"},\"type\":\"line\",\"x0\":241,\"x1\":346,\"xref\":\"x\",\"y0\":2414.85,\"y1\":2414.85,\"yref\":\"y\"},{\"layer\":\"below\",\"line\":{\"color\":\"blue\"},\"type\":\"line\",\"x0\":241,\"x1\":346,\"xref\":\"x\",\"y0\":2688.0,\"y1\":2688.0,\"yref\":\"y\"},{\"layer\":\"below\",\"line\":{\"color\":\"blue\"},\"type\":\"line\",\"x0\":241,\"x1\":346,\"xref\":\"x\",\"y0\":2615.9,\"y1\":2615.9,\"yref\":\"y\"},{\"layer\":\"below\",\"line\":{\"color\":\"blue\"},\"type\":\"line\",\"x0\":241,\"x1\":346,\"xref\":\"x\",\"y0\":2542.5,\"y1\":2542.5,\"yref\":\"y\"},{\"layer\":\"below\",\"line\":{\"color\":\"blue\"},\"type\":\"line\",\"x0\":241,\"x1\":346,\"xref\":\"x\",\"y0\":2617.75,\"y1\":2617.75,\"yref\":\"y\"},{\"layer\":\"below\",\"line\":{\"color\":\"blue\"},\"type\":\"line\",\"x0\":241,\"x1\":346,\"xref\":\"x\",\"y0\":2676.9,\"y1\":2676.9,\"yref\":\"y\"},{\"layer\":\"below\",\"line\":{\"color\":\"blue\"},\"type\":\"line\",\"x0\":241,\"x1\":346,\"xref\":\"x\",\"y0\":2629.7,\"y1\":2629.7,\"yref\":\"y\"},{\"layer\":\"below\",\"line\":{\"color\":\"blue\"},\"type\":\"line\",\"x0\":241,\"x1\":346,\"xref\":\"x\",\"y0\":2450.0,\"y1\":2450.0,\"yref\":\"y\"},{\"layer\":\"below\",\"line\":{\"color\":\"blue\"},\"type\":\"line\",\"x0\":241,\"x1\":346,\"xref\":\"x\",\"y0\":2527.85,\"y1\":2527.85,\"yref\":\"y\"},{\"layer\":\"below\",\"line\":{\"color\":\"blue\"},\"type\":\"line\",\"x0\":241,\"x1\":346,\"xref\":\"x\",\"y0\":2642.0,\"y1\":2642.0,\"yref\":\"y\"}],\"title\":{\"font\":{\"size\":18},\"text\":\"RELIANCE\"}},                        {\"responsive\": true}                    ).then(function(){\n",
       "                            \n",
       "var gd = document.getElementById('69215736-6cc1-4f47-97f0-45e20b9825d7');\n",
       "var x = new MutationObserver(function (mutations, observer) {{\n",
       "        var display = window.getComputedStyle(gd).display;\n",
       "        if (!display || display === 'none') {{\n",
       "            console.log([gd, 'removed!']);\n",
       "            Plotly.purge(gd);\n",
       "            observer.disconnect();\n",
       "        }}\n",
       "}});\n",
       "\n",
       "// Listen for the removal of the full notebook cells\n",
       "var notebookContainer = gd.closest('#notebook-container');\n",
       "if (notebookContainer) {{\n",
       "    x.observe(notebookContainer, {childList: true});\n",
       "}}\n",
       "\n",
       "// Listen for the clearing of the current output cell\n",
       "var outputEl = gd.closest('.output');\n",
       "if (outputEl) {{\n",
       "    x.observe(outputEl, {childList: true});\n",
       "}}\n",
       "\n",
       "                        })                };                });            </script>        </div>"
      ]
     },
     "metadata": {},
     "output_type": "display_data"
    }
   ],
   "source": [
    "indicator.showIndicator(343)"
   ]
  }
 ],
 "metadata": {
  "kernelspec": {
   "display_name": "Python 3 (ipykernel)",
   "language": "python",
   "name": "python3"
  },
  "language_info": {
   "codemirror_mode": {
    "name": "ipython",
    "version": 3
   },
   "file_extension": ".py",
   "mimetype": "text/x-python",
   "name": "python",
   "nbconvert_exporter": "python",
   "pygments_lexer": "ipython3",
   "version": "3.10.10"
  }
 },
 "nbformat": 4,
 "nbformat_minor": 2
}
