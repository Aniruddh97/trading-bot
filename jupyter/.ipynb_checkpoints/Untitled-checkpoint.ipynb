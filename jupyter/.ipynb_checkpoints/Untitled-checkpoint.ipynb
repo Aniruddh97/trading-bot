{
 "cells": [
  {
   "cell_type": "code",
   "execution_count": 31,
   "id": "478a969f",
   "metadata": {},
   "outputs": [],
   "source": [
    "import yfinance as yf\n",
    "import pandas as pd\n",
    "import numpy as np\n",
    "import plotly.graph_objects as go\n",
    "from scipy import stats\n",
    "\n",
    "\n",
    "data = yf.download(\"ITC.NS\", period=\"5y\", interval=\"1d\", group_by=\"columns\", progress=False, ignore_tz=False)\n",
    "data.insert(loc=0, column=\"Date\", value=data.index)\n",
    "data.insert(loc=0, column=\"Index\", value=list(range(0,len(data[\"Open\"]))))\n",
    "df = data.set_index(\"Index\")"
   ]
  },
  {
   "cell_type": "code",
   "execution_count": 43,
   "id": "2ec3fba8",
   "metadata": {},
   "outputs": [],
   "source": [
    "class ChannelBreakoutIndicator:\n",
    "\n",
    "    def __init__(self, data):\n",
    "        self.window = 4\n",
    "        self.df = data\n",
    "\n",
    "\n",
    "    def isPivot(self, candleIndex):\n",
    "        \"\"\"\n",
    "        function that detects if a candle is a pivot/fractal point\n",
    "        args: candle index, window before and after candle to test if pivot\n",
    "        returns: 1 if pivot high, 2 if pivot low, 3 if both and 0 default\n",
    "        \"\"\"\n",
    "        if candleIndex-self.window < 0 or candleIndex+self.window >= len(self.df):\n",
    "            return 0\n",
    "        \n",
    "        pivotHigh = 1\n",
    "        pivotLow = 2\n",
    "        for i in range(candleIndex-self.window, candleIndex+self.window+1):\n",
    "            if self.df.iloc[candleIndex].Low > self.df.iloc[i].Low:\n",
    "                pivotLow=0\n",
    "            if self.df.iloc[candleIndex].High < self.df.iloc[i].High:\n",
    "                pivotHigh=0\n",
    "        if (pivotHigh and pivotLow):\n",
    "            return 3\n",
    "        elif pivotHigh:\n",
    "            return pivotHigh\n",
    "        elif pivotLow:\n",
    "            return pivotLow\n",
    "        else:\n",
    "            return 0\n",
    "    \n",
    "\n",
    "    def setPivotPoint(self):\n",
    "        # self.df['isPivot'] = self.df.apply(lambda x: self.isPivot(x.name), axis=1)\n",
    "        self.df['isPivot'] = [self.isPivot(candleIndex) for candleIndex in self.df.index]\n",
    "\n",
    "\n",
    "    def markPivot(self, x):\n",
    "        markerDistance = x['High']-x['Low'] / 100\n",
    "        if x['isPivot']==2:\n",
    "            return x['Low'] - markerDistance\n",
    "        elif x['isPivot']==1:\n",
    "            return x['High'] + markerDistance\n",
    "        else:\n",
    "            return np.nan\n",
    "    \n",
    "\n",
    "    def setPivotMarker(self):\n",
    "#         self.df[\"pivotMarker\"] = self.df.apply(lambda row: self.markPivot(row), axis=1)\n",
    "        self.df['pivotMarker'] = [self.markPivot(row) for index, row in self.df.iterrows()]\n",
    "        \n",
    "\n",
    "    \n",
    "    def showPivotMarkers(self, startIndex=0, endIndex=0):\n",
    "        if (endIndex<=startIndex or startIndex<0 or endIndex>=len(self.df)):\n",
    "            print(\"\\n Invalid startIndex or endIndex\")\n",
    "            \n",
    "        self.setPivotPoint()\n",
    "        self.setPivotMarker()"
   ]
  },
  {
   "cell_type": "code",
   "execution_count": 44,
   "id": "46a4055b",
   "metadata": {},
   "outputs": [],
   "source": [
    "cbInd = ChannelBreakoutIndicator(df)"
   ]
  },
  {
   "cell_type": "code",
   "execution_count": 45,
   "id": "4bf87ccd",
   "metadata": {},
   "outputs": [
    {
     "name": "stdout",
     "output_type": "stream",
     "text": [
      "all is well\n"
     ]
    }
   ],
   "source": [
    "cbInd.showPivotMarkers(0, 200)"
   ]
  }
 ],
 "metadata": {
  "kernelspec": {
   "display_name": "Python 3 (ipykernel)",
   "language": "python",
   "name": "python3"
  },
  "language_info": {
   "codemirror_mode": {
    "name": "ipython",
    "version": 3
   },
   "file_extension": ".py",
   "mimetype": "text/x-python",
   "name": "python",
   "nbconvert_exporter": "python",
   "pygments_lexer": "ipython3",
   "version": "3.10.10"
  }
 },
 "nbformat": 4,
 "nbformat_minor": 5
}
