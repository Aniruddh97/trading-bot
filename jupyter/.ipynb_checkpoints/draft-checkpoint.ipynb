{
 "cells": [
  {
   "cell_type": "code",
   "execution_count": 1,
   "id": "e06b81ca",
   "metadata": {
    "vscode": {
     "languageId": "plaintext"
    }
   },
   "outputs": [],
   "source": [
    "import os\n",
    "import sys\n",
    "module_path = os.path.abspath(os.path.join('..'))\n",
    "if module_path not in sys.path:\n",
    "    sys.path.append(module_path)\n",
    "    \n",
    "from main import TradingBot\n",
    "import random\n",
    "\n",
    "tb = TradingBot()"
   ]
  },
  {
   "cell_type": "code",
   "execution_count": 11,
   "id": "8ff21e2f",
   "metadata": {},
   "outputs": [
    {
     "name": "stderr",
     "output_type": "stream",
     "text": [
      "100%|██████████| 50/50 [00:09<00:00,  5.55it/s]\n",
      "100%|██████████| 2/2 [00:18<00:00,  9.22s/it]\n",
      "100%|██████████| 52/52 [00:49<00:00,  1.05it/s]\n"
     ]
    }
   ],
   "source": [
    "tb.loadData(timePeriod='2y', all=True, forceUpdate=True)\n",
    "tb.computeSignal()"
   ]
  },
  {
   "cell_type": "code",
   "execution_count": 47,
   "id": "c676a2e2",
   "metadata": {},
   "outputs": [
    {
     "data": {
      "text/plain": [
       "'CIPLA'"
      ]
     },
     "execution_count": 47,
     "metadata": {},
     "output_type": "execute_result"
    }
   ],
   "source": [
    "tickerList = list(tb.data.keys())"
   ]
  },
  {
   "cell_type": "code",
   "execution_count": null,
   "id": "d66afb1e",
   "metadata": {},
   "outputs": [
    {
     "data": {
      "application/vnd.plotly.v1+json": {
       "config": {
        "plotlyServerURL": "https://plot.ly"
       },
       "data": [
        {
         "close": [
          3171,
          3166.75,
          3115.9,
          3188.85,
          3260.5,
          3301.9,
          3298.8,
          3291.8,
          3339.5,
          3354.95,
          3365.05,
          3374.45,
          3354.25,
          3422.5,
          3401.55,
          3392.7,
          3401.1,
          3381.25,
          3385.75,
          3354.55,
          3284.6,
          3255.35,
          3218.2,
          3222.2,
          3132.55,
          3211.15,
          3131.7,
          3130.4,
          3133.4,
          3127.05,
          3149.6,
          3169.65,
          3217.65,
          3242.95,
          3229.35,
          3120.4,
          3104.35,
          3008.7,
          3028.8,
          3040.3,
          3001.2,
          3007.4,
          2982.05,
          2994.4,
          3017.45,
          3035.65,
          2997.3,
          3004.55,
          2984.95,
          3091.15,
          3101.95
         ],
         "high": [
          3197,
          3186.45,
          3168.9,
          3194.1,
          3264,
          3317.3,
          3327,
          3312.9,
          3349,
          3387.9,
          3377,
          3378.9,
          3385,
          3428.7,
          3419,
          3414.85,
          3417.95,
          3392,
          3421.5,
          3384.1,
          3341.9,
          3308,
          3278.15,
          3257,
          3142.7,
          3226.5,
          3190,
          3163,
          3147.95,
          3140.85,
          3161.9,
          3183.5,
          3233.5,
          3269.8,
          3263.45,
          3141.4,
          3137.75,
          3094.35,
          3042,
          3079.95,
          3041.4,
          3029.95,
          3022.5,
          3025.85,
          3025,
          3049.95,
          3055.85,
          3019.7,
          3020.7,
          3098,
          3124
         ],
         "low": [
          3143.5,
          3149.1,
          3096.5,
          3110,
          3201.65,
          3275,
          3271,
          3271.65,
          3277.05,
          3307.35,
          3355,
          3336,
          3335,
          3375.05,
          3381.25,
          3387.5,
          3371.1,
          3362,
          3371.25,
          3347.4,
          3270,
          3250.2,
          3214.75,
          3216.8,
          3081,
          3142.1,
          3121,
          3120.3,
          3112.25,
          3106.35,
          3102,
          3160.1,
          3168.5,
          3225,
          3225,
          3113.8,
          3100,
          3000,
          2987.8,
          3030,
          2998.15,
          2979.3,
          2979,
          2926.1,
          2976,
          2980,
          2990,
          2950.1,
          2974,
          3023,
          3092.45
         ],
         "open": [
          3185,
          3165,
          3164.7,
          3115,
          3216,
          3290,
          3327,
          3290,
          3280,
          3350,
          3361.2,
          3365,
          3385,
          3400,
          3419,
          3411,
          3385.1,
          3390,
          3387,
          3365,
          3319.95,
          3292,
          3276,
          3234.3,
          3125,
          3155,
          3190,
          3163,
          3123.65,
          3135.5,
          3102,
          3170,
          3195,
          3239.9,
          3263.45,
          3135,
          3130,
          3076,
          3036,
          3050,
          3028,
          2990,
          3004,
          2959.85,
          3009.4,
          2980,
          3054,
          2990.85,
          2995,
          3029.95,
          3111
         ],
         "type": "candlestick",
         "x": [
          253,
          254,
          255,
          256,
          257,
          258,
          259,
          260,
          261,
          262,
          263,
          264,
          265,
          266,
          267,
          268,
          269,
          270,
          271,
          272,
          273,
          274,
          275,
          276,
          277,
          278,
          279,
          280,
          281,
          282,
          283,
          284,
          285,
          286,
          287,
          288,
          289,
          290,
          291,
          292,
          293,
          294,
          295,
          296,
          297,
          298,
          299,
          300,
          301,
          302,
          303
         ]
        },
        {
         "line": {
          "color": "blue",
          "width": 1
         },
         "name": "EMA100",
         "type": "scatter",
         "x": [
          253,
          254,
          255,
          256,
          257,
          258,
          259,
          260,
          261,
          262,
          263,
          264,
          265,
          266,
          267,
          268,
          269,
          270,
          271,
          272,
          273,
          274,
          275,
          276,
          277,
          278,
          279,
          280,
          281,
          282,
          283,
          284,
          285,
          286,
          287,
          288,
          289,
          290,
          291,
          292,
          293,
          294,
          295,
          296,
          297,
          298,
          299,
          300,
          301,
          302,
          303
         ],
         "y": [
          3376.0964402631603,
          3371.950966198543,
          3366.8806500361957,
          3363.3552906295386,
          3361.318552201231,
          3360.141947207147,
          3358.9272551832432,
          3357.598002605357,
          3357.239626316142,
          3357.1942871811693,
          3357.3498458508493,
          3357.6884627646937,
          3357.6203743931155,
          3358.9051194546378,
          3359.749572534744,
          3360.4020562469273,
          3361.207956123226,
          3361.6048282792017,
          3362.0829504914946,
          3361.9337831550292,
          3360.4024211123556,
          3358.3221751497344,
          3355.547478612116,
          3352.906934481183,
          3348.54343082809,
          3345.822768831494,
          3341.582714003148,
          3337.4008780822933,
          3333.3612567341293,
          3329.2758853136515,
          3325.717946990609,
          3322.6274925947555,
          3320.548730365156,
          3319.012121843074,
          3317.236634281825,
          3313.3388791475313,
          3309.2004855010455,
          3303.2499808376583,
          3297.815327751764,
          3292.716014330937,
          3286.94341998775,
          3281.407906720666,
          3275.4800273796627,
          3269.914086243432,
          3264.9147974069283,
          3260.3749004285733,
          3255.1654964596905,
          3250.202813361479,
          3244.950282403826,
          3241.9047322572155,
          3239.133351420439
         ]
        }
       ],
       "layout": {
        "shapes": [
         {
          "layer": "below",
          "line": {
           "color": "darkgrey"
          },
          "type": "line",
          "x0": 251,
          "x1": 306,
          "xref": "x",
          "y0": 3132.4,
          "y1": 3132.4,
          "yref": "y"
         },
         {
          "layer": "below",
          "line": {
           "color": "darkgrey"
          },
          "type": "line",
          "x0": 251,
          "x1": 306,
          "xref": "x",
          "y0": 3385.95,
          "y1": 3385.95,
          "yref": "y"
         },
         {
          "layer": "below",
          "line": {
           "color": "darkgrey"
          },
          "type": "line",
          "x0": 251,
          "x1": 306,
          "xref": "x",
          "y0": 3436,
          "y1": 3436,
          "yref": "y"
         },
         {
          "layer": "below",
          "line": {
           "color": "darkgrey"
          },
          "type": "line",
          "x0": 251,
          "x1": 306,
          "xref": "x",
          "y0": 3406.45,
          "y1": 3406.45,
          "yref": "y"
         },
         {
          "layer": "below",
          "line": {
           "color": "darkgrey"
          },
          "type": "line",
          "x0": 251,
          "x1": 306,
          "xref": "x",
          "y0": 3391.1,
          "y1": 3391.1,
          "yref": "y"
         },
         {
          "layer": "below",
          "line": {
           "color": "darkgrey"
          },
          "type": "line",
          "x0": 251,
          "x1": 306,
          "xref": "x",
          "y0": 3431.55,
          "y1": 3431.55,
          "yref": "y"
         },
         {
          "layer": "below",
          "line": {
           "color": "darkgrey"
          },
          "type": "line",
          "x0": 251,
          "x1": 306,
          "xref": "x",
          "y0": 3439.15,
          "y1": 3439.15,
          "yref": "y"
         },
         {
          "layer": "below",
          "line": {
           "color": "darkgrey"
          },
          "type": "line",
          "x0": 251,
          "x1": 306,
          "xref": "x",
          "y0": 3346.85,
          "y1": 3346.85,
          "yref": "y"
         },
         {
          "layer": "below",
          "line": {
           "color": "darkgrey"
          },
          "type": "line",
          "x0": 251,
          "x1": 306,
          "xref": "x",
          "y0": 3154.05,
          "y1": 3154.05,
          "yref": "y"
         },
         {
          "layer": "below",
          "line": {
           "color": "darkgrey"
          },
          "type": "line",
          "x0": 251,
          "x1": 306,
          "xref": "x",
          "y0": 3023.85,
          "y1": 3023.85,
          "yref": "y"
         },
         {
          "layer": "below",
          "line": {
           "color": "darkgrey"
          },
          "type": "line",
          "x0": 251,
          "x1": 306,
          "xref": "x",
          "y0": 2953,
          "y1": 2953,
          "yref": "y"
         },
         {
          "layer": "below",
          "line": {
           "color": "darkgrey"
          },
          "type": "line",
          "x0": 251,
          "x1": 306,
          "xref": "x",
          "y0": 3081,
          "y1": 3081,
          "yref": "y"
         },
         {
          "layer": "below",
          "line": {
           "color": "darkgrey"
          },
          "type": "line",
          "x0": 251,
          "x1": 306,
          "xref": "x",
          "y0": 3102,
          "y1": 3102,
          "yref": "y"
         },
         {
          "layer": "below",
          "line": {
           "color": "darkgrey"
          },
          "type": "line",
          "x0": 251,
          "x1": 306,
          "xref": "x",
          "y0": 3362.9,
          "y1": 3362.9,
          "yref": "y"
         },
         {
          "layer": "below",
          "line": {
           "color": "darkgrey"
          },
          "type": "line",
          "x0": 251,
          "x1": 306,
          "xref": "x",
          "y0": 3428.7,
          "y1": 3428.7,
          "yref": "y"
         },
         {
          "layer": "below",
          "line": {
           "color": "darkgrey"
          },
          "type": "line",
          "x0": 251,
          "x1": 306,
          "xref": "x",
          "y0": 3269.8,
          "y1": 3269.8,
          "yref": "y"
         }
        ],
        "template": {
         "data": {
          "bar": [
           {
            "error_x": {
             "color": "#2a3f5f"
            },
            "error_y": {
             "color": "#2a3f5f"
            },
            "marker": {
             "line": {
              "color": "#E5ECF6",
              "width": 0.5
             },
             "pattern": {
              "fillmode": "overlay",
              "size": 10,
              "solidity": 0.2
             }
            },
            "type": "bar"
           }
          ],
          "barpolar": [
           {
            "marker": {
             "line": {
              "color": "#E5ECF6",
              "width": 0.5
             },
             "pattern": {
              "fillmode": "overlay",
              "size": 10,
              "solidity": 0.2
             }
            },
            "type": "barpolar"
           }
          ],
          "carpet": [
           {
            "aaxis": {
             "endlinecolor": "#2a3f5f",
             "gridcolor": "white",
             "linecolor": "white",
             "minorgridcolor": "white",
             "startlinecolor": "#2a3f5f"
            },
            "baxis": {
             "endlinecolor": "#2a3f5f",
             "gridcolor": "white",
             "linecolor": "white",
             "minorgridcolor": "white",
             "startlinecolor": "#2a3f5f"
            },
            "type": "carpet"
           }
          ],
          "choropleth": [
           {
            "colorbar": {
             "outlinewidth": 0,
             "ticks": ""
            },
            "type": "choropleth"
           }
          ],
          "contour": [
           {
            "colorbar": {
             "outlinewidth": 0,
             "ticks": ""
            },
            "colorscale": [
             [
              0,
              "#0d0887"
             ],
             [
              0.1111111111111111,
              "#46039f"
             ],
             [
              0.2222222222222222,
              "#7201a8"
             ],
             [
              0.3333333333333333,
              "#9c179e"
             ],
             [
              0.4444444444444444,
              "#bd3786"
             ],
             [
              0.5555555555555556,
              "#d8576b"
             ],
             [
              0.6666666666666666,
              "#ed7953"
             ],
             [
              0.7777777777777778,
              "#fb9f3a"
             ],
             [
              0.8888888888888888,
              "#fdca26"
             ],
             [
              1,
              "#f0f921"
             ]
            ],
            "type": "contour"
           }
          ],
          "contourcarpet": [
           {
            "colorbar": {
             "outlinewidth": 0,
             "ticks": ""
            },
            "type": "contourcarpet"
           }
          ],
          "heatmap": [
           {
            "colorbar": {
             "outlinewidth": 0,
             "ticks": ""
            },
            "colorscale": [
             [
              0,
              "#0d0887"
             ],
             [
              0.1111111111111111,
              "#46039f"
             ],
             [
              0.2222222222222222,
              "#7201a8"
             ],
             [
              0.3333333333333333,
              "#9c179e"
             ],
             [
              0.4444444444444444,
              "#bd3786"
             ],
             [
              0.5555555555555556,
              "#d8576b"
             ],
             [
              0.6666666666666666,
              "#ed7953"
             ],
             [
              0.7777777777777778,
              "#fb9f3a"
             ],
             [
              0.8888888888888888,
              "#fdca26"
             ],
             [
              1,
              "#f0f921"
             ]
            ],
            "type": "heatmap"
           }
          ],
          "heatmapgl": [
           {
            "colorbar": {
             "outlinewidth": 0,
             "ticks": ""
            },
            "colorscale": [
             [
              0,
              "#0d0887"
             ],
             [
              0.1111111111111111,
              "#46039f"
             ],
             [
              0.2222222222222222,
              "#7201a8"
             ],
             [
              0.3333333333333333,
              "#9c179e"
             ],
             [
              0.4444444444444444,
              "#bd3786"
             ],
             [
              0.5555555555555556,
              "#d8576b"
             ],
             [
              0.6666666666666666,
              "#ed7953"
             ],
             [
              0.7777777777777778,
              "#fb9f3a"
             ],
             [
              0.8888888888888888,
              "#fdca26"
             ],
             [
              1,
              "#f0f921"
             ]
            ],
            "type": "heatmapgl"
           }
          ],
          "histogram": [
           {
            "marker": {
             "pattern": {
              "fillmode": "overlay",
              "size": 10,
              "solidity": 0.2
             }
            },
            "type": "histogram"
           }
          ],
          "histogram2d": [
           {
            "colorbar": {
             "outlinewidth": 0,
             "ticks": ""
            },
            "colorscale": [
             [
              0,
              "#0d0887"
             ],
             [
              0.1111111111111111,
              "#46039f"
             ],
             [
              0.2222222222222222,
              "#7201a8"
             ],
             [
              0.3333333333333333,
              "#9c179e"
             ],
             [
              0.4444444444444444,
              "#bd3786"
             ],
             [
              0.5555555555555556,
              "#d8576b"
             ],
             [
              0.6666666666666666,
              "#ed7953"
             ],
             [
              0.7777777777777778,
              "#fb9f3a"
             ],
             [
              0.8888888888888888,
              "#fdca26"
             ],
             [
              1,
              "#f0f921"
             ]
            ],
            "type": "histogram2d"
           }
          ],
          "histogram2dcontour": [
           {
            "colorbar": {
             "outlinewidth": 0,
             "ticks": ""
            },
            "colorscale": [
             [
              0,
              "#0d0887"
             ],
             [
              0.1111111111111111,
              "#46039f"
             ],
             [
              0.2222222222222222,
              "#7201a8"
             ],
             [
              0.3333333333333333,
              "#9c179e"
             ],
             [
              0.4444444444444444,
              "#bd3786"
             ],
             [
              0.5555555555555556,
              "#d8576b"
             ],
             [
              0.6666666666666666,
              "#ed7953"
             ],
             [
              0.7777777777777778,
              "#fb9f3a"
             ],
             [
              0.8888888888888888,
              "#fdca26"
             ],
             [
              1,
              "#f0f921"
             ]
            ],
            "type": "histogram2dcontour"
           }
          ],
          "mesh3d": [
           {
            "colorbar": {
             "outlinewidth": 0,
             "ticks": ""
            },
            "type": "mesh3d"
           }
          ],
          "parcoords": [
           {
            "line": {
             "colorbar": {
              "outlinewidth": 0,
              "ticks": ""
             }
            },
            "type": "parcoords"
           }
          ],
          "pie": [
           {
            "automargin": true,
            "type": "pie"
           }
          ],
          "scatter": [
           {
            "fillpattern": {
             "fillmode": "overlay",
             "size": 10,
             "solidity": 0.2
            },
            "type": "scatter"
           }
          ],
          "scatter3d": [
           {
            "line": {
             "colorbar": {
              "outlinewidth": 0,
              "ticks": ""
             }
            },
            "marker": {
             "colorbar": {
              "outlinewidth": 0,
              "ticks": ""
             }
            },
            "type": "scatter3d"
           }
          ],
          "scattercarpet": [
           {
            "marker": {
             "colorbar": {
              "outlinewidth": 0,
              "ticks": ""
             }
            },
            "type": "scattercarpet"
           }
          ],
          "scattergeo": [
           {
            "marker": {
             "colorbar": {
              "outlinewidth": 0,
              "ticks": ""
             }
            },
            "type": "scattergeo"
           }
          ],
          "scattergl": [
           {
            "marker": {
             "colorbar": {
              "outlinewidth": 0,
              "ticks": ""
             }
            },
            "type": "scattergl"
           }
          ],
          "scattermapbox": [
           {
            "marker": {
             "colorbar": {
              "outlinewidth": 0,
              "ticks": ""
             }
            },
            "type": "scattermapbox"
           }
          ],
          "scatterpolar": [
           {
            "marker": {
             "colorbar": {
              "outlinewidth": 0,
              "ticks": ""
             }
            },
            "type": "scatterpolar"
           }
          ],
          "scatterpolargl": [
           {
            "marker": {
             "colorbar": {
              "outlinewidth": 0,
              "ticks": ""
             }
            },
            "type": "scatterpolargl"
           }
          ],
          "scatterternary": [
           {
            "marker": {
             "colorbar": {
              "outlinewidth": 0,
              "ticks": ""
             }
            },
            "type": "scatterternary"
           }
          ],
          "surface": [
           {
            "colorbar": {
             "outlinewidth": 0,
             "ticks": ""
            },
            "colorscale": [
             [
              0,
              "#0d0887"
             ],
             [
              0.1111111111111111,
              "#46039f"
             ],
             [
              0.2222222222222222,
              "#7201a8"
             ],
             [
              0.3333333333333333,
              "#9c179e"
             ],
             [
              0.4444444444444444,
              "#bd3786"
             ],
             [
              0.5555555555555556,
              "#d8576b"
             ],
             [
              0.6666666666666666,
              "#ed7953"
             ],
             [
              0.7777777777777778,
              "#fb9f3a"
             ],
             [
              0.8888888888888888,
              "#fdca26"
             ],
             [
              1,
              "#f0f921"
             ]
            ],
            "type": "surface"
           }
          ],
          "table": [
           {
            "cells": {
             "fill": {
              "color": "#EBF0F8"
             },
             "line": {
              "color": "white"
             }
            },
            "header": {
             "fill": {
              "color": "#C8D4E3"
             },
             "line": {
              "color": "white"
             }
            },
            "type": "table"
           }
          ]
         },
         "layout": {
          "annotationdefaults": {
           "arrowcolor": "#2a3f5f",
           "arrowhead": 0,
           "arrowwidth": 1
          },
          "autotypenumbers": "strict",
          "coloraxis": {
           "colorbar": {
            "outlinewidth": 0,
            "ticks": ""
           }
          },
          "colorscale": {
           "diverging": [
            [
             0,
             "#8e0152"
            ],
            [
             0.1,
             "#c51b7d"
            ],
            [
             0.2,
             "#de77ae"
            ],
            [
             0.3,
             "#f1b6da"
            ],
            [
             0.4,
             "#fde0ef"
            ],
            [
             0.5,
             "#f7f7f7"
            ],
            [
             0.6,
             "#e6f5d0"
            ],
            [
             0.7,
             "#b8e186"
            ],
            [
             0.8,
             "#7fbc41"
            ],
            [
             0.9,
             "#4d9221"
            ],
            [
             1,
             "#276419"
            ]
           ],
           "sequential": [
            [
             0,
             "#0d0887"
            ],
            [
             0.1111111111111111,
             "#46039f"
            ],
            [
             0.2222222222222222,
             "#7201a8"
            ],
            [
             0.3333333333333333,
             "#9c179e"
            ],
            [
             0.4444444444444444,
             "#bd3786"
            ],
            [
             0.5555555555555556,
             "#d8576b"
            ],
            [
             0.6666666666666666,
             "#ed7953"
            ],
            [
             0.7777777777777778,
             "#fb9f3a"
            ],
            [
             0.8888888888888888,
             "#fdca26"
            ],
            [
             1,
             "#f0f921"
            ]
           ],
           "sequentialminus": [
            [
             0,
             "#0d0887"
            ],
            [
             0.1111111111111111,
             "#46039f"
            ],
            [
             0.2222222222222222,
             "#7201a8"
            ],
            [
             0.3333333333333333,
             "#9c179e"
            ],
            [
             0.4444444444444444,
             "#bd3786"
            ],
            [
             0.5555555555555556,
             "#d8576b"
            ],
            [
             0.6666666666666666,
             "#ed7953"
            ],
            [
             0.7777777777777778,
             "#fb9f3a"
            ],
            [
             0.8888888888888888,
             "#fdca26"
            ],
            [
             1,
             "#f0f921"
            ]
           ]
          },
          "colorway": [
           "#636efa",
           "#EF553B",
           "#00cc96",
           "#ab63fa",
           "#FFA15A",
           "#19d3f3",
           "#FF6692",
           "#B6E880",
           "#FF97FF",
           "#FECB52"
          ],
          "font": {
           "color": "#2a3f5f"
          },
          "geo": {
           "bgcolor": "white",
           "lakecolor": "white",
           "landcolor": "#E5ECF6",
           "showlakes": true,
           "showland": true,
           "subunitcolor": "white"
          },
          "hoverlabel": {
           "align": "left"
          },
          "hovermode": "closest",
          "mapbox": {
           "style": "light"
          },
          "paper_bgcolor": "white",
          "plot_bgcolor": "#E5ECF6",
          "polar": {
           "angularaxis": {
            "gridcolor": "white",
            "linecolor": "white",
            "ticks": ""
           },
           "bgcolor": "#E5ECF6",
           "radialaxis": {
            "gridcolor": "white",
            "linecolor": "white",
            "ticks": ""
           }
          },
          "scene": {
           "xaxis": {
            "backgroundcolor": "#E5ECF6",
            "gridcolor": "white",
            "gridwidth": 2,
            "linecolor": "white",
            "showbackground": true,
            "ticks": "",
            "zerolinecolor": "white"
           },
           "yaxis": {
            "backgroundcolor": "#E5ECF6",
            "gridcolor": "white",
            "gridwidth": 2,
            "linecolor": "white",
            "showbackground": true,
            "ticks": "",
            "zerolinecolor": "white"
           },
           "zaxis": {
            "backgroundcolor": "#E5ECF6",
            "gridcolor": "white",
            "gridwidth": 2,
            "linecolor": "white",
            "showbackground": true,
            "ticks": "",
            "zerolinecolor": "white"
           }
          },
          "shapedefaults": {
           "line": {
            "color": "#2a3f5f"
           }
          },
          "ternary": {
           "aaxis": {
            "gridcolor": "white",
            "linecolor": "white",
            "ticks": ""
           },
           "baxis": {
            "gridcolor": "white",
            "linecolor": "white",
            "ticks": ""
           },
           "bgcolor": "#E5ECF6",
           "caxis": {
            "gridcolor": "white",
            "linecolor": "white",
            "ticks": ""
           }
          },
          "title": {
           "x": 0.05
          },
          "xaxis": {
           "automargin": true,
           "gridcolor": "white",
           "linecolor": "white",
           "ticks": "",
           "title": {
            "standoff": 15
           },
           "zerolinecolor": "white",
           "zerolinewidth": 2
          },
          "yaxis": {
           "automargin": true,
           "gridcolor": "white",
           "linecolor": "white",
           "ticks": "",
           "title": {
            "standoff": 15
           },
           "zerolinecolor": "white",
           "zerolinewidth": 2
          }
         }
        },
        "title": {
         "font": {
          "size": 18
         },
         "text": "TCS"
        }
       }
      },
      "text/html": [
       "<div>                            <div id=\"b13bc53d-8fbd-46ec-ab10-5c2c0ea7ed38\" class=\"plotly-graph-div\" style=\"height:525px; width:100%;\"></div>            <script type=\"text/javascript\">                require([\"plotly\"], function(Plotly) {                    window.PLOTLYENV=window.PLOTLYENV || {};                                    if (document.getElementById(\"b13bc53d-8fbd-46ec-ab10-5c2c0ea7ed38\")) {                    Plotly.newPlot(                        \"b13bc53d-8fbd-46ec-ab10-5c2c0ea7ed38\",                        [{\"close\":[3171.0,3166.75,3115.9,3188.85,3260.5,3301.9,3298.8,3291.8,3339.5,3354.95,3365.05,3374.45,3354.25,3422.5,3401.55,3392.7,3401.1,3381.25,3385.75,3354.55,3284.6,3255.35,3218.2,3222.2,3132.55,3211.15,3131.7,3130.4,3133.4,3127.05,3149.6,3169.65,3217.65,3242.95,3229.35,3120.4,3104.35,3008.7,3028.8,3040.3,3001.2,3007.4,2982.05,2994.4,3017.45,3035.65,2997.3,3004.55,2984.95,3091.15,3101.95],\"high\":[3197.0,3186.45,3168.9,3194.1,3264.0,3317.3,3327.0,3312.9,3349.0,3387.9,3377.0,3378.9,3385.0,3428.7,3419.0,3414.85,3417.95,3392.0,3421.5,3384.1,3341.9,3308.0,3278.15,3257.0,3142.7,3226.5,3190.0,3163.0,3147.95,3140.85,3161.9,3183.5,3233.5,3269.8,3263.45,3141.4,3137.75,3094.35,3042.0,3079.95,3041.4,3029.95,3022.5,3025.85,3025.0,3049.95,3055.85,3019.7,3020.7,3098.0,3124.0],\"low\":[3143.5,3149.1,3096.5,3110.0,3201.65,3275.0,3271.0,3271.65,3277.05,3307.35,3355.0,3336.0,3335.0,3375.05,3381.25,3387.5,3371.1,3362.0,3371.25,3347.4,3270.0,3250.2,3214.75,3216.8,3081.0,3142.1,3121.0,3120.3,3112.25,3106.35,3102.0,3160.1,3168.5,3225.0,3225.0,3113.8,3100.0,3000.0,2987.8,3030.0,2998.15,2979.3,2979.0,2926.1,2976.0,2980.0,2990.0,2950.1,2974.0,3023.0,3092.45],\"open\":[3185.0,3165.0,3164.7,3115.0,3216.0,3290.0,3327.0,3290.0,3280.0,3350.0,3361.2,3365.0,3385.0,3400.0,3419.0,3411.0,3385.1,3390.0,3387.0,3365.0,3319.95,3292.0,3276.0,3234.3,3125.0,3155.0,3190.0,3163.0,3123.65,3135.5,3102.0,3170.0,3195.0,3239.9,3263.45,3135.0,3130.0,3076.0,3036.0,3050.0,3028.0,2990.0,3004.0,2959.85,3009.4,2980.0,3054.0,2990.85,2995.0,3029.95,3111.0],\"x\":[253,254,255,256,257,258,259,260,261,262,263,264,265,266,267,268,269,270,271,272,273,274,275,276,277,278,279,280,281,282,283,284,285,286,287,288,289,290,291,292,293,294,295,296,297,298,299,300,301,302,303],\"type\":\"candlestick\"},{\"line\":{\"color\":\"blue\",\"width\":1},\"name\":\"EMA100\",\"x\":[253,254,255,256,257,258,259,260,261,262,263,264,265,266,267,268,269,270,271,272,273,274,275,276,277,278,279,280,281,282,283,284,285,286,287,288,289,290,291,292,293,294,295,296,297,298,299,300,301,302,303],\"y\":[3376.0964402631603,3371.950966198543,3366.8806500361957,3363.3552906295386,3361.318552201231,3360.141947207147,3358.9272551832432,3357.598002605357,3357.239626316142,3357.1942871811693,3357.3498458508493,3357.6884627646937,3357.6203743931155,3358.9051194546378,3359.749572534744,3360.4020562469273,3361.207956123226,3361.6048282792017,3362.0829504914946,3361.9337831550292,3360.4024211123556,3358.3221751497344,3355.547478612116,3352.906934481183,3348.54343082809,3345.822768831494,3341.582714003148,3337.4008780822933,3333.3612567341293,3329.2758853136515,3325.717946990609,3322.6274925947555,3320.548730365156,3319.012121843074,3317.236634281825,3313.3388791475313,3309.2004855010455,3303.2499808376583,3297.815327751764,3292.716014330937,3286.94341998775,3281.407906720666,3275.4800273796627,3269.914086243432,3264.9147974069283,3260.3749004285733,3255.1654964596905,3250.202813361479,3244.950282403826,3241.9047322572155,3239.133351420439],\"type\":\"scatter\"}],                        {\"template\":{\"data\":{\"histogram2dcontour\":[{\"type\":\"histogram2dcontour\",\"colorbar\":{\"outlinewidth\":0,\"ticks\":\"\"},\"colorscale\":[[0.0,\"#0d0887\"],[0.1111111111111111,\"#46039f\"],[0.2222222222222222,\"#7201a8\"],[0.3333333333333333,\"#9c179e\"],[0.4444444444444444,\"#bd3786\"],[0.5555555555555556,\"#d8576b\"],[0.6666666666666666,\"#ed7953\"],[0.7777777777777778,\"#fb9f3a\"],[0.8888888888888888,\"#fdca26\"],[1.0,\"#f0f921\"]]}],\"choropleth\":[{\"type\":\"choropleth\",\"colorbar\":{\"outlinewidth\":0,\"ticks\":\"\"}}],\"histogram2d\":[{\"type\":\"histogram2d\",\"colorbar\":{\"outlinewidth\":0,\"ticks\":\"\"},\"colorscale\":[[0.0,\"#0d0887\"],[0.1111111111111111,\"#46039f\"],[0.2222222222222222,\"#7201a8\"],[0.3333333333333333,\"#9c179e\"],[0.4444444444444444,\"#bd3786\"],[0.5555555555555556,\"#d8576b\"],[0.6666666666666666,\"#ed7953\"],[0.7777777777777778,\"#fb9f3a\"],[0.8888888888888888,\"#fdca26\"],[1.0,\"#f0f921\"]]}],\"heatmap\":[{\"type\":\"heatmap\",\"colorbar\":{\"outlinewidth\":0,\"ticks\":\"\"},\"colorscale\":[[0.0,\"#0d0887\"],[0.1111111111111111,\"#46039f\"],[0.2222222222222222,\"#7201a8\"],[0.3333333333333333,\"#9c179e\"],[0.4444444444444444,\"#bd3786\"],[0.5555555555555556,\"#d8576b\"],[0.6666666666666666,\"#ed7953\"],[0.7777777777777778,\"#fb9f3a\"],[0.8888888888888888,\"#fdca26\"],[1.0,\"#f0f921\"]]}],\"heatmapgl\":[{\"type\":\"heatmapgl\",\"colorbar\":{\"outlinewidth\":0,\"ticks\":\"\"},\"colorscale\":[[0.0,\"#0d0887\"],[0.1111111111111111,\"#46039f\"],[0.2222222222222222,\"#7201a8\"],[0.3333333333333333,\"#9c179e\"],[0.4444444444444444,\"#bd3786\"],[0.5555555555555556,\"#d8576b\"],[0.6666666666666666,\"#ed7953\"],[0.7777777777777778,\"#fb9f3a\"],[0.8888888888888888,\"#fdca26\"],[1.0,\"#f0f921\"]]}],\"contourcarpet\":[{\"type\":\"contourcarpet\",\"colorbar\":{\"outlinewidth\":0,\"ticks\":\"\"}}],\"contour\":[{\"type\":\"contour\",\"colorbar\":{\"outlinewidth\":0,\"ticks\":\"\"},\"colorscale\":[[0.0,\"#0d0887\"],[0.1111111111111111,\"#46039f\"],[0.2222222222222222,\"#7201a8\"],[0.3333333333333333,\"#9c179e\"],[0.4444444444444444,\"#bd3786\"],[0.5555555555555556,\"#d8576b\"],[0.6666666666666666,\"#ed7953\"],[0.7777777777777778,\"#fb9f3a\"],[0.8888888888888888,\"#fdca26\"],[1.0,\"#f0f921\"]]}],\"surface\":[{\"type\":\"surface\",\"colorbar\":{\"outlinewidth\":0,\"ticks\":\"\"},\"colorscale\":[[0.0,\"#0d0887\"],[0.1111111111111111,\"#46039f\"],[0.2222222222222222,\"#7201a8\"],[0.3333333333333333,\"#9c179e\"],[0.4444444444444444,\"#bd3786\"],[0.5555555555555556,\"#d8576b\"],[0.6666666666666666,\"#ed7953\"],[0.7777777777777778,\"#fb9f3a\"],[0.8888888888888888,\"#fdca26\"],[1.0,\"#f0f921\"]]}],\"mesh3d\":[{\"type\":\"mesh3d\",\"colorbar\":{\"outlinewidth\":0,\"ticks\":\"\"}}],\"scatter\":[{\"fillpattern\":{\"fillmode\":\"overlay\",\"size\":10,\"solidity\":0.2},\"type\":\"scatter\"}],\"parcoords\":[{\"type\":\"parcoords\",\"line\":{\"colorbar\":{\"outlinewidth\":0,\"ticks\":\"\"}}}],\"scatterpolargl\":[{\"type\":\"scatterpolargl\",\"marker\":{\"colorbar\":{\"outlinewidth\":0,\"ticks\":\"\"}}}],\"bar\":[{\"error_x\":{\"color\":\"#2a3f5f\"},\"error_y\":{\"color\":\"#2a3f5f\"},\"marker\":{\"line\":{\"color\":\"#E5ECF6\",\"width\":0.5},\"pattern\":{\"fillmode\":\"overlay\",\"size\":10,\"solidity\":0.2}},\"type\":\"bar\"}],\"scattergeo\":[{\"type\":\"scattergeo\",\"marker\":{\"colorbar\":{\"outlinewidth\":0,\"ticks\":\"\"}}}],\"scatterpolar\":[{\"type\":\"scatterpolar\",\"marker\":{\"colorbar\":{\"outlinewidth\":0,\"ticks\":\"\"}}}],\"histogram\":[{\"marker\":{\"pattern\":{\"fillmode\":\"overlay\",\"size\":10,\"solidity\":0.2}},\"type\":\"histogram\"}],\"scattergl\":[{\"type\":\"scattergl\",\"marker\":{\"colorbar\":{\"outlinewidth\":0,\"ticks\":\"\"}}}],\"scatter3d\":[{\"type\":\"scatter3d\",\"line\":{\"colorbar\":{\"outlinewidth\":0,\"ticks\":\"\"}},\"marker\":{\"colorbar\":{\"outlinewidth\":0,\"ticks\":\"\"}}}],\"scattermapbox\":[{\"type\":\"scattermapbox\",\"marker\":{\"colorbar\":{\"outlinewidth\":0,\"ticks\":\"\"}}}],\"scatterternary\":[{\"type\":\"scatterternary\",\"marker\":{\"colorbar\":{\"outlinewidth\":0,\"ticks\":\"\"}}}],\"scattercarpet\":[{\"type\":\"scattercarpet\",\"marker\":{\"colorbar\":{\"outlinewidth\":0,\"ticks\":\"\"}}}],\"carpet\":[{\"aaxis\":{\"endlinecolor\":\"#2a3f5f\",\"gridcolor\":\"white\",\"linecolor\":\"white\",\"minorgridcolor\":\"white\",\"startlinecolor\":\"#2a3f5f\"},\"baxis\":{\"endlinecolor\":\"#2a3f5f\",\"gridcolor\":\"white\",\"linecolor\":\"white\",\"minorgridcolor\":\"white\",\"startlinecolor\":\"#2a3f5f\"},\"type\":\"carpet\"}],\"table\":[{\"cells\":{\"fill\":{\"color\":\"#EBF0F8\"},\"line\":{\"color\":\"white\"}},\"header\":{\"fill\":{\"color\":\"#C8D4E3\"},\"line\":{\"color\":\"white\"}},\"type\":\"table\"}],\"barpolar\":[{\"marker\":{\"line\":{\"color\":\"#E5ECF6\",\"width\":0.5},\"pattern\":{\"fillmode\":\"overlay\",\"size\":10,\"solidity\":0.2}},\"type\":\"barpolar\"}],\"pie\":[{\"automargin\":true,\"type\":\"pie\"}]},\"layout\":{\"autotypenumbers\":\"strict\",\"colorway\":[\"#636efa\",\"#EF553B\",\"#00cc96\",\"#ab63fa\",\"#FFA15A\",\"#19d3f3\",\"#FF6692\",\"#B6E880\",\"#FF97FF\",\"#FECB52\"],\"font\":{\"color\":\"#2a3f5f\"},\"hovermode\":\"closest\",\"hoverlabel\":{\"align\":\"left\"},\"paper_bgcolor\":\"white\",\"plot_bgcolor\":\"#E5ECF6\",\"polar\":{\"bgcolor\":\"#E5ECF6\",\"angularaxis\":{\"gridcolor\":\"white\",\"linecolor\":\"white\",\"ticks\":\"\"},\"radialaxis\":{\"gridcolor\":\"white\",\"linecolor\":\"white\",\"ticks\":\"\"}},\"ternary\":{\"bgcolor\":\"#E5ECF6\",\"aaxis\":{\"gridcolor\":\"white\",\"linecolor\":\"white\",\"ticks\":\"\"},\"baxis\":{\"gridcolor\":\"white\",\"linecolor\":\"white\",\"ticks\":\"\"},\"caxis\":{\"gridcolor\":\"white\",\"linecolor\":\"white\",\"ticks\":\"\"}},\"coloraxis\":{\"colorbar\":{\"outlinewidth\":0,\"ticks\":\"\"}},\"colorscale\":{\"sequential\":[[0.0,\"#0d0887\"],[0.1111111111111111,\"#46039f\"],[0.2222222222222222,\"#7201a8\"],[0.3333333333333333,\"#9c179e\"],[0.4444444444444444,\"#bd3786\"],[0.5555555555555556,\"#d8576b\"],[0.6666666666666666,\"#ed7953\"],[0.7777777777777778,\"#fb9f3a\"],[0.8888888888888888,\"#fdca26\"],[1.0,\"#f0f921\"]],\"sequentialminus\":[[0.0,\"#0d0887\"],[0.1111111111111111,\"#46039f\"],[0.2222222222222222,\"#7201a8\"],[0.3333333333333333,\"#9c179e\"],[0.4444444444444444,\"#bd3786\"],[0.5555555555555556,\"#d8576b\"],[0.6666666666666666,\"#ed7953\"],[0.7777777777777778,\"#fb9f3a\"],[0.8888888888888888,\"#fdca26\"],[1.0,\"#f0f921\"]],\"diverging\":[[0,\"#8e0152\"],[0.1,\"#c51b7d\"],[0.2,\"#de77ae\"],[0.3,\"#f1b6da\"],[0.4,\"#fde0ef\"],[0.5,\"#f7f7f7\"],[0.6,\"#e6f5d0\"],[0.7,\"#b8e186\"],[0.8,\"#7fbc41\"],[0.9,\"#4d9221\"],[1,\"#276419\"]]},\"xaxis\":{\"gridcolor\":\"white\",\"linecolor\":\"white\",\"ticks\":\"\",\"title\":{\"standoff\":15},\"zerolinecolor\":\"white\",\"automargin\":true,\"zerolinewidth\":2},\"yaxis\":{\"gridcolor\":\"white\",\"linecolor\":\"white\",\"ticks\":\"\",\"title\":{\"standoff\":15},\"zerolinecolor\":\"white\",\"automargin\":true,\"zerolinewidth\":2},\"scene\":{\"xaxis\":{\"backgroundcolor\":\"#E5ECF6\",\"gridcolor\":\"white\",\"linecolor\":\"white\",\"showbackground\":true,\"ticks\":\"\",\"zerolinecolor\":\"white\",\"gridwidth\":2},\"yaxis\":{\"backgroundcolor\":\"#E5ECF6\",\"gridcolor\":\"white\",\"linecolor\":\"white\",\"showbackground\":true,\"ticks\":\"\",\"zerolinecolor\":\"white\",\"gridwidth\":2},\"zaxis\":{\"backgroundcolor\":\"#E5ECF6\",\"gridcolor\":\"white\",\"linecolor\":\"white\",\"showbackground\":true,\"ticks\":\"\",\"zerolinecolor\":\"white\",\"gridwidth\":2}},\"shapedefaults\":{\"line\":{\"color\":\"#2a3f5f\"}},\"annotationdefaults\":{\"arrowcolor\":\"#2a3f5f\",\"arrowhead\":0,\"arrowwidth\":1},\"geo\":{\"bgcolor\":\"white\",\"landcolor\":\"#E5ECF6\",\"subunitcolor\":\"white\",\"showland\":true,\"showlakes\":true,\"lakecolor\":\"white\"},\"title\":{\"x\":0.05},\"mapbox\":{\"style\":\"light\"}}},\"shapes\":[{\"layer\":\"below\",\"line\":{\"color\":\"darkgrey\"},\"type\":\"line\",\"x0\":251,\"x1\":306,\"xref\":\"x\",\"y0\":3132.4,\"y1\":3132.4,\"yref\":\"y\"},{\"layer\":\"below\",\"line\":{\"color\":\"darkgrey\"},\"type\":\"line\",\"x0\":251,\"x1\":306,\"xref\":\"x\",\"y0\":3385.95,\"y1\":3385.95,\"yref\":\"y\"},{\"layer\":\"below\",\"line\":{\"color\":\"darkgrey\"},\"type\":\"line\",\"x0\":251,\"x1\":306,\"xref\":\"x\",\"y0\":3436.0,\"y1\":3436.0,\"yref\":\"y\"},{\"layer\":\"below\",\"line\":{\"color\":\"darkgrey\"},\"type\":\"line\",\"x0\":251,\"x1\":306,\"xref\":\"x\",\"y0\":3406.45,\"y1\":3406.45,\"yref\":\"y\"},{\"layer\":\"below\",\"line\":{\"color\":\"darkgrey\"},\"type\":\"line\",\"x0\":251,\"x1\":306,\"xref\":\"x\",\"y0\":3391.1,\"y1\":3391.1,\"yref\":\"y\"},{\"layer\":\"below\",\"line\":{\"color\":\"darkgrey\"},\"type\":\"line\",\"x0\":251,\"x1\":306,\"xref\":\"x\",\"y0\":3431.55,\"y1\":3431.55,\"yref\":\"y\"},{\"layer\":\"below\",\"line\":{\"color\":\"darkgrey\"},\"type\":\"line\",\"x0\":251,\"x1\":306,\"xref\":\"x\",\"y0\":3439.15,\"y1\":3439.15,\"yref\":\"y\"},{\"layer\":\"below\",\"line\":{\"color\":\"darkgrey\"},\"type\":\"line\",\"x0\":251,\"x1\":306,\"xref\":\"x\",\"y0\":3346.85,\"y1\":3346.85,\"yref\":\"y\"},{\"layer\":\"below\",\"line\":{\"color\":\"darkgrey\"},\"type\":\"line\",\"x0\":251,\"x1\":306,\"xref\":\"x\",\"y0\":3154.05,\"y1\":3154.05,\"yref\":\"y\"},{\"layer\":\"below\",\"line\":{\"color\":\"darkgrey\"},\"type\":\"line\",\"x0\":251,\"x1\":306,\"xref\":\"x\",\"y0\":3023.85,\"y1\":3023.85,\"yref\":\"y\"},{\"layer\":\"below\",\"line\":{\"color\":\"darkgrey\"},\"type\":\"line\",\"x0\":251,\"x1\":306,\"xref\":\"x\",\"y0\":2953.0,\"y1\":2953.0,\"yref\":\"y\"},{\"layer\":\"below\",\"line\":{\"color\":\"darkgrey\"},\"type\":\"line\",\"x0\":251,\"x1\":306,\"xref\":\"x\",\"y0\":3081.0,\"y1\":3081.0,\"yref\":\"y\"},{\"layer\":\"below\",\"line\":{\"color\":\"darkgrey\"},\"type\":\"line\",\"x0\":251,\"x1\":306,\"xref\":\"x\",\"y0\":3102.0,\"y1\":3102.0,\"yref\":\"y\"},{\"layer\":\"below\",\"line\":{\"color\":\"darkgrey\"},\"type\":\"line\",\"x0\":251,\"x1\":306,\"xref\":\"x\",\"y0\":3362.9,\"y1\":3362.9,\"yref\":\"y\"},{\"layer\":\"below\",\"line\":{\"color\":\"darkgrey\"},\"type\":\"line\",\"x0\":251,\"x1\":306,\"xref\":\"x\",\"y0\":3428.7,\"y1\":3428.7,\"yref\":\"y\"},{\"layer\":\"below\",\"line\":{\"color\":\"darkgrey\"},\"type\":\"line\",\"x0\":251,\"x1\":306,\"xref\":\"x\",\"y0\":3269.8,\"y1\":3269.8,\"yref\":\"y\"}],\"title\":{\"font\":{\"size\":18},\"text\":\"TCS\"}},                        {\"responsive\": true}                    ).then(function(){\n",
       "                            \n",
       "var gd = document.getElementById('b13bc53d-8fbd-46ec-ab10-5c2c0ea7ed38');\n",
       "var x = new MutationObserver(function (mutations, observer) {{\n",
       "        var display = window.getComputedStyle(gd).display;\n",
       "        if (!display || display === 'none') {{\n",
       "            console.log([gd, 'removed!']);\n",
       "            Plotly.purge(gd);\n",
       "            observer.disconnect();\n",
       "        }}\n",
       "}});\n",
       "\n",
       "// Listen for the removal of the full notebook cells\n",
       "var notebookContainer = gd.closest('#notebook-container');\n",
       "if (notebookContainer) {{\n",
       "    x.observe(notebookContainer, {childList: true});\n",
       "}}\n",
       "\n",
       "// Listen for the clearing of the current output cell\n",
       "var outputEl = gd.closest('.output');\n",
       "if (outputEl) {{\n",
       "    x.observe(outputEl, {childList: true});\n",
       "}}\n",
       "\n",
       "                        })                };                });            </script>        </div>"
      ]
     },
     "metadata": {},
     "output_type": "display_data"
    }
   ],
   "source": [
    "randomTicker = tickerList[random.randint(0, len(tickerList)-1)]\n",
    "indicator = tb.indicatorCollection[randomTicker]['sri']\n",
    "randomCandleIndex = random.randint(0+30, len(indicator.df.index)-31)\n",
    "indicator.showIndicator(randomCandleIndex)\n",
    "\n",
    "target = float(input(\"target : \"))\n",
    "stoploss = float(input(\"stoploss : \"))\n",
    "currentPrice = indicator.df.Close[randomCandleIndex]\n",
    "print(f'RRR = {abs(target - currentPrice)/abs(stoploss - currentPrice)}')\n",
    "\n",
    "trade = 'long' if target > currentPrice else 'short'\n",
    "data = indicator.df\n",
    "\n",
    "result = 0\n",
    "start = randomCandleIndex+1\n",
    "end = randomCandleIndex + 30\n",
    "resultCandleIndex = start\n",
    "for i in range(start, end):\n",
    "    if trade == 'long':\n",
    "        if data.High[i] >= target:\n",
    "            result = target - currentPrice\n",
    "        elif data.Low[i] <= stoploss:\n",
    "            result = stoploss - currentPrice\n",
    "    else:\n",
    "        if data.High[i] >= stoploss:\n",
    "            result = currentPrice - stoploss\n",
    "        elif data.Low[i] <= target:\n",
    "            result = currentPrice - target\n",
    "            \n",
    "    if result > 0:\n",
    "        print(f\"You've made a profit of Rs{result}\")\n",
    "        resultCandleIndex = i\n",
    "        break\n",
    "    elif result < 0:\n",
    "        print(f\"You've booked a loss of Rs{abs(result)}\")\n",
    "        resultCandleIndex = i\n",
    "        break\n",
    "    else:\n",
    "        resultCandleIndex = i\n",
    "        continue\n",
    "        \n",
    "if result == 0:\n",
    "    print(f\"No outcome after {end - start} iterations\")"
   ]
  }
 ],
 "metadata": {
  "kernelspec": {
   "display_name": "Python 3 (ipykernel)",
   "language": "python",
   "name": "python3"
  },
  "language_info": {
   "codemirror_mode": {
    "name": "ipython",
    "version": 3
   },
   "file_extension": ".py",
   "mimetype": "text/x-python",
   "name": "python",
   "nbconvert_exporter": "python",
   "pygments_lexer": "ipython3",
   "version": "3.10.10"
  }
 },
 "nbformat": 4,
 "nbformat_minor": 5
}
