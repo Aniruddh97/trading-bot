{
 "cells": [
  {
   "cell_type": "code",
   "execution_count": 7,
   "id": "e06b81ca",
   "metadata": {
    "vscode": {
     "languageId": "plaintext"
    }
   },
   "outputs": [],
   "source": [
    "import os\n",
    "import sys\n",
    "module_path = os.path.abspath(os.path.join('..'))\n",
    "if module_path not in sys.path:\n",
    "    sys.path.append(module_path)\n",
    "    \n",
    "from tickers import getTickerList, getCandlePatternList\n",
    "from datemodule import getDateRange\n",
    "from indicators import ChannelBreakoutIndicator, SupportResistanceIndicator\n",
    "from datasource import getFullData\n",
    "import pandas"
   ]
  },
  {
   "cell_type": "code",
   "execution_count": null,
   "id": "c77c8ab0",
   "metadata": {},
   "outputs": [],
   "source": [
    "import talib\n",
    "import pandas_ta as ta\n",
    "from tqdm import tqdm\n",
    "\n",
    "tickers = getTickerList(all=True)\n",
    "tickerShortlist = {}\n",
    "tickerShortlistData = {}\n",
    "\n",
    "for i in tqdm(range(len(tickers))):\n",
    "    ticker = tickers[i]\n",
    "    resultDict = {}\n",
    "\n",
    "    # Fetch Data\n",
    "    startDate, endDate = getDateRange('1y')\n",
    "    df = getFullData(ticker, startDate, endDate)\n",
    "    \n",
    "    candleIndex = len(df)-1\n",
    "    \n",
    "    # RSI\n",
    "    df['RSI'] = ta.rsi(df.Close, length=14)\n",
    "\n",
    "    # Candlestick Pattern Recognition\n",
    "    op = df['Open']\n",
    "    hi = df['High']\n",
    "    lo = df['Low']\n",
    "    cl = df['Close']\n",
    "    for pattern in getCandlePatternList(all=False):\n",
    "        sig = getattr(talib, pattern)(op, hi, lo, cl)[candleIndex]\n",
    "        if sig != 0:\n",
    "            resultDict[pattern] = sig\n",
    "    \n",
    "    # Channel Breakout Indicator Signal\n",
    "    cbi = ChannelBreakoutIndicator(df, ticker)\n",
    "    cbi.calculate(40)\n",
    "    cbSignal = cbIndicator.getBuySell()[-1]\n",
    "    if (cbSignal != ''):\n",
    "        resultDict[\"ChannelBreakoutIndicator\"] = cbSignal\n",
    "        \n",
    "    # Support Resistance Indicator Signal\n",
    "    sri = SupportResistanceIndicator(df, 11, 5, ticker)\n",
    "    sri.calculate()\n",
    "    srSignal = sri.getBuySell()[-1]\n",
    "    if (srSignal != ''):\n",
    "        resultDict[\"SupportResistanceIndicator\"] = srSignal\n",
    "\n",
    "    # Collect Signals\n",
    "    if (len(resultDict) != 0):\n",
    "        resultDict[\"RSI\"] = df['RSI'][candleIndex]\n",
    "        tickerShortlistData[ticker][\"CBI\"] = cbi\n",
    "        tickerShortlistData[ticker][\"SRI\"] = sri\n",
    "        tickerShortlist[ticker] = resultDict"
   ]
  }
 ],
 "metadata": {
  "kernelspec": {
   "display_name": "Python 3 (ipykernel)",
   "language": "python",
   "name": "python3"
  },
  "language_info": {
   "codemirror_mode": {
    "name": "ipython",
    "version": 3
   },
   "file_extension": ".py",
   "mimetype": "text/x-python",
   "name": "python",
   "nbconvert_exporter": "python",
   "pygments_lexer": "ipython3",
   "version": "3.10.10"
  }
 },
 "nbformat": 4,
 "nbformat_minor": 5
}
