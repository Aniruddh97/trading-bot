{
 "cells": [
  {
   "cell_type": "code",
   "execution_count": 1,
   "id": "9dffaa44",
   "metadata": {},
   "outputs": [],
   "source": [
    "import os\n",
    "import sys\n",
    "module_path = os.path.abspath(os.path.join('..'))\n",
    "if module_path not in sys.path:\n",
    "    sys.path.append(module_path)"
   ]
  },
  {
   "cell_type": "code",
   "execution_count": 2,
   "id": "be270cb2",
   "metadata": {},
   "outputs": [],
   "source": [
    "from datasource import getYahooFinanceData, getJugaadData, getFullData\n",
    "from datemodule import getDateRange\n",
    "import pandas as pd"
   ]
  },
  {
   "cell_type": "code",
   "execution_count": 4,
   "id": "4645f771",
   "metadata": {},
   "outputs": [
    {
     "data": {
      "text/html": [
       "<div>\n",
       "<style scoped>\n",
       "    .dataframe tbody tr th:only-of-type {\n",
       "        vertical-align: middle;\n",
       "    }\n",
       "\n",
       "    .dataframe tbody tr th {\n",
       "        vertical-align: top;\n",
       "    }\n",
       "\n",
       "    .dataframe thead th {\n",
       "        text-align: right;\n",
       "    }\n",
       "</style>\n",
       "<table border=\"1\" class=\"dataframe\">\n",
       "  <thead>\n",
       "    <tr style=\"text-align: right;\">\n",
       "      <th></th>\n",
       "      <th>Date</th>\n",
       "      <th>Open</th>\n",
       "      <th>High</th>\n",
       "      <th>Low</th>\n",
       "      <th>Close</th>\n",
       "      <th>Volume</th>\n",
       "    </tr>\n",
       "  </thead>\n",
       "  <tbody>\n",
       "    <tr>\n",
       "      <th>0</th>\n",
       "      <td>2022-07-04</td>\n",
       "      <td>466.85</td>\n",
       "      <td>474.15</td>\n",
       "      <td>466.85</td>\n",
       "      <td>473.45</td>\n",
       "      <td>9186358</td>\n",
       "    </tr>\n",
       "    <tr>\n",
       "      <th>1</th>\n",
       "      <td>2022-07-05</td>\n",
       "      <td>475.15</td>\n",
       "      <td>480.00</td>\n",
       "      <td>471.00</td>\n",
       "      <td>472.15</td>\n",
       "      <td>12003244</td>\n",
       "    </tr>\n",
       "    <tr>\n",
       "      <th>2</th>\n",
       "      <td>2022-07-06</td>\n",
       "      <td>475.15</td>\n",
       "      <td>481.00</td>\n",
       "      <td>473.90</td>\n",
       "      <td>479.95</td>\n",
       "      <td>12059857</td>\n",
       "    </tr>\n",
       "    <tr>\n",
       "      <th>3</th>\n",
       "      <td>2022-07-07</td>\n",
       "      <td>484.00</td>\n",
       "      <td>488.25</td>\n",
       "      <td>481.60</td>\n",
       "      <td>486.75</td>\n",
       "      <td>11497832</td>\n",
       "    </tr>\n",
       "    <tr>\n",
       "      <th>4</th>\n",
       "      <td>2022-07-08</td>\n",
       "      <td>489.00</td>\n",
       "      <td>489.90</td>\n",
       "      <td>485.15</td>\n",
       "      <td>488.55</td>\n",
       "      <td>9057231</td>\n",
       "    </tr>\n",
       "  </tbody>\n",
       "</table>\n",
       "</div>"
      ],
      "text/plain": [
       "        Date    Open    High     Low   Close    Volume\n",
       "0 2022-07-04  466.85  474.15  466.85  473.45   9186358\n",
       "1 2022-07-05  475.15  480.00  471.00  472.15  12003244\n",
       "2 2022-07-06  475.15  481.00  473.90  479.95  12059857\n",
       "3 2022-07-07  484.00  488.25  481.60  486.75  11497832\n",
       "4 2022-07-08  489.00  489.90  485.15  488.55   9057231"
      ]
     },
     "execution_count": 4,
     "metadata": {},
     "output_type": "execute_result"
    }
   ],
   "source": [
    "ticker = 'SBIN'\n",
    "start, end = getDateRange('1y')\n",
    "getFullData(ticker, start, end).head()"
   ]
  }
 ],
 "metadata": {
  "kernelspec": {
   "display_name": "Python 3 (ipykernel)",
   "language": "python",
   "name": "python3"
  },
  "language_info": {
   "codemirror_mode": {
    "name": "ipython",
    "version": 3
   },
   "file_extension": ".py",
   "mimetype": "text/x-python",
   "name": "python",
   "nbconvert_exporter": "python",
   "pygments_lexer": "ipython3",
   "version": "3.10.10"
  }
 },
 "nbformat": 4,
 "nbformat_minor": 5
}
