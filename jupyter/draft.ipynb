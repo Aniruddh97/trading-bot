{
 "cells": [
  {
   "cell_type": "code",
   "execution_count": 1,
   "id": "9dffaa44",
   "metadata": {},
   "outputs": [],
   "source": [
    "import os\n",
    "import sys\n",
    "module_path = os.path.abspath(os.path.join('..'))\n",
    "if module_path not in sys.path:\n",
    "    sys.path.append(module_path)\n",
    "    \n",
    "from datasource import getYahooFinanceData, getJugaadData, getFullData\n",
    "from datemodule import getDateRange\n",
    "from indicators import SupportResistanceIndicator\n",
    "\n",
    "import plotly.graph_objects as go\n",
    "import pandas as pd"
   ]
  },
  {
   "cell_type": "code",
   "execution_count": 3,
   "id": "4645f771",
   "metadata": {},
   "outputs": [],
   "source": [
    "ticker = 'WIPRO'\n",
    "start, end = getDateRange('1y')\n",
    "data = getFullData(ticker, start, end)"
   ]
  },
  {
   "cell_type": "code",
   "execution_count": 4,
   "id": "ad7abad3",
   "metadata": {},
   "outputs": [],
   "source": [
    "sri = SupportResistanceIndicator(data, 11, 5)\n",
    "sri.calculate()"
   ]
  },
  {
   "cell_type": "code",
   "execution_count": 8,
   "id": "9cc3cba6",
   "metadata": {},
   "outputs": [
    {
     "data": {
      "application/vnd.plotly.v1+json": {
       "config": {
        "plotlyServerURL": "https://plot.ly"
       },
       "data": [
        {
         "close": [
          400.6,
          405.1,
          407.4,
          409.9,
          406.3,
          407.05,
          402.75,
          395.15,
          393.95,
          393.3,
          390.35,
          387.05,
          390.95,
          388.05,
          390.45,
          393.75,
          392.6,
          390.1,
          389.1,
          385.45,
          379.45,
          375.75,
          372.85,
          376.5,
          367.15,
          366.4,
          366.4,
          361.5,
          361.75,
          361.25,
          356.2,
          359.05,
          365.25,
          367.95,
          369.75,
          366.65,
          373.3,
          370.25,
          372.15,
          368.3,
          361.35,
          367.9,
          360.8,
          362.85,
          368.05,
          377.95,
          375.65,
          374.55,
          374.4,
          385,
          388.35,
          385.1,
          383.7,
          379.4,
          380.35,
          382.3,
          383.75,
          384.65,
          383.25,
          385.75,
          386.95,
          382.3,
          382.6,
          386.2,
          395.75,
          397.65,
          399.7,
          394.1,
          401.7,
          399.8,
          402.5,
          403.65,
          407.15,
          404.95,
          404.2,
          399.95,
          402.8,
          399.55,
          397.3,
          395.6,
          395.55,
          396.45,
          388.95,
          381.3,
          380.15,
          382.5,
          385.5,
          382.3,
          379.95,
          380.9,
          382.6,
          381.7,
          389.15,
          391.6,
          395.95,
          393.9,
          396.2,
          395.8500061035156
         ],
         "high": [
          405.65,
          406.45,
          407.85,
          413.25,
          408,
          407.8,
          408,
          400.35,
          398.7,
          396.5,
          393.3,
          393.2,
          391.75,
          390.35,
          391.45,
          396.65,
          393,
          393.85,
          389.9,
          392.6,
          387.15,
          383.7,
          376.7,
          378.35,
          375.95,
          370.25,
          370,
          364.9,
          366.85,
          364,
          364.05,
          360.75,
          365.75,
          368.4,
          371.9,
          370.45,
          374.4,
          374.85,
          373.45,
          369.9,
          361.95,
          368.9,
          367.9,
          363.7,
          368.7,
          378.6,
          378.9,
          377.65,
          376.6,
          388,
          392.15,
          388.35,
          386.15,
          384.4,
          383,
          383.45,
          384.55,
          386.85,
          385.25,
          387,
          388.8,
          387.35,
          385.35,
          388.2,
          396.6,
          402.1,
          400.45,
          399,
          402.55,
          406,
          403.85,
          404.8,
          408,
          409.8,
          409.75,
          403.35,
          403.6,
          404.75,
          400.35,
          399.8,
          398.5,
          397.15,
          397.45,
          388.65,
          382,
          384.95,
          387.25,
          386,
          383,
          381.9,
          384.25,
          383.75,
          389.75,
          393.9,
          397.35,
          395.4,
          396.95,
          397.45001220703125
         ],
         "low": [
          399.2,
          401.5,
          400.35,
          408.55,
          404,
          402.2,
          402.1,
          394.45,
          393.4,
          392.55,
          385.45,
          385.7,
          387.3,
          387.3,
          389.1,
          392.1,
          388.85,
          389.6,
          386.6,
          383.75,
          377.35,
          374.9,
          370,
          373.85,
          365.15,
          365.45,
          365.85,
          360.35,
          361,
          359.2,
          355.4,
          355,
          361.3,
          365.15,
          367.2,
          365.85,
          367.6,
          368.6,
          369.35,
          366,
          352,
          359.25,
          360.4,
          359,
          363.65,
          370.55,
          374.1,
          373.4,
          372.05,
          380,
          387.45,
          382.05,
          383.05,
          379,
          379.6,
          380.05,
          382,
          383.1,
          381.55,
          382.5,
          386.5,
          381.35,
          382.25,
          383.5,
          385.4,
          396.05,
          393.35,
          392.65,
          395,
          399.35,
          399.45,
          400.5,
          404.05,
          404,
          403.7,
          395.55,
          401,
          398.75,
          396.05,
          394.6,
          394.5,
          392.7,
          388.25,
          379.15,
          377.1,
          380.6,
          383.1,
          381.6,
          378.1,
          379.05,
          381.5,
          380.8,
          383,
          389.5,
          393,
          391.85,
          393.15,
          393.20001220703125
         ],
         "open": [
          405.65,
          403,
          402.7,
          408.8,
          406.85,
          405.3,
          407.4,
          399.5,
          395.8,
          395.95,
          392.75,
          391.85,
          388.1,
          388.7,
          390.6,
          392.45,
          391.65,
          392.8,
          387.9,
          389,
          386.55,
          383.7,
          375.35,
          377.2,
          375,
          369,
          367.85,
          364.9,
          363.35,
          361.75,
          363,
          358,
          363.35,
          367.95,
          369.7,
          369,
          368,
          373.5,
          370.6,
          369.9,
          359.95,
          363.45,
          367.9,
          360.5,
          364.1,
          375,
          378.2,
          377.65,
          376.4,
          380,
          389,
          388.35,
          384.75,
          382.75,
          381,
          382.5,
          384,
          385.7,
          384.6,
          383.25,
          387.5,
          386.2,
          385.2,
          384.8,
          386.5,
          397,
          394.5,
          399,
          395.15,
          404,
          400,
          401.75,
          405,
          408.7,
          408.9,
          403.35,
          402.4,
          404.1,
          399.45,
          399.8,
          397.95,
          396.3,
          397.1,
          385.55,
          382,
          381.8,
          384.25,
          386,
          382.3,
          380,
          384.25,
          383.75,
          385,
          393.9,
          393.75,
          394.1,
          394.5,
          395
         ],
         "type": "candlestick",
         "x": [
          150,
          151,
          152,
          153,
          154,
          155,
          156,
          157,
          158,
          159,
          160,
          161,
          162,
          163,
          164,
          165,
          166,
          167,
          168,
          169,
          170,
          171,
          172,
          173,
          174,
          175,
          176,
          177,
          178,
          179,
          180,
          181,
          182,
          183,
          184,
          185,
          186,
          187,
          188,
          189,
          190,
          191,
          192,
          193,
          194,
          195,
          196,
          197,
          198,
          199,
          200,
          201,
          202,
          203,
          204,
          205,
          206,
          207,
          208,
          209,
          210,
          211,
          212,
          213,
          214,
          215,
          216,
          217,
          218,
          219,
          220,
          221,
          222,
          223,
          224,
          225,
          226,
          227,
          228,
          229,
          230,
          231,
          232,
          233,
          234,
          235,
          236,
          237,
          238,
          239,
          240,
          241,
          242,
          243,
          244,
          245,
          246,
          247
         ]
        },
        {
         "marker": {
          "color": "Black",
          "size": 7,
          "symbol": "hexagram"
         },
         "mode": "markers",
         "name": "signal",
         "type": "scatter",
         "x": [
          150,
          151,
          152,
          153,
          154,
          155,
          156,
          157,
          158,
          159,
          160,
          161,
          162,
          163,
          164,
          165,
          166,
          167,
          168,
          169,
          170,
          171,
          172,
          173,
          174,
          175,
          176,
          177,
          178,
          179,
          180,
          181,
          182,
          183,
          184,
          185,
          186,
          187,
          188,
          189,
          190,
          191,
          192,
          193,
          194,
          195,
          196,
          197,
          198,
          199,
          200,
          201,
          202,
          203,
          204,
          205,
          206,
          207,
          208,
          209,
          210,
          211,
          212,
          213,
          214,
          215,
          216,
          217,
          218,
          219,
          220,
          221,
          222,
          223,
          224,
          225,
          226,
          227,
          228,
          229,
          230,
          231,
          232,
          233,
          234,
          235,
          236,
          237,
          238,
          239,
          240,
          241,
          242,
          243,
          244,
          245,
          246,
          247
         ],
         "y": [
          null,
          null,
          null,
          null,
          null,
          null,
          null,
          null,
          null,
          null,
          null,
          null,
          null,
          null,
          null,
          null,
          null,
          null,
          null,
          null,
          null,
          null,
          null,
          null,
          null,
          null,
          null,
          null,
          null,
          null,
          null,
          null,
          null,
          null,
          372.37,
          null,
          null,
          null,
          null,
          null,
          null,
          null,
          null,
          null,
          null,
          null,
          null,
          null,
          null,
          null,
          null,
          null,
          null,
          null,
          null,
          null,
          null,
          null,
          null,
          null,
          null,
          380.75,
          null,
          null,
          null,
          null,
          null,
          null,
          null,
          null,
          null,
          null,
          null,
          null,
          null,
          394.77,
          null,
          null,
          null,
          null,
          null,
          null,
          null,
          null,
          null,
          null,
          null,
          null,
          null,
          null,
          null,
          null,
          null,
          null,
          null,
          null,
          null,
          null
         ]
        }
       ],
       "layout": {
        "shapes": [
         {
          "layer": "below",
          "line": {
           "color": "blue"
          },
          "type": "line",
          "x0": 148,
          "x1": 250,
          "xref": "x",
          "y0": 401.95,
          "y1": 401.95,
          "yref": "y"
         },
         {
          "layer": "below",
          "line": {
           "color": "blue"
          },
          "type": "line",
          "x0": 148,
          "x1": 250,
          "xref": "x",
          "y0": 384.6,
          "y1": 384.6,
          "yref": "y"
         },
         {
          "layer": "below",
          "line": {
           "color": "blue"
          },
          "type": "line",
          "x0": 148,
          "x1": 250,
          "xref": "x",
          "y0": 372.4,
          "y1": 372.4,
          "yref": "y"
         },
         {
          "layer": "below",
          "line": {
           "color": "blue"
          },
          "type": "line",
          "x0": 148,
          "x1": 250,
          "xref": "x",
          "y0": 384.5,
          "y1": 384.5,
          "yref": "y"
         },
         {
          "layer": "below",
          "line": {
           "color": "blue"
          },
          "type": "line",
          "x0": 148,
          "x1": 250,
          "xref": "x",
          "y0": 376.3,
          "y1": 376.3,
          "yref": "y"
         },
         {
          "layer": "below",
          "line": {
           "color": "blue"
          },
          "type": "line",
          "x0": 148,
          "x1": 250,
          "xref": "x",
          "y0": 381.4,
          "y1": 381.4,
          "yref": "y"
         },
         {
          "layer": "below",
          "line": {
           "color": "blue"
          },
          "type": "line",
          "x0": 148,
          "x1": 250,
          "xref": "x",
          "y0": 394.2,
          "y1": 394.2,
          "yref": "y"
         },
         {
          "layer": "below",
          "line": {
           "color": "blue"
          },
          "type": "line",
          "x0": 148,
          "x1": 250,
          "xref": "x",
          "y0": 385.45,
          "y1": 385.45,
          "yref": "y"
         },
         {
          "layer": "below",
          "line": {
           "color": "blue"
          },
          "type": "line",
          "x0": 148,
          "x1": 250,
          "xref": "x",
          "y0": 355,
          "y1": 355,
          "yref": "y"
         },
         {
          "layer": "below",
          "line": {
           "color": "blue"
          },
          "type": "line",
          "x0": 148,
          "x1": 250,
          "xref": "x",
          "y0": 381.35,
          "y1": 381.35,
          "yref": "y"
         },
         {
          "layer": "below",
          "line": {
           "color": "blue"
          },
          "type": "line",
          "x0": 148,
          "x1": 250,
          "xref": "x",
          "y0": 417.5,
          "y1": 417.5,
          "yref": "y"
         },
         {
          "layer": "below",
          "line": {
           "color": "blue"
          },
          "type": "line",
          "x0": 148,
          "x1": 250,
          "xref": "x",
          "y0": 394.85,
          "y1": 394.85,
          "yref": "y"
         },
         {
          "layer": "below",
          "line": {
           "color": "blue"
          },
          "type": "line",
          "x0": 148,
          "x1": 250,
          "xref": "x",
          "y0": 405.85,
          "y1": 405.85,
          "yref": "y"
         },
         {
          "layer": "below",
          "line": {
           "color": "blue"
          },
          "type": "line",
          "x0": 148,
          "x1": 250,
          "xref": "x",
          "y0": 416.35,
          "y1": 416.35,
          "yref": "y"
         },
         {
          "layer": "below",
          "line": {
           "color": "blue"
          },
          "type": "line",
          "x0": 148,
          "x1": 250,
          "xref": "x",
          "y0": 397.75,
          "y1": 397.75,
          "yref": "y"
         },
         {
          "layer": "below",
          "line": {
           "color": "blue"
          },
          "type": "line",
          "x0": 148,
          "x1": 250,
          "xref": "x",
          "y0": 410.2,
          "y1": 410.2,
          "yref": "y"
         },
         {
          "layer": "below",
          "line": {
           "color": "blue"
          },
          "type": "line",
          "x0": 148,
          "x1": 250,
          "xref": "x",
          "y0": 396.65,
          "y1": 396.65,
          "yref": "y"
         },
         {
          "layer": "below",
          "line": {
           "color": "blue"
          },
          "type": "line",
          "x0": 148,
          "x1": 250,
          "xref": "x",
          "y0": 374.85,
          "y1": 374.85,
          "yref": "y"
         },
         {
          "layer": "below",
          "line": {
           "color": "blue"
          },
          "type": "line",
          "x0": 148,
          "x1": 250,
          "xref": "x",
          "y0": 392.15,
          "y1": 392.15,
          "yref": "y"
         },
         {
          "layer": "below",
          "line": {
           "color": "blue"
          },
          "type": "line",
          "x0": 148,
          "x1": 250,
          "xref": "x",
          "y0": 409.8,
          "y1": 409.8,
          "yref": "y"
         }
        ],
        "template": {
         "data": {
          "bar": [
           {
            "error_x": {
             "color": "#2a3f5f"
            },
            "error_y": {
             "color": "#2a3f5f"
            },
            "marker": {
             "line": {
              "color": "#E5ECF6",
              "width": 0.5
             },
             "pattern": {
              "fillmode": "overlay",
              "size": 10,
              "solidity": 0.2
             }
            },
            "type": "bar"
           }
          ],
          "barpolar": [
           {
            "marker": {
             "line": {
              "color": "#E5ECF6",
              "width": 0.5
             },
             "pattern": {
              "fillmode": "overlay",
              "size": 10,
              "solidity": 0.2
             }
            },
            "type": "barpolar"
           }
          ],
          "carpet": [
           {
            "aaxis": {
             "endlinecolor": "#2a3f5f",
             "gridcolor": "white",
             "linecolor": "white",
             "minorgridcolor": "white",
             "startlinecolor": "#2a3f5f"
            },
            "baxis": {
             "endlinecolor": "#2a3f5f",
             "gridcolor": "white",
             "linecolor": "white",
             "minorgridcolor": "white",
             "startlinecolor": "#2a3f5f"
            },
            "type": "carpet"
           }
          ],
          "choropleth": [
           {
            "colorbar": {
             "outlinewidth": 0,
             "ticks": ""
            },
            "type": "choropleth"
           }
          ],
          "contour": [
           {
            "colorbar": {
             "outlinewidth": 0,
             "ticks": ""
            },
            "colorscale": [
             [
              0,
              "#0d0887"
             ],
             [
              0.1111111111111111,
              "#46039f"
             ],
             [
              0.2222222222222222,
              "#7201a8"
             ],
             [
              0.3333333333333333,
              "#9c179e"
             ],
             [
              0.4444444444444444,
              "#bd3786"
             ],
             [
              0.5555555555555556,
              "#d8576b"
             ],
             [
              0.6666666666666666,
              "#ed7953"
             ],
             [
              0.7777777777777778,
              "#fb9f3a"
             ],
             [
              0.8888888888888888,
              "#fdca26"
             ],
             [
              1,
              "#f0f921"
             ]
            ],
            "type": "contour"
           }
          ],
          "contourcarpet": [
           {
            "colorbar": {
             "outlinewidth": 0,
             "ticks": ""
            },
            "type": "contourcarpet"
           }
          ],
          "heatmap": [
           {
            "colorbar": {
             "outlinewidth": 0,
             "ticks": ""
            },
            "colorscale": [
             [
              0,
              "#0d0887"
             ],
             [
              0.1111111111111111,
              "#46039f"
             ],
             [
              0.2222222222222222,
              "#7201a8"
             ],
             [
              0.3333333333333333,
              "#9c179e"
             ],
             [
              0.4444444444444444,
              "#bd3786"
             ],
             [
              0.5555555555555556,
              "#d8576b"
             ],
             [
              0.6666666666666666,
              "#ed7953"
             ],
             [
              0.7777777777777778,
              "#fb9f3a"
             ],
             [
              0.8888888888888888,
              "#fdca26"
             ],
             [
              1,
              "#f0f921"
             ]
            ],
            "type": "heatmap"
           }
          ],
          "heatmapgl": [
           {
            "colorbar": {
             "outlinewidth": 0,
             "ticks": ""
            },
            "colorscale": [
             [
              0,
              "#0d0887"
             ],
             [
              0.1111111111111111,
              "#46039f"
             ],
             [
              0.2222222222222222,
              "#7201a8"
             ],
             [
              0.3333333333333333,
              "#9c179e"
             ],
             [
              0.4444444444444444,
              "#bd3786"
             ],
             [
              0.5555555555555556,
              "#d8576b"
             ],
             [
              0.6666666666666666,
              "#ed7953"
             ],
             [
              0.7777777777777778,
              "#fb9f3a"
             ],
             [
              0.8888888888888888,
              "#fdca26"
             ],
             [
              1,
              "#f0f921"
             ]
            ],
            "type": "heatmapgl"
           }
          ],
          "histogram": [
           {
            "marker": {
             "pattern": {
              "fillmode": "overlay",
              "size": 10,
              "solidity": 0.2
             }
            },
            "type": "histogram"
           }
          ],
          "histogram2d": [
           {
            "colorbar": {
             "outlinewidth": 0,
             "ticks": ""
            },
            "colorscale": [
             [
              0,
              "#0d0887"
             ],
             [
              0.1111111111111111,
              "#46039f"
             ],
             [
              0.2222222222222222,
              "#7201a8"
             ],
             [
              0.3333333333333333,
              "#9c179e"
             ],
             [
              0.4444444444444444,
              "#bd3786"
             ],
             [
              0.5555555555555556,
              "#d8576b"
             ],
             [
              0.6666666666666666,
              "#ed7953"
             ],
             [
              0.7777777777777778,
              "#fb9f3a"
             ],
             [
              0.8888888888888888,
              "#fdca26"
             ],
             [
              1,
              "#f0f921"
             ]
            ],
            "type": "histogram2d"
           }
          ],
          "histogram2dcontour": [
           {
            "colorbar": {
             "outlinewidth": 0,
             "ticks": ""
            },
            "colorscale": [
             [
              0,
              "#0d0887"
             ],
             [
              0.1111111111111111,
              "#46039f"
             ],
             [
              0.2222222222222222,
              "#7201a8"
             ],
             [
              0.3333333333333333,
              "#9c179e"
             ],
             [
              0.4444444444444444,
              "#bd3786"
             ],
             [
              0.5555555555555556,
              "#d8576b"
             ],
             [
              0.6666666666666666,
              "#ed7953"
             ],
             [
              0.7777777777777778,
              "#fb9f3a"
             ],
             [
              0.8888888888888888,
              "#fdca26"
             ],
             [
              1,
              "#f0f921"
             ]
            ],
            "type": "histogram2dcontour"
           }
          ],
          "mesh3d": [
           {
            "colorbar": {
             "outlinewidth": 0,
             "ticks": ""
            },
            "type": "mesh3d"
           }
          ],
          "parcoords": [
           {
            "line": {
             "colorbar": {
              "outlinewidth": 0,
              "ticks": ""
             }
            },
            "type": "parcoords"
           }
          ],
          "pie": [
           {
            "automargin": true,
            "type": "pie"
           }
          ],
          "scatter": [
           {
            "fillpattern": {
             "fillmode": "overlay",
             "size": 10,
             "solidity": 0.2
            },
            "type": "scatter"
           }
          ],
          "scatter3d": [
           {
            "line": {
             "colorbar": {
              "outlinewidth": 0,
              "ticks": ""
             }
            },
            "marker": {
             "colorbar": {
              "outlinewidth": 0,
              "ticks": ""
             }
            },
            "type": "scatter3d"
           }
          ],
          "scattercarpet": [
           {
            "marker": {
             "colorbar": {
              "outlinewidth": 0,
              "ticks": ""
             }
            },
            "type": "scattercarpet"
           }
          ],
          "scattergeo": [
           {
            "marker": {
             "colorbar": {
              "outlinewidth": 0,
              "ticks": ""
             }
            },
            "type": "scattergeo"
           }
          ],
          "scattergl": [
           {
            "marker": {
             "colorbar": {
              "outlinewidth": 0,
              "ticks": ""
             }
            },
            "type": "scattergl"
           }
          ],
          "scattermapbox": [
           {
            "marker": {
             "colorbar": {
              "outlinewidth": 0,
              "ticks": ""
             }
            },
            "type": "scattermapbox"
           }
          ],
          "scatterpolar": [
           {
            "marker": {
             "colorbar": {
              "outlinewidth": 0,
              "ticks": ""
             }
            },
            "type": "scatterpolar"
           }
          ],
          "scatterpolargl": [
           {
            "marker": {
             "colorbar": {
              "outlinewidth": 0,
              "ticks": ""
             }
            },
            "type": "scatterpolargl"
           }
          ],
          "scatterternary": [
           {
            "marker": {
             "colorbar": {
              "outlinewidth": 0,
              "ticks": ""
             }
            },
            "type": "scatterternary"
           }
          ],
          "surface": [
           {
            "colorbar": {
             "outlinewidth": 0,
             "ticks": ""
            },
            "colorscale": [
             [
              0,
              "#0d0887"
             ],
             [
              0.1111111111111111,
              "#46039f"
             ],
             [
              0.2222222222222222,
              "#7201a8"
             ],
             [
              0.3333333333333333,
              "#9c179e"
             ],
             [
              0.4444444444444444,
              "#bd3786"
             ],
             [
              0.5555555555555556,
              "#d8576b"
             ],
             [
              0.6666666666666666,
              "#ed7953"
             ],
             [
              0.7777777777777778,
              "#fb9f3a"
             ],
             [
              0.8888888888888888,
              "#fdca26"
             ],
             [
              1,
              "#f0f921"
             ]
            ],
            "type": "surface"
           }
          ],
          "table": [
           {
            "cells": {
             "fill": {
              "color": "#EBF0F8"
             },
             "line": {
              "color": "white"
             }
            },
            "header": {
             "fill": {
              "color": "#C8D4E3"
             },
             "line": {
              "color": "white"
             }
            },
            "type": "table"
           }
          ]
         },
         "layout": {
          "annotationdefaults": {
           "arrowcolor": "#2a3f5f",
           "arrowhead": 0,
           "arrowwidth": 1
          },
          "autotypenumbers": "strict",
          "coloraxis": {
           "colorbar": {
            "outlinewidth": 0,
            "ticks": ""
           }
          },
          "colorscale": {
           "diverging": [
            [
             0,
             "#8e0152"
            ],
            [
             0.1,
             "#c51b7d"
            ],
            [
             0.2,
             "#de77ae"
            ],
            [
             0.3,
             "#f1b6da"
            ],
            [
             0.4,
             "#fde0ef"
            ],
            [
             0.5,
             "#f7f7f7"
            ],
            [
             0.6,
             "#e6f5d0"
            ],
            [
             0.7,
             "#b8e186"
            ],
            [
             0.8,
             "#7fbc41"
            ],
            [
             0.9,
             "#4d9221"
            ],
            [
             1,
             "#276419"
            ]
           ],
           "sequential": [
            [
             0,
             "#0d0887"
            ],
            [
             0.1111111111111111,
             "#46039f"
            ],
            [
             0.2222222222222222,
             "#7201a8"
            ],
            [
             0.3333333333333333,
             "#9c179e"
            ],
            [
             0.4444444444444444,
             "#bd3786"
            ],
            [
             0.5555555555555556,
             "#d8576b"
            ],
            [
             0.6666666666666666,
             "#ed7953"
            ],
            [
             0.7777777777777778,
             "#fb9f3a"
            ],
            [
             0.8888888888888888,
             "#fdca26"
            ],
            [
             1,
             "#f0f921"
            ]
           ],
           "sequentialminus": [
            [
             0,
             "#0d0887"
            ],
            [
             0.1111111111111111,
             "#46039f"
            ],
            [
             0.2222222222222222,
             "#7201a8"
            ],
            [
             0.3333333333333333,
             "#9c179e"
            ],
            [
             0.4444444444444444,
             "#bd3786"
            ],
            [
             0.5555555555555556,
             "#d8576b"
            ],
            [
             0.6666666666666666,
             "#ed7953"
            ],
            [
             0.7777777777777778,
             "#fb9f3a"
            ],
            [
             0.8888888888888888,
             "#fdca26"
            ],
            [
             1,
             "#f0f921"
            ]
           ]
          },
          "colorway": [
           "#636efa",
           "#EF553B",
           "#00cc96",
           "#ab63fa",
           "#FFA15A",
           "#19d3f3",
           "#FF6692",
           "#B6E880",
           "#FF97FF",
           "#FECB52"
          ],
          "font": {
           "color": "#2a3f5f"
          },
          "geo": {
           "bgcolor": "white",
           "lakecolor": "white",
           "landcolor": "#E5ECF6",
           "showlakes": true,
           "showland": true,
           "subunitcolor": "white"
          },
          "hoverlabel": {
           "align": "left"
          },
          "hovermode": "closest",
          "mapbox": {
           "style": "light"
          },
          "paper_bgcolor": "white",
          "plot_bgcolor": "#E5ECF6",
          "polar": {
           "angularaxis": {
            "gridcolor": "white",
            "linecolor": "white",
            "ticks": ""
           },
           "bgcolor": "#E5ECF6",
           "radialaxis": {
            "gridcolor": "white",
            "linecolor": "white",
            "ticks": ""
           }
          },
          "scene": {
           "xaxis": {
            "backgroundcolor": "#E5ECF6",
            "gridcolor": "white",
            "gridwidth": 2,
            "linecolor": "white",
            "showbackground": true,
            "ticks": "",
            "zerolinecolor": "white"
           },
           "yaxis": {
            "backgroundcolor": "#E5ECF6",
            "gridcolor": "white",
            "gridwidth": 2,
            "linecolor": "white",
            "showbackground": true,
            "ticks": "",
            "zerolinecolor": "white"
           },
           "zaxis": {
            "backgroundcolor": "#E5ECF6",
            "gridcolor": "white",
            "gridwidth": 2,
            "linecolor": "white",
            "showbackground": true,
            "ticks": "",
            "zerolinecolor": "white"
           }
          },
          "shapedefaults": {
           "line": {
            "color": "#2a3f5f"
           }
          },
          "ternary": {
           "aaxis": {
            "gridcolor": "white",
            "linecolor": "white",
            "ticks": ""
           },
           "baxis": {
            "gridcolor": "white",
            "linecolor": "white",
            "ticks": ""
           },
           "bgcolor": "#E5ECF6",
           "caxis": {
            "gridcolor": "white",
            "linecolor": "white",
            "ticks": ""
           }
          },
          "title": {
           "x": 0.05
          },
          "xaxis": {
           "automargin": true,
           "gridcolor": "white",
           "linecolor": "white",
           "ticks": "",
           "title": {
            "standoff": 15
           },
           "zerolinecolor": "white",
           "zerolinewidth": 2
          },
          "yaxis": {
           "automargin": true,
           "gridcolor": "white",
           "linecolor": "white",
           "ticks": "",
           "title": {
            "standoff": 15
           },
           "zerolinecolor": "white",
           "zerolinewidth": 2
          }
         }
        }
       }
      },
      "text/html": [
       "<div>                            <div id=\"785b3340-8220-4bf4-a455-43ece34d8f71\" class=\"plotly-graph-div\" style=\"height:525px; width:100%;\"></div>            <script type=\"text/javascript\">                require([\"plotly\"], function(Plotly) {                    window.PLOTLYENV=window.PLOTLYENV || {};                                    if (document.getElementById(\"785b3340-8220-4bf4-a455-43ece34d8f71\")) {                    Plotly.newPlot(                        \"785b3340-8220-4bf4-a455-43ece34d8f71\",                        [{\"close\":[400.6,405.1,407.4,409.9,406.3,407.05,402.75,395.15,393.95,393.3,390.35,387.05,390.95,388.05,390.45,393.75,392.6,390.1,389.1,385.45,379.45,375.75,372.85,376.5,367.15,366.4,366.4,361.5,361.75,361.25,356.2,359.05,365.25,367.95,369.75,366.65,373.3,370.25,372.15,368.3,361.35,367.9,360.8,362.85,368.05,377.95,375.65,374.55,374.4,385.0,388.35,385.1,383.7,379.4,380.35,382.3,383.75,384.65,383.25,385.75,386.95,382.3,382.6,386.2,395.75,397.65,399.7,394.1,401.7,399.8,402.5,403.65,407.15,404.95,404.2,399.95,402.8,399.55,397.3,395.6,395.55,396.45,388.95,381.3,380.15,382.5,385.5,382.3,379.95,380.9,382.6,381.7,389.15,391.6,395.95,393.9,396.2,395.8500061035156],\"high\":[405.65,406.45,407.85,413.25,408.0,407.8,408.0,400.35,398.7,396.5,393.3,393.2,391.75,390.35,391.45,396.65,393.0,393.85,389.9,392.6,387.15,383.7,376.7,378.35,375.95,370.25,370.0,364.9,366.85,364.0,364.05,360.75,365.75,368.4,371.9,370.45,374.4,374.85,373.45,369.9,361.95,368.9,367.9,363.7,368.7,378.6,378.9,377.65,376.6,388.0,392.15,388.35,386.15,384.4,383.0,383.45,384.55,386.85,385.25,387.0,388.8,387.35,385.35,388.2,396.6,402.1,400.45,399.0,402.55,406.0,403.85,404.8,408.0,409.8,409.75,403.35,403.6,404.75,400.35,399.8,398.5,397.15,397.45,388.65,382.0,384.95,387.25,386.0,383.0,381.9,384.25,383.75,389.75,393.9,397.35,395.4,396.95,397.45001220703125],\"low\":[399.2,401.5,400.35,408.55,404.0,402.2,402.1,394.45,393.4,392.55,385.45,385.7,387.3,387.3,389.1,392.1,388.85,389.6,386.6,383.75,377.35,374.9,370.0,373.85,365.15,365.45,365.85,360.35,361.0,359.2,355.4,355.0,361.3,365.15,367.2,365.85,367.6,368.6,369.35,366.0,352.0,359.25,360.4,359.0,363.65,370.55,374.1,373.4,372.05,380.0,387.45,382.05,383.05,379.0,379.6,380.05,382.0,383.1,381.55,382.5,386.5,381.35,382.25,383.5,385.4,396.05,393.35,392.65,395.0,399.35,399.45,400.5,404.05,404.0,403.7,395.55,401.0,398.75,396.05,394.6,394.5,392.7,388.25,379.15,377.1,380.6,383.1,381.6,378.1,379.05,381.5,380.8,383.0,389.5,393.0,391.85,393.15,393.20001220703125],\"open\":[405.65,403.0,402.7,408.8,406.85,405.3,407.4,399.5,395.8,395.95,392.75,391.85,388.1,388.7,390.6,392.45,391.65,392.8,387.9,389.0,386.55,383.7,375.35,377.2,375.0,369.0,367.85,364.9,363.35,361.75,363.0,358.0,363.35,367.95,369.7,369.0,368.0,373.5,370.6,369.9,359.95,363.45,367.9,360.5,364.1,375.0,378.2,377.65,376.4,380.0,389.0,388.35,384.75,382.75,381.0,382.5,384.0,385.7,384.6,383.25,387.5,386.2,385.2,384.8,386.5,397.0,394.5,399.0,395.15,404.0,400.0,401.75,405.0,408.7,408.9,403.35,402.4,404.1,399.45,399.8,397.95,396.3,397.1,385.55,382.0,381.8,384.25,386.0,382.3,380.0,384.25,383.75,385.0,393.9,393.75,394.1,394.5,395.0],\"x\":[150,151,152,153,154,155,156,157,158,159,160,161,162,163,164,165,166,167,168,169,170,171,172,173,174,175,176,177,178,179,180,181,182,183,184,185,186,187,188,189,190,191,192,193,194,195,196,197,198,199,200,201,202,203,204,205,206,207,208,209,210,211,212,213,214,215,216,217,218,219,220,221,222,223,224,225,226,227,228,229,230,231,232,233,234,235,236,237,238,239,240,241,242,243,244,245,246,247],\"type\":\"candlestick\"},{\"marker\":{\"color\":\"Black\",\"size\":7,\"symbol\":\"hexagram\"},\"mode\":\"markers\",\"name\":\"signal\",\"x\":[150,151,152,153,154,155,156,157,158,159,160,161,162,163,164,165,166,167,168,169,170,171,172,173,174,175,176,177,178,179,180,181,182,183,184,185,186,187,188,189,190,191,192,193,194,195,196,197,198,199,200,201,202,203,204,205,206,207,208,209,210,211,212,213,214,215,216,217,218,219,220,221,222,223,224,225,226,227,228,229,230,231,232,233,234,235,236,237,238,239,240,241,242,243,244,245,246,247],\"y\":[null,null,null,null,null,null,null,null,null,null,null,null,null,null,null,null,null,null,null,null,null,null,null,null,null,null,null,null,null,null,null,null,null,null,372.37,null,null,null,null,null,null,null,null,null,null,null,null,null,null,null,null,null,null,null,null,null,null,null,null,null,null,380.75,null,null,null,null,null,null,null,null,null,null,null,null,null,394.77,null,null,null,null,null,null,null,null,null,null,null,null,null,null,null,null,null,null,null,null,null,null],\"type\":\"scatter\"}],                        {\"template\":{\"data\":{\"histogram2dcontour\":[{\"type\":\"histogram2dcontour\",\"colorbar\":{\"outlinewidth\":0,\"ticks\":\"\"},\"colorscale\":[[0.0,\"#0d0887\"],[0.1111111111111111,\"#46039f\"],[0.2222222222222222,\"#7201a8\"],[0.3333333333333333,\"#9c179e\"],[0.4444444444444444,\"#bd3786\"],[0.5555555555555556,\"#d8576b\"],[0.6666666666666666,\"#ed7953\"],[0.7777777777777778,\"#fb9f3a\"],[0.8888888888888888,\"#fdca26\"],[1.0,\"#f0f921\"]]}],\"choropleth\":[{\"type\":\"choropleth\",\"colorbar\":{\"outlinewidth\":0,\"ticks\":\"\"}}],\"histogram2d\":[{\"type\":\"histogram2d\",\"colorbar\":{\"outlinewidth\":0,\"ticks\":\"\"},\"colorscale\":[[0.0,\"#0d0887\"],[0.1111111111111111,\"#46039f\"],[0.2222222222222222,\"#7201a8\"],[0.3333333333333333,\"#9c179e\"],[0.4444444444444444,\"#bd3786\"],[0.5555555555555556,\"#d8576b\"],[0.6666666666666666,\"#ed7953\"],[0.7777777777777778,\"#fb9f3a\"],[0.8888888888888888,\"#fdca26\"],[1.0,\"#f0f921\"]]}],\"heatmap\":[{\"type\":\"heatmap\",\"colorbar\":{\"outlinewidth\":0,\"ticks\":\"\"},\"colorscale\":[[0.0,\"#0d0887\"],[0.1111111111111111,\"#46039f\"],[0.2222222222222222,\"#7201a8\"],[0.3333333333333333,\"#9c179e\"],[0.4444444444444444,\"#bd3786\"],[0.5555555555555556,\"#d8576b\"],[0.6666666666666666,\"#ed7953\"],[0.7777777777777778,\"#fb9f3a\"],[0.8888888888888888,\"#fdca26\"],[1.0,\"#f0f921\"]]}],\"heatmapgl\":[{\"type\":\"heatmapgl\",\"colorbar\":{\"outlinewidth\":0,\"ticks\":\"\"},\"colorscale\":[[0.0,\"#0d0887\"],[0.1111111111111111,\"#46039f\"],[0.2222222222222222,\"#7201a8\"],[0.3333333333333333,\"#9c179e\"],[0.4444444444444444,\"#bd3786\"],[0.5555555555555556,\"#d8576b\"],[0.6666666666666666,\"#ed7953\"],[0.7777777777777778,\"#fb9f3a\"],[0.8888888888888888,\"#fdca26\"],[1.0,\"#f0f921\"]]}],\"contourcarpet\":[{\"type\":\"contourcarpet\",\"colorbar\":{\"outlinewidth\":0,\"ticks\":\"\"}}],\"contour\":[{\"type\":\"contour\",\"colorbar\":{\"outlinewidth\":0,\"ticks\":\"\"},\"colorscale\":[[0.0,\"#0d0887\"],[0.1111111111111111,\"#46039f\"],[0.2222222222222222,\"#7201a8\"],[0.3333333333333333,\"#9c179e\"],[0.4444444444444444,\"#bd3786\"],[0.5555555555555556,\"#d8576b\"],[0.6666666666666666,\"#ed7953\"],[0.7777777777777778,\"#fb9f3a\"],[0.8888888888888888,\"#fdca26\"],[1.0,\"#f0f921\"]]}],\"surface\":[{\"type\":\"surface\",\"colorbar\":{\"outlinewidth\":0,\"ticks\":\"\"},\"colorscale\":[[0.0,\"#0d0887\"],[0.1111111111111111,\"#46039f\"],[0.2222222222222222,\"#7201a8\"],[0.3333333333333333,\"#9c179e\"],[0.4444444444444444,\"#bd3786\"],[0.5555555555555556,\"#d8576b\"],[0.6666666666666666,\"#ed7953\"],[0.7777777777777778,\"#fb9f3a\"],[0.8888888888888888,\"#fdca26\"],[1.0,\"#f0f921\"]]}],\"mesh3d\":[{\"type\":\"mesh3d\",\"colorbar\":{\"outlinewidth\":0,\"ticks\":\"\"}}],\"scatter\":[{\"fillpattern\":{\"fillmode\":\"overlay\",\"size\":10,\"solidity\":0.2},\"type\":\"scatter\"}],\"parcoords\":[{\"type\":\"parcoords\",\"line\":{\"colorbar\":{\"outlinewidth\":0,\"ticks\":\"\"}}}],\"scatterpolargl\":[{\"type\":\"scatterpolargl\",\"marker\":{\"colorbar\":{\"outlinewidth\":0,\"ticks\":\"\"}}}],\"bar\":[{\"error_x\":{\"color\":\"#2a3f5f\"},\"error_y\":{\"color\":\"#2a3f5f\"},\"marker\":{\"line\":{\"color\":\"#E5ECF6\",\"width\":0.5},\"pattern\":{\"fillmode\":\"overlay\",\"size\":10,\"solidity\":0.2}},\"type\":\"bar\"}],\"scattergeo\":[{\"type\":\"scattergeo\",\"marker\":{\"colorbar\":{\"outlinewidth\":0,\"ticks\":\"\"}}}],\"scatterpolar\":[{\"type\":\"scatterpolar\",\"marker\":{\"colorbar\":{\"outlinewidth\":0,\"ticks\":\"\"}}}],\"histogram\":[{\"marker\":{\"pattern\":{\"fillmode\":\"overlay\",\"size\":10,\"solidity\":0.2}},\"type\":\"histogram\"}],\"scattergl\":[{\"type\":\"scattergl\",\"marker\":{\"colorbar\":{\"outlinewidth\":0,\"ticks\":\"\"}}}],\"scatter3d\":[{\"type\":\"scatter3d\",\"line\":{\"colorbar\":{\"outlinewidth\":0,\"ticks\":\"\"}},\"marker\":{\"colorbar\":{\"outlinewidth\":0,\"ticks\":\"\"}}}],\"scattermapbox\":[{\"type\":\"scattermapbox\",\"marker\":{\"colorbar\":{\"outlinewidth\":0,\"ticks\":\"\"}}}],\"scatterternary\":[{\"type\":\"scatterternary\",\"marker\":{\"colorbar\":{\"outlinewidth\":0,\"ticks\":\"\"}}}],\"scattercarpet\":[{\"type\":\"scattercarpet\",\"marker\":{\"colorbar\":{\"outlinewidth\":0,\"ticks\":\"\"}}}],\"carpet\":[{\"aaxis\":{\"endlinecolor\":\"#2a3f5f\",\"gridcolor\":\"white\",\"linecolor\":\"white\",\"minorgridcolor\":\"white\",\"startlinecolor\":\"#2a3f5f\"},\"baxis\":{\"endlinecolor\":\"#2a3f5f\",\"gridcolor\":\"white\",\"linecolor\":\"white\",\"minorgridcolor\":\"white\",\"startlinecolor\":\"#2a3f5f\"},\"type\":\"carpet\"}],\"table\":[{\"cells\":{\"fill\":{\"color\":\"#EBF0F8\"},\"line\":{\"color\":\"white\"}},\"header\":{\"fill\":{\"color\":\"#C8D4E3\"},\"line\":{\"color\":\"white\"}},\"type\":\"table\"}],\"barpolar\":[{\"marker\":{\"line\":{\"color\":\"#E5ECF6\",\"width\":0.5},\"pattern\":{\"fillmode\":\"overlay\",\"size\":10,\"solidity\":0.2}},\"type\":\"barpolar\"}],\"pie\":[{\"automargin\":true,\"type\":\"pie\"}]},\"layout\":{\"autotypenumbers\":\"strict\",\"colorway\":[\"#636efa\",\"#EF553B\",\"#00cc96\",\"#ab63fa\",\"#FFA15A\",\"#19d3f3\",\"#FF6692\",\"#B6E880\",\"#FF97FF\",\"#FECB52\"],\"font\":{\"color\":\"#2a3f5f\"},\"hovermode\":\"closest\",\"hoverlabel\":{\"align\":\"left\"},\"paper_bgcolor\":\"white\",\"plot_bgcolor\":\"#E5ECF6\",\"polar\":{\"bgcolor\":\"#E5ECF6\",\"angularaxis\":{\"gridcolor\":\"white\",\"linecolor\":\"white\",\"ticks\":\"\"},\"radialaxis\":{\"gridcolor\":\"white\",\"linecolor\":\"white\",\"ticks\":\"\"}},\"ternary\":{\"bgcolor\":\"#E5ECF6\",\"aaxis\":{\"gridcolor\":\"white\",\"linecolor\":\"white\",\"ticks\":\"\"},\"baxis\":{\"gridcolor\":\"white\",\"linecolor\":\"white\",\"ticks\":\"\"},\"caxis\":{\"gridcolor\":\"white\",\"linecolor\":\"white\",\"ticks\":\"\"}},\"coloraxis\":{\"colorbar\":{\"outlinewidth\":0,\"ticks\":\"\"}},\"colorscale\":{\"sequential\":[[0.0,\"#0d0887\"],[0.1111111111111111,\"#46039f\"],[0.2222222222222222,\"#7201a8\"],[0.3333333333333333,\"#9c179e\"],[0.4444444444444444,\"#bd3786\"],[0.5555555555555556,\"#d8576b\"],[0.6666666666666666,\"#ed7953\"],[0.7777777777777778,\"#fb9f3a\"],[0.8888888888888888,\"#fdca26\"],[1.0,\"#f0f921\"]],\"sequentialminus\":[[0.0,\"#0d0887\"],[0.1111111111111111,\"#46039f\"],[0.2222222222222222,\"#7201a8\"],[0.3333333333333333,\"#9c179e\"],[0.4444444444444444,\"#bd3786\"],[0.5555555555555556,\"#d8576b\"],[0.6666666666666666,\"#ed7953\"],[0.7777777777777778,\"#fb9f3a\"],[0.8888888888888888,\"#fdca26\"],[1.0,\"#f0f921\"]],\"diverging\":[[0,\"#8e0152\"],[0.1,\"#c51b7d\"],[0.2,\"#de77ae\"],[0.3,\"#f1b6da\"],[0.4,\"#fde0ef\"],[0.5,\"#f7f7f7\"],[0.6,\"#e6f5d0\"],[0.7,\"#b8e186\"],[0.8,\"#7fbc41\"],[0.9,\"#4d9221\"],[1,\"#276419\"]]},\"xaxis\":{\"gridcolor\":\"white\",\"linecolor\":\"white\",\"ticks\":\"\",\"title\":{\"standoff\":15},\"zerolinecolor\":\"white\",\"automargin\":true,\"zerolinewidth\":2},\"yaxis\":{\"gridcolor\":\"white\",\"linecolor\":\"white\",\"ticks\":\"\",\"title\":{\"standoff\":15},\"zerolinecolor\":\"white\",\"automargin\":true,\"zerolinewidth\":2},\"scene\":{\"xaxis\":{\"backgroundcolor\":\"#E5ECF6\",\"gridcolor\":\"white\",\"linecolor\":\"white\",\"showbackground\":true,\"ticks\":\"\",\"zerolinecolor\":\"white\",\"gridwidth\":2},\"yaxis\":{\"backgroundcolor\":\"#E5ECF6\",\"gridcolor\":\"white\",\"linecolor\":\"white\",\"showbackground\":true,\"ticks\":\"\",\"zerolinecolor\":\"white\",\"gridwidth\":2},\"zaxis\":{\"backgroundcolor\":\"#E5ECF6\",\"gridcolor\":\"white\",\"linecolor\":\"white\",\"showbackground\":true,\"ticks\":\"\",\"zerolinecolor\":\"white\",\"gridwidth\":2}},\"shapedefaults\":{\"line\":{\"color\":\"#2a3f5f\"}},\"annotationdefaults\":{\"arrowcolor\":\"#2a3f5f\",\"arrowhead\":0,\"arrowwidth\":1},\"geo\":{\"bgcolor\":\"white\",\"landcolor\":\"#E5ECF6\",\"subunitcolor\":\"white\",\"showland\":true,\"showlakes\":true,\"lakecolor\":\"white\"},\"title\":{\"x\":0.05},\"mapbox\":{\"style\":\"light\"}}},\"shapes\":[{\"layer\":\"below\",\"line\":{\"color\":\"blue\"},\"type\":\"line\",\"x0\":148,\"x1\":250,\"xref\":\"x\",\"y0\":401.95,\"y1\":401.95,\"yref\":\"y\"},{\"layer\":\"below\",\"line\":{\"color\":\"blue\"},\"type\":\"line\",\"x0\":148,\"x1\":250,\"xref\":\"x\",\"y0\":384.6,\"y1\":384.6,\"yref\":\"y\"},{\"layer\":\"below\",\"line\":{\"color\":\"blue\"},\"type\":\"line\",\"x0\":148,\"x1\":250,\"xref\":\"x\",\"y0\":372.4,\"y1\":372.4,\"yref\":\"y\"},{\"layer\":\"below\",\"line\":{\"color\":\"blue\"},\"type\":\"line\",\"x0\":148,\"x1\":250,\"xref\":\"x\",\"y0\":384.5,\"y1\":384.5,\"yref\":\"y\"},{\"layer\":\"below\",\"line\":{\"color\":\"blue\"},\"type\":\"line\",\"x0\":148,\"x1\":250,\"xref\":\"x\",\"y0\":376.3,\"y1\":376.3,\"yref\":\"y\"},{\"layer\":\"below\",\"line\":{\"color\":\"blue\"},\"type\":\"line\",\"x0\":148,\"x1\":250,\"xref\":\"x\",\"y0\":381.4,\"y1\":381.4,\"yref\":\"y\"},{\"layer\":\"below\",\"line\":{\"color\":\"blue\"},\"type\":\"line\",\"x0\":148,\"x1\":250,\"xref\":\"x\",\"y0\":394.2,\"y1\":394.2,\"yref\":\"y\"},{\"layer\":\"below\",\"line\":{\"color\":\"blue\"},\"type\":\"line\",\"x0\":148,\"x1\":250,\"xref\":\"x\",\"y0\":385.45,\"y1\":385.45,\"yref\":\"y\"},{\"layer\":\"below\",\"line\":{\"color\":\"blue\"},\"type\":\"line\",\"x0\":148,\"x1\":250,\"xref\":\"x\",\"y0\":355.0,\"y1\":355.0,\"yref\":\"y\"},{\"layer\":\"below\",\"line\":{\"color\":\"blue\"},\"type\":\"line\",\"x0\":148,\"x1\":250,\"xref\":\"x\",\"y0\":381.35,\"y1\":381.35,\"yref\":\"y\"},{\"layer\":\"below\",\"line\":{\"color\":\"blue\"},\"type\":\"line\",\"x0\":148,\"x1\":250,\"xref\":\"x\",\"y0\":417.5,\"y1\":417.5,\"yref\":\"y\"},{\"layer\":\"below\",\"line\":{\"color\":\"blue\"},\"type\":\"line\",\"x0\":148,\"x1\":250,\"xref\":\"x\",\"y0\":394.85,\"y1\":394.85,\"yref\":\"y\"},{\"layer\":\"below\",\"line\":{\"color\":\"blue\"},\"type\":\"line\",\"x0\":148,\"x1\":250,\"xref\":\"x\",\"y0\":405.85,\"y1\":405.85,\"yref\":\"y\"},{\"layer\":\"below\",\"line\":{\"color\":\"blue\"},\"type\":\"line\",\"x0\":148,\"x1\":250,\"xref\":\"x\",\"y0\":416.35,\"y1\":416.35,\"yref\":\"y\"},{\"layer\":\"below\",\"line\":{\"color\":\"blue\"},\"type\":\"line\",\"x0\":148,\"x1\":250,\"xref\":\"x\",\"y0\":397.75,\"y1\":397.75,\"yref\":\"y\"},{\"layer\":\"below\",\"line\":{\"color\":\"blue\"},\"type\":\"line\",\"x0\":148,\"x1\":250,\"xref\":\"x\",\"y0\":410.2,\"y1\":410.2,\"yref\":\"y\"},{\"layer\":\"below\",\"line\":{\"color\":\"blue\"},\"type\":\"line\",\"x0\":148,\"x1\":250,\"xref\":\"x\",\"y0\":396.65,\"y1\":396.65,\"yref\":\"y\"},{\"layer\":\"below\",\"line\":{\"color\":\"blue\"},\"type\":\"line\",\"x0\":148,\"x1\":250,\"xref\":\"x\",\"y0\":374.85,\"y1\":374.85,\"yref\":\"y\"},{\"layer\":\"below\",\"line\":{\"color\":\"blue\"},\"type\":\"line\",\"x0\":148,\"x1\":250,\"xref\":\"x\",\"y0\":392.15,\"y1\":392.15,\"yref\":\"y\"},{\"layer\":\"below\",\"line\":{\"color\":\"blue\"},\"type\":\"line\",\"x0\":148,\"x1\":250,\"xref\":\"x\",\"y0\":409.8,\"y1\":409.8,\"yref\":\"y\"}]},                        {\"responsive\": true}                    ).then(function(){\n",
       "                            \n",
       "var gd = document.getElementById('785b3340-8220-4bf4-a455-43ece34d8f71');\n",
       "var x = new MutationObserver(function (mutations, observer) {{\n",
       "        var display = window.getComputedStyle(gd).display;\n",
       "        if (!display || display === 'none') {{\n",
       "            console.log([gd, 'removed!']);\n",
       "            Plotly.purge(gd);\n",
       "            observer.disconnect();\n",
       "        }}\n",
       "}});\n",
       "\n",
       "// Listen for the removal of the full notebook cells\n",
       "var notebookContainer = gd.closest('#notebook-container');\n",
       "if (notebookContainer) {{\n",
       "    x.observe(notebookContainer, {childList: true});\n",
       "}}\n",
       "\n",
       "// Listen for the clearing of the current output cell\n",
       "var outputEl = gd.closest('.output');\n",
       "if (outputEl) {{\n",
       "    x.observe(outputEl, {childList: true});\n",
       "}}\n",
       "\n",
       "                        })                };                });            </script>        </div>"
      ]
     },
     "metadata": {},
     "output_type": "display_data"
    }
   ],
   "source": [
    "sri.showIndicator(250)"
   ]
  },
  {
   "cell_type": "code",
   "execution_count": 18,
   "id": "fc5883e5",
   "metadata": {},
   "outputs": [
    {
     "data": {
      "text/plain": [
       "0.8005578053146685"
      ]
     },
     "execution_count": 18,
     "metadata": {},
     "output_type": "execute_result"
    }
   ],
   "source": [
    "sri.proximity"
   ]
  }
 ],
 "metadata": {
  "kernelspec": {
   "display_name": "Python 3 (ipykernel)",
   "language": "python",
   "name": "python3"
  },
  "language_info": {
   "codemirror_mode": {
    "name": "ipython",
    "version": 3
   },
   "file_extension": ".py",
   "mimetype": "text/x-python",
   "name": "python",
   "nbconvert_exporter": "python",
   "pygments_lexer": "ipython3",
   "version": "3.10.10"
  }
 },
 "nbformat": 4,
 "nbformat_minor": 5
}
