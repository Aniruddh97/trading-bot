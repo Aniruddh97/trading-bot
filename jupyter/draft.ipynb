{
 "cells": [
  {
   "cell_type": "code",
   "execution_count": 1,
   "id": "e06b81ca",
   "metadata": {
    "vscode": {
     "languageId": "plaintext"
    }
   },
   "outputs": [],
   "source": [
    "import os\n",
    "import sys\n",
    "module_path = os.path.abspath(os.path.join('..'))\n",
    "if module_path not in sys.path:\n",
    "    sys.path.append(module_path)\n",
    "    \n",
    "from main import TradingBot\n",
    "\n",
    "tb = TradingBot()"
   ]
  },
  {
   "cell_type": "code",
   "execution_count": 2,
   "id": "4c91b470",
   "metadata": {},
   "outputs": [
    {
     "name": "stderr",
     "output_type": "stream",
     "text": [
      "100%|██████████| 100/100 [00:02<00:00, 37.25it/s]\n",
      "100%|██████████| 2/2 [00:00<00:00, 45.61it/s]"
     ]
    },
    {
     "name": "stdout",
     "output_type": "stream",
     "text": [
      "EndDate : 2023-07-25\n"
     ]
    },
    {
     "name": "stderr",
     "output_type": "stream",
     "text": [
      "\n"
     ]
    }
   ],
   "source": [
    "tb.loadData(timePeriod='2y', label='NIFTY 100', forceUpdate=True)\n",
    "tb.incompleteStocks()"
   ]
  },
  {
   "cell_type": "code",
   "execution_count": 3,
   "id": "67d9fd4a",
   "metadata": {},
   "outputs": [
    {
     "name": "stderr",
     "output_type": "stream",
     "text": [
      "100%|██████████| 102/102 [01:38<00:00,  1.03it/s]\n"
     ]
    },
    {
     "data": {
      "text/html": [
       "<div>\n",
       "<style scoped>\n",
       "    .dataframe tbody tr th:only-of-type {\n",
       "        vertical-align: middle;\n",
       "    }\n",
       "\n",
       "    .dataframe tbody tr th {\n",
       "        vertical-align: top;\n",
       "    }\n",
       "\n",
       "    .dataframe thead th {\n",
       "        text-align: right;\n",
       "    }\n",
       "</style>\n",
       "<table border=\"1\" class=\"dataframe\">\n",
       "  <thead>\n",
       "    <tr style=\"text-align: right;\">\n",
       "      <th></th>\n",
       "      <th>Pattern</th>\n",
       "      <th>Pattern Count</th>\n",
       "      <th>Pattern Rank</th>\n",
       "      <th>RSI</th>\n",
       "      <th>SupportResistanceIndicator</th>\n",
       "    </tr>\n",
       "  </thead>\n",
       "  <tbody>\n",
       "    <tr>\n",
       "      <th>HINDALCO</th>\n",
       "      <td>CDLMORNINGSTAR_Bull</td>\n",
       "      <td>2.0</td>\n",
       "      <td>12.0</td>\n",
       "      <td>62.928165</td>\n",
       "      <td>NaN</td>\n",
       "    </tr>\n",
       "    <tr>\n",
       "      <th>BANKBARODA</th>\n",
       "      <td>CDLSTICKSANDWICH_Bull</td>\n",
       "      <td>4.0</td>\n",
       "      <td>14.0</td>\n",
       "      <td>49.847692</td>\n",
       "      <td>NaN</td>\n",
       "    </tr>\n",
       "    <tr>\n",
       "      <th>SRF</th>\n",
       "      <td>CDLTHRUSTING_Bear</td>\n",
       "      <td>1.0</td>\n",
       "      <td>15.0</td>\n",
       "      <td>36.087648</td>\n",
       "      <td>NaN</td>\n",
       "    </tr>\n",
       "    <tr>\n",
       "      <th>JINDALSTEL</th>\n",
       "      <td>CDL3INSIDE_Bull</td>\n",
       "      <td>2.0</td>\n",
       "      <td>20.0</td>\n",
       "      <td>72.019682</td>\n",
       "      <td>NaN</td>\n",
       "    </tr>\n",
       "    <tr>\n",
       "      <th>BEL</th>\n",
       "      <td>CDL3INSIDE_Bull</td>\n",
       "      <td>5.0</td>\n",
       "      <td>20.0</td>\n",
       "      <td>58.924754</td>\n",
       "      <td>NaN</td>\n",
       "    </tr>\n",
       "    <tr>\n",
       "      <th>...</th>\n",
       "      <td>...</td>\n",
       "      <td>...</td>\n",
       "      <td>...</td>\n",
       "      <td>...</td>\n",
       "      <td>...</td>\n",
       "    </tr>\n",
       "    <tr>\n",
       "      <th>VEDL</th>\n",
       "      <td>CDLHANGINGMAN_Bear</td>\n",
       "      <td>1.0</td>\n",
       "      <td>87.0</td>\n",
       "      <td>44.835304</td>\n",
       "      <td>NaN</td>\n",
       "    </tr>\n",
       "    <tr>\n",
       "      <th>IOC</th>\n",
       "      <td>CDLENGULFING_Bear</td>\n",
       "      <td>1.0</td>\n",
       "      <td>91.0</td>\n",
       "      <td>65.472391</td>\n",
       "      <td>NaN</td>\n",
       "    </tr>\n",
       "    <tr>\n",
       "      <th>CHOLAFIN</th>\n",
       "      <td>CDLENGULFING_Bear</td>\n",
       "      <td>1.0</td>\n",
       "      <td>91.0</td>\n",
       "      <td>49.420471</td>\n",
       "      <td>NaN</td>\n",
       "    </tr>\n",
       "    <tr>\n",
       "      <th>NYKAA</th>\n",
       "      <td>CDLENGULFING_Bear</td>\n",
       "      <td>1.0</td>\n",
       "      <td>91.0</td>\n",
       "      <td>53.378331</td>\n",
       "      <td>NaN</td>\n",
       "    </tr>\n",
       "    <tr>\n",
       "      <th>BAJAJ-AUTO</th>\n",
       "      <td>CDLENGULFING_Bear</td>\n",
       "      <td>1.0</td>\n",
       "      <td>91.0</td>\n",
       "      <td>55.094643</td>\n",
       "      <td>NaN</td>\n",
       "    </tr>\n",
       "  </tbody>\n",
       "</table>\n",
       "<p>85 rows × 5 columns</p>\n",
       "</div>"
      ],
      "text/plain": [
       "                          Pattern Pattern Count Pattern Rank        RSI  \\\n",
       "HINDALCO      CDLMORNINGSTAR_Bull           2.0         12.0  62.928165   \n",
       "BANKBARODA  CDLSTICKSANDWICH_Bull           4.0         14.0  49.847692   \n",
       "SRF             CDLTHRUSTING_Bear           1.0         15.0  36.087648   \n",
       "JINDALSTEL        CDL3INSIDE_Bull           2.0         20.0  72.019682   \n",
       "BEL               CDL3INSIDE_Bull           5.0         20.0  58.924754   \n",
       "...                           ...           ...          ...        ...   \n",
       "VEDL           CDLHANGINGMAN_Bear           1.0         87.0  44.835304   \n",
       "IOC             CDLENGULFING_Bear           1.0         91.0  65.472391   \n",
       "CHOLAFIN        CDLENGULFING_Bear           1.0         91.0  49.420471   \n",
       "NYKAA           CDLENGULFING_Bear           1.0         91.0  53.378331   \n",
       "BAJAJ-AUTO      CDLENGULFING_Bear           1.0         91.0  55.094643   \n",
       "\n",
       "           SupportResistanceIndicator  \n",
       "HINDALCO                          NaN  \n",
       "BANKBARODA                        NaN  \n",
       "SRF                               NaN  \n",
       "JINDALSTEL                        NaN  \n",
       "BEL                               NaN  \n",
       "...                               ...  \n",
       "VEDL                              NaN  \n",
       "IOC                               NaN  \n",
       "CHOLAFIN                          NaN  \n",
       "NYKAA                             NaN  \n",
       "BAJAJ-AUTO                        NaN  \n",
       "\n",
       "[85 rows x 5 columns]"
      ]
     },
     "execution_count": 3,
     "metadata": {},
     "output_type": "execute_result"
    }
   ],
   "source": [
    "tb.computeSignal()\n",
    "tb.rank()"
   ]
  },
  {
   "cell_type": "code",
   "execution_count": 3,
   "id": "9b5b7965",
   "metadata": {},
   "outputs": [],
   "source": [
    "for stock in tb.data:\n",
    "    indicator = tb.indicatorCollection[stock][\"sri\"]\n",
    "    pattern = indicator.df[indicator.df['candlestick_pattern'] == 'CDLMATCHINGLOW_Bull']\n",
    "    if len(pattern.index)>0:\n",
    "        print(stock)"
   ]
  },
  {
   "cell_type": "code",
   "execution_count": 8,
   "id": "090878de",
   "metadata": {},
   "outputs": [
    {
     "data": {
      "text/html": [
       "<div>\n",
       "<style scoped>\n",
       "    .dataframe tbody tr th:only-of-type {\n",
       "        vertical-align: middle;\n",
       "    }\n",
       "\n",
       "    .dataframe tbody tr th {\n",
       "        vertical-align: top;\n",
       "    }\n",
       "\n",
       "    .dataframe thead th {\n",
       "        text-align: right;\n",
       "    }\n",
       "</style>\n",
       "<table border=\"1\" class=\"dataframe\">\n",
       "  <thead>\n",
       "    <tr style=\"text-align: right;\">\n",
       "      <th></th>\n",
       "      <th>Date</th>\n",
       "      <th>Open</th>\n",
       "      <th>High</th>\n",
       "      <th>Low</th>\n",
       "      <th>Close</th>\n",
       "      <th>Volume</th>\n",
       "      <th>RSI</th>\n",
       "      <th>candlestick_rank</th>\n",
       "      <th>candlestick_pattern</th>\n",
       "      <th>candlestick_match_count</th>\n",
       "      <th>EMA14</th>\n",
       "      <th>EMA26</th>\n",
       "      <th>Level</th>\n",
       "      <th>Signal</th>\n",
       "      <th>SignalMarker</th>\n",
       "      <th>Target</th>\n",
       "      <th>Stoploss</th>\n",
       "    </tr>\n",
       "  </thead>\n",
       "  <tbody>\n",
       "    <tr>\n",
       "      <th>162</th>\n",
       "      <td>2022-03-21</td>\n",
       "      <td>1861.00</td>\n",
       "      <td>1886.90</td>\n",
       "      <td>1841.10</td>\n",
       "      <td>1853.05</td>\n",
       "      <td>8362085</td>\n",
       "      <td>59.054382</td>\n",
       "      <td>7.0</td>\n",
       "      <td>CDLMATCHINGLOW_Bull</td>\n",
       "      <td>3.0</td>\n",
       "      <td>1813.942811</td>\n",
       "      <td>1790.456018</td>\n",
       "      <td>0</td>\n",
       "      <td>0</td>\n",
       "      <td>NaN</td>\n",
       "      <td>NaN</td>\n",
       "      <td>NaN</td>\n",
       "    </tr>\n",
       "    <tr>\n",
       "      <th>232</th>\n",
       "      <td>2022-06-30</td>\n",
       "      <td>1465.05</td>\n",
       "      <td>1482.00</td>\n",
       "      <td>1455.00</td>\n",
       "      <td>1461.90</td>\n",
       "      <td>9165177</td>\n",
       "      <td>48.291087</td>\n",
       "      <td>7.0</td>\n",
       "      <td>CDLMATCHINGLOW_Bull</td>\n",
       "      <td>6.0</td>\n",
       "      <td>1456.511773</td>\n",
       "      <td>1469.429021</td>\n",
       "      <td>0</td>\n",
       "      <td>0</td>\n",
       "      <td>NaN</td>\n",
       "      <td>NaN</td>\n",
       "      <td>NaN</td>\n",
       "    </tr>\n",
       "    <tr>\n",
       "      <th>396</th>\n",
       "      <td>2023-02-24</td>\n",
       "      <td>1560.00</td>\n",
       "      <td>1569.00</td>\n",
       "      <td>1545.00</td>\n",
       "      <td>1550.65</td>\n",
       "      <td>2790986</td>\n",
       "      <td>46.324665</td>\n",
       "      <td>7.0</td>\n",
       "      <td>CDLMATCHINGLOW_Bull</td>\n",
       "      <td>1.0</td>\n",
       "      <td>1571.888662</td>\n",
       "      <td>1565.499081</td>\n",
       "      <td>0</td>\n",
       "      <td>0</td>\n",
       "      <td>NaN</td>\n",
       "      <td>NaN</td>\n",
       "      <td>NaN</td>\n",
       "    </tr>\n",
       "    <tr>\n",
       "      <th>408</th>\n",
       "      <td>2023-03-15</td>\n",
       "      <td>1438.00</td>\n",
       "      <td>1442.85</td>\n",
       "      <td>1416.85</td>\n",
       "      <td>1419.65</td>\n",
       "      <td>7556182</td>\n",
       "      <td>29.322807</td>\n",
       "      <td>7.0</td>\n",
       "      <td>CDLMATCHINGLOW_Bull</td>\n",
       "      <td>1.0</td>\n",
       "      <td>1479.972009</td>\n",
       "      <td>1505.402524</td>\n",
       "      <td>0</td>\n",
       "      <td>0</td>\n",
       "      <td>NaN</td>\n",
       "      <td>NaN</td>\n",
       "      <td>NaN</td>\n",
       "    </tr>\n",
       "    <tr>\n",
       "      <th>413</th>\n",
       "      <td>2023-03-22</td>\n",
       "      <td>1403.00</td>\n",
       "      <td>1407.25</td>\n",
       "      <td>1382.15</td>\n",
       "      <td>1389.25</td>\n",
       "      <td>8356487</td>\n",
       "      <td>28.244892</td>\n",
       "      <td>7.0</td>\n",
       "      <td>CDLMATCHINGLOW_Bull</td>\n",
       "      <td>1.0</td>\n",
       "      <td>1439.064565</td>\n",
       "      <td>1471.973270</td>\n",
       "      <td>0</td>\n",
       "      <td>0</td>\n",
       "      <td>NaN</td>\n",
       "      <td>NaN</td>\n",
       "      <td>NaN</td>\n",
       "    </tr>\n",
       "    <tr>\n",
       "      <th>432</th>\n",
       "      <td>2023-04-24</td>\n",
       "      <td>1228.00</td>\n",
       "      <td>1230.00</td>\n",
       "      <td>1218.00</td>\n",
       "      <td>1226.30</td>\n",
       "      <td>8313774</td>\n",
       "      <td>23.361919</td>\n",
       "      <td>7.0</td>\n",
       "      <td>CDLMATCHINGLOW_Bull</td>\n",
       "      <td>8.0</td>\n",
       "      <td>1310.358426</td>\n",
       "      <td>1358.616907</td>\n",
       "      <td>0</td>\n",
       "      <td>0</td>\n",
       "      <td>NaN</td>\n",
       "      <td>NaN</td>\n",
       "      <td>NaN</td>\n",
       "    </tr>\n",
       "    <tr>\n",
       "      <th>433</th>\n",
       "      <td>2023-04-25</td>\n",
       "      <td>1225.95</td>\n",
       "      <td>1235.50</td>\n",
       "      <td>1215.00</td>\n",
       "      <td>1224.90</td>\n",
       "      <td>6808576</td>\n",
       "      <td>23.233996</td>\n",
       "      <td>7.0</td>\n",
       "      <td>CDLMATCHINGLOW_Bull</td>\n",
       "      <td>6.0</td>\n",
       "      <td>1298.963970</td>\n",
       "      <td>1348.711951</td>\n",
       "      <td>0</td>\n",
       "      <td>0</td>\n",
       "      <td>NaN</td>\n",
       "      <td>NaN</td>\n",
       "      <td>NaN</td>\n",
       "    </tr>\n",
       "    <tr>\n",
       "      <th>449</th>\n",
       "      <td>2023-05-18</td>\n",
       "      <td>1258.60</td>\n",
       "      <td>1259.65</td>\n",
       "      <td>1242.45</td>\n",
       "      <td>1246.00</td>\n",
       "      <td>6948732</td>\n",
       "      <td>37.168412</td>\n",
       "      <td>7.0</td>\n",
       "      <td>CDLMATCHINGLOW_Bull</td>\n",
       "      <td>2.0</td>\n",
       "      <td>1260.597857</td>\n",
       "      <td>1283.904136</td>\n",
       "      <td>0</td>\n",
       "      <td>0</td>\n",
       "      <td>NaN</td>\n",
       "      <td>NaN</td>\n",
       "      <td>NaN</td>\n",
       "    </tr>\n",
       "  </tbody>\n",
       "</table>\n",
       "</div>"
      ],
      "text/plain": [
       "           Date     Open     High      Low    Close   Volume        RSI  \\\n",
       "162  2022-03-21  1861.00  1886.90  1841.10  1853.05  8362085  59.054382   \n",
       "232  2022-06-30  1465.05  1482.00  1455.00  1461.90  9165177  48.291087   \n",
       "396  2023-02-24  1560.00  1569.00  1545.00  1550.65  2790986  46.324665   \n",
       "408  2023-03-15  1438.00  1442.85  1416.85  1419.65  7556182  29.322807   \n",
       "413  2023-03-22  1403.00  1407.25  1382.15  1389.25  8356487  28.244892   \n",
       "432  2023-04-24  1228.00  1230.00  1218.00  1226.30  8313774  23.361919   \n",
       "433  2023-04-25  1225.95  1235.50  1215.00  1224.90  6808576  23.233996   \n",
       "449  2023-05-18  1258.60  1259.65  1242.45  1246.00  6948732  37.168412   \n",
       "\n",
       "     candlestick_rank  candlestick_pattern  candlestick_match_count  \\\n",
       "162               7.0  CDLMATCHINGLOW_Bull                      3.0   \n",
       "232               7.0  CDLMATCHINGLOW_Bull                      6.0   \n",
       "396               7.0  CDLMATCHINGLOW_Bull                      1.0   \n",
       "408               7.0  CDLMATCHINGLOW_Bull                      1.0   \n",
       "413               7.0  CDLMATCHINGLOW_Bull                      1.0   \n",
       "432               7.0  CDLMATCHINGLOW_Bull                      8.0   \n",
       "433               7.0  CDLMATCHINGLOW_Bull                      6.0   \n",
       "449               7.0  CDLMATCHINGLOW_Bull                      2.0   \n",
       "\n",
       "           EMA14        EMA26  Level  Signal  SignalMarker  Target  Stoploss  \n",
       "162  1813.942811  1790.456018      0       0           NaN     NaN       NaN  \n",
       "232  1456.511773  1469.429021      0       0           NaN     NaN       NaN  \n",
       "396  1571.888662  1565.499081      0       0           NaN     NaN       NaN  \n",
       "408  1479.972009  1505.402524      0       0           NaN     NaN       NaN  \n",
       "413  1439.064565  1471.973270      0       0           NaN     NaN       NaN  \n",
       "432  1310.358426  1358.616907      0       0           NaN     NaN       NaN  \n",
       "433  1298.963970  1348.711951      0       0           NaN     NaN       NaN  \n",
       "449  1260.597857  1283.904136      0       0           NaN     NaN       NaN  "
      ]
     },
     "execution_count": 8,
     "metadata": {},
     "output_type": "execute_result"
    }
   ],
   "source": [
    "indicator = tb.indicatorCollection['INFY'][\"sri\"]\n",
    "indicator.df[indicator.df['candlestick_pattern'] == 'CDLMATCHINGLOW_Bull']"
   ]
  },
  {
   "cell_type": "code",
   "execution_count": 13,
   "id": "b68df652",
   "metadata": {},
   "outputs": [
    {
     "data": {
      "application/vnd.plotly.v1+json": {
       "config": {
        "plotlyServerURL": "https://plot.ly"
       },
       "data": [
        {
         "close": [
          1420.7,
          1403.65,
          1390.7,
          1389.25,
          1374.55,
          1380.65,
          1388.95,
          1377.6,
          1383.55,
          1427.95,
          1410.85,
          1423.55,
          1421.9,
          1427.6,
          1406.15,
          1428.3,
          1389.2,
          1258.3,
          1259.35,
          1232.2,
          1223.4,
          1227.35,
          1226.3,
          1224.9,
          1227.55,
          1246.25,
          1252.75,
          1277.45,
          1269.15,
          1273.55,
          1259.1,
          1265.6,
          1270.7,
          1263.25,
          1256.1,
          1245.2,
          1258.35,
          1264.3,
          1246.9,
          1246,
          1268.9,
          1292.8,
          1300.05,
          1298.65,
          1304.35,
          1317.45,
          1314.4,
          1323.85,
          1318.3,
          1319.5,
          1299
         ],
         "high": [
          1442.9,
          1419.7,
          1405,
          1407.25,
          1383.95,
          1398.95,
          1395.75,
          1398,
          1389.9,
          1429.95,
          1435,
          1427.5,
          1428.4,
          1434,
          1433.35,
          1431.5,
          1411.05,
          1261.15,
          1269.95,
          1254.35,
          1237.85,
          1233.25,
          1230,
          1235.5,
          1233,
          1247.8,
          1259,
          1279.75,
          1272.5,
          1275.8,
          1279,
          1270.3,
          1272,
          1276.4,
          1275.9,
          1256,
          1268.9,
          1273.95,
          1260.95,
          1259.65,
          1273.3,
          1295.6,
          1314.15,
          1305,
          1307,
          1323.45,
          1332.7,
          1326.4,
          1331.1,
          1329.5,
          1312.9
         ],
         "low": [
          1411.4,
          1384.85,
          1390,
          1382.15,
          1370,
          1377.5,
          1374.1,
          1375.85,
          1364.55,
          1393.9,
          1405.15,
          1400,
          1410.35,
          1415,
          1389,
          1400,
          1383,
          1185.3,
          1253.1,
          1229.4,
          1221.4,
          1220,
          1218,
          1215,
          1220.55,
          1225.4,
          1244.95,
          1254.55,
          1262.1,
          1262.5,
          1254.25,
          1255.2,
          1260.7,
          1259.15,
          1253.05,
          1239.05,
          1245.65,
          1262.75,
          1242.45,
          1242.45,
          1252.8,
          1270.25,
          1297.05,
          1291.3,
          1289.25,
          1306,
          1309.85,
          1309.15,
          1314.15,
          1318.1,
          1296.05
         ],
         "open": [
          1430,
          1419.7,
          1399,
          1403,
          1383.95,
          1388,
          1386.25,
          1392.1,
          1379,
          1404,
          1435,
          1400,
          1416,
          1423.95,
          1428.9,
          1413.05,
          1409.75,
          1250.3,
          1269.95,
          1254.35,
          1230.7,
          1228.1,
          1228,
          1225.95,
          1228,
          1230,
          1255.7,
          1254.55,
          1266,
          1268.95,
          1279,
          1262.45,
          1266,
          1276.4,
          1270.25,
          1253.35,
          1249.9,
          1265,
          1260.6,
          1258.6,
          1256.05,
          1272.95,
          1299.2,
          1296.3,
          1294.5,
          1306,
          1332.7,
          1315,
          1319.85,
          1322.55,
          1309
         ],
         "type": "candlestick",
         "x": [
          410,
          411,
          412,
          413,
          414,
          415,
          416,
          417,
          418,
          419,
          420,
          421,
          422,
          423,
          424,
          425,
          426,
          427,
          428,
          429,
          430,
          431,
          432,
          433,
          434,
          435,
          436,
          437,
          438,
          439,
          440,
          441,
          442,
          443,
          444,
          445,
          446,
          447,
          448,
          449,
          450,
          451,
          452,
          453,
          454,
          455,
          456,
          457,
          458,
          459,
          460
         ],
         "xaxis": "x",
         "yaxis": "y"
        },
        {
         "showlegend": false,
         "type": "bar",
         "x": [
          410,
          411,
          412,
          413,
          414,
          415,
          416,
          417,
          418,
          419,
          420,
          421,
          422,
          423,
          424,
          425,
          426,
          427,
          428,
          429,
          430,
          431,
          432,
          433,
          434,
          435,
          436,
          437,
          438,
          439,
          440,
          441,
          442,
          443,
          444,
          445,
          446,
          447,
          448,
          449,
          450,
          451,
          452,
          453,
          454,
          455,
          456,
          457,
          458,
          459,
          460
         ],
         "xaxis": "x2",
         "y": [
          9090018,
          8221829,
          8536755,
          8356487,
          7607718,
          7559127,
          4170193,
          6633366,
          8813966,
          8711975,
          5242764,
          7506334,
          6948465,
          4993788,
          6942255,
          5831169,
          11267238,
          53171705,
          12430884,
          11307230,
          8621249,
          8691352,
          8313774,
          6808576,
          5680192,
          8020704,
          10118277,
          8886401,
          5549783,
          4505401,
          5373791,
          5260842,
          4969897,
          6515734,
          6888461,
          8292212,
          5534710,
          5236469,
          10465667,
          6948732,
          11094136,
          7625947,
          7436031,
          4824077,
          4334121,
          5521606,
          4419365,
          6274719,
          17800782,
          4277841,
          10909311
         ],
         "yaxis": "y2"
        },
        {
         "line": {
          "color": "blue",
          "width": 1
         },
         "name": "EMA14",
         "type": "scatter",
         "x": [
          410,
          411,
          412,
          413,
          414,
          415,
          416,
          417,
          418,
          419,
          420,
          421,
          422,
          423,
          424,
          425,
          426,
          427,
          428,
          429,
          430,
          431,
          432,
          433,
          434,
          435,
          436,
          437,
          438,
          439,
          440,
          441,
          442,
          443,
          444,
          445,
          446,
          447,
          448,
          449,
          450,
          451,
          452,
          453,
          454,
          455,
          456,
          457,
          458,
          459,
          460
         ],
         "xaxis": "x",
         "y": [
          1463.3016423818945,
          1455.3480900643085,
          1446.7283447224006,
          1439.0645654260804,
          1430.4626233692697,
          1423.820940253367,
          1419.171481552918,
          1413.6286173458623,
          1409.6181350330805,
          1412.0623836953364,
          1411.9007325359582,
          1413.4539681978304,
          1414.580105771453,
          1416.3160916685927,
          1414.960612779447,
          1416.7391977421873,
          1413.0673047098958,
          1392.4316640819097,
          1374.6874422043218,
          1355.689116577079,
          1338.0505677001352,
          1323.2904920067838,
          1310.3584264058793,
          1298.9639695517621,
          1289.4421069448606,
          1283.6831593522124,
          1279.5587381052508,
          1279.2775730245507,
          1277.9272299546108,
          1277.343599293996,
          1274.91111938813,
          1273.669636803046,
          1273.2736852293065,
          1271.937193865399,
          1269.8255680166792,
          1266.5421589477887,
          1265.4498710880835,
          1265.2965549430057,
          1262.843680950605,
          1260.5978568238577,
          1261.7048092473433,
          1265.8508346810308,
          1270.4107233902266,
          1274.1759602715297,
          1278.199165568659,
          1283.4326101595045,
          1287.5615954715706,
          1292.4000494086945,
          1295.853376154202,
          1299.0062593336415,
          1299.0054247558226
         ],
         "yaxis": "y"
        },
        {
         "line": {
          "color": "maroon",
          "width": 1
         },
         "name": "EMA26",
         "type": "scatter",
         "x": [
          410,
          411,
          412,
          413,
          414,
          415,
          416,
          417,
          418,
          419,
          420,
          421,
          422,
          423,
          424,
          425,
          426,
          427,
          428,
          429,
          430,
          431,
          432,
          433,
          434,
          435,
          436,
          437,
          438,
          439,
          440,
          441,
          442,
          443,
          444,
          445,
          446,
          447,
          448,
          449,
          450,
          451,
          452,
          453,
          454,
          455,
          456,
          457,
          458,
          459,
          460
         ],
         "xaxis": "x",
         "y": [
          1492.1802161772493,
          1485.622422386342,
          1478.5911318392054,
          1471.9732702214865,
          1464.7567316865616,
          1458.526603413483,
          1453.3727809384102,
          1447.7599823503797,
          1443.0036873614627,
          1441.8885994087618,
          1439.5894438970017,
          1438.4013369416682,
          1437.1790156867298,
          1436.4694589691942,
          1434.2235731196242,
          1433.784789925578,
          1430.4822128940536,
          1417.7279749019015,
          1405.996273057316,
          1393.1224750530705,
          1380.5504398639541,
          1369.202259133291,
          1358.616906604899,
          1348.7119505600917,
          1339.7369912593442,
          1332.8120289438373,
          1326.8815082813308,
          1323.2199150753063,
          1319.214736180839,
          1315.8321631304066,
          1311.6297806763023,
          1308.2201672928725,
          1305.4408956415487,
          1302.315644112545,
          1298.8922630671714,
          1294.915058395529,
          1292.2065355514158,
          1290.1393847698293,
          1286.9364673794717,
          1283.9041364624738,
          1282.792718946735,
          1283.5339990247546,
          1284.7574065044025,
          1285.7864875040764,
          1287.1615625037743,
          1289.4051504664578,
          1291.2566208022758,
          1293.6709451872925,
          1295.4953196178635,
          1297.2734440906145,
          1297.4013371209394
         ],
         "yaxis": "y"
        }
       ],
       "layout": {
        "annotations": [
         {
          "font": {
           "size": 16
          },
          "showarrow": false,
          "text": "INFY",
          "x": 0.5,
          "xanchor": "center",
          "xref": "paper",
          "y": 1,
          "yanchor": "bottom",
          "yref": "paper"
         }
        ],
        "shapes": [
         {
          "layer": "below",
          "line": {
           "color": "darkgrey"
          },
          "type": "line",
          "x0": 408,
          "x1": 463,
          "xref": "x",
          "y0": 1399.25,
          "y1": 1399.25,
          "yref": "y"
         },
         {
          "layer": "below",
          "line": {
           "color": "darkgrey"
          },
          "type": "line",
          "x0": 408,
          "x1": 463,
          "xref": "x",
          "y0": 1367.15,
          "y1": 1367.15,
          "yref": "y"
         },
         {
          "layer": "below",
          "line": {
           "color": "darkgrey"
          },
          "type": "line",
          "x0": 408,
          "x1": 463,
          "xref": "x",
          "y0": 1410.65,
          "y1": 1410.65,
          "yref": "y"
         },
         {
          "layer": "below",
          "line": {
           "color": "darkgrey"
          },
          "type": "line",
          "x0": 408,
          "x1": 463,
          "xref": "x",
          "y0": 1445,
          "y1": 1445,
          "yref": "y"
         },
         {
          "layer": "below",
          "line": {
           "color": "darkgrey"
          },
          "type": "line",
          "x0": 408,
          "x1": 463,
          "xref": "x",
          "y0": 1445,
          "y1": 1445,
          "yref": "y"
         },
         {
          "layer": "below",
          "line": {
           "color": "darkgrey"
          },
          "type": "line",
          "x0": 408,
          "x1": 463,
          "xref": "x",
          "y0": 1438.05,
          "y1": 1438.05,
          "yref": "y"
         },
         {
          "layer": "below",
          "line": {
           "color": "darkgrey"
          },
          "type": "line",
          "x0": 408,
          "x1": 463,
          "xref": "x",
          "y0": 1355,
          "y1": 1355,
          "yref": "y"
         },
         {
          "layer": "below",
          "line": {
           "color": "darkgrey"
          },
          "type": "line",
          "x0": 408,
          "x1": 463,
          "xref": "x",
          "y0": 1413.55,
          "y1": 1413.55,
          "yref": "y"
         },
         {
          "layer": "below",
          "line": {
           "color": "darkgrey"
          },
          "type": "line",
          "x0": 408,
          "x1": 463,
          "xref": "x",
          "y0": 1446.5,
          "y1": 1446.5,
          "yref": "y"
         },
         {
          "layer": "below",
          "line": {
           "color": "darkgrey"
          },
          "type": "line",
          "x0": 408,
          "x1": 463,
          "xref": "x",
          "y0": 1364.55,
          "y1": 1364.55,
          "yref": "y"
         },
         {
          "layer": "below",
          "line": {
           "color": "darkgrey"
          },
          "type": "line",
          "x0": 408,
          "x1": 463,
          "xref": "x",
          "y0": 1215,
          "y1": 1215,
          "yref": "y"
         },
         {
          "layer": "below",
          "line": {
           "color": "darkgrey"
          },
          "type": "line",
          "x0": 408,
          "x1": 463,
          "xref": "x",
          "y0": 1239.05,
          "y1": 1239.05,
          "yref": "y"
         },
         {
          "layer": "below",
          "line": {
           "color": "darkgrey"
          },
          "type": "line",
          "x0": 408,
          "x1": 463,
          "xref": "x",
          "y0": 1435,
          "y1": 1435,
          "yref": "y"
         },
         {
          "layer": "below",
          "line": {
           "color": "darkgrey"
          },
          "type": "line",
          "x0": 408,
          "x1": 463,
          "xref": "x",
          "y0": 1279.75,
          "y1": 1279.75,
          "yref": "y"
         }
        ],
        "template": {
         "data": {
          "bar": [
           {
            "error_x": {
             "color": "#2a3f5f"
            },
            "error_y": {
             "color": "#2a3f5f"
            },
            "marker": {
             "line": {
              "color": "#E5ECF6",
              "width": 0.5
             },
             "pattern": {
              "fillmode": "overlay",
              "size": 10,
              "solidity": 0.2
             }
            },
            "type": "bar"
           }
          ],
          "barpolar": [
           {
            "marker": {
             "line": {
              "color": "#E5ECF6",
              "width": 0.5
             },
             "pattern": {
              "fillmode": "overlay",
              "size": 10,
              "solidity": 0.2
             }
            },
            "type": "barpolar"
           }
          ],
          "carpet": [
           {
            "aaxis": {
             "endlinecolor": "#2a3f5f",
             "gridcolor": "white",
             "linecolor": "white",
             "minorgridcolor": "white",
             "startlinecolor": "#2a3f5f"
            },
            "baxis": {
             "endlinecolor": "#2a3f5f",
             "gridcolor": "white",
             "linecolor": "white",
             "minorgridcolor": "white",
             "startlinecolor": "#2a3f5f"
            },
            "type": "carpet"
           }
          ],
          "choropleth": [
           {
            "colorbar": {
             "outlinewidth": 0,
             "ticks": ""
            },
            "type": "choropleth"
           }
          ],
          "contour": [
           {
            "colorbar": {
             "outlinewidth": 0,
             "ticks": ""
            },
            "colorscale": [
             [
              0,
              "#0d0887"
             ],
             [
              0.1111111111111111,
              "#46039f"
             ],
             [
              0.2222222222222222,
              "#7201a8"
             ],
             [
              0.3333333333333333,
              "#9c179e"
             ],
             [
              0.4444444444444444,
              "#bd3786"
             ],
             [
              0.5555555555555556,
              "#d8576b"
             ],
             [
              0.6666666666666666,
              "#ed7953"
             ],
             [
              0.7777777777777778,
              "#fb9f3a"
             ],
             [
              0.8888888888888888,
              "#fdca26"
             ],
             [
              1,
              "#f0f921"
             ]
            ],
            "type": "contour"
           }
          ],
          "contourcarpet": [
           {
            "colorbar": {
             "outlinewidth": 0,
             "ticks": ""
            },
            "type": "contourcarpet"
           }
          ],
          "heatmap": [
           {
            "colorbar": {
             "outlinewidth": 0,
             "ticks": ""
            },
            "colorscale": [
             [
              0,
              "#0d0887"
             ],
             [
              0.1111111111111111,
              "#46039f"
             ],
             [
              0.2222222222222222,
              "#7201a8"
             ],
             [
              0.3333333333333333,
              "#9c179e"
             ],
             [
              0.4444444444444444,
              "#bd3786"
             ],
             [
              0.5555555555555556,
              "#d8576b"
             ],
             [
              0.6666666666666666,
              "#ed7953"
             ],
             [
              0.7777777777777778,
              "#fb9f3a"
             ],
             [
              0.8888888888888888,
              "#fdca26"
             ],
             [
              1,
              "#f0f921"
             ]
            ],
            "type": "heatmap"
           }
          ],
          "heatmapgl": [
           {
            "colorbar": {
             "outlinewidth": 0,
             "ticks": ""
            },
            "colorscale": [
             [
              0,
              "#0d0887"
             ],
             [
              0.1111111111111111,
              "#46039f"
             ],
             [
              0.2222222222222222,
              "#7201a8"
             ],
             [
              0.3333333333333333,
              "#9c179e"
             ],
             [
              0.4444444444444444,
              "#bd3786"
             ],
             [
              0.5555555555555556,
              "#d8576b"
             ],
             [
              0.6666666666666666,
              "#ed7953"
             ],
             [
              0.7777777777777778,
              "#fb9f3a"
             ],
             [
              0.8888888888888888,
              "#fdca26"
             ],
             [
              1,
              "#f0f921"
             ]
            ],
            "type": "heatmapgl"
           }
          ],
          "histogram": [
           {
            "marker": {
             "pattern": {
              "fillmode": "overlay",
              "size": 10,
              "solidity": 0.2
             }
            },
            "type": "histogram"
           }
          ],
          "histogram2d": [
           {
            "colorbar": {
             "outlinewidth": 0,
             "ticks": ""
            },
            "colorscale": [
             [
              0,
              "#0d0887"
             ],
             [
              0.1111111111111111,
              "#46039f"
             ],
             [
              0.2222222222222222,
              "#7201a8"
             ],
             [
              0.3333333333333333,
              "#9c179e"
             ],
             [
              0.4444444444444444,
              "#bd3786"
             ],
             [
              0.5555555555555556,
              "#d8576b"
             ],
             [
              0.6666666666666666,
              "#ed7953"
             ],
             [
              0.7777777777777778,
              "#fb9f3a"
             ],
             [
              0.8888888888888888,
              "#fdca26"
             ],
             [
              1,
              "#f0f921"
             ]
            ],
            "type": "histogram2d"
           }
          ],
          "histogram2dcontour": [
           {
            "colorbar": {
             "outlinewidth": 0,
             "ticks": ""
            },
            "colorscale": [
             [
              0,
              "#0d0887"
             ],
             [
              0.1111111111111111,
              "#46039f"
             ],
             [
              0.2222222222222222,
              "#7201a8"
             ],
             [
              0.3333333333333333,
              "#9c179e"
             ],
             [
              0.4444444444444444,
              "#bd3786"
             ],
             [
              0.5555555555555556,
              "#d8576b"
             ],
             [
              0.6666666666666666,
              "#ed7953"
             ],
             [
              0.7777777777777778,
              "#fb9f3a"
             ],
             [
              0.8888888888888888,
              "#fdca26"
             ],
             [
              1,
              "#f0f921"
             ]
            ],
            "type": "histogram2dcontour"
           }
          ],
          "mesh3d": [
           {
            "colorbar": {
             "outlinewidth": 0,
             "ticks": ""
            },
            "type": "mesh3d"
           }
          ],
          "parcoords": [
           {
            "line": {
             "colorbar": {
              "outlinewidth": 0,
              "ticks": ""
             }
            },
            "type": "parcoords"
           }
          ],
          "pie": [
           {
            "automargin": true,
            "type": "pie"
           }
          ],
          "scatter": [
           {
            "fillpattern": {
             "fillmode": "overlay",
             "size": 10,
             "solidity": 0.2
            },
            "type": "scatter"
           }
          ],
          "scatter3d": [
           {
            "line": {
             "colorbar": {
              "outlinewidth": 0,
              "ticks": ""
             }
            },
            "marker": {
             "colorbar": {
              "outlinewidth": 0,
              "ticks": ""
             }
            },
            "type": "scatter3d"
           }
          ],
          "scattercarpet": [
           {
            "marker": {
             "colorbar": {
              "outlinewidth": 0,
              "ticks": ""
             }
            },
            "type": "scattercarpet"
           }
          ],
          "scattergeo": [
           {
            "marker": {
             "colorbar": {
              "outlinewidth": 0,
              "ticks": ""
             }
            },
            "type": "scattergeo"
           }
          ],
          "scattergl": [
           {
            "marker": {
             "colorbar": {
              "outlinewidth": 0,
              "ticks": ""
             }
            },
            "type": "scattergl"
           }
          ],
          "scattermapbox": [
           {
            "marker": {
             "colorbar": {
              "outlinewidth": 0,
              "ticks": ""
             }
            },
            "type": "scattermapbox"
           }
          ],
          "scatterpolar": [
           {
            "marker": {
             "colorbar": {
              "outlinewidth": 0,
              "ticks": ""
             }
            },
            "type": "scatterpolar"
           }
          ],
          "scatterpolargl": [
           {
            "marker": {
             "colorbar": {
              "outlinewidth": 0,
              "ticks": ""
             }
            },
            "type": "scatterpolargl"
           }
          ],
          "scatterternary": [
           {
            "marker": {
             "colorbar": {
              "outlinewidth": 0,
              "ticks": ""
             }
            },
            "type": "scatterternary"
           }
          ],
          "surface": [
           {
            "colorbar": {
             "outlinewidth": 0,
             "ticks": ""
            },
            "colorscale": [
             [
              0,
              "#0d0887"
             ],
             [
              0.1111111111111111,
              "#46039f"
             ],
             [
              0.2222222222222222,
              "#7201a8"
             ],
             [
              0.3333333333333333,
              "#9c179e"
             ],
             [
              0.4444444444444444,
              "#bd3786"
             ],
             [
              0.5555555555555556,
              "#d8576b"
             ],
             [
              0.6666666666666666,
              "#ed7953"
             ],
             [
              0.7777777777777778,
              "#fb9f3a"
             ],
             [
              0.8888888888888888,
              "#fdca26"
             ],
             [
              1,
              "#f0f921"
             ]
            ],
            "type": "surface"
           }
          ],
          "table": [
           {
            "cells": {
             "fill": {
              "color": "#EBF0F8"
             },
             "line": {
              "color": "white"
             }
            },
            "header": {
             "fill": {
              "color": "#C8D4E3"
             },
             "line": {
              "color": "white"
             }
            },
            "type": "table"
           }
          ]
         },
         "layout": {
          "annotationdefaults": {
           "arrowcolor": "#2a3f5f",
           "arrowhead": 0,
           "arrowwidth": 1
          },
          "autotypenumbers": "strict",
          "coloraxis": {
           "colorbar": {
            "outlinewidth": 0,
            "ticks": ""
           }
          },
          "colorscale": {
           "diverging": [
            [
             0,
             "#8e0152"
            ],
            [
             0.1,
             "#c51b7d"
            ],
            [
             0.2,
             "#de77ae"
            ],
            [
             0.3,
             "#f1b6da"
            ],
            [
             0.4,
             "#fde0ef"
            ],
            [
             0.5,
             "#f7f7f7"
            ],
            [
             0.6,
             "#e6f5d0"
            ],
            [
             0.7,
             "#b8e186"
            ],
            [
             0.8,
             "#7fbc41"
            ],
            [
             0.9,
             "#4d9221"
            ],
            [
             1,
             "#276419"
            ]
           ],
           "sequential": [
            [
             0,
             "#0d0887"
            ],
            [
             0.1111111111111111,
             "#46039f"
            ],
            [
             0.2222222222222222,
             "#7201a8"
            ],
            [
             0.3333333333333333,
             "#9c179e"
            ],
            [
             0.4444444444444444,
             "#bd3786"
            ],
            [
             0.5555555555555556,
             "#d8576b"
            ],
            [
             0.6666666666666666,
             "#ed7953"
            ],
            [
             0.7777777777777778,
             "#fb9f3a"
            ],
            [
             0.8888888888888888,
             "#fdca26"
            ],
            [
             1,
             "#f0f921"
            ]
           ],
           "sequentialminus": [
            [
             0,
             "#0d0887"
            ],
            [
             0.1111111111111111,
             "#46039f"
            ],
            [
             0.2222222222222222,
             "#7201a8"
            ],
            [
             0.3333333333333333,
             "#9c179e"
            ],
            [
             0.4444444444444444,
             "#bd3786"
            ],
            [
             0.5555555555555556,
             "#d8576b"
            ],
            [
             0.6666666666666666,
             "#ed7953"
            ],
            [
             0.7777777777777778,
             "#fb9f3a"
            ],
            [
             0.8888888888888888,
             "#fdca26"
            ],
            [
             1,
             "#f0f921"
            ]
           ]
          },
          "colorway": [
           "#636efa",
           "#EF553B",
           "#00cc96",
           "#ab63fa",
           "#FFA15A",
           "#19d3f3",
           "#FF6692",
           "#B6E880",
           "#FF97FF",
           "#FECB52"
          ],
          "font": {
           "color": "#2a3f5f"
          },
          "geo": {
           "bgcolor": "white",
           "lakecolor": "white",
           "landcolor": "#E5ECF6",
           "showlakes": true,
           "showland": true,
           "subunitcolor": "white"
          },
          "hoverlabel": {
           "align": "left"
          },
          "hovermode": "closest",
          "mapbox": {
           "style": "light"
          },
          "paper_bgcolor": "white",
          "plot_bgcolor": "#E5ECF6",
          "polar": {
           "angularaxis": {
            "gridcolor": "white",
            "linecolor": "white",
            "ticks": ""
           },
           "bgcolor": "#E5ECF6",
           "radialaxis": {
            "gridcolor": "white",
            "linecolor": "white",
            "ticks": ""
           }
          },
          "scene": {
           "xaxis": {
            "backgroundcolor": "#E5ECF6",
            "gridcolor": "white",
            "gridwidth": 2,
            "linecolor": "white",
            "showbackground": true,
            "ticks": "",
            "zerolinecolor": "white"
           },
           "yaxis": {
            "backgroundcolor": "#E5ECF6",
            "gridcolor": "white",
            "gridwidth": 2,
            "linecolor": "white",
            "showbackground": true,
            "ticks": "",
            "zerolinecolor": "white"
           },
           "zaxis": {
            "backgroundcolor": "#E5ECF6",
            "gridcolor": "white",
            "gridwidth": 2,
            "linecolor": "white",
            "showbackground": true,
            "ticks": "",
            "zerolinecolor": "white"
           }
          },
          "shapedefaults": {
           "line": {
            "color": "#2a3f5f"
           }
          },
          "ternary": {
           "aaxis": {
            "gridcolor": "white",
            "linecolor": "white",
            "ticks": ""
           },
           "baxis": {
            "gridcolor": "white",
            "linecolor": "white",
            "ticks": ""
           },
           "bgcolor": "#E5ECF6",
           "caxis": {
            "gridcolor": "white",
            "linecolor": "white",
            "ticks": ""
           }
          },
          "title": {
           "x": 0.05
          },
          "xaxis": {
           "automargin": true,
           "gridcolor": "white",
           "linecolor": "white",
           "ticks": "",
           "title": {
            "standoff": 15
           },
           "zerolinecolor": "white",
           "zerolinewidth": 2
          },
          "yaxis": {
           "automargin": true,
           "gridcolor": "white",
           "linecolor": "white",
           "ticks": "",
           "title": {
            "standoff": 15
           },
           "zerolinecolor": "white",
           "zerolinewidth": 2
          }
         }
        },
        "xaxis": {
         "anchor": "y",
         "domain": [
          0,
          1
         ],
         "matches": "x2",
         "rangeslider": {
          "visible": false
         },
         "showticklabels": false
        },
        "xaxis2": {
         "anchor": "y2",
         "domain": [
          0,
          1
         ]
        },
        "yaxis": {
         "anchor": "x",
         "domain": [
          0.2611111111111111,
          1
         ]
        },
        "yaxis2": {
         "anchor": "x2",
         "domain": [
          0,
          0.21111111111111114
         ]
        }
       }
      },
      "text/html": [
       "<div>                            <div id=\"4de575bb-4d07-48e0-b810-175566472203\" class=\"plotly-graph-div\" style=\"height:525px; width:100%;\"></div>            <script type=\"text/javascript\">                require([\"plotly\"], function(Plotly) {                    window.PLOTLYENV=window.PLOTLYENV || {};                                    if (document.getElementById(\"4de575bb-4d07-48e0-b810-175566472203\")) {                    Plotly.newPlot(                        \"4de575bb-4d07-48e0-b810-175566472203\",                        [{\"close\":[1420.7,1403.65,1390.7,1389.25,1374.55,1380.65,1388.95,1377.6,1383.55,1427.95,1410.85,1423.55,1421.9,1427.6,1406.15,1428.3,1389.2,1258.3,1259.35,1232.2,1223.4,1227.35,1226.3,1224.9,1227.55,1246.25,1252.75,1277.45,1269.15,1273.55,1259.1,1265.6,1270.7,1263.25,1256.1,1245.2,1258.35,1264.3,1246.9,1246.0,1268.9,1292.8,1300.05,1298.65,1304.35,1317.45,1314.4,1323.85,1318.3,1319.5,1299.0],\"high\":[1442.9,1419.7,1405.0,1407.25,1383.95,1398.95,1395.75,1398.0,1389.9,1429.95,1435.0,1427.5,1428.4,1434.0,1433.35,1431.5,1411.05,1261.15,1269.95,1254.35,1237.85,1233.25,1230.0,1235.5,1233.0,1247.8,1259.0,1279.75,1272.5,1275.8,1279.0,1270.3,1272.0,1276.4,1275.9,1256.0,1268.9,1273.95,1260.95,1259.65,1273.3,1295.6,1314.15,1305.0,1307.0,1323.45,1332.7,1326.4,1331.1,1329.5,1312.9],\"low\":[1411.4,1384.85,1390.0,1382.15,1370.0,1377.5,1374.1,1375.85,1364.55,1393.9,1405.15,1400.0,1410.35,1415.0,1389.0,1400.0,1383.0,1185.3,1253.1,1229.4,1221.4,1220.0,1218.0,1215.0,1220.55,1225.4,1244.95,1254.55,1262.1,1262.5,1254.25,1255.2,1260.7,1259.15,1253.05,1239.05,1245.65,1262.75,1242.45,1242.45,1252.8,1270.25,1297.05,1291.3,1289.25,1306.0,1309.85,1309.15,1314.15,1318.1,1296.05],\"open\":[1430.0,1419.7,1399.0,1403.0,1383.95,1388.0,1386.25,1392.1,1379.0,1404.0,1435.0,1400.0,1416.0,1423.95,1428.9,1413.05,1409.75,1250.3,1269.95,1254.35,1230.7,1228.1,1228.0,1225.95,1228.0,1230.0,1255.7,1254.55,1266.0,1268.95,1279.0,1262.45,1266.0,1276.4,1270.25,1253.35,1249.9,1265.0,1260.6,1258.6,1256.05,1272.95,1299.2,1296.3,1294.5,1306.0,1332.7,1315.0,1319.85,1322.55,1309.0],\"x\":[410,411,412,413,414,415,416,417,418,419,420,421,422,423,424,425,426,427,428,429,430,431,432,433,434,435,436,437,438,439,440,441,442,443,444,445,446,447,448,449,450,451,452,453,454,455,456,457,458,459,460],\"type\":\"candlestick\",\"xaxis\":\"x\",\"yaxis\":\"y\"},{\"showlegend\":false,\"x\":[410,411,412,413,414,415,416,417,418,419,420,421,422,423,424,425,426,427,428,429,430,431,432,433,434,435,436,437,438,439,440,441,442,443,444,445,446,447,448,449,450,451,452,453,454,455,456,457,458,459,460],\"y\":[9090018,8221829,8536755,8356487,7607718,7559127,4170193,6633366,8813966,8711975,5242764,7506334,6948465,4993788,6942255,5831169,11267238,53171705,12430884,11307230,8621249,8691352,8313774,6808576,5680192,8020704,10118277,8886401,5549783,4505401,5373791,5260842,4969897,6515734,6888461,8292212,5534710,5236469,10465667,6948732,11094136,7625947,7436031,4824077,4334121,5521606,4419365,6274719,17800782,4277841,10909311],\"type\":\"bar\",\"xaxis\":\"x2\",\"yaxis\":\"y2\"},{\"line\":{\"color\":\"blue\",\"width\":1},\"name\":\"EMA14\",\"x\":[410,411,412,413,414,415,416,417,418,419,420,421,422,423,424,425,426,427,428,429,430,431,432,433,434,435,436,437,438,439,440,441,442,443,444,445,446,447,448,449,450,451,452,453,454,455,456,457,458,459,460],\"y\":[1463.3016423818945,1455.3480900643085,1446.7283447224006,1439.0645654260804,1430.4626233692697,1423.820940253367,1419.171481552918,1413.6286173458623,1409.6181350330805,1412.0623836953364,1411.9007325359582,1413.4539681978304,1414.580105771453,1416.3160916685927,1414.960612779447,1416.7391977421873,1413.0673047098958,1392.4316640819097,1374.6874422043218,1355.689116577079,1338.0505677001352,1323.2904920067838,1310.3584264058793,1298.9639695517621,1289.4421069448606,1283.6831593522124,1279.5587381052508,1279.2775730245507,1277.9272299546108,1277.343599293996,1274.91111938813,1273.669636803046,1273.2736852293065,1271.937193865399,1269.8255680166792,1266.5421589477887,1265.4498710880835,1265.2965549430057,1262.843680950605,1260.5978568238577,1261.7048092473433,1265.8508346810308,1270.4107233902266,1274.1759602715297,1278.199165568659,1283.4326101595045,1287.5615954715706,1292.4000494086945,1295.853376154202,1299.0062593336415,1299.0054247558226],\"type\":\"scatter\",\"xaxis\":\"x\",\"yaxis\":\"y\"},{\"line\":{\"color\":\"maroon\",\"width\":1},\"name\":\"EMA26\",\"x\":[410,411,412,413,414,415,416,417,418,419,420,421,422,423,424,425,426,427,428,429,430,431,432,433,434,435,436,437,438,439,440,441,442,443,444,445,446,447,448,449,450,451,452,453,454,455,456,457,458,459,460],\"y\":[1492.1802161772493,1485.622422386342,1478.5911318392054,1471.9732702214865,1464.7567316865616,1458.526603413483,1453.3727809384102,1447.7599823503797,1443.0036873614627,1441.8885994087618,1439.5894438970017,1438.4013369416682,1437.1790156867298,1436.4694589691942,1434.2235731196242,1433.784789925578,1430.4822128940536,1417.7279749019015,1405.996273057316,1393.1224750530705,1380.5504398639541,1369.202259133291,1358.616906604899,1348.7119505600917,1339.7369912593442,1332.8120289438373,1326.8815082813308,1323.2199150753063,1319.214736180839,1315.8321631304066,1311.6297806763023,1308.2201672928725,1305.4408956415487,1302.315644112545,1298.8922630671714,1294.915058395529,1292.2065355514158,1290.1393847698293,1286.9364673794717,1283.9041364624738,1282.792718946735,1283.5339990247546,1284.7574065044025,1285.7864875040764,1287.1615625037743,1289.4051504664578,1291.2566208022758,1293.6709451872925,1295.4953196178635,1297.2734440906145,1297.4013371209394],\"type\":\"scatter\",\"xaxis\":\"x\",\"yaxis\":\"y\"}],                        {\"template\":{\"data\":{\"histogram2dcontour\":[{\"type\":\"histogram2dcontour\",\"colorbar\":{\"outlinewidth\":0,\"ticks\":\"\"},\"colorscale\":[[0.0,\"#0d0887\"],[0.1111111111111111,\"#46039f\"],[0.2222222222222222,\"#7201a8\"],[0.3333333333333333,\"#9c179e\"],[0.4444444444444444,\"#bd3786\"],[0.5555555555555556,\"#d8576b\"],[0.6666666666666666,\"#ed7953\"],[0.7777777777777778,\"#fb9f3a\"],[0.8888888888888888,\"#fdca26\"],[1.0,\"#f0f921\"]]}],\"choropleth\":[{\"type\":\"choropleth\",\"colorbar\":{\"outlinewidth\":0,\"ticks\":\"\"}}],\"histogram2d\":[{\"type\":\"histogram2d\",\"colorbar\":{\"outlinewidth\":0,\"ticks\":\"\"},\"colorscale\":[[0.0,\"#0d0887\"],[0.1111111111111111,\"#46039f\"],[0.2222222222222222,\"#7201a8\"],[0.3333333333333333,\"#9c179e\"],[0.4444444444444444,\"#bd3786\"],[0.5555555555555556,\"#d8576b\"],[0.6666666666666666,\"#ed7953\"],[0.7777777777777778,\"#fb9f3a\"],[0.8888888888888888,\"#fdca26\"],[1.0,\"#f0f921\"]]}],\"heatmap\":[{\"type\":\"heatmap\",\"colorbar\":{\"outlinewidth\":0,\"ticks\":\"\"},\"colorscale\":[[0.0,\"#0d0887\"],[0.1111111111111111,\"#46039f\"],[0.2222222222222222,\"#7201a8\"],[0.3333333333333333,\"#9c179e\"],[0.4444444444444444,\"#bd3786\"],[0.5555555555555556,\"#d8576b\"],[0.6666666666666666,\"#ed7953\"],[0.7777777777777778,\"#fb9f3a\"],[0.8888888888888888,\"#fdca26\"],[1.0,\"#f0f921\"]]}],\"heatmapgl\":[{\"type\":\"heatmapgl\",\"colorbar\":{\"outlinewidth\":0,\"ticks\":\"\"},\"colorscale\":[[0.0,\"#0d0887\"],[0.1111111111111111,\"#46039f\"],[0.2222222222222222,\"#7201a8\"],[0.3333333333333333,\"#9c179e\"],[0.4444444444444444,\"#bd3786\"],[0.5555555555555556,\"#d8576b\"],[0.6666666666666666,\"#ed7953\"],[0.7777777777777778,\"#fb9f3a\"],[0.8888888888888888,\"#fdca26\"],[1.0,\"#f0f921\"]]}],\"contourcarpet\":[{\"type\":\"contourcarpet\",\"colorbar\":{\"outlinewidth\":0,\"ticks\":\"\"}}],\"contour\":[{\"type\":\"contour\",\"colorbar\":{\"outlinewidth\":0,\"ticks\":\"\"},\"colorscale\":[[0.0,\"#0d0887\"],[0.1111111111111111,\"#46039f\"],[0.2222222222222222,\"#7201a8\"],[0.3333333333333333,\"#9c179e\"],[0.4444444444444444,\"#bd3786\"],[0.5555555555555556,\"#d8576b\"],[0.6666666666666666,\"#ed7953\"],[0.7777777777777778,\"#fb9f3a\"],[0.8888888888888888,\"#fdca26\"],[1.0,\"#f0f921\"]]}],\"surface\":[{\"type\":\"surface\",\"colorbar\":{\"outlinewidth\":0,\"ticks\":\"\"},\"colorscale\":[[0.0,\"#0d0887\"],[0.1111111111111111,\"#46039f\"],[0.2222222222222222,\"#7201a8\"],[0.3333333333333333,\"#9c179e\"],[0.4444444444444444,\"#bd3786\"],[0.5555555555555556,\"#d8576b\"],[0.6666666666666666,\"#ed7953\"],[0.7777777777777778,\"#fb9f3a\"],[0.8888888888888888,\"#fdca26\"],[1.0,\"#f0f921\"]]}],\"mesh3d\":[{\"type\":\"mesh3d\",\"colorbar\":{\"outlinewidth\":0,\"ticks\":\"\"}}],\"scatter\":[{\"fillpattern\":{\"fillmode\":\"overlay\",\"size\":10,\"solidity\":0.2},\"type\":\"scatter\"}],\"parcoords\":[{\"type\":\"parcoords\",\"line\":{\"colorbar\":{\"outlinewidth\":0,\"ticks\":\"\"}}}],\"scatterpolargl\":[{\"type\":\"scatterpolargl\",\"marker\":{\"colorbar\":{\"outlinewidth\":0,\"ticks\":\"\"}}}],\"bar\":[{\"error_x\":{\"color\":\"#2a3f5f\"},\"error_y\":{\"color\":\"#2a3f5f\"},\"marker\":{\"line\":{\"color\":\"#E5ECF6\",\"width\":0.5},\"pattern\":{\"fillmode\":\"overlay\",\"size\":10,\"solidity\":0.2}},\"type\":\"bar\"}],\"scattergeo\":[{\"type\":\"scattergeo\",\"marker\":{\"colorbar\":{\"outlinewidth\":0,\"ticks\":\"\"}}}],\"scatterpolar\":[{\"type\":\"scatterpolar\",\"marker\":{\"colorbar\":{\"outlinewidth\":0,\"ticks\":\"\"}}}],\"histogram\":[{\"marker\":{\"pattern\":{\"fillmode\":\"overlay\",\"size\":10,\"solidity\":0.2}},\"type\":\"histogram\"}],\"scattergl\":[{\"type\":\"scattergl\",\"marker\":{\"colorbar\":{\"outlinewidth\":0,\"ticks\":\"\"}}}],\"scatter3d\":[{\"type\":\"scatter3d\",\"line\":{\"colorbar\":{\"outlinewidth\":0,\"ticks\":\"\"}},\"marker\":{\"colorbar\":{\"outlinewidth\":0,\"ticks\":\"\"}}}],\"scattermapbox\":[{\"type\":\"scattermapbox\",\"marker\":{\"colorbar\":{\"outlinewidth\":0,\"ticks\":\"\"}}}],\"scatterternary\":[{\"type\":\"scatterternary\",\"marker\":{\"colorbar\":{\"outlinewidth\":0,\"ticks\":\"\"}}}],\"scattercarpet\":[{\"type\":\"scattercarpet\",\"marker\":{\"colorbar\":{\"outlinewidth\":0,\"ticks\":\"\"}}}],\"carpet\":[{\"aaxis\":{\"endlinecolor\":\"#2a3f5f\",\"gridcolor\":\"white\",\"linecolor\":\"white\",\"minorgridcolor\":\"white\",\"startlinecolor\":\"#2a3f5f\"},\"baxis\":{\"endlinecolor\":\"#2a3f5f\",\"gridcolor\":\"white\",\"linecolor\":\"white\",\"minorgridcolor\":\"white\",\"startlinecolor\":\"#2a3f5f\"},\"type\":\"carpet\"}],\"table\":[{\"cells\":{\"fill\":{\"color\":\"#EBF0F8\"},\"line\":{\"color\":\"white\"}},\"header\":{\"fill\":{\"color\":\"#C8D4E3\"},\"line\":{\"color\":\"white\"}},\"type\":\"table\"}],\"barpolar\":[{\"marker\":{\"line\":{\"color\":\"#E5ECF6\",\"width\":0.5},\"pattern\":{\"fillmode\":\"overlay\",\"size\":10,\"solidity\":0.2}},\"type\":\"barpolar\"}],\"pie\":[{\"automargin\":true,\"type\":\"pie\"}]},\"layout\":{\"autotypenumbers\":\"strict\",\"colorway\":[\"#636efa\",\"#EF553B\",\"#00cc96\",\"#ab63fa\",\"#FFA15A\",\"#19d3f3\",\"#FF6692\",\"#B6E880\",\"#FF97FF\",\"#FECB52\"],\"font\":{\"color\":\"#2a3f5f\"},\"hovermode\":\"closest\",\"hoverlabel\":{\"align\":\"left\"},\"paper_bgcolor\":\"white\",\"plot_bgcolor\":\"#E5ECF6\",\"polar\":{\"bgcolor\":\"#E5ECF6\",\"angularaxis\":{\"gridcolor\":\"white\",\"linecolor\":\"white\",\"ticks\":\"\"},\"radialaxis\":{\"gridcolor\":\"white\",\"linecolor\":\"white\",\"ticks\":\"\"}},\"ternary\":{\"bgcolor\":\"#E5ECF6\",\"aaxis\":{\"gridcolor\":\"white\",\"linecolor\":\"white\",\"ticks\":\"\"},\"baxis\":{\"gridcolor\":\"white\",\"linecolor\":\"white\",\"ticks\":\"\"},\"caxis\":{\"gridcolor\":\"white\",\"linecolor\":\"white\",\"ticks\":\"\"}},\"coloraxis\":{\"colorbar\":{\"outlinewidth\":0,\"ticks\":\"\"}},\"colorscale\":{\"sequential\":[[0.0,\"#0d0887\"],[0.1111111111111111,\"#46039f\"],[0.2222222222222222,\"#7201a8\"],[0.3333333333333333,\"#9c179e\"],[0.4444444444444444,\"#bd3786\"],[0.5555555555555556,\"#d8576b\"],[0.6666666666666666,\"#ed7953\"],[0.7777777777777778,\"#fb9f3a\"],[0.8888888888888888,\"#fdca26\"],[1.0,\"#f0f921\"]],\"sequentialminus\":[[0.0,\"#0d0887\"],[0.1111111111111111,\"#46039f\"],[0.2222222222222222,\"#7201a8\"],[0.3333333333333333,\"#9c179e\"],[0.4444444444444444,\"#bd3786\"],[0.5555555555555556,\"#d8576b\"],[0.6666666666666666,\"#ed7953\"],[0.7777777777777778,\"#fb9f3a\"],[0.8888888888888888,\"#fdca26\"],[1.0,\"#f0f921\"]],\"diverging\":[[0,\"#8e0152\"],[0.1,\"#c51b7d\"],[0.2,\"#de77ae\"],[0.3,\"#f1b6da\"],[0.4,\"#fde0ef\"],[0.5,\"#f7f7f7\"],[0.6,\"#e6f5d0\"],[0.7,\"#b8e186\"],[0.8,\"#7fbc41\"],[0.9,\"#4d9221\"],[1,\"#276419\"]]},\"xaxis\":{\"gridcolor\":\"white\",\"linecolor\":\"white\",\"ticks\":\"\",\"title\":{\"standoff\":15},\"zerolinecolor\":\"white\",\"automargin\":true,\"zerolinewidth\":2},\"yaxis\":{\"gridcolor\":\"white\",\"linecolor\":\"white\",\"ticks\":\"\",\"title\":{\"standoff\":15},\"zerolinecolor\":\"white\",\"automargin\":true,\"zerolinewidth\":2},\"scene\":{\"xaxis\":{\"backgroundcolor\":\"#E5ECF6\",\"gridcolor\":\"white\",\"linecolor\":\"white\",\"showbackground\":true,\"ticks\":\"\",\"zerolinecolor\":\"white\",\"gridwidth\":2},\"yaxis\":{\"backgroundcolor\":\"#E5ECF6\",\"gridcolor\":\"white\",\"linecolor\":\"white\",\"showbackground\":true,\"ticks\":\"\",\"zerolinecolor\":\"white\",\"gridwidth\":2},\"zaxis\":{\"backgroundcolor\":\"#E5ECF6\",\"gridcolor\":\"white\",\"linecolor\":\"white\",\"showbackground\":true,\"ticks\":\"\",\"zerolinecolor\":\"white\",\"gridwidth\":2}},\"shapedefaults\":{\"line\":{\"color\":\"#2a3f5f\"}},\"annotationdefaults\":{\"arrowcolor\":\"#2a3f5f\",\"arrowhead\":0,\"arrowwidth\":1},\"geo\":{\"bgcolor\":\"white\",\"landcolor\":\"#E5ECF6\",\"subunitcolor\":\"white\",\"showland\":true,\"showlakes\":true,\"lakecolor\":\"white\"},\"title\":{\"x\":0.05},\"mapbox\":{\"style\":\"light\"}}},\"xaxis\":{\"anchor\":\"y\",\"domain\":[0.0,1.0],\"matches\":\"x2\",\"showticklabels\":false,\"rangeslider\":{\"visible\":false}},\"yaxis\":{\"anchor\":\"x\",\"domain\":[0.2611111111111111,1.0]},\"xaxis2\":{\"anchor\":\"y2\",\"domain\":[0.0,1.0]},\"yaxis2\":{\"anchor\":\"x2\",\"domain\":[0.0,0.21111111111111114]},\"annotations\":[{\"font\":{\"size\":16},\"showarrow\":false,\"text\":\"INFY\",\"x\":0.5,\"xanchor\":\"center\",\"xref\":\"paper\",\"y\":1.0,\"yanchor\":\"bottom\",\"yref\":\"paper\"}],\"shapes\":[{\"layer\":\"below\",\"line\":{\"color\":\"darkgrey\"},\"type\":\"line\",\"x0\":408,\"x1\":463,\"xref\":\"x\",\"y0\":1399.25,\"y1\":1399.25,\"yref\":\"y\"},{\"layer\":\"below\",\"line\":{\"color\":\"darkgrey\"},\"type\":\"line\",\"x0\":408,\"x1\":463,\"xref\":\"x\",\"y0\":1367.15,\"y1\":1367.15,\"yref\":\"y\"},{\"layer\":\"below\",\"line\":{\"color\":\"darkgrey\"},\"type\":\"line\",\"x0\":408,\"x1\":463,\"xref\":\"x\",\"y0\":1410.65,\"y1\":1410.65,\"yref\":\"y\"},{\"layer\":\"below\",\"line\":{\"color\":\"darkgrey\"},\"type\":\"line\",\"x0\":408,\"x1\":463,\"xref\":\"x\",\"y0\":1445.0,\"y1\":1445.0,\"yref\":\"y\"},{\"layer\":\"below\",\"line\":{\"color\":\"darkgrey\"},\"type\":\"line\",\"x0\":408,\"x1\":463,\"xref\":\"x\",\"y0\":1445.0,\"y1\":1445.0,\"yref\":\"y\"},{\"layer\":\"below\",\"line\":{\"color\":\"darkgrey\"},\"type\":\"line\",\"x0\":408,\"x1\":463,\"xref\":\"x\",\"y0\":1438.05,\"y1\":1438.05,\"yref\":\"y\"},{\"layer\":\"below\",\"line\":{\"color\":\"darkgrey\"},\"type\":\"line\",\"x0\":408,\"x1\":463,\"xref\":\"x\",\"y0\":1355.0,\"y1\":1355.0,\"yref\":\"y\"},{\"layer\":\"below\",\"line\":{\"color\":\"darkgrey\"},\"type\":\"line\",\"x0\":408,\"x1\":463,\"xref\":\"x\",\"y0\":1413.55,\"y1\":1413.55,\"yref\":\"y\"},{\"layer\":\"below\",\"line\":{\"color\":\"darkgrey\"},\"type\":\"line\",\"x0\":408,\"x1\":463,\"xref\":\"x\",\"y0\":1446.5,\"y1\":1446.5,\"yref\":\"y\"},{\"layer\":\"below\",\"line\":{\"color\":\"darkgrey\"},\"type\":\"line\",\"x0\":408,\"x1\":463,\"xref\":\"x\",\"y0\":1364.55,\"y1\":1364.55,\"yref\":\"y\"},{\"layer\":\"below\",\"line\":{\"color\":\"darkgrey\"},\"type\":\"line\",\"x0\":408,\"x1\":463,\"xref\":\"x\",\"y0\":1215.0,\"y1\":1215.0,\"yref\":\"y\"},{\"layer\":\"below\",\"line\":{\"color\":\"darkgrey\"},\"type\":\"line\",\"x0\":408,\"x1\":463,\"xref\":\"x\",\"y0\":1239.05,\"y1\":1239.05,\"yref\":\"y\"},{\"layer\":\"below\",\"line\":{\"color\":\"darkgrey\"},\"type\":\"line\",\"x0\":408,\"x1\":463,\"xref\":\"x\",\"y0\":1435.0,\"y1\":1435.0,\"yref\":\"y\"},{\"layer\":\"below\",\"line\":{\"color\":\"darkgrey\"},\"type\":\"line\",\"x0\":408,\"x1\":463,\"xref\":\"x\",\"y0\":1279.75,\"y1\":1279.75,\"yref\":\"y\"}]},                        {\"responsive\": true}                    ).then(function(){\n",
       "                            \n",
       "var gd = document.getElementById('4de575bb-4d07-48e0-b810-175566472203');\n",
       "var x = new MutationObserver(function (mutations, observer) {{\n",
       "        var display = window.getComputedStyle(gd).display;\n",
       "        if (!display || display === 'none') {{\n",
       "            console.log([gd, 'removed!']);\n",
       "            Plotly.purge(gd);\n",
       "            observer.disconnect();\n",
       "        }}\n",
       "}});\n",
       "\n",
       "// Listen for the removal of the full notebook cells\n",
       "var notebookContainer = gd.closest('#notebook-container');\n",
       "if (notebookContainer) {{\n",
       "    x.observe(notebookContainer, {childList: true});\n",
       "}}\n",
       "\n",
       "// Listen for the clearing of the current output cell\n",
       "var outputEl = gd.closest('.output');\n",
       "if (outputEl) {{\n",
       "    x.observe(outputEl, {childList: true});\n",
       "}}\n",
       "\n",
       "                        })                };                });            </script>        </div>"
      ]
     },
     "metadata": {},
     "output_type": "display_data"
    }
   ],
   "source": [
    "indicator.showIndicator(460)"
   ]
  }
 ],
 "metadata": {
  "kernelspec": {
   "display_name": "Python 3 (ipykernel)",
   "language": "python",
   "name": "python3"
  },
  "language_info": {
   "codemirror_mode": {
    "name": "ipython",
    "version": 3
   },
   "file_extension": ".py",
   "mimetype": "text/x-python",
   "name": "python",
   "nbconvert_exporter": "python",
   "pygments_lexer": "ipython3",
   "version": "3.10.10"
  }
 },
 "nbformat": 4,
 "nbformat_minor": 5
}
