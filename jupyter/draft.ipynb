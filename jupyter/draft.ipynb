{
 "cells": [
  {
   "cell_type": "code",
   "execution_count": 68,
   "id": "abaa7c43",
   "metadata": {},
   "outputs": [],
   "source": [
    "import numpy as np\n",
    "import plotly.graph_objects as go\n",
    "from scipy import stats\n",
    "\n",
    "class ChannelBreakoutIndicator:\n",
    "\n",
    "    def __init__(self, data):\n",
    "        self.window = 4\n",
    "        self.df = data\n",
    "\n",
    "\n",
    "    def isPivot(self, candleIndex):\n",
    "        \"\"\"\n",
    "        function that detects if a candle is a pivot/fractal point\n",
    "        args: candle index, window before and after candle to test if pivot\n",
    "        returns: 1 if pivot high, 2 if pivot low, 3 if both and 0 default\n",
    "        \"\"\"\n",
    "        if candleIndex-self.window < 0 or candleIndex+self.window >= len(self.df):\n",
    "            return 0\n",
    "        \n",
    "        pivotHigh = 1\n",
    "        pivotLow = 2\n",
    "        for i in range(candleIndex-self.window, candleIndex+self.window+1):\n",
    "            if self.df.iloc[candleIndex].Low > self.df.iloc[i].Low:\n",
    "                pivotLow=0\n",
    "            if self.df.iloc[candleIndex].High < self.df.iloc[i].High:\n",
    "                pivotHigh=0\n",
    "        if (pivotHigh and pivotLow):\n",
    "            return 3\n",
    "        elif pivotHigh:\n",
    "            return pivotHigh\n",
    "        elif pivotLow:\n",
    "            return pivotLow\n",
    "        else:\n",
    "            return 0\n",
    "    \n",
    "\n",
    "    def setPivotPoint(self):\n",
    "        self.df[\"isPivot\"] = [self.isPivot(candleIndex) for candleIndex in self.df.index]\n",
    "\n",
    "\n",
    "    def getPivotMarker(self, x):\n",
    "        markerDistance = (x[\"High\"]-x[\"Low\"])/10\n",
    "        if x[\"isPivot\"]==2:\n",
    "            return x[\"Low\"] - markerDistance\n",
    "        elif x[\"isPivot\"]==1:\n",
    "            return x[\"High\"] + markerDistance\n",
    "        else:\n",
    "            return np.nan\n",
    "    \n",
    "\n",
    "    def setPivotMarker(self):\n",
    "        self.df[\"pivotMarker\"] = [self.getPivotMarker(row) for index, row in self.df.iterrows()]\n",
    "        \n",
    "    \n",
    "    def showPivotMarkers(self, startIndex=0, endIndex=0):\n",
    "        if (endIndex<=startIndex or startIndex<0 or endIndex>=len(self.df)):\n",
    "            print(\"\\n Invalid startIndex or endIndex\")\n",
    "            \n",
    "        self.setPivotPoint()\n",
    "        self.setPivotMarker()\n",
    "        \n",
    "        dfSlice = self.df[startIndex:endIndex]\n",
    "        fig = go.Figure(data=[go.Candlestick(x=dfSlice.index,\n",
    "                        open=dfSlice[\"Open\"],\n",
    "                        high=dfSlice[\"High\"],\n",
    "                        low=dfSlice[\"Low\"],\n",
    "                        close=dfSlice[\"Close\"])])\n",
    "\n",
    "        fig.add_scatter(x=dfSlice.index, y=dfSlice[\"pivotMarker\"], mode=\"markers\",\n",
    "                        marker=dict(size=7, color=\"MediumPurple\"),\n",
    "                        name=\"pivotMarker\")\n",
    "        #fig.update_layout(xaxis_rangeslider_visible=False)\n",
    "        fig.show()\n",
    "\n",
    "\n",
    "    def getChannel(self, candleIndex, backCandles):\n",
    "        localdf = self.df[candleIndex-backCandles-self.window:candleIndex-self.window]\n",
    "        \n",
    "        highs = localdf[localdf[\"isPivot\"]==1].High.values\n",
    "        idxhighs = localdf[localdf[\"isPivot\"]==1].High.index\n",
    "        lows = localdf[localdf[\"isPivot\"]==2].Low.values\n",
    "        idxlows = localdf[localdf[\"isPivot\"]==2].Low.index\n",
    "        \n",
    "        if len(lows)>=2 and len(highs)>=2:\n",
    "            slopeLow, interceptLow, rValueLow, _, _ = stats.linregress(idxlows,lows)\n",
    "            slopeHigh, interceptHigh, rValueHigh, _, _ = stats.linregress(idxhighs,highs)\n",
    "        \n",
    "            return(slopeLow, interceptLow, slopeHigh, interceptHigh, rValueLow**2, rValueHigh**2)\n",
    "        else:\n",
    "            return(0,0,0,0,0,0)\n",
    "        \n",
    "\n",
    "    def showChannel(self, candleIndex, backCandles):\n",
    "\n",
    "        if (candleIndex-backCandles<0 or candleIndex>len(self.df)):\n",
    "            print(\"\\n Invalid candleIndex & backCandles combination\")\n",
    "            return\n",
    "\n",
    "        self.setPivotPoint()\n",
    "        self.setPivotMarker()\n",
    "\n",
    "        startIndex = candleIndex-backCandles\n",
    "        endIndex = candleIndex\n",
    "\n",
    "        # below code for better visualization\n",
    "        for _ in range(3):\n",
    "            if (startIndex-10>0):\n",
    "                startIndex -= 10\n",
    "            if (endIndex+10<=len(self.df)):\n",
    "                endIndex += 10\n",
    "        # above code for better visualization\n",
    "\n",
    "        dfSlice = self.df[startIndex:endIndex+1]\n",
    "        \n",
    "        fig = go.Figure(data=[go.Candlestick(x=dfSlice.index,\n",
    "                        open=dfSlice[\"Open\"],\n",
    "                        high=dfSlice[\"High\"],\n",
    "                        low=dfSlice[\"Low\"],\n",
    "                        close=dfSlice[\"Close\"])])\n",
    "\n",
    "        fig.add_scatter(x=dfSlice.index, y=dfSlice[\"pivotMarker\"], mode=\"markers\",\n",
    "                        marker=dict(size=5, color=\"MediumPurple\"),\n",
    "                        name=\"pivotMarker\")\n",
    "\n",
    "        slopeLow, interceptLow, slopeHigh, interceptHigh, rSqLow, rSqHigh = self.getChannel(candleIndex, backCandles)\n",
    "        print(rSqLow, rSqHigh)\n",
    "        x = np.array(range(candleIndex-backCandles-self.window, candleIndex+1))\n",
    "        fig.add_trace(go.Scatter(x=x, y=slopeLow*x + interceptLow, mode=\"lines\", name=\"lower slope\"))\n",
    "        fig.add_trace(go.Scatter(x=x, y=slopeHigh*x + interceptHigh, mode=\"lines\", name=\"max slope\"))\n",
    "        #fig.update_layout(xaxis_rangeslider_visible=False)\n",
    "        fig.show()\n",
    "\n",
    "        \n",
    "    def isBreakOut(self, candleIndex, backCandles):\n",
    "        if (candleIndex-backCandles-self.window)<0:\n",
    "            return 0\n",
    "        \n",
    "        slopeLow, interceptLow, slopeHigh, interceptHigh, rSqLow, rSqHigh = self.getChannel(candleIndex,backCandles)\n",
    "        \n",
    "        prev_idx = candleIndex-1\n",
    "        prev_high = self.df.iloc[candleIndex-1].High\n",
    "        prev_low = self.df.iloc[candleIndex-1].Low\n",
    "        prev_close = self.df.iloc[candleIndex-1].Close\n",
    "        \n",
    "        curr_idx = candleIndex\n",
    "        curr_high = self.df.iloc[candleIndex].High\n",
    "        curr_low = self.df.iloc[candleIndex].Low\n",
    "        curr_close = self.df.iloc[candleIndex].Close\n",
    "        curr_open = self.df.iloc[candleIndex].Open\n",
    "\n",
    "        # downward channel breakout\n",
    "        if ( prev_high > (slopeLow*prev_idx + interceptLow) and\n",
    "            prev_close < (slopeLow*prev_idx + interceptLow) and\n",
    "            curr_open < (slopeLow*curr_idx + interceptLow) and\n",
    "            curr_close < (slopeLow*prev_idx + interceptLow)): #and rSqLow > 0.9\n",
    "            return 1\n",
    "        \n",
    "        # upward channel breakout\n",
    "        elif ( prev_low < (slopeHigh*prev_idx + interceptHigh) and\n",
    "            prev_close > (slopeHigh*prev_idx + interceptHigh) and\n",
    "            curr_open > (slopeHigh*curr_idx + interceptHigh) and\n",
    "            curr_close > (slopeHigh*prev_idx + interceptHigh)): #and rSqHigh > 0.9\n",
    "            return 2\n",
    "        \n",
    "        else:\n",
    "            return 0\n",
    "\n",
    "\n",
    "    def getBreakoutMarker(self, x):\n",
    "        markerDistance = (x[\"High\"]-x[\"Low\"])/10\n",
    "        if x[\"isBreakout\"]==2:\n",
    "            return x[\"Low\"]-markerDistance\n",
    "        elif x[\"isBreakout\"]==1:\n",
    "            return x[\"High\"]+markerDistance\n",
    "        else:\n",
    "            return np.nan\n",
    "        \n",
    "\n",
    "    def setBreakoutPoint(self, backCandles):\n",
    "        self.df[\"isBreakout\"] = [self.isBreakOut(candle, backCandles) for candle in self.df.index]\n",
    "\n",
    "\n",
    "    def setBreakoutMarker(self):\n",
    "        self.df[\"breakoutMarker\"] = [self.getBreakoutMarker(row) for index, row in self.df.iterrows()]\n",
    "\n",
    "\n",
    "    def showIndicator(self, candleIndex, backCandles):\n",
    "        if (candleIndex-backCandles<0 or candleIndex>len(self.df)):\n",
    "            print(\"\\nInvalid candleIndex & backCandles combination\")\n",
    "            return\n",
    "\n",
    "        self.setPivotPoint()\n",
    "        self.setPivotMarker()\n",
    "        self.setBreakoutPoint(backCandles)\n",
    "        self.setBreakoutMarker()\n",
    "\n",
    "        startIndex = candleIndex-backCandles\n",
    "        endIndex = candleIndex\n",
    "\n",
    "        # below code for better visualization\n",
    "        for _ in range(3):\n",
    "            if (startIndex-5>0):\n",
    "                startIndex -= 5\n",
    "            if (endIndex+5<len(self.df)):\n",
    "                endIndex += 5\n",
    "        # above code for better visualization\n",
    "\n",
    "        dfSlice = self.df[startIndex:endIndex+1]\n",
    "\n",
    "        fig = go.Figure(data=[go.Candlestick(x=dfSlice.index,\n",
    "                        open=dfSlice[\"Open\"],\n",
    "                        high=dfSlice[\"High\"],\n",
    "                        low=dfSlice[\"Low\"],\n",
    "                        close=dfSlice[\"Close\"])])\n",
    "\n",
    "        fig.add_scatter(x=dfSlice.index, y=dfSlice[\"pivotMarker\"], mode=\"markers\",\n",
    "                        marker=dict(size=7, color=\"MediumPurple\"),\n",
    "                        name=\"pivot\")\n",
    "\n",
    "        fig.add_scatter(x=dfSlice.index, y=dfSlice[\"breakoutMarker\"], mode=\"markers\",\n",
    "                        marker=dict(size=7, color=\"Black\"), marker_symbol=\"hexagram\",\n",
    "                        name=\"breakout\")\n",
    "\n",
    "        slopeLow, interceptLow, slopeHigh, interceptHigh, rSqLow, rSqHigh = self.getChannel(candleIndex, backCandles)\n",
    "        print(rSqLow, rSqHigh)\n",
    "        x = np.array(range(candleIndex-backCandles-self.window, candleIndex+1))\n",
    "        fig.add_trace(go.Scatter(x=x, y=slopeLow*x + interceptLow, mode=\"lines\", name=\"lower slope\"))\n",
    "        fig.add_trace(go.Scatter(x=x, y=slopeHigh*x + interceptHigh, mode=\"lines\", name=\"max slope\"))\n",
    "        #fig.update_layout(xaxis_rangeslider_visible=False)\n",
    "        fig.show()\n",
    "\n",
    "\n",
    "    def setSignal(self, backCandles=40):\n",
    "        self.df[\"Signal\"] = self.getSignal(backCandles)\n",
    "\n",
    "\n",
    "    def getSignal(self, backCandles=40):\n",
    "        \n",
    "        self.setPivotPoint()\n",
    "        self.setBreakoutPoint(backCandles)\n",
    "\n",
    "        self.df.isBreakout"
   ]
  },
  {
   "cell_type": "code",
   "execution_count": 70,
   "id": "b58151fd",
   "metadata": {},
   "outputs": [],
   "source": [
    "import yfinance as yf\n",
    "\n",
    "data = yf.download('RELIANCE.NS', period='10y', interval='1d', group_by='columns', progress=False, ignore_tz=False)\n",
    "data.insert(loc=0, column='Date', value=data.index)\n",
    "data.insert(loc=0, column='Index', value=list(range(0,len(data.index))))\n",
    "df = data.set_index('Index')"
   ]
  },
  {
   "cell_type": "code",
   "execution_count": 79,
   "id": "93acdf62",
   "metadata": {},
   "outputs": [],
   "source": [
    "indObj = ChannelBreakoutIndicator(df)"
   ]
  },
  {
   "cell_type": "code",
   "execution_count": 80,
   "id": "b2791dcc",
   "metadata": {},
   "outputs": [
    {
     "name": "stdout",
     "output_type": "stream",
     "text": [
      "0.9372688696297197 0.8409639150361824\n"
     ]
    },
    {
     "data": {
      "application/vnd.plotly.v1+json": {
       "config": {
        "plotlyServerURL": "https://plot.ly"
       },
       "data": [
        {
         "close": [
          1313.4498291015625,
          1327.21923828125,
          1327.8135986328125,
          1321.3746337890625,
          1324.2969970703125,
          1298.343017578125,
          1311.3199462890625,
          1300.720458984375,
          1317.263671875,
          1317.659912109375,
          1347.427734375,
          1338.9580078125,
          1314.88623046875,
          1302.5531005859375,
          1306.76318359375,
          1316.6693115234375,
          1319.64111328125,
          1314.787109375,
          1305.17822265625,
          1270.2591552734375,
          1268.971435546875,
          1265.355712890625,
          1284.573486328125,
          1267.4854736328125,
          1250.5460205078125,
          1283.6820068359375,
          1281.9979248046875,
          1262.185791015625,
          1241.3333740234375,
          1256.935546875,
          1266.494873046875,
          1270.5068359375,
          1271.9432373046875,
          1251.4871826171875,
          1240.293212890625,
          1268.079833984375,
          1266.841552734375,
          1269.5162353515625,
          1268.47607421875,
          1264.117431640625,
          1280.8587646484375,
          1269.8134765625,
          1250.001220703125,
          1237.2718505859375,
          1268.47607421875,
          1261.5914306640625,
          1247.277099609375,
          1219.936279296875,
          1202.4024658203125,
          1199.5792236328125,
          1169.8114013671875,
          1155.2989501953125,
          1169.16748046875,
          1173.22900390625,
          1132.6138916015625,
          1117.705322265625,
          1098.9827880859375,
          1141.5294189453125,
          1151.1878662109375,
          1262.7801513671875,
          1276.1533203125,
          1265.9996337890625,
          1280.4625244140625,
          1263.9688720703125,
          1259.0157470703125,
          1235.04296875,
          1263.8697509765625,
          1254.90478515625,
          1262.879150390625,
          1251.4376220703125,
          1230.0899658203125
         ],
         "high": [
          1325.1390380859375,
          1354.1639404296875,
          1346.932373046875,
          1378.9290771484375,
          1341.0877685546875,
          1324.94091796875,
          1322.2662353515625,
          1320.7802734375,
          1329.398681640625,
          1329.299560546875,
          1354.4114990234375,
          1361.3458251953125,
          1349.11181640625,
          1314.787109375,
          1314.5394287109375,
          1321.968994140625,
          1325.8323974609375,
          1322.167236328125,
          1312.5582275390625,
          1307.605224609375,
          1275.856201171875,
          1289.774169921875,
          1287.79296875,
          1283.83056640625,
          1264.464111328125,
          1285.811767578125,
          1292.349853515625,
          1284.72216796875,
          1270.8040771484375,
          1260.6998291015625,
          1268.971435546875,
          1274.4197998046875,
          1278.8775634765625,
          1278.3822021484375,
          1256.1925048828125,
          1271.447998046875,
          1277.2430419921875,
          1277.6888427734375,
          1287.79296875,
          1277.3916015625,
          1282.7408447265625,
          1284.8211669921875,
          1274.3206787109375,
          1260.9969482421875,
          1272.4385986328125,
          1281.750244140625,
          1266.7921142578125,
          1257.1336669921875,
          1230.8328857421875,
          1210.525390625,
          1208.544189453125,
          1173.872802734375,
          1177.0428466796875,
          1186.9984130859375,
          1156.0418701171875,
          1138.8052978515625,
          1127.8590087890625,
          1147.1263427734375,
          1164.4620361328125,
          1290.5667724609375,
          1292.201171875,
          1279.6700439453125,
          1284.623046875,
          1280.4625244140625,
          1266.6434326171875,
          1259.0653076171875,
          1271.9432373046875,
          1281.849365234375,
          1272.933837890625,
          1268.971435546875,
          1248.416259765625
         ],
         "low": [
          1291.2601318359375,
          1317.560791015625,
          1322.5634765625,
          1312.5582275390625,
          1304.1380615234375,
          1294.727294921875,
          1301.0177001953125,
          1291.904052734375,
          1303.890380859375,
          1307.8033447265625,
          1308.7939453125,
          1335.44140625,
          1308.69482421875,
          1293.3404541015625,
          1297.7982177734375,
          1305.6240234375,
          1312.5582275390625,
          1296.36181640625,
          1297.104736328125,
          1266.494873046875,
          1257.18310546875,
          1250.744140625,
          1265.9996337890625,
          1263.5726318359375,
          1245.2958984375,
          1242.47265625,
          1274.271240234375,
          1259.0653076171875,
          1236.9251708984375,
          1234.745849609375,
          1251.4376220703125,
          1263.0772705078125,
          1267.9808349609375,
          1248.1685791015625,
          1236.4793701171875,
          1233.8048095703125,
          1256.786865234375,
          1267.287353515625,
          1266.049072265625,
          1258.42138671875,
          1265.0584716796875,
          1267.9808349609375,
          1246.1873779296875,
          1231.031005859375,
          1215.775634765625,
          1248.5648193359375,
          1241.7791748046875,
          1215.478515625,
          1198.6380615234375,
          1193.7841796875,
          1164.9078369140625,
          1151.485107421875,
          1139.5482177734375,
          1151.1878662109375,
          1117.4080810546875,
          1111.4644775390625,
          1092.741943359375,
          1085.01513671875,
          1141.4798583984375,
          1214.4879150390625,
          1268.3275146484375,
          1261.0465087890625,
          1267.9808349609375,
          1260.6502685546875,
          1254.6075439453125,
          1227.2667236328125,
          1214.983154296875,
          1247.177978515625,
          1249.3572998046875,
          1244.2557373046875,
          1223.7005615234375
         ],
         "open": [
          1301.2652587890625,
          1319.690673828125,
          1333.014404296875,
          1359.116943359375,
          1335.34228515625,
          1324.544677734375,
          1307.4071044921875,
          1308.5958251953125,
          1303.890380859375,
          1325.337158203125,
          1322.46435546875,
          1344.70361328125,
          1349.11181640625,
          1313.4993896484375,
          1308.4967041015625,
          1309.4378662109375,
          1322.167236328125,
          1317.5113525390625,
          1309.4874267578125,
          1307.605224609375,
          1266.89111328125,
          1274.8160400390625,
          1267.9808349609375,
          1283.781005859375,
          1260.2044677734375,
          1247.0789794921875,
          1278.8775634765625,
          1281.00732421875,
          1265.1080322265625,
          1246.2369384765625,
          1261.9876708984375,
          1270.8536376953125,
          1269.36767578125,
          1273.032958984375,
          1246.1873779296875,
          1237.222412109375,
          1268.0303955078125,
          1274.9150390625,
          1270.95263671875,
          1272.933837890625,
          1267.9312744140625,
          1282.146484375,
          1269.9620361328125,
          1256.2916259765625,
          1239.253173828125,
          1272.933837890625,
          1261.5418701171875,
          1252.131103515625,
          1219.936279296875,
          1205.4732666015625,
          1202.551025390625,
          1164.709716796875,
          1152.4757080078125,
          1164.66015625,
          1156.0418701171875,
          1124.0947265625,
          1115.922119140625,
          1097.942626953125,
          1150.940185546875,
          1221.5706787109375,
          1291.7554931640625,
          1279.07568359375,
          1269.02099609375,
          1277.6888427734375,
          1263.671630859375,
          1259.0157470703125,
          1227.3658447265625,
          1281.849365234375,
          1272.933837890625,
          1261.78955078125,
          1244.6519775390625
         ],
         "type": "candlestick",
         "x": [
          1445,
          1446,
          1447,
          1448,
          1449,
          1450,
          1451,
          1452,
          1453,
          1454,
          1455,
          1456,
          1457,
          1458,
          1459,
          1460,
          1461,
          1462,
          1463,
          1464,
          1465,
          1466,
          1467,
          1468,
          1469,
          1470,
          1471,
          1472,
          1473,
          1474,
          1475,
          1476,
          1477,
          1478,
          1479,
          1480,
          1481,
          1482,
          1483,
          1484,
          1485,
          1486,
          1487,
          1488,
          1489,
          1490,
          1491,
          1492,
          1493,
          1494,
          1495,
          1496,
          1497,
          1498,
          1499,
          1500,
          1501,
          1502,
          1503,
          1504,
          1505,
          1506,
          1507,
          1508,
          1509,
          1510,
          1511,
          1512,
          1513,
          1514,
          1515
         ]
        },
        {
         "marker": {
          "color": "MediumPurple",
          "size": 7
         },
         "mode": "markers",
         "name": "pivot",
         "type": "scatter",
         "x": [
          1445,
          1446,
          1447,
          1448,
          1449,
          1450,
          1451,
          1452,
          1453,
          1454,
          1455,
          1456,
          1457,
          1458,
          1459,
          1460,
          1461,
          1462,
          1463,
          1464,
          1465,
          1466,
          1467,
          1468,
          1469,
          1470,
          1471,
          1472,
          1473,
          1474,
          1475,
          1476,
          1477,
          1478,
          1479,
          1480,
          1481,
          1482,
          1483,
          1484,
          1485,
          1486,
          1487,
          1488,
          1489,
          1490,
          1491,
          1492,
          1493,
          1494,
          1495,
          1496,
          1497,
          1498,
          1499,
          1500,
          1501,
          1502,
          1503,
          1504,
          1505,
          1506,
          1507,
          1508,
          1509,
          1510,
          1511,
          1512,
          1513,
          1514,
          1515
         ],
         "y": [
          null,
          null,
          null,
          1385.566162109375,
          null,
          null,
          null,
          1289.0164306640625,
          null,
          null,
          null,
          1363.9362670898438,
          null,
          1291.1957885742188,
          null,
          null,
          null,
          null,
          null,
          null,
          null,
          null,
          null,
          null,
          null,
          null,
          1294.15771484375,
          null,
          null,
          1232.1504516601562,
          null,
          null,
          1279.967236328125,
          null,
          null,
          1230.0404907226562,
          null,
          null,
          1289.9673583984375,
          null,
          null,
          null,
          null,
          null,
          null,
          null,
          null,
          null,
          null,
          null,
          null,
          null,
          null,
          null,
          null,
          null,
          null,
          1078.8040161132812,
          null,
          null,
          1294.5885375976563,
          null,
          null,
          null,
          null,
          null,
          1209.2871459960938,
          1285.31650390625,
          null,
          null,
          null
         ]
        },
        {
         "marker": {
          "color": "Black",
          "size": 7,
          "symbol": "hexagram"
         },
         "mode": "markers",
         "name": "breakout",
         "type": "scatter",
         "x": [
          1445,
          1446,
          1447,
          1448,
          1449,
          1450,
          1451,
          1452,
          1453,
          1454,
          1455,
          1456,
          1457,
          1458,
          1459,
          1460,
          1461,
          1462,
          1463,
          1464,
          1465,
          1466,
          1467,
          1468,
          1469,
          1470,
          1471,
          1472,
          1473,
          1474,
          1475,
          1476,
          1477,
          1478,
          1479,
          1480,
          1481,
          1482,
          1483,
          1484,
          1485,
          1486,
          1487,
          1488,
          1489,
          1490,
          1491,
          1492,
          1493,
          1494,
          1495,
          1496,
          1497,
          1498,
          1499,
          1500,
          1501,
          1502,
          1503,
          1504,
          1505,
          1506,
          1507,
          1508,
          1509,
          1510,
          1511,
          1512,
          1513,
          1514,
          1515
         ],
         "y": [
          null,
          null,
          null,
          null,
          null,
          null,
          null,
          null,
          null,
          null,
          null,
          null,
          null,
          null,
          null,
          null,
          null,
          null,
          null,
          null,
          null,
          null,
          null,
          null,
          null,
          null,
          null,
          null,
          null,
          null,
          null,
          null,
          null,
          null,
          1258.163818359375,
          null,
          1254.7412475585938,
          1266.2472045898437,
          null,
          null,
          null,
          null,
          null,
          null,
          null,
          1245.2462768554688,
          null,
          null,
          null,
          null,
          null,
          1176.111572265625,
          null,
          null,
          1159.9052490234376,
          null,
          null,
          null,
          null,
          null,
          null,
          null,
          null,
          null,
          null,
          null,
          null,
          null,
          null,
          null,
          null
         ]
        },
        {
         "mode": "lines",
         "name": "lower slope",
         "type": "scatter",
         "x": [
          1456,
          1457,
          1458,
          1459,
          1460,
          1461,
          1462,
          1463,
          1464,
          1465,
          1466,
          1467,
          1468,
          1469,
          1470,
          1471,
          1472,
          1473,
          1474,
          1475,
          1476,
          1477,
          1478,
          1479,
          1480,
          1481,
          1482,
          1483,
          1484,
          1485,
          1486,
          1487,
          1488,
          1489,
          1490,
          1491,
          1492,
          1493,
          1494,
          1495,
          1496,
          1497,
          1498,
          1499,
          1500
         ],
         "y": [
          1296.5451219696351,
          1293.6418435008254,
          1290.7385650320148,
          1287.8352865632041,
          1284.9320080943935,
          1282.0287296255838,
          1279.1254511567731,
          1276.2221726879625,
          1273.3188942191518,
          1270.415615750342,
          1267.5123372815315,
          1264.6090588127208,
          1261.7057803439102,
          1258.8025018751005,
          1255.8992234062898,
          1252.9959449374792,
          1250.0926664686694,
          1247.1893879998588,
          1244.2861095310482,
          1241.3828310622375,
          1238.4795525934278,
          1235.5762741246172,
          1232.6729956558065,
          1229.7697171869959,
          1226.8664387181861,
          1223.9631602493755,
          1221.0598817805649,
          1218.1566033117542,
          1215.2533248429445,
          1212.3500463741339,
          1209.4467679053232,
          1206.5434894365126,
          1203.6402109677028,
          1200.7369324988922,
          1197.8336540300816,
          1194.930375561271,
          1192.0270970924612,
          1189.1238186236505,
          1186.22054015484,
          1183.3172616860293,
          1180.4139832172195,
          1177.510704748409,
          1174.6074262795983,
          1171.7041478107876,
          1168.800869341978
         ]
        },
        {
         "mode": "lines",
         "name": "max slope",
         "type": "scatter",
         "x": [
          1456,
          1457,
          1458,
          1459,
          1460,
          1461,
          1462,
          1463,
          1464,
          1465,
          1466,
          1467,
          1468,
          1469,
          1470,
          1471,
          1472,
          1473,
          1474,
          1475,
          1476,
          1477,
          1478,
          1479,
          1480,
          1481,
          1482,
          1483,
          1484,
          1485,
          1486,
          1487,
          1488,
          1489,
          1490,
          1491,
          1492,
          1493,
          1494,
          1495,
          1496,
          1497,
          1498,
          1499,
          1500
         ],
         "y": [
          1352.3584086668561,
          1349.357338448921,
          1346.3562682309857,
          1343.3551980130505,
          1340.3541277951144,
          1337.3530575771792,
          1334.351987359244,
          1331.3509171413089,
          1328.3498469233737,
          1325.3487767054385,
          1322.3477064875033,
          1319.346636269568,
          1316.3455660516329,
          1313.3444958336977,
          1310.3434256157616,
          1307.3423553978264,
          1304.3412851798912,
          1301.340214961956,
          1298.3391447440208,
          1295.3380745260856,
          1292.3370043081504,
          1289.3359340902152,
          1286.33486387228,
          1283.333793654344,
          1280.3327234364087,
          1277.3316532184735,
          1274.3305830005384,
          1271.3295127826032,
          1268.328442564668,
          1265.3273723467328,
          1262.3263021287976,
          1259.3252319108624,
          1256.3241616929272,
          1253.323091474991,
          1250.322021257056,
          1247.3209510391207,
          1244.3198808211855,
          1241.3188106032503,
          1238.3177403853151,
          1235.31667016738,
          1232.3155999494447,
          1229.3145297315095,
          1226.3134595135734,
          1223.3123892956382,
          1220.311319077703
         ]
        }
       ],
       "layout": {
        "template": {
         "data": {
          "bar": [
           {
            "error_x": {
             "color": "#2a3f5f"
            },
            "error_y": {
             "color": "#2a3f5f"
            },
            "marker": {
             "line": {
              "color": "#E5ECF6",
              "width": 0.5
             },
             "pattern": {
              "fillmode": "overlay",
              "size": 10,
              "solidity": 0.2
             }
            },
            "type": "bar"
           }
          ],
          "barpolar": [
           {
            "marker": {
             "line": {
              "color": "#E5ECF6",
              "width": 0.5
             },
             "pattern": {
              "fillmode": "overlay",
              "size": 10,
              "solidity": 0.2
             }
            },
            "type": "barpolar"
           }
          ],
          "carpet": [
           {
            "aaxis": {
             "endlinecolor": "#2a3f5f",
             "gridcolor": "white",
             "linecolor": "white",
             "minorgridcolor": "white",
             "startlinecolor": "#2a3f5f"
            },
            "baxis": {
             "endlinecolor": "#2a3f5f",
             "gridcolor": "white",
             "linecolor": "white",
             "minorgridcolor": "white",
             "startlinecolor": "#2a3f5f"
            },
            "type": "carpet"
           }
          ],
          "choropleth": [
           {
            "colorbar": {
             "outlinewidth": 0,
             "ticks": ""
            },
            "type": "choropleth"
           }
          ],
          "contour": [
           {
            "colorbar": {
             "outlinewidth": 0,
             "ticks": ""
            },
            "colorscale": [
             [
              0,
              "#0d0887"
             ],
             [
              0.1111111111111111,
              "#46039f"
             ],
             [
              0.2222222222222222,
              "#7201a8"
             ],
             [
              0.3333333333333333,
              "#9c179e"
             ],
             [
              0.4444444444444444,
              "#bd3786"
             ],
             [
              0.5555555555555556,
              "#d8576b"
             ],
             [
              0.6666666666666666,
              "#ed7953"
             ],
             [
              0.7777777777777778,
              "#fb9f3a"
             ],
             [
              0.8888888888888888,
              "#fdca26"
             ],
             [
              1,
              "#f0f921"
             ]
            ],
            "type": "contour"
           }
          ],
          "contourcarpet": [
           {
            "colorbar": {
             "outlinewidth": 0,
             "ticks": ""
            },
            "type": "contourcarpet"
           }
          ],
          "heatmap": [
           {
            "colorbar": {
             "outlinewidth": 0,
             "ticks": ""
            },
            "colorscale": [
             [
              0,
              "#0d0887"
             ],
             [
              0.1111111111111111,
              "#46039f"
             ],
             [
              0.2222222222222222,
              "#7201a8"
             ],
             [
              0.3333333333333333,
              "#9c179e"
             ],
             [
              0.4444444444444444,
              "#bd3786"
             ],
             [
              0.5555555555555556,
              "#d8576b"
             ],
             [
              0.6666666666666666,
              "#ed7953"
             ],
             [
              0.7777777777777778,
              "#fb9f3a"
             ],
             [
              0.8888888888888888,
              "#fdca26"
             ],
             [
              1,
              "#f0f921"
             ]
            ],
            "type": "heatmap"
           }
          ],
          "heatmapgl": [
           {
            "colorbar": {
             "outlinewidth": 0,
             "ticks": ""
            },
            "colorscale": [
             [
              0,
              "#0d0887"
             ],
             [
              0.1111111111111111,
              "#46039f"
             ],
             [
              0.2222222222222222,
              "#7201a8"
             ],
             [
              0.3333333333333333,
              "#9c179e"
             ],
             [
              0.4444444444444444,
              "#bd3786"
             ],
             [
              0.5555555555555556,
              "#d8576b"
             ],
             [
              0.6666666666666666,
              "#ed7953"
             ],
             [
              0.7777777777777778,
              "#fb9f3a"
             ],
             [
              0.8888888888888888,
              "#fdca26"
             ],
             [
              1,
              "#f0f921"
             ]
            ],
            "type": "heatmapgl"
           }
          ],
          "histogram": [
           {
            "marker": {
             "pattern": {
              "fillmode": "overlay",
              "size": 10,
              "solidity": 0.2
             }
            },
            "type": "histogram"
           }
          ],
          "histogram2d": [
           {
            "colorbar": {
             "outlinewidth": 0,
             "ticks": ""
            },
            "colorscale": [
             [
              0,
              "#0d0887"
             ],
             [
              0.1111111111111111,
              "#46039f"
             ],
             [
              0.2222222222222222,
              "#7201a8"
             ],
             [
              0.3333333333333333,
              "#9c179e"
             ],
             [
              0.4444444444444444,
              "#bd3786"
             ],
             [
              0.5555555555555556,
              "#d8576b"
             ],
             [
              0.6666666666666666,
              "#ed7953"
             ],
             [
              0.7777777777777778,
              "#fb9f3a"
             ],
             [
              0.8888888888888888,
              "#fdca26"
             ],
             [
              1,
              "#f0f921"
             ]
            ],
            "type": "histogram2d"
           }
          ],
          "histogram2dcontour": [
           {
            "colorbar": {
             "outlinewidth": 0,
             "ticks": ""
            },
            "colorscale": [
             [
              0,
              "#0d0887"
             ],
             [
              0.1111111111111111,
              "#46039f"
             ],
             [
              0.2222222222222222,
              "#7201a8"
             ],
             [
              0.3333333333333333,
              "#9c179e"
             ],
             [
              0.4444444444444444,
              "#bd3786"
             ],
             [
              0.5555555555555556,
              "#d8576b"
             ],
             [
              0.6666666666666666,
              "#ed7953"
             ],
             [
              0.7777777777777778,
              "#fb9f3a"
             ],
             [
              0.8888888888888888,
              "#fdca26"
             ],
             [
              1,
              "#f0f921"
             ]
            ],
            "type": "histogram2dcontour"
           }
          ],
          "mesh3d": [
           {
            "colorbar": {
             "outlinewidth": 0,
             "ticks": ""
            },
            "type": "mesh3d"
           }
          ],
          "parcoords": [
           {
            "line": {
             "colorbar": {
              "outlinewidth": 0,
              "ticks": ""
             }
            },
            "type": "parcoords"
           }
          ],
          "pie": [
           {
            "automargin": true,
            "type": "pie"
           }
          ],
          "scatter": [
           {
            "fillpattern": {
             "fillmode": "overlay",
             "size": 10,
             "solidity": 0.2
            },
            "type": "scatter"
           }
          ],
          "scatter3d": [
           {
            "line": {
             "colorbar": {
              "outlinewidth": 0,
              "ticks": ""
             }
            },
            "marker": {
             "colorbar": {
              "outlinewidth": 0,
              "ticks": ""
             }
            },
            "type": "scatter3d"
           }
          ],
          "scattercarpet": [
           {
            "marker": {
             "colorbar": {
              "outlinewidth": 0,
              "ticks": ""
             }
            },
            "type": "scattercarpet"
           }
          ],
          "scattergeo": [
           {
            "marker": {
             "colorbar": {
              "outlinewidth": 0,
              "ticks": ""
             }
            },
            "type": "scattergeo"
           }
          ],
          "scattergl": [
           {
            "marker": {
             "colorbar": {
              "outlinewidth": 0,
              "ticks": ""
             }
            },
            "type": "scattergl"
           }
          ],
          "scattermapbox": [
           {
            "marker": {
             "colorbar": {
              "outlinewidth": 0,
              "ticks": ""
             }
            },
            "type": "scattermapbox"
           }
          ],
          "scatterpolar": [
           {
            "marker": {
             "colorbar": {
              "outlinewidth": 0,
              "ticks": ""
             }
            },
            "type": "scatterpolar"
           }
          ],
          "scatterpolargl": [
           {
            "marker": {
             "colorbar": {
              "outlinewidth": 0,
              "ticks": ""
             }
            },
            "type": "scatterpolargl"
           }
          ],
          "scatterternary": [
           {
            "marker": {
             "colorbar": {
              "outlinewidth": 0,
              "ticks": ""
             }
            },
            "type": "scatterternary"
           }
          ],
          "surface": [
           {
            "colorbar": {
             "outlinewidth": 0,
             "ticks": ""
            },
            "colorscale": [
             [
              0,
              "#0d0887"
             ],
             [
              0.1111111111111111,
              "#46039f"
             ],
             [
              0.2222222222222222,
              "#7201a8"
             ],
             [
              0.3333333333333333,
              "#9c179e"
             ],
             [
              0.4444444444444444,
              "#bd3786"
             ],
             [
              0.5555555555555556,
              "#d8576b"
             ],
             [
              0.6666666666666666,
              "#ed7953"
             ],
             [
              0.7777777777777778,
              "#fb9f3a"
             ],
             [
              0.8888888888888888,
              "#fdca26"
             ],
             [
              1,
              "#f0f921"
             ]
            ],
            "type": "surface"
           }
          ],
          "table": [
           {
            "cells": {
             "fill": {
              "color": "#EBF0F8"
             },
             "line": {
              "color": "white"
             }
            },
            "header": {
             "fill": {
              "color": "#C8D4E3"
             },
             "line": {
              "color": "white"
             }
            },
            "type": "table"
           }
          ]
         },
         "layout": {
          "annotationdefaults": {
           "arrowcolor": "#2a3f5f",
           "arrowhead": 0,
           "arrowwidth": 1
          },
          "autotypenumbers": "strict",
          "coloraxis": {
           "colorbar": {
            "outlinewidth": 0,
            "ticks": ""
           }
          },
          "colorscale": {
           "diverging": [
            [
             0,
             "#8e0152"
            ],
            [
             0.1,
             "#c51b7d"
            ],
            [
             0.2,
             "#de77ae"
            ],
            [
             0.3,
             "#f1b6da"
            ],
            [
             0.4,
             "#fde0ef"
            ],
            [
             0.5,
             "#f7f7f7"
            ],
            [
             0.6,
             "#e6f5d0"
            ],
            [
             0.7,
             "#b8e186"
            ],
            [
             0.8,
             "#7fbc41"
            ],
            [
             0.9,
             "#4d9221"
            ],
            [
             1,
             "#276419"
            ]
           ],
           "sequential": [
            [
             0,
             "#0d0887"
            ],
            [
             0.1111111111111111,
             "#46039f"
            ],
            [
             0.2222222222222222,
             "#7201a8"
            ],
            [
             0.3333333333333333,
             "#9c179e"
            ],
            [
             0.4444444444444444,
             "#bd3786"
            ],
            [
             0.5555555555555556,
             "#d8576b"
            ],
            [
             0.6666666666666666,
             "#ed7953"
            ],
            [
             0.7777777777777778,
             "#fb9f3a"
            ],
            [
             0.8888888888888888,
             "#fdca26"
            ],
            [
             1,
             "#f0f921"
            ]
           ],
           "sequentialminus": [
            [
             0,
             "#0d0887"
            ],
            [
             0.1111111111111111,
             "#46039f"
            ],
            [
             0.2222222222222222,
             "#7201a8"
            ],
            [
             0.3333333333333333,
             "#9c179e"
            ],
            [
             0.4444444444444444,
             "#bd3786"
            ],
            [
             0.5555555555555556,
             "#d8576b"
            ],
            [
             0.6666666666666666,
             "#ed7953"
            ],
            [
             0.7777777777777778,
             "#fb9f3a"
            ],
            [
             0.8888888888888888,
             "#fdca26"
            ],
            [
             1,
             "#f0f921"
            ]
           ]
          },
          "colorway": [
           "#636efa",
           "#EF553B",
           "#00cc96",
           "#ab63fa",
           "#FFA15A",
           "#19d3f3",
           "#FF6692",
           "#B6E880",
           "#FF97FF",
           "#FECB52"
          ],
          "font": {
           "color": "#2a3f5f"
          },
          "geo": {
           "bgcolor": "white",
           "lakecolor": "white",
           "landcolor": "#E5ECF6",
           "showlakes": true,
           "showland": true,
           "subunitcolor": "white"
          },
          "hoverlabel": {
           "align": "left"
          },
          "hovermode": "closest",
          "mapbox": {
           "style": "light"
          },
          "paper_bgcolor": "white",
          "plot_bgcolor": "#E5ECF6",
          "polar": {
           "angularaxis": {
            "gridcolor": "white",
            "linecolor": "white",
            "ticks": ""
           },
           "bgcolor": "#E5ECF6",
           "radialaxis": {
            "gridcolor": "white",
            "linecolor": "white",
            "ticks": ""
           }
          },
          "scene": {
           "xaxis": {
            "backgroundcolor": "#E5ECF6",
            "gridcolor": "white",
            "gridwidth": 2,
            "linecolor": "white",
            "showbackground": true,
            "ticks": "",
            "zerolinecolor": "white"
           },
           "yaxis": {
            "backgroundcolor": "#E5ECF6",
            "gridcolor": "white",
            "gridwidth": 2,
            "linecolor": "white",
            "showbackground": true,
            "ticks": "",
            "zerolinecolor": "white"
           },
           "zaxis": {
            "backgroundcolor": "#E5ECF6",
            "gridcolor": "white",
            "gridwidth": 2,
            "linecolor": "white",
            "showbackground": true,
            "ticks": "",
            "zerolinecolor": "white"
           }
          },
          "shapedefaults": {
           "line": {
            "color": "#2a3f5f"
           }
          },
          "ternary": {
           "aaxis": {
            "gridcolor": "white",
            "linecolor": "white",
            "ticks": ""
           },
           "baxis": {
            "gridcolor": "white",
            "linecolor": "white",
            "ticks": ""
           },
           "bgcolor": "#E5ECF6",
           "caxis": {
            "gridcolor": "white",
            "linecolor": "white",
            "ticks": ""
           }
          },
          "title": {
           "x": 0.05
          },
          "xaxis": {
           "automargin": true,
           "gridcolor": "white",
           "linecolor": "white",
           "ticks": "",
           "title": {
            "standoff": 15
           },
           "zerolinecolor": "white",
           "zerolinewidth": 2
          },
          "yaxis": {
           "automargin": true,
           "gridcolor": "white",
           "linecolor": "white",
           "ticks": "",
           "title": {
            "standoff": 15
           },
           "zerolinecolor": "white",
           "zerolinewidth": 2
          }
         }
        }
       }
      },
      "text/html": [
       "<div>                            <div id=\"a00f29b7-1531-4272-95af-436f9b2eb639\" class=\"plotly-graph-div\" style=\"height:525px; width:100%;\"></div>            <script type=\"text/javascript\">                require([\"plotly\"], function(Plotly) {                    window.PLOTLYENV=window.PLOTLYENV || {};                                    if (document.getElementById(\"a00f29b7-1531-4272-95af-436f9b2eb639\")) {                    Plotly.newPlot(                        \"a00f29b7-1531-4272-95af-436f9b2eb639\",                        [{\"close\":[1313.4498291015625,1327.21923828125,1327.8135986328125,1321.3746337890625,1324.2969970703125,1298.343017578125,1311.3199462890625,1300.720458984375,1317.263671875,1317.659912109375,1347.427734375,1338.9580078125,1314.88623046875,1302.5531005859375,1306.76318359375,1316.6693115234375,1319.64111328125,1314.787109375,1305.17822265625,1270.2591552734375,1268.971435546875,1265.355712890625,1284.573486328125,1267.4854736328125,1250.5460205078125,1283.6820068359375,1281.9979248046875,1262.185791015625,1241.3333740234375,1256.935546875,1266.494873046875,1270.5068359375,1271.9432373046875,1251.4871826171875,1240.293212890625,1268.079833984375,1266.841552734375,1269.5162353515625,1268.47607421875,1264.117431640625,1280.8587646484375,1269.8134765625,1250.001220703125,1237.2718505859375,1268.47607421875,1261.5914306640625,1247.277099609375,1219.936279296875,1202.4024658203125,1199.5792236328125,1169.8114013671875,1155.2989501953125,1169.16748046875,1173.22900390625,1132.6138916015625,1117.705322265625,1098.9827880859375,1141.5294189453125,1151.1878662109375,1262.7801513671875,1276.1533203125,1265.9996337890625,1280.4625244140625,1263.9688720703125,1259.0157470703125,1235.04296875,1263.8697509765625,1254.90478515625,1262.879150390625,1251.4376220703125,1230.0899658203125],\"high\":[1325.1390380859375,1354.1639404296875,1346.932373046875,1378.9290771484375,1341.0877685546875,1324.94091796875,1322.2662353515625,1320.7802734375,1329.398681640625,1329.299560546875,1354.4114990234375,1361.3458251953125,1349.11181640625,1314.787109375,1314.5394287109375,1321.968994140625,1325.8323974609375,1322.167236328125,1312.5582275390625,1307.605224609375,1275.856201171875,1289.774169921875,1287.79296875,1283.83056640625,1264.464111328125,1285.811767578125,1292.349853515625,1284.72216796875,1270.8040771484375,1260.6998291015625,1268.971435546875,1274.4197998046875,1278.8775634765625,1278.3822021484375,1256.1925048828125,1271.447998046875,1277.2430419921875,1277.6888427734375,1287.79296875,1277.3916015625,1282.7408447265625,1284.8211669921875,1274.3206787109375,1260.9969482421875,1272.4385986328125,1281.750244140625,1266.7921142578125,1257.1336669921875,1230.8328857421875,1210.525390625,1208.544189453125,1173.872802734375,1177.0428466796875,1186.9984130859375,1156.0418701171875,1138.8052978515625,1127.8590087890625,1147.1263427734375,1164.4620361328125,1290.5667724609375,1292.201171875,1279.6700439453125,1284.623046875,1280.4625244140625,1266.6434326171875,1259.0653076171875,1271.9432373046875,1281.849365234375,1272.933837890625,1268.971435546875,1248.416259765625],\"low\":[1291.2601318359375,1317.560791015625,1322.5634765625,1312.5582275390625,1304.1380615234375,1294.727294921875,1301.0177001953125,1291.904052734375,1303.890380859375,1307.8033447265625,1308.7939453125,1335.44140625,1308.69482421875,1293.3404541015625,1297.7982177734375,1305.6240234375,1312.5582275390625,1296.36181640625,1297.104736328125,1266.494873046875,1257.18310546875,1250.744140625,1265.9996337890625,1263.5726318359375,1245.2958984375,1242.47265625,1274.271240234375,1259.0653076171875,1236.9251708984375,1234.745849609375,1251.4376220703125,1263.0772705078125,1267.9808349609375,1248.1685791015625,1236.4793701171875,1233.8048095703125,1256.786865234375,1267.287353515625,1266.049072265625,1258.42138671875,1265.0584716796875,1267.9808349609375,1246.1873779296875,1231.031005859375,1215.775634765625,1248.5648193359375,1241.7791748046875,1215.478515625,1198.6380615234375,1193.7841796875,1164.9078369140625,1151.485107421875,1139.5482177734375,1151.1878662109375,1117.4080810546875,1111.4644775390625,1092.741943359375,1085.01513671875,1141.4798583984375,1214.4879150390625,1268.3275146484375,1261.0465087890625,1267.9808349609375,1260.6502685546875,1254.6075439453125,1227.2667236328125,1214.983154296875,1247.177978515625,1249.3572998046875,1244.2557373046875,1223.7005615234375],\"open\":[1301.2652587890625,1319.690673828125,1333.014404296875,1359.116943359375,1335.34228515625,1324.544677734375,1307.4071044921875,1308.5958251953125,1303.890380859375,1325.337158203125,1322.46435546875,1344.70361328125,1349.11181640625,1313.4993896484375,1308.4967041015625,1309.4378662109375,1322.167236328125,1317.5113525390625,1309.4874267578125,1307.605224609375,1266.89111328125,1274.8160400390625,1267.9808349609375,1283.781005859375,1260.2044677734375,1247.0789794921875,1278.8775634765625,1281.00732421875,1265.1080322265625,1246.2369384765625,1261.9876708984375,1270.8536376953125,1269.36767578125,1273.032958984375,1246.1873779296875,1237.222412109375,1268.0303955078125,1274.9150390625,1270.95263671875,1272.933837890625,1267.9312744140625,1282.146484375,1269.9620361328125,1256.2916259765625,1239.253173828125,1272.933837890625,1261.5418701171875,1252.131103515625,1219.936279296875,1205.4732666015625,1202.551025390625,1164.709716796875,1152.4757080078125,1164.66015625,1156.0418701171875,1124.0947265625,1115.922119140625,1097.942626953125,1150.940185546875,1221.5706787109375,1291.7554931640625,1279.07568359375,1269.02099609375,1277.6888427734375,1263.671630859375,1259.0157470703125,1227.3658447265625,1281.849365234375,1272.933837890625,1261.78955078125,1244.6519775390625],\"x\":[1445,1446,1447,1448,1449,1450,1451,1452,1453,1454,1455,1456,1457,1458,1459,1460,1461,1462,1463,1464,1465,1466,1467,1468,1469,1470,1471,1472,1473,1474,1475,1476,1477,1478,1479,1480,1481,1482,1483,1484,1485,1486,1487,1488,1489,1490,1491,1492,1493,1494,1495,1496,1497,1498,1499,1500,1501,1502,1503,1504,1505,1506,1507,1508,1509,1510,1511,1512,1513,1514,1515],\"type\":\"candlestick\"},{\"marker\":{\"color\":\"MediumPurple\",\"size\":7},\"mode\":\"markers\",\"name\":\"pivot\",\"x\":[1445,1446,1447,1448,1449,1450,1451,1452,1453,1454,1455,1456,1457,1458,1459,1460,1461,1462,1463,1464,1465,1466,1467,1468,1469,1470,1471,1472,1473,1474,1475,1476,1477,1478,1479,1480,1481,1482,1483,1484,1485,1486,1487,1488,1489,1490,1491,1492,1493,1494,1495,1496,1497,1498,1499,1500,1501,1502,1503,1504,1505,1506,1507,1508,1509,1510,1511,1512,1513,1514,1515],\"y\":[null,null,null,1385.566162109375,null,null,null,1289.0164306640625,null,null,null,1363.9362670898438,null,1291.1957885742188,null,null,null,null,null,null,null,null,null,null,null,null,1294.15771484375,null,null,1232.1504516601562,null,null,1279.967236328125,null,null,1230.0404907226562,null,null,1289.9673583984375,null,null,null,null,null,null,null,null,null,null,null,null,null,null,null,null,null,null,1078.8040161132812,null,null,1294.5885375976563,null,null,null,null,null,1209.2871459960938,1285.31650390625,null,null,null],\"type\":\"scatter\"},{\"marker\":{\"color\":\"Black\",\"size\":7,\"symbol\":\"hexagram\"},\"mode\":\"markers\",\"name\":\"breakout\",\"x\":[1445,1446,1447,1448,1449,1450,1451,1452,1453,1454,1455,1456,1457,1458,1459,1460,1461,1462,1463,1464,1465,1466,1467,1468,1469,1470,1471,1472,1473,1474,1475,1476,1477,1478,1479,1480,1481,1482,1483,1484,1485,1486,1487,1488,1489,1490,1491,1492,1493,1494,1495,1496,1497,1498,1499,1500,1501,1502,1503,1504,1505,1506,1507,1508,1509,1510,1511,1512,1513,1514,1515],\"y\":[null,null,null,null,null,null,null,null,null,null,null,null,null,null,null,null,null,null,null,null,null,null,null,null,null,null,null,null,null,null,null,null,null,null,1258.163818359375,null,1254.7412475585938,1266.2472045898437,null,null,null,null,null,null,null,1245.2462768554688,null,null,null,null,null,1176.111572265625,null,null,1159.9052490234376,null,null,null,null,null,null,null,null,null,null,null,null,null,null,null,null],\"type\":\"scatter\"},{\"mode\":\"lines\",\"name\":\"lower slope\",\"x\":[1456,1457,1458,1459,1460,1461,1462,1463,1464,1465,1466,1467,1468,1469,1470,1471,1472,1473,1474,1475,1476,1477,1478,1479,1480,1481,1482,1483,1484,1485,1486,1487,1488,1489,1490,1491,1492,1493,1494,1495,1496,1497,1498,1499,1500],\"y\":[1296.5451219696351,1293.6418435008254,1290.7385650320148,1287.8352865632041,1284.9320080943935,1282.0287296255838,1279.1254511567731,1276.2221726879625,1273.3188942191518,1270.415615750342,1267.5123372815315,1264.6090588127208,1261.7057803439102,1258.8025018751005,1255.8992234062898,1252.9959449374792,1250.0926664686694,1247.1893879998588,1244.2861095310482,1241.3828310622375,1238.4795525934278,1235.5762741246172,1232.6729956558065,1229.7697171869959,1226.8664387181861,1223.9631602493755,1221.0598817805649,1218.1566033117542,1215.2533248429445,1212.3500463741339,1209.4467679053232,1206.5434894365126,1203.6402109677028,1200.7369324988922,1197.8336540300816,1194.930375561271,1192.0270970924612,1189.1238186236505,1186.22054015484,1183.3172616860293,1180.4139832172195,1177.510704748409,1174.6074262795983,1171.7041478107876,1168.800869341978],\"type\":\"scatter\"},{\"mode\":\"lines\",\"name\":\"max slope\",\"x\":[1456,1457,1458,1459,1460,1461,1462,1463,1464,1465,1466,1467,1468,1469,1470,1471,1472,1473,1474,1475,1476,1477,1478,1479,1480,1481,1482,1483,1484,1485,1486,1487,1488,1489,1490,1491,1492,1493,1494,1495,1496,1497,1498,1499,1500],\"y\":[1352.3584086668561,1349.357338448921,1346.3562682309857,1343.3551980130505,1340.3541277951144,1337.3530575771792,1334.351987359244,1331.3509171413089,1328.3498469233737,1325.3487767054385,1322.3477064875033,1319.346636269568,1316.3455660516329,1313.3444958336977,1310.3434256157616,1307.3423553978264,1304.3412851798912,1301.340214961956,1298.3391447440208,1295.3380745260856,1292.3370043081504,1289.3359340902152,1286.33486387228,1283.333793654344,1280.3327234364087,1277.3316532184735,1274.3305830005384,1271.3295127826032,1268.328442564668,1265.3273723467328,1262.3263021287976,1259.3252319108624,1256.3241616929272,1253.323091474991,1250.322021257056,1247.3209510391207,1244.3198808211855,1241.3188106032503,1238.3177403853151,1235.31667016738,1232.3155999494447,1229.3145297315095,1226.3134595135734,1223.3123892956382,1220.311319077703],\"type\":\"scatter\"}],                        {\"template\":{\"data\":{\"histogram2dcontour\":[{\"type\":\"histogram2dcontour\",\"colorbar\":{\"outlinewidth\":0,\"ticks\":\"\"},\"colorscale\":[[0.0,\"#0d0887\"],[0.1111111111111111,\"#46039f\"],[0.2222222222222222,\"#7201a8\"],[0.3333333333333333,\"#9c179e\"],[0.4444444444444444,\"#bd3786\"],[0.5555555555555556,\"#d8576b\"],[0.6666666666666666,\"#ed7953\"],[0.7777777777777778,\"#fb9f3a\"],[0.8888888888888888,\"#fdca26\"],[1.0,\"#f0f921\"]]}],\"choropleth\":[{\"type\":\"choropleth\",\"colorbar\":{\"outlinewidth\":0,\"ticks\":\"\"}}],\"histogram2d\":[{\"type\":\"histogram2d\",\"colorbar\":{\"outlinewidth\":0,\"ticks\":\"\"},\"colorscale\":[[0.0,\"#0d0887\"],[0.1111111111111111,\"#46039f\"],[0.2222222222222222,\"#7201a8\"],[0.3333333333333333,\"#9c179e\"],[0.4444444444444444,\"#bd3786\"],[0.5555555555555556,\"#d8576b\"],[0.6666666666666666,\"#ed7953\"],[0.7777777777777778,\"#fb9f3a\"],[0.8888888888888888,\"#fdca26\"],[1.0,\"#f0f921\"]]}],\"heatmap\":[{\"type\":\"heatmap\",\"colorbar\":{\"outlinewidth\":0,\"ticks\":\"\"},\"colorscale\":[[0.0,\"#0d0887\"],[0.1111111111111111,\"#46039f\"],[0.2222222222222222,\"#7201a8\"],[0.3333333333333333,\"#9c179e\"],[0.4444444444444444,\"#bd3786\"],[0.5555555555555556,\"#d8576b\"],[0.6666666666666666,\"#ed7953\"],[0.7777777777777778,\"#fb9f3a\"],[0.8888888888888888,\"#fdca26\"],[1.0,\"#f0f921\"]]}],\"heatmapgl\":[{\"type\":\"heatmapgl\",\"colorbar\":{\"outlinewidth\":0,\"ticks\":\"\"},\"colorscale\":[[0.0,\"#0d0887\"],[0.1111111111111111,\"#46039f\"],[0.2222222222222222,\"#7201a8\"],[0.3333333333333333,\"#9c179e\"],[0.4444444444444444,\"#bd3786\"],[0.5555555555555556,\"#d8576b\"],[0.6666666666666666,\"#ed7953\"],[0.7777777777777778,\"#fb9f3a\"],[0.8888888888888888,\"#fdca26\"],[1.0,\"#f0f921\"]]}],\"contourcarpet\":[{\"type\":\"contourcarpet\",\"colorbar\":{\"outlinewidth\":0,\"ticks\":\"\"}}],\"contour\":[{\"type\":\"contour\",\"colorbar\":{\"outlinewidth\":0,\"ticks\":\"\"},\"colorscale\":[[0.0,\"#0d0887\"],[0.1111111111111111,\"#46039f\"],[0.2222222222222222,\"#7201a8\"],[0.3333333333333333,\"#9c179e\"],[0.4444444444444444,\"#bd3786\"],[0.5555555555555556,\"#d8576b\"],[0.6666666666666666,\"#ed7953\"],[0.7777777777777778,\"#fb9f3a\"],[0.8888888888888888,\"#fdca26\"],[1.0,\"#f0f921\"]]}],\"surface\":[{\"type\":\"surface\",\"colorbar\":{\"outlinewidth\":0,\"ticks\":\"\"},\"colorscale\":[[0.0,\"#0d0887\"],[0.1111111111111111,\"#46039f\"],[0.2222222222222222,\"#7201a8\"],[0.3333333333333333,\"#9c179e\"],[0.4444444444444444,\"#bd3786\"],[0.5555555555555556,\"#d8576b\"],[0.6666666666666666,\"#ed7953\"],[0.7777777777777778,\"#fb9f3a\"],[0.8888888888888888,\"#fdca26\"],[1.0,\"#f0f921\"]]}],\"mesh3d\":[{\"type\":\"mesh3d\",\"colorbar\":{\"outlinewidth\":0,\"ticks\":\"\"}}],\"scatter\":[{\"fillpattern\":{\"fillmode\":\"overlay\",\"size\":10,\"solidity\":0.2},\"type\":\"scatter\"}],\"parcoords\":[{\"type\":\"parcoords\",\"line\":{\"colorbar\":{\"outlinewidth\":0,\"ticks\":\"\"}}}],\"scatterpolargl\":[{\"type\":\"scatterpolargl\",\"marker\":{\"colorbar\":{\"outlinewidth\":0,\"ticks\":\"\"}}}],\"bar\":[{\"error_x\":{\"color\":\"#2a3f5f\"},\"error_y\":{\"color\":\"#2a3f5f\"},\"marker\":{\"line\":{\"color\":\"#E5ECF6\",\"width\":0.5},\"pattern\":{\"fillmode\":\"overlay\",\"size\":10,\"solidity\":0.2}},\"type\":\"bar\"}],\"scattergeo\":[{\"type\":\"scattergeo\",\"marker\":{\"colorbar\":{\"outlinewidth\":0,\"ticks\":\"\"}}}],\"scatterpolar\":[{\"type\":\"scatterpolar\",\"marker\":{\"colorbar\":{\"outlinewidth\":0,\"ticks\":\"\"}}}],\"histogram\":[{\"marker\":{\"pattern\":{\"fillmode\":\"overlay\",\"size\":10,\"solidity\":0.2}},\"type\":\"histogram\"}],\"scattergl\":[{\"type\":\"scattergl\",\"marker\":{\"colorbar\":{\"outlinewidth\":0,\"ticks\":\"\"}}}],\"scatter3d\":[{\"type\":\"scatter3d\",\"line\":{\"colorbar\":{\"outlinewidth\":0,\"ticks\":\"\"}},\"marker\":{\"colorbar\":{\"outlinewidth\":0,\"ticks\":\"\"}}}],\"scattermapbox\":[{\"type\":\"scattermapbox\",\"marker\":{\"colorbar\":{\"outlinewidth\":0,\"ticks\":\"\"}}}],\"scatterternary\":[{\"type\":\"scatterternary\",\"marker\":{\"colorbar\":{\"outlinewidth\":0,\"ticks\":\"\"}}}],\"scattercarpet\":[{\"type\":\"scattercarpet\",\"marker\":{\"colorbar\":{\"outlinewidth\":0,\"ticks\":\"\"}}}],\"carpet\":[{\"aaxis\":{\"endlinecolor\":\"#2a3f5f\",\"gridcolor\":\"white\",\"linecolor\":\"white\",\"minorgridcolor\":\"white\",\"startlinecolor\":\"#2a3f5f\"},\"baxis\":{\"endlinecolor\":\"#2a3f5f\",\"gridcolor\":\"white\",\"linecolor\":\"white\",\"minorgridcolor\":\"white\",\"startlinecolor\":\"#2a3f5f\"},\"type\":\"carpet\"}],\"table\":[{\"cells\":{\"fill\":{\"color\":\"#EBF0F8\"},\"line\":{\"color\":\"white\"}},\"header\":{\"fill\":{\"color\":\"#C8D4E3\"},\"line\":{\"color\":\"white\"}},\"type\":\"table\"}],\"barpolar\":[{\"marker\":{\"line\":{\"color\":\"#E5ECF6\",\"width\":0.5},\"pattern\":{\"fillmode\":\"overlay\",\"size\":10,\"solidity\":0.2}},\"type\":\"barpolar\"}],\"pie\":[{\"automargin\":true,\"type\":\"pie\"}]},\"layout\":{\"autotypenumbers\":\"strict\",\"colorway\":[\"#636efa\",\"#EF553B\",\"#00cc96\",\"#ab63fa\",\"#FFA15A\",\"#19d3f3\",\"#FF6692\",\"#B6E880\",\"#FF97FF\",\"#FECB52\"],\"font\":{\"color\":\"#2a3f5f\"},\"hovermode\":\"closest\",\"hoverlabel\":{\"align\":\"left\"},\"paper_bgcolor\":\"white\",\"plot_bgcolor\":\"#E5ECF6\",\"polar\":{\"bgcolor\":\"#E5ECF6\",\"angularaxis\":{\"gridcolor\":\"white\",\"linecolor\":\"white\",\"ticks\":\"\"},\"radialaxis\":{\"gridcolor\":\"white\",\"linecolor\":\"white\",\"ticks\":\"\"}},\"ternary\":{\"bgcolor\":\"#E5ECF6\",\"aaxis\":{\"gridcolor\":\"white\",\"linecolor\":\"white\",\"ticks\":\"\"},\"baxis\":{\"gridcolor\":\"white\",\"linecolor\":\"white\",\"ticks\":\"\"},\"caxis\":{\"gridcolor\":\"white\",\"linecolor\":\"white\",\"ticks\":\"\"}},\"coloraxis\":{\"colorbar\":{\"outlinewidth\":0,\"ticks\":\"\"}},\"colorscale\":{\"sequential\":[[0.0,\"#0d0887\"],[0.1111111111111111,\"#46039f\"],[0.2222222222222222,\"#7201a8\"],[0.3333333333333333,\"#9c179e\"],[0.4444444444444444,\"#bd3786\"],[0.5555555555555556,\"#d8576b\"],[0.6666666666666666,\"#ed7953\"],[0.7777777777777778,\"#fb9f3a\"],[0.8888888888888888,\"#fdca26\"],[1.0,\"#f0f921\"]],\"sequentialminus\":[[0.0,\"#0d0887\"],[0.1111111111111111,\"#46039f\"],[0.2222222222222222,\"#7201a8\"],[0.3333333333333333,\"#9c179e\"],[0.4444444444444444,\"#bd3786\"],[0.5555555555555556,\"#d8576b\"],[0.6666666666666666,\"#ed7953\"],[0.7777777777777778,\"#fb9f3a\"],[0.8888888888888888,\"#fdca26\"],[1.0,\"#f0f921\"]],\"diverging\":[[0,\"#8e0152\"],[0.1,\"#c51b7d\"],[0.2,\"#de77ae\"],[0.3,\"#f1b6da\"],[0.4,\"#fde0ef\"],[0.5,\"#f7f7f7\"],[0.6,\"#e6f5d0\"],[0.7,\"#b8e186\"],[0.8,\"#7fbc41\"],[0.9,\"#4d9221\"],[1,\"#276419\"]]},\"xaxis\":{\"gridcolor\":\"white\",\"linecolor\":\"white\",\"ticks\":\"\",\"title\":{\"standoff\":15},\"zerolinecolor\":\"white\",\"automargin\":true,\"zerolinewidth\":2},\"yaxis\":{\"gridcolor\":\"white\",\"linecolor\":\"white\",\"ticks\":\"\",\"title\":{\"standoff\":15},\"zerolinecolor\":\"white\",\"automargin\":true,\"zerolinewidth\":2},\"scene\":{\"xaxis\":{\"backgroundcolor\":\"#E5ECF6\",\"gridcolor\":\"white\",\"linecolor\":\"white\",\"showbackground\":true,\"ticks\":\"\",\"zerolinecolor\":\"white\",\"gridwidth\":2},\"yaxis\":{\"backgroundcolor\":\"#E5ECF6\",\"gridcolor\":\"white\",\"linecolor\":\"white\",\"showbackground\":true,\"ticks\":\"\",\"zerolinecolor\":\"white\",\"gridwidth\":2},\"zaxis\":{\"backgroundcolor\":\"#E5ECF6\",\"gridcolor\":\"white\",\"linecolor\":\"white\",\"showbackground\":true,\"ticks\":\"\",\"zerolinecolor\":\"white\",\"gridwidth\":2}},\"shapedefaults\":{\"line\":{\"color\":\"#2a3f5f\"}},\"annotationdefaults\":{\"arrowcolor\":\"#2a3f5f\",\"arrowhead\":0,\"arrowwidth\":1},\"geo\":{\"bgcolor\":\"white\",\"landcolor\":\"#E5ECF6\",\"subunitcolor\":\"white\",\"showland\":true,\"showlakes\":true,\"lakecolor\":\"white\"},\"title\":{\"x\":0.05},\"mapbox\":{\"style\":\"light\"}}}},                        {\"responsive\": true}                    ).then(function(){\n",
       "                            \n",
       "var gd = document.getElementById('a00f29b7-1531-4272-95af-436f9b2eb639');\n",
       "var x = new MutationObserver(function (mutations, observer) {{\n",
       "        var display = window.getComputedStyle(gd).display;\n",
       "        if (!display || display === 'none') {{\n",
       "            console.log([gd, 'removed!']);\n",
       "            Plotly.purge(gd);\n",
       "            observer.disconnect();\n",
       "        }}\n",
       "}});\n",
       "\n",
       "// Listen for the removal of the full notebook cells\n",
       "var notebookContainer = gd.closest('#notebook-container');\n",
       "if (notebookContainer) {{\n",
       "    x.observe(notebookContainer, {childList: true});\n",
       "}}\n",
       "\n",
       "// Listen for the clearing of the current output cell\n",
       "var outputEl = gd.closest('.output');\n",
       "if (outputEl) {{\n",
       "    x.observe(outputEl, {childList: true});\n",
       "}}\n",
       "\n",
       "                        })                };                });            </script>        </div>"
      ]
     },
     "metadata": {},
     "output_type": "display_data"
    }
   ],
   "source": [
    "# indObj.showPivotMarkers(0,500)\n",
    "# indObj.showChannel(500, 40)\n",
    "indObj.showIndicator(1500, 40)"
   ]
  }
 ],
 "metadata": {
  "kernelspec": {
   "display_name": "Python 3 (ipykernel)",
   "language": "python",
   "name": "python3"
  },
  "language_info": {
   "codemirror_mode": {
    "name": "ipython",
    "version": 3
   },
   "file_extension": ".py",
   "mimetype": "text/x-python",
   "name": "python",
   "nbconvert_exporter": "python",
   "pygments_lexer": "ipython3",
   "version": "3.10.10"
  }
 },
 "nbformat": 4,
 "nbformat_minor": 5
}
