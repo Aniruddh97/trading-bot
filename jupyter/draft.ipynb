{
 "cells": [
  {
   "cell_type": "code",
   "execution_count": 6,
   "id": "abaa7c43",
   "metadata": {},
   "outputs": [],
   "source": [
    "import numpy as np\n",
    "import plotly.graph_objects as go\n",
    "from scipy import stats\n",
    "\n",
    "class ChannelBreakoutIndicator:\n",
    "\n",
    "    def __init__(self, data):\n",
    "        self.window = 4\n",
    "        self.df = data\n",
    "\n",
    "\n",
    "    def isPivot(self, candleIndex):\n",
    "        \"\"\"\n",
    "        function that detects if a candle is a pivot/fractal point\n",
    "        args: candle index, window before and after candle to test if pivot\n",
    "        returns: 1 if pivot high, 2 if pivot low, 3 if both and 0 default\n",
    "        \"\"\"\n",
    "        if candleIndex-self.window < 0 or candleIndex+self.window >= len(self.df):\n",
    "            return 0\n",
    "        \n",
    "        pivotHigh = 1\n",
    "        pivotLow = 2\n",
    "        for i in range(candleIndex-self.window, candleIndex+self.window+1):\n",
    "            if self.df.iloc[candleIndex].Low > self.df.iloc[i].Low:\n",
    "                pivotLow=0\n",
    "            if self.df.iloc[candleIndex].High < self.df.iloc[i].High:\n",
    "                pivotHigh=0\n",
    "        if (pivotHigh and pivotLow):\n",
    "            return 3\n",
    "        elif pivotHigh:\n",
    "            return pivotHigh\n",
    "        elif pivotLow:\n",
    "            return pivotLow\n",
    "        else:\n",
    "            return 0\n",
    "    \n",
    "\n",
    "    def setPivotPoint(self):\n",
    "        self.df[\"isPivot\"] = [self.isPivot(candleIndex) for candleIndex in self.df.index]\n",
    "\n",
    "\n",
    "    def getPivotMarker(self, x):\n",
    "        markerDistance = (x[\"High\"]-x[\"Low\"])/10\n",
    "        if x[\"isPivot\"]==2:\n",
    "            return x[\"Low\"] - markerDistance\n",
    "        elif x[\"isPivot\"]==1:\n",
    "            return x[\"High\"] + markerDistance\n",
    "        else:\n",
    "            return np.nan\n",
    "    \n",
    "\n",
    "    def setPivotMarker(self):\n",
    "        self.df[\"pivotMarker\"] = [self.getPivotMarker(row) for index, row in self.df.iterrows()]\n",
    "        \n",
    "    \n",
    "    def showPivotMarkers(self, startIndex=0, endIndex=0):\n",
    "        if (endIndex<=startIndex or startIndex<0 or endIndex>=len(self.df)):\n",
    "            print(\"\\n Invalid startIndex or endIndex\")\n",
    "            \n",
    "        dfSlice = self.df[startIndex:endIndex]\n",
    "        fig = go.Figure(data=[go.Candlestick(x=dfSlice.index,\n",
    "                        open=dfSlice[\"Open\"],\n",
    "                        high=dfSlice[\"High\"],\n",
    "                        low=dfSlice[\"Low\"],\n",
    "                        close=dfSlice[\"Close\"])])\n",
    "\n",
    "        fig.add_scatter(x=dfSlice.index, y=dfSlice[\"pivotMarker\"], mode=\"markers\",\n",
    "                        marker=dict(size=7, color=\"MediumPurple\"),\n",
    "                        name=\"pivotMarker\")\n",
    "        #fig.update_layout(xaxis_rangeslider_visible=False)\n",
    "        fig.show()\n",
    "\n",
    "\n",
    "    def getChannel(self, candleIndex, backCandles):\n",
    "        localdf = self.df[candleIndex-backCandles-self.window:candleIndex-self.window]\n",
    "        \n",
    "        highs = localdf[localdf[\"isPivot\"]==1].High.values\n",
    "        idxhighs = localdf[localdf[\"isPivot\"]==1].High.index\n",
    "        lows = localdf[localdf[\"isPivot\"]==2].Low.values\n",
    "        idxlows = localdf[localdf[\"isPivot\"]==2].Low.index\n",
    "        \n",
    "        if len(lows)>=2 and len(highs)>=2:\n",
    "            slopeLow, interceptLow, rValueLow, _, _ = stats.linregress(idxlows,lows)\n",
    "            slopeHigh, interceptHigh, rValueHigh, _, _ = stats.linregress(idxhighs,highs)\n",
    "        \n",
    "            return(slopeLow, interceptLow, slopeHigh, interceptHigh, rValueLow**2, rValueHigh**2)\n",
    "        else:\n",
    "            return(0,0,0,0,0,0)\n",
    "        \n",
    "\n",
    "    def showChannel(self, candleIndex, backCandles):\n",
    "\n",
    "        if (candleIndex-backCandles<0 or candleIndex>len(self.df)):\n",
    "            print(\"\\n Invalid candleIndex & backCandles combination\")\n",
    "            return\n",
    "\n",
    "        startIndex = candleIndex-backCandles\n",
    "        endIndex = candleIndex\n",
    "\n",
    "        # below code for better visualization\n",
    "        for _ in range(3):\n",
    "            if (startIndex-10>0):\n",
    "                startIndex -= 10\n",
    "            if (endIndex+10<=len(self.df)):\n",
    "                endIndex += 10\n",
    "        # above code for better visualization\n",
    "\n",
    "        dfSlice = self.df[startIndex:endIndex+1]\n",
    "        \n",
    "        fig = go.Figure(data=[go.Candlestick(x=dfSlice.index,\n",
    "                        open=dfSlice[\"Open\"],\n",
    "                        high=dfSlice[\"High\"],\n",
    "                        low=dfSlice[\"Low\"],\n",
    "                        close=dfSlice[\"Close\"])])\n",
    "\n",
    "        fig.add_scatter(x=dfSlice.index, y=dfSlice[\"pivotMarker\"], mode=\"markers\",\n",
    "                        marker=dict(size=5, color=\"MediumPurple\"),\n",
    "                        name=\"pivotMarker\")\n",
    "\n",
    "        slopeLow, interceptLow, slopeHigh, interceptHigh, rSqLow, rSqHigh = self.getChannel(candleIndex, backCandles)\n",
    "        print(rSqLow, rSqHigh)\n",
    "        x = np.array(range(candleIndex-backCandles-self.window, candleIndex+1))\n",
    "        fig.add_trace(go.Scatter(x=x, y=slopeLow*x + interceptLow, mode=\"lines\", name=\"lower slope\"))\n",
    "        fig.add_trace(go.Scatter(x=x, y=slopeHigh*x + interceptHigh, mode=\"lines\", name=\"max slope\"))\n",
    "        #fig.update_layout(xaxis_rangeslider_visible=False)\n",
    "        fig.show()\n",
    "\n",
    "        \n",
    "    def isBreakOut(self, candleIndex, backCandles):\n",
    "        if (candleIndex-backCandles-self.window)<0:\n",
    "            return 0\n",
    "        \n",
    "        slopeLow, interceptLow, slopeHigh, interceptHigh, rSqLow, rSqHigh = self.getChannel(candleIndex,backCandles)\n",
    "        \n",
    "        prev_idx = candleIndex-1\n",
    "        prev_high = self.df.iloc[candleIndex-1].High\n",
    "        prev_low = self.df.iloc[candleIndex-1].Low\n",
    "        prev_close = self.df.iloc[candleIndex-1].Close\n",
    "        \n",
    "        curr_idx = candleIndex\n",
    "        curr_high = self.df.iloc[candleIndex].High\n",
    "        curr_low = self.df.iloc[candleIndex].Low\n",
    "        curr_close = self.df.iloc[candleIndex].Close\n",
    "        curr_open = self.df.iloc[candleIndex].Open\n",
    "\n",
    "        # downward channel breakout\n",
    "        if ( prev_high > (slopeLow*prev_idx + interceptLow) and\n",
    "            prev_close < (slopeLow*prev_idx + interceptLow) and\n",
    "            curr_open < (slopeLow*curr_idx + interceptLow) and\n",
    "            curr_close < (slopeLow*prev_idx + interceptLow)): #and rSqLow > 0.9\n",
    "            return 1\n",
    "        \n",
    "        # upward channel breakout\n",
    "        elif ( prev_low < (slopeHigh*prev_idx + interceptHigh) and\n",
    "            prev_close > (slopeHigh*prev_idx + interceptHigh) and\n",
    "            curr_open > (slopeHigh*curr_idx + interceptHigh) and\n",
    "            curr_close > (slopeHigh*prev_idx + interceptHigh)): #and rSqHigh > 0.9\n",
    "            return 2\n",
    "        \n",
    "        else:\n",
    "            return 0\n",
    "\n",
    "\n",
    "    def getBreakoutMarker(self, x):\n",
    "        markerDistance = (x[\"High\"]-x[\"Low\"])/10\n",
    "        if x[\"isBreakout\"]==2:\n",
    "            return x[\"Low\"]-markerDistance\n",
    "        elif x[\"isBreakout\"]==1:\n",
    "            return x[\"High\"]+markerDistance\n",
    "        else:\n",
    "            return np.nan\n",
    "        \n",
    "\n",
    "    def setBreakoutPoint(self, backCandles):\n",
    "        self.df[\"isBreakout\"] = [self.isBreakOut(candle, backCandles) for candle in self.df.index]\n",
    "\n",
    "\n",
    "    def setBreakoutMarker(self):\n",
    "        self.df[\"breakoutMarker\"] = [self.getBreakoutMarker(row) for index, row in self.df.iterrows()]\n",
    "\n",
    "\n",
    "    def showIndicator(self, candleIndex, backCandles):\n",
    "        if (candleIndex-backCandles<0 or candleIndex>len(self.df)):\n",
    "            print(\"\\nInvalid candleIndex & backCandles combination\")\n",
    "            return\n",
    "\n",
    "        startIndex = candleIndex-backCandles\n",
    "        endIndex = candleIndex\n",
    "\n",
    "        # below code for better visualization\n",
    "        for _ in range(3):\n",
    "            if (startIndex-5>0):\n",
    "                startIndex -= 5\n",
    "            if (endIndex+5<len(self.df)):\n",
    "                endIndex += 5\n",
    "        # above code for better visualization\n",
    "\n",
    "        dfSlice = self.df[startIndex:endIndex+1]\n",
    "\n",
    "        fig = go.Figure(data=[go.Candlestick(x=dfSlice.index,\n",
    "                        open=dfSlice[\"Open\"],\n",
    "                        high=dfSlice[\"High\"],\n",
    "                        low=dfSlice[\"Low\"],\n",
    "                        close=dfSlice[\"Close\"])])\n",
    "\n",
    "        fig.add_scatter(x=dfSlice.index, y=dfSlice[\"pivotMarker\"], mode=\"markers\",\n",
    "                        marker=dict(size=7, color=\"MediumPurple\"),\n",
    "                        name=\"pivot\")\n",
    "\n",
    "        fig.add_scatter(x=dfSlice.index, y=dfSlice[\"breakoutMarker\"], mode=\"markers\",\n",
    "                        marker=dict(size=7, color=\"Black\"), marker_symbol=\"hexagram\",\n",
    "                        name=\"breakout\")\n",
    "\n",
    "        slopeLow, interceptLow, slopeHigh, interceptHigh, rSqLow, rSqHigh = self.getChannel(candleIndex, backCandles)\n",
    "        print(rSqLow, rSqHigh)\n",
    "        x = np.array(range(candleIndex-backCandles-self.window, candleIndex+1))\n",
    "        fig.add_trace(go.Scatter(x=x, y=slopeLow*x + interceptLow, mode=\"lines\", name=\"lower slope\"))\n",
    "        fig.add_trace(go.Scatter(x=x, y=slopeHigh*x + interceptHigh, mode=\"lines\", name=\"max slope\"))\n",
    "        #fig.update_layout(xaxis_rangeslider_visible=False)\n",
    "        fig.show()\n",
    "\n",
    "\n",
    "    def calculate(self, backCandles=40):\n",
    "        self.setPivotPoint()\n",
    "        self.setPivotMarker()\n",
    "        self.setBreakoutPoint(backCandles)\n",
    "        self.setBreakoutMarker()\n",
    "\n",
    "\n",
    "    def setSignal(self, backCandles=40):\n",
    "        self.df[\"Signal\"] = self.getSignal()\n",
    "\n",
    "\n",
    "    def getSignal(self):\n",
    "        self.df.isBreakout\n",
    "        \n",
    "\n",
    "    def getBuySell(self):\n",
    "        return [\"SELL\" if row.isBreakout == 1 else \"BUY\" if row.isBreakout == 2 else \"\" for index, row in self.df.iterrows()]\n",
    "    "
   ]
  },
  {
   "cell_type": "code",
   "execution_count": 7,
   "id": "b58151fd",
   "metadata": {},
   "outputs": [],
   "source": [
    "import yfinance as yf\n",
    "\n",
    "data = yf.download('RELIANCE.NS', period='10y', interval='1d', group_by='columns', progress=False, ignore_tz=False)\n",
    "data.insert(loc=0, column='Date', value=data.index)\n",
    "data.insert(loc=0, column='Index', value=list(range(0,len(data.index))))\n",
    "df = data.set_index('Index')"
   ]
  },
  {
   "cell_type": "code",
   "execution_count": 9,
   "id": "93acdf62",
   "metadata": {},
   "outputs": [],
   "source": [
    "indObj = ChannelBreakoutIndicator(df)\n",
    "indObj.calculate(40)"
   ]
  },
  {
   "cell_type": "code",
   "execution_count": 17,
   "id": "b2791dcc",
   "metadata": {},
   "outputs": [
    {
     "data": {
      "application/vnd.plotly.v1+json": {
       "config": {
        "plotlyServerURL": "https://plot.ly"
       },
       "data": [
        {
         "close": [
          446.5917663574219,
          446.7898864746094,
          432.4508056640625,
          421.7274475097656,
          416.7743835449219,
          417.6164245605469,
          417.04681396484375,
          423.7582092285156,
          428.0673522949219,
          446.1707458496094,
          439.7565612792969,
          438.3201599121094,
          430.74200439453125,
          425.5412902832031,
          423.9563293457031,
          427.8444519042969,
          421.05877685546875,
          417.0963439941406,
          424.402099609375,
          430.2467041015625,
          424.0553894042969,
          423.0400085449219,
          417.02203369140625,
          419.9938659667969,
          418.4831848144531,
          410.7564392089844,
          402.0390625,
          401.56854248046875,
          409.1219482421875,
          414.0997619628906,
          408.4532775878906,
          412.5147705078125,
          428.8846130371094,
          443.3475036621094,
          447.9290771484375,
          456.9188537597656,
          457.48846435546875,
          459.81640625,
          459.0734558105469,
          438.6668701171875,
          434.1100769042969,
          435.74456787109375,
          434.4072570800781,
          435.3235778808594,
          433.54046630859375,
          428.53790283203125,
          421.0092468261719,
          427.12628173828125,
          441.2919921875,
          441.8863525390625,
          435.9922180175781,
          431.2868347167969,
          440.6728515625,
          443.7685241699219,
          430.2714538574219,
          438.39447021484375,
          434.97686767578125,
          432.8717956542969,
          441.58917236328125,
          443.5704040527344,
          450.157958984375,
          444.1647644042969,
          447.6814270019531,
          443.0503234863281,
          438.1468200683594,
          438.4935302734375,
          433.7881164550781,
          434.3824768066406,
          446.8889465332031,
          445.1058349609375,
          443.9666442871094,
          452.06488037109375,
          449.6131286621094,
          438.56781005859375,
          437.7010192871094,
          448.64727783203125,
          434.456787109375,
          440.7471618652344,
          446.64129638671875,
          447.73095703125,
          461.22802734375,
          484.87884521484375,
          493.6457214355469,
          491.1939697265625,
          492.8284912109375,
          490.7977294921875,
          497.55865478515625,
          495.6517028808594,
          490.77294921875,
          495.3545227050781,
          498.1034851074219,
          500.6790771484375,
          498.8711853027344,
          503.0069885253906,
          496.91473388671875,
          493.6209716796875,
          489.06414794921875,
          496.1965637207031,
          498.7721252441406,
          494.21533203125
         ],
         "high": [
          449.7369384765625,
          449.538818359375,
          443.79327392578125,
          434.2586669921875,
          424.3773193359375,
          424.2287292480469,
          421.0092468261719,
          426.4576110839844,
          433.6395263671875,
          448.9692077636719,
          450.55419921875,
          445.1553649902344,
          441.688232421875,
          433.7881164550781,
          430.71722412109375,
          429.6275634765625,
          430.71722412109375,
          422.9656982421875,
          425.91278076171875,
          432.02978515625,
          434.23388671875,
          426.5318908691406,
          427.9435119628906,
          423.1390686035156,
          420.7615966796875,
          420.6377868652344,
          413.5796813964844,
          405.0108947753906,
          412.53955078125,
          415.5609130859375,
          415.0655822753906,
          414.12451171875,
          430.6676940917969,
          445.2792053222656,
          450.1331787109375,
          458.0332946777344,
          465.3885803222656,
          464.5960998535156,
          467.7165222167969,
          464.32366943359375,
          443.5456237792969,
          439.2117004394531,
          440.5242614746094,
          438.072509765625,
          439.58319091796875,
          436.8590087890625,
          431.1877746582031,
          428.8846130371094,
          442.7531433105469,
          446.6660461425781,
          444.1647644042969,
          435.1006774902344,
          442.6788330078125,
          445.5020751953125,
          443.2484436035156,
          440.1528015136719,
          438.9393005371094,
          439.3107604980469,
          442.80267333984375,
          448.127197265625,
          451.2228698730469,
          453.4021911621094,
          448.5482177734375,
          449.7369384765625,
          443.79327392578125,
          441.2672119140625,
          442.926513671875,
          439.0631103515625,
          448.2015075683594,
          455.08624267578125,
          450.950439453125,
          453.7984313964844,
          454.169921875,
          450.7275390625,
          441.1434020996094,
          450.6780090332031,
          450.4798889160156,
          442.1587829589844,
          448.25103759765625,
          448.25103759765625,
          466.75067138671875,
          486.3895263671875,
          498.4749450683594,
          499.6141662597656,
          496.642333984375,
          498.4997253417969,
          499.76275634765625,
          502.288818359375,
          492.2588806152344,
          496.71661376953125,
          500.4809265136719,
          505.0872802734375,
          502.14019775390625,
          504.666259765625,
          503.5270690917969,
          499.6141662597656,
          495.80029296875,
          497.2862243652344,
          501.4963073730469,
          501.0010070800781
         ],
         "low": [
          443.00079345703125,
          439.60797119140625,
          431.5592346191406,
          419.5728759765625,
          414.5702819824219,
          416.5762634277344,
          414.3721618652344,
          418.3345947265625,
          423.7582092285156,
          429.6275634765625,
          435.8931579589844,
          434.95208740234375,
          428.017822265625,
          423.68389892578125,
          422.197998046875,
          423.782958984375,
          419.5233459472656,
          416.2048034667969,
          416.551513671875,
          423.3371887207031,
          423.0400085449219,
          420.3158264160156,
          415.1151123046875,
          417.0963439941406,
          416.551513671875,
          408.18084716796875,
          396.9621887207031,
          394.48565673828125,
          405.15948486328125,
          402.73248291015625,
          406.8435363769531,
          409.1466979980469,
          412.53955078125,
          425.3679504394531,
          440.37567138671875,
          445.1553649902344,
          449.3406982421875,
          455.185302734375,
          456.9683837890625,
          435.1254577636719,
          432.12884521484375,
          429.429443359375,
          430.44482421875,
          430.2467041015625,
          431.633544921875,
          425.2441101074219,
          419.7214660644531,
          419.9938659667969,
          426.2099609375,
          438.39447021484375,
          431.9059753417969,
          425.9623107910156,
          426.50714111328125,
          437.55242919921875,
          428.51312255859375,
          424.575439453125,
          431.0639343261719,
          430.9648742675781,
          432.0050354003906,
          439.1374206542969,
          444.63531494140625,
          442.8522033691406,
          444.28857421875,
          441.98541259765625,
          437.2057189941406,
          435.96746826171875,
          431.9059753417969,
          432.4508056640625,
          434.8778076171875,
          441.5396423339844,
          440.0784912109375,
          442.08447265625,
          447.9786071777344,
          437.4038391113281,
          434.55584716796875,
          438.3449401855469,
          432.72320556640625,
          435.0016174316406,
          440.8214416503906,
          442.40643310546875,
          442.80267333984375,
          461.8719177246094,
          486.6371765136719,
          488.6183776855469,
          490.8472595214844,
          488.69268798828125,
          487.87542724609375,
          493.026611328125,
          481.43646240234375,
          489.361328125,
          495.80029296875,
          498.8216552734375,
          496.815673828125,
          492.92755126953125,
          495.30499267578125,
          491.1692199707031,
          486.9591064453125,
          490.47576904296875,
          492.90277099609375,
          492.92755126953125
         ],
         "open": [
          445.7745056152344,
          449.21685791015625,
          443.42181396484375,
          430.8905944824219,
          423.1142883300781,
          420.4148864746094,
          419.07757568359375,
          419.7957458496094,
          430.4200439453125,
          430.4200439453125,
          448.746337890625,
          442.0597229003906,
          438.39447021484375,
          430.3952941894531,
          426.4328308105469,
          424.9716796875,
          430.4200439453125,
          421.752197265625,
          421.28167724609375,
          424.47637939453125,
          433.664306640625,
          424.9221496582031,
          424.2287292480469,
          417.0963439941406,
          420.5139465332031,
          416.6010437011719,
          413.03485107421875,
          404.466064453125,
          405.15948486328125,
          408.57708740234375,
          414.0749816894531,
          409.1466979980469,
          412.83673095703125,
          428.6864929199219,
          443.2732238769531,
          449.142578125,
          456.1759033203125,
          457.90948486328125,
          463.13494873046875,
          464.2493896484375,
          440.895751953125,
          436.8094787597656,
          437.77532958984375,
          434.3824768066406,
          435.8931579589844,
          433.2432861328125,
          426.9529113769531,
          421.0092468261719,
          429.033203125,
          442.6540832519531,
          440.8214416503906,
          433.3918762207031,
          431.41064453125,
          442.2330627441406,
          443.2484436035156,
          432.5746154785156,
          438.8402404785156,
          436.8094787597656,
          433.34234619140625,
          441.4405822753906,
          445.9726257324219,
          451.3466796875,
          444.28857421875,
          445.7745056152344,
          443.2979736328125,
          438.8402404785156,
          438.76593017578125,
          435.8188781738281,
          435.868408203125,
          448.62249755859375,
          445.2792053222656,
          447.85479736328125,
          450.6780090332031,
          449.142578125,
          437.6267395019531,
          438.8402404785156,
          448.746337890625,
          435.37310791015625,
          443.2484436035156,
          445.2792053222656,
          448.2757873535156,
          461.89666748046875,
          486.6371765136719,
          493.7943115234375,
          491.6645202636719,
          492.8284912109375,
          488.86602783203125,
          495.2554626464844,
          489.3117980957031,
          490.30242919921875,
          495.80029296875,
          499.76275634765625,
          500.13421630859375,
          493.3733215332031,
          500.75335693359375,
          493.2494812011719,
          493.32379150390625,
          490.89678955078125,
          496.1965637207031,
          499.7132263183594
         ],
         "type": "candlestick",
         "x": [
          400,
          401,
          402,
          403,
          404,
          405,
          406,
          407,
          408,
          409,
          410,
          411,
          412,
          413,
          414,
          415,
          416,
          417,
          418,
          419,
          420,
          421,
          422,
          423,
          424,
          425,
          426,
          427,
          428,
          429,
          430,
          431,
          432,
          433,
          434,
          435,
          436,
          437,
          438,
          439,
          440,
          441,
          442,
          443,
          444,
          445,
          446,
          447,
          448,
          449,
          450,
          451,
          452,
          453,
          454,
          455,
          456,
          457,
          458,
          459,
          460,
          461,
          462,
          463,
          464,
          465,
          466,
          467,
          468,
          469,
          470,
          471,
          472,
          473,
          474,
          475,
          476,
          477,
          478,
          479,
          480,
          481,
          482,
          483,
          484,
          485,
          486,
          487,
          488,
          489,
          490,
          491,
          492,
          493,
          494,
          495,
          496,
          497,
          498,
          499
         ]
        },
        {
         "marker": {
          "color": "MediumPurple",
          "size": 7
         },
         "mode": "markers",
         "name": "pivotMarker",
         "type": "scatter",
         "x": [
          400,
          401,
          402,
          403,
          404,
          405,
          406,
          407,
          408,
          409,
          410,
          411,
          412,
          413,
          414,
          415,
          416,
          417,
          418,
          419,
          420,
          421,
          422,
          423,
          424,
          425,
          426,
          427,
          428,
          429,
          430,
          431,
          432,
          433,
          434,
          435,
          436,
          437,
          438,
          439,
          440,
          441,
          442,
          443,
          444,
          445,
          446,
          447,
          448,
          449,
          450,
          451,
          452,
          453,
          454,
          455,
          456,
          457,
          458,
          459,
          460,
          461,
          462,
          463,
          464,
          465,
          466,
          467,
          468,
          469,
          470,
          471,
          472,
          473,
          474,
          475,
          476,
          477,
          478,
          479,
          480,
          481,
          482,
          483,
          484,
          485,
          486,
          487,
          488,
          489,
          490,
          491,
          492,
          493,
          494,
          495,
          496,
          497,
          498,
          499
         ],
         "y": [
          null,
          null,
          null,
          null,
          null,
          null,
          413.7084533691406,
          null,
          null,
          null,
          452.0203033447266,
          null,
          null,
          null,
          null,
          null,
          null,
          415.5287139892578,
          null,
          null,
          435.3532745361328,
          null,
          null,
          null,
          null,
          null,
          null,
          393.4331329345703,
          null,
          null,
          null,
          null,
          null,
          null,
          null,
          null,
          null,
          null,
          468.7913360595703,
          null,
          null,
          null,
          null,
          null,
          null,
          null,
          418.5748352050781,
          null,
          null,
          447.4932037353516,
          null,
          null,
          null,
          null,
          null,
          423.0177032470703,
          null,
          null,
          null,
          null,
          null,
          454.4571899414062,
          null,
          null,
          null,
          null,
          430.8039215087891,
          null,
          null,
          456.44090270996094,
          null,
          null,
          null,
          null,
          null,
          null,
          430.9475372314453,
          null,
          null,
          null,
          null,
          null,
          null,
          null,
          null,
          null,
          null,
          null,
          480.3542205810547,
          null,
          null,
          505.7138427734375,
          null,
          null,
          null,
          null,
          486.0749877929687,
          null,
          null,
          null
         ]
        }
       ],
       "layout": {
        "template": {
         "data": {
          "bar": [
           {
            "error_x": {
             "color": "#2a3f5f"
            },
            "error_y": {
             "color": "#2a3f5f"
            },
            "marker": {
             "line": {
              "color": "#E5ECF6",
              "width": 0.5
             },
             "pattern": {
              "fillmode": "overlay",
              "size": 10,
              "solidity": 0.2
             }
            },
            "type": "bar"
           }
          ],
          "barpolar": [
           {
            "marker": {
             "line": {
              "color": "#E5ECF6",
              "width": 0.5
             },
             "pattern": {
              "fillmode": "overlay",
              "size": 10,
              "solidity": 0.2
             }
            },
            "type": "barpolar"
           }
          ],
          "carpet": [
           {
            "aaxis": {
             "endlinecolor": "#2a3f5f",
             "gridcolor": "white",
             "linecolor": "white",
             "minorgridcolor": "white",
             "startlinecolor": "#2a3f5f"
            },
            "baxis": {
             "endlinecolor": "#2a3f5f",
             "gridcolor": "white",
             "linecolor": "white",
             "minorgridcolor": "white",
             "startlinecolor": "#2a3f5f"
            },
            "type": "carpet"
           }
          ],
          "choropleth": [
           {
            "colorbar": {
             "outlinewidth": 0,
             "ticks": ""
            },
            "type": "choropleth"
           }
          ],
          "contour": [
           {
            "colorbar": {
             "outlinewidth": 0,
             "ticks": ""
            },
            "colorscale": [
             [
              0,
              "#0d0887"
             ],
             [
              0.1111111111111111,
              "#46039f"
             ],
             [
              0.2222222222222222,
              "#7201a8"
             ],
             [
              0.3333333333333333,
              "#9c179e"
             ],
             [
              0.4444444444444444,
              "#bd3786"
             ],
             [
              0.5555555555555556,
              "#d8576b"
             ],
             [
              0.6666666666666666,
              "#ed7953"
             ],
             [
              0.7777777777777778,
              "#fb9f3a"
             ],
             [
              0.8888888888888888,
              "#fdca26"
             ],
             [
              1,
              "#f0f921"
             ]
            ],
            "type": "contour"
           }
          ],
          "contourcarpet": [
           {
            "colorbar": {
             "outlinewidth": 0,
             "ticks": ""
            },
            "type": "contourcarpet"
           }
          ],
          "heatmap": [
           {
            "colorbar": {
             "outlinewidth": 0,
             "ticks": ""
            },
            "colorscale": [
             [
              0,
              "#0d0887"
             ],
             [
              0.1111111111111111,
              "#46039f"
             ],
             [
              0.2222222222222222,
              "#7201a8"
             ],
             [
              0.3333333333333333,
              "#9c179e"
             ],
             [
              0.4444444444444444,
              "#bd3786"
             ],
             [
              0.5555555555555556,
              "#d8576b"
             ],
             [
              0.6666666666666666,
              "#ed7953"
             ],
             [
              0.7777777777777778,
              "#fb9f3a"
             ],
             [
              0.8888888888888888,
              "#fdca26"
             ],
             [
              1,
              "#f0f921"
             ]
            ],
            "type": "heatmap"
           }
          ],
          "heatmapgl": [
           {
            "colorbar": {
             "outlinewidth": 0,
             "ticks": ""
            },
            "colorscale": [
             [
              0,
              "#0d0887"
             ],
             [
              0.1111111111111111,
              "#46039f"
             ],
             [
              0.2222222222222222,
              "#7201a8"
             ],
             [
              0.3333333333333333,
              "#9c179e"
             ],
             [
              0.4444444444444444,
              "#bd3786"
             ],
             [
              0.5555555555555556,
              "#d8576b"
             ],
             [
              0.6666666666666666,
              "#ed7953"
             ],
             [
              0.7777777777777778,
              "#fb9f3a"
             ],
             [
              0.8888888888888888,
              "#fdca26"
             ],
             [
              1,
              "#f0f921"
             ]
            ],
            "type": "heatmapgl"
           }
          ],
          "histogram": [
           {
            "marker": {
             "pattern": {
              "fillmode": "overlay",
              "size": 10,
              "solidity": 0.2
             }
            },
            "type": "histogram"
           }
          ],
          "histogram2d": [
           {
            "colorbar": {
             "outlinewidth": 0,
             "ticks": ""
            },
            "colorscale": [
             [
              0,
              "#0d0887"
             ],
             [
              0.1111111111111111,
              "#46039f"
             ],
             [
              0.2222222222222222,
              "#7201a8"
             ],
             [
              0.3333333333333333,
              "#9c179e"
             ],
             [
              0.4444444444444444,
              "#bd3786"
             ],
             [
              0.5555555555555556,
              "#d8576b"
             ],
             [
              0.6666666666666666,
              "#ed7953"
             ],
             [
              0.7777777777777778,
              "#fb9f3a"
             ],
             [
              0.8888888888888888,
              "#fdca26"
             ],
             [
              1,
              "#f0f921"
             ]
            ],
            "type": "histogram2d"
           }
          ],
          "histogram2dcontour": [
           {
            "colorbar": {
             "outlinewidth": 0,
             "ticks": ""
            },
            "colorscale": [
             [
              0,
              "#0d0887"
             ],
             [
              0.1111111111111111,
              "#46039f"
             ],
             [
              0.2222222222222222,
              "#7201a8"
             ],
             [
              0.3333333333333333,
              "#9c179e"
             ],
             [
              0.4444444444444444,
              "#bd3786"
             ],
             [
              0.5555555555555556,
              "#d8576b"
             ],
             [
              0.6666666666666666,
              "#ed7953"
             ],
             [
              0.7777777777777778,
              "#fb9f3a"
             ],
             [
              0.8888888888888888,
              "#fdca26"
             ],
             [
              1,
              "#f0f921"
             ]
            ],
            "type": "histogram2dcontour"
           }
          ],
          "mesh3d": [
           {
            "colorbar": {
             "outlinewidth": 0,
             "ticks": ""
            },
            "type": "mesh3d"
           }
          ],
          "parcoords": [
           {
            "line": {
             "colorbar": {
              "outlinewidth": 0,
              "ticks": ""
             }
            },
            "type": "parcoords"
           }
          ],
          "pie": [
           {
            "automargin": true,
            "type": "pie"
           }
          ],
          "scatter": [
           {
            "fillpattern": {
             "fillmode": "overlay",
             "size": 10,
             "solidity": 0.2
            },
            "type": "scatter"
           }
          ],
          "scatter3d": [
           {
            "line": {
             "colorbar": {
              "outlinewidth": 0,
              "ticks": ""
             }
            },
            "marker": {
             "colorbar": {
              "outlinewidth": 0,
              "ticks": ""
             }
            },
            "type": "scatter3d"
           }
          ],
          "scattercarpet": [
           {
            "marker": {
             "colorbar": {
              "outlinewidth": 0,
              "ticks": ""
             }
            },
            "type": "scattercarpet"
           }
          ],
          "scattergeo": [
           {
            "marker": {
             "colorbar": {
              "outlinewidth": 0,
              "ticks": ""
             }
            },
            "type": "scattergeo"
           }
          ],
          "scattergl": [
           {
            "marker": {
             "colorbar": {
              "outlinewidth": 0,
              "ticks": ""
             }
            },
            "type": "scattergl"
           }
          ],
          "scattermapbox": [
           {
            "marker": {
             "colorbar": {
              "outlinewidth": 0,
              "ticks": ""
             }
            },
            "type": "scattermapbox"
           }
          ],
          "scatterpolar": [
           {
            "marker": {
             "colorbar": {
              "outlinewidth": 0,
              "ticks": ""
             }
            },
            "type": "scatterpolar"
           }
          ],
          "scatterpolargl": [
           {
            "marker": {
             "colorbar": {
              "outlinewidth": 0,
              "ticks": ""
             }
            },
            "type": "scatterpolargl"
           }
          ],
          "scatterternary": [
           {
            "marker": {
             "colorbar": {
              "outlinewidth": 0,
              "ticks": ""
             }
            },
            "type": "scatterternary"
           }
          ],
          "surface": [
           {
            "colorbar": {
             "outlinewidth": 0,
             "ticks": ""
            },
            "colorscale": [
             [
              0,
              "#0d0887"
             ],
             [
              0.1111111111111111,
              "#46039f"
             ],
             [
              0.2222222222222222,
              "#7201a8"
             ],
             [
              0.3333333333333333,
              "#9c179e"
             ],
             [
              0.4444444444444444,
              "#bd3786"
             ],
             [
              0.5555555555555556,
              "#d8576b"
             ],
             [
              0.6666666666666666,
              "#ed7953"
             ],
             [
              0.7777777777777778,
              "#fb9f3a"
             ],
             [
              0.8888888888888888,
              "#fdca26"
             ],
             [
              1,
              "#f0f921"
             ]
            ],
            "type": "surface"
           }
          ],
          "table": [
           {
            "cells": {
             "fill": {
              "color": "#EBF0F8"
             },
             "line": {
              "color": "white"
             }
            },
            "header": {
             "fill": {
              "color": "#C8D4E3"
             },
             "line": {
              "color": "white"
             }
            },
            "type": "table"
           }
          ]
         },
         "layout": {
          "annotationdefaults": {
           "arrowcolor": "#2a3f5f",
           "arrowhead": 0,
           "arrowwidth": 1
          },
          "autotypenumbers": "strict",
          "coloraxis": {
           "colorbar": {
            "outlinewidth": 0,
            "ticks": ""
           }
          },
          "colorscale": {
           "diverging": [
            [
             0,
             "#8e0152"
            ],
            [
             0.1,
             "#c51b7d"
            ],
            [
             0.2,
             "#de77ae"
            ],
            [
             0.3,
             "#f1b6da"
            ],
            [
             0.4,
             "#fde0ef"
            ],
            [
             0.5,
             "#f7f7f7"
            ],
            [
             0.6,
             "#e6f5d0"
            ],
            [
             0.7,
             "#b8e186"
            ],
            [
             0.8,
             "#7fbc41"
            ],
            [
             0.9,
             "#4d9221"
            ],
            [
             1,
             "#276419"
            ]
           ],
           "sequential": [
            [
             0,
             "#0d0887"
            ],
            [
             0.1111111111111111,
             "#46039f"
            ],
            [
             0.2222222222222222,
             "#7201a8"
            ],
            [
             0.3333333333333333,
             "#9c179e"
            ],
            [
             0.4444444444444444,
             "#bd3786"
            ],
            [
             0.5555555555555556,
             "#d8576b"
            ],
            [
             0.6666666666666666,
             "#ed7953"
            ],
            [
             0.7777777777777778,
             "#fb9f3a"
            ],
            [
             0.8888888888888888,
             "#fdca26"
            ],
            [
             1,
             "#f0f921"
            ]
           ],
           "sequentialminus": [
            [
             0,
             "#0d0887"
            ],
            [
             0.1111111111111111,
             "#46039f"
            ],
            [
             0.2222222222222222,
             "#7201a8"
            ],
            [
             0.3333333333333333,
             "#9c179e"
            ],
            [
             0.4444444444444444,
             "#bd3786"
            ],
            [
             0.5555555555555556,
             "#d8576b"
            ],
            [
             0.6666666666666666,
             "#ed7953"
            ],
            [
             0.7777777777777778,
             "#fb9f3a"
            ],
            [
             0.8888888888888888,
             "#fdca26"
            ],
            [
             1,
             "#f0f921"
            ]
           ]
          },
          "colorway": [
           "#636efa",
           "#EF553B",
           "#00cc96",
           "#ab63fa",
           "#FFA15A",
           "#19d3f3",
           "#FF6692",
           "#B6E880",
           "#FF97FF",
           "#FECB52"
          ],
          "font": {
           "color": "#2a3f5f"
          },
          "geo": {
           "bgcolor": "white",
           "lakecolor": "white",
           "landcolor": "#E5ECF6",
           "showlakes": true,
           "showland": true,
           "subunitcolor": "white"
          },
          "hoverlabel": {
           "align": "left"
          },
          "hovermode": "closest",
          "mapbox": {
           "style": "light"
          },
          "paper_bgcolor": "white",
          "plot_bgcolor": "#E5ECF6",
          "polar": {
           "angularaxis": {
            "gridcolor": "white",
            "linecolor": "white",
            "ticks": ""
           },
           "bgcolor": "#E5ECF6",
           "radialaxis": {
            "gridcolor": "white",
            "linecolor": "white",
            "ticks": ""
           }
          },
          "scene": {
           "xaxis": {
            "backgroundcolor": "#E5ECF6",
            "gridcolor": "white",
            "gridwidth": 2,
            "linecolor": "white",
            "showbackground": true,
            "ticks": "",
            "zerolinecolor": "white"
           },
           "yaxis": {
            "backgroundcolor": "#E5ECF6",
            "gridcolor": "white",
            "gridwidth": 2,
            "linecolor": "white",
            "showbackground": true,
            "ticks": "",
            "zerolinecolor": "white"
           },
           "zaxis": {
            "backgroundcolor": "#E5ECF6",
            "gridcolor": "white",
            "gridwidth": 2,
            "linecolor": "white",
            "showbackground": true,
            "ticks": "",
            "zerolinecolor": "white"
           }
          },
          "shapedefaults": {
           "line": {
            "color": "#2a3f5f"
           }
          },
          "ternary": {
           "aaxis": {
            "gridcolor": "white",
            "linecolor": "white",
            "ticks": ""
           },
           "baxis": {
            "gridcolor": "white",
            "linecolor": "white",
            "ticks": ""
           },
           "bgcolor": "#E5ECF6",
           "caxis": {
            "gridcolor": "white",
            "linecolor": "white",
            "ticks": ""
           }
          },
          "title": {
           "x": 0.05
          },
          "xaxis": {
           "automargin": true,
           "gridcolor": "white",
           "linecolor": "white",
           "ticks": "",
           "title": {
            "standoff": 15
           },
           "zerolinecolor": "white",
           "zerolinewidth": 2
          },
          "yaxis": {
           "automargin": true,
           "gridcolor": "white",
           "linecolor": "white",
           "ticks": "",
           "title": {
            "standoff": 15
           },
           "zerolinecolor": "white",
           "zerolinewidth": 2
          }
         }
        }
       }
      },
      "text/html": [
       "<div>                            <div id=\"08f739b7-6e07-4743-a2a6-127e3f917ec4\" class=\"plotly-graph-div\" style=\"height:525px; width:100%;\"></div>            <script type=\"text/javascript\">                require([\"plotly\"], function(Plotly) {                    window.PLOTLYENV=window.PLOTLYENV || {};                                    if (document.getElementById(\"08f739b7-6e07-4743-a2a6-127e3f917ec4\")) {                    Plotly.newPlot(                        \"08f739b7-6e07-4743-a2a6-127e3f917ec4\",                        [{\"close\":[446.5917663574219,446.7898864746094,432.4508056640625,421.7274475097656,416.7743835449219,417.6164245605469,417.04681396484375,423.7582092285156,428.0673522949219,446.1707458496094,439.7565612792969,438.3201599121094,430.74200439453125,425.5412902832031,423.9563293457031,427.8444519042969,421.05877685546875,417.0963439941406,424.402099609375,430.2467041015625,424.0553894042969,423.0400085449219,417.02203369140625,419.9938659667969,418.4831848144531,410.7564392089844,402.0390625,401.56854248046875,409.1219482421875,414.0997619628906,408.4532775878906,412.5147705078125,428.8846130371094,443.3475036621094,447.9290771484375,456.9188537597656,457.48846435546875,459.81640625,459.0734558105469,438.6668701171875,434.1100769042969,435.74456787109375,434.4072570800781,435.3235778808594,433.54046630859375,428.53790283203125,421.0092468261719,427.12628173828125,441.2919921875,441.8863525390625,435.9922180175781,431.2868347167969,440.6728515625,443.7685241699219,430.2714538574219,438.39447021484375,434.97686767578125,432.8717956542969,441.58917236328125,443.5704040527344,450.157958984375,444.1647644042969,447.6814270019531,443.0503234863281,438.1468200683594,438.4935302734375,433.7881164550781,434.3824768066406,446.8889465332031,445.1058349609375,443.9666442871094,452.06488037109375,449.6131286621094,438.56781005859375,437.7010192871094,448.64727783203125,434.456787109375,440.7471618652344,446.64129638671875,447.73095703125,461.22802734375,484.87884521484375,493.6457214355469,491.1939697265625,492.8284912109375,490.7977294921875,497.55865478515625,495.6517028808594,490.77294921875,495.3545227050781,498.1034851074219,500.6790771484375,498.8711853027344,503.0069885253906,496.91473388671875,493.6209716796875,489.06414794921875,496.1965637207031,498.7721252441406,494.21533203125],\"high\":[449.7369384765625,449.538818359375,443.79327392578125,434.2586669921875,424.3773193359375,424.2287292480469,421.0092468261719,426.4576110839844,433.6395263671875,448.9692077636719,450.55419921875,445.1553649902344,441.688232421875,433.7881164550781,430.71722412109375,429.6275634765625,430.71722412109375,422.9656982421875,425.91278076171875,432.02978515625,434.23388671875,426.5318908691406,427.9435119628906,423.1390686035156,420.7615966796875,420.6377868652344,413.5796813964844,405.0108947753906,412.53955078125,415.5609130859375,415.0655822753906,414.12451171875,430.6676940917969,445.2792053222656,450.1331787109375,458.0332946777344,465.3885803222656,464.5960998535156,467.7165222167969,464.32366943359375,443.5456237792969,439.2117004394531,440.5242614746094,438.072509765625,439.58319091796875,436.8590087890625,431.1877746582031,428.8846130371094,442.7531433105469,446.6660461425781,444.1647644042969,435.1006774902344,442.6788330078125,445.5020751953125,443.2484436035156,440.1528015136719,438.9393005371094,439.3107604980469,442.80267333984375,448.127197265625,451.2228698730469,453.4021911621094,448.5482177734375,449.7369384765625,443.79327392578125,441.2672119140625,442.926513671875,439.0631103515625,448.2015075683594,455.08624267578125,450.950439453125,453.7984313964844,454.169921875,450.7275390625,441.1434020996094,450.6780090332031,450.4798889160156,442.1587829589844,448.25103759765625,448.25103759765625,466.75067138671875,486.3895263671875,498.4749450683594,499.6141662597656,496.642333984375,498.4997253417969,499.76275634765625,502.288818359375,492.2588806152344,496.71661376953125,500.4809265136719,505.0872802734375,502.14019775390625,504.666259765625,503.5270690917969,499.6141662597656,495.80029296875,497.2862243652344,501.4963073730469,501.0010070800781],\"low\":[443.00079345703125,439.60797119140625,431.5592346191406,419.5728759765625,414.5702819824219,416.5762634277344,414.3721618652344,418.3345947265625,423.7582092285156,429.6275634765625,435.8931579589844,434.95208740234375,428.017822265625,423.68389892578125,422.197998046875,423.782958984375,419.5233459472656,416.2048034667969,416.551513671875,423.3371887207031,423.0400085449219,420.3158264160156,415.1151123046875,417.0963439941406,416.551513671875,408.18084716796875,396.9621887207031,394.48565673828125,405.15948486328125,402.73248291015625,406.8435363769531,409.1466979980469,412.53955078125,425.3679504394531,440.37567138671875,445.1553649902344,449.3406982421875,455.185302734375,456.9683837890625,435.1254577636719,432.12884521484375,429.429443359375,430.44482421875,430.2467041015625,431.633544921875,425.2441101074219,419.7214660644531,419.9938659667969,426.2099609375,438.39447021484375,431.9059753417969,425.9623107910156,426.50714111328125,437.55242919921875,428.51312255859375,424.575439453125,431.0639343261719,430.9648742675781,432.0050354003906,439.1374206542969,444.63531494140625,442.8522033691406,444.28857421875,441.98541259765625,437.2057189941406,435.96746826171875,431.9059753417969,432.4508056640625,434.8778076171875,441.5396423339844,440.0784912109375,442.08447265625,447.9786071777344,437.4038391113281,434.55584716796875,438.3449401855469,432.72320556640625,435.0016174316406,440.8214416503906,442.40643310546875,442.80267333984375,461.8719177246094,486.6371765136719,488.6183776855469,490.8472595214844,488.69268798828125,487.87542724609375,493.026611328125,481.43646240234375,489.361328125,495.80029296875,498.8216552734375,496.815673828125,492.92755126953125,495.30499267578125,491.1692199707031,486.9591064453125,490.47576904296875,492.90277099609375,492.92755126953125],\"open\":[445.7745056152344,449.21685791015625,443.42181396484375,430.8905944824219,423.1142883300781,420.4148864746094,419.07757568359375,419.7957458496094,430.4200439453125,430.4200439453125,448.746337890625,442.0597229003906,438.39447021484375,430.3952941894531,426.4328308105469,424.9716796875,430.4200439453125,421.752197265625,421.28167724609375,424.47637939453125,433.664306640625,424.9221496582031,424.2287292480469,417.0963439941406,420.5139465332031,416.6010437011719,413.03485107421875,404.466064453125,405.15948486328125,408.57708740234375,414.0749816894531,409.1466979980469,412.83673095703125,428.6864929199219,443.2732238769531,449.142578125,456.1759033203125,457.90948486328125,463.13494873046875,464.2493896484375,440.895751953125,436.8094787597656,437.77532958984375,434.3824768066406,435.8931579589844,433.2432861328125,426.9529113769531,421.0092468261719,429.033203125,442.6540832519531,440.8214416503906,433.3918762207031,431.41064453125,442.2330627441406,443.2484436035156,432.5746154785156,438.8402404785156,436.8094787597656,433.34234619140625,441.4405822753906,445.9726257324219,451.3466796875,444.28857421875,445.7745056152344,443.2979736328125,438.8402404785156,438.76593017578125,435.8188781738281,435.868408203125,448.62249755859375,445.2792053222656,447.85479736328125,450.6780090332031,449.142578125,437.6267395019531,438.8402404785156,448.746337890625,435.37310791015625,443.2484436035156,445.2792053222656,448.2757873535156,461.89666748046875,486.6371765136719,493.7943115234375,491.6645202636719,492.8284912109375,488.86602783203125,495.2554626464844,489.3117980957031,490.30242919921875,495.80029296875,499.76275634765625,500.13421630859375,493.3733215332031,500.75335693359375,493.2494812011719,493.32379150390625,490.89678955078125,496.1965637207031,499.7132263183594],\"x\":[400,401,402,403,404,405,406,407,408,409,410,411,412,413,414,415,416,417,418,419,420,421,422,423,424,425,426,427,428,429,430,431,432,433,434,435,436,437,438,439,440,441,442,443,444,445,446,447,448,449,450,451,452,453,454,455,456,457,458,459,460,461,462,463,464,465,466,467,468,469,470,471,472,473,474,475,476,477,478,479,480,481,482,483,484,485,486,487,488,489,490,491,492,493,494,495,496,497,498,499],\"type\":\"candlestick\"},{\"marker\":{\"color\":\"MediumPurple\",\"size\":7},\"mode\":\"markers\",\"name\":\"pivotMarker\",\"x\":[400,401,402,403,404,405,406,407,408,409,410,411,412,413,414,415,416,417,418,419,420,421,422,423,424,425,426,427,428,429,430,431,432,433,434,435,436,437,438,439,440,441,442,443,444,445,446,447,448,449,450,451,452,453,454,455,456,457,458,459,460,461,462,463,464,465,466,467,468,469,470,471,472,473,474,475,476,477,478,479,480,481,482,483,484,485,486,487,488,489,490,491,492,493,494,495,496,497,498,499],\"y\":[null,null,null,null,null,null,413.7084533691406,null,null,null,452.0203033447266,null,null,null,null,null,null,415.5287139892578,null,null,435.3532745361328,null,null,null,null,null,null,393.4331329345703,null,null,null,null,null,null,null,null,null,null,468.7913360595703,null,null,null,null,null,null,null,418.5748352050781,null,null,447.4932037353516,null,null,null,null,null,423.0177032470703,null,null,null,null,null,454.4571899414062,null,null,null,null,430.8039215087891,null,null,456.44090270996094,null,null,null,null,null,null,430.9475372314453,null,null,null,null,null,null,null,null,null,null,null,480.3542205810547,null,null,505.7138427734375,null,null,null,null,486.0749877929687,null,null,null],\"type\":\"scatter\"}],                        {\"template\":{\"data\":{\"histogram2dcontour\":[{\"type\":\"histogram2dcontour\",\"colorbar\":{\"outlinewidth\":0,\"ticks\":\"\"},\"colorscale\":[[0.0,\"#0d0887\"],[0.1111111111111111,\"#46039f\"],[0.2222222222222222,\"#7201a8\"],[0.3333333333333333,\"#9c179e\"],[0.4444444444444444,\"#bd3786\"],[0.5555555555555556,\"#d8576b\"],[0.6666666666666666,\"#ed7953\"],[0.7777777777777778,\"#fb9f3a\"],[0.8888888888888888,\"#fdca26\"],[1.0,\"#f0f921\"]]}],\"choropleth\":[{\"type\":\"choropleth\",\"colorbar\":{\"outlinewidth\":0,\"ticks\":\"\"}}],\"histogram2d\":[{\"type\":\"histogram2d\",\"colorbar\":{\"outlinewidth\":0,\"ticks\":\"\"},\"colorscale\":[[0.0,\"#0d0887\"],[0.1111111111111111,\"#46039f\"],[0.2222222222222222,\"#7201a8\"],[0.3333333333333333,\"#9c179e\"],[0.4444444444444444,\"#bd3786\"],[0.5555555555555556,\"#d8576b\"],[0.6666666666666666,\"#ed7953\"],[0.7777777777777778,\"#fb9f3a\"],[0.8888888888888888,\"#fdca26\"],[1.0,\"#f0f921\"]]}],\"heatmap\":[{\"type\":\"heatmap\",\"colorbar\":{\"outlinewidth\":0,\"ticks\":\"\"},\"colorscale\":[[0.0,\"#0d0887\"],[0.1111111111111111,\"#46039f\"],[0.2222222222222222,\"#7201a8\"],[0.3333333333333333,\"#9c179e\"],[0.4444444444444444,\"#bd3786\"],[0.5555555555555556,\"#d8576b\"],[0.6666666666666666,\"#ed7953\"],[0.7777777777777778,\"#fb9f3a\"],[0.8888888888888888,\"#fdca26\"],[1.0,\"#f0f921\"]]}],\"heatmapgl\":[{\"type\":\"heatmapgl\",\"colorbar\":{\"outlinewidth\":0,\"ticks\":\"\"},\"colorscale\":[[0.0,\"#0d0887\"],[0.1111111111111111,\"#46039f\"],[0.2222222222222222,\"#7201a8\"],[0.3333333333333333,\"#9c179e\"],[0.4444444444444444,\"#bd3786\"],[0.5555555555555556,\"#d8576b\"],[0.6666666666666666,\"#ed7953\"],[0.7777777777777778,\"#fb9f3a\"],[0.8888888888888888,\"#fdca26\"],[1.0,\"#f0f921\"]]}],\"contourcarpet\":[{\"type\":\"contourcarpet\",\"colorbar\":{\"outlinewidth\":0,\"ticks\":\"\"}}],\"contour\":[{\"type\":\"contour\",\"colorbar\":{\"outlinewidth\":0,\"ticks\":\"\"},\"colorscale\":[[0.0,\"#0d0887\"],[0.1111111111111111,\"#46039f\"],[0.2222222222222222,\"#7201a8\"],[0.3333333333333333,\"#9c179e\"],[0.4444444444444444,\"#bd3786\"],[0.5555555555555556,\"#d8576b\"],[0.6666666666666666,\"#ed7953\"],[0.7777777777777778,\"#fb9f3a\"],[0.8888888888888888,\"#fdca26\"],[1.0,\"#f0f921\"]]}],\"surface\":[{\"type\":\"surface\",\"colorbar\":{\"outlinewidth\":0,\"ticks\":\"\"},\"colorscale\":[[0.0,\"#0d0887\"],[0.1111111111111111,\"#46039f\"],[0.2222222222222222,\"#7201a8\"],[0.3333333333333333,\"#9c179e\"],[0.4444444444444444,\"#bd3786\"],[0.5555555555555556,\"#d8576b\"],[0.6666666666666666,\"#ed7953\"],[0.7777777777777778,\"#fb9f3a\"],[0.8888888888888888,\"#fdca26\"],[1.0,\"#f0f921\"]]}],\"mesh3d\":[{\"type\":\"mesh3d\",\"colorbar\":{\"outlinewidth\":0,\"ticks\":\"\"}}],\"scatter\":[{\"fillpattern\":{\"fillmode\":\"overlay\",\"size\":10,\"solidity\":0.2},\"type\":\"scatter\"}],\"parcoords\":[{\"type\":\"parcoords\",\"line\":{\"colorbar\":{\"outlinewidth\":0,\"ticks\":\"\"}}}],\"scatterpolargl\":[{\"type\":\"scatterpolargl\",\"marker\":{\"colorbar\":{\"outlinewidth\":0,\"ticks\":\"\"}}}],\"bar\":[{\"error_x\":{\"color\":\"#2a3f5f\"},\"error_y\":{\"color\":\"#2a3f5f\"},\"marker\":{\"line\":{\"color\":\"#E5ECF6\",\"width\":0.5},\"pattern\":{\"fillmode\":\"overlay\",\"size\":10,\"solidity\":0.2}},\"type\":\"bar\"}],\"scattergeo\":[{\"type\":\"scattergeo\",\"marker\":{\"colorbar\":{\"outlinewidth\":0,\"ticks\":\"\"}}}],\"scatterpolar\":[{\"type\":\"scatterpolar\",\"marker\":{\"colorbar\":{\"outlinewidth\":0,\"ticks\":\"\"}}}],\"histogram\":[{\"marker\":{\"pattern\":{\"fillmode\":\"overlay\",\"size\":10,\"solidity\":0.2}},\"type\":\"histogram\"}],\"scattergl\":[{\"type\":\"scattergl\",\"marker\":{\"colorbar\":{\"outlinewidth\":0,\"ticks\":\"\"}}}],\"scatter3d\":[{\"type\":\"scatter3d\",\"line\":{\"colorbar\":{\"outlinewidth\":0,\"ticks\":\"\"}},\"marker\":{\"colorbar\":{\"outlinewidth\":0,\"ticks\":\"\"}}}],\"scattermapbox\":[{\"type\":\"scattermapbox\",\"marker\":{\"colorbar\":{\"outlinewidth\":0,\"ticks\":\"\"}}}],\"scatterternary\":[{\"type\":\"scatterternary\",\"marker\":{\"colorbar\":{\"outlinewidth\":0,\"ticks\":\"\"}}}],\"scattercarpet\":[{\"type\":\"scattercarpet\",\"marker\":{\"colorbar\":{\"outlinewidth\":0,\"ticks\":\"\"}}}],\"carpet\":[{\"aaxis\":{\"endlinecolor\":\"#2a3f5f\",\"gridcolor\":\"white\",\"linecolor\":\"white\",\"minorgridcolor\":\"white\",\"startlinecolor\":\"#2a3f5f\"},\"baxis\":{\"endlinecolor\":\"#2a3f5f\",\"gridcolor\":\"white\",\"linecolor\":\"white\",\"minorgridcolor\":\"white\",\"startlinecolor\":\"#2a3f5f\"},\"type\":\"carpet\"}],\"table\":[{\"cells\":{\"fill\":{\"color\":\"#EBF0F8\"},\"line\":{\"color\":\"white\"}},\"header\":{\"fill\":{\"color\":\"#C8D4E3\"},\"line\":{\"color\":\"white\"}},\"type\":\"table\"}],\"barpolar\":[{\"marker\":{\"line\":{\"color\":\"#E5ECF6\",\"width\":0.5},\"pattern\":{\"fillmode\":\"overlay\",\"size\":10,\"solidity\":0.2}},\"type\":\"barpolar\"}],\"pie\":[{\"automargin\":true,\"type\":\"pie\"}]},\"layout\":{\"autotypenumbers\":\"strict\",\"colorway\":[\"#636efa\",\"#EF553B\",\"#00cc96\",\"#ab63fa\",\"#FFA15A\",\"#19d3f3\",\"#FF6692\",\"#B6E880\",\"#FF97FF\",\"#FECB52\"],\"font\":{\"color\":\"#2a3f5f\"},\"hovermode\":\"closest\",\"hoverlabel\":{\"align\":\"left\"},\"paper_bgcolor\":\"white\",\"plot_bgcolor\":\"#E5ECF6\",\"polar\":{\"bgcolor\":\"#E5ECF6\",\"angularaxis\":{\"gridcolor\":\"white\",\"linecolor\":\"white\",\"ticks\":\"\"},\"radialaxis\":{\"gridcolor\":\"white\",\"linecolor\":\"white\",\"ticks\":\"\"}},\"ternary\":{\"bgcolor\":\"#E5ECF6\",\"aaxis\":{\"gridcolor\":\"white\",\"linecolor\":\"white\",\"ticks\":\"\"},\"baxis\":{\"gridcolor\":\"white\",\"linecolor\":\"white\",\"ticks\":\"\"},\"caxis\":{\"gridcolor\":\"white\",\"linecolor\":\"white\",\"ticks\":\"\"}},\"coloraxis\":{\"colorbar\":{\"outlinewidth\":0,\"ticks\":\"\"}},\"colorscale\":{\"sequential\":[[0.0,\"#0d0887\"],[0.1111111111111111,\"#46039f\"],[0.2222222222222222,\"#7201a8\"],[0.3333333333333333,\"#9c179e\"],[0.4444444444444444,\"#bd3786\"],[0.5555555555555556,\"#d8576b\"],[0.6666666666666666,\"#ed7953\"],[0.7777777777777778,\"#fb9f3a\"],[0.8888888888888888,\"#fdca26\"],[1.0,\"#f0f921\"]],\"sequentialminus\":[[0.0,\"#0d0887\"],[0.1111111111111111,\"#46039f\"],[0.2222222222222222,\"#7201a8\"],[0.3333333333333333,\"#9c179e\"],[0.4444444444444444,\"#bd3786\"],[0.5555555555555556,\"#d8576b\"],[0.6666666666666666,\"#ed7953\"],[0.7777777777777778,\"#fb9f3a\"],[0.8888888888888888,\"#fdca26\"],[1.0,\"#f0f921\"]],\"diverging\":[[0,\"#8e0152\"],[0.1,\"#c51b7d\"],[0.2,\"#de77ae\"],[0.3,\"#f1b6da\"],[0.4,\"#fde0ef\"],[0.5,\"#f7f7f7\"],[0.6,\"#e6f5d0\"],[0.7,\"#b8e186\"],[0.8,\"#7fbc41\"],[0.9,\"#4d9221\"],[1,\"#276419\"]]},\"xaxis\":{\"gridcolor\":\"white\",\"linecolor\":\"white\",\"ticks\":\"\",\"title\":{\"standoff\":15},\"zerolinecolor\":\"white\",\"automargin\":true,\"zerolinewidth\":2},\"yaxis\":{\"gridcolor\":\"white\",\"linecolor\":\"white\",\"ticks\":\"\",\"title\":{\"standoff\":15},\"zerolinecolor\":\"white\",\"automargin\":true,\"zerolinewidth\":2},\"scene\":{\"xaxis\":{\"backgroundcolor\":\"#E5ECF6\",\"gridcolor\":\"white\",\"linecolor\":\"white\",\"showbackground\":true,\"ticks\":\"\",\"zerolinecolor\":\"white\",\"gridwidth\":2},\"yaxis\":{\"backgroundcolor\":\"#E5ECF6\",\"gridcolor\":\"white\",\"linecolor\":\"white\",\"showbackground\":true,\"ticks\":\"\",\"zerolinecolor\":\"white\",\"gridwidth\":2},\"zaxis\":{\"backgroundcolor\":\"#E5ECF6\",\"gridcolor\":\"white\",\"linecolor\":\"white\",\"showbackground\":true,\"ticks\":\"\",\"zerolinecolor\":\"white\",\"gridwidth\":2}},\"shapedefaults\":{\"line\":{\"color\":\"#2a3f5f\"}},\"annotationdefaults\":{\"arrowcolor\":\"#2a3f5f\",\"arrowhead\":0,\"arrowwidth\":1},\"geo\":{\"bgcolor\":\"white\",\"landcolor\":\"#E5ECF6\",\"subunitcolor\":\"white\",\"showland\":true,\"showlakes\":true,\"lakecolor\":\"white\"},\"title\":{\"x\":0.05},\"mapbox\":{\"style\":\"light\"}}}},                        {\"responsive\": true}                    ).then(function(){\n",
       "                            \n",
       "var gd = document.getElementById('08f739b7-6e07-4743-a2a6-127e3f917ec4');\n",
       "var x = new MutationObserver(function (mutations, observer) {{\n",
       "        var display = window.getComputedStyle(gd).display;\n",
       "        if (!display || display === 'none') {{\n",
       "            console.log([gd, 'removed!']);\n",
       "            Plotly.purge(gd);\n",
       "            observer.disconnect();\n",
       "        }}\n",
       "}});\n",
       "\n",
       "// Listen for the removal of the full notebook cells\n",
       "var notebookContainer = gd.closest('#notebook-container');\n",
       "if (notebookContainer) {{\n",
       "    x.observe(notebookContainer, {childList: true});\n",
       "}}\n",
       "\n",
       "// Listen for the clearing of the current output cell\n",
       "var outputEl = gd.closest('.output');\n",
       "if (outputEl) {{\n",
       "    x.observe(outputEl, {childList: true});\n",
       "}}\n",
       "\n",
       "                        })                };                });            </script>        </div>"
      ]
     },
     "metadata": {},
     "output_type": "display_data"
    }
   ],
   "source": [
    "indObj.showPivotMarkers(400,500)\n",
    "# indObj.showChannel(500, 40)\n",
    "# indObj.showIndicator(1000, 40)"
   ]
  }
 ],
 "metadata": {
  "kernelspec": {
   "display_name": "Python 3 (ipykernel)",
   "language": "python",
   "name": "python3"
  },
  "language_info": {
   "codemirror_mode": {
    "name": "ipython",
    "version": 3
   },
   "file_extension": ".py",
   "mimetype": "text/x-python",
   "name": "python",
   "nbconvert_exporter": "python",
   "pygments_lexer": "ipython3",
   "version": "3.10.10"
  }
 },
 "nbformat": 4,
 "nbformat_minor": 5
}
