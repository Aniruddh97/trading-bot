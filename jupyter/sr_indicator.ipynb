{
 "cells": [
  {
   "cell_type": "code",
   "execution_count": 1,
   "metadata": {},
   "outputs": [],
   "source": [
    "import os\n",
    "import sys\n",
    "module_path = os.path.abspath(os.path.join('..'))\n",
    "if module_path not in sys.path:\n",
    "    sys.path.append(module_path)"
   ]
  },
  {
   "cell_type": "code",
   "execution_count": 2,
   "metadata": {},
   "outputs": [],
   "source": [
    "from datasource import getFullData\n",
    "from datemodule import getDateRange\n",
    "from indicators import SupportResistanceIndicator"
   ]
  },
  {
   "cell_type": "code",
   "execution_count": 3,
   "metadata": {},
   "outputs": [],
   "source": [
    "ticker = \"TATAPOWER\"\n",
    "startDate, endDate = getDateRange('2y')\n",
    "data = getFullData(ticker=ticker, start=startDate, end=endDate)"
   ]
  },
  {
   "cell_type": "code",
   "execution_count": 4,
   "metadata": {
    "scrolled": true
   },
   "outputs": [
    {
     "data": {
      "text/plain": [
       "1.5647727272727323"
      ]
     },
     "execution_count": 4,
     "metadata": {},
     "output_type": "execute_result"
    }
   ],
   "source": [
    "indicator = SupportResistanceIndicator(data=data, window=9, backCandles=5, tickerName=ticker)\n",
    "indicator.calculate()\n",
    "indicator.proximity"
   ]
  },
  {
   "cell_type": "code",
   "execution_count": 5,
   "metadata": {
    "scrolled": false
   },
   "outputs": [
    {
     "data": {
      "text/html": [
       "<div>\n",
       "<style scoped>\n",
       "    .dataframe tbody tr th:only-of-type {\n",
       "        vertical-align: middle;\n",
       "    }\n",
       "\n",
       "    .dataframe tbody tr th {\n",
       "        vertical-align: top;\n",
       "    }\n",
       "\n",
       "    .dataframe thead th {\n",
       "        text-align: right;\n",
       "    }\n",
       "</style>\n",
       "<table border=\"1\" class=\"dataframe\">\n",
       "  <thead>\n",
       "    <tr style=\"text-align: right;\">\n",
       "      <th></th>\n",
       "      <th>Date</th>\n",
       "      <th>Open</th>\n",
       "      <th>High</th>\n",
       "      <th>Low</th>\n",
       "      <th>Close</th>\n",
       "      <th>Volume</th>\n",
       "      <th>RSI</th>\n",
       "      <th>Level</th>\n",
       "      <th>Signal</th>\n",
       "      <th>SignalMarker</th>\n",
       "      <th>Target</th>\n",
       "      <th>Stoploss</th>\n",
       "    </tr>\n",
       "  </thead>\n",
       "  <tbody>\n",
       "    <tr>\n",
       "      <th>21</th>\n",
       "      <td>2021-08-10</td>\n",
       "      <td>132.45</td>\n",
       "      <td>133.75</td>\n",
       "      <td>127.05</td>\n",
       "      <td>130.05</td>\n",
       "      <td>31526384</td>\n",
       "      <td>54.871315</td>\n",
       "      <td>128.45</td>\n",
       "      <td>2</td>\n",
       "      <td>126.380</td>\n",
       "      <td>134.797159</td>\n",
       "      <td>126.885227</td>\n",
       "    </tr>\n",
       "    <tr>\n",
       "      <th>190</th>\n",
       "      <td>2022-04-18</td>\n",
       "      <td>267.90</td>\n",
       "      <td>267.90</td>\n",
       "      <td>252.00</td>\n",
       "      <td>257.90</td>\n",
       "      <td>89819229</td>\n",
       "      <td>52.856709</td>\n",
       "      <td>252.15</td>\n",
       "      <td>2</td>\n",
       "      <td>250.410</td>\n",
       "      <td>268.872159</td>\n",
       "      <td>250.585227</td>\n",
       "    </tr>\n",
       "    <tr>\n",
       "      <th>210</th>\n",
       "      <td>2022-05-17</td>\n",
       "      <td>228.95</td>\n",
       "      <td>242.50</td>\n",
       "      <td>227.85</td>\n",
       "      <td>241.15</td>\n",
       "      <td>34735919</td>\n",
       "      <td>50.259151</td>\n",
       "      <td>242.50</td>\n",
       "      <td>1</td>\n",
       "      <td>243.965</td>\n",
       "      <td>236.777841</td>\n",
       "      <td>244.064773</td>\n",
       "    </tr>\n",
       "    <tr>\n",
       "      <th>244</th>\n",
       "      <td>2022-07-04</td>\n",
       "      <td>207.70</td>\n",
       "      <td>212.80</td>\n",
       "      <td>207.20</td>\n",
       "      <td>211.45</td>\n",
       "      <td>14714951</td>\n",
       "      <td>46.089878</td>\n",
       "      <td>213.10</td>\n",
       "      <td>1</td>\n",
       "      <td>213.360</td>\n",
       "      <td>206.627841</td>\n",
       "      <td>214.664773</td>\n",
       "    </tr>\n",
       "    <tr>\n",
       "      <th>260</th>\n",
       "      <td>2022-07-26</td>\n",
       "      <td>233.00</td>\n",
       "      <td>233.50</td>\n",
       "      <td>225.10</td>\n",
       "      <td>226.15</td>\n",
       "      <td>11541475</td>\n",
       "      <td>55.663376</td>\n",
       "      <td>225.30</td>\n",
       "      <td>2</td>\n",
       "      <td>224.260</td>\n",
       "      <td>229.772159</td>\n",
       "      <td>223.735227</td>\n",
       "    </tr>\n",
       "    <tr>\n",
       "      <th>261</th>\n",
       "      <td>2022-07-27</td>\n",
       "      <td>220.90</td>\n",
       "      <td>223.95</td>\n",
       "      <td>215.50</td>\n",
       "      <td>218.00</td>\n",
       "      <td>33675845</td>\n",
       "      <td>45.045435</td>\n",
       "      <td>216.00</td>\n",
       "      <td>2</td>\n",
       "      <td>214.655</td>\n",
       "      <td>223.347159</td>\n",
       "      <td>214.435227</td>\n",
       "    </tr>\n",
       "    <tr>\n",
       "      <th>277</th>\n",
       "      <td>2022-08-22</td>\n",
       "      <td>232.65</td>\n",
       "      <td>232.65</td>\n",
       "      <td>222.85</td>\n",
       "      <td>224.15</td>\n",
       "      <td>20956719</td>\n",
       "      <td>45.298822</td>\n",
       "      <td>223.00</td>\n",
       "      <td>2</td>\n",
       "      <td>221.870</td>\n",
       "      <td>228.222159</td>\n",
       "      <td>221.435227</td>\n",
       "    </tr>\n",
       "    <tr>\n",
       "      <th>293</th>\n",
       "      <td>2022-09-14</td>\n",
       "      <td>237.45</td>\n",
       "      <td>244.15</td>\n",
       "      <td>236.65</td>\n",
       "      <td>241.50</td>\n",
       "      <td>24228696</td>\n",
       "      <td>57.619669</td>\n",
       "      <td>236.50</td>\n",
       "      <td>2</td>\n",
       "      <td>235.900</td>\n",
       "      <td>251.347159</td>\n",
       "      <td>234.935227</td>\n",
       "    </tr>\n",
       "    <tr>\n",
       "      <th>295</th>\n",
       "      <td>2022-09-16</td>\n",
       "      <td>246.90</td>\n",
       "      <td>247.75</td>\n",
       "      <td>232.65</td>\n",
       "      <td>236.30</td>\n",
       "      <td>58044047</td>\n",
       "      <td>49.463233</td>\n",
       "      <td>234.00</td>\n",
       "      <td>2</td>\n",
       "      <td>231.140</td>\n",
       "      <td>242.097159</td>\n",
       "      <td>232.435227</td>\n",
       "    </tr>\n",
       "    <tr>\n",
       "      <th>308</th>\n",
       "      <td>2022-10-06</td>\n",
       "      <td>221.00</td>\n",
       "      <td>223.25</td>\n",
       "      <td>220.25</td>\n",
       "      <td>221.70</td>\n",
       "      <td>10571565</td>\n",
       "      <td>44.830880</td>\n",
       "      <td>223.00</td>\n",
       "      <td>1</td>\n",
       "      <td>223.550</td>\n",
       "      <td>217.402841</td>\n",
       "      <td>224.564773</td>\n",
       "    </tr>\n",
       "    <tr>\n",
       "      <th>335</th>\n",
       "      <td>2022-11-16</td>\n",
       "      <td>229.50</td>\n",
       "      <td>230.00</td>\n",
       "      <td>222.25</td>\n",
       "      <td>224.60</td>\n",
       "      <td>10662953</td>\n",
       "      <td>47.687647</td>\n",
       "      <td>221.65</td>\n",
       "      <td>2</td>\n",
       "      <td>221.475</td>\n",
       "      <td>231.372159</td>\n",
       "      <td>220.085227</td>\n",
       "    </tr>\n",
       "    <tr>\n",
       "      <th>342</th>\n",
       "      <td>2022-11-25</td>\n",
       "      <td>221.20</td>\n",
       "      <td>224.85</td>\n",
       "      <td>220.35</td>\n",
       "      <td>224.10</td>\n",
       "      <td>8062766</td>\n",
       "      <td>49.930504</td>\n",
       "      <td>225.30</td>\n",
       "      <td>1</td>\n",
       "      <td>225.300</td>\n",
       "      <td>219.952841</td>\n",
       "      <td>226.864773</td>\n",
       "    </tr>\n",
       "    <tr>\n",
       "      <th>368</th>\n",
       "      <td>2023-01-02</td>\n",
       "      <td>208.75</td>\n",
       "      <td>212.20</td>\n",
       "      <td>208.20</td>\n",
       "      <td>211.85</td>\n",
       "      <td>7746971</td>\n",
       "      <td>46.193085</td>\n",
       "      <td>212.25</td>\n",
       "      <td>1</td>\n",
       "      <td>212.600</td>\n",
       "      <td>208.902841</td>\n",
       "      <td>213.814773</td>\n",
       "    </tr>\n",
       "    <tr>\n",
       "      <th>388</th>\n",
       "      <td>2023-01-31</td>\n",
       "      <td>205.50</td>\n",
       "      <td>214.65</td>\n",
       "      <td>204.45</td>\n",
       "      <td>212.90</td>\n",
       "      <td>16807189</td>\n",
       "      <td>57.906776</td>\n",
       "      <td>215.50</td>\n",
       "      <td>1</td>\n",
       "      <td>215.670</td>\n",
       "      <td>206.652841</td>\n",
       "      <td>217.064773</td>\n",
       "    </tr>\n",
       "    <tr>\n",
       "      <th>403</th>\n",
       "      <td>2023-02-21</td>\n",
       "      <td>204.85</td>\n",
       "      <td>209.75</td>\n",
       "      <td>204.60</td>\n",
       "      <td>207.95</td>\n",
       "      <td>15068225</td>\n",
       "      <td>53.283945</td>\n",
       "      <td>210.20</td>\n",
       "      <td>1</td>\n",
       "      <td>210.265</td>\n",
       "      <td>202.227841</td>\n",
       "      <td>211.764773</td>\n",
       "    </tr>\n",
       "    <tr>\n",
       "      <th>432</th>\n",
       "      <td>2023-04-06</td>\n",
       "      <td>193.50</td>\n",
       "      <td>196.00</td>\n",
       "      <td>192.10</td>\n",
       "      <td>195.25</td>\n",
       "      <td>8898362</td>\n",
       "      <td>44.835343</td>\n",
       "      <td>196.65</td>\n",
       "      <td>1</td>\n",
       "      <td>196.390</td>\n",
       "      <td>190.802841</td>\n",
       "      <td>198.214773</td>\n",
       "    </tr>\n",
       "    <tr>\n",
       "      <th>433</th>\n",
       "      <td>2023-04-10</td>\n",
       "      <td>195.50</td>\n",
       "      <td>197.75</td>\n",
       "      <td>195.10</td>\n",
       "      <td>195.70</td>\n",
       "      <td>7752647</td>\n",
       "      <td>45.648175</td>\n",
       "      <td>197.50</td>\n",
       "      <td>1</td>\n",
       "      <td>198.015</td>\n",
       "      <td>190.652841</td>\n",
       "      <td>199.064773</td>\n",
       "    </tr>\n",
       "    <tr>\n",
       "      <th>459</th>\n",
       "      <td>2023-05-18</td>\n",
       "      <td>209.00</td>\n",
       "      <td>209.70</td>\n",
       "      <td>204.10</td>\n",
       "      <td>204.60</td>\n",
       "      <td>8248339</td>\n",
       "      <td>54.204372</td>\n",
       "      <td>203.80</td>\n",
       "      <td>2</td>\n",
       "      <td>203.540</td>\n",
       "      <td>208.147159</td>\n",
       "      <td>202.235227</td>\n",
       "    </tr>\n",
       "    <tr>\n",
       "      <th>485</th>\n",
       "      <td>2023-06-23</td>\n",
       "      <td>222.00</td>\n",
       "      <td>222.10</td>\n",
       "      <td>215.70</td>\n",
       "      <td>218.30</td>\n",
       "      <td>10890426</td>\n",
       "      <td>52.560483</td>\n",
       "      <td>215.50</td>\n",
       "      <td>2</td>\n",
       "      <td>215.060</td>\n",
       "      <td>224.847159</td>\n",
       "      <td>213.935227</td>\n",
       "    </tr>\n",
       "  </tbody>\n",
       "</table>\n",
       "</div>"
      ],
      "text/plain": [
       "          Date    Open    High     Low   Close    Volume        RSI   Level  \\\n",
       "21  2021-08-10  132.45  133.75  127.05  130.05  31526384  54.871315  128.45   \n",
       "190 2022-04-18  267.90  267.90  252.00  257.90  89819229  52.856709  252.15   \n",
       "210 2022-05-17  228.95  242.50  227.85  241.15  34735919  50.259151  242.50   \n",
       "244 2022-07-04  207.70  212.80  207.20  211.45  14714951  46.089878  213.10   \n",
       "260 2022-07-26  233.00  233.50  225.10  226.15  11541475  55.663376  225.30   \n",
       "261 2022-07-27  220.90  223.95  215.50  218.00  33675845  45.045435  216.00   \n",
       "277 2022-08-22  232.65  232.65  222.85  224.15  20956719  45.298822  223.00   \n",
       "293 2022-09-14  237.45  244.15  236.65  241.50  24228696  57.619669  236.50   \n",
       "295 2022-09-16  246.90  247.75  232.65  236.30  58044047  49.463233  234.00   \n",
       "308 2022-10-06  221.00  223.25  220.25  221.70  10571565  44.830880  223.00   \n",
       "335 2022-11-16  229.50  230.00  222.25  224.60  10662953  47.687647  221.65   \n",
       "342 2022-11-25  221.20  224.85  220.35  224.10   8062766  49.930504  225.30   \n",
       "368 2023-01-02  208.75  212.20  208.20  211.85   7746971  46.193085  212.25   \n",
       "388 2023-01-31  205.50  214.65  204.45  212.90  16807189  57.906776  215.50   \n",
       "403 2023-02-21  204.85  209.75  204.60  207.95  15068225  53.283945  210.20   \n",
       "432 2023-04-06  193.50  196.00  192.10  195.25   8898362  44.835343  196.65   \n",
       "433 2023-04-10  195.50  197.75  195.10  195.70   7752647  45.648175  197.50   \n",
       "459 2023-05-18  209.00  209.70  204.10  204.60   8248339  54.204372  203.80   \n",
       "485 2023-06-23  222.00  222.10  215.70  218.30  10890426  52.560483  215.50   \n",
       "\n",
       "     Signal  SignalMarker      Target    Stoploss  \n",
       "21        2       126.380  134.797159  126.885227  \n",
       "190       2       250.410  268.872159  250.585227  \n",
       "210       1       243.965  236.777841  244.064773  \n",
       "244       1       213.360  206.627841  214.664773  \n",
       "260       2       224.260  229.772159  223.735227  \n",
       "261       2       214.655  223.347159  214.435227  \n",
       "277       2       221.870  228.222159  221.435227  \n",
       "293       2       235.900  251.347159  234.935227  \n",
       "295       2       231.140  242.097159  232.435227  \n",
       "308       1       223.550  217.402841  224.564773  \n",
       "335       2       221.475  231.372159  220.085227  \n",
       "342       1       225.300  219.952841  226.864773  \n",
       "368       1       212.600  208.902841  213.814773  \n",
       "388       1       215.670  206.652841  217.064773  \n",
       "403       1       210.265  202.227841  211.764773  \n",
       "432       1       196.390  190.802841  198.214773  \n",
       "433       1       198.015  190.652841  199.064773  \n",
       "459       2       203.540  208.147159  202.235227  \n",
       "485       2       215.060  224.847159  213.935227  "
      ]
     },
     "execution_count": 5,
     "metadata": {},
     "output_type": "execute_result"
    }
   ],
   "source": [
    "indicator.df[indicator.df.Signal != 0]"
   ]
  },
  {
   "cell_type": "code",
   "execution_count": 7,
   "metadata": {},
   "outputs": [
    {
     "data": {
      "application/vnd.plotly.v1+json": {
       "config": {
        "plotlyServerURL": "https://plot.ly"
       },
       "data": [
        {
         "close": [
          198.5,
          201.1,
          201.75,
          203.8,
          203.85,
          200.15,
          202.7,
          203.3,
          204.15,
          206.3,
          207.05,
          208.15,
          211.35,
          207.75,
          204.6,
          205.85,
          206.2,
          206.9,
          207.15,
          210.8,
          212.2,
          217,
          216.9,
          213.55,
          215.3,
          215.65,
          219.05,
          216.75,
          218.45,
          220.65,
          221.2,
          220.95,
          221.8,
          224.15,
          220.6,
          222.25,
          223.15,
          224.95,
          224.3,
          221.1,
          218.3,
          218.6,
          219.25,
          218.05,
          221.85,
          221.9,
          220.65,
          221.7,
          229.6,
          228
         ],
         "high": [
          199.95,
          201.55,
          202.95,
          204.25,
          204.55,
          205.6,
          203.2,
          205.1,
          204.45,
          207.2,
          207.8,
          209.4,
          215,
          212.4,
          209.7,
          206.5,
          206.9,
          207.45,
          208,
          211.2,
          213.8,
          217.7,
          218.45,
          219,
          217,
          216.9,
          219.4,
          219.8,
          219.65,
          226.2,
          224.6,
          223.55,
          222.8,
          225.25,
          224.65,
          223.7,
          224.15,
          226.35,
          226,
          225.15,
          222.1,
          219.35,
          220.5,
          220.95,
          222.5,
          224.2,
          223.3,
          223.75,
          230.3,
          232.35
         ],
         "low": [
          197.65,
          199,
          200.4,
          200.45,
          202.1,
          199.4,
          199.5,
          202.4,
          202.2,
          204.15,
          206.15,
          206.45,
          208.2,
          206.85,
          204.1,
          201.8,
          204.1,
          205.5,
          205.55,
          206.55,
          210.65,
          211.7,
          215,
          212.9,
          213,
          215,
          216.15,
          215.55,
          214.1,
          218.45,
          220.2,
          220.35,
          220.85,
          221.55,
          220.15,
          220.9,
          221,
          222.6,
          222.6,
          220.5,
          215.7,
          216.3,
          218.6,
          217.55,
          218.85,
          221.6,
          220.2,
          220.55,
          223.55,
          226.1
         ],
         "open": [
          198.45,
          199.5,
          201.95,
          201.8,
          203.9,
          203.9,
          201.5,
          203.75,
          203.5,
          204.5,
          206.85,
          207.65,
          208.85,
          212.4,
          209,
          206.3,
          206,
          206.5,
          206.65,
          207.2,
          212.25,
          213,
          218,
          216.9,
          213.95,
          216.4,
          217,
          219.8,
          216.6,
          218.95,
          224.6,
          221.95,
          221.5,
          222.5,
          224.4,
          221.9,
          223,
          223.1,
          225.25,
          224.85,
          222,
          218.3,
          218.9,
          219.95,
          219.7,
          222.9,
          222.1,
          220.95,
          225,
          229.8
         ],
         "type": "candlestick",
         "x": [
          445,
          446,
          447,
          448,
          449,
          450,
          451,
          452,
          453,
          454,
          455,
          456,
          457,
          458,
          459,
          460,
          461,
          462,
          463,
          464,
          465,
          466,
          467,
          468,
          469,
          470,
          471,
          472,
          473,
          474,
          475,
          476,
          477,
          478,
          479,
          480,
          481,
          482,
          483,
          484,
          485,
          486,
          487,
          488,
          489,
          490,
          491,
          492,
          493,
          494
         ]
        },
        {
         "marker": {
          "color": "darkgreen",
          "size": 7
         },
         "mode": "markers",
         "name": "target",
         "type": "scatter",
         "x": [
          445,
          446,
          447,
          448,
          449,
          450,
          451,
          452,
          453,
          454,
          455,
          456,
          457,
          458,
          459,
          460,
          461,
          462,
          463,
          464,
          465,
          466,
          467,
          468,
          469,
          470,
          471,
          472,
          473,
          474,
          475,
          476,
          477,
          478,
          479,
          480,
          481,
          482,
          483,
          484,
          485,
          486,
          487,
          488,
          489,
          490,
          491,
          492,
          493,
          494
         ],
         "y": [
          null,
          null,
          null,
          null,
          null,
          null,
          null,
          null,
          null,
          null,
          null,
          null,
          null,
          null,
          208.14715909090904,
          null,
          null,
          null,
          null,
          null,
          null,
          null,
          null,
          null,
          null,
          null,
          null,
          null,
          null,
          null,
          null,
          null,
          null,
          null,
          null,
          null,
          null,
          null,
          null,
          null,
          224.84715909090912,
          null,
          null,
          null,
          null,
          null,
          null,
          null,
          null,
          null
         ]
        },
        {
         "marker": {
          "color": "darkred",
          "size": 7
         },
         "mode": "markers",
         "name": "stoploss",
         "type": "scatter",
         "x": [
          445,
          446,
          447,
          448,
          449,
          450,
          451,
          452,
          453,
          454,
          455,
          456,
          457,
          458,
          459,
          460,
          461,
          462,
          463,
          464,
          465,
          466,
          467,
          468,
          469,
          470,
          471,
          472,
          473,
          474,
          475,
          476,
          477,
          478,
          479,
          480,
          481,
          482,
          483,
          484,
          485,
          486,
          487,
          488,
          489,
          490,
          491,
          492,
          493,
          494
         ],
         "y": [
          null,
          null,
          null,
          null,
          null,
          null,
          null,
          null,
          null,
          null,
          null,
          null,
          null,
          null,
          203.54,
          null,
          null,
          null,
          null,
          null,
          null,
          null,
          null,
          null,
          null,
          null,
          null,
          null,
          null,
          null,
          null,
          null,
          null,
          null,
          null,
          null,
          null,
          null,
          null,
          null,
          215.06,
          null,
          null,
          null,
          null,
          null,
          null,
          null,
          null,
          null
         ]
        }
       ],
       "layout": {
        "shapes": [
         {
          "layer": "below",
          "line": {
           "color": "blue"
          },
          "type": "line",
          "x0": 443,
          "x1": 497,
          "xref": "x",
          "y0": 201.4,
          "y1": 201.4,
          "yref": "y"
         },
         {
          "layer": "below",
          "line": {
           "color": "blue"
          },
          "type": "line",
          "x0": 443,
          "x1": 497,
          "xref": "x",
          "y0": 213.1,
          "y1": 213.1,
          "yref": "y"
         },
         {
          "layer": "below",
          "line": {
           "color": "blue"
          },
          "type": "line",
          "x0": 443,
          "x1": 497,
          "xref": "x",
          "y0": 202.8,
          "y1": 202.8,
          "yref": "y"
         },
         {
          "layer": "below",
          "line": {
           "color": "blue"
          },
          "type": "line",
          "x0": 443,
          "x1": 497,
          "xref": "x",
          "y0": 216,
          "y1": 216,
          "yref": "y"
         },
         {
          "layer": "below",
          "line": {
           "color": "blue"
          },
          "type": "line",
          "x0": 443,
          "x1": 497,
          "xref": "x",
          "y0": 223,
          "y1": 223,
          "yref": "y"
         },
         {
          "layer": "below",
          "line": {
           "color": "blue"
          },
          "type": "line",
          "x0": 443,
          "x1": 497,
          "xref": "x",
          "y0": 216,
          "y1": 216,
          "yref": "y"
         },
         {
          "layer": "below",
          "line": {
           "color": "blue"
          },
          "type": "line",
          "x0": 443,
          "x1": 497,
          "xref": "x",
          "y0": 203.25,
          "y1": 203.25,
          "yref": "y"
         },
         {
          "layer": "below",
          "line": {
           "color": "blue"
          },
          "type": "line",
          "x0": 443,
          "x1": 497,
          "xref": "x",
          "y0": 212.25,
          "y1": 212.25,
          "yref": "y"
         },
         {
          "layer": "below",
          "line": {
           "color": "blue"
          },
          "type": "line",
          "x0": 443,
          "x1": 497,
          "xref": "x",
          "y0": 225.3,
          "y1": 225.3,
          "yref": "y"
         },
         {
          "layer": "below",
          "line": {
           "color": "blue"
          },
          "type": "line",
          "x0": 443,
          "x1": 497,
          "xref": "x",
          "y0": 217.05,
          "y1": 217.05,
          "yref": "y"
         },
         {
          "layer": "below",
          "line": {
           "color": "blue"
          },
          "type": "line",
          "x0": 443,
          "x1": 497,
          "xref": "x",
          "y0": 210.2,
          "y1": 210.2,
          "yref": "y"
         },
         {
          "layer": "below",
          "line": {
           "color": "blue"
          },
          "type": "line",
          "x0": 443,
          "x1": 497,
          "xref": "x",
          "y0": 227.55,
          "y1": 227.55,
          "yref": "y"
         },
         {
          "layer": "below",
          "line": {
           "color": "blue"
          },
          "type": "line",
          "x0": 443,
          "x1": 497,
          "xref": "x",
          "y0": 200.6,
          "y1": 200.6,
          "yref": "y"
         },
         {
          "layer": "below",
          "line": {
           "color": "blue"
          },
          "type": "line",
          "x0": 443,
          "x1": 497,
          "xref": "x",
          "y0": 215.5,
          "y1": 215.5,
          "yref": "y"
         },
         {
          "layer": "below",
          "line": {
           "color": "blue"
          },
          "type": "line",
          "x0": 443,
          "x1": 497,
          "xref": "x",
          "y0": 221.65,
          "y1": 221.65,
          "yref": "y"
         },
         {
          "layer": "below",
          "line": {
           "color": "blue"
          },
          "type": "line",
          "x0": 443,
          "x1": 497,
          "xref": "x",
          "y0": 210.25,
          "y1": 210.25,
          "yref": "y"
         },
         {
          "layer": "below",
          "line": {
           "color": "blue"
          },
          "type": "line",
          "x0": 443,
          "x1": 497,
          "xref": "x",
          "y0": 213.5,
          "y1": 213.5,
          "yref": "y"
         },
         {
          "layer": "below",
          "line": {
           "color": "blue"
          },
          "type": "line",
          "x0": 443,
          "x1": 497,
          "xref": "x",
          "y0": 218.4,
          "y1": 218.4,
          "yref": "y"
         },
         {
          "layer": "below",
          "line": {
           "color": "blue"
          },
          "type": "line",
          "x0": 443,
          "x1": 497,
          "xref": "x",
          "y0": 203.8,
          "y1": 203.8,
          "yref": "y"
         },
         {
          "layer": "below",
          "line": {
           "color": "blue"
          },
          "type": "line",
          "x0": 443,
          "x1": 497,
          "xref": "x",
          "y0": 196.65,
          "y1": 196.65,
          "yref": "y"
         },
         {
          "layer": "below",
          "line": {
           "color": "blue"
          },
          "type": "line",
          "x0": 443,
          "x1": 497,
          "xref": "x",
          "y0": 201.85,
          "y1": 201.85,
          "yref": "y"
         },
         {
          "layer": "below",
          "line": {
           "color": "blue"
          },
          "type": "line",
          "x0": 443,
          "x1": 497,
          "xref": "x",
          "y0": 197.5,
          "y1": 197.5,
          "yref": "y"
         },
         {
          "layer": "below",
          "line": {
           "color": "blue"
          },
          "type": "line",
          "x0": 443,
          "x1": 497,
          "xref": "x",
          "y0": 201.8,
          "y1": 201.8,
          "yref": "y"
         },
         {
          "layer": "below",
          "line": {
           "color": "blue"
          },
          "type": "line",
          "x0": 443,
          "x1": 497,
          "xref": "x",
          "y0": 220.15,
          "y1": 220.15,
          "yref": "y"
         },
         {
          "layer": "below",
          "line": {
           "color": "blue"
          },
          "type": "line",
          "x0": 443,
          "x1": 497,
          "xref": "x",
          "y0": 215.7,
          "y1": 215.7,
          "yref": "y"
         },
         {
          "layer": "below",
          "line": {
           "color": "blue"
          },
          "type": "line",
          "x0": 443,
          "x1": 497,
          "xref": "x",
          "y0": 211.6,
          "y1": 211.6,
          "yref": "y"
         },
         {
          "layer": "below",
          "line": {
           "color": "blue"
          },
          "type": "line",
          "x0": 443,
          "x1": 497,
          "xref": "x",
          "y0": 234,
          "y1": 234,
          "yref": "y"
         },
         {
          "layer": "below",
          "line": {
           "color": "blue"
          },
          "type": "line",
          "x0": 443,
          "x1": 497,
          "xref": "x",
          "y0": 223.25,
          "y1": 223.25,
          "yref": "y"
         },
         {
          "layer": "below",
          "line": {
           "color": "blue"
          },
          "type": "line",
          "x0": 443,
          "x1": 497,
          "xref": "x",
          "y0": 234.5,
          "y1": 234.5,
          "yref": "y"
         },
         {
          "layer": "below",
          "line": {
           "color": "blue"
          },
          "type": "line",
          "x0": 443,
          "x1": 497,
          "xref": "x",
          "y0": 230.3,
          "y1": 230.3,
          "yref": "y"
         },
         {
          "layer": "below",
          "line": {
           "color": "blue"
          },
          "type": "line",
          "x0": 443,
          "x1": 497,
          "xref": "x",
          "y0": 213,
          "y1": 213,
          "yref": "y"
         },
         {
          "layer": "below",
          "line": {
           "color": "blue"
          },
          "type": "line",
          "x0": 443,
          "x1": 497,
          "xref": "x",
          "y0": 208.5,
          "y1": 208.5,
          "yref": "y"
         },
         {
          "layer": "below",
          "line": {
           "color": "blue"
          },
          "type": "line",
          "x0": 443,
          "x1": 497,
          "xref": "x",
          "y0": 215.4,
          "y1": 215.4,
          "yref": "y"
         },
         {
          "layer": "below",
          "line": {
           "color": "blue"
          },
          "type": "line",
          "x0": 443,
          "x1": 497,
          "xref": "x",
          "y0": 209.75,
          "y1": 209.75,
          "yref": "y"
         },
         {
          "layer": "below",
          "line": {
           "color": "blue"
          },
          "type": "line",
          "x0": 443,
          "x1": 497,
          "xref": "x",
          "y0": 212.9,
          "y1": 212.9,
          "yref": "y"
         },
         {
          "layer": "below",
          "line": {
           "color": "blue"
          },
          "type": "line",
          "x0": 443,
          "x1": 497,
          "xref": "x",
          "y0": 198.6,
          "y1": 198.6,
          "yref": "y"
         },
         {
          "layer": "below",
          "line": {
           "color": "blue"
          },
          "type": "line",
          "x0": 443,
          "x1": 497,
          "xref": "x",
          "y0": 215,
          "y1": 215,
          "yref": "y"
         },
         {
          "layer": "below",
          "line": {
           "color": "blue"
          },
          "type": "line",
          "x0": 443,
          "x1": 497,
          "xref": "x",
          "y0": 226.2,
          "y1": 226.2,
          "yref": "y"
         }
        ],
        "template": {
         "data": {
          "bar": [
           {
            "error_x": {
             "color": "#2a3f5f"
            },
            "error_y": {
             "color": "#2a3f5f"
            },
            "marker": {
             "line": {
              "color": "#E5ECF6",
              "width": 0.5
             },
             "pattern": {
              "fillmode": "overlay",
              "size": 10,
              "solidity": 0.2
             }
            },
            "type": "bar"
           }
          ],
          "barpolar": [
           {
            "marker": {
             "line": {
              "color": "#E5ECF6",
              "width": 0.5
             },
             "pattern": {
              "fillmode": "overlay",
              "size": 10,
              "solidity": 0.2
             }
            },
            "type": "barpolar"
           }
          ],
          "carpet": [
           {
            "aaxis": {
             "endlinecolor": "#2a3f5f",
             "gridcolor": "white",
             "linecolor": "white",
             "minorgridcolor": "white",
             "startlinecolor": "#2a3f5f"
            },
            "baxis": {
             "endlinecolor": "#2a3f5f",
             "gridcolor": "white",
             "linecolor": "white",
             "minorgridcolor": "white",
             "startlinecolor": "#2a3f5f"
            },
            "type": "carpet"
           }
          ],
          "choropleth": [
           {
            "colorbar": {
             "outlinewidth": 0,
             "ticks": ""
            },
            "type": "choropleth"
           }
          ],
          "contour": [
           {
            "colorbar": {
             "outlinewidth": 0,
             "ticks": ""
            },
            "colorscale": [
             [
              0,
              "#0d0887"
             ],
             [
              0.1111111111111111,
              "#46039f"
             ],
             [
              0.2222222222222222,
              "#7201a8"
             ],
             [
              0.3333333333333333,
              "#9c179e"
             ],
             [
              0.4444444444444444,
              "#bd3786"
             ],
             [
              0.5555555555555556,
              "#d8576b"
             ],
             [
              0.6666666666666666,
              "#ed7953"
             ],
             [
              0.7777777777777778,
              "#fb9f3a"
             ],
             [
              0.8888888888888888,
              "#fdca26"
             ],
             [
              1,
              "#f0f921"
             ]
            ],
            "type": "contour"
           }
          ],
          "contourcarpet": [
           {
            "colorbar": {
             "outlinewidth": 0,
             "ticks": ""
            },
            "type": "contourcarpet"
           }
          ],
          "heatmap": [
           {
            "colorbar": {
             "outlinewidth": 0,
             "ticks": ""
            },
            "colorscale": [
             [
              0,
              "#0d0887"
             ],
             [
              0.1111111111111111,
              "#46039f"
             ],
             [
              0.2222222222222222,
              "#7201a8"
             ],
             [
              0.3333333333333333,
              "#9c179e"
             ],
             [
              0.4444444444444444,
              "#bd3786"
             ],
             [
              0.5555555555555556,
              "#d8576b"
             ],
             [
              0.6666666666666666,
              "#ed7953"
             ],
             [
              0.7777777777777778,
              "#fb9f3a"
             ],
             [
              0.8888888888888888,
              "#fdca26"
             ],
             [
              1,
              "#f0f921"
             ]
            ],
            "type": "heatmap"
           }
          ],
          "heatmapgl": [
           {
            "colorbar": {
             "outlinewidth": 0,
             "ticks": ""
            },
            "colorscale": [
             [
              0,
              "#0d0887"
             ],
             [
              0.1111111111111111,
              "#46039f"
             ],
             [
              0.2222222222222222,
              "#7201a8"
             ],
             [
              0.3333333333333333,
              "#9c179e"
             ],
             [
              0.4444444444444444,
              "#bd3786"
             ],
             [
              0.5555555555555556,
              "#d8576b"
             ],
             [
              0.6666666666666666,
              "#ed7953"
             ],
             [
              0.7777777777777778,
              "#fb9f3a"
             ],
             [
              0.8888888888888888,
              "#fdca26"
             ],
             [
              1,
              "#f0f921"
             ]
            ],
            "type": "heatmapgl"
           }
          ],
          "histogram": [
           {
            "marker": {
             "pattern": {
              "fillmode": "overlay",
              "size": 10,
              "solidity": 0.2
             }
            },
            "type": "histogram"
           }
          ],
          "histogram2d": [
           {
            "colorbar": {
             "outlinewidth": 0,
             "ticks": ""
            },
            "colorscale": [
             [
              0,
              "#0d0887"
             ],
             [
              0.1111111111111111,
              "#46039f"
             ],
             [
              0.2222222222222222,
              "#7201a8"
             ],
             [
              0.3333333333333333,
              "#9c179e"
             ],
             [
              0.4444444444444444,
              "#bd3786"
             ],
             [
              0.5555555555555556,
              "#d8576b"
             ],
             [
              0.6666666666666666,
              "#ed7953"
             ],
             [
              0.7777777777777778,
              "#fb9f3a"
             ],
             [
              0.8888888888888888,
              "#fdca26"
             ],
             [
              1,
              "#f0f921"
             ]
            ],
            "type": "histogram2d"
           }
          ],
          "histogram2dcontour": [
           {
            "colorbar": {
             "outlinewidth": 0,
             "ticks": ""
            },
            "colorscale": [
             [
              0,
              "#0d0887"
             ],
             [
              0.1111111111111111,
              "#46039f"
             ],
             [
              0.2222222222222222,
              "#7201a8"
             ],
             [
              0.3333333333333333,
              "#9c179e"
             ],
             [
              0.4444444444444444,
              "#bd3786"
             ],
             [
              0.5555555555555556,
              "#d8576b"
             ],
             [
              0.6666666666666666,
              "#ed7953"
             ],
             [
              0.7777777777777778,
              "#fb9f3a"
             ],
             [
              0.8888888888888888,
              "#fdca26"
             ],
             [
              1,
              "#f0f921"
             ]
            ],
            "type": "histogram2dcontour"
           }
          ],
          "mesh3d": [
           {
            "colorbar": {
             "outlinewidth": 0,
             "ticks": ""
            },
            "type": "mesh3d"
           }
          ],
          "parcoords": [
           {
            "line": {
             "colorbar": {
              "outlinewidth": 0,
              "ticks": ""
             }
            },
            "type": "parcoords"
           }
          ],
          "pie": [
           {
            "automargin": true,
            "type": "pie"
           }
          ],
          "scatter": [
           {
            "fillpattern": {
             "fillmode": "overlay",
             "size": 10,
             "solidity": 0.2
            },
            "type": "scatter"
           }
          ],
          "scatter3d": [
           {
            "line": {
             "colorbar": {
              "outlinewidth": 0,
              "ticks": ""
             }
            },
            "marker": {
             "colorbar": {
              "outlinewidth": 0,
              "ticks": ""
             }
            },
            "type": "scatter3d"
           }
          ],
          "scattercarpet": [
           {
            "marker": {
             "colorbar": {
              "outlinewidth": 0,
              "ticks": ""
             }
            },
            "type": "scattercarpet"
           }
          ],
          "scattergeo": [
           {
            "marker": {
             "colorbar": {
              "outlinewidth": 0,
              "ticks": ""
             }
            },
            "type": "scattergeo"
           }
          ],
          "scattergl": [
           {
            "marker": {
             "colorbar": {
              "outlinewidth": 0,
              "ticks": ""
             }
            },
            "type": "scattergl"
           }
          ],
          "scattermapbox": [
           {
            "marker": {
             "colorbar": {
              "outlinewidth": 0,
              "ticks": ""
             }
            },
            "type": "scattermapbox"
           }
          ],
          "scatterpolar": [
           {
            "marker": {
             "colorbar": {
              "outlinewidth": 0,
              "ticks": ""
             }
            },
            "type": "scatterpolar"
           }
          ],
          "scatterpolargl": [
           {
            "marker": {
             "colorbar": {
              "outlinewidth": 0,
              "ticks": ""
             }
            },
            "type": "scatterpolargl"
           }
          ],
          "scatterternary": [
           {
            "marker": {
             "colorbar": {
              "outlinewidth": 0,
              "ticks": ""
             }
            },
            "type": "scatterternary"
           }
          ],
          "surface": [
           {
            "colorbar": {
             "outlinewidth": 0,
             "ticks": ""
            },
            "colorscale": [
             [
              0,
              "#0d0887"
             ],
             [
              0.1111111111111111,
              "#46039f"
             ],
             [
              0.2222222222222222,
              "#7201a8"
             ],
             [
              0.3333333333333333,
              "#9c179e"
             ],
             [
              0.4444444444444444,
              "#bd3786"
             ],
             [
              0.5555555555555556,
              "#d8576b"
             ],
             [
              0.6666666666666666,
              "#ed7953"
             ],
             [
              0.7777777777777778,
              "#fb9f3a"
             ],
             [
              0.8888888888888888,
              "#fdca26"
             ],
             [
              1,
              "#f0f921"
             ]
            ],
            "type": "surface"
           }
          ],
          "table": [
           {
            "cells": {
             "fill": {
              "color": "#EBF0F8"
             },
             "line": {
              "color": "white"
             }
            },
            "header": {
             "fill": {
              "color": "#C8D4E3"
             },
             "line": {
              "color": "white"
             }
            },
            "type": "table"
           }
          ]
         },
         "layout": {
          "annotationdefaults": {
           "arrowcolor": "#2a3f5f",
           "arrowhead": 0,
           "arrowwidth": 1
          },
          "autotypenumbers": "strict",
          "coloraxis": {
           "colorbar": {
            "outlinewidth": 0,
            "ticks": ""
           }
          },
          "colorscale": {
           "diverging": [
            [
             0,
             "#8e0152"
            ],
            [
             0.1,
             "#c51b7d"
            ],
            [
             0.2,
             "#de77ae"
            ],
            [
             0.3,
             "#f1b6da"
            ],
            [
             0.4,
             "#fde0ef"
            ],
            [
             0.5,
             "#f7f7f7"
            ],
            [
             0.6,
             "#e6f5d0"
            ],
            [
             0.7,
             "#b8e186"
            ],
            [
             0.8,
             "#7fbc41"
            ],
            [
             0.9,
             "#4d9221"
            ],
            [
             1,
             "#276419"
            ]
           ],
           "sequential": [
            [
             0,
             "#0d0887"
            ],
            [
             0.1111111111111111,
             "#46039f"
            ],
            [
             0.2222222222222222,
             "#7201a8"
            ],
            [
             0.3333333333333333,
             "#9c179e"
            ],
            [
             0.4444444444444444,
             "#bd3786"
            ],
            [
             0.5555555555555556,
             "#d8576b"
            ],
            [
             0.6666666666666666,
             "#ed7953"
            ],
            [
             0.7777777777777778,
             "#fb9f3a"
            ],
            [
             0.8888888888888888,
             "#fdca26"
            ],
            [
             1,
             "#f0f921"
            ]
           ],
           "sequentialminus": [
            [
             0,
             "#0d0887"
            ],
            [
             0.1111111111111111,
             "#46039f"
            ],
            [
             0.2222222222222222,
             "#7201a8"
            ],
            [
             0.3333333333333333,
             "#9c179e"
            ],
            [
             0.4444444444444444,
             "#bd3786"
            ],
            [
             0.5555555555555556,
             "#d8576b"
            ],
            [
             0.6666666666666666,
             "#ed7953"
            ],
            [
             0.7777777777777778,
             "#fb9f3a"
            ],
            [
             0.8888888888888888,
             "#fdca26"
            ],
            [
             1,
             "#f0f921"
            ]
           ]
          },
          "colorway": [
           "#636efa",
           "#EF553B",
           "#00cc96",
           "#ab63fa",
           "#FFA15A",
           "#19d3f3",
           "#FF6692",
           "#B6E880",
           "#FF97FF",
           "#FECB52"
          ],
          "font": {
           "color": "#2a3f5f"
          },
          "geo": {
           "bgcolor": "white",
           "lakecolor": "white",
           "landcolor": "#E5ECF6",
           "showlakes": true,
           "showland": true,
           "subunitcolor": "white"
          },
          "hoverlabel": {
           "align": "left"
          },
          "hovermode": "closest",
          "mapbox": {
           "style": "light"
          },
          "paper_bgcolor": "white",
          "plot_bgcolor": "#E5ECF6",
          "polar": {
           "angularaxis": {
            "gridcolor": "white",
            "linecolor": "white",
            "ticks": ""
           },
           "bgcolor": "#E5ECF6",
           "radialaxis": {
            "gridcolor": "white",
            "linecolor": "white",
            "ticks": ""
           }
          },
          "scene": {
           "xaxis": {
            "backgroundcolor": "#E5ECF6",
            "gridcolor": "white",
            "gridwidth": 2,
            "linecolor": "white",
            "showbackground": true,
            "ticks": "",
            "zerolinecolor": "white"
           },
           "yaxis": {
            "backgroundcolor": "#E5ECF6",
            "gridcolor": "white",
            "gridwidth": 2,
            "linecolor": "white",
            "showbackground": true,
            "ticks": "",
            "zerolinecolor": "white"
           },
           "zaxis": {
            "backgroundcolor": "#E5ECF6",
            "gridcolor": "white",
            "gridwidth": 2,
            "linecolor": "white",
            "showbackground": true,
            "ticks": "",
            "zerolinecolor": "white"
           }
          },
          "shapedefaults": {
           "line": {
            "color": "#2a3f5f"
           }
          },
          "ternary": {
           "aaxis": {
            "gridcolor": "white",
            "linecolor": "white",
            "ticks": ""
           },
           "baxis": {
            "gridcolor": "white",
            "linecolor": "white",
            "ticks": ""
           },
           "bgcolor": "#E5ECF6",
           "caxis": {
            "gridcolor": "white",
            "linecolor": "white",
            "ticks": ""
           }
          },
          "title": {
           "x": 0.05
          },
          "xaxis": {
           "automargin": true,
           "gridcolor": "white",
           "linecolor": "white",
           "ticks": "",
           "title": {
            "standoff": 15
           },
           "zerolinecolor": "white",
           "zerolinewidth": 2
          },
          "yaxis": {
           "automargin": true,
           "gridcolor": "white",
           "linecolor": "white",
           "ticks": "",
           "title": {
            "standoff": 15
           },
           "zerolinecolor": "white",
           "zerolinewidth": 2
          }
         }
        },
        "title": {
         "font": {
          "size": 18
         },
         "text": "TATAPOWER"
        }
       }
      },
      "text/html": [
       "<div>                            <div id=\"e8211bd3-4375-467f-9a46-ac3a70412d1e\" class=\"plotly-graph-div\" style=\"height:525px; width:100%;\"></div>            <script type=\"text/javascript\">                require([\"plotly\"], function(Plotly) {                    window.PLOTLYENV=window.PLOTLYENV || {};                                    if (document.getElementById(\"e8211bd3-4375-467f-9a46-ac3a70412d1e\")) {                    Plotly.newPlot(                        \"e8211bd3-4375-467f-9a46-ac3a70412d1e\",                        [{\"close\":[198.5,201.1,201.75,203.8,203.85,200.15,202.7,203.3,204.15,206.3,207.05,208.15,211.35,207.75,204.6,205.85,206.2,206.9,207.15,210.8,212.2,217.0,216.9,213.55,215.3,215.65,219.05,216.75,218.45,220.65,221.2,220.95,221.8,224.15,220.6,222.25,223.15,224.95,224.3,221.1,218.3,218.6,219.25,218.05,221.85,221.9,220.65,221.7,229.6,228.0],\"high\":[199.95,201.55,202.95,204.25,204.55,205.6,203.2,205.1,204.45,207.2,207.8,209.4,215.0,212.4,209.7,206.5,206.9,207.45,208.0,211.2,213.8,217.7,218.45,219.0,217.0,216.9,219.4,219.8,219.65,226.2,224.6,223.55,222.8,225.25,224.65,223.7,224.15,226.35,226.0,225.15,222.1,219.35,220.5,220.95,222.5,224.2,223.3,223.75,230.3,232.35],\"low\":[197.65,199.0,200.4,200.45,202.1,199.4,199.5,202.4,202.2,204.15,206.15,206.45,208.2,206.85,204.1,201.8,204.1,205.5,205.55,206.55,210.65,211.7,215.0,212.9,213.0,215.0,216.15,215.55,214.1,218.45,220.2,220.35,220.85,221.55,220.15,220.9,221.0,222.6,222.6,220.5,215.7,216.3,218.6,217.55,218.85,221.6,220.2,220.55,223.55,226.1],\"open\":[198.45,199.5,201.95,201.8,203.9,203.9,201.5,203.75,203.5,204.5,206.85,207.65,208.85,212.4,209.0,206.3,206.0,206.5,206.65,207.2,212.25,213.0,218.0,216.9,213.95,216.4,217.0,219.8,216.6,218.95,224.6,221.95,221.5,222.5,224.4,221.9,223.0,223.1,225.25,224.85,222.0,218.3,218.9,219.95,219.7,222.9,222.1,220.95,225.0,229.8],\"x\":[445,446,447,448,449,450,451,452,453,454,455,456,457,458,459,460,461,462,463,464,465,466,467,468,469,470,471,472,473,474,475,476,477,478,479,480,481,482,483,484,485,486,487,488,489,490,491,492,493,494],\"type\":\"candlestick\"},{\"marker\":{\"color\":\"darkgreen\",\"size\":7},\"mode\":\"markers\",\"name\":\"target\",\"x\":[445,446,447,448,449,450,451,452,453,454,455,456,457,458,459,460,461,462,463,464,465,466,467,468,469,470,471,472,473,474,475,476,477,478,479,480,481,482,483,484,485,486,487,488,489,490,491,492,493,494],\"y\":[null,null,null,null,null,null,null,null,null,null,null,null,null,null,208.14715909090904,null,null,null,null,null,null,null,null,null,null,null,null,null,null,null,null,null,null,null,null,null,null,null,null,null,224.84715909090912,null,null,null,null,null,null,null,null,null],\"type\":\"scatter\"},{\"marker\":{\"color\":\"darkred\",\"size\":7},\"mode\":\"markers\",\"name\":\"stoploss\",\"x\":[445,446,447,448,449,450,451,452,453,454,455,456,457,458,459,460,461,462,463,464,465,466,467,468,469,470,471,472,473,474,475,476,477,478,479,480,481,482,483,484,485,486,487,488,489,490,491,492,493,494],\"y\":[null,null,null,null,null,null,null,null,null,null,null,null,null,null,203.54,null,null,null,null,null,null,null,null,null,null,null,null,null,null,null,null,null,null,null,null,null,null,null,null,null,215.06,null,null,null,null,null,null,null,null,null],\"type\":\"scatter\"}],                        {\"template\":{\"data\":{\"histogram2dcontour\":[{\"type\":\"histogram2dcontour\",\"colorbar\":{\"outlinewidth\":0,\"ticks\":\"\"},\"colorscale\":[[0.0,\"#0d0887\"],[0.1111111111111111,\"#46039f\"],[0.2222222222222222,\"#7201a8\"],[0.3333333333333333,\"#9c179e\"],[0.4444444444444444,\"#bd3786\"],[0.5555555555555556,\"#d8576b\"],[0.6666666666666666,\"#ed7953\"],[0.7777777777777778,\"#fb9f3a\"],[0.8888888888888888,\"#fdca26\"],[1.0,\"#f0f921\"]]}],\"choropleth\":[{\"type\":\"choropleth\",\"colorbar\":{\"outlinewidth\":0,\"ticks\":\"\"}}],\"histogram2d\":[{\"type\":\"histogram2d\",\"colorbar\":{\"outlinewidth\":0,\"ticks\":\"\"},\"colorscale\":[[0.0,\"#0d0887\"],[0.1111111111111111,\"#46039f\"],[0.2222222222222222,\"#7201a8\"],[0.3333333333333333,\"#9c179e\"],[0.4444444444444444,\"#bd3786\"],[0.5555555555555556,\"#d8576b\"],[0.6666666666666666,\"#ed7953\"],[0.7777777777777778,\"#fb9f3a\"],[0.8888888888888888,\"#fdca26\"],[1.0,\"#f0f921\"]]}],\"heatmap\":[{\"type\":\"heatmap\",\"colorbar\":{\"outlinewidth\":0,\"ticks\":\"\"},\"colorscale\":[[0.0,\"#0d0887\"],[0.1111111111111111,\"#46039f\"],[0.2222222222222222,\"#7201a8\"],[0.3333333333333333,\"#9c179e\"],[0.4444444444444444,\"#bd3786\"],[0.5555555555555556,\"#d8576b\"],[0.6666666666666666,\"#ed7953\"],[0.7777777777777778,\"#fb9f3a\"],[0.8888888888888888,\"#fdca26\"],[1.0,\"#f0f921\"]]}],\"heatmapgl\":[{\"type\":\"heatmapgl\",\"colorbar\":{\"outlinewidth\":0,\"ticks\":\"\"},\"colorscale\":[[0.0,\"#0d0887\"],[0.1111111111111111,\"#46039f\"],[0.2222222222222222,\"#7201a8\"],[0.3333333333333333,\"#9c179e\"],[0.4444444444444444,\"#bd3786\"],[0.5555555555555556,\"#d8576b\"],[0.6666666666666666,\"#ed7953\"],[0.7777777777777778,\"#fb9f3a\"],[0.8888888888888888,\"#fdca26\"],[1.0,\"#f0f921\"]]}],\"contourcarpet\":[{\"type\":\"contourcarpet\",\"colorbar\":{\"outlinewidth\":0,\"ticks\":\"\"}}],\"contour\":[{\"type\":\"contour\",\"colorbar\":{\"outlinewidth\":0,\"ticks\":\"\"},\"colorscale\":[[0.0,\"#0d0887\"],[0.1111111111111111,\"#46039f\"],[0.2222222222222222,\"#7201a8\"],[0.3333333333333333,\"#9c179e\"],[0.4444444444444444,\"#bd3786\"],[0.5555555555555556,\"#d8576b\"],[0.6666666666666666,\"#ed7953\"],[0.7777777777777778,\"#fb9f3a\"],[0.8888888888888888,\"#fdca26\"],[1.0,\"#f0f921\"]]}],\"surface\":[{\"type\":\"surface\",\"colorbar\":{\"outlinewidth\":0,\"ticks\":\"\"},\"colorscale\":[[0.0,\"#0d0887\"],[0.1111111111111111,\"#46039f\"],[0.2222222222222222,\"#7201a8\"],[0.3333333333333333,\"#9c179e\"],[0.4444444444444444,\"#bd3786\"],[0.5555555555555556,\"#d8576b\"],[0.6666666666666666,\"#ed7953\"],[0.7777777777777778,\"#fb9f3a\"],[0.8888888888888888,\"#fdca26\"],[1.0,\"#f0f921\"]]}],\"mesh3d\":[{\"type\":\"mesh3d\",\"colorbar\":{\"outlinewidth\":0,\"ticks\":\"\"}}],\"scatter\":[{\"fillpattern\":{\"fillmode\":\"overlay\",\"size\":10,\"solidity\":0.2},\"type\":\"scatter\"}],\"parcoords\":[{\"type\":\"parcoords\",\"line\":{\"colorbar\":{\"outlinewidth\":0,\"ticks\":\"\"}}}],\"scatterpolargl\":[{\"type\":\"scatterpolargl\",\"marker\":{\"colorbar\":{\"outlinewidth\":0,\"ticks\":\"\"}}}],\"bar\":[{\"error_x\":{\"color\":\"#2a3f5f\"},\"error_y\":{\"color\":\"#2a3f5f\"},\"marker\":{\"line\":{\"color\":\"#E5ECF6\",\"width\":0.5},\"pattern\":{\"fillmode\":\"overlay\",\"size\":10,\"solidity\":0.2}},\"type\":\"bar\"}],\"scattergeo\":[{\"type\":\"scattergeo\",\"marker\":{\"colorbar\":{\"outlinewidth\":0,\"ticks\":\"\"}}}],\"scatterpolar\":[{\"type\":\"scatterpolar\",\"marker\":{\"colorbar\":{\"outlinewidth\":0,\"ticks\":\"\"}}}],\"histogram\":[{\"marker\":{\"pattern\":{\"fillmode\":\"overlay\",\"size\":10,\"solidity\":0.2}},\"type\":\"histogram\"}],\"scattergl\":[{\"type\":\"scattergl\",\"marker\":{\"colorbar\":{\"outlinewidth\":0,\"ticks\":\"\"}}}],\"scatter3d\":[{\"type\":\"scatter3d\",\"line\":{\"colorbar\":{\"outlinewidth\":0,\"ticks\":\"\"}},\"marker\":{\"colorbar\":{\"outlinewidth\":0,\"ticks\":\"\"}}}],\"scattermapbox\":[{\"type\":\"scattermapbox\",\"marker\":{\"colorbar\":{\"outlinewidth\":0,\"ticks\":\"\"}}}],\"scatterternary\":[{\"type\":\"scatterternary\",\"marker\":{\"colorbar\":{\"outlinewidth\":0,\"ticks\":\"\"}}}],\"scattercarpet\":[{\"type\":\"scattercarpet\",\"marker\":{\"colorbar\":{\"outlinewidth\":0,\"ticks\":\"\"}}}],\"carpet\":[{\"aaxis\":{\"endlinecolor\":\"#2a3f5f\",\"gridcolor\":\"white\",\"linecolor\":\"white\",\"minorgridcolor\":\"white\",\"startlinecolor\":\"#2a3f5f\"},\"baxis\":{\"endlinecolor\":\"#2a3f5f\",\"gridcolor\":\"white\",\"linecolor\":\"white\",\"minorgridcolor\":\"white\",\"startlinecolor\":\"#2a3f5f\"},\"type\":\"carpet\"}],\"table\":[{\"cells\":{\"fill\":{\"color\":\"#EBF0F8\"},\"line\":{\"color\":\"white\"}},\"header\":{\"fill\":{\"color\":\"#C8D4E3\"},\"line\":{\"color\":\"white\"}},\"type\":\"table\"}],\"barpolar\":[{\"marker\":{\"line\":{\"color\":\"#E5ECF6\",\"width\":0.5},\"pattern\":{\"fillmode\":\"overlay\",\"size\":10,\"solidity\":0.2}},\"type\":\"barpolar\"}],\"pie\":[{\"automargin\":true,\"type\":\"pie\"}]},\"layout\":{\"autotypenumbers\":\"strict\",\"colorway\":[\"#636efa\",\"#EF553B\",\"#00cc96\",\"#ab63fa\",\"#FFA15A\",\"#19d3f3\",\"#FF6692\",\"#B6E880\",\"#FF97FF\",\"#FECB52\"],\"font\":{\"color\":\"#2a3f5f\"},\"hovermode\":\"closest\",\"hoverlabel\":{\"align\":\"left\"},\"paper_bgcolor\":\"white\",\"plot_bgcolor\":\"#E5ECF6\",\"polar\":{\"bgcolor\":\"#E5ECF6\",\"angularaxis\":{\"gridcolor\":\"white\",\"linecolor\":\"white\",\"ticks\":\"\"},\"radialaxis\":{\"gridcolor\":\"white\",\"linecolor\":\"white\",\"ticks\":\"\"}},\"ternary\":{\"bgcolor\":\"#E5ECF6\",\"aaxis\":{\"gridcolor\":\"white\",\"linecolor\":\"white\",\"ticks\":\"\"},\"baxis\":{\"gridcolor\":\"white\",\"linecolor\":\"white\",\"ticks\":\"\"},\"caxis\":{\"gridcolor\":\"white\",\"linecolor\":\"white\",\"ticks\":\"\"}},\"coloraxis\":{\"colorbar\":{\"outlinewidth\":0,\"ticks\":\"\"}},\"colorscale\":{\"sequential\":[[0.0,\"#0d0887\"],[0.1111111111111111,\"#46039f\"],[0.2222222222222222,\"#7201a8\"],[0.3333333333333333,\"#9c179e\"],[0.4444444444444444,\"#bd3786\"],[0.5555555555555556,\"#d8576b\"],[0.6666666666666666,\"#ed7953\"],[0.7777777777777778,\"#fb9f3a\"],[0.8888888888888888,\"#fdca26\"],[1.0,\"#f0f921\"]],\"sequentialminus\":[[0.0,\"#0d0887\"],[0.1111111111111111,\"#46039f\"],[0.2222222222222222,\"#7201a8\"],[0.3333333333333333,\"#9c179e\"],[0.4444444444444444,\"#bd3786\"],[0.5555555555555556,\"#d8576b\"],[0.6666666666666666,\"#ed7953\"],[0.7777777777777778,\"#fb9f3a\"],[0.8888888888888888,\"#fdca26\"],[1.0,\"#f0f921\"]],\"diverging\":[[0,\"#8e0152\"],[0.1,\"#c51b7d\"],[0.2,\"#de77ae\"],[0.3,\"#f1b6da\"],[0.4,\"#fde0ef\"],[0.5,\"#f7f7f7\"],[0.6,\"#e6f5d0\"],[0.7,\"#b8e186\"],[0.8,\"#7fbc41\"],[0.9,\"#4d9221\"],[1,\"#276419\"]]},\"xaxis\":{\"gridcolor\":\"white\",\"linecolor\":\"white\",\"ticks\":\"\",\"title\":{\"standoff\":15},\"zerolinecolor\":\"white\",\"automargin\":true,\"zerolinewidth\":2},\"yaxis\":{\"gridcolor\":\"white\",\"linecolor\":\"white\",\"ticks\":\"\",\"title\":{\"standoff\":15},\"zerolinecolor\":\"white\",\"automargin\":true,\"zerolinewidth\":2},\"scene\":{\"xaxis\":{\"backgroundcolor\":\"#E5ECF6\",\"gridcolor\":\"white\",\"linecolor\":\"white\",\"showbackground\":true,\"ticks\":\"\",\"zerolinecolor\":\"white\",\"gridwidth\":2},\"yaxis\":{\"backgroundcolor\":\"#E5ECF6\",\"gridcolor\":\"white\",\"linecolor\":\"white\",\"showbackground\":true,\"ticks\":\"\",\"zerolinecolor\":\"white\",\"gridwidth\":2},\"zaxis\":{\"backgroundcolor\":\"#E5ECF6\",\"gridcolor\":\"white\",\"linecolor\":\"white\",\"showbackground\":true,\"ticks\":\"\",\"zerolinecolor\":\"white\",\"gridwidth\":2}},\"shapedefaults\":{\"line\":{\"color\":\"#2a3f5f\"}},\"annotationdefaults\":{\"arrowcolor\":\"#2a3f5f\",\"arrowhead\":0,\"arrowwidth\":1},\"geo\":{\"bgcolor\":\"white\",\"landcolor\":\"#E5ECF6\",\"subunitcolor\":\"white\",\"showland\":true,\"showlakes\":true,\"lakecolor\":\"white\"},\"title\":{\"x\":0.05},\"mapbox\":{\"style\":\"light\"}}},\"shapes\":[{\"layer\":\"below\",\"line\":{\"color\":\"blue\"},\"type\":\"line\",\"x0\":443,\"x1\":497,\"xref\":\"x\",\"y0\":201.4,\"y1\":201.4,\"yref\":\"y\"},{\"layer\":\"below\",\"line\":{\"color\":\"blue\"},\"type\":\"line\",\"x0\":443,\"x1\":497,\"xref\":\"x\",\"y0\":213.1,\"y1\":213.1,\"yref\":\"y\"},{\"layer\":\"below\",\"line\":{\"color\":\"blue\"},\"type\":\"line\",\"x0\":443,\"x1\":497,\"xref\":\"x\",\"y0\":202.8,\"y1\":202.8,\"yref\":\"y\"},{\"layer\":\"below\",\"line\":{\"color\":\"blue\"},\"type\":\"line\",\"x0\":443,\"x1\":497,\"xref\":\"x\",\"y0\":216.0,\"y1\":216.0,\"yref\":\"y\"},{\"layer\":\"below\",\"line\":{\"color\":\"blue\"},\"type\":\"line\",\"x0\":443,\"x1\":497,\"xref\":\"x\",\"y0\":223.0,\"y1\":223.0,\"yref\":\"y\"},{\"layer\":\"below\",\"line\":{\"color\":\"blue\"},\"type\":\"line\",\"x0\":443,\"x1\":497,\"xref\":\"x\",\"y0\":216.0,\"y1\":216.0,\"yref\":\"y\"},{\"layer\":\"below\",\"line\":{\"color\":\"blue\"},\"type\":\"line\",\"x0\":443,\"x1\":497,\"xref\":\"x\",\"y0\":203.25,\"y1\":203.25,\"yref\":\"y\"},{\"layer\":\"below\",\"line\":{\"color\":\"blue\"},\"type\":\"line\",\"x0\":443,\"x1\":497,\"xref\":\"x\",\"y0\":212.25,\"y1\":212.25,\"yref\":\"y\"},{\"layer\":\"below\",\"line\":{\"color\":\"blue\"},\"type\":\"line\",\"x0\":443,\"x1\":497,\"xref\":\"x\",\"y0\":225.3,\"y1\":225.3,\"yref\":\"y\"},{\"layer\":\"below\",\"line\":{\"color\":\"blue\"},\"type\":\"line\",\"x0\":443,\"x1\":497,\"xref\":\"x\",\"y0\":217.05,\"y1\":217.05,\"yref\":\"y\"},{\"layer\":\"below\",\"line\":{\"color\":\"blue\"},\"type\":\"line\",\"x0\":443,\"x1\":497,\"xref\":\"x\",\"y0\":210.2,\"y1\":210.2,\"yref\":\"y\"},{\"layer\":\"below\",\"line\":{\"color\":\"blue\"},\"type\":\"line\",\"x0\":443,\"x1\":497,\"xref\":\"x\",\"y0\":227.55,\"y1\":227.55,\"yref\":\"y\"},{\"layer\":\"below\",\"line\":{\"color\":\"blue\"},\"type\":\"line\",\"x0\":443,\"x1\":497,\"xref\":\"x\",\"y0\":200.6,\"y1\":200.6,\"yref\":\"y\"},{\"layer\":\"below\",\"line\":{\"color\":\"blue\"},\"type\":\"line\",\"x0\":443,\"x1\":497,\"xref\":\"x\",\"y0\":215.5,\"y1\":215.5,\"yref\":\"y\"},{\"layer\":\"below\",\"line\":{\"color\":\"blue\"},\"type\":\"line\",\"x0\":443,\"x1\":497,\"xref\":\"x\",\"y0\":221.65,\"y1\":221.65,\"yref\":\"y\"},{\"layer\":\"below\",\"line\":{\"color\":\"blue\"},\"type\":\"line\",\"x0\":443,\"x1\":497,\"xref\":\"x\",\"y0\":210.25,\"y1\":210.25,\"yref\":\"y\"},{\"layer\":\"below\",\"line\":{\"color\":\"blue\"},\"type\":\"line\",\"x0\":443,\"x1\":497,\"xref\":\"x\",\"y0\":213.5,\"y1\":213.5,\"yref\":\"y\"},{\"layer\":\"below\",\"line\":{\"color\":\"blue\"},\"type\":\"line\",\"x0\":443,\"x1\":497,\"xref\":\"x\",\"y0\":218.4,\"y1\":218.4,\"yref\":\"y\"},{\"layer\":\"below\",\"line\":{\"color\":\"blue\"},\"type\":\"line\",\"x0\":443,\"x1\":497,\"xref\":\"x\",\"y0\":203.8,\"y1\":203.8,\"yref\":\"y\"},{\"layer\":\"below\",\"line\":{\"color\":\"blue\"},\"type\":\"line\",\"x0\":443,\"x1\":497,\"xref\":\"x\",\"y0\":196.65,\"y1\":196.65,\"yref\":\"y\"},{\"layer\":\"below\",\"line\":{\"color\":\"blue\"},\"type\":\"line\",\"x0\":443,\"x1\":497,\"xref\":\"x\",\"y0\":201.85,\"y1\":201.85,\"yref\":\"y\"},{\"layer\":\"below\",\"line\":{\"color\":\"blue\"},\"type\":\"line\",\"x0\":443,\"x1\":497,\"xref\":\"x\",\"y0\":197.5,\"y1\":197.5,\"yref\":\"y\"},{\"layer\":\"below\",\"line\":{\"color\":\"blue\"},\"type\":\"line\",\"x0\":443,\"x1\":497,\"xref\":\"x\",\"y0\":201.8,\"y1\":201.8,\"yref\":\"y\"},{\"layer\":\"below\",\"line\":{\"color\":\"blue\"},\"type\":\"line\",\"x0\":443,\"x1\":497,\"xref\":\"x\",\"y0\":220.15,\"y1\":220.15,\"yref\":\"y\"},{\"layer\":\"below\",\"line\":{\"color\":\"blue\"},\"type\":\"line\",\"x0\":443,\"x1\":497,\"xref\":\"x\",\"y0\":215.7,\"y1\":215.7,\"yref\":\"y\"},{\"layer\":\"below\",\"line\":{\"color\":\"blue\"},\"type\":\"line\",\"x0\":443,\"x1\":497,\"xref\":\"x\",\"y0\":211.6,\"y1\":211.6,\"yref\":\"y\"},{\"layer\":\"below\",\"line\":{\"color\":\"blue\"},\"type\":\"line\",\"x0\":443,\"x1\":497,\"xref\":\"x\",\"y0\":234.0,\"y1\":234.0,\"yref\":\"y\"},{\"layer\":\"below\",\"line\":{\"color\":\"blue\"},\"type\":\"line\",\"x0\":443,\"x1\":497,\"xref\":\"x\",\"y0\":223.25,\"y1\":223.25,\"yref\":\"y\"},{\"layer\":\"below\",\"line\":{\"color\":\"blue\"},\"type\":\"line\",\"x0\":443,\"x1\":497,\"xref\":\"x\",\"y0\":234.5,\"y1\":234.5,\"yref\":\"y\"},{\"layer\":\"below\",\"line\":{\"color\":\"blue\"},\"type\":\"line\",\"x0\":443,\"x1\":497,\"xref\":\"x\",\"y0\":230.3,\"y1\":230.3,\"yref\":\"y\"},{\"layer\":\"below\",\"line\":{\"color\":\"blue\"},\"type\":\"line\",\"x0\":443,\"x1\":497,\"xref\":\"x\",\"y0\":213.0,\"y1\":213.0,\"yref\":\"y\"},{\"layer\":\"below\",\"line\":{\"color\":\"blue\"},\"type\":\"line\",\"x0\":443,\"x1\":497,\"xref\":\"x\",\"y0\":208.5,\"y1\":208.5,\"yref\":\"y\"},{\"layer\":\"below\",\"line\":{\"color\":\"blue\"},\"type\":\"line\",\"x0\":443,\"x1\":497,\"xref\":\"x\",\"y0\":215.4,\"y1\":215.4,\"yref\":\"y\"},{\"layer\":\"below\",\"line\":{\"color\":\"blue\"},\"type\":\"line\",\"x0\":443,\"x1\":497,\"xref\":\"x\",\"y0\":209.75,\"y1\":209.75,\"yref\":\"y\"},{\"layer\":\"below\",\"line\":{\"color\":\"blue\"},\"type\":\"line\",\"x0\":443,\"x1\":497,\"xref\":\"x\",\"y0\":212.9,\"y1\":212.9,\"yref\":\"y\"},{\"layer\":\"below\",\"line\":{\"color\":\"blue\"},\"type\":\"line\",\"x0\":443,\"x1\":497,\"xref\":\"x\",\"y0\":198.6,\"y1\":198.6,\"yref\":\"y\"},{\"layer\":\"below\",\"line\":{\"color\":\"blue\"},\"type\":\"line\",\"x0\":443,\"x1\":497,\"xref\":\"x\",\"y0\":215.0,\"y1\":215.0,\"yref\":\"y\"},{\"layer\":\"below\",\"line\":{\"color\":\"blue\"},\"type\":\"line\",\"x0\":443,\"x1\":497,\"xref\":\"x\",\"y0\":226.2,\"y1\":226.2,\"yref\":\"y\"}],\"title\":{\"font\":{\"size\":18},\"text\":\"TATAPOWER\"}},                        {\"responsive\": true}                    ).then(function(){\n",
       "                            \n",
       "var gd = document.getElementById('e8211bd3-4375-467f-9a46-ac3a70412d1e');\n",
       "var x = new MutationObserver(function (mutations, observer) {{\n",
       "        var display = window.getComputedStyle(gd).display;\n",
       "        if (!display || display === 'none') {{\n",
       "            console.log([gd, 'removed!']);\n",
       "            Plotly.purge(gd);\n",
       "            observer.disconnect();\n",
       "        }}\n",
       "}});\n",
       "\n",
       "// Listen for the removal of the full notebook cells\n",
       "var notebookContainer = gd.closest('#notebook-container');\n",
       "if (notebookContainer) {{\n",
       "    x.observe(notebookContainer, {childList: true});\n",
       "}}\n",
       "\n",
       "// Listen for the clearing of the current output cell\n",
       "var outputEl = gd.closest('.output');\n",
       "if (outputEl) {{\n",
       "    x.observe(outputEl, {childList: true});\n",
       "}}\n",
       "\n",
       "                        })                };                });            </script>        </div>"
      ]
     },
     "metadata": {},
     "output_type": "display_data"
    }
   ],
   "source": [
    "indicator.showIndicator(len(indicator.df.index))"
   ]
  }
 ],
 "metadata": {
  "kernelspec": {
   "display_name": "Python 3 (ipykernel)",
   "language": "python",
   "name": "python3"
  },
  "language_info": {
   "codemirror_mode": {
    "name": "ipython",
    "version": 3
   },
   "file_extension": ".py",
   "mimetype": "text/x-python",
   "name": "python",
   "nbconvert_exporter": "python",
   "pygments_lexer": "ipython3",
   "version": "3.10.10"
  }
 },
 "nbformat": 4,
 "nbformat_minor": 2
}
