{
 "cells": [
  {
   "cell_type": "code",
   "execution_count": 2,
   "id": "e06b81ca",
   "metadata": {
    "vscode": {
     "languageId": "plaintext"
    }
   },
   "outputs": [],
   "source": [
    "import os\n",
    "import sys\n",
    "module_path = os.path.abspath(os.path.join('..'))\n",
    "if module_path not in sys.path:\n",
    "    sys.path.append(module_path)\n",
    "    \n",
    "from main import TradingBot\n",
    "from trading import PaperTrading\n",
    "\n",
    "tb = TradingBot()\n",
    "pt = PaperTrading(tb)"
   ]
  },
  {
   "cell_type": "code",
   "execution_count": 5,
   "id": "a560dac6",
   "metadata": {},
   "outputs": [
    {
     "name": "stderr",
     "output_type": "stream",
     "text": [
      "100%|██████████| 100/100 [00:02<00:00, 36.76it/s]\n",
      "100%|██████████| 2/2 [00:00<00:00, 40.27it/s]\n",
      "100%|██████████| 102/102 [01:44<00:00,  1.03s/it]\n"
     ]
    }
   ],
   "source": [
    "tb.loadData(timePeriod='2y', label='NIFTY 100', forceUpdate=True)\n",
    "tb.computeSignal()"
   ]
  },
  {
   "cell_type": "code",
   "execution_count": null,
   "id": "f011edbd",
   "metadata": {},
   "outputs": [],
   "source": [
    "pt.trade()"
   ]
  },
  {
   "cell_type": "code",
   "execution_count": null,
   "id": "49b6aa18",
   "metadata": {},
   "outputs": [],
   "source": [
    "pt.evaluateTrades()"
   ]
  },
  {
   "cell_type": "code",
   "execution_count": null,
   "id": "bcc08f82",
   "metadata": {},
   "outputs": [],
   "source": [
    "# pt.db.read(\"SELECT * FROM orders\")"
   ]
  },
  {
   "cell_type": "code",
   "execution_count": null,
   "id": "34e5a83e",
   "metadata": {},
   "outputs": [],
   "source": [
    "# pt.db.recreateTable()\n",
    "\n",
    "# open positions\n",
    "# pt.db.read(\"SELECT *, ABS(target-strike_price)/ABS(stop_loss-strike_price) as RRR FROM orders\")\n",
    "\n",
    "# month-wise P&L \n",
    "# pt.db.read(\"SELECT SUBSTR(enddate, 1,7) as Month, count(*) as Trades, sum(pnl) as Balance, AVG(ABS(target-strike_price)/ABS(stop_loss-strike_price)) as RRR FROM orders WHERE enddate IS NOT NULL group by SUBSTR(enddate, 1,7)\")\n",
    "\n",
    "# trade duration\n",
    "# pt.db.read(\"SELECT *, CAST((julianday(enddate)-julianday(startdate)) AS INTEGER) as duration FROM orders WHERE enddate IS NOT NULL\")"
   ]
  },
  {
   "cell_type": "code",
   "execution_count": null,
   "id": "e10fd7fe",
   "metadata": {},
   "outputs": [],
   "source": [
    "pt.quiz(rounds=5)"
   ]
  }
 ],
 "metadata": {
  "kernelspec": {
   "display_name": "Python 3 (ipykernel)",
   "language": "python",
   "name": "python3"
  },
  "language_info": {
   "codemirror_mode": {
    "name": "ipython",
    "version": 3
   },
   "file_extension": ".py",
   "mimetype": "text/x-python",
   "name": "python",
   "nbconvert_exporter": "python",
   "pygments_lexer": "ipython3",
   "version": "3.10.10"
  }
 },
 "nbformat": 4,
 "nbformat_minor": 5
}
